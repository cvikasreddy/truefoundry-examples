{
 "cells": [
  {
   "cell_type": "markdown",
   "metadata": {
    "id": "2c6nhZIxSvl2"
   },
   "source": [
    "# 🛠 Setup"
   ]
  },
  {
   "cell_type": "code",
   "execution_count": null,
   "metadata": {
    "id": "rnalU7uLTgmr"
   },
   "outputs": [],
   "source": [
    "pip install -U \"servicefoundry==0.6.6\" \"mlfoundry==0.6.1\""
   ]
  },
  {
   "cell_type": "code",
   "execution_count": 1,
   "metadata": {
    "id": "NN133xapzkt7"
   },
   "outputs": [],
   "source": [
    "import logging\n",
    "[logging.root.removeHandler(h) for h in logging.root.handlers]\n",
    "logging.basicConfig(level=logging.INFO, format='%(asctime)s [%(name)s] %(levelname)-8s %(message)s')"
   ]
  },
  {
   "cell_type": "code",
   "execution_count": 2,
   "metadata": {
    "id": "FmmB5HHfXvES"
   },
   "outputs": [
    {
     "name": "stdout",
     "output_type": "stream",
     "text": [
      "/Users/nikp18/.truefoundry/profiles.json file is deprecated. You can delete this file now.\n",
      "/Users/nikp18/.truefoundry/sessions.json file is deprecated. You can delete this file now.\n",
      "Already logged in to 'https://app.truefoundry.com' as 'nikhil' ('nikhil@truefoundry.com')\n",
      "Please use `sfy login --relogin` or `sfy.login(relogin=True)` to force relogin\n",
      "\n"
     ]
    }
   ],
   "source": [
    "!sfy login"
   ]
  },
  {
   "cell_type": "code",
   "execution_count": 3,
   "metadata": {
    "id": "YyzamMrzNqkS"
   },
   "outputs": [
    {
     "name": "stdout",
     "output_type": "stream",
     "text": [
      "Please enter your API Key,( https://app.truefoundry.com/settings ):-········\n"
     ]
    }
   ],
   "source": [
    "# Copy workspace FQN from https://app.truefoundry.com/workspaces\n",
    "from getpass import getpass\n",
    "\n",
    "WORKSPACE=\"tfy-cluster-euwe1:hardik-ws\"\n",
    "TFY_API_KEY = getpass(\"Please enter your API Key,( https://app.truefoundry.com/settings ):-\")"
   ]
  },
  {
   "cell_type": "markdown",
   "metadata": {
    "id": "5SC-s8sCY-QN"
   },
   "source": [
    "# ⚡ Jobs - Quick Start\n",
    "Here we will create a simple job that counts to 30 sleeping for 1 second every iteration."
   ]
  },
  {
   "cell_type": "code",
   "execution_count": 4,
   "metadata": {
    "id": "elFpXLl2ZS0g"
   },
   "outputs": [
    {
     "name": "stdout",
     "output_type": "stream",
     "text": [
      "/Users/nikp18/work/repos/tempp/truefoundry-examples/end-to-end-examples/demo/simple/job\n"
     ]
    }
   ],
   "source": [
    "!mkdir -p demo/simple/job\n",
    "%cd demo/simple/job"
   ]
  },
  {
   "cell_type": "code",
   "execution_count": 5,
   "metadata": {
    "id": "-i2cZHBJZl2P"
   },
   "outputs": [
    {
     "name": "stdout",
     "output_type": "stream",
     "text": [
      "Writing run.py\n"
     ]
    }
   ],
   "source": [
    "%%writefile run.py\n",
    "\n",
    "import argparse\n",
    "import time\n",
    "\n",
    "\n",
    "def main(limit: int):\n",
    "    for i in range(limit):\n",
    "        print(f\"Running Job: {i + 1}\")\n",
    "        time.sleep(1)\n",
    "\n",
    "if __name__ == '__main__':\n",
    "    parser = argparse.ArgumentParser()\n",
    "    parser.add_argument(\"--limit\", default=10, type=int)\n",
    "    args = parser.parse_args()\n",
    "    main(args.limit)"
   ]
  },
  {
   "cell_type": "code",
   "execution_count": 6,
   "metadata": {
    "id": "ZxqxKsvaaf8e"
   },
   "outputs": [
    {
     "name": "stdout",
     "output_type": "stream",
     "text": [
      "Writing deploy.py\n"
     ]
    }
   ],
   "source": [
    "%%writefile deploy.py\n",
    "\n",
    "import logging\n",
    "\n",
    "from servicefoundry import Build, Job, PythonBuild, Resources\n",
    "\n",
    "logging.basicConfig(level=logging.INFO, format='%(asctime)s %(name)-12s %(levelname)-8s %(message)s', force=True)\n",
    "\n",
    "job = Job(\n",
    "    name=\"counter-job\",\n",
    "    image=Build(build_spec=PythonBuild(command=\"python run.py\")),\n",
    "    resources=Resources(cpu_request=0.5, cpu_limit=1.0)\n",
    ")\n",
    "job.deploy(workspace_fqn=WORKSPACE)"
   ]
  },
  {
   "cell_type": "markdown",
   "metadata": {
    "id": "QNKTerWxZClv"
   },
   "source": [
    "# ☁ Service - Quick Start\n",
    "Here we will take two python functions that use numpy and register them as routes in a deployed web service"
   ]
  },
  {
   "cell_type": "code",
   "execution_count": 7,
   "metadata": {
    "id": "B04Ag0uNYh1w"
   },
   "outputs": [
    {
     "name": "stdout",
     "output_type": "stream",
     "text": [
      "/Users/nikp18/work/repos/tempp/truefoundry-examples/end-to-end-examples\n",
      "/Users/nikp18/work/repos/tempp/truefoundry-examples/end-to-end-examples/demo/simple/service\n"
     ]
    }
   ],
   "source": [
    "%cd ../../..\n",
    "! mkdir -p demo/simple/service\n",
    "%cd demo/simple/service"
   ]
  },
  {
   "cell_type": "code",
   "execution_count": 8,
   "metadata": {
    "id": "xeQ3oqdwbmc9"
   },
   "outputs": [
    {
     "name": "stdout",
     "output_type": "stream",
     "text": [
      "Writing service.py\n"
     ]
    }
   ],
   "source": [
    "%%writefile service.py\n",
    "from fastapi import FastAPI\n",
    "\n",
    "app = FastAPI()\n",
    "\n",
    "\n",
    "@app.get(\"/\")\n",
    "async def root():\n",
    "    return {\"message\": \"Hello World\"}"
   ]
  },
  {
   "cell_type": "code",
   "execution_count": 9,
   "metadata": {
    "id": "PWAF1-s3b51l"
   },
   "outputs": [
    {
     "name": "stdout",
     "output_type": "stream",
     "text": [
      "Writing requirements.txt\n"
     ]
    }
   ],
   "source": [
    "%%writefile requirements.txt\n",
    "fastapi==0.89.1\n",
    "uvicorn==0.20.0"
   ]
  },
  {
   "cell_type": "code",
   "execution_count": 10,
   "metadata": {
    "id": "uOklrgu2bvSU"
   },
   "outputs": [
    {
     "name": "stdout",
     "output_type": "stream",
     "text": [
      "Writing deploy.py\n"
     ]
    }
   ],
   "source": [
    "%%writefile deploy.py\n",
    "import logging\n",
    "\n",
    "from servicefoundry import Build, Service, PythonBuild, Resources\n",
    "\n",
    "logging.basicConfig(level=logging.INFO, format='%(asctime)s %(name)-12s %(levelname)-8s %(message)s', force=True)\n",
    "\n",
    "service = Service(\n",
    "    name=\"fastapi-service\",\n",
    "    image=Build(build_spec=PythonBuild(command=\"uvicorn service:app --host 0.0.0.0 --port 8080\")),\n",
    "    resources=Resources(cpu_request=0.5, cpu_limit=1.0),\n",
    "    ports=[{\"port\": 8080}]\n",
    ")\n",
    "service.deploy(workspace_fqn=WORKSPACE)"
   ]
  },
  {
   "cell_type": "markdown",
   "metadata": {
    "id": "etyus4gpQXlJ"
   },
   "source": [
    "# ☁ Function as Service - Quick Start\n",
    "Here we will take two python functions that use numpy and register them as routes in a deployed web service"
   ]
  },
  {
   "cell_type": "code",
   "execution_count": 15,
   "metadata": {
    "id": "4hXhrrbIQXlW"
   },
   "outputs": [
    {
     "name": "stdout",
     "output_type": "stream",
     "text": [
      "/Users/nikp18/work/repos/tempp/truefoundry-examples/end-to-end-examples/demo/simple/function-service\n"
     ]
    }
   ],
   "source": [
    "# %cd ../../..\n",
    "! mkdir -p demo/simple/function-service\n",
    "%cd demo/simple/function-service"
   ]
  },
  {
   "cell_type": "code",
   "execution_count": 16,
   "metadata": {
    "id": "-e-d9vR5QXlW"
   },
   "outputs": [
    {
     "name": "stdout",
     "output_type": "stream",
     "text": [
      "Writing functions.py\n"
     ]
    }
   ],
   "source": [
    "%%writefile functions.py\n",
    "from typing import List\n",
    "import numpy as np\n",
    "\n",
    "def multiply(a: float, b: float):\n",
    "  return a * b \n",
    "\n",
    "def normal(loc: float, scale: float, size: List[int]):\n",
    "    return np.random.normal(loc=loc, scale=scale, size=size).tolist()\n",
    "\n",
    "def uniform(low: float, high: float, size: List[int]):\n",
    "    return np.random.uniform(low=low, high=high, size=size).tolist()"
   ]
  },
  {
   "cell_type": "code",
   "execution_count": 17,
   "metadata": {
    "id": "hWXkaUqsQXlW"
   },
   "outputs": [
    {
     "name": "stdout",
     "output_type": "stream",
     "text": [
      "Writing requirements.txt\n"
     ]
    }
   ],
   "source": [
    "%%writefile requirements.txt\n",
    "numpy==1.21.6"
   ]
  },
  {
   "cell_type": "code",
   "execution_count": 18,
   "metadata": {
    "id": "zZZLxXVAQXlX"
   },
   "outputs": [
    {
     "name": "stdout",
     "output_type": "stream",
     "text": [
      "Writing deploy.py\n"
     ]
    }
   ],
   "source": [
    "%%writefile deploy.py\n",
    "import logging\n",
    "logging.basicConfig(level=logging.INFO, format='%(asctime)s %(name)-12s %(levelname)-8s %(message)s', force=True)\n",
    "\n",
    "from functions import normal, uniform, multiply\n",
    "from servicefoundry.function_service import FunctionService\n",
    "\n",
    "service = FunctionService(name=\"fn-service\")\n",
    "service.register_function(normal)\n",
    "service.register_function(uniform)\n",
    "service.register_function(multiply)\n",
    "deployment = service.deploy(workspace_fqn=WORKSPACE)"
   ]
  }
 ],
 "metadata": {
  "colab": {
   "collapsed_sections": [
    "etyus4gpQXlJ"
   ],
   "provenance": []
  },
  "kernelspec": {
   "display_name": "Python 3 (ipykernel)",
   "language": "python",
   "name": "python3"
  },
  "language_info": {
   "codemirror_mode": {
    "name": "ipython",
    "version": 3
   },
   "file_extension": ".py",
   "mimetype": "text/x-python",
   "name": "python",
   "nbconvert_exporter": "python",
   "pygments_lexer": "ipython3",
   "version": "3.8.13"
  }
 },
 "nbformat": 4,
 "nbformat_minor": 1
}
