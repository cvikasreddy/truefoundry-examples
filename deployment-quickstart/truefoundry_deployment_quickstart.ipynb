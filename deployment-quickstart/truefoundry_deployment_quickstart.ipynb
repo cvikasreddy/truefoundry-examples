{
 "cells": [
 {
   "cell_type": "markdown",
   "metadata": {},
   "source": [
    "##### This notebook demonstrates a demo of how to deploy services, jobs and python functions on truefoundry platform."
   ]
  },
  {
   "cell_type": "markdown",
   "metadata": {
    "tags": []
   },
   "source": [
    "## Try this Notebook in Google Colab\n",
    "\n",
    "[![Open In Colab](https://colab.research.google.com/assets/colab-badge.svg)](https://colab.research.google.com/github/truefoundry/truefoundry-examples/blob/main/deployment-quickstart/truefoundry_deployment_quickstart.ipynb)"
   ]
  },
  {
   "cell_type": "markdown",
   "metadata": {
    "id": "2c6nhZIxSvl2"
   },
   "source": [
    "# 🛠 Setup"
   ]
  },
  {
   "cell_type": "code",
   "execution_count": null,
   "metadata": {
    "id": "rnalU7uLTgmr"
   },
   "outputs": [],
   "source": [
    "pip install -U \"servicefoundry==0.6.6\" \"mlfoundry==0.6.1\""
   ]
  },
  {
   "cell_type": "code",
   "execution_count": 1,
   "metadata": {
    "id": "NN133xapzkt7"
   },
   "outputs": [],
   "source": [
    "import logging\n",
    "[logging.root.removeHandler(h) for h in logging.root.handlers]\n",
    "logging.basicConfig(level=logging.INFO, format='%(asctime)s [%(name)s] %(levelname)-8s %(message)s')"
   ]
  },
  {
   "cell_type": "code",
   "execution_count": null,
   "metadata": {
    "id": "FmmB5HHfXvES"
   },
   "outputs": [],
   "source": [
    "!sfy login"
   ]
  },
  {
   "cell_type": "code",
   "execution_count": null,
   "metadata": {
    "id": "YyzamMrzNqkS"
   },
   "outputs": [],
   "source": [
    "# Copy workspace FQN from https://app.truefoundry.com/workspaces\n",
    "from getpass import getpass\n",
    "\n",
    "WORKSPACE=\"tfy-cluster-euwe1:np18-ws\"\n",
    "TFY_API_KEY = getpass(\"Please enter your API Key,( https://app.truefoundry.com/settings ):-\")"
   ]
  },
  {
   "cell_type": "code",
   "execution_count": null,
   "metadata": {},
   "outputs": [],
   "source": [
    "# clone the latest code\n",
    "!git clone https://github.com/truefoundry/truefoundry-examples\n",
    "%cd truefoundry-examples/deployment-quickstart/"
   ]
  },
  {
   "cell_type": "markdown",
   "metadata": {
    "id": "5SC-s8sCY-QN"
   },
   "source": [
    "# ⚡ Jobs - Quick Start\n",
    "Here we will create a simple job that counts to 30 sleeping for 1 second every iteration."
   ]
  },
  {
   "cell_type": "code",
   "execution_count": null,
   "metadata": {
    "id": "elFpXLl2ZS0g"
   },
   "outputs": [],
   "source": [
    "%cd job/"
   ]
  },
  {
   "cell_type": "markdown",
   "metadata": {},
   "source": [
    "### Defining a simple job"
   ]
  },
  {
   "cell_type": "code",
   "execution_count": 5,
   "metadata": {},
   "outputs": [
    {
     "name": "stdout",
     "output_type": "stream",
     "text": [
      "\u001b[34mimport\u001b[39;49;00m \u001b[04m\u001b[36margparse\u001b[39;49;00m\r\n",
      "\u001b[34mimport\u001b[39;49;00m \u001b[04m\u001b[36mtime\u001b[39;49;00m\r\n",
      "\r\n",
      "\r\n",
      "\u001b[34mdef\u001b[39;49;00m \u001b[32mmain\u001b[39;49;00m(limit: \u001b[36mint\u001b[39;49;00m):\r\n",
      "    \u001b[34mfor\u001b[39;49;00m i \u001b[35min\u001b[39;49;00m \u001b[36mrange\u001b[39;49;00m(limit):\r\n",
      "        \u001b[36mprint\u001b[39;49;00m(\u001b[33mf\u001b[39;49;00m\u001b[33m\"\u001b[39;49;00m\u001b[33mRunning Job: \u001b[39;49;00m\u001b[33m{\u001b[39;49;00mi + \u001b[34m1\u001b[39;49;00m\u001b[33m}\u001b[39;49;00m\u001b[33m\"\u001b[39;49;00m)\r\n",
      "        time.sleep(\u001b[34m1\u001b[39;49;00m)\r\n",
      "\r\n",
      "\u001b[34mif\u001b[39;49;00m \u001b[31m__name__\u001b[39;49;00m == \u001b[33m'\u001b[39;49;00m\u001b[33m__main__\u001b[39;49;00m\u001b[33m'\u001b[39;49;00m:\r\n",
      "    parser = argparse.ArgumentParser()\r\n",
      "    parser.add_argument(\u001b[33m\"\u001b[39;49;00m\u001b[33m--limit\u001b[39;49;00m\u001b[33m\"\u001b[39;49;00m, default=\u001b[34m10\u001b[39;49;00m, \u001b[36mtype\u001b[39;49;00m=\u001b[36mint\u001b[39;49;00m)\r\n",
      "    args = parser.parse_args()\r\n",
      "    main(args.limit)\r\n"
     ]
    }
   ],
   "source": [
    "!pygmentize run.py"
   ]
  },
  {
   "cell_type": "markdown",
   "metadata": {},
   "source": [
    "### Deploying the job using truefoundry"
   ]
  },
  {
   "cell_type": "code",
   "execution_count": null,
   "metadata": {
    "id": "ZxqxKsvaaf8e"
   },
   "outputs": [],
   "source": [
    "import logging\n",
    "\n",
    "from servicefoundry import Build, Job, PythonBuild, Resources\n",
    "\n",
    "logging.basicConfig(level=logging.INFO, format='%(asctime)s %(name)-12s %(levelname)-8s %(message)s', force=True)\n",
    "\n",
    "job = Job(\n",
    "    name=\"counter-job\",\n",
    "    image=Build(build_spec=PythonBuild(command=\"python run.py\")),\n",
    "    resources=Resources(cpu_request=0.5, cpu_limit=1.0)\n",
    ")\n",
    "job.deploy(workspace_fqn=WORKSPACE)"
   ]
  },
  {
   "cell_type": "markdown",
   "metadata": {
    "id": "QNKTerWxZClv"
   },
   "source": [
    "# ☁ Service - Quick Start\n",
    "Here we will take a simple fastapi service and deploy it using truefoundry python-sdk"
   ]
  },
  {
   "cell_type": "code",
   "execution_count": null,
   "metadata": {
    "id": "B04Ag0uNYh1w"
   },
   "outputs": [],
   "source": [
    "%cd ../service/"
   ]
  },
  {
   "cell_type": "markdown",
   "metadata": {},
   "source": [
    "### Defining simple fastapi service"
   ]
  },
  {
   "cell_type": "code",
   "execution_count": 7,
   "metadata": {
    "id": "xeQ3oqdwbmc9"
   },
   "outputs": [
    {
     "name": "stdout",
     "output_type": "stream",
     "text": [
      "\u001b[34mfrom\u001b[39;49;00m \u001b[04m\u001b[36mfastapi\u001b[39;49;00m \u001b[34mimport\u001b[39;49;00m FastAPI\r\n",
      "\r\n",
      "app = FastAPI()\r\n",
      "\r\n",
      "\r\n",
      "\u001b[90m@app\u001b[39;49;00m.get(\u001b[33m\"\u001b[39;49;00m\u001b[33m/\u001b[39;49;00m\u001b[33m\"\u001b[39;49;00m)\r\n",
      "\u001b[34masync\u001b[39;49;00m \u001b[34mdef\u001b[39;49;00m \u001b[32mroot\u001b[39;49;00m():\r\n",
      "    \u001b[34mreturn\u001b[39;49;00m {\u001b[33m\"\u001b[39;49;00m\u001b[33mmessage\u001b[39;49;00m\u001b[33m\"\u001b[39;49;00m: \u001b[33m\"\u001b[39;49;00m\u001b[33mHello World\u001b[39;49;00m\u001b[33m\"\u001b[39;49;00m}\r\n"
     ]
    }
   ],
   "source": [
    "!pygmentize service.py"
   ]
  },
  {
   "cell_type": "markdown",
   "metadata": {},
   "source": [
    "### Defining the requirements"
   ]
  },
  {
   "cell_type": "code",
   "execution_count": 8,
   "metadata": {
    "id": "PWAF1-s3b51l"
   },
   "outputs": [
    {
     "name": "stdout",
     "output_type": "stream",
     "text": [
      "fastapi==0.89.1\r\n",
      "uvicorn==0.20.0\r\n"
     ]
    }
   ],
   "source": [
    "!pygmentize requirements.txt"
   ]
  },
  {
   "cell_type": "markdown",
   "metadata": {},
   "source": [
    "### Deploying the fastapi service"
   ]
  },
  {
   "cell_type": "code",
   "execution_count": null,
   "metadata": {
    "id": "uOklrgu2bvSU"
   },
   "outputs": [],
   "source": [
    "import logging\n",
    "\n",
    "from servicefoundry import Build, Service, PythonBuild, Resources\n",
    "\n",
    "logging.basicConfig(level=logging.INFO, format='%(asctime)s %(name)-12s %(levelname)-8s %(message)s', force=True)\n",
    "\n",
    "service = Service(\n",
    "    name=\"fastapi-service\",\n",
    "    image=Build(build_spec=PythonBuild(command=\"uvicorn service:app --host 0.0.0.0 --port 8080\")),\n",
    "    resources=Resources(cpu_request=0.5, cpu_limit=1.0),\n",
    "    ports=[{\"port\": 8080}]\n",
    ")\n",
    "service.deploy(workspace_fqn=WORKSPACE)"
   ]
  },
  {
   "cell_type": "markdown",
   "metadata": {
    "id": "etyus4gpQXlJ"
   },
   "source": [
    "# ☁ Function as Service - Quick Start\n",
    "Here we will take two python functions that use numpy and register them as routes in a deployed web service"
   ]
  },
  {
   "cell_type": "code",
   "execution_count": 9,
   "metadata": {
    "id": "4hXhrrbIQXlW"
   },
   "outputs": [
    {
     "name": "stdout",
     "output_type": "stream",
     "text": [
      "/Users/nikp18/work/repos/tempp/truefoundry-examples/deployment-quickstart/truefoundry-examples/deployment-quickstart/function-service\n"
     ]
    }
   ],
   "source": [
    "%cd ../function-service/"
   ]
  },
  {
   "cell_type": "markdown",
   "metadata": {},
   "source": [
    "### Defining some basic functions"
   ]
  },
  {
   "cell_type": "code",
   "execution_count": 11,
   "metadata": {
    "id": "-e-d9vR5QXlW"
   },
   "outputs": [
    {
     "name": "stdout",
     "output_type": "stream",
     "text": [
      "\u001b[34mfrom\u001b[39;49;00m \u001b[04m\u001b[36mtyping\u001b[39;49;00m \u001b[34mimport\u001b[39;49;00m List\r\n",
      "\u001b[34mimport\u001b[39;49;00m \u001b[04m\u001b[36mnumpy\u001b[39;49;00m \u001b[34mas\u001b[39;49;00m \u001b[04m\u001b[36mnp\u001b[39;49;00m\r\n",
      "\r\n",
      "\r\n",
      "\u001b[34mdef\u001b[39;49;00m \u001b[32mmultiply\u001b[39;49;00m(a: \u001b[36mfloat\u001b[39;49;00m, b: \u001b[36mfloat\u001b[39;49;00m):\r\n",
      "  \u001b[34mreturn\u001b[39;49;00m a * b \r\n",
      "\r\n",
      "\r\n",
      "\u001b[34mdef\u001b[39;49;00m \u001b[32mnormal\u001b[39;49;00m(loc: \u001b[36mfloat\u001b[39;49;00m, scale: \u001b[36mfloat\u001b[39;49;00m, size: List[\u001b[36mint\u001b[39;49;00m]):\r\n",
      "    \u001b[34mreturn\u001b[39;49;00m np.random.normal(loc=loc, scale=scale, size=size).tolist()\r\n",
      "\r\n",
      "\r\n",
      "\u001b[34mdef\u001b[39;49;00m \u001b[32muniform\u001b[39;49;00m(low: \u001b[36mfloat\u001b[39;49;00m, high: \u001b[36mfloat\u001b[39;49;00m, size: List[\u001b[36mint\u001b[39;49;00m]):\r\n",
      "    \u001b[34mreturn\u001b[39;49;00m np.random.uniform(low=low, high=high, size=size).tolist()\r\n"
     ]
    }
   ],
   "source": [
    "!pygmentize functions.py"
   ]
  },
  {
   "cell_type": "markdown",
   "metadata": {},
   "source": [
    "### Defining the requirements"
   ]
  },
  {
   "cell_type": "code",
   "execution_count": 12,
   "metadata": {
    "id": "hWXkaUqsQXlW"
   },
   "outputs": [
    {
     "name": "stdout",
     "output_type": "stream",
     "text": [
      "numpy==1.21.6\r\n"
     ]
    }
   ],
   "source": [
    "!pygmentize requirements.txt"
   ]
  },
  {
   "cell_type": "markdown",
   "metadata": {},
   "source": [
    "### Deploying the functions"
   ]
  },
  {
   "cell_type": "code",
   "execution_count": null,
   "metadata": {
    "id": "zZZLxXVAQXlX"
   },
   "outputs": [],
   "source": [
    "import logging\n",
    "logging.basicConfig(level=logging.INFO, format='%(asctime)s %(name)-12s %(levelname)-8s %(message)s', force=True)\n",
    "\n",
    "from functions import normal, uniform, multiply\n",
    "from servicefoundry.function_service import FunctionService\n",
    "\n",
    "service = FunctionService(name=\"fn-service\")\n",
    "service.register_function(normal)\n",
    "service.register_function(uniform)\n",
    "service.register_function(multiply)\n",
    "deployment = service.deploy(workspace_fqn=WORKSPACE)"
   ]
  }
 ],
 "metadata": {
  "colab": {
   "collapsed_sections": [
    "etyus4gpQXlJ"
   ],
   "provenance": []
  },
  "kernelspec": {
   "display_name": "Python 3 (ipykernel)",
   "language": "python",
   "name": "python3"
  },
  "language_info": {
   "codemirror_mode": {
    "name": "ipython",
    "version": 3
   },
   "file_extension": ".py",
   "mimetype": "text/x-python",
   "name": "python",
   "nbconvert_exporter": "python",
   "pygments_lexer": "ipython3",
   "version": "3.8.13"
  }
 },
 "nbformat": 4,
 "nbformat_minor": 1
}
