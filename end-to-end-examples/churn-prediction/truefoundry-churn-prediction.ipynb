{
 "cells": [
  {
   "cell_type": "markdown",
   "metadata": {},
   "source": [
    "##### This notebook demonstrates a demo of how churn-prediction model can be trained and deployed on truefoundry platform."
   ]
  },
  {
   "cell_type": "markdown",
   "metadata": {
    "id": "2c6nhZIxSvl2"
   },
   "source": [
    "# 🛠 Setup"
   ]
  },
  {
   "cell_type": "code",
   "execution_count": null,
   "metadata": {
    "colab": {
     "base_uri": "https://localhost:8080/"
    },
    "id": "rnalU7uLTgmr",
    "outputId": "6eb49ff0-9e66-4f43-9381-4fd04867246d"
   },
   "outputs": [],
   "source": [
    "pip install -U \"servicefoundry==0.6.6\" \"mlfoundry==0.6.1\" "
   ]
  },
  {
   "cell_type": "code",
   "execution_count": null,
   "metadata": {
    "id": "NN133xapzkt7"
   },
   "outputs": [],
   "source": [
    "import logging\n",
    "[logging.root.removeHandler(h) for h in logging.root.handlers]\n",
    "logging.basicConfig(level=logging.INFO, format='%(asctime)s [%(name)s] %(levelname)-8s %(message)s')"
   ]
  },
  {
   "cell_type": "code",
   "execution_count": null,
   "metadata": {
    "colab": {
     "base_uri": "https://localhost:8080/"
    },
    "id": "FmmB5HHfXvES",
    "outputId": "11cc91bc-6079-4aea-ec15-3792e4862121"
   },
   "outputs": [],
   "source": [
    "!sfy login --relogin"
   ]
  },
  {
   "cell_type": "code",
   "execution_count": null,
   "metadata": {
    "colab": {
     "base_uri": "https://localhost:8080/"
    },
    "id": "YyzamMrzNqkS",
    "outputId": "cddb17d7-5bb5-4b0e-9c09-04dcf39de2da"
   },
   "outputs": [],
   "source": [
    "# Copy workspace FQN from https://app.truefoundry.com/workspaces\n",
    "from getpass import getpass\n",
    "\n",
    "USERNAME=\"truefoundry-demo\"\n",
    "WORKSPACE=\"tfy-cluster-euwe1:demos\"\n",
    "TFY_API_KEY = getpass(\"Please enter your API Key,( https://app.truefoundry.com/settings ):-\")"
   ]
  },
  {
   "cell_type": "code",
   "execution_count": null,
   "metadata": {},
   "outputs": [],
   "source": [
    "!git clone https://github.com/truefoundry/truefoundry-examples.git\n",
    "%cd truefoundry-examples\n",
    "%cd end-to-end-examples/churn-prediction"
   ]
  },
  {
   "cell_type": "markdown",
   "metadata": {
    "id": "5SC-s8sCY-QN"
   },
   "source": [
    "# ⚡ Deploying a training Job - Quick Start\n",
    "Here we will create a training job that will run on truefoundry's infrastructure and save the results."
   ]
  },
  {
   "cell_type": "markdown",
   "metadata": {},
   "source": [
    "### Training Script\n"
   ]
  },
  {
   "cell_type": "code",
   "execution_count": null,
   "metadata": {},
   "outputs": [],
   "source": [
    "%cd train"
   ]
  },
  {
   "cell_type": "code",
   "execution_count": 53,
   "metadata": {
    "colab": {
     "base_uri": "https://localhost:8080/"
    },
    "id": "elFpXLl2ZS0g",
    "outputId": "b27e412c-7fdf-4888-dd95-2030a82b74aa"
   },
   "outputs": [
    {
     "name": "stdout",
     "output_type": "stream",
     "text": [
      "\u001b[38;2;0;128;0;01mimport\u001b[39;00m \u001b[38;2;0;0;255;01mpandas\u001b[39;00m \u001b[38;2;0;128;0;01mas\u001b[39;00m \u001b[38;2;0;0;255;01mpd\u001b[39;00m\r\n",
      "\u001b[38;2;0;128;0;01mfrom\u001b[39;00m \u001b[38;2;0;0;255;01msklearn\u001b[39;00m\u001b[38;2;0;0;255;01m.\u001b[39;00m\u001b[38;2;0;0;255;01mneighbors\u001b[39;00m \u001b[38;2;0;128;0;01mimport\u001b[39;00m KNeighborsClassifier \u001b[38;2;0;128;0;01mas\u001b[39;00m Classification\r\n",
      "\u001b[38;2;0;128;0;01mimport\u001b[39;00m \u001b[38;2;0;0;255;01mmlfoundry\u001b[39;00m \u001b[38;2;0;128;0;01mas\u001b[39;00m \u001b[38;2;0;0;255;01mmlf\u001b[39;00m\r\n",
      "\u001b[38;2;0;128;0;01mfrom\u001b[39;00m \u001b[38;2;0;0;255;01msklearn\u001b[39;00m\u001b[38;2;0;0;255;01m.\u001b[39;00m\u001b[38;2;0;0;255;01mmetrics\u001b[39;00m \u001b[38;2;0;128;0;01mimport\u001b[39;00m accuracy_score, confusion_matrix, ConfusionMatrixDisplay\r\n",
      "\u001b[38;2;0;128;0;01mfrom\u001b[39;00m \u001b[38;2;0;0;255;01msklearn\u001b[39;00m\u001b[38;2;0;0;255;01m.\u001b[39;00m\u001b[38;2;0;0;255;01mmodel_selection\u001b[39;00m \u001b[38;2;0;128;0;01mimport\u001b[39;00m train_test_split\r\n",
      "\u001b[38;2;0;128;0;01mimport\u001b[39;00m \u001b[38;2;0;0;255;01mmatplotlib\u001b[39;00m\u001b[38;2;0;0;255;01m.\u001b[39;00m\u001b[38;2;0;0;255;01mpyplot\u001b[39;00m \u001b[38;2;0;128;0;01mas\u001b[39;00m \u001b[38;2;0;0;255;01mplt\u001b[39;00m\r\n",
      "\r\n",
      "\r\n",
      "\u001b[38;2;0;128;0;01mdef\u001b[39;00m \u001b[38;2;0;0;255mexperiment_track\u001b[39m(model, params, metrics, X_train, X_test):\r\n",
      "    mlf_api \u001b[38;2;102;102;102m=\u001b[39m mlf\u001b[38;2;102;102;102m.\u001b[39mget_client()\r\n",
      "    mlf_run \u001b[38;2;102;102;102m=\u001b[39m mlf_api\u001b[38;2;102;102;102m.\u001b[39mcreate_run(\r\n",
      "        project_name\u001b[38;2;102;102;102m=\u001b[39m\u001b[38;2;186;33;33m\"\u001b[39m\u001b[38;2;186;33;33mchurn-prediction\u001b[39m\u001b[38;2;186;33;33m\"\u001b[39m, run_name\u001b[38;2;102;102;102m=\u001b[39m\u001b[38;2;186;33;33m\"\u001b[39m\u001b[38;2;186;33;33mchurn-train-job\u001b[39m\u001b[38;2;186;33;33m\"\u001b[39m\r\n",
      "    )\r\n",
      "    mlf_run\u001b[38;2;102;102;102m.\u001b[39mlog_params(params)\r\n",
      "    mlf_run\u001b[38;2;102;102;102m.\u001b[39mlog_metrics(metrics)\r\n",
      "    mlf_run\u001b[38;2;102;102;102m.\u001b[39mlog_dataset(\u001b[38;2;186;33;33m\"\u001b[39m\u001b[38;2;186;33;33mtrain\u001b[39m\u001b[38;2;186;33;33m\"\u001b[39m, X_train)\r\n",
      "    mlf_run\u001b[38;2;102;102;102m.\u001b[39mlog_dataset(\u001b[38;2;186;33;33m\"\u001b[39m\u001b[38;2;186;33;33mtest\u001b[39m\u001b[38;2;186;33;33m\"\u001b[39m, X_test)\r\n",
      "    model_version \u001b[38;2;102;102;102m=\u001b[39m mlf_run\u001b[38;2;102;102;102m.\u001b[39mlog_model(\r\n",
      "        name\u001b[38;2;102;102;102m=\u001b[39m\u001b[38;2;186;33;33m\"\u001b[39m\u001b[38;2;186;33;33mchurn-model\u001b[39m\u001b[38;2;186;33;33m\"\u001b[39m,\r\n",
      "        model\u001b[38;2;102;102;102m=\u001b[39mmodel,\r\n",
      "        framework\u001b[38;2;102;102;102m=\u001b[39mmlf\u001b[38;2;102;102;102m.\u001b[39mModelFramework\u001b[38;2;102;102;102m.\u001b[39mSKLEARN,\r\n",
      "        description\u001b[38;2;102;102;102m=\u001b[39m\u001b[38;2;186;33;33m\"\u001b[39m\u001b[38;2;186;33;33mchurn-prediction-model\u001b[39m\u001b[38;2;186;33;33m\"\u001b[39m,\r\n",
      "    )\r\n",
      "    mlf_run\u001b[38;2;102;102;102m.\u001b[39mlog_plots({\u001b[38;2;186;33;33m\"\u001b[39m\u001b[38;2;186;33;33mconfusion_matrix\u001b[39m\u001b[38;2;186;33;33m\"\u001b[39m: plt}, step\u001b[38;2;102;102;102m=\u001b[39m\u001b[38;2;102;102;102m1\u001b[39m)\r\n",
      "    \u001b[38;2;0;128;0;01mreturn\u001b[39;00m model_version\u001b[38;2;102;102;102m.\u001b[39mfqn\r\n",
      "\r\n",
      "\r\n",
      "\u001b[38;2;0;128;0;01mdef\u001b[39;00m \u001b[38;2;0;0;255mtrain_model\u001b[39m(hyperparams):\r\n",
      "    df \u001b[38;2;102;102;102m=\u001b[39m pd\u001b[38;2;102;102;102m.\u001b[39mread_csv(\u001b[38;2;186;33;33m\"\u001b[39m\u001b[38;2;186;33;33mhttps://raw.githubusercontent.com/nikp1172/datasets-sample/main/Churn_Modelling.csv\u001b[39m\u001b[38;2;186;33;33m\"\u001b[39m)\r\n",
      "    X \u001b[38;2;102;102;102m=\u001b[39m df\u001b[38;2;102;102;102m.\u001b[39miloc[:, \u001b[38;2;102;102;102m3\u001b[39m:\u001b[38;2;102;102;102m-\u001b[39m\u001b[38;2;102;102;102m1\u001b[39m]\u001b[38;2;102;102;102m.\u001b[39mdrop([\u001b[38;2;186;33;33m\"\u001b[39m\u001b[38;2;186;33;33mGeography\u001b[39m\u001b[38;2;186;33;33m\"\u001b[39m, \u001b[38;2;186;33;33m\"\u001b[39m\u001b[38;2;186;33;33mGender\u001b[39m\u001b[38;2;186;33;33m\"\u001b[39m], axis\u001b[38;2;102;102;102m=\u001b[39m\u001b[38;2;102;102;102m1\u001b[39m)\r\n",
      "    y \u001b[38;2;102;102;102m=\u001b[39m df\u001b[38;2;102;102;102m.\u001b[39miloc[:, \u001b[38;2;102;102;102m-\u001b[39m\u001b[38;2;102;102;102m1\u001b[39m]\r\n",
      "    X_train, X_test, y_train, y_test \u001b[38;2;102;102;102m=\u001b[39m train_test_split(X, y, test_size\u001b[38;2;102;102;102m=\u001b[39m\u001b[38;2;102;102;102m0.2\u001b[39m, random_state\u001b[38;2;102;102;102m=\u001b[39m\u001b[38;2;102;102;102m42\u001b[39m)\r\n",
      "    classifier \u001b[38;2;102;102;102m=\u001b[39m Classification(n_neighbors\u001b[38;2;102;102;102m=\u001b[39mhyperparams[\u001b[38;2;186;33;33m'\u001b[39m\u001b[38;2;186;33;33mn_neighbors\u001b[39m\u001b[38;2;186;33;33m'\u001b[39m], weights\u001b[38;2;102;102;102m=\u001b[39mhyperparams[\u001b[38;2;186;33;33m'\u001b[39m\u001b[38;2;186;33;33mweights\u001b[39m\u001b[38;2;186;33;33m'\u001b[39m], algorithm\u001b[38;2;102;102;102m=\u001b[39mhyperparams[\u001b[38;2;186;33;33m'\u001b[39m\u001b[38;2;186;33;33malgorithm\u001b[39m\u001b[38;2;186;33;33m'\u001b[39m], p\u001b[38;2;102;102;102m=\u001b[39mhyperparams[\u001b[38;2;186;33;33m'\u001b[39m\u001b[38;2;186;33;33mpower\u001b[39m\u001b[38;2;186;33;33m'\u001b[39m])\r\n",
      "    classifier\u001b[38;2;102;102;102m.\u001b[39mfit(X_train, y_train)\r\n",
      "    y_pred \u001b[38;2;102;102;102m=\u001b[39m classifier\u001b[38;2;102;102;102m.\u001b[39mpredict(X_test)\r\n",
      "    labels \u001b[38;2;102;102;102m=\u001b[39m \u001b[38;2;0;128;0mlist\u001b[39m(\u001b[38;2;0;128;0mset\u001b[39m(y))\r\n",
      "\r\n",
      "    cm \u001b[38;2;102;102;102m=\u001b[39m confusion_matrix(y_test, y_pred, labels\u001b[38;2;102;102;102m=\u001b[39mlabels)\r\n",
      "    disp \u001b[38;2;102;102;102m=\u001b[39m ConfusionMatrixDisplay(confusion_matrix\u001b[38;2;102;102;102m=\u001b[39mcm, display_labels\u001b[38;2;102;102;102m=\u001b[39m\u001b[38;2;0;128;0mlist\u001b[39m(\u001b[38;2;0;128;0mset\u001b[39m(y)))\r\n",
      "    disp\u001b[38;2;102;102;102m.\u001b[39mplot()\r\n",
      "    metrics \u001b[38;2;102;102;102m=\u001b[39m {\r\n",
      "        \u001b[38;2;186;33;33m\"\u001b[39m\u001b[38;2;186;33;33maccuracy\u001b[39m\u001b[38;2;186;33;33m\"\u001b[39m: accuracy_score(y_test, y_pred)\r\n",
      "    }\r\n",
      "\r\n",
      "    experiment_track(classifier, classifier\u001b[38;2;102;102;102m.\u001b[39mget_params(), metrics, X_train, X_test)\r\n",
      "\r\n",
      "\r\n",
      "\u001b[38;2;0;128;0;01mif\u001b[39;00m \u001b[38;2;25;23;124m__name__\u001b[39m \u001b[38;2;102;102;102m==\u001b[39m \u001b[38;2;186;33;33m\"\u001b[39m\u001b[38;2;186;33;33m__main__\u001b[39m\u001b[38;2;186;33;33m\"\u001b[39m:\r\n",
      "    \u001b[38;2;0;128;0;01mimport\u001b[39;00m \u001b[38;2;0;0;255;01margparse\u001b[39;00m\r\n",
      "\r\n",
      "    parser \u001b[38;2;102;102;102m=\u001b[39m argparse\u001b[38;2;102;102;102m.\u001b[39mArgumentParser()\r\n",
      "    parser\u001b[38;2;102;102;102m.\u001b[39madd_argument(\r\n",
      "        \u001b[38;2;186;33;33m\"\u001b[39m\u001b[38;2;186;33;33m--n_neighbors\u001b[39m\u001b[38;2;186;33;33m\"\u001b[39m,\r\n",
      "        \u001b[38;2;0;128;0mtype\u001b[39m\u001b[38;2;102;102;102m=\u001b[39m\u001b[38;2;0;128;0mint\u001b[39m,\r\n",
      "        required\u001b[38;2;102;102;102m=\u001b[39m\u001b[38;2;0;128;0;01mTrue\u001b[39;00m,\r\n",
      "    )\r\n",
      "    parser\u001b[38;2;102;102;102m.\u001b[39madd_argument(\r\n",
      "        \u001b[38;2;186;33;33m\"\u001b[39m\u001b[38;2;186;33;33m--weights\u001b[39m\u001b[38;2;186;33;33m\"\u001b[39m,\r\n",
      "        \u001b[38;2;0;128;0mtype\u001b[39m\u001b[38;2;102;102;102m=\u001b[39m\u001b[38;2;0;128;0mstr\u001b[39m,\r\n",
      "        required\u001b[38;2;102;102;102m=\u001b[39m\u001b[38;2;0;128;0;01mTrue\u001b[39;00m,\r\n",
      "    )\r\n",
      "    parser\u001b[38;2;102;102;102m.\u001b[39madd_argument(\r\n",
      "        \u001b[38;2;186;33;33m\"\u001b[39m\u001b[38;2;186;33;33m--algorithm\u001b[39m\u001b[38;2;186;33;33m\"\u001b[39m,\r\n",
      "        \u001b[38;2;0;128;0mtype\u001b[39m\u001b[38;2;102;102;102m=\u001b[39m\u001b[38;2;0;128;0mstr\u001b[39m,\r\n",
      "        required\u001b[38;2;102;102;102m=\u001b[39m\u001b[38;2;0;128;0;01mTrue\u001b[39;00m,\r\n",
      "    )\r\n",
      "    parser\u001b[38;2;102;102;102m.\u001b[39madd_argument(\r\n",
      "        \u001b[38;2;186;33;33m\"\u001b[39m\u001b[38;2;186;33;33m--power\u001b[39m\u001b[38;2;186;33;33m\"\u001b[39m,\r\n",
      "        \u001b[38;2;0;128;0mtype\u001b[39m\u001b[38;2;102;102;102m=\u001b[39m\u001b[38;2;0;128;0mint\u001b[39m,\r\n",
      "        required\u001b[38;2;102;102;102m=\u001b[39m\u001b[38;2;0;128;0;01mTrue\u001b[39;00m\r\n",
      "    )\r\n",
      "    args \u001b[38;2;102;102;102m=\u001b[39m parser\u001b[38;2;102;102;102m.\u001b[39mparse_args()\r\n",
      "    hyperparams \u001b[38;2;102;102;102m=\u001b[39m \u001b[38;2;0;128;0mvars\u001b[39m(args)\r\n",
      "\r\n",
      "    train_model(hyperparams)\r\n"
     ]
    }
   ],
   "source": [
    "!pygmentize main.py"
   ]
  },
  {
   "cell_type": "markdown",
   "metadata": {},
   "source": [
    "### Defining the requirements"
   ]
  },
  {
   "cell_type": "code",
   "execution_count": 54,
   "metadata": {},
   "outputs": [
    {
     "name": "stdout",
     "output_type": "stream",
     "text": [
      "matplotlib==3.1.3\r\n",
      "matplotlib-inline==0.1.6\r\n",
      "mlfoundry>=0.6.1,<0.6.3\r\n",
      "pandas==1.5.0\r\n"
     ]
    }
   ],
   "source": [
    "!pygmentize requirements.txt"
   ]
  },
  {
   "cell_type": "markdown",
   "metadata": {},
   "source": [
    "### Deploy as a training job"
   ]
  },
  {
   "cell_type": "code",
   "execution_count": null,
   "metadata": {},
   "outputs": [],
   "source": [
    "import argparse\n",
    "import logging\n",
    "import os\n",
    "from servicefoundry import Build, PythonBuild, Resources, Job, Param\n",
    "\n",
    "logging.basicConfig(level=logging.INFO)\n",
    "\n",
    "# Defining the job\n",
    "job = Job(\n",
    "    name=\"churn-prediction-train\",\n",
    "    image=Build(\n",
    "        build_spec=PythonBuild(\n",
    "            command=\"python main.py --n_neighbors {{n_neighbors}} --weights {{weights}} --algorithm {{algorithm}} --power {{power}}\"\n",
    "        )\n",
    "    ),\n",
    "    env={\n",
    "        \"TFY_API_KEY\": TFY_API_KEY\n",
    "    },\n",
    "    params=[\n",
    "        Param(name=\"n_neighbors\", default='5', description=\"Number of neighbors to use by default\"),\n",
    "        Param(name=\"weights\", default='uniform', description=\"Weight function used in prediction.  Possible values: uniform, distance\"),\n",
    "        Param(name=\"algorithm\", default='auto', description=\"Algorithm used to compute the nearest neighbors: possible values: 'auto', 'ball_tree', 'kd_tree', 'brute'\"),\n",
    "        Param(name=\"power\", default='2', description=\"Power parameter for the Minkowski metric. When p = 1, this is manhattan_dist, and euclidean_dist p = 2\")\n",
    "    ],\n",
    "    resources=Resources(\n",
    "        cpu_request=1, cpu_limit=1, memory_request=2000, memory_limit=2000,\n",
    "    ),\n",
    ")\n",
    "\n",
    "# Finally, we call deploy to push it to Truefoundry platform\n",
    "job.deploy(workspace_fqn=WORKSPACE)"
   ]
  },
  {
   "cell_type": "markdown",
   "metadata": {},
   "source": [
    "### Trigger the training job from UI\n",
    "Click on https://app.truefoundry.com/deployments?tab=jobs and trigger a run."
   ]
  },
  {
   "cell_type": "markdown",
   "metadata": {
    "id": "etyus4gpQXlJ"
   },
   "source": [
    "# ☁ Deploying the trained Model\n",
    "Here we will deploy the model saved in truefoundry's model registry at the time of model training."
   ]
  },
  {
   "cell_type": "code",
   "execution_count": null,
   "metadata": {
    "colab": {
     "base_uri": "https://localhost:8080/"
    },
    "id": "4hXhrrbIQXlW",
    "outputId": "6e26ae70-7382-4825-847b-1098477523b9"
   },
   "outputs": [],
   "source": [
    "import logging\n",
    "\n",
    "from servicefoundry import ModelDeployment, Resources, TruefoundryModelRegistry\n",
    "\n",
    "logging.basicConfig(level=logging.INFO)\n",
    "\n",
    "MODEL_VERSION_FQN = f\"model:truefoundry/{USERNAME}/churn-prediction/churn-model:1\"\n",
    "\n",
    "model_deployment = ModelDeployment(\n",
    "    name=f\"churn-prediction\",\n",
    "    model_source=TruefoundryModelRegistry(model_version_fqn=MODEL_VERSION_FQN),\n",
    "    resources=Resources(cpu_request=0.2, cpu_limit=0.5, memory_request=500, memory_limit=1000)\n",
    ")\n",
    "\n",
    "model_deployment.deploy(workspace_fqn=WORKSPACE)"
   ]
  },
  {
   "cell_type": "markdown",
   "metadata": {
    "id": "ivE5PJKDowFv"
   },
   "source": [
    "#  ☁  Deploying  Model's Demo as a Service\n",
    "In this section we will deploy a training job that trains a SVM model on iris dataset"
   ]
  },
  {
   "cell_type": "code",
   "execution_count": 55,
   "metadata": {
    "colab": {
     "base_uri": "https://localhost:8080/"
    },
    "id": "6W3ZGvOCl_wF",
    "outputId": "703fc603-42fe-429c-c166-6cb730b630f0"
   },
   "outputs": [
    {
     "name": "stdout",
     "output_type": "stream",
     "text": [
      "/Users/nikp18/Downloads/truefoundry-examples/end-to-end-examples/churn-prediction/demo/truefoundry-examples/end-to-end-examples/churn-prediction/train/truefoundry-examples/end-to-end-examples/churn-prediction/demo/truefoundry-examples/end-to-end-examples/churn-prediction/demo\n"
     ]
    }
   ],
   "source": [
    "%cd ../demo"
   ]
  },
  {
   "cell_type": "markdown",
   "metadata": {},
   "source": [
    "### Creating a gradio demo"
   ]
  },
  {
   "cell_type": "code",
   "execution_count": 56,
   "metadata": {},
   "outputs": [
    {
     "name": "stdout",
     "output_type": "stream",
     "text": [
      "\u001b[38;2;0;128;0;01mimport\u001b[39;00m \u001b[38;2;0;0;255;01mgradio\u001b[39;00m \u001b[38;2;0;128;0;01mas\u001b[39;00m \u001b[38;2;0;0;255;01mgr\u001b[39;00m\n",
      "\u001b[38;2;0;128;0;01mimport\u001b[39;00m \u001b[38;2;0;0;255;01mdatetime\u001b[39;00m\n",
      "\u001b[38;2;0;128;0;01mimport\u001b[39;00m \u001b[38;2;0;0;255;01mos\u001b[39;00m\n",
      "\u001b[38;2;0;128;0;01mimport\u001b[39;00m \u001b[38;2;0;0;255;01mrequests\u001b[39;00m\n",
      "\u001b[38;2;0;128;0;01mfrom\u001b[39;00m \u001b[38;2;0;0;255;01murllib\u001b[39;00m\u001b[38;2;0;0;255;01m.\u001b[39;00m\u001b[38;2;0;0;255;01mparse\u001b[39;00m \u001b[38;2;0;128;0;01mimport\u001b[39;00m urljoin\n",
      "\n",
      "MODEL_DEPLOYED_URL \u001b[38;2;102;102;102m=\u001b[39m os\u001b[38;2;102;102;102m.\u001b[39menviron[\u001b[38;2;186;33;33m'\u001b[39m\u001b[38;2;186;33;33mMODEL_DEPLOYED_URL\u001b[39m\u001b[38;2;186;33;33m'\u001b[39m]\n",
      "\n",
      "inputs \u001b[38;2;102;102;102m=\u001b[39m [\n",
      "    gr\u001b[38;2;102;102;102m.\u001b[39mNumber(label\u001b[38;2;102;102;102m=\u001b[39m\u001b[38;2;186;33;33m\"\u001b[39m\u001b[38;2;186;33;33mCreditScore\u001b[39m\u001b[38;2;186;33;33m\"\u001b[39m, value\u001b[38;2;102;102;102m=\u001b[39m\u001b[38;2;102;102;102m619\u001b[39m),\n",
      "    gr\u001b[38;2;102;102;102m.\u001b[39mNumber(label\u001b[38;2;102;102;102m=\u001b[39m\u001b[38;2;186;33;33m\"\u001b[39m\u001b[38;2;186;33;33mAge\u001b[39m\u001b[38;2;186;33;33m\"\u001b[39m, value\u001b[38;2;102;102;102m=\u001b[39m\u001b[38;2;102;102;102m42\u001b[39m),\n",
      "    gr\u001b[38;2;102;102;102m.\u001b[39mNumber(label\u001b[38;2;102;102;102m=\u001b[39m\u001b[38;2;186;33;33m\"\u001b[39m\u001b[38;2;186;33;33mTenure\u001b[39m\u001b[38;2;186;33;33m\"\u001b[39m, value\u001b[38;2;102;102;102m=\u001b[39m\u001b[38;2;102;102;102m2\u001b[39m),\n",
      "    gr\u001b[38;2;102;102;102m.\u001b[39mNumber(label\u001b[38;2;102;102;102m=\u001b[39m\u001b[38;2;186;33;33m\"\u001b[39m\u001b[38;2;186;33;33mBalance\u001b[39m\u001b[38;2;186;33;33m\"\u001b[39m, value\u001b[38;2;102;102;102m=\u001b[39m\u001b[38;2;102;102;102m0\u001b[39m),\n",
      "    gr\u001b[38;2;102;102;102m.\u001b[39mNumber(label\u001b[38;2;102;102;102m=\u001b[39m\u001b[38;2;186;33;33m\"\u001b[39m\u001b[38;2;186;33;33mNumOfProducts\u001b[39m\u001b[38;2;186;33;33m\"\u001b[39m, value\u001b[38;2;102;102;102m=\u001b[39m\u001b[38;2;102;102;102m1\u001b[39m),\n",
      "    gr\u001b[38;2;102;102;102m.\u001b[39mNumber(label\u001b[38;2;102;102;102m=\u001b[39m\u001b[38;2;186;33;33m\"\u001b[39m\u001b[38;2;186;33;33mHasCrCard\u001b[39m\u001b[38;2;186;33;33m\"\u001b[39m, value\u001b[38;2;102;102;102m=\u001b[39m\u001b[38;2;102;102;102m1\u001b[39m),\n",
      "    gr\u001b[38;2;102;102;102m.\u001b[39mNumber(label\u001b[38;2;102;102;102m=\u001b[39m\u001b[38;2;186;33;33m\"\u001b[39m\u001b[38;2;186;33;33mIsActiveMember\u001b[39m\u001b[38;2;186;33;33m\"\u001b[39m, value\u001b[38;2;102;102;102m=\u001b[39m\u001b[38;2;102;102;102m1\u001b[39m),\n",
      "    gr\u001b[38;2;102;102;102m.\u001b[39mNumber(label\u001b[38;2;102;102;102m=\u001b[39m\u001b[38;2;186;33;33m\"\u001b[39m\u001b[38;2;186;33;33mEstimatedSalary\u001b[39m\u001b[38;2;186;33;33m\"\u001b[39m, value\u001b[38;2;102;102;102m=\u001b[39m\u001b[38;2;102;102;102m101348.88\u001b[39m)\n",
      "]\n",
      "\n",
      "\n",
      "\u001b[38;2;0;128;0;01mdef\u001b[39;00m \u001b[38;2;0;0;255mpredict\u001b[39m(\u001b[38;2;102;102;102m*\u001b[39mval):\n",
      "    json_body \u001b[38;2;102;102;102m=\u001b[39m {\u001b[38;2;186;33;33m\"\u001b[39m\u001b[38;2;186;33;33mparameters\u001b[39m\u001b[38;2;186;33;33m\"\u001b[39m: {\n",
      "        \u001b[38;2;186;33;33m\"\u001b[39m\u001b[38;2;186;33;33mcontent_type\u001b[39m\u001b[38;2;186;33;33m\"\u001b[39m: \u001b[38;2;186;33;33m\"\u001b[39m\u001b[38;2;186;33;33mpd\u001b[39m\u001b[38;2;186;33;33m\"\u001b[39m\n",
      "    }, \u001b[38;2;186;33;33m\"\u001b[39m\u001b[38;2;186;33;33minputs\u001b[39m\u001b[38;2;186;33;33m\"\u001b[39m: []}\n",
      "\n",
      "    \u001b[38;2;0;128;0;01mfor\u001b[39;00m v, inp \u001b[38;2;170;34;255;01min\u001b[39;00m \u001b[38;2;0;128;0mzip\u001b[39m(val, inputs):\n",
      "        json_body[\u001b[38;2;186;33;33m\"\u001b[39m\u001b[38;2;186;33;33minputs\u001b[39m\u001b[38;2;186;33;33m\"\u001b[39m]\u001b[38;2;102;102;102m.\u001b[39mappend(\n",
      "            {\n",
      "                \u001b[38;2;186;33;33m\"\u001b[39m\u001b[38;2;186;33;33mname\u001b[39m\u001b[38;2;186;33;33m\"\u001b[39m: inp\u001b[38;2;102;102;102m.\u001b[39mlabel,\n",
      "                \u001b[38;2;186;33;33m\"\u001b[39m\u001b[38;2;186;33;33mdatatype\u001b[39m\u001b[38;2;186;33;33m\"\u001b[39m: \u001b[38;2;186;33;33m\"\u001b[39m\u001b[38;2;186;33;33mFP32\u001b[39m\u001b[38;2;186;33;33m\"\u001b[39m,\n",
      "                \u001b[38;2;186;33;33m\"\u001b[39m\u001b[38;2;186;33;33mdata\u001b[39m\u001b[38;2;186;33;33m\"\u001b[39m: [v],\n",
      "                \u001b[38;2;186;33;33m\"\u001b[39m\u001b[38;2;186;33;33mshape\u001b[39m\u001b[38;2;186;33;33m\"\u001b[39m: [\u001b[38;2;102;102;102m1\u001b[39m]\n",
      "            }\n",
      "        )\n",
      "    resp \u001b[38;2;102;102;102m=\u001b[39m requests\u001b[38;2;102;102;102m.\u001b[39mpost(\n",
      "        url\u001b[38;2;102;102;102m=\u001b[39murljoin(MODEL_DEPLOYED_URL, \u001b[38;2;186;33;33m\"\u001b[39m\u001b[38;2;186;33;33mv2/models/churn-model/infer\u001b[39m\u001b[38;2;186;33;33m\"\u001b[39m),\n",
      "        json\u001b[38;2;102;102;102m=\u001b[39mjson_body\n",
      "    )\n",
      "    r \u001b[38;2;102;102;102m=\u001b[39m resp\u001b[38;2;102;102;102m.\u001b[39mjson()\n",
      "    \u001b[38;2;0;128;0;01mreturn\u001b[39;00m [ r[\u001b[38;2;186;33;33m\"\u001b[39m\u001b[38;2;186;33;33moutputs\u001b[39m\u001b[38;2;186;33;33m\"\u001b[39m][\u001b[38;2;102;102;102m0\u001b[39m][\u001b[38;2;186;33;33m\"\u001b[39m\u001b[38;2;186;33;33mdata\u001b[39m\u001b[38;2;186;33;33m\"\u001b[39m][\u001b[38;2;102;102;102m0\u001b[39m],  r[\u001b[38;2;186;33;33m\"\u001b[39m\u001b[38;2;186;33;33mmodel_version\u001b[39m\u001b[38;2;186;33;33m\"\u001b[39m]]\n",
      "\n",
      "\n",
      "desc \u001b[38;2;102;102;102m=\u001b[39m \u001b[38;2;186;33;33mf\u001b[39m\u001b[38;2;186;33;33m\"\"\"\u001b[39m\u001b[38;2;186;33;33m## Demo Deployed at \u001b[39m\u001b[38;2;164;90;119;01m{\u001b[39;00mdatetime\u001b[38;2;102;102;102m.\u001b[39mdatetime\u001b[38;2;102;102;102m.\u001b[39mnow()\u001b[38;2;102;102;102m.\u001b[39mstrftime(\u001b[38;2;186;33;33m\"\u001b[39m\u001b[38;2;164;90;119;01m%d\u001b[39;00m\u001b[38;2;186;33;33m/\u001b[39m\u001b[38;2;186;33;33m%\u001b[39m\u001b[38;2;186;33;33mm/\u001b[39m\u001b[38;2;186;33;33m%\u001b[39m\u001b[38;2;186;33;33mY \u001b[39m\u001b[38;2;186;33;33m%\u001b[39m\u001b[38;2;186;33;33mH:\u001b[39m\u001b[38;2;186;33;33m%\u001b[39m\u001b[38;2;186;33;33mM:\u001b[39m\u001b[38;2;186;33;33m%\u001b[39m\u001b[38;2;186;33;33mS\u001b[39m\u001b[38;2;186;33;33m\"\u001b[39m)\u001b[38;2;164;90;119;01m}\u001b[39;00m\u001b[38;2;186;33;33m\"\"\"\u001b[39m\n",
      "\n",
      "app \u001b[38;2;102;102;102m=\u001b[39m gr\u001b[38;2;102;102;102m.\u001b[39mInterface(\n",
      "    fn\u001b[38;2;102;102;102m=\u001b[39mpredict,\n",
      "    inputs\u001b[38;2;102;102;102m=\u001b[39minputs,\n",
      "    outputs\u001b[38;2;102;102;102m=\u001b[39m[gr\u001b[38;2;102;102;102m.\u001b[39mTextbox(label\u001b[38;2;102;102;102m=\u001b[39m\u001b[38;2;186;33;33m\"\u001b[39m\u001b[38;2;186;33;33mChurn\u001b[39m\u001b[38;2;186;33;33m\"\u001b[39m), gr\u001b[38;2;102;102;102m.\u001b[39mTextbox(label\u001b[38;2;102;102;102m=\u001b[39m\u001b[38;2;186;33;33m\"\u001b[39m\u001b[38;2;186;33;33mModel Version\u001b[39m\u001b[38;2;186;33;33m\"\u001b[39m)],\n",
      "    description\u001b[38;2;102;102;102m=\u001b[39mdesc,\n",
      "    title\u001b[38;2;102;102;102m=\u001b[39m\u001b[38;2;186;33;33m\"\u001b[39m\u001b[38;2;186;33;33mChurn Predictor\u001b[39m\u001b[38;2;186;33;33m\"\u001b[39m,\n",
      ")\n",
      "app\u001b[38;2;102;102;102m.\u001b[39mlaunch(server_name\u001b[38;2;102;102;102m=\u001b[39m\u001b[38;2;186;33;33m\"\u001b[39m\u001b[38;2;186;33;33m0.0.0.0\u001b[39m\u001b[38;2;186;33;33m\"\u001b[39m, server_port\u001b[38;2;102;102;102m=\u001b[39m\u001b[38;2;102;102;102m8080\u001b[39m)\n"
     ]
    }
   ],
   "source": [
    "!pygmentize demo.py"
   ]
  },
  {
   "cell_type": "markdown",
   "metadata": {},
   "source": [
    "### Defining the requirements"
   ]
  },
  {
   "cell_type": "code",
   "execution_count": 58,
   "metadata": {},
   "outputs": [
    {
     "name": "stdout",
     "output_type": "stream",
     "text": [
      "requests==2.28.1\r\n",
      "gradio==3.17.1\r\n",
      "urllib3==1.26.12\r\n"
     ]
    }
   ],
   "source": [
    "!pygmentize requirements.txt"
   ]
  },
  {
   "cell_type": "markdown",
   "metadata": {},
   "source": [
    "### Deploying the grdaio demo as a 'Service'"
   ]
  },
  {
   "cell_type": "code",
   "execution_count": null,
   "metadata": {},
   "outputs": [],
   "source": [
    "import logging\n",
    "\n",
    "from servicefoundry import Build, PythonBuild, Resources, Service\n",
    "\n",
    "logging.basicConfig(level=logging.INFO)\n",
    "\n",
    "MODEL_DEPLOYED_URL = f\"https://churn-prediction-{WORKSPACE.split(':')[-1]}.tfy-ctl-euwe1-production.production.truefoundry.com\"\n",
    "\n",
    "# creating a service object and defining all the configurations\n",
    "service = Service(\n",
    "    name=\"churn-prediction-demo\",\n",
    "    image=Build(\n",
    "        build_spec=PythonBuild(\n",
    "            command=\"python demo.py\",\n",
    "            python_version=\"3.9\",\n",
    "        ),\n",
    "    ),\n",
    "    env={\n",
    "        \"MODEL_DEPLOYED_URL\": MODEL_DEPLOYED_URL,\n",
    "    },\n",
    "    ports=[{\"port\": 8080}], #In public cloud deployment TrueFoundry exposes port 8080    \n",
    "    resources=Resources(\n",
    "        cpu_request=0.5, cpu_limit=0.5, memory_limit=2500, memory_request=1500\n",
    "    ),\n",
    "    replicas=1\n",
    ")\n",
    "service.deploy(workspace_fqn=WORKSPACE)\n"
   ]
  }
 ],
 "metadata": {
  "colab": {
   "collapsed_sections": [
    "etyus4gpQXlJ"
   ],
   "provenance": []
  },
  "kernelspec": {
   "display_name": "Python 3 (ipykernel)",
   "language": "python",
   "name": "python3"
  },
  "language_info": {
   "codemirror_mode": {
    "name": "ipython",
    "version": 3
   },
   "file_extension": ".py",
   "mimetype": "text/x-python",
   "name": "python",
   "nbconvert_exporter": "python",
   "pygments_lexer": "ipython3",
   "version": "3.8.13"
  },
  "widgets": {
   "application/vnd.jupyter.widget-state+json": {
    "0b615887cc064da3af93c40ebeb6db54": {
     "model_module": "@jupyter-widgets/base",
     "model_module_version": "1.2.0",
     "model_name": "LayoutModel",
     "state": {
      "_model_module": "@jupyter-widgets/base",
      "_model_module_version": "1.2.0",
      "_model_name": "LayoutModel",
      "_view_count": null,
      "_view_module": "@jupyter-widgets/base",
      "_view_module_version": "1.2.0",
      "_view_name": "LayoutView",
      "align_content": null,
      "align_items": null,
      "align_self": null,
      "border": null,
      "bottom": null,
      "display": null,
      "flex": null,
      "flex_flow": null,
      "grid_area": null,
      "grid_auto_columns": null,
      "grid_auto_flow": null,
      "grid_auto_rows": null,
      "grid_column": null,
      "grid_gap": null,
      "grid_row": null,
      "grid_template_areas": null,
      "grid_template_columns": null,
      "grid_template_rows": null,
      "height": null,
      "justify_content": null,
      "justify_items": null,
      "left": null,
      "margin": null,
      "max_height": null,
      "max_width": null,
      "min_height": null,
      "min_width": null,
      "object_fit": null,
      "object_position": null,
      "order": null,
      "overflow": null,
      "overflow_x": null,
      "overflow_y": null,
      "padding": null,
      "right": null,
      "top": null,
      "visibility": null,
      "width": null
     }
    },
    "70a2ad495da5498daf839c67c99f8c0b": {
     "model_module": "@jupyter-widgets/output",
     "model_module_version": "1.0.0",
     "model_name": "OutputModel",
     "state": {
      "_dom_classes": [],
      "_model_module": "@jupyter-widgets/output",
      "_model_module_version": "1.0.0",
      "_model_name": "OutputModel",
      "_view_count": null,
      "_view_module": "@jupyter-widgets/output",
      "_view_module_version": "1.0.0",
      "_view_name": "OutputView",
      "layout": "IPY_MODEL_c0025855df4e4758ad76ca740336b36c",
      "msg_id": "",
      "outputs": [
       {
        "data": {
         "text/html": "<pre style=\"white-space:pre;overflow-x:auto;line-height:normal;font-family:Menlo,'DejaVu Sans Mono',consolas,'Courier New',monospace\"><span style=\"color: #008000; text-decoration-color: #008000\">⠇</span> Current state: BUILDING\n</pre>\n",
         "text/plain": "\u001b[32m⠇\u001b[0m Current state: BUILDING\n"
        },
        "metadata": {},
        "output_type": "display_data"
       }
      ]
     }
    },
    "8d2d3426ffd142ce841342146d5132ed": {
     "model_module": "@jupyter-widgets/output",
     "model_module_version": "1.0.0",
     "model_name": "OutputModel",
     "state": {
      "_dom_classes": [],
      "_model_module": "@jupyter-widgets/output",
      "_model_module_version": "1.0.0",
      "_model_name": "OutputModel",
      "_view_count": null,
      "_view_module": "@jupyter-widgets/output",
      "_view_module_version": "1.0.0",
      "_view_name": "OutputView",
      "layout": "IPY_MODEL_a0b8eb3c883747bc88c710101c2a2156",
      "msg_id": "",
      "outputs": [
       {
        "data": {
         "text/html": "<pre style=\"white-space:pre;overflow-x:auto;line-height:normal;font-family:Menlo,'DejaVu Sans Mono',consolas,'Courier New',monospace\"><span style=\"color: #008000; text-decoration-color: #008000\">⠇</span> Current state: BUILDING\n</pre>\n",
         "text/plain": "\u001b[32m⠇\u001b[0m Current state: BUILDING\n"
        },
        "metadata": {},
        "output_type": "display_data"
       }
      ]
     }
    },
    "8e996b8312794aac8c446aecd814556d": {
     "model_module": "@jupyter-widgets/output",
     "model_module_version": "1.0.0",
     "model_name": "OutputModel",
     "state": {
      "_dom_classes": [],
      "_model_module": "@jupyter-widgets/output",
      "_model_module_version": "1.0.0",
      "_model_name": "OutputModel",
      "_view_count": null,
      "_view_module": "@jupyter-widgets/output",
      "_view_module_version": "1.0.0",
      "_view_name": "OutputView",
      "layout": "IPY_MODEL_0b615887cc064da3af93c40ebeb6db54",
      "msg_id": "",
      "outputs": [
       {
        "data": {
         "text/html": "<pre style=\"white-space:pre;overflow-x:auto;line-height:normal;font-family:Menlo,'DejaVu Sans Mono',consolas,'Courier New',monospace\"><span style=\"color: #008000; text-decoration-color: #008000\">⠇</span> Current state: BUILDING\n</pre>\n",
         "text/plain": "\u001b[32m⠇\u001b[0m Current state: BUILDING\n"
        },
        "metadata": {},
        "output_type": "display_data"
       }
      ]
     }
    },
    "a0b8eb3c883747bc88c710101c2a2156": {
     "model_module": "@jupyter-widgets/base",
     "model_module_version": "1.2.0",
     "model_name": "LayoutModel",
     "state": {
      "_model_module": "@jupyter-widgets/base",
      "_model_module_version": "1.2.0",
      "_model_name": "LayoutModel",
      "_view_count": null,
      "_view_module": "@jupyter-widgets/base",
      "_view_module_version": "1.2.0",
      "_view_name": "LayoutView",
      "align_content": null,
      "align_items": null,
      "align_self": null,
      "border": null,
      "bottom": null,
      "display": null,
      "flex": null,
      "flex_flow": null,
      "grid_area": null,
      "grid_auto_columns": null,
      "grid_auto_flow": null,
      "grid_auto_rows": null,
      "grid_column": null,
      "grid_gap": null,
      "grid_row": null,
      "grid_template_areas": null,
      "grid_template_columns": null,
      "grid_template_rows": null,
      "height": null,
      "justify_content": null,
      "justify_items": null,
      "left": null,
      "margin": null,
      "max_height": null,
      "max_width": null,
      "min_height": null,
      "min_width": null,
      "object_fit": null,
      "object_position": null,
      "order": null,
      "overflow": null,
      "overflow_x": null,
      "overflow_y": null,
      "padding": null,
      "right": null,
      "top": null,
      "visibility": null,
      "width": null
     }
    },
    "c0025855df4e4758ad76ca740336b36c": {
     "model_module": "@jupyter-widgets/base",
     "model_module_version": "1.2.0",
     "model_name": "LayoutModel",
     "state": {
      "_model_module": "@jupyter-widgets/base",
      "_model_module_version": "1.2.0",
      "_model_name": "LayoutModel",
      "_view_count": null,
      "_view_module": "@jupyter-widgets/base",
      "_view_module_version": "1.2.0",
      "_view_name": "LayoutView",
      "align_content": null,
      "align_items": null,
      "align_self": null,
      "border": null,
      "bottom": null,
      "display": null,
      "flex": null,
      "flex_flow": null,
      "grid_area": null,
      "grid_auto_columns": null,
      "grid_auto_flow": null,
      "grid_auto_rows": null,
      "grid_column": null,
      "grid_gap": null,
      "grid_row": null,
      "grid_template_areas": null,
      "grid_template_columns": null,
      "grid_template_rows": null,
      "height": null,
      "justify_content": null,
      "justify_items": null,
      "left": null,
      "margin": null,
      "max_height": null,
      "max_width": null,
      "min_height": null,
      "min_width": null,
      "object_fit": null,
      "object_position": null,
      "order": null,
      "overflow": null,
      "overflow_x": null,
      "overflow_y": null,
      "padding": null,
      "right": null,
      "top": null,
      "visibility": null,
      "width": null
     }
    },
    "d2da2d3b73dd4e7781e8c0aa27e4bc3f": {
     "model_module": "@jupyter-widgets/base",
     "model_module_version": "1.2.0",
     "model_name": "LayoutModel",
     "state": {
      "_model_module": "@jupyter-widgets/base",
      "_model_module_version": "1.2.0",
      "_model_name": "LayoutModel",
      "_view_count": null,
      "_view_module": "@jupyter-widgets/base",
      "_view_module_version": "1.2.0",
      "_view_name": "LayoutView",
      "align_content": null,
      "align_items": null,
      "align_self": null,
      "border": null,
      "bottom": null,
      "display": null,
      "flex": null,
      "flex_flow": null,
      "grid_area": null,
      "grid_auto_columns": null,
      "grid_auto_flow": null,
      "grid_auto_rows": null,
      "grid_column": null,
      "grid_gap": null,
      "grid_row": null,
      "grid_template_areas": null,
      "grid_template_columns": null,
      "grid_template_rows": null,
      "height": null,
      "justify_content": null,
      "justify_items": null,
      "left": null,
      "margin": null,
      "max_height": null,
      "max_width": null,
      "min_height": null,
      "min_width": null,
      "object_fit": null,
      "object_position": null,
      "order": null,
      "overflow": null,
      "overflow_x": null,
      "overflow_y": null,
      "padding": null,
      "right": null,
      "top": null,
      "visibility": null,
      "width": null
     }
    },
    "eb070a842afe4f39b86c82efb3c435f5": {
     "model_module": "@jupyter-widgets/output",
     "model_module_version": "1.0.0",
     "model_name": "OutputModel",
     "state": {
      "_dom_classes": [],
      "_model_module": "@jupyter-widgets/output",
      "_model_module_version": "1.0.0",
      "_model_name": "OutputModel",
      "_view_count": null,
      "_view_module": "@jupyter-widgets/output",
      "_view_module_version": "1.0.0",
      "_view_name": "OutputView",
      "layout": "IPY_MODEL_f1610cffe2af4c5b8970148ea8839475",
      "msg_id": "",
      "outputs": [
       {
        "data": {
         "text/html": "<pre style=\"white-space:pre;overflow-x:auto;line-height:normal;font-family:Menlo,'DejaVu Sans Mono',consolas,'Courier New',monospace\"><span style=\"color: #008000; text-decoration-color: #008000\">⠇</span> Current state: BUILDING\n</pre>\n",
         "text/plain": "\u001b[32m⠇\u001b[0m Current state: BUILDING\n"
        },
        "metadata": {},
        "output_type": "display_data"
       }
      ]
     }
    },
    "f1610cffe2af4c5b8970148ea8839475": {
     "model_module": "@jupyter-widgets/base",
     "model_module_version": "1.2.0",
     "model_name": "LayoutModel",
     "state": {
      "_model_module": "@jupyter-widgets/base",
      "_model_module_version": "1.2.0",
      "_model_name": "LayoutModel",
      "_view_count": null,
      "_view_module": "@jupyter-widgets/base",
      "_view_module_version": "1.2.0",
      "_view_name": "LayoutView",
      "align_content": null,
      "align_items": null,
      "align_self": null,
      "border": null,
      "bottom": null,
      "display": null,
      "flex": null,
      "flex_flow": null,
      "grid_area": null,
      "grid_auto_columns": null,
      "grid_auto_flow": null,
      "grid_auto_rows": null,
      "grid_column": null,
      "grid_gap": null,
      "grid_row": null,
      "grid_template_areas": null,
      "grid_template_columns": null,
      "grid_template_rows": null,
      "height": null,
      "justify_content": null,
      "justify_items": null,
      "left": null,
      "margin": null,
      "max_height": null,
      "max_width": null,
      "min_height": null,
      "min_width": null,
      "object_fit": null,
      "object_position": null,
      "order": null,
      "overflow": null,
      "overflow_x": null,
      "overflow_y": null,
      "padding": null,
      "right": null,
      "top": null,
      "visibility": null,
      "width": null
     }
    },
    "fa235013ea684b5b8d6017a249439a3a": {
     "model_module": "@jupyter-widgets/output",
     "model_module_version": "1.0.0",
     "model_name": "OutputModel",
     "state": {
      "_dom_classes": [],
      "_model_module": "@jupyter-widgets/output",
      "_model_module_version": "1.0.0",
      "_model_name": "OutputModel",
      "_view_count": null,
      "_view_module": "@jupyter-widgets/output",
      "_view_module_version": "1.0.0",
      "_view_name": "OutputView",
      "layout": "IPY_MODEL_d2da2d3b73dd4e7781e8c0aa27e4bc3f",
      "msg_id": "",
      "outputs": [
       {
        "data": {
         "text/html": "<pre style=\"white-space:pre;overflow-x:auto;line-height:normal;font-family:Menlo,'DejaVu Sans Mono',consolas,'Courier New',monospace\"><span style=\"color: #008000; text-decoration-color: #008000\">⠴</span> Current state: BUILDING\n</pre>\n",
         "text/plain": "\u001b[32m⠴\u001b[0m Current state: BUILDING\n"
        },
        "metadata": {},
        "output_type": "display_data"
       }
      ]
     }
    }
   }
  }
 },
 "nbformat": 4,
 "nbformat_minor": 1
}
