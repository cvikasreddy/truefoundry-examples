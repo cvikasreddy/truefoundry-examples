{
 "cells": [
  {
   "cell_type": "markdown",
   "metadata": {
    "id": "2c6nhZIxSvl2"
   },
   "source": [
    "# 🛠 Setup"
   ]
  },
  {
   "cell_type": "code",
   "execution_count": null,
   "metadata": {
    "colab": {
     "base_uri": "https://localhost:8080/"
    },
    "id": "rnalU7uLTgmr",
    "outputId": "6eb49ff0-9e66-4f43-9381-4fd04867246d"
   },
   "outputs": [
    {
     "name": "stdout",
     "output_type": "stream",
     "text": [
      "Looking in indexes: https://pypi.org/simple, https://us-python.pkg.dev/colab-wheels/public/simple/\n",
      "Requirement already satisfied: servicefoundry==0.6.6 in /usr/local/lib/python3.8/dist-packages (0.6.6)\n",
      "Requirement already satisfied: mlfoundry==0.6.1 in /usr/local/lib/python3.8/dist-packages (0.6.1)\n",
      "Requirement already satisfied: Mako<2.0.0,>=1.1.6 in /usr/local/lib/python3.8/dist-packages (from servicefoundry==0.6.6) (1.2.4)\n",
      "Requirement already satisfied: typing-extensions<5.0.0,>=4.3.0 in /usr/local/lib/python3.8/dist-packages (from servicefoundry==0.6.6) (4.4.0)\n",
      "Requirement already satisfied: pygments<3.0.0,>=2.12.0 in /usr/local/lib/python3.8/dist-packages (from servicefoundry==0.6.6) (2.14.0)\n",
      "Requirement already satisfied: rich-click<2.0.0,>=1.2.1 in /usr/local/lib/python3.8/dist-packages (from servicefoundry==0.6.6) (1.6.1)\n",
      "Requirement already satisfied: GitPython<4.0.0,>=3.1.27 in /usr/local/lib/python3.8/dist-packages (from servicefoundry==0.6.6) (3.1.30)\n",
      "Requirement already satisfied: packaging<22.0,>=21.3 in /usr/local/lib/python3.8/dist-packages (from servicefoundry==0.6.6) (21.3)\n",
      "Requirement already satisfied: PyJWT<3.0.0,>=2.3.0 in /usr/local/lib/python3.8/dist-packages (from servicefoundry==0.6.6) (2.6.0)\n",
      "Requirement already satisfied: importlib-metadata<5.0,>=4.2 in /usr/local/lib/python3.8/dist-packages (from servicefoundry==0.6.6) (4.13.0)\n",
      "Requirement already satisfied: importlib-resources<6.0.0,>=5.2.0 in /usr/local/lib/python3.8/dist-packages (from servicefoundry==0.6.6) (5.10.2)\n",
      "Requirement already satisfied: chevron<0.15.0,>=0.14.0 in /usr/local/lib/python3.8/dist-packages (from servicefoundry==0.6.6) (0.14.0)\n",
      "Requirement already satisfied: prometheus-client<0.15.0,>=0.14.1 in /usr/local/lib/python3.8/dist-packages (from servicefoundry==0.6.6) (0.14.1)\n",
      "Requirement already satisfied: python-dotenv<0.21.0,>=0.20.0 in /usr/local/lib/python3.8/dist-packages (from servicefoundry==0.6.6) (0.20.0)\n",
      "Requirement already satisfied: cookiecutter<3.0.0,>=2.1.1 in /usr/local/lib/python3.8/dist-packages (from servicefoundry==0.6.6) (2.1.1)\n",
      "Requirement already satisfied: jq<2.0.0,>=1.4.0 in /usr/local/lib/python3.8/dist-packages (from servicefoundry==0.6.6) (1.4.0)\n",
      "Requirement already satisfied: uvicorn<0.19.0,>=0.18.2 in /usr/local/lib/python3.8/dist-packages (from servicefoundry==0.6.6) (0.18.3)\n",
      "Requirement already satisfied: pydantic<2.0.0,>=1.9.1 in /usr/local/lib/python3.8/dist-packages (from servicefoundry==0.6.6) (1.10.4)\n",
      "Requirement already satisfied: requests<3.0.0,>=2.27.1 in /usr/local/lib/python3.8/dist-packages (from servicefoundry==0.6.6) (2.28.2)\n",
      "Requirement already satisfied: python-socketio[client]<6.0.0,>=5.5.2 in /usr/local/lib/python3.8/dist-packages (from servicefoundry==0.6.6) (5.7.2)\n",
      "Requirement already satisfied: fastapi<0.79.0,>=0.78.0 in /usr/local/lib/python3.8/dist-packages (from servicefoundry==0.6.6) (0.78.0)\n",
      "Requirement already satisfied: PyYAML<7.0,>=6.0 in /usr/local/lib/python3.8/dist-packages (from servicefoundry==0.6.6) (6.0)\n",
      "Requirement already satisfied: questionary<2.0.0,>=1.10.0 in /usr/local/lib/python3.8/dist-packages (from servicefoundry==0.6.6) (1.10.0)\n",
      "Requirement already satisfied: rich<13.0.0,>=12.0.0 in /usr/local/lib/python3.8/dist-packages (from servicefoundry==0.6.6) (12.6.0)\n",
      "Requirement already satisfied: filelock<4.0.0,>=3.8.0 in /usr/local/lib/python3.8/dist-packages (from servicefoundry==0.6.6) (3.9.0)\n",
      "Requirement already satisfied: docker<7.0.0,>=6.0.1 in /usr/local/lib/python3.8/dist-packages (from servicefoundry==0.6.6) (6.0.1)\n",
      "Requirement already satisfied: gitignorefile<2.0.0,>=1.1.2 in /usr/local/lib/python3.8/dist-packages (from servicefoundry==0.6.6) (1.1.2)\n",
      "Requirement already satisfied: python-dateutil<3.0.0,>=2.8.2 in /usr/local/lib/python3.8/dist-packages (from servicefoundry==0.6.6) (2.8.2)\n",
      "Requirement already satisfied: tqdm<5.0.0,>=4.0.0 in /usr/local/lib/python3.8/dist-packages (from servicefoundry==0.6.6) (4.64.1)\n",
      "Requirement already satisfied: click<9.0.0,>=8.0.4 in /usr/local/lib/python3.8/dist-packages (from servicefoundry==0.6.6) (8.1.3)\n",
      "Requirement already satisfied: scipy<2.0.0,>=1.5.4 in /usr/local/lib/python3.8/dist-packages (from mlfoundry==0.6.1) (1.7.3)\n",
      "Requirement already satisfied: pandas<2.0.0,>=1.0.0 in /usr/local/lib/python3.8/dist-packages (from mlfoundry==0.6.1) (1.5.3)\n",
      "Requirement already satisfied: fastparquet<=2022.12.0,>=0.8.0 in /usr/local/lib/python3.8/dist-packages (from mlfoundry==0.6.1) (2022.12.0)\n",
      "Requirement already satisfied: numpy<1.24.0,>=1.17.0 in /usr/local/lib/python3.8/dist-packages (from mlfoundry==0.6.1) (1.21.6)\n",
      "Requirement already satisfied: boto3<2.0.0,>=1.14.1 in /usr/local/lib/python3.8/dist-packages (from mlfoundry==0.6.1) (1.26.60)\n",
      "Requirement already satisfied: scikit-learn<2.0.0,>=0.24.2 in /usr/local/lib/python3.8/dist-packages (from mlfoundry==0.6.1) (1.0.2)\n",
      "Requirement already satisfied: whylogs<0.7.0,>=0.6.15 in /usr/local/lib/python3.8/dist-packages (from mlfoundry==0.6.1) (0.6.30)\n",
      "Requirement already satisfied: coolname<2.0.0,>=1.1.0 in /usr/local/lib/python3.8/dist-packages (from mlfoundry==0.6.1) (1.1.0)\n",
      "Requirement already satisfied: psutil<6.0.0,>=5.9.0 in /usr/local/lib/python3.8/dist-packages (from mlfoundry==0.6.1) (5.9.4)\n",
      "Requirement already satisfied: tfy-mlflow-client==0.0.22 in /usr/local/lib/python3.8/dist-packages (from mlfoundry==0.6.1) (0.0.22)\n",
      "Requirement already satisfied: amplitude-tracker<0.0.8,>=0.0.7 in /usr/local/lib/python3.8/dist-packages (from mlfoundry==0.6.1) (0.0.7)\n",
      "Requirement already satisfied: pyarrow<9.0.0,>=5.0.0 in /usr/local/lib/python3.8/dist-packages (from mlfoundry==0.6.1) (8.0.0)\n",
      "Requirement already satisfied: databricks-cli>=0.8.7 in /usr/local/lib/python3.8/dist-packages (from tfy-mlflow-client==0.0.22->mlfoundry==0.6.1) (0.17.4)\n",
      "Requirement already satisfied: pytz in /usr/local/lib/python3.8/dist-packages (from tfy-mlflow-client==0.0.22->mlfoundry==0.6.1) (2022.7)\n",
      "Requirement already satisfied: entrypoints in /usr/local/lib/python3.8/dist-packages (from tfy-mlflow-client==0.0.22->mlfoundry==0.6.1) (0.4)\n",
      "Requirement already satisfied: cloudpickle in /usr/local/lib/python3.8/dist-packages (from tfy-mlflow-client==0.0.22->mlfoundry==0.6.1) (2.2.0)\n",
      "Requirement already satisfied: sqlparse>=0.3.1 in /usr/local/lib/python3.8/dist-packages (from tfy-mlflow-client==0.0.22->mlfoundry==0.6.1) (0.4.3)\n",
      "Requirement already satisfied: protobuf<5.0,>=3.12 in /usr/local/lib/python3.8/dist-packages (from tfy-mlflow-client==0.0.22->mlfoundry==0.6.1) (3.19.6)\n",
      "Requirement already satisfied: six>=1.5 in /usr/local/lib/python3.8/dist-packages (from amplitude-tracker<0.0.8,>=0.0.7->mlfoundry==0.6.1) (1.15.0)\n",
      "Requirement already satisfied: backoff==1.10.0 in /usr/local/lib/python3.8/dist-packages (from amplitude-tracker<0.0.8,>=0.0.7->mlfoundry==0.6.1) (1.10.0)\n",
      "Requirement already satisfied: monotonic>=1.5 in /usr/local/lib/python3.8/dist-packages (from amplitude-tracker<0.0.8,>=0.0.7->mlfoundry==0.6.1) (1.6)\n",
      "Requirement already satisfied: s3transfer<0.7.0,>=0.6.0 in /usr/local/lib/python3.8/dist-packages (from boto3<2.0.0,>=1.14.1->mlfoundry==0.6.1) (0.6.0)\n",
      "Requirement already satisfied: jmespath<2.0.0,>=0.7.1 in /usr/local/lib/python3.8/dist-packages (from boto3<2.0.0,>=1.14.1->mlfoundry==0.6.1) (1.0.1)\n",
      "Requirement already satisfied: botocore<1.30.0,>=1.29.60 in /usr/local/lib/python3.8/dist-packages (from boto3<2.0.0,>=1.14.1->mlfoundry==0.6.1) (1.29.60)\n",
      "Requirement already satisfied: Jinja2<4.0.0,>=2.7 in /usr/local/lib/python3.8/dist-packages (from cookiecutter<3.0.0,>=2.1.1->servicefoundry==0.6.6) (2.11.3)\n",
      "Requirement already satisfied: python-slugify>=4.0.0 in /usr/local/lib/python3.8/dist-packages (from cookiecutter<3.0.0,>=2.1.1->servicefoundry==0.6.6) (7.0.0)\n",
      "Requirement already satisfied: jinja2-time>=0.2.0 in /usr/local/lib/python3.8/dist-packages (from cookiecutter<3.0.0,>=2.1.1->servicefoundry==0.6.6) (0.2.0)\n",
      "Requirement already satisfied: binaryornot>=0.4.4 in /usr/local/lib/python3.8/dist-packages (from cookiecutter<3.0.0,>=2.1.1->servicefoundry==0.6.6) (0.4.4)\n",
      "Requirement already satisfied: urllib3>=1.26.0 in /usr/local/lib/python3.8/dist-packages (from docker<7.0.0,>=6.0.1->servicefoundry==0.6.6) (1.26.14)\n",
      "Requirement already satisfied: websocket-client>=0.32.0 in /usr/local/lib/python3.8/dist-packages (from docker<7.0.0,>=6.0.1->servicefoundry==0.6.6) (1.5.0)\n",
      "Requirement already satisfied: starlette==0.19.1 in /usr/local/lib/python3.8/dist-packages (from fastapi<0.79.0,>=0.78.0->servicefoundry==0.6.6) (0.19.1)\n",
      "Requirement already satisfied: anyio<5,>=3.4.0 in /usr/local/lib/python3.8/dist-packages (from starlette==0.19.1->fastapi<0.79.0,>=0.78.0->servicefoundry==0.6.6) (3.6.2)\n",
      "Requirement already satisfied: cramjam>=2.3 in /usr/local/lib/python3.8/dist-packages (from fastparquet<=2022.12.0,>=0.8.0->mlfoundry==0.6.1) (2.6.2)\n",
      "Requirement already satisfied: fsspec in /usr/local/lib/python3.8/dist-packages (from fastparquet<=2022.12.0,>=0.8.0->mlfoundry==0.6.1) (2022.11.0)\n",
      "Requirement already satisfied: gitdb<5,>=4.0.1 in /usr/local/lib/python3.8/dist-packages (from GitPython<4.0.0,>=3.1.27->servicefoundry==0.6.6) (4.0.10)\n",
      "Requirement already satisfied: zipp>=0.5 in /usr/local/lib/python3.8/dist-packages (from importlib-metadata<5.0,>=4.2->servicefoundry==0.6.6) (3.11.0)\n",
      "Requirement already satisfied: MarkupSafe>=0.9.2 in /usr/local/lib/python3.8/dist-packages (from Mako<2.0.0,>=1.1.6->servicefoundry==0.6.6) (2.0.1)\n",
      "Requirement already satisfied: pyparsing!=3.0.5,>=2.0.2 in /usr/local/lib/python3.8/dist-packages (from packaging<22.0,>=21.3->servicefoundry==0.6.6) (3.0.9)\n",
      "Requirement already satisfied: python-engineio>=4.3.0 in /usr/local/lib/python3.8/dist-packages (from python-socketio[client]<6.0.0,>=5.5.2->servicefoundry==0.6.6) (4.3.4)\n",
      "Requirement already satisfied: bidict>=0.21.0 in /usr/local/lib/python3.8/dist-packages (from python-socketio[client]<6.0.0,>=5.5.2->servicefoundry==0.6.6) (0.22.1)\n",
      "Requirement already satisfied: prompt_toolkit<4.0,>=2.0 in /usr/local/lib/python3.8/dist-packages (from questionary<2.0.0,>=1.10.0->servicefoundry==0.6.6) (2.0.10)\n",
      "Requirement already satisfied: certifi>=2017.4.17 in /usr/local/lib/python3.8/dist-packages (from requests<3.0.0,>=2.27.1->servicefoundry==0.6.6) (2022.12.7)\n",
      "Requirement already satisfied: charset-normalizer<4,>=2 in /usr/local/lib/python3.8/dist-packages (from requests<3.0.0,>=2.27.1->servicefoundry==0.6.6) (2.1.1)\n",
      "Requirement already satisfied: idna<4,>=2.5 in /usr/local/lib/python3.8/dist-packages (from requests<3.0.0,>=2.27.1->servicefoundry==0.6.6) (2.10)\n",
      "Requirement already satisfied: commonmark<0.10.0,>=0.9.0 in /usr/local/lib/python3.8/dist-packages (from rich<13.0.0,>=12.0.0->servicefoundry==0.6.6) (0.9.1)\n",
      "Requirement already satisfied: threadpoolctl>=2.0.0 in /usr/local/lib/python3.8/dist-packages (from scikit-learn<2.0.0,>=0.24.2->mlfoundry==0.6.1) (3.1.0)\n",
      "Requirement already satisfied: joblib>=0.11 in /usr/local/lib/python3.8/dist-packages (from scikit-learn<2.0.0,>=0.24.2->mlfoundry==0.6.1) (1.2.0)\n",
      "Requirement already satisfied: h11>=0.8 in /usr/local/lib/python3.8/dist-packages (from uvicorn<0.19.0,>=0.18.2->servicefoundry==0.6.6) (0.14.0)\n",
      "Requirement already satisfied: smart-open>=4.1.2 in /usr/local/lib/python3.8/dist-packages (from whylogs<0.7.0,>=0.6.15->mlfoundry==0.6.1) (6.3.0)\n",
      "Requirement already satisfied: whylabs-datasketches>=2.2.0b1 in /usr/local/lib/python3.8/dist-packages (from whylogs<0.7.0,>=0.6.15->mlfoundry==0.6.1) (2.2.0b1)\n",
      "Requirement already satisfied: whylabs-client<0.4.0,>=0.3.0 in /usr/local/lib/python3.8/dist-packages (from whylogs<0.7.0,>=0.6.15->mlfoundry==0.6.1) (0.3.0)\n",
      "Requirement already satisfied: jsonschema>=3.2.0 in /usr/local/lib/python3.8/dist-packages (from whylogs<0.7.0,>=0.6.15->mlfoundry==0.6.1) (4.3.3)\n",
      "Requirement already satisfied: matplotlib<4.0.0,>=3.0.3 in /usr/local/lib/python3.8/dist-packages (from whylogs<0.7.0,>=0.6.15->mlfoundry==0.6.1) (3.2.2)\n",
      "Requirement already satisfied: marshmallow>=3.7.1 in /usr/local/lib/python3.8/dist-packages (from whylogs<0.7.0,>=0.6.15->mlfoundry==0.6.1) (3.19.0)\n",
      "Requirement already satisfied: puremagic<2.0,>=1.10 in /usr/local/lib/python3.8/dist-packages (from whylogs<0.7.0,>=0.6.15->mlfoundry==0.6.1) (1.14)\n",
      "Requirement already satisfied: chardet>=3.0.2 in /usr/local/lib/python3.8/dist-packages (from binaryornot>=0.4.4->cookiecutter<3.0.0,>=2.1.1->servicefoundry==0.6.6) (4.0.0)\n",
      "Requirement already satisfied: tabulate>=0.7.7 in /usr/local/lib/python3.8/dist-packages (from databricks-cli>=0.8.7->tfy-mlflow-client==0.0.22->mlfoundry==0.6.1) (0.8.10)\n",
      "Requirement already satisfied: oauthlib>=3.1.0 in /usr/local/lib/python3.8/dist-packages (from databricks-cli>=0.8.7->tfy-mlflow-client==0.0.22->mlfoundry==0.6.1) (3.2.2)\n",
      "Requirement already satisfied: smmap<6,>=3.0.1 in /usr/local/lib/python3.8/dist-packages (from gitdb<5,>=4.0.1->GitPython<4.0.0,>=3.1.27->servicefoundry==0.6.6) (5.0.0)\n",
      "Requirement already satisfied: arrow in /usr/local/lib/python3.8/dist-packages (from jinja2-time>=0.2.0->cookiecutter<3.0.0,>=2.1.1->servicefoundry==0.6.6) (1.2.3)\n",
      "Requirement already satisfied: pyrsistent!=0.17.0,!=0.17.1,!=0.17.2,>=0.14.0 in /usr/local/lib/python3.8/dist-packages (from jsonschema>=3.2.0->whylogs<0.7.0,>=0.6.15->mlfoundry==0.6.1) (0.19.3)\n",
      "Requirement already satisfied: attrs>=17.4.0 in /usr/local/lib/python3.8/dist-packages (from jsonschema>=3.2.0->whylogs<0.7.0,>=0.6.15->mlfoundry==0.6.1) (22.2.0)\n",
      "Requirement already satisfied: kiwisolver>=1.0.1 in /usr/local/lib/python3.8/dist-packages (from matplotlib<4.0.0,>=3.0.3->whylogs<0.7.0,>=0.6.15->mlfoundry==0.6.1) (1.4.4)\n",
      "Requirement already satisfied: cycler>=0.10 in /usr/local/lib/python3.8/dist-packages (from matplotlib<4.0.0,>=3.0.3->whylogs<0.7.0,>=0.6.15->mlfoundry==0.6.1) (0.11.0)\n",
      "Requirement already satisfied: wcwidth in /usr/local/lib/python3.8/dist-packages (from prompt_toolkit<4.0,>=2.0->questionary<2.0.0,>=1.10.0->servicefoundry==0.6.6) (0.2.5)\n",
      "Requirement already satisfied: text-unidecode>=1.3 in /usr/local/lib/python3.8/dist-packages (from python-slugify>=4.0.0->cookiecutter<3.0.0,>=2.1.1->servicefoundry==0.6.6) (1.3)\n",
      "Requirement already satisfied: sniffio>=1.1 in /usr/local/lib/python3.8/dist-packages (from anyio<5,>=3.4.0->starlette==0.19.1->fastapi<0.79.0,>=0.78.0->servicefoundry==0.6.6) (1.3.0)\n"
     ]
    }
   ],
   "source": [
    "pip install -U \"servicefoundry==0.6.6\" \"mlfoundry==0.6.1\""
   ]
  },
  {
   "cell_type": "code",
   "execution_count": null,
   "metadata": {
    "id": "NN133xapzkt7"
   },
   "outputs": [],
   "source": [
    "import logging\n",
    "[logging.root.removeHandler(h) for h in logging.root.handlers]\n",
    "logging.basicConfig(level=logging.INFO, format='%(asctime)s [%(name)s] %(levelname)-8s %(message)s')"
   ]
  },
  {
   "cell_type": "code",
   "execution_count": null,
   "metadata": {
    "colab": {
     "base_uri": "https://localhost:8080/"
    },
    "id": "FmmB5HHfXvES",
    "outputId": "11cc91bc-6079-4aea-ec15-3792e4862121"
   },
   "outputs": [
    {
     "name": "stdout",
     "output_type": "stream",
     "text": [
      "Already logged in to 'https://app.truefoundry.com' as 'debajyoti-tfy' ('debajyoti@truefoundry.com')\n",
      "Please use `sfy login --relogin` or `sfy.login(relogin=True)` to force relogin\n",
      "\n"
     ]
    }
   ],
   "source": [
    "!sfy login"
   ]
  },
  {
   "cell_type": "code",
   "execution_count": null,
   "metadata": {},
   "outputs": [],
   "source": [
    "!git clone https://github.com/truefoundry/truefoundry-examples.git\n",
    "%cd truefoundry-examples\n",
    "!git checkout demo-add\n",
    "%cd end-to-end-examples/diabetes-regression"
   ]
  },
  {
   "cell_type": "code",
   "execution_count": null,
   "metadata": {
    "colab": {
     "base_uri": "https://localhost:8080/"
    },
    "id": "YyzamMrzNqkS",
    "outputId": "cddb17d7-5bb5-4b0e-9c09-04dcf39de2da"
   },
   "outputs": [
    {
     "name": "stdout",
     "output_type": "stream",
     "text": [
      "Please enter your API Key,( https://app.truefoundry.com/settings ):-··········\n"
     ]
    }
   ],
   "source": [
    "# Copy workspace FQN from https://app.truefoundry.com/workspaces\n",
    "from getpass import getpass\n",
    "\n",
    "WORKSPACE=\"tfy-cluster-euwe1:demos\"\n",
    "TFY_API_KEY = getpass(\"Please enter your API Key,( https://app.truefoundry.com/settings ):-\")"
   ]
  },
  {
   "cell_type": "markdown",
   "metadata": {
    "id": "ivE5PJKDowFv"
   },
   "source": [
    "# ⚡ Training a ML Model using Jobs\n",
    "In this section we will deploy a training job that trains a SVM model on iris dataset"
   ]
  },
  {
   "cell_type": "code",
   "execution_count": null,
   "metadata": {
    "colab": {
     "base_uri": "https://localhost:8080/"
    },
    "id": "6W3ZGvOCl_wF",
    "outputId": "703fc603-42fe-429c-c166-6cb730b630f0"
   },
   "outputs": [
    {
     "name": "stdout",
     "output_type": "stream",
     "text": [
      "/content/demo/regression\n"
     ]
    }
   ],
   "source": [
    "! mkdir -p /content/demo/regression/\n",
    "%cd /content/demo/regression/"
   ]
  },
  {
   "cell_type": "code",
   "execution_count": null,
   "metadata": {
    "colab": {
     "base_uri": "https://localhost:8080/"
    },
    "id": "wkFzcKDAsADd",
    "outputId": "3825e091-d1db-4fe6-d201-d3c2128bedb9"
   },
   "outputs": [
    {
     "name": "stdout",
     "output_type": "stream",
     "text": [
      "Overwriting train.py\n"
     ]
    }
   ],
   "source": [
    "%%writefile train.py\n",
    "import argparse\n",
    "\n",
    "import matplotlib.pyplot as plt\n",
    "import mlfoundry\n",
    "from sklearn.datasets import load_diabetes\n",
    "from sklearn.model_selection import train_test_split\n",
    "from sklearn.compose import TransformedTargetRegressor\n",
    "from sklearn.preprocessing import QuantileTransformer\n",
    "from sklearn.svm import SVC\n",
    "from sklearn.svm import SVR\n",
    "from sklearn.metrics import PredictionErrorDisplay\n",
    "\n",
    "\n",
    "def train(kernel: str):\n",
    "    X, y = load_diabetes(as_frame=True, return_X_y=True)\n",
    "    X_train, X_test, y_train, y_test = train_test_split(\n",
    "        X, y, test_size=0.2, random_state=42\n",
    "    )\n",
    "\n",
    "    regressor = SVR(kernel=kernel)\n",
    "    model = TransformedTargetRegressor(\n",
    "        regressor=regressor,\n",
    "        transformer=QuantileTransformer(n_quantiles=100, output_distribution=\"normal\"),\n",
    "    ).fit(X_train, y_train)\n",
    "    model.fit(X_train, y_train)\n",
    "\n",
    "    y_pred = model.predict(X_test)\n",
    "\n",
    "    PredictionErrorDisplay.from_predictions(\n",
    "        y_test,\n",
    "        y_pred,\n",
    "        kind=\"actual_vs_predicted\",\n",
    "        scatter_kwargs={\"alpha\": 0.5},\n",
    "    )\n",
    "\n",
    "    run = mlfoundry.get_client().create_run(\n",
    "        project_name=\"diabetes-regression\", run_name=\"SVR-with-QT\"\n",
    "    )\n",
    "\n",
    "    run.log_params(regressor.get_params())\n",
    "    run.log_metrics({\"score\": model.score(X_test, y_test)})\n",
    "    run.log_plots({\"actual_vs_predicted\": plt})\n",
    "\n",
    "    model_version = run.log_model(\n",
    "        name=\"diabetes-regression\",\n",
    "        model=model,\n",
    "        framework=\"sklearn\",\n",
    "        description=\"SVC model trained on initial data\",\n",
    "        model_schema={\n",
    "          \"features\": [\n",
    "            {\"name\": c, \"type\": \"float\"} for c in X.columns\n",
    "          ],\n",
    "          \"prediction\": \"numeric\",\n",
    "        },\n",
    "        custom_metrics=[{\"name\": \"mean_square_error\", \"type\": \"metric\", \"value_type\": \"float\"}]\n",
    "    )\n",
    "    print(f\"Logged model: {model_version.fqn}\")\n",
    "    run.end()\n",
    "\n",
    "\n",
    "if __name__ == \"__main__\":\n",
    "    parser = argparse.ArgumentParser()\n",
    "    parser.add_argument(\"--kernel\", default=\"linear\", type=str)\n",
    "    args = parser.parse_args()\n",
    "\n",
    "    train(kernel=args.kernel)"
   ]
  },
  {
   "cell_type": "code",
   "execution_count": null,
   "metadata": {
    "colab": {
     "base_uri": "https://localhost:8080/"
    },
    "id": "tP1zwU-Opc2w",
    "outputId": "fbbb5508-da3c-4475-e71b-9c867c270450"
   },
   "outputs": [
    {
     "name": "stdout",
     "output_type": "stream",
     "text": [
      "Overwriting requirements.txt\n"
     ]
    }
   ],
   "source": [
    "%%writefile requirements.txt\n",
    "pandas==1.3.5\n",
    "scikit-learn==1.2.1\n",
    "mlfoundry==0.6.1\n",
    "matplotlib==3.2.2"
   ]
  },
  {
   "cell_type": "code",
   "execution_count": null,
   "metadata": {
    "colab": {
     "base_uri": "https://localhost:8080/",
     "height": 1000,
     "referenced_widgets": [
      "70a2ad495da5498daf839c67c99f8c0b",
      "c0025855df4e4758ad76ca740336b36c"
     ]
    },
    "id": "-QD4LaylreUG",
    "outputId": "c51a72a2-2086-4bb8-ce4e-4fdab6aa2bc2"
   },
   "outputs": [
    {
     "name": "stderr",
     "output_type": "stream",
     "text": [
      "2023-01-31 09:06:08,629 servicefoundry INFO     Uploading code for job 'train'\n",
      "2023-01-31 09:06:08,631 servicefoundry INFO     Archiving contents of dir: '/content/demo/regression'\n",
      "2023-01-31 09:06:08,633 servicefoundry INFO     Neither `.tfyignore` file found in /content/demo/regression nor a valid git repository found. We recommend you to create .tfyignore file and add file patterns to ignore\n",
      "Packaging source code: 1it [00:00, 437.77it/s]\n",
      "2023-01-31 09:06:08,650 servicefoundry INFO     Code archive size: '1.72 KiB'\n",
      "Uploading package: 100%|██████████| 1.72k/1.72k [00:00<00:00, 3.51kB/s]\n",
      "2023-01-31 09:06:12,231 servicefoundry INFO     🚀 Deployment started for application 'train'. Deployment FQN is 'tfy-cluster-euwe1:kotak-demo:train:11'.\n",
      "2023-01-31 09:06:13,178 servicefoundry INFO     You can track the progress below or on the dashboard:- 'https://app.truefoundry.com/applications/cldivuvwea4f41hpvffo09l9l?tab=deployments'\n",
      "You can press Ctrl + C to exit the tailing of build logs and deployment will continue on the server\n"
     ]
    },
    {
     "data": {
      "application/vnd.jupyter.widget-view+json": {
       "model_id": "70a2ad495da5498daf839c67c99f8c0b",
       "version_major": 2,
       "version_minor": 0
      },
      "text/plain": [
       "Output()"
      ]
     },
     "metadata": {},
     "output_type": "display_data"
    },
    {
     "name": "stderr",
     "output_type": "stream",
     "text": [
      "2023-01-31 09:06:14,490 servicefoundry INFO     State: 'INITIALIZED'\n",
      "2023-01-31 09:06:19,820 servicefoundry INFO     State: 'BUILDING'\n",
      "2023-01-31 09:06:21,092 servicefoundry INFO     Tailing build logs for 'train'\n"
     ]
    },
    {
     "data": {
      "text/html": [
       "<pre style=\"white-space:pre;overflow-x:auto;line-height:normal;font-family:Menlo,'DejaVu Sans Mono',consolas,'Courier New',monospace\">Waiting for the task to start...\n",
       "</pre>\n"
      ],
      "text/plain": [
       "Waiting for the task to start...\n"
      ]
     },
     "metadata": {},
     "output_type": "display_data"
    },
    {
     "data": {
      "text/html": [
       "<pre style=\"white-space:pre;overflow-x:auto;line-height:normal;font-family:Menlo,'DejaVu Sans Mono',consolas,'Courier New',monospace\">[2023-01-31T09:06:33.291358+00:00] [TFY-CLIENT]<span style=\"color: #008080; text-decoration-color: #008080\">[Start]</span> Downloading the code\n",
       "</pre>\n"
      ],
      "text/plain": [
       "[2023-01-31T09:06:33.291358+00:00] [TFY-CLIENT]\u001b[36m[Start]\u001b[0m Downloading the code\n"
      ]
     },
     "metadata": {},
     "output_type": "display_data"
    },
    {
     "data": {
      "text/html": [
       "<pre style=\"white-space:pre;overflow-x:auto;line-height:normal;font-family:Menlo,'DejaVu Sans Mono',consolas,'Courier New',monospace\">[2023-01-31T09:06:33.291383+00:00] [TFY-CLIENT]<span style=\"color: #008000; text-decoration-color: #008000\">[Done]</span> Code downloaded\n",
       "</pre>\n"
      ],
      "text/plain": [
       "[2023-01-31T09:06:33.291383+00:00] [TFY-CLIENT]\u001b[32m[Done]\u001b[0m Code downloaded\n"
      ]
     },
     "metadata": {},
     "output_type": "display_data"
    },
    {
     "data": {
      "text/html": [
       "<pre style=\"white-space:pre;overflow-x:auto;line-height:normal;font-family:Menlo,'DejaVu Sans Mono',consolas,'Courier New',monospace\">[2023-01-31T09:06:33.291386+00:00] time=\"2023-01-31T09:06:27.885Z\" level=info msg=\"sub-process exited\" argo=true \n",
       "error=\"&lt;nil&gt;\"\n",
       "</pre>\n"
      ],
      "text/plain": [
       "[2023-01-31T09:06:33.291386+00:00] time=\"2023-01-31T09:06:27.885Z\" level=info msg=\"sub-process exited\" argo=true \n",
       "error=\"<nil>\"\n"
      ]
     },
     "metadata": {},
     "output_type": "display_data"
    },
    {
     "data": {
      "text/html": [
       "<pre style=\"white-space:pre;overflow-x:auto;line-height:normal;font-family:Menlo,'DejaVu Sans Mono',consolas,'Courier New',monospace\">[2023-01-31T09:06:53.290583+00:00] [TFY-CLIENT]<span style=\"color: #008080; text-decoration-color: #008080\">[Start]</span> Building and pushing the docker container. Please find the \n",
       "logs below\n",
       "</pre>\n"
      ],
      "text/plain": [
       "[2023-01-31T09:06:53.290583+00:00] [TFY-CLIENT]\u001b[36m[Start]\u001b[0m Building and pushing the docker container. Please find the \n",
       "logs below\n"
      ]
     },
     "metadata": {},
     "output_type": "display_data"
    },
    {
     "data": {
      "text/html": [
       "<pre style=\"white-space:pre;overflow-x:auto;line-height:normal;font-family:Menlo,'DejaVu Sans Mono',consolas,'Courier New',monospace\">[2023-01-31T09:06:53.290673+00:00] [TFY-CLIENT]<span style=\"color: #008080; text-decoration-color: #008080\">[==== Docker logs start ====]</span>\n",
       "</pre>\n"
      ],
      "text/plain": [
       "[2023-01-31T09:06:53.290673+00:00] [TFY-CLIENT]\u001b[36m[==== Docker logs start ====]\u001b[0m\n"
      ]
     },
     "metadata": {},
     "output_type": "display_data"
    },
    {
     "data": {
      "text/html": [
       "<pre style=\"white-space:pre;overflow-x:auto;line-height:normal;font-family:Menlo,'DejaVu Sans Mono',consolas,'Courier New',monospace\">[2023-01-31T09:06:53.290675+00:00] Cannot connect to the Docker daemon at tcp://127.0.0.1:2375. Is the docker \n",
       "daemon running?\n",
       "</pre>\n"
      ],
      "text/plain": [
       "[2023-01-31T09:06:53.290675+00:00] Cannot connect to the Docker daemon at tcp://127.0.0.1:2375. Is the docker \n",
       "daemon running?\n"
      ]
     },
     "metadata": {},
     "output_type": "display_data"
    },
    {
     "data": {
      "text/html": [
       "<pre style=\"white-space:pre;overflow-x:auto;line-height:normal;font-family:Menlo,'DejaVu Sans Mono',consolas,'Courier New',monospace\">[2023-01-31T09:06:53.290679+00:00] CONTAINER ID   IMAGE     COMMAND   CREATED   STATUS    PORTS     NAMES\n",
       "</pre>\n"
      ],
      "text/plain": [
       "[2023-01-31T09:06:53.290679+00:00] CONTAINER ID   IMAGE     COMMAND   CREATED   STATUS    PORTS     NAMES\n"
      ]
     },
     "metadata": {},
     "output_type": "display_data"
    },
    {
     "data": {
      "text/html": [
       "<pre style=\"white-space:pre;overflow-x:auto;line-height:normal;font-family:Menlo,'DejaVu Sans Mono',consolas,'Courier New',monospace\">[2023-01-31T09:06:53.290683+00:00] WARNING! Using --password via the CLI is insecure. Use --password-stdin.\n",
       "</pre>\n"
      ],
      "text/plain": [
       "[2023-01-31T09:06:53.290683+00:00] WARNING! Using --password via the CLI is insecure. Use --password-stdin.\n"
      ]
     },
     "metadata": {},
     "output_type": "display_data"
    },
    {
     "data": {
      "text/html": [
       "<pre style=\"white-space:pre;overflow-x:auto;line-height:normal;font-family:Menlo,'DejaVu Sans Mono',consolas,'Courier New',monospace\">[2023-01-31T09:06:53.290691+00:00] WARNING! Your password will be stored unencrypted in /root/.docker/config.json.\n",
       "</pre>\n"
      ],
      "text/plain": [
       "[2023-01-31T09:06:53.290691+00:00] WARNING! Your password will be stored unencrypted in /root/.docker/config.json.\n"
      ]
     },
     "metadata": {},
     "output_type": "display_data"
    },
    {
     "data": {
      "text/html": [
       "<pre style=\"white-space:pre;overflow-x:auto;line-height:normal;font-family:Menlo,'DejaVu Sans Mono',consolas,'Courier New',monospace\">[2023-01-31T09:06:53.290707+00:00] Configure a credential helper to remove this warning. See\n",
       "</pre>\n"
      ],
      "text/plain": [
       "[2023-01-31T09:06:53.290707+00:00] Configure a credential helper to remove this warning. See\n"
      ]
     },
     "metadata": {},
     "output_type": "display_data"
    },
    {
     "data": {
      "text/html": [
       "<pre style=\"white-space:pre;overflow-x:auto;line-height:normal;font-family:Menlo,'DejaVu Sans Mono',consolas,'Courier New',monospace\">[2023-01-31T09:06:53.290720+00:00] https://docs.docker.com/engine/reference/commandline/login/#credentials-store\n",
       "</pre>\n"
      ],
      "text/plain": [
       "[2023-01-31T09:06:53.290720+00:00] https://docs.docker.com/engine/reference/commandline/login/#credentials-store\n"
      ]
     },
     "metadata": {},
     "output_type": "display_data"
    },
    {
     "data": {
      "text/html": [
       "<pre style=\"white-space:pre;overflow-x:auto;line-height:normal;font-family:Menlo,'DejaVu Sans Mono',consolas,'Courier New',monospace\">[2023-01-31T09:06:53.290921+00:00] \n",
       "</pre>\n"
      ],
      "text/plain": [
       "[2023-01-31T09:06:53.290921+00:00] \n"
      ]
     },
     "metadata": {},
     "output_type": "display_data"
    },
    {
     "data": {
      "text/html": [
       "<pre style=\"white-space:pre;overflow-x:auto;line-height:normal;font-family:Menlo,'DejaVu Sans Mono',consolas,'Courier New',monospace\">[2023-01-31T09:06:53.290924+00:00] Login Succeeded\n",
       "</pre>\n"
      ],
      "text/plain": [
       "[2023-01-31T09:06:53.290924+00:00] Login Succeeded\n"
      ]
     },
     "metadata": {},
     "output_type": "display_data"
    },
    {
     "data": {
      "text/html": [
       "<pre style=\"white-space:pre;overflow-x:auto;line-height:normal;font-family:Menlo,'DejaVu Sans Mono',consolas,'Courier New',monospace\">[2023-01-31T09:06:53.290926+00:00] latest: Pulling from kotak-demo-train-09l9l\n",
       "</pre>\n"
      ],
      "text/plain": [
       "[2023-01-31T09:06:53.290926+00:00] latest: Pulling from kotak-demo-train-09l9l\n"
      ]
     },
     "metadata": {},
     "output_type": "display_data"
    },
    {
     "data": {
      "text/html": [
       "<pre style=\"white-space:pre;overflow-x:auto;line-height:normal;font-family:Menlo,'DejaVu Sans Mono',consolas,'Courier New',monospace\">[2023-01-31T09:06:53.290947+00:00] bbeef03cda1f: Pulling fs layer\n",
       "</pre>\n"
      ],
      "text/plain": [
       "[2023-01-31T09:06:53.290947+00:00] bbeef03cda1f: Pulling fs layer\n"
      ]
     },
     "metadata": {},
     "output_type": "display_data"
    },
    {
     "data": {
      "text/html": [
       "<pre style=\"white-space:pre;overflow-x:auto;line-height:normal;font-family:Menlo,'DejaVu Sans Mono',consolas,'Courier New',monospace\">[2023-01-31T09:06:53.290992+00:00] f049f75f014e: Pulling fs layer\n",
       "</pre>\n"
      ],
      "text/plain": [
       "[2023-01-31T09:06:53.290992+00:00] f049f75f014e: Pulling fs layer\n"
      ]
     },
     "metadata": {},
     "output_type": "display_data"
    },
    {
     "data": {
      "text/html": [
       "<pre style=\"white-space:pre;overflow-x:auto;line-height:normal;font-family:Menlo,'DejaVu Sans Mono',consolas,'Courier New',monospace\">[2023-01-31T09:06:53.291007+00:00] 56261d0e6b05: Pulling fs layer\n",
       "</pre>\n"
      ],
      "text/plain": [
       "[2023-01-31T09:06:53.291007+00:00] 56261d0e6b05: Pulling fs layer\n"
      ]
     },
     "metadata": {},
     "output_type": "display_data"
    },
    {
     "data": {
      "text/html": [
       "<pre style=\"white-space:pre;overflow-x:auto;line-height:normal;font-family:Menlo,'DejaVu Sans Mono',consolas,'Courier New',monospace\">[2023-01-31T09:06:53.291146+00:00] 9bd150679dbd: Pulling fs layer\n",
       "</pre>\n"
      ],
      "text/plain": [
       "[2023-01-31T09:06:53.291146+00:00] 9bd150679dbd: Pulling fs layer\n"
      ]
     },
     "metadata": {},
     "output_type": "display_data"
    },
    {
     "data": {
      "text/html": [
       "<pre style=\"white-space:pre;overflow-x:auto;line-height:normal;font-family:Menlo,'DejaVu Sans Mono',consolas,'Courier New',monospace\">[2023-01-31T09:06:53.291158+00:00] 5b282ee9da04: Pulling fs layer\n",
       "</pre>\n"
      ],
      "text/plain": [
       "[2023-01-31T09:06:53.291158+00:00] 5b282ee9da04: Pulling fs layer\n"
      ]
     },
     "metadata": {},
     "output_type": "display_data"
    },
    {
     "data": {
      "text/html": [
       "<pre style=\"white-space:pre;overflow-x:auto;line-height:normal;font-family:Menlo,'DejaVu Sans Mono',consolas,'Courier New',monospace\">[2023-01-31T09:06:53.291182+00:00] 03f027d5e312: Pulling fs layer\n",
       "</pre>\n"
      ],
      "text/plain": [
       "[2023-01-31T09:06:53.291182+00:00] 03f027d5e312: Pulling fs layer\n"
      ]
     },
     "metadata": {},
     "output_type": "display_data"
    },
    {
     "data": {
      "text/html": [
       "<pre style=\"white-space:pre;overflow-x:auto;line-height:normal;font-family:Menlo,'DejaVu Sans Mono',consolas,'Courier New',monospace\">[2023-01-31T09:06:53.291247+00:00] 79903339cfdb: Pulling fs layer\n",
       "</pre>\n"
      ],
      "text/plain": [
       "[2023-01-31T09:06:53.291247+00:00] 79903339cfdb: Pulling fs layer\n"
      ]
     },
     "metadata": {},
     "output_type": "display_data"
    },
    {
     "data": {
      "text/html": [
       "<pre style=\"white-space:pre;overflow-x:auto;line-height:normal;font-family:Menlo,'DejaVu Sans Mono',consolas,'Courier New',monospace\">[2023-01-31T09:06:53.291270+00:00] efbad12427dd: Pulling fs layer\n",
       "</pre>\n"
      ],
      "text/plain": [
       "[2023-01-31T09:06:53.291270+00:00] efbad12427dd: Pulling fs layer\n"
      ]
     },
     "metadata": {},
     "output_type": "display_data"
    },
    {
     "data": {
      "text/html": [
       "<pre style=\"white-space:pre;overflow-x:auto;line-height:normal;font-family:Menlo,'DejaVu Sans Mono',consolas,'Courier New',monospace\">[2023-01-31T09:06:53.291362+00:00] 862894708010: Pulling fs layer\n",
       "</pre>\n"
      ],
      "text/plain": [
       "[2023-01-31T09:06:53.291362+00:00] 862894708010: Pulling fs layer\n"
      ]
     },
     "metadata": {},
     "output_type": "display_data"
    },
    {
     "data": {
      "text/html": [
       "<pre style=\"white-space:pre;overflow-x:auto;line-height:normal;font-family:Menlo,'DejaVu Sans Mono',consolas,'Courier New',monospace\">[2023-01-31T09:06:53.291384+00:00] d369e9c15474: Pulling fs layer\n",
       "</pre>\n"
      ],
      "text/plain": [
       "[2023-01-31T09:06:53.291384+00:00] d369e9c15474: Pulling fs layer\n"
      ]
     },
     "metadata": {},
     "output_type": "display_data"
    },
    {
     "data": {
      "text/html": [
       "<pre style=\"white-space:pre;overflow-x:auto;line-height:normal;font-family:Menlo,'DejaVu Sans Mono',consolas,'Courier New',monospace\">[2023-01-31T09:06:53.291403+00:00] 3c131acb610b: Pulling fs layer\n",
       "</pre>\n"
      ],
      "text/plain": [
       "[2023-01-31T09:06:53.291403+00:00] 3c131acb610b: Pulling fs layer\n"
      ]
     },
     "metadata": {},
     "output_type": "display_data"
    },
    {
     "data": {
      "text/html": [
       "<pre style=\"white-space:pre;overflow-x:auto;line-height:normal;font-family:Menlo,'DejaVu Sans Mono',consolas,'Courier New',monospace\">[2023-01-31T09:06:53.291506+00:00] efbad12427dd: Waiting\n",
       "</pre>\n"
      ],
      "text/plain": [
       "[2023-01-31T09:06:53.291506+00:00] efbad12427dd: Waiting\n"
      ]
     },
     "metadata": {},
     "output_type": "display_data"
    },
    {
     "data": {
      "text/html": [
       "<pre style=\"white-space:pre;overflow-x:auto;line-height:normal;font-family:Menlo,'DejaVu Sans Mono',consolas,'Courier New',monospace\">[2023-01-31T09:06:53.291531+00:00] 862894708010: Waiting\n",
       "</pre>\n"
      ],
      "text/plain": [
       "[2023-01-31T09:06:53.291531+00:00] 862894708010: Waiting\n"
      ]
     },
     "metadata": {},
     "output_type": "display_data"
    },
    {
     "data": {
      "text/html": [
       "<pre style=\"white-space:pre;overflow-x:auto;line-height:normal;font-family:Menlo,'DejaVu Sans Mono',consolas,'Courier New',monospace\">[2023-01-31T09:06:53.291444+00:00] bda107757374: Pulling fs layer\n",
       "</pre>\n"
      ],
      "text/plain": [
       "[2023-01-31T09:06:53.291444+00:00] bda107757374: Pulling fs layer\n"
      ]
     },
     "metadata": {},
     "output_type": "display_data"
    },
    {
     "data": {
      "text/html": [
       "<pre style=\"white-space:pre;overflow-x:auto;line-height:normal;font-family:Menlo,'DejaVu Sans Mono',consolas,'Courier New',monospace\">[2023-01-31T09:06:53.291589+00:00] d369e9c15474: Waiting\n",
       "</pre>\n"
      ],
      "text/plain": [
       "[2023-01-31T09:06:53.291589+00:00] d369e9c15474: Waiting\n"
      ]
     },
     "metadata": {},
     "output_type": "display_data"
    },
    {
     "data": {
      "text/html": [
       "<pre style=\"white-space:pre;overflow-x:auto;line-height:normal;font-family:Menlo,'DejaVu Sans Mono',consolas,'Courier New',monospace\">[2023-01-31T09:06:53.291601+00:00] 3c131acb610b: Waiting\n",
       "</pre>\n"
      ],
      "text/plain": [
       "[2023-01-31T09:06:53.291601+00:00] 3c131acb610b: Waiting\n"
      ]
     },
     "metadata": {},
     "output_type": "display_data"
    },
    {
     "data": {
      "text/html": [
       "<pre style=\"white-space:pre;overflow-x:auto;line-height:normal;font-family:Menlo,'DejaVu Sans Mono',consolas,'Courier New',monospace\">[2023-01-31T09:06:53.291683+00:00] bda107757374: Waiting\n",
       "</pre>\n"
      ],
      "text/plain": [
       "[2023-01-31T09:06:53.291683+00:00] bda107757374: Waiting\n"
      ]
     },
     "metadata": {},
     "output_type": "display_data"
    },
    {
     "data": {
      "text/html": [
       "<pre style=\"white-space:pre;overflow-x:auto;line-height:normal;font-family:Menlo,'DejaVu Sans Mono',consolas,'Courier New',monospace\">[2023-01-31T09:06:53.291699+00:00] 5b282ee9da04: Waiting\n",
       "</pre>\n"
      ],
      "text/plain": [
       "[2023-01-31T09:06:53.291699+00:00] 5b282ee9da04: Waiting\n"
      ]
     },
     "metadata": {},
     "output_type": "display_data"
    },
    {
     "data": {
      "text/html": [
       "<pre style=\"white-space:pre;overflow-x:auto;line-height:normal;font-family:Menlo,'DejaVu Sans Mono',consolas,'Courier New',monospace\">[2023-01-31T09:06:53.291717+00:00] 79903339cfdb: Waiting\n",
       "</pre>\n"
      ],
      "text/plain": [
       "[2023-01-31T09:06:53.291717+00:00] 79903339cfdb: Waiting\n"
      ]
     },
     "metadata": {},
     "output_type": "display_data"
    },
    {
     "data": {
      "text/html": [
       "<pre style=\"white-space:pre;overflow-x:auto;line-height:normal;font-family:Menlo,'DejaVu Sans Mono',consolas,'Courier New',monospace\">[2023-01-31T09:06:53.291813+00:00] 03f027d5e312: Waiting\n",
       "</pre>\n"
      ],
      "text/plain": [
       "[2023-01-31T09:06:53.291813+00:00] 03f027d5e312: Waiting\n"
      ]
     },
     "metadata": {},
     "output_type": "display_data"
    },
    {
     "data": {
      "text/html": [
       "<pre style=\"white-space:pre;overflow-x:auto;line-height:normal;font-family:Menlo,'DejaVu Sans Mono',consolas,'Courier New',monospace\">[2023-01-31T09:06:53.291829+00:00] f049f75f014e: Download complete\n",
       "</pre>\n"
      ],
      "text/plain": [
       "[2023-01-31T09:06:53.291829+00:00] f049f75f014e: Download complete\n"
      ]
     },
     "metadata": {},
     "output_type": "display_data"
    },
    {
     "data": {
      "text/html": [
       "<pre style=\"white-space:pre;overflow-x:auto;line-height:normal;font-family:Menlo,'DejaVu Sans Mono',consolas,'Courier New',monospace\">[2023-01-31T09:06:53.291841+00:00] 56261d0e6b05: Verifying Checksum\n",
       "</pre>\n"
      ],
      "text/plain": [
       "[2023-01-31T09:06:53.291841+00:00] 56261d0e6b05: Verifying Checksum\n"
      ]
     },
     "metadata": {},
     "output_type": "display_data"
    },
    {
     "data": {
      "text/html": [
       "<pre style=\"white-space:pre;overflow-x:auto;line-height:normal;font-family:Menlo,'DejaVu Sans Mono',consolas,'Courier New',monospace\">[2023-01-31T09:06:53.291880+00:00] 56261d0e6b05: Download complete\n",
       "</pre>\n"
      ],
      "text/plain": [
       "[2023-01-31T09:06:53.291880+00:00] 56261d0e6b05: Download complete\n"
      ]
     },
     "metadata": {},
     "output_type": "display_data"
    },
    {
     "data": {
      "text/html": [
       "<pre style=\"white-space:pre;overflow-x:auto;line-height:normal;font-family:Menlo,'DejaVu Sans Mono',consolas,'Courier New',monospace\">[2023-01-31T09:06:53.291925+00:00] bbeef03cda1f: Verifying Checksum\n",
       "</pre>\n"
      ],
      "text/plain": [
       "[2023-01-31T09:06:53.291925+00:00] bbeef03cda1f: Verifying Checksum\n"
      ]
     },
     "metadata": {},
     "output_type": "display_data"
    },
    {
     "data": {
      "text/html": [
       "<pre style=\"white-space:pre;overflow-x:auto;line-height:normal;font-family:Menlo,'DejaVu Sans Mono',consolas,'Courier New',monospace\">[2023-01-31T09:06:53.291968+00:00] bbeef03cda1f: Download complete\n",
       "</pre>\n"
      ],
      "text/plain": [
       "[2023-01-31T09:06:53.291968+00:00] bbeef03cda1f: Download complete\n"
      ]
     },
     "metadata": {},
     "output_type": "display_data"
    },
    {
     "data": {
      "text/html": [
       "<pre style=\"white-space:pre;overflow-x:auto;line-height:normal;font-family:Menlo,'DejaVu Sans Mono',consolas,'Courier New',monospace\">[2023-01-31T09:06:53.291984+00:00] 03f027d5e312: Verifying Checksum\n",
       "</pre>\n"
      ],
      "text/plain": [
       "[2023-01-31T09:06:53.291984+00:00] 03f027d5e312: Verifying Checksum\n"
      ]
     },
     "metadata": {},
     "output_type": "display_data"
    },
    {
     "data": {
      "text/html": [
       "<pre style=\"white-space:pre;overflow-x:auto;line-height:normal;font-family:Menlo,'DejaVu Sans Mono',consolas,'Courier New',monospace\">[2023-01-31T09:06:53.292026+00:00] 03f027d5e312: Download complete\n",
       "</pre>\n"
      ],
      "text/plain": [
       "[2023-01-31T09:06:53.292026+00:00] 03f027d5e312: Download complete\n"
      ]
     },
     "metadata": {},
     "output_type": "display_data"
    },
    {
     "data": {
      "text/html": [
       "<pre style=\"white-space:pre;overflow-x:auto;line-height:normal;font-family:Menlo,'DejaVu Sans Mono',consolas,'Courier New',monospace\">[2023-01-31T09:06:53.292128+00:00] 9bd150679dbd: Verifying Checksum\n",
       "</pre>\n"
      ],
      "text/plain": [
       "[2023-01-31T09:06:53.292128+00:00] 9bd150679dbd: Verifying Checksum\n"
      ]
     },
     "metadata": {},
     "output_type": "display_data"
    },
    {
     "data": {
      "text/html": [
       "<pre style=\"white-space:pre;overflow-x:auto;line-height:normal;font-family:Menlo,'DejaVu Sans Mono',consolas,'Courier New',monospace\">[2023-01-31T09:06:53.292140+00:00] 9bd150679dbd: Download complete\n",
       "</pre>\n"
      ],
      "text/plain": [
       "[2023-01-31T09:06:53.292140+00:00] 9bd150679dbd: Download complete\n"
      ]
     },
     "metadata": {},
     "output_type": "display_data"
    },
    {
     "data": {
      "text/html": [
       "<pre style=\"white-space:pre;overflow-x:auto;line-height:normal;font-family:Menlo,'DejaVu Sans Mono',consolas,'Courier New',monospace\">[2023-01-31T09:06:53.292154+00:00] efbad12427dd: Verifying Checksum\n",
       "</pre>\n"
      ],
      "text/plain": [
       "[2023-01-31T09:06:53.292154+00:00] efbad12427dd: Verifying Checksum\n"
      ]
     },
     "metadata": {},
     "output_type": "display_data"
    },
    {
     "data": {
      "text/html": [
       "<pre style=\"white-space:pre;overflow-x:auto;line-height:normal;font-family:Menlo,'DejaVu Sans Mono',consolas,'Courier New',monospace\">[2023-01-31T09:06:53.292184+00:00] efbad12427dd: Download complete\n",
       "</pre>\n"
      ],
      "text/plain": [
       "[2023-01-31T09:06:53.292184+00:00] efbad12427dd: Download complete\n"
      ]
     },
     "metadata": {},
     "output_type": "display_data"
    },
    {
     "data": {
      "text/html": [
       "<pre style=\"white-space:pre;overflow-x:auto;line-height:normal;font-family:Menlo,'DejaVu Sans Mono',consolas,'Courier New',monospace\">[2023-01-31T09:06:53.292250+00:00] 79903339cfdb: Verifying Checksum\n",
       "</pre>\n"
      ],
      "text/plain": [
       "[2023-01-31T09:06:53.292250+00:00] 79903339cfdb: Verifying Checksum\n"
      ]
     },
     "metadata": {},
     "output_type": "display_data"
    },
    {
     "data": {
      "text/html": [
       "<pre style=\"white-space:pre;overflow-x:auto;line-height:normal;font-family:Menlo,'DejaVu Sans Mono',consolas,'Courier New',monospace\">[2023-01-31T09:06:53.292264+00:00] 79903339cfdb: Download complete\n",
       "</pre>\n"
      ],
      "text/plain": [
       "[2023-01-31T09:06:53.292264+00:00] 79903339cfdb: Download complete\n"
      ]
     },
     "metadata": {},
     "output_type": "display_data"
    },
    {
     "data": {
      "text/html": [
       "<pre style=\"white-space:pre;overflow-x:auto;line-height:normal;font-family:Menlo,'DejaVu Sans Mono',consolas,'Courier New',monospace\">[2023-01-31T09:06:53.292279+00:00] 862894708010: Verifying Checksum\n",
       "</pre>\n"
      ],
      "text/plain": [
       "[2023-01-31T09:06:53.292279+00:00] 862894708010: Verifying Checksum\n"
      ]
     },
     "metadata": {},
     "output_type": "display_data"
    },
    {
     "data": {
      "text/html": [
       "<pre style=\"white-space:pre;overflow-x:auto;line-height:normal;font-family:Menlo,'DejaVu Sans Mono',consolas,'Courier New',monospace\">[2023-01-31T09:06:53.292319+00:00] 862894708010: Download complete\n",
       "</pre>\n"
      ],
      "text/plain": [
       "[2023-01-31T09:06:53.292319+00:00] 862894708010: Download complete\n"
      ]
     },
     "metadata": {},
     "output_type": "display_data"
    },
    {
     "data": {
      "text/html": [
       "<pre style=\"white-space:pre;overflow-x:auto;line-height:normal;font-family:Menlo,'DejaVu Sans Mono',consolas,'Courier New',monospace\">[2023-01-31T09:06:53.292371+00:00] d369e9c15474: Verifying Checksum\n",
       "</pre>\n"
      ],
      "text/plain": [
       "[2023-01-31T09:06:53.292371+00:00] d369e9c15474: Verifying Checksum\n"
      ]
     },
     "metadata": {},
     "output_type": "display_data"
    },
    {
     "data": {
      "text/html": [
       "<pre style=\"white-space:pre;overflow-x:auto;line-height:normal;font-family:Menlo,'DejaVu Sans Mono',consolas,'Courier New',monospace\">[2023-01-31T09:06:53.292405+00:00] d369e9c15474: Download complete\n",
       "</pre>\n"
      ],
      "text/plain": [
       "[2023-01-31T09:06:53.292405+00:00] d369e9c15474: Download complete\n"
      ]
     },
     "metadata": {},
     "output_type": "display_data"
    },
    {
     "data": {
      "text/html": [
       "<pre style=\"white-space:pre;overflow-x:auto;line-height:normal;font-family:Menlo,'DejaVu Sans Mono',consolas,'Courier New',monospace\">[2023-01-31T09:06:53.292452+00:00] bda107757374: Verifying Checksum\n",
       "</pre>\n"
      ],
      "text/plain": [
       "[2023-01-31T09:06:53.292452+00:00] bda107757374: Verifying Checksum\n"
      ]
     },
     "metadata": {},
     "output_type": "display_data"
    },
    {
     "data": {
      "text/html": [
       "<pre style=\"white-space:pre;overflow-x:auto;line-height:normal;font-family:Menlo,'DejaVu Sans Mono',consolas,'Courier New',monospace\">[2023-01-31T09:06:53.292648+00:00] f049f75f014e: Pull complete\n",
       "</pre>\n"
      ],
      "text/plain": [
       "[2023-01-31T09:06:53.292648+00:00] f049f75f014e: Pull complete\n"
      ]
     },
     "metadata": {},
     "output_type": "display_data"
    },
    {
     "data": {
      "text/html": [
       "<pre style=\"white-space:pre;overflow-x:auto;line-height:normal;font-family:Menlo,'DejaVu Sans Mono',consolas,'Courier New',monospace\">[2023-01-31T09:06:53.292502+00:00] bbeef03cda1f: Pull complete\n",
       "</pre>\n"
      ],
      "text/plain": [
       "[2023-01-31T09:06:53.292502+00:00] bbeef03cda1f: Pull complete\n"
      ]
     },
     "metadata": {},
     "output_type": "display_data"
    },
    {
     "data": {
      "text/html": [
       "<pre style=\"white-space:pre;overflow-x:auto;line-height:normal;font-family:Menlo,'DejaVu Sans Mono',consolas,'Courier New',monospace\">[2023-01-31T09:06:53.292682+00:00] 56261d0e6b05: Pull complete\n",
       "</pre>\n"
      ],
      "text/plain": [
       "[2023-01-31T09:06:53.292682+00:00] 56261d0e6b05: Pull complete\n"
      ]
     },
     "metadata": {},
     "output_type": "display_data"
    },
    {
     "data": {
      "text/html": [
       "<pre style=\"white-space:pre;overflow-x:auto;line-height:normal;font-family:Menlo,'DejaVu Sans Mono',consolas,'Courier New',monospace\">[2023-01-31T09:06:53.292709+00:00] 9bd150679dbd: Pull complete\n",
       "</pre>\n"
      ],
      "text/plain": [
       "[2023-01-31T09:06:53.292709+00:00] 9bd150679dbd: Pull complete\n"
      ]
     },
     "metadata": {},
     "output_type": "display_data"
    },
    {
     "data": {
      "text/html": [
       "<pre style=\"white-space:pre;overflow-x:auto;line-height:normal;font-family:Menlo,'DejaVu Sans Mono',consolas,'Courier New',monospace\">[2023-01-31T09:06:53.543869+00:00] 5b282ee9da04: Verifying Checksum\n",
       "</pre>\n"
      ],
      "text/plain": [
       "[2023-01-31T09:06:53.543869+00:00] 5b282ee9da04: Verifying Checksum\n"
      ]
     },
     "metadata": {},
     "output_type": "display_data"
    },
    {
     "data": {
      "text/html": [
       "<pre style=\"white-space:pre;overflow-x:auto;line-height:normal;font-family:Menlo,'DejaVu Sans Mono',consolas,'Courier New',monospace\">[2023-01-31T09:06:53.543872+00:00] 5b282ee9da04: Download complete\n",
       "</pre>\n"
      ],
      "text/plain": [
       "[2023-01-31T09:06:53.543872+00:00] 5b282ee9da04: Download complete\n"
      ]
     },
     "metadata": {},
     "output_type": "display_data"
    },
    {
     "data": {
      "text/html": [
       "<pre style=\"white-space:pre;overflow-x:auto;line-height:normal;font-family:Menlo,'DejaVu Sans Mono',consolas,'Courier New',monospace\">[2023-01-31T09:06:56.300421+00:00] 3c131acb610b: Verifying Checksum\n",
       "</pre>\n"
      ],
      "text/plain": [
       "[2023-01-31T09:06:56.300421+00:00] 3c131acb610b: Verifying Checksum\n"
      ]
     },
     "metadata": {},
     "output_type": "display_data"
    },
    {
     "data": {
      "text/html": [
       "<pre style=\"white-space:pre;overflow-x:auto;line-height:normal;font-family:Menlo,'DejaVu Sans Mono',consolas,'Courier New',monospace\">[2023-01-31T09:06:56.300425+00:00] 3c131acb610b: Download complete\n",
       "</pre>\n"
      ],
      "text/plain": [
       "[2023-01-31T09:06:56.300425+00:00] 3c131acb610b: Download complete\n"
      ]
     },
     "metadata": {},
     "output_type": "display_data"
    },
    {
     "data": {
      "text/html": [
       "<pre style=\"white-space:pre;overflow-x:auto;line-height:normal;font-family:Menlo,'DejaVu Sans Mono',consolas,'Courier New',monospace\">[2023-01-31T09:06:57.802967+00:00] 5b282ee9da04: Pull complete\n",
       "</pre>\n"
      ],
      "text/plain": [
       "[2023-01-31T09:06:57.802967+00:00] 5b282ee9da04: Pull complete\n"
      ]
     },
     "metadata": {},
     "output_type": "display_data"
    },
    {
     "data": {
      "text/html": [
       "<pre style=\"white-space:pre;overflow-x:auto;line-height:normal;font-family:Menlo,'DejaVu Sans Mono',consolas,'Courier New',monospace\">[2023-01-31T09:06:58.053665+00:00] 03f027d5e312: Pull complete\n",
       "</pre>\n"
      ],
      "text/plain": [
       "[2023-01-31T09:06:58.053665+00:00] 03f027d5e312: Pull complete\n"
      ]
     },
     "metadata": {},
     "output_type": "display_data"
    },
    {
     "data": {
      "text/html": [
       "<pre style=\"white-space:pre;overflow-x:auto;line-height:normal;font-family:Menlo,'DejaVu Sans Mono',consolas,'Courier New',monospace\">[2023-01-31T09:06:58.555215+00:00] 79903339cfdb: Pull complete\n",
       "</pre>\n"
      ],
      "text/plain": [
       "[2023-01-31T09:06:58.555215+00:00] 79903339cfdb: Pull complete\n"
      ]
     },
     "metadata": {},
     "output_type": "display_data"
    },
    {
     "data": {
      "text/html": [
       "<pre style=\"white-space:pre;overflow-x:auto;line-height:normal;font-family:Menlo,'DejaVu Sans Mono',consolas,'Courier New',monospace\">[2023-01-31T09:06:58.555227+00:00] efbad12427dd: Pull complete\n",
       "</pre>\n"
      ],
      "text/plain": [
       "[2023-01-31T09:06:58.555227+00:00] efbad12427dd: Pull complete\n"
      ]
     },
     "metadata": {},
     "output_type": "display_data"
    },
    {
     "data": {
      "text/html": [
       "<pre style=\"white-space:pre;overflow-x:auto;line-height:normal;font-family:Menlo,'DejaVu Sans Mono',consolas,'Courier New',monospace\">[2023-01-31T09:06:58.806205+00:00] 862894708010: Pull complete\n",
       "</pre>\n"
      ],
      "text/plain": [
       "[2023-01-31T09:06:58.806205+00:00] 862894708010: Pull complete\n"
      ]
     },
     "metadata": {},
     "output_type": "display_data"
    },
    {
     "data": {
      "text/html": [
       "<pre style=\"white-space:pre;overflow-x:auto;line-height:normal;font-family:Menlo,'DejaVu Sans Mono',consolas,'Courier New',monospace\">[2023-01-31T09:06:58.806220+00:00] d369e9c15474: Pull complete\n",
       "</pre>\n"
      ],
      "text/plain": [
       "[2023-01-31T09:06:58.806220+00:00] d369e9c15474: Pull complete\n"
      ]
     },
     "metadata": {},
     "output_type": "display_data"
    },
    {
     "data": {
      "text/html": [
       "<pre style=\"white-space:pre;overflow-x:auto;line-height:normal;font-family:Menlo,'DejaVu Sans Mono',consolas,'Courier New',monospace\">[2023-01-31T09:07:03.317287+00:00] 3c131acb610b: Pull complete\n",
       "</pre>\n"
      ],
      "text/plain": [
       "[2023-01-31T09:07:03.317287+00:00] 3c131acb610b: Pull complete\n"
      ]
     },
     "metadata": {},
     "output_type": "display_data"
    },
    {
     "data": {
      "text/html": [
       "<pre style=\"white-space:pre;overflow-x:auto;line-height:normal;font-family:Menlo,'DejaVu Sans Mono',consolas,'Courier New',monospace\">[2023-01-31T09:07:03.568052+00:00] bda107757374: Pull complete\n",
       "</pre>\n"
      ],
      "text/plain": [
       "[2023-01-31T09:07:03.568052+00:00] bda107757374: Pull complete\n"
      ]
     },
     "metadata": {},
     "output_type": "display_data"
    },
    {
     "data": {
      "text/html": [
       "<pre style=\"white-space:pre;overflow-x:auto;line-height:normal;font-family:Menlo,'DejaVu Sans Mono',consolas,'Courier New',monospace\">[2023-01-31T09:07:03.568061+00:00] Digest: sha256:22977b36c41dc266884a5d35fde64b0fcb79cb99d1302545ce9c81c3a9bff56f\n",
       "</pre>\n"
      ],
      "text/plain": [
       "[2023-01-31T09:07:03.568061+00:00] Digest: sha256:22977b36c41dc266884a5d35fde64b0fcb79cb99d1302545ce9c81c3a9bff56f\n"
      ]
     },
     "metadata": {},
     "output_type": "display_data"
    },
    {
     "data": {
      "text/html": [
       "<pre style=\"white-space:pre;overflow-x:auto;line-height:normal;font-family:Menlo,'DejaVu Sans Mono',consolas,'Courier New',monospace\">[2023-01-31T09:07:03.568074+00:00] Status: Downloaded newer image for \n",
       "416964291864.dkr.ecr.eu-west-1.amazonaws.com/kotak-demo-train-09l9l:latest\n",
       "</pre>\n"
      ],
      "text/plain": [
       "[2023-01-31T09:07:03.568074+00:00] Status: Downloaded newer image for \n",
       "416964291864.dkr.ecr.eu-west-1.amazonaws.com/kotak-demo-train-09l9l:latest\n"
      ]
     },
     "metadata": {},
     "output_type": "display_data"
    },
    {
     "data": {
      "text/html": [
       "<pre style=\"white-space:pre;overflow-x:auto;line-height:normal;font-family:Menlo,'DejaVu Sans Mono',consolas,'Courier New',monospace\">[2023-01-31T09:07:03.568086+00:00] 416964291864.dkr.ecr.eu-west-1.amazonaws.com/kotak-demo-train-09l9l:latest\n",
       "</pre>\n"
      ],
      "text/plain": [
       "[2023-01-31T09:07:03.568086+00:00] 416964291864.dkr.ecr.eu-west-1.amazonaws.com/kotak-demo-train-09l9l:latest\n"
      ]
     },
     "metadata": {},
     "output_type": "display_data"
    },
    {
     "data": {
      "text/html": [
       "<pre style=\"white-space:pre;overflow-x:auto;line-height:normal;font-family:Menlo,'DejaVu Sans Mono',consolas,'Courier New',monospace\">[2023-01-31T09:07:05.322858+00:00] [TFY-CLIENT] [01/31/23 09:07:03] INFO     Dockerfile content:-\n",
       "</pre>\n"
      ],
      "text/plain": [
       "[2023-01-31T09:07:05.322858+00:00] [TFY-CLIENT] [01/31/23 09:07:03] INFO     Dockerfile content:-\n"
      ]
     },
     "metadata": {},
     "output_type": "display_data"
    },
    {
     "data": {
      "text/html": [
       "<pre style=\"white-space:pre;overflow-x:auto;line-height:normal;font-family:Menlo,'DejaVu Sans Mono',consolas,'Courier New',monospace\">[2023-01-31T09:07:05.322865+00:00] [TFY-CLIENT]                     INFO\n",
       "</pre>\n"
      ],
      "text/plain": [
       "[2023-01-31T09:07:05.322865+00:00] [TFY-CLIENT]                     INFO\n"
      ]
     },
     "metadata": {},
     "output_type": "display_data"
    },
    {
     "data": {
      "text/html": [
       "<pre style=\"white-space:pre;overflow-x:auto;line-height:normal;font-family:Menlo,'DejaVu Sans Mono',consolas,'Courier New',monospace\">[2023-01-31T09:07:05.322877+00:00] [TFY-CLIENT]                              FROM python:3.9\n",
       "</pre>\n"
      ],
      "text/plain": [
       "[2023-01-31T09:07:05.322877+00:00] [TFY-CLIENT]                              FROM python:3.9\n"
      ]
     },
     "metadata": {},
     "output_type": "display_data"
    },
    {
     "data": {
      "text/html": [
       "<pre style=\"white-space:pre;overflow-x:auto;line-height:normal;font-family:Menlo,'DejaVu Sans Mono',consolas,'Courier New',monospace\">[2023-01-31T09:07:05.322909+00:00] [TFY-CLIENT]\n",
       "</pre>\n"
      ],
      "text/plain": [
       "[2023-01-31T09:07:05.322909+00:00] [TFY-CLIENT]\n"
      ]
     },
     "metadata": {},
     "output_type": "display_data"
    },
    {
     "data": {
      "text/html": [
       "<pre style=\"white-space:pre;overflow-x:auto;line-height:normal;font-family:Menlo,'DejaVu Sans Mono',consolas,'Courier New',monospace\">[2023-01-31T09:07:05.322927+00:00] [TFY-CLIENT]\n",
       "</pre>\n"
      ],
      "text/plain": [
       "[2023-01-31T09:07:05.322927+00:00] [TFY-CLIENT]\n"
      ]
     },
     "metadata": {},
     "output_type": "display_data"
    },
    {
     "data": {
      "text/html": [
       "<pre style=\"white-space:pre;overflow-x:auto;line-height:normal;font-family:Menlo,'DejaVu Sans Mono',consolas,'Courier New',monospace\">[2023-01-31T09:07:05.322935+00:00] [TFY-CLIENT]                              COPY requirements.txt \n",
       "/tmp/requirements.txt\n",
       "</pre>\n"
      ],
      "text/plain": [
       "[2023-01-31T09:07:05.322935+00:00] [TFY-CLIENT]                              COPY requirements.txt \n",
       "/tmp/requirements.txt\n"
      ]
     },
     "metadata": {},
     "output_type": "display_data"
    },
    {
     "data": {
      "text/html": [
       "<pre style=\"white-space:pre;overflow-x:auto;line-height:normal;font-family:Menlo,'DejaVu Sans Mono',consolas,'Courier New',monospace\">[2023-01-31T09:07:05.322947+00:00] [TFY-CLIENT]\n",
       "</pre>\n"
      ],
      "text/plain": [
       "[2023-01-31T09:07:05.322947+00:00] [TFY-CLIENT]\n"
      ]
     },
     "metadata": {},
     "output_type": "display_data"
    },
    {
     "data": {
      "text/html": [
       "<pre style=\"white-space:pre;overflow-x:auto;line-height:normal;font-family:Menlo,'DejaVu Sans Mono',consolas,'Courier New',monospace\">[2023-01-31T09:07:05.322958+00:00] [TFY-CLIENT]                              RUN pip install -U pip &amp;&amp; pip install\n",
       "</pre>\n"
      ],
      "text/plain": [
       "[2023-01-31T09:07:05.322958+00:00] [TFY-CLIENT]                              RUN pip install -U pip && pip install\n"
      ]
     },
     "metadata": {},
     "output_type": "display_data"
    },
    {
     "data": {
      "text/html": [
       "<pre style=\"white-space:pre;overflow-x:auto;line-height:normal;font-family:Menlo,'DejaVu Sans Mono',consolas,'Courier New',monospace\">[2023-01-31T09:07:05.322970+00:00] [TFY-CLIENT]                              --no-cache-dir -r \n",
       "/tmp/requirements.txt\n",
       "</pre>\n"
      ],
      "text/plain": [
       "[2023-01-31T09:07:05.322970+00:00] [TFY-CLIENT]                              --no-cache-dir -r \n",
       "/tmp/requirements.txt\n"
      ]
     },
     "metadata": {},
     "output_type": "display_data"
    },
    {
     "data": {
      "text/html": [
       "<pre style=\"white-space:pre;overflow-x:auto;line-height:normal;font-family:Menlo,'DejaVu Sans Mono',consolas,'Courier New',monospace\">[2023-01-31T09:07:05.322984+00:00] [TFY-CLIENT]\n",
       "</pre>\n"
      ],
      "text/plain": [
       "[2023-01-31T09:07:05.322984+00:00] [TFY-CLIENT]\n"
      ]
     },
     "metadata": {},
     "output_type": "display_data"
    },
    {
     "data": {
      "text/html": [
       "<pre style=\"white-space:pre;overflow-x:auto;line-height:normal;font-family:Menlo,'DejaVu Sans Mono',consolas,'Courier New',monospace\">[2023-01-31T09:07:05.323090+00:00] [TFY-CLIENT]                              COPY . /app\n",
       "</pre>\n"
      ],
      "text/plain": [
       "[2023-01-31T09:07:05.323090+00:00] [TFY-CLIENT]                              COPY . /app\n"
      ]
     },
     "metadata": {},
     "output_type": "display_data"
    },
    {
     "data": {
      "text/html": [
       "<pre style=\"white-space:pre;overflow-x:auto;line-height:normal;font-family:Menlo,'DejaVu Sans Mono',consolas,'Courier New',monospace\">[2023-01-31T09:07:05.323092+00:00] [TFY-CLIENT]                              WORKDIR /app\n",
       "</pre>\n"
      ],
      "text/plain": [
       "[2023-01-31T09:07:05.323092+00:00] [TFY-CLIENT]                              WORKDIR /app\n"
      ]
     },
     "metadata": {},
     "output_type": "display_data"
    },
    {
     "data": {
      "text/html": [
       "<pre style=\"white-space:pre;overflow-x:auto;line-height:normal;font-family:Menlo,'DejaVu Sans Mono',consolas,'Courier New',monospace\">[2023-01-31T09:07:05.323095+00:00] [TFY-CLIENT]                              ENTRYPOINT python train.py\n",
       "</pre>\n"
      ],
      "text/plain": [
       "[2023-01-31T09:07:05.323095+00:00] [TFY-CLIENT]                              ENTRYPOINT python train.py\n"
      ]
     },
     "metadata": {},
     "output_type": "display_data"
    },
    {
     "data": {
      "text/html": [
       "<pre style=\"white-space:pre;overflow-x:auto;line-height:normal;font-family:Menlo,'DejaVu Sans Mono',consolas,'Courier New',monospace\">[2023-01-31T09:07:05.323118+00:00] [TFY-CLIENT]                     INFO     Building docker image: 'docker build\n",
       "</pre>\n"
      ],
      "text/plain": [
       "[2023-01-31T09:07:05.323118+00:00] [TFY-CLIENT]                     INFO     Building docker image: 'docker build\n"
      ]
     },
     "metadata": {},
     "output_type": "display_data"
    },
    {
     "data": {
      "text/html": [
       "<pre style=\"white-space:pre;overflow-x:auto;line-height:normal;font-family:Menlo,'DejaVu Sans Mono',consolas,'Courier New',monospace\">[2023-01-31T09:07:05.323099+00:00] [TFY-CLIENT]\n",
       "</pre>\n"
      ],
      "text/plain": [
       "[2023-01-31T09:07:05.323099+00:00] [TFY-CLIENT]\n"
      ]
     },
     "metadata": {},
     "output_type": "display_data"
    },
    {
     "data": {
      "text/html": [
       "<pre style=\"white-space:pre;overflow-x:auto;line-height:normal;font-family:Menlo,'DejaVu Sans Mono',consolas,'Courier New',monospace\">[2023-01-31T09:07:05.323122+00:00] [TFY-CLIENT]                              /mnt/vol/source-code -t\n",
       "</pre>\n"
      ],
      "text/plain": [
       "[2023-01-31T09:07:05.323122+00:00] [TFY-CLIENT]                              /mnt/vol/source-code -t\n"
      ]
     },
     "metadata": {},
     "output_type": "display_data"
    },
    {
     "data": {
      "text/html": [
       "<pre style=\"white-space:pre;overflow-x:auto;line-height:normal;font-family:Menlo,'DejaVu Sans Mono',consolas,'Courier New',monospace\">[2023-01-31T09:07:05.323132+00:00] [TFY-CLIENT]                              \n",
       "416964291864.dkr.ecr.eu-west-1.amazonaws.com/kotak-\n",
       "</pre>\n"
      ],
      "text/plain": [
       "[2023-01-31T09:07:05.323132+00:00] [TFY-CLIENT]                              \n",
       "416964291864.dkr.ecr.eu-west-1.amazonaws.com/kotak-\n"
      ]
     },
     "metadata": {},
     "output_type": "display_data"
    },
    {
     "data": {
      "text/html": [
       "<pre style=\"white-space:pre;overflow-x:auto;line-height:normal;font-family:Menlo,'DejaVu Sans Mono',consolas,'Courier New',monospace\">[2023-01-31T09:07:05.323280+00:00] [TFY-CLIENT]                              demo-train-09l9l:11 --file\n",
       "</pre>\n"
      ],
      "text/plain": [
       "[2023-01-31T09:07:05.323280+00:00] [TFY-CLIENT]                              demo-train-09l9l:11 --file\n"
      ]
     },
     "metadata": {},
     "output_type": "display_data"
    },
    {
     "data": {
      "text/html": [
       "<pre style=\"white-space:pre;overflow-x:auto;line-height:normal;font-family:Menlo,'DejaVu Sans Mono',consolas,'Courier New',monospace\">[2023-01-31T09:07:05.323282+00:00] [TFY-CLIENT]                              /tmp/tmp72gr9mu0/Dockerfile \n",
       "--cache-from\n",
       "</pre>\n"
      ],
      "text/plain": [
       "[2023-01-31T09:07:05.323282+00:00] [TFY-CLIENT]                              /tmp/tmp72gr9mu0/Dockerfile \n",
       "--cache-from\n"
      ]
     },
     "metadata": {},
     "output_type": "display_data"
    },
    {
     "data": {
      "text/html": [
       "<pre style=\"white-space:pre;overflow-x:auto;line-height:normal;font-family:Menlo,'DejaVu Sans Mono',consolas,'Courier New',monospace\">[2023-01-31T09:07:05.323284+00:00] [TFY-CLIENT]                              \n",
       "416964291864.dkr.ecr.eu-west-1.amazonaws.com/kotak-\n",
       "</pre>\n"
      ],
      "text/plain": [
       "[2023-01-31T09:07:05.323284+00:00] [TFY-CLIENT]                              \n",
       "416964291864.dkr.ecr.eu-west-1.amazonaws.com/kotak-\n"
      ]
     },
     "metadata": {},
     "output_type": "display_data"
    },
    {
     "data": {
      "text/html": [
       "<pre style=\"white-space:pre;overflow-x:auto;line-height:normal;font-family:Menlo,'DejaVu Sans Mono',consolas,'Courier New',monospace\">[2023-01-31T09:07:05.323288+00:00] [TFY-CLIENT]                              demo-train-09l9l:latest'\n",
       "</pre>\n"
      ],
      "text/plain": [
       "[2023-01-31T09:07:05.323288+00:00] [TFY-CLIENT]                              demo-train-09l9l:latest'\n"
      ]
     },
     "metadata": {},
     "output_type": "display_data"
    },
    {
     "data": {
      "text/html": [
       "<pre style=\"white-space:pre;overflow-x:auto;line-height:normal;font-family:Menlo,'DejaVu Sans Mono',consolas,'Courier New',monospace\">[2023-01-31T09:07:05.323344+00:00] [TFY-CLIENT] Sending build context to Docker daemon  8.239kB\n",
       "</pre>\n"
      ],
      "text/plain": [
       "[2023-01-31T09:07:05.323344+00:00] [TFY-CLIENT] Sending build context to Docker daemon  8.239kB\n"
      ]
     },
     "metadata": {},
     "output_type": "display_data"
    },
    {
     "data": {
      "text/html": [
       "<pre style=\"white-space:pre;overflow-x:auto;line-height:normal;font-family:Menlo,'DejaVu Sans Mono',consolas,'Courier New',monospace\">[2023-01-31T09:07:05.323345+00:00] [TFY-CLIENT] Step 1/6 : FROM python:3.9\n",
       "</pre>\n"
      ],
      "text/plain": [
       "[2023-01-31T09:07:05.323345+00:00] [TFY-CLIENT] Step 1/6 : FROM python:3.9\n"
      ]
     },
     "metadata": {},
     "output_type": "display_data"
    },
    {
     "data": {
      "text/html": [
       "<pre style=\"white-space:pre;overflow-x:auto;line-height:normal;font-family:Menlo,'DejaVu Sans Mono',consolas,'Courier New',monospace\">[2023-01-31T09:07:05.323347+00:00] [TFY-CLIENT] 3.9: Pulling from library/python\n",
       "</pre>\n"
      ],
      "text/plain": [
       "[2023-01-31T09:07:05.323347+00:00] [TFY-CLIENT] 3.9: Pulling from library/python\n"
      ]
     },
     "metadata": {},
     "output_type": "display_data"
    },
    {
     "data": {
      "text/html": [
       "<pre style=\"white-space:pre;overflow-x:auto;line-height:normal;font-family:Menlo,'DejaVu Sans Mono',consolas,'Courier New',monospace\">[2023-01-31T09:07:05.323414+00:00] [TFY-CLIENT] bbeef03cda1f: Already exists\n",
       "</pre>\n"
      ],
      "text/plain": [
       "[2023-01-31T09:07:05.323414+00:00] [TFY-CLIENT] bbeef03cda1f: Already exists\n"
      ]
     },
     "metadata": {},
     "output_type": "display_data"
    },
    {
     "data": {
      "text/html": [
       "<pre style=\"white-space:pre;overflow-x:auto;line-height:normal;font-family:Menlo,'DejaVu Sans Mono',consolas,'Courier New',monospace\">[2023-01-31T09:07:05.323415+00:00] [TFY-CLIENT] f049f75f014e: Already exists\n",
       "</pre>\n"
      ],
      "text/plain": [
       "[2023-01-31T09:07:05.323415+00:00] [TFY-CLIENT] f049f75f014e: Already exists\n"
      ]
     },
     "metadata": {},
     "output_type": "display_data"
    },
    {
     "data": {
      "text/html": [
       "<pre style=\"white-space:pre;overflow-x:auto;line-height:normal;font-family:Menlo,'DejaVu Sans Mono',consolas,'Courier New',monospace\">[2023-01-31T09:07:05.323422+00:00] [TFY-CLIENT] 56261d0e6b05: Already exists\n",
       "</pre>\n"
      ],
      "text/plain": [
       "[2023-01-31T09:07:05.323422+00:00] [TFY-CLIENT] 56261d0e6b05: Already exists\n"
      ]
     },
     "metadata": {},
     "output_type": "display_data"
    },
    {
     "data": {
      "text/html": [
       "<pre style=\"white-space:pre;overflow-x:auto;line-height:normal;font-family:Menlo,'DejaVu Sans Mono',consolas,'Courier New',monospace\">[2023-01-31T09:07:05.323427+00:00] [TFY-CLIENT] 9bd150679dbd: Already exists\n",
       "</pre>\n"
      ],
      "text/plain": [
       "[2023-01-31T09:07:05.323427+00:00] [TFY-CLIENT] 9bd150679dbd: Already exists\n"
      ]
     },
     "metadata": {},
     "output_type": "display_data"
    },
    {
     "data": {
      "text/html": [
       "<pre style=\"white-space:pre;overflow-x:auto;line-height:normal;font-family:Menlo,'DejaVu Sans Mono',consolas,'Courier New',monospace\">[2023-01-31T09:07:05.323484+00:00] [TFY-CLIENT] 5b282ee9da04: Already exists\n",
       "</pre>\n"
      ],
      "text/plain": [
       "[2023-01-31T09:07:05.323484+00:00] [TFY-CLIENT] 5b282ee9da04: Already exists\n"
      ]
     },
     "metadata": {},
     "output_type": "display_data"
    },
    {
     "data": {
      "text/html": [
       "<pre style=\"white-space:pre;overflow-x:auto;line-height:normal;font-family:Menlo,'DejaVu Sans Mono',consolas,'Courier New',monospace\">[2023-01-31T09:07:05.323485+00:00] [TFY-CLIENT] 03f027d5e312: Already exists\n",
       "</pre>\n"
      ],
      "text/plain": [
       "[2023-01-31T09:07:05.323485+00:00] [TFY-CLIENT] 03f027d5e312: Already exists\n"
      ]
     },
     "metadata": {},
     "output_type": "display_data"
    },
    {
     "data": {
      "text/html": [
       "<pre style=\"white-space:pre;overflow-x:auto;line-height:normal;font-family:Menlo,'DejaVu Sans Mono',consolas,'Courier New',monospace\">[2023-01-31T09:07:05.323531+00:00] [TFY-CLIENT] 79903339cfdb: Already exists\n",
       "</pre>\n"
      ],
      "text/plain": [
       "[2023-01-31T09:07:05.323531+00:00] [TFY-CLIENT] 79903339cfdb: Already exists\n"
      ]
     },
     "metadata": {},
     "output_type": "display_data"
    },
    {
     "data": {
      "text/html": [
       "<pre style=\"white-space:pre;overflow-x:auto;line-height:normal;font-family:Menlo,'DejaVu Sans Mono',consolas,'Courier New',monospace\">[2023-01-31T09:07:05.323532+00:00] [TFY-CLIENT] efbad12427dd: Already exists\n",
       "</pre>\n"
      ],
      "text/plain": [
       "[2023-01-31T09:07:05.323532+00:00] [TFY-CLIENT] efbad12427dd: Already exists\n"
      ]
     },
     "metadata": {},
     "output_type": "display_data"
    },
    {
     "data": {
      "text/html": [
       "<pre style=\"white-space:pre;overflow-x:auto;line-height:normal;font-family:Menlo,'DejaVu Sans Mono',consolas,'Courier New',monospace\">[2023-01-31T09:07:05.323646+00:00] [TFY-CLIENT] 862894708010: Already exists\n",
       "</pre>\n"
      ],
      "text/plain": [
       "[2023-01-31T09:07:05.323646+00:00] [TFY-CLIENT] 862894708010: Already exists\n"
      ]
     },
     "metadata": {},
     "output_type": "display_data"
    },
    {
     "data": {
      "text/html": [
       "<pre style=\"white-space:pre;overflow-x:auto;line-height:normal;font-family:Menlo,'DejaVu Sans Mono',consolas,'Courier New',monospace\">[2023-01-31T09:07:05.323648+00:00] [TFY-CLIENT] Digest: \n",
       "sha256:7af616b934168e213d469bff23bd8e4f07d09ccbe87e82c464cacd8e2fb244bf\n",
       "</pre>\n"
      ],
      "text/plain": [
       "[2023-01-31T09:07:05.323648+00:00] [TFY-CLIENT] Digest: \n",
       "sha256:7af616b934168e213d469bff23bd8e4f07d09ccbe87e82c464cacd8e2fb244bf\n"
      ]
     },
     "metadata": {},
     "output_type": "display_data"
    },
    {
     "data": {
      "text/html": [
       "<pre style=\"white-space:pre;overflow-x:auto;line-height:normal;font-family:Menlo,'DejaVu Sans Mono',consolas,'Courier New',monospace\">[2023-01-31T09:07:05.323651+00:00] [TFY-CLIENT] Status: Downloaded newer image for python:3.9\n",
       "</pre>\n"
      ],
      "text/plain": [
       "[2023-01-31T09:07:05.323651+00:00] [TFY-CLIENT] Status: Downloaded newer image for python:3.9\n"
      ]
     },
     "metadata": {},
     "output_type": "display_data"
    },
    {
     "data": {
      "text/html": [
       "<pre style=\"white-space:pre;overflow-x:auto;line-height:normal;font-family:Menlo,'DejaVu Sans Mono',consolas,'Courier New',monospace\">[2023-01-31T09:07:05.323655+00:00] [TFY-CLIENT]  ---&gt; 0a3ee4bd701a\n",
       "</pre>\n"
      ],
      "text/plain": [
       "[2023-01-31T09:07:05.323655+00:00] [TFY-CLIENT]  ---> 0a3ee4bd701a\n"
      ]
     },
     "metadata": {},
     "output_type": "display_data"
    },
    {
     "data": {
      "text/html": [
       "<pre style=\"white-space:pre;overflow-x:auto;line-height:normal;font-family:Menlo,'DejaVu Sans Mono',consolas,'Courier New',monospace\">[2023-01-31T09:07:05.323668+00:00] [TFY-CLIENT] Step 2/6 : COPY requirements.txt /tmp/requirements.txt\n",
       "</pre>\n"
      ],
      "text/plain": [
       "[2023-01-31T09:07:05.323668+00:00] [TFY-CLIENT] Step 2/6 : COPY requirements.txt /tmp/requirements.txt\n"
      ]
     },
     "metadata": {},
     "output_type": "display_data"
    },
    {
     "data": {
      "text/html": [
       "<pre style=\"white-space:pre;overflow-x:auto;line-height:normal;font-family:Menlo,'DejaVu Sans Mono',consolas,'Courier New',monospace\">[2023-01-31T09:07:05.323670+00:00] [TFY-CLIENT]  ---&gt; Using cache\n",
       "</pre>\n"
      ],
      "text/plain": [
       "[2023-01-31T09:07:05.323670+00:00] [TFY-CLIENT]  ---> Using cache\n"
      ]
     },
     "metadata": {},
     "output_type": "display_data"
    },
    {
     "data": {
      "text/html": [
       "<pre style=\"white-space:pre;overflow-x:auto;line-height:normal;font-family:Menlo,'DejaVu Sans Mono',consolas,'Courier New',monospace\">[2023-01-31T09:07:05.323749+00:00] [TFY-CLIENT]  ---&gt; b2416d583eab\n",
       "</pre>\n"
      ],
      "text/plain": [
       "[2023-01-31T09:07:05.323749+00:00] [TFY-CLIENT]  ---> b2416d583eab\n"
      ]
     },
     "metadata": {},
     "output_type": "display_data"
    },
    {
     "data": {
      "text/html": [
       "<pre style=\"white-space:pre;overflow-x:auto;line-height:normal;font-family:Menlo,'DejaVu Sans Mono',consolas,'Courier New',monospace\">[2023-01-31T09:07:05.323750+00:00] [TFY-CLIENT] Step 3/6 : RUN pip install -U pip &amp;&amp; pip install --no-cache-dir -r \n",
       "/tmp/requirements.txt\n",
       "</pre>\n"
      ],
      "text/plain": [
       "[2023-01-31T09:07:05.323750+00:00] [TFY-CLIENT] Step 3/6 : RUN pip install -U pip && pip install --no-cache-dir -r \n",
       "/tmp/requirements.txt\n"
      ]
     },
     "metadata": {},
     "output_type": "display_data"
    },
    {
     "data": {
      "text/html": [
       "<pre style=\"white-space:pre;overflow-x:auto;line-height:normal;font-family:Menlo,'DejaVu Sans Mono',consolas,'Courier New',monospace\">[2023-01-31T09:07:05.323752+00:00] [TFY-CLIENT]  ---&gt; Using cache\n",
       "</pre>\n"
      ],
      "text/plain": [
       "[2023-01-31T09:07:05.323752+00:00] [TFY-CLIENT]  ---> Using cache\n"
      ]
     },
     "metadata": {},
     "output_type": "display_data"
    },
    {
     "data": {
      "text/html": [
       "<pre style=\"white-space:pre;overflow-x:auto;line-height:normal;font-family:Menlo,'DejaVu Sans Mono',consolas,'Courier New',monospace\">[2023-01-31T09:07:05.323755+00:00] [TFY-CLIENT]  ---&gt; ba2ccddb16d0\n",
       "</pre>\n"
      ],
      "text/plain": [
       "[2023-01-31T09:07:05.323755+00:00] [TFY-CLIENT]  ---> ba2ccddb16d0\n"
      ]
     },
     "metadata": {},
     "output_type": "display_data"
    },
    {
     "data": {
      "text/html": [
       "<pre style=\"white-space:pre;overflow-x:auto;line-height:normal;font-family:Menlo,'DejaVu Sans Mono',consolas,'Courier New',monospace\">[2023-01-31T09:07:05.323760+00:00] [TFY-CLIENT] Step 4/6 : COPY . /app\n",
       "</pre>\n"
      ],
      "text/plain": [
       "[2023-01-31T09:07:05.323760+00:00] [TFY-CLIENT] Step 4/6 : COPY . /app\n"
      ]
     },
     "metadata": {},
     "output_type": "display_data"
    },
    {
     "data": {
      "text/html": [
       "<pre style=\"white-space:pre;overflow-x:auto;line-height:normal;font-family:Menlo,'DejaVu Sans Mono',consolas,'Courier New',monospace\">[2023-01-31T09:07:05.323777+00:00] [TFY-CLIENT]  ---&gt; Using cache\n",
       "</pre>\n"
      ],
      "text/plain": [
       "[2023-01-31T09:07:05.323777+00:00] [TFY-CLIENT]  ---> Using cache\n"
      ]
     },
     "metadata": {},
     "output_type": "display_data"
    },
    {
     "data": {
      "text/html": [
       "<pre style=\"white-space:pre;overflow-x:auto;line-height:normal;font-family:Menlo,'DejaVu Sans Mono',consolas,'Courier New',monospace\">[2023-01-31T09:07:05.323797+00:00] [TFY-CLIENT]  ---&gt; 11d4bb92b6c8\n",
       "</pre>\n"
      ],
      "text/plain": [
       "[2023-01-31T09:07:05.323797+00:00] [TFY-CLIENT]  ---> 11d4bb92b6c8\n"
      ]
     },
     "metadata": {},
     "output_type": "display_data"
    },
    {
     "data": {
      "text/html": [
       "<pre style=\"white-space:pre;overflow-x:auto;line-height:normal;font-family:Menlo,'DejaVu Sans Mono',consolas,'Courier New',monospace\">[2023-01-31T09:07:05.323822+00:00] [TFY-CLIENT] Step 5/6 : WORKDIR /app\n",
       "</pre>\n"
      ],
      "text/plain": [
       "[2023-01-31T09:07:05.323822+00:00] [TFY-CLIENT] Step 5/6 : WORKDIR /app\n"
      ]
     },
     "metadata": {},
     "output_type": "display_data"
    },
    {
     "data": {
      "text/html": [
       "<pre style=\"white-space:pre;overflow-x:auto;line-height:normal;font-family:Menlo,'DejaVu Sans Mono',consolas,'Courier New',monospace\">[2023-01-31T09:07:05.323857+00:00] [TFY-CLIENT]  ---&gt; Using cache\n",
       "</pre>\n"
      ],
      "text/plain": [
       "[2023-01-31T09:07:05.323857+00:00] [TFY-CLIENT]  ---> Using cache\n"
      ]
     },
     "metadata": {},
     "output_type": "display_data"
    },
    {
     "data": {
      "text/html": [
       "<pre style=\"white-space:pre;overflow-x:auto;line-height:normal;font-family:Menlo,'DejaVu Sans Mono',consolas,'Courier New',monospace\">[2023-01-31T09:07:05.323858+00:00] [TFY-CLIENT]  ---&gt; ff6b96103939\n",
       "</pre>\n"
      ],
      "text/plain": [
       "[2023-01-31T09:07:05.323858+00:00] [TFY-CLIENT]  ---> ff6b96103939\n"
      ]
     },
     "metadata": {},
     "output_type": "display_data"
    },
    {
     "data": {
      "text/html": [
       "<pre style=\"white-space:pre;overflow-x:auto;line-height:normal;font-family:Menlo,'DejaVu Sans Mono',consolas,'Courier New',monospace\">[2023-01-31T09:07:05.323925+00:00] [TFY-CLIENT] Step 6/6 : ENTRYPOINT python train.py\n",
       "</pre>\n"
      ],
      "text/plain": [
       "[2023-01-31T09:07:05.323925+00:00] [TFY-CLIENT] Step 6/6 : ENTRYPOINT python train.py\n"
      ]
     },
     "metadata": {},
     "output_type": "display_data"
    },
    {
     "data": {
      "text/html": [
       "<pre style=\"white-space:pre;overflow-x:auto;line-height:normal;font-family:Menlo,'DejaVu Sans Mono',consolas,'Courier New',monospace\">[2023-01-31T09:07:05.323926+00:00] [TFY-CLIENT]  ---&gt; Using cache\n",
       "</pre>\n"
      ],
      "text/plain": [
       "[2023-01-31T09:07:05.323926+00:00] [TFY-CLIENT]  ---> Using cache\n"
      ]
     },
     "metadata": {},
     "output_type": "display_data"
    },
    {
     "data": {
      "text/html": [
       "<pre style=\"white-space:pre;overflow-x:auto;line-height:normal;font-family:Menlo,'DejaVu Sans Mono',consolas,'Courier New',monospace\">[2023-01-31T09:07:05.323928+00:00] [TFY-CLIENT]  ---&gt; fd87227e48a1\n",
       "</pre>\n"
      ],
      "text/plain": [
       "[2023-01-31T09:07:05.323928+00:00] [TFY-CLIENT]  ---> fd87227e48a1\n"
      ]
     },
     "metadata": {},
     "output_type": "display_data"
    },
    {
     "data": {
      "text/html": [
       "<pre style=\"white-space:pre;overflow-x:auto;line-height:normal;font-family:Menlo,'DejaVu Sans Mono',consolas,'Courier New',monospace\">[2023-01-31T09:07:05.323940+00:00] [TFY-CLIENT] Successfully built fd87227e48a1\n",
       "</pre>\n"
      ],
      "text/plain": [
       "[2023-01-31T09:07:05.323940+00:00] [TFY-CLIENT] Successfully built fd87227e48a1\n"
      ]
     },
     "metadata": {},
     "output_type": "display_data"
    },
    {
     "data": {
      "text/html": [
       "<pre style=\"white-space:pre;overflow-x:auto;line-height:normal;font-family:Menlo,'DejaVu Sans Mono',consolas,'Courier New',monospace\">[2023-01-31T09:07:05.573204+00:00] [TFY-CLIENT] The push refers to repository \n",
       "[416964291864.dkr.ecr.eu-west-1.amazonaws.com/kotak-demo-train-09l9l]\n",
       "</pre>\n"
      ],
      "text/plain": [
       "[2023-01-31T09:07:05.573204+00:00] [TFY-CLIENT] The push refers to repository \n",
       "[416964291864.dkr.ecr.eu-west-1.amazonaws.com/kotak-demo-train-09l9l]\n"
      ]
     },
     "metadata": {},
     "output_type": "display_data"
    },
    {
     "data": {
      "text/html": [
       "<pre style=\"white-space:pre;overflow-x:auto;line-height:normal;font-family:Menlo,'DejaVu Sans Mono',consolas,'Courier New',monospace\">[2023-01-31T09:07:05.573223+00:00] [TFY-CLIENT] 7b96f8c54f17: Preparing\n",
       "</pre>\n"
      ],
      "text/plain": [
       "[2023-01-31T09:07:05.573223+00:00] [TFY-CLIENT] 7b96f8c54f17: Preparing\n"
      ]
     },
     "metadata": {},
     "output_type": "display_data"
    },
    {
     "data": {
      "text/html": [
       "<pre style=\"white-space:pre;overflow-x:auto;line-height:normal;font-family:Menlo,'DejaVu Sans Mono',consolas,'Courier New',monospace\">[2023-01-31T09:07:05.323948+00:00] [TFY-CLIENT] Successfully tagged \n",
       "416964291864.dkr.ecr.eu-west-1.amazonaws.com/kotak-demo-train-09l9l:11\n",
       "</pre>\n"
      ],
      "text/plain": [
       "[2023-01-31T09:07:05.323948+00:00] [TFY-CLIENT] Successfully tagged \n",
       "416964291864.dkr.ecr.eu-west-1.amazonaws.com/kotak-demo-train-09l9l:11\n"
      ]
     },
     "metadata": {},
     "output_type": "display_data"
    },
    {
     "data": {
      "text/html": [
       "<pre style=\"white-space:pre;overflow-x:auto;line-height:normal;font-family:Menlo,'DejaVu Sans Mono',consolas,'Courier New',monospace\">[2023-01-31T09:07:05.573238+00:00] [TFY-CLIENT] 28a557e34389: Preparing\n",
       "</pre>\n"
      ],
      "text/plain": [
       "[2023-01-31T09:07:05.573238+00:00] [TFY-CLIENT] 28a557e34389: Preparing\n"
      ]
     },
     "metadata": {},
     "output_type": "display_data"
    },
    {
     "data": {
      "text/html": [
       "<pre style=\"white-space:pre;overflow-x:auto;line-height:normal;font-family:Menlo,'DejaVu Sans Mono',consolas,'Courier New',monospace\">[2023-01-31T09:07:05.573232+00:00] [TFY-CLIENT] af21a754f411: Preparing\n",
       "</pre>\n"
      ],
      "text/plain": [
       "[2023-01-31T09:07:05.573232+00:00] [TFY-CLIENT] af21a754f411: Preparing\n"
      ]
     },
     "metadata": {},
     "output_type": "display_data"
    },
    {
     "data": {
      "text/html": [
       "<pre style=\"white-space:pre;overflow-x:auto;line-height:normal;font-family:Menlo,'DejaVu Sans Mono',consolas,'Courier New',monospace\">[2023-01-31T09:07:05.573246+00:00] [TFY-CLIENT] e42ec6c46a91: Preparing\n",
       "</pre>\n"
      ],
      "text/plain": [
       "[2023-01-31T09:07:05.573246+00:00] [TFY-CLIENT] e42ec6c46a91: Preparing\n"
      ]
     },
     "metadata": {},
     "output_type": "display_data"
    },
    {
     "data": {
      "text/html": [
       "<pre style=\"white-space:pre;overflow-x:auto;line-height:normal;font-family:Menlo,'DejaVu Sans Mono',consolas,'Courier New',monospace\">[2023-01-31T09:07:05.573251+00:00] [TFY-CLIENT] d5b17d98dbd1: Preparing\n",
       "</pre>\n"
      ],
      "text/plain": [
       "[2023-01-31T09:07:05.573251+00:00] [TFY-CLIENT] d5b17d98dbd1: Preparing\n"
      ]
     },
     "metadata": {},
     "output_type": "display_data"
    },
    {
     "data": {
      "text/html": [
       "<pre style=\"white-space:pre;overflow-x:auto;line-height:normal;font-family:Menlo,'DejaVu Sans Mono',consolas,'Courier New',monospace\">[2023-01-31T09:07:05.573261+00:00] [TFY-CLIENT] 52400b17e008: Preparing\n",
       "</pre>\n"
      ],
      "text/plain": [
       "[2023-01-31T09:07:05.573261+00:00] [TFY-CLIENT] 52400b17e008: Preparing\n"
      ]
     },
     "metadata": {},
     "output_type": "display_data"
    },
    {
     "data": {
      "text/html": [
       "<pre style=\"white-space:pre;overflow-x:auto;line-height:normal;font-family:Menlo,'DejaVu Sans Mono',consolas,'Courier New',monospace\">[2023-01-31T09:07:05.573269+00:00] [TFY-CLIENT] dc6462f7bb8b: Preparing\n",
       "</pre>\n"
      ],
      "text/plain": [
       "[2023-01-31T09:07:05.573269+00:00] [TFY-CLIENT] dc6462f7bb8b: Preparing\n"
      ]
     },
     "metadata": {},
     "output_type": "display_data"
    },
    {
     "data": {
      "text/html": [
       "<pre style=\"white-space:pre;overflow-x:auto;line-height:normal;font-family:Menlo,'DejaVu Sans Mono',consolas,'Courier New',monospace\">[2023-01-31T09:07:05.573282+00:00] [TFY-CLIENT] a4db1a405763: Preparing\n",
       "</pre>\n"
      ],
      "text/plain": [
       "[2023-01-31T09:07:05.573282+00:00] [TFY-CLIENT] a4db1a405763: Preparing\n"
      ]
     },
     "metadata": {},
     "output_type": "display_data"
    },
    {
     "data": {
      "text/html": [
       "<pre style=\"white-space:pre;overflow-x:auto;line-height:normal;font-family:Menlo,'DejaVu Sans Mono',consolas,'Courier New',monospace\">[2023-01-31T09:07:05.573322+00:00] [TFY-CLIENT] 9f4f964da727: Preparing\n",
       "</pre>\n"
      ],
      "text/plain": [
       "[2023-01-31T09:07:05.573322+00:00] [TFY-CLIENT] 9f4f964da727: Preparing\n"
      ]
     },
     "metadata": {},
     "output_type": "display_data"
    },
    {
     "data": {
      "text/html": [
       "<pre style=\"white-space:pre;overflow-x:auto;line-height:normal;font-family:Menlo,'DejaVu Sans Mono',consolas,'Courier New',monospace\">[2023-01-31T09:07:05.573354+00:00] [TFY-CLIENT] 49b333f7bad4: Preparing\n",
       "</pre>\n"
      ],
      "text/plain": [
       "[2023-01-31T09:07:05.573354+00:00] [TFY-CLIENT] 49b333f7bad4: Preparing\n"
      ]
     },
     "metadata": {},
     "output_type": "display_data"
    },
    {
     "data": {
      "text/html": [
       "<pre style=\"white-space:pre;overflow-x:auto;line-height:normal;font-family:Menlo,'DejaVu Sans Mono',consolas,'Courier New',monospace\">[2023-01-31T09:07:05.573494+00:00] [TFY-CLIENT] a463dbda4664: Preparing\n",
       "</pre>\n"
      ],
      "text/plain": [
       "[2023-01-31T09:07:05.573494+00:00] [TFY-CLIENT] a463dbda4664: Preparing\n"
      ]
     },
     "metadata": {},
     "output_type": "display_data"
    },
    {
     "data": {
      "text/html": [
       "<pre style=\"white-space:pre;overflow-x:auto;line-height:normal;font-family:Menlo,'DejaVu Sans Mono',consolas,'Courier New',monospace\">[2023-01-31T09:07:05.573496+00:00] [TFY-CLIENT] a9099c3159f5: Preparing\n",
       "</pre>\n"
      ],
      "text/plain": [
       "[2023-01-31T09:07:05.573496+00:00] [TFY-CLIENT] a9099c3159f5: Preparing\n"
      ]
     },
     "metadata": {},
     "output_type": "display_data"
    },
    {
     "data": {
      "text/html": [
       "<pre style=\"white-space:pre;overflow-x:auto;line-height:normal;font-family:Menlo,'DejaVu Sans Mono',consolas,'Courier New',monospace\">[2023-01-31T09:07:05.573500+00:00] [TFY-CLIENT] dc6462f7bb8b: Waiting\n",
       "</pre>\n"
      ],
      "text/plain": [
       "[2023-01-31T09:07:05.573500+00:00] [TFY-CLIENT] dc6462f7bb8b: Waiting\n"
      ]
     },
     "metadata": {},
     "output_type": "display_data"
    },
    {
     "data": {
      "text/html": [
       "<pre style=\"white-space:pre;overflow-x:auto;line-height:normal;font-family:Menlo,'DejaVu Sans Mono',consolas,'Courier New',monospace\">[2023-01-31T09:07:05.573504+00:00] [TFY-CLIENT] a4db1a405763: Waiting\n",
       "</pre>\n"
      ],
      "text/plain": [
       "[2023-01-31T09:07:05.573504+00:00] [TFY-CLIENT] a4db1a405763: Waiting\n"
      ]
     },
     "metadata": {},
     "output_type": "display_data"
    },
    {
     "data": {
      "text/html": [
       "<pre style=\"white-space:pre;overflow-x:auto;line-height:normal;font-family:Menlo,'DejaVu Sans Mono',consolas,'Courier New',monospace\">[2023-01-31T09:07:05.573535+00:00] [TFY-CLIENT] 9f4f964da727: Waiting\n",
       "</pre>\n"
      ],
      "text/plain": [
       "[2023-01-31T09:07:05.573535+00:00] [TFY-CLIENT] 9f4f964da727: Waiting\n"
      ]
     },
     "metadata": {},
     "output_type": "display_data"
    },
    {
     "data": {
      "text/html": [
       "<pre style=\"white-space:pre;overflow-x:auto;line-height:normal;font-family:Menlo,'DejaVu Sans Mono',consolas,'Courier New',monospace\">[2023-01-31T09:07:05.573536+00:00] [TFY-CLIENT] 49b333f7bad4: Waiting\n",
       "</pre>\n"
      ],
      "text/plain": [
       "[2023-01-31T09:07:05.573536+00:00] [TFY-CLIENT] 49b333f7bad4: Waiting\n"
      ]
     },
     "metadata": {},
     "output_type": "display_data"
    },
    {
     "data": {
      "text/html": [
       "<pre style=\"white-space:pre;overflow-x:auto;line-height:normal;font-family:Menlo,'DejaVu Sans Mono',consolas,'Courier New',monospace\">[2023-01-31T09:07:05.573539+00:00] [TFY-CLIENT] a463dbda4664: Waiting\n",
       "</pre>\n"
      ],
      "text/plain": [
       "[2023-01-31T09:07:05.573539+00:00] [TFY-CLIENT] a463dbda4664: Waiting\n"
      ]
     },
     "metadata": {},
     "output_type": "display_data"
    },
    {
     "data": {
      "text/html": [
       "<pre style=\"white-space:pre;overflow-x:auto;line-height:normal;font-family:Menlo,'DejaVu Sans Mono',consolas,'Courier New',monospace\">[2023-01-31T09:07:05.573551+00:00] [TFY-CLIENT] a9099c3159f5: Waiting\n",
       "</pre>\n"
      ],
      "text/plain": [
       "[2023-01-31T09:07:05.573551+00:00] [TFY-CLIENT] a9099c3159f5: Waiting\n"
      ]
     },
     "metadata": {},
     "output_type": "display_data"
    },
    {
     "data": {
      "text/html": [
       "<pre style=\"white-space:pre;overflow-x:auto;line-height:normal;font-family:Menlo,'DejaVu Sans Mono',consolas,'Courier New',monospace\">[2023-01-31T09:07:05.573568+00:00] [TFY-CLIENT] 52400b17e008: Waiting\n",
       "</pre>\n"
      ],
      "text/plain": [
       "[2023-01-31T09:07:05.573568+00:00] [TFY-CLIENT] 52400b17e008: Waiting\n"
      ]
     },
     "metadata": {},
     "output_type": "display_data"
    },
    {
     "data": {
      "text/html": [
       "<pre style=\"white-space:pre;overflow-x:auto;line-height:normal;font-family:Menlo,'DejaVu Sans Mono',consolas,'Courier New',monospace\">[2023-01-31T09:07:05.573668+00:00] [TFY-CLIENT] 28a557e34389: Layer already exists\n",
       "</pre>\n"
      ],
      "text/plain": [
       "[2023-01-31T09:07:05.573668+00:00] [TFY-CLIENT] 28a557e34389: Layer already exists\n"
      ]
     },
     "metadata": {},
     "output_type": "display_data"
    },
    {
     "data": {
      "text/html": [
       "<pre style=\"white-space:pre;overflow-x:auto;line-height:normal;font-family:Menlo,'DejaVu Sans Mono',consolas,'Courier New',monospace\">[2023-01-31T09:07:05.573670+00:00] [TFY-CLIENT] d5b17d98dbd1: Layer already exists\n",
       "</pre>\n"
      ],
      "text/plain": [
       "[2023-01-31T09:07:05.573670+00:00] [TFY-CLIENT] d5b17d98dbd1: Layer already exists\n"
      ]
     },
     "metadata": {},
     "output_type": "display_data"
    },
    {
     "data": {
      "text/html": [
       "<pre style=\"white-space:pre;overflow-x:auto;line-height:normal;font-family:Menlo,'DejaVu Sans Mono',consolas,'Courier New',monospace\">[2023-01-31T09:07:05.573673+00:00] [TFY-CLIENT] 7b96f8c54f17: Layer already exists\n",
       "</pre>\n"
      ],
      "text/plain": [
       "[2023-01-31T09:07:05.573673+00:00] [TFY-CLIENT] 7b96f8c54f17: Layer already exists\n"
      ]
     },
     "metadata": {},
     "output_type": "display_data"
    },
    {
     "data": {
      "text/html": [
       "<pre style=\"white-space:pre;overflow-x:auto;line-height:normal;font-family:Menlo,'DejaVu Sans Mono',consolas,'Courier New',monospace\">[2023-01-31T09:07:05.573691+00:00] [TFY-CLIENT] af21a754f411: Layer already exists\n",
       "</pre>\n"
      ],
      "text/plain": [
       "[2023-01-31T09:07:05.573691+00:00] [TFY-CLIENT] af21a754f411: Layer already exists\n"
      ]
     },
     "metadata": {},
     "output_type": "display_data"
    },
    {
     "data": {
      "text/html": [
       "<pre style=\"white-space:pre;overflow-x:auto;line-height:normal;font-family:Menlo,'DejaVu Sans Mono',consolas,'Courier New',monospace\">[2023-01-31T09:07:05.573693+00:00] [TFY-CLIENT] e42ec6c46a91: Layer already exists\n",
       "</pre>\n"
      ],
      "text/plain": [
       "[2023-01-31T09:07:05.573693+00:00] [TFY-CLIENT] e42ec6c46a91: Layer already exists\n"
      ]
     },
     "metadata": {},
     "output_type": "display_data"
    },
    {
     "data": {
      "text/html": [
       "<pre style=\"white-space:pre;overflow-x:auto;line-height:normal;font-family:Menlo,'DejaVu Sans Mono',consolas,'Courier New',monospace\">[2023-01-31T09:07:05.573724+00:00] [TFY-CLIENT] 52400b17e008: Layer already exists\n",
       "</pre>\n"
      ],
      "text/plain": [
       "[2023-01-31T09:07:05.573724+00:00] [TFY-CLIENT] 52400b17e008: Layer already exists\n"
      ]
     },
     "metadata": {},
     "output_type": "display_data"
    },
    {
     "data": {
      "text/html": [
       "<pre style=\"white-space:pre;overflow-x:auto;line-height:normal;font-family:Menlo,'DejaVu Sans Mono',consolas,'Courier New',monospace\">[2023-01-31T09:07:05.573725+00:00] [TFY-CLIENT] dc6462f7bb8b: Layer already exists\n",
       "</pre>\n"
      ],
      "text/plain": [
       "[2023-01-31T09:07:05.573725+00:00] [TFY-CLIENT] dc6462f7bb8b: Layer already exists\n"
      ]
     },
     "metadata": {},
     "output_type": "display_data"
    },
    {
     "data": {
      "text/html": [
       "<pre style=\"white-space:pre;overflow-x:auto;line-height:normal;font-family:Menlo,'DejaVu Sans Mono',consolas,'Courier New',monospace\">[2023-01-31T09:07:05.573728+00:00] [TFY-CLIENT] 9f4f964da727: Layer already exists\n",
       "</pre>\n"
      ],
      "text/plain": [
       "[2023-01-31T09:07:05.573728+00:00] [TFY-CLIENT] 9f4f964da727: Layer already exists\n"
      ]
     },
     "metadata": {},
     "output_type": "display_data"
    },
    {
     "data": {
      "text/html": [
       "<pre style=\"white-space:pre;overflow-x:auto;line-height:normal;font-family:Menlo,'DejaVu Sans Mono',consolas,'Courier New',monospace\">[2023-01-31T09:07:05.573792+00:00] [TFY-CLIENT] a4db1a405763: Layer already exists\n",
       "</pre>\n"
      ],
      "text/plain": [
       "[2023-01-31T09:07:05.573792+00:00] [TFY-CLIENT] a4db1a405763: Layer already exists\n"
      ]
     },
     "metadata": {},
     "output_type": "display_data"
    },
    {
     "data": {
      "text/html": [
       "<pre style=\"white-space:pre;overflow-x:auto;line-height:normal;font-family:Menlo,'DejaVu Sans Mono',consolas,'Courier New',monospace\">[2023-01-31T09:07:05.573793+00:00] [TFY-CLIENT] 49b333f7bad4: Layer already exists\n",
       "</pre>\n"
      ],
      "text/plain": [
       "[2023-01-31T09:07:05.573793+00:00] [TFY-CLIENT] 49b333f7bad4: Layer already exists\n"
      ]
     },
     "metadata": {},
     "output_type": "display_data"
    },
    {
     "data": {
      "text/html": [
       "<pre style=\"white-space:pre;overflow-x:auto;line-height:normal;font-family:Menlo,'DejaVu Sans Mono',consolas,'Courier New',monospace\">[2023-01-31T09:07:05.573797+00:00] [TFY-CLIENT] a463dbda4664: Layer already exists\n",
       "</pre>\n"
      ],
      "text/plain": [
       "[2023-01-31T09:07:05.573797+00:00] [TFY-CLIENT] a463dbda4664: Layer already exists\n"
      ]
     },
     "metadata": {},
     "output_type": "display_data"
    },
    {
     "data": {
      "text/html": [
       "<pre style=\"white-space:pre;overflow-x:auto;line-height:normal;font-family:Menlo,'DejaVu Sans Mono',consolas,'Courier New',monospace\">[2023-01-31T09:07:05.573839+00:00] [TFY-CLIENT] a9099c3159f5: Layer already exists\n",
       "</pre>\n"
      ],
      "text/plain": [
       "[2023-01-31T09:07:05.573839+00:00] [TFY-CLIENT] a9099c3159f5: Layer already exists\n"
      ]
     },
     "metadata": {},
     "output_type": "display_data"
    },
    {
     "data": {
      "text/html": [
       "<pre style=\"white-space:pre;overflow-x:auto;line-height:normal;font-family:Menlo,'DejaVu Sans Mono',consolas,'Courier New',monospace\">[2023-01-31T09:07:05.573841+00:00] [TFY-CLIENT] 11: digest: \n",
       "sha256:22977b36c41dc266884a5d35fde64b0fcb79cb99d1302545ce9c81c3a9bff56f size: 2846\n",
       "</pre>\n"
      ],
      "text/plain": [
       "[2023-01-31T09:07:05.573841+00:00] [TFY-CLIENT] 11: digest: \n",
       "sha256:22977b36c41dc266884a5d35fde64b0fcb79cb99d1302545ce9c81c3a9bff56f size: 2846\n"
      ]
     },
     "metadata": {},
     "output_type": "display_data"
    },
    {
     "data": {
      "text/html": [
       "<pre style=\"white-space:pre;overflow-x:auto;line-height:normal;font-family:Menlo,'DejaVu Sans Mono',consolas,'Courier New',monospace\">[2023-01-31T09:07:05.573845+00:00] The push refers to repository \n",
       "[416964291864.dkr.ecr.eu-west-1.amazonaws.com/kotak-demo-train-09l9l]\n",
       "</pre>\n"
      ],
      "text/plain": [
       "[2023-01-31T09:07:05.573845+00:00] The push refers to repository \n",
       "[416964291864.dkr.ecr.eu-west-1.amazonaws.com/kotak-demo-train-09l9l]\n"
      ]
     },
     "metadata": {},
     "output_type": "display_data"
    },
    {
     "data": {
      "text/html": [
       "<pre style=\"white-space:pre;overflow-x:auto;line-height:normal;font-family:Menlo,'DejaVu Sans Mono',consolas,'Courier New',monospace\">[2023-01-31T09:07:05.573848+00:00] 7b96f8c54f17: Preparing\n",
       "</pre>\n"
      ],
      "text/plain": [
       "[2023-01-31T09:07:05.573848+00:00] 7b96f8c54f17: Preparing\n"
      ]
     },
     "metadata": {},
     "output_type": "display_data"
    },
    {
     "data": {
      "text/html": [
       "<pre style=\"white-space:pre;overflow-x:auto;line-height:normal;font-family:Menlo,'DejaVu Sans Mono',consolas,'Courier New',monospace\">[2023-01-31T09:07:05.573866+00:00] af21a754f411: Preparing\n",
       "</pre>\n"
      ],
      "text/plain": [
       "[2023-01-31T09:07:05.573866+00:00] af21a754f411: Preparing\n"
      ]
     },
     "metadata": {},
     "output_type": "display_data"
    },
    {
     "data": {
      "text/html": [
       "<pre style=\"white-space:pre;overflow-x:auto;line-height:normal;font-family:Menlo,'DejaVu Sans Mono',consolas,'Courier New',monospace\">[2023-01-31T09:07:05.573867+00:00] 28a557e34389: Preparing\n",
       "</pre>\n"
      ],
      "text/plain": [
       "[2023-01-31T09:07:05.573867+00:00] 28a557e34389: Preparing\n"
      ]
     },
     "metadata": {},
     "output_type": "display_data"
    },
    {
     "data": {
      "text/html": [
       "<pre style=\"white-space:pre;overflow-x:auto;line-height:normal;font-family:Menlo,'DejaVu Sans Mono',consolas,'Courier New',monospace\">[2023-01-31T09:07:05.573911+00:00] e42ec6c46a91: Preparing\n",
       "</pre>\n"
      ],
      "text/plain": [
       "[2023-01-31T09:07:05.573911+00:00] e42ec6c46a91: Preparing\n"
      ]
     },
     "metadata": {},
     "output_type": "display_data"
    },
    {
     "data": {
      "text/html": [
       "<pre style=\"white-space:pre;overflow-x:auto;line-height:normal;font-family:Menlo,'DejaVu Sans Mono',consolas,'Courier New',monospace\">[2023-01-31T09:07:05.573912+00:00] d5b17d98dbd1: Preparing\n",
       "</pre>\n"
      ],
      "text/plain": [
       "[2023-01-31T09:07:05.573912+00:00] d5b17d98dbd1: Preparing\n"
      ]
     },
     "metadata": {},
     "output_type": "display_data"
    },
    {
     "data": {
      "text/html": [
       "<pre style=\"white-space:pre;overflow-x:auto;line-height:normal;font-family:Menlo,'DejaVu Sans Mono',consolas,'Courier New',monospace\">[2023-01-31T09:07:05.573941+00:00] 52400b17e008: Preparing\n",
       "</pre>\n"
      ],
      "text/plain": [
       "[2023-01-31T09:07:05.573941+00:00] 52400b17e008: Preparing\n"
      ]
     },
     "metadata": {},
     "output_type": "display_data"
    },
    {
     "data": {
      "text/html": [
       "<pre style=\"white-space:pre;overflow-x:auto;line-height:normal;font-family:Menlo,'DejaVu Sans Mono',consolas,'Courier New',monospace\">[2023-01-31T09:07:05.573942+00:00] dc6462f7bb8b: Preparing\n",
       "</pre>\n"
      ],
      "text/plain": [
       "[2023-01-31T09:07:05.573942+00:00] dc6462f7bb8b: Preparing\n"
      ]
     },
     "metadata": {},
     "output_type": "display_data"
    },
    {
     "data": {
      "text/html": [
       "<pre style=\"white-space:pre;overflow-x:auto;line-height:normal;font-family:Menlo,'DejaVu Sans Mono',consolas,'Courier New',monospace\">[2023-01-31T09:07:05.573955+00:00] a4db1a405763: Preparing\n",
       "</pre>\n"
      ],
      "text/plain": [
       "[2023-01-31T09:07:05.573955+00:00] a4db1a405763: Preparing\n"
      ]
     },
     "metadata": {},
     "output_type": "display_data"
    },
    {
     "data": {
      "text/html": [
       "<pre style=\"white-space:pre;overflow-x:auto;line-height:normal;font-family:Menlo,'DejaVu Sans Mono',consolas,'Courier New',monospace\">[2023-01-31T09:07:05.573980+00:00] 9f4f964da727: Preparing\n",
       "</pre>\n"
      ],
      "text/plain": [
       "[2023-01-31T09:07:05.573980+00:00] 9f4f964da727: Preparing\n"
      ]
     },
     "metadata": {},
     "output_type": "display_data"
    },
    {
     "data": {
      "text/html": [
       "<pre style=\"white-space:pre;overflow-x:auto;line-height:normal;font-family:Menlo,'DejaVu Sans Mono',consolas,'Courier New',monospace\">[2023-01-31T09:07:05.574026+00:00] 49b333f7bad4: Preparing\n",
       "</pre>\n"
      ],
      "text/plain": [
       "[2023-01-31T09:07:05.574026+00:00] 49b333f7bad4: Preparing\n"
      ]
     },
     "metadata": {},
     "output_type": "display_data"
    },
    {
     "data": {
      "text/html": [
       "<pre style=\"white-space:pre;overflow-x:auto;line-height:normal;font-family:Menlo,'DejaVu Sans Mono',consolas,'Courier New',monospace\">[2023-01-31T09:07:05.574028+00:00] a463dbda4664: Preparing\n",
       "</pre>\n"
      ],
      "text/plain": [
       "[2023-01-31T09:07:05.574028+00:00] a463dbda4664: Preparing\n"
      ]
     },
     "metadata": {},
     "output_type": "display_data"
    },
    {
     "data": {
      "text/html": [
       "<pre style=\"white-space:pre;overflow-x:auto;line-height:normal;font-family:Menlo,'DejaVu Sans Mono',consolas,'Courier New',monospace\">[2023-01-31T09:07:05.574055+00:00] a9099c3159f5: Preparing\n",
       "</pre>\n"
      ],
      "text/plain": [
       "[2023-01-31T09:07:05.574055+00:00] a9099c3159f5: Preparing\n"
      ]
     },
     "metadata": {},
     "output_type": "display_data"
    },
    {
     "data": {
      "text/html": [
       "<pre style=\"white-space:pre;overflow-x:auto;line-height:normal;font-family:Menlo,'DejaVu Sans Mono',consolas,'Courier New',monospace\">[2023-01-31T09:07:05.574056+00:00] dc6462f7bb8b: Waiting\n",
       "</pre>\n"
      ],
      "text/plain": [
       "[2023-01-31T09:07:05.574056+00:00] dc6462f7bb8b: Waiting\n"
      ]
     },
     "metadata": {},
     "output_type": "display_data"
    },
    {
     "data": {
      "text/html": [
       "<pre style=\"white-space:pre;overflow-x:auto;line-height:normal;font-family:Menlo,'DejaVu Sans Mono',consolas,'Courier New',monospace\">[2023-01-31T09:07:05.574084+00:00] a4db1a405763: Waiting\n",
       "</pre>\n"
      ],
      "text/plain": [
       "[2023-01-31T09:07:05.574084+00:00] a4db1a405763: Waiting\n"
      ]
     },
     "metadata": {},
     "output_type": "display_data"
    },
    {
     "data": {
      "text/html": [
       "<pre style=\"white-space:pre;overflow-x:auto;line-height:normal;font-family:Menlo,'DejaVu Sans Mono',consolas,'Courier New',monospace\">[2023-01-31T09:07:05.574086+00:00] 9f4f964da727: Waiting\n",
       "</pre>\n"
      ],
      "text/plain": [
       "[2023-01-31T09:07:05.574086+00:00] 9f4f964da727: Waiting\n"
      ]
     },
     "metadata": {},
     "output_type": "display_data"
    },
    {
     "data": {
      "text/html": [
       "<pre style=\"white-space:pre;overflow-x:auto;line-height:normal;font-family:Menlo,'DejaVu Sans Mono',consolas,'Courier New',monospace\">[2023-01-31T09:07:05.574089+00:00] 49b333f7bad4: Waiting\n",
       "</pre>\n"
      ],
      "text/plain": [
       "[2023-01-31T09:07:05.574089+00:00] 49b333f7bad4: Waiting\n"
      ]
     },
     "metadata": {},
     "output_type": "display_data"
    },
    {
     "data": {
      "text/html": [
       "<pre style=\"white-space:pre;overflow-x:auto;line-height:normal;font-family:Menlo,'DejaVu Sans Mono',consolas,'Courier New',monospace\">[2023-01-31T09:07:05.574136+00:00] a463dbda4664: Waiting\n",
       "</pre>\n"
      ],
      "text/plain": [
       "[2023-01-31T09:07:05.574136+00:00] a463dbda4664: Waiting\n"
      ]
     },
     "metadata": {},
     "output_type": "display_data"
    },
    {
     "data": {
      "text/html": [
       "<pre style=\"white-space:pre;overflow-x:auto;line-height:normal;font-family:Menlo,'DejaVu Sans Mono',consolas,'Courier New',monospace\">[2023-01-31T09:07:05.574136+00:00] a9099c3159f5: Waiting\n",
       "</pre>\n"
      ],
      "text/plain": [
       "[2023-01-31T09:07:05.574136+00:00] a9099c3159f5: Waiting\n"
      ]
     },
     "metadata": {},
     "output_type": "display_data"
    },
    {
     "data": {
      "text/html": [
       "<pre style=\"white-space:pre;overflow-x:auto;line-height:normal;font-family:Menlo,'DejaVu Sans Mono',consolas,'Courier New',monospace\">[2023-01-31T09:07:05.574138+00:00] 52400b17e008: Waiting\n",
       "</pre>\n"
      ],
      "text/plain": [
       "[2023-01-31T09:07:05.574138+00:00] 52400b17e008: Waiting\n"
      ]
     },
     "metadata": {},
     "output_type": "display_data"
    },
    {
     "data": {
      "text/html": [
       "<pre style=\"white-space:pre;overflow-x:auto;line-height:normal;font-family:Menlo,'DejaVu Sans Mono',consolas,'Courier New',monospace\">[2023-01-31T09:07:05.574175+00:00] 28a557e34389: Layer already exists\n",
       "</pre>\n"
      ],
      "text/plain": [
       "[2023-01-31T09:07:05.574175+00:00] 28a557e34389: Layer already exists\n"
      ]
     },
     "metadata": {},
     "output_type": "display_data"
    },
    {
     "data": {
      "text/html": [
       "<pre style=\"white-space:pre;overflow-x:auto;line-height:normal;font-family:Menlo,'DejaVu Sans Mono',consolas,'Courier New',monospace\">[2023-01-31T09:07:05.574176+00:00] d5b17d98dbd1: Layer already exists\n",
       "</pre>\n"
      ],
      "text/plain": [
       "[2023-01-31T09:07:05.574176+00:00] d5b17d98dbd1: Layer already exists\n"
      ]
     },
     "metadata": {},
     "output_type": "display_data"
    },
    {
     "data": {
      "text/html": [
       "<pre style=\"white-space:pre;overflow-x:auto;line-height:normal;font-family:Menlo,'DejaVu Sans Mono',consolas,'Courier New',monospace\">[2023-01-31T09:07:05.574249+00:00] e42ec6c46a91: Layer already exists\n",
       "</pre>\n"
      ],
      "text/plain": [
       "[2023-01-31T09:07:05.574249+00:00] e42ec6c46a91: Layer already exists\n"
      ]
     },
     "metadata": {},
     "output_type": "display_data"
    },
    {
     "data": {
      "text/html": [
       "<pre style=\"white-space:pre;overflow-x:auto;line-height:normal;font-family:Menlo,'DejaVu Sans Mono',consolas,'Courier New',monospace\">[2023-01-31T09:07:05.574250+00:00] af21a754f411: Layer already exists\n",
       "</pre>\n"
      ],
      "text/plain": [
       "[2023-01-31T09:07:05.574250+00:00] af21a754f411: Layer already exists\n"
      ]
     },
     "metadata": {},
     "output_type": "display_data"
    },
    {
     "data": {
      "text/html": [
       "<pre style=\"white-space:pre;overflow-x:auto;line-height:normal;font-family:Menlo,'DejaVu Sans Mono',consolas,'Courier New',monospace\">[2023-01-31T09:07:05.574276+00:00] 7b96f8c54f17: Layer already exists\n",
       "</pre>\n"
      ],
      "text/plain": [
       "[2023-01-31T09:07:05.574276+00:00] 7b96f8c54f17: Layer already exists\n"
      ]
     },
     "metadata": {},
     "output_type": "display_data"
    },
    {
     "data": {
      "text/html": [
       "<pre style=\"white-space:pre;overflow-x:auto;line-height:normal;font-family:Menlo,'DejaVu Sans Mono',consolas,'Courier New',monospace\">[2023-01-31T09:07:05.574287+00:00] dc6462f7bb8b: Layer already exists\n",
       "</pre>\n"
      ],
      "text/plain": [
       "[2023-01-31T09:07:05.574287+00:00] dc6462f7bb8b: Layer already exists\n"
      ]
     },
     "metadata": {},
     "output_type": "display_data"
    },
    {
     "data": {
      "text/html": [
       "<pre style=\"white-space:pre;overflow-x:auto;line-height:normal;font-family:Menlo,'DejaVu Sans Mono',consolas,'Courier New',monospace\">[2023-01-31T09:07:05.823489+00:00] 9f4f964da727: Layer already exists\n",
       "</pre>\n"
      ],
      "text/plain": [
       "[2023-01-31T09:07:05.823489+00:00] 9f4f964da727: Layer already exists\n"
      ]
     },
     "metadata": {},
     "output_type": "display_data"
    },
    {
     "data": {
      "text/html": [
       "<pre style=\"white-space:pre;overflow-x:auto;line-height:normal;font-family:Menlo,'DejaVu Sans Mono',consolas,'Courier New',monospace\">[2023-01-31T09:07:05.823495+00:00] a4db1a405763: Layer already exists\n",
       "</pre>\n"
      ],
      "text/plain": [
       "[2023-01-31T09:07:05.823495+00:00] a4db1a405763: Layer already exists\n"
      ]
     },
     "metadata": {},
     "output_type": "display_data"
    },
    {
     "data": {
      "text/html": [
       "<pre style=\"white-space:pre;overflow-x:auto;line-height:normal;font-family:Menlo,'DejaVu Sans Mono',consolas,'Courier New',monospace\">[2023-01-31T09:07:05.823509+00:00] 49b333f7bad4: Layer already exists\n",
       "</pre>\n"
      ],
      "text/plain": [
       "[2023-01-31T09:07:05.823509+00:00] 49b333f7bad4: Layer already exists\n"
      ]
     },
     "metadata": {},
     "output_type": "display_data"
    },
    {
     "data": {
      "text/html": [
       "<pre style=\"white-space:pre;overflow-x:auto;line-height:normal;font-family:Menlo,'DejaVu Sans Mono',consolas,'Courier New',monospace\">[2023-01-31T09:07:05.823521+00:00] 52400b17e008: Layer already exists\n",
       "</pre>\n"
      ],
      "text/plain": [
       "[2023-01-31T09:07:05.823521+00:00] 52400b17e008: Layer already exists\n"
      ]
     },
     "metadata": {},
     "output_type": "display_data"
    },
    {
     "data": {
      "text/html": [
       "<pre style=\"white-space:pre;overflow-x:auto;line-height:normal;font-family:Menlo,'DejaVu Sans Mono',consolas,'Courier New',monospace\">[2023-01-31T09:07:05.823555+00:00] a463dbda4664: Layer already exists\n",
       "</pre>\n"
      ],
      "text/plain": [
       "[2023-01-31T09:07:05.823555+00:00] a463dbda4664: Layer already exists\n"
      ]
     },
     "metadata": {},
     "output_type": "display_data"
    },
    {
     "data": {
      "text/html": [
       "<pre style=\"white-space:pre;overflow-x:auto;line-height:normal;font-family:Menlo,'DejaVu Sans Mono',consolas,'Courier New',monospace\">[2023-01-31T09:07:05.823543+00:00] a9099c3159f5: Layer already exists\n",
       "</pre>\n"
      ],
      "text/plain": [
       "[2023-01-31T09:07:05.823543+00:00] a9099c3159f5: Layer already exists\n"
      ]
     },
     "metadata": {},
     "output_type": "display_data"
    },
    {
     "data": {
      "text/html": [
       "<pre style=\"white-space:pre;overflow-x:auto;line-height:normal;font-family:Menlo,'DejaVu Sans Mono',consolas,'Courier New',monospace\">[2023-01-31T09:07:07.076001+00:00] latest: digest: \n",
       "sha256:22977b36c41dc266884a5d35fde64b0fcb79cb99d1302545ce9c81c3a9bff56f size: 2846\n",
       "</pre>\n"
      ],
      "text/plain": [
       "[2023-01-31T09:07:07.076001+00:00] latest: digest: \n",
       "sha256:22977b36c41dc266884a5d35fde64b0fcb79cb99d1302545ce9c81c3a9bff56f size: 2846\n"
      ]
     },
     "metadata": {},
     "output_type": "display_data"
    },
    {
     "data": {
      "text/html": [
       "<pre style=\"white-space:pre;overflow-x:auto;line-height:normal;font-family:Menlo,'DejaVu Sans Mono',consolas,'Courier New',monospace\">[2023-01-31T09:07:07.076008+00:00] [TFY-CLIENT]<span style=\"color: #808000; text-decoration-color: #808000\">[==== Docker Image Size:- 1.52GB ====]</span>\n",
       "</pre>\n"
      ],
      "text/plain": [
       "[2023-01-31T09:07:07.076008+00:00] [TFY-CLIENT]\u001b[33m[==== Docker Image Size:- 1.52GB ====]\u001b[0m\n"
      ]
     },
     "metadata": {},
     "output_type": "display_data"
    },
    {
     "data": {
      "text/html": [
       "<pre style=\"white-space:pre;overflow-x:auto;line-height:normal;font-family:Menlo,'DejaVu Sans Mono',consolas,'Courier New',monospace\">[2023-01-31T09:07:07.076031+00:00] [TFY-CLIENT]<span style=\"color: #008000; text-decoration-color: #008000\">[Done]</span> Docker image built and pushed\n",
       "</pre>\n"
      ],
      "text/plain": [
       "[2023-01-31T09:07:07.076031+00:00] [TFY-CLIENT]\u001b[32m[Done]\u001b[0m Docker image built and pushed\n"
      ]
     },
     "metadata": {},
     "output_type": "display_data"
    },
    {
     "data": {
      "text/html": [
       "<pre style=\"white-space:pre;overflow-x:auto;line-height:normal;font-family:Menlo,'DejaVu Sans Mono',consolas,'Courier New',monospace\">[2023-01-31T09:07:07.326086+00:00] time=\"2023-01-31T09:07:07.137Z\" level=info msg=\"sub-process exited\" argo=true \n",
       "error=\"&lt;nil&gt;\"\n",
       "</pre>\n"
      ],
      "text/plain": [
       "[2023-01-31T09:07:07.326086+00:00] time=\"2023-01-31T09:07:07.137Z\" level=info msg=\"sub-process exited\" argo=true \n",
       "error=\"<nil>\"\n"
      ]
     },
     "metadata": {},
     "output_type": "display_data"
    },
    {
     "data": {
      "text/html": [
       "<pre style=\"white-space:pre;overflow-x:auto;line-height:normal;font-family:Menlo,'DejaVu Sans Mono',consolas,'Courier New',monospace\">[2023-01-31T09:07:43.291883+00:00] INFO:root:Sending request to url: \n",
       "http://truefoundry-servicefoundry-server.truefoundry.svc.cluster.local:3000/v1/x/builds/cldk0m5ypdlq71hpv4sz19a8o \n",
       "with json {\"status\": \"SUCCEEDED\", \"imageUri\": \n",
       "\"416964291864.dkr.ecr.eu-west-1.amazonaws.com/kotak-demo-train-09l9l:11\"}\n",
       "</pre>\n"
      ],
      "text/plain": [
       "[2023-01-31T09:07:43.291883+00:00] INFO:root:Sending request to url: \n",
       "http://truefoundry-servicefoundry-server.truefoundry.svc.cluster.local:3000/v1/x/builds/cldk0m5ypdlq71hpv4sz19a8o \n",
       "with json {\"status\": \"SUCCEEDED\", \"imageUri\": \n",
       "\"416964291864.dkr.ecr.eu-west-1.amazonaws.com/kotak-demo-train-09l9l:11\"}\n"
      ]
     },
     "metadata": {},
     "output_type": "display_data"
    },
    {
     "data": {
      "text/html": [
       "<pre style=\"white-space:pre;overflow-x:auto;line-height:normal;font-family:Menlo,'DejaVu Sans Mono',consolas,'Courier New',monospace\">[2023-01-31T09:07:43.291885+00:00] time=\"2023-01-31T09:07:35.806Z\" level=info msg=\"sub-process exited\" argo=true \n",
       "error=\"&lt;nil&gt;\"\n",
       "</pre>\n"
      ],
      "text/plain": [
       "[2023-01-31T09:07:43.291885+00:00] time=\"2023-01-31T09:07:35.806Z\" level=info msg=\"sub-process exited\" argo=true \n",
       "error=\"<nil>\"\n"
      ]
     },
     "metadata": {},
     "output_type": "display_data"
    },
    {
     "data": {
      "text/html": [
       "<pre style=\"white-space:pre;overflow-x:auto;line-height:normal;font-family:Menlo,'DejaVu Sans Mono',consolas,'Courier New',monospace\">[2023-01-31T09:07:53.293484+00:00] [TFY-CLIENT]<span style=\"color: #008000; text-decoration-color: #008000\">[Done]</span> Image Built Successfully.\n",
       "</pre>\n"
      ],
      "text/plain": [
       "[2023-01-31T09:07:53.293484+00:00] [TFY-CLIENT]\u001b[32m[Done]\u001b[0m Image Built Successfully.\n"
      ]
     },
     "metadata": {},
     "output_type": "display_data"
    },
    {
     "data": {
      "text/html": [
       "<pre style=\"white-space:pre;overflow-x:auto;line-height:normal;font-family:Menlo,'DejaVu Sans Mono',consolas,'Courier New',monospace\">[2023-01-31T09:07:53.293487+00:00] [TFY-CLIENT]<span style=\"color: #008000; text-decoration-color: #008000\">[Done]</span> Kubernetes deployment triggered. It may take 5-10s for the \n",
       "application to be live.\n",
       "</pre>\n"
      ],
      "text/plain": [
       "[2023-01-31T09:07:53.293487+00:00] [TFY-CLIENT]\u001b[32m[Done]\u001b[0m Kubernetes deployment triggered. It may take 5-10s for the \n",
       "application to be live.\n"
      ]
     },
     "metadata": {},
     "output_type": "display_data"
    },
    {
     "name": "stderr",
     "output_type": "stream",
     "text": [
      "2023-01-31 09:08:01,241 servicefoundry INFO     State: 'DEPLOY_SUCCESS'\n"
     ]
    },
    {
     "data": {
      "text/html": [
       "<pre style=\"white-space:pre;overflow-x:auto;line-height:normal;font-family:Menlo,'DejaVu Sans Mono',consolas,'Courier New',monospace\"></pre>\n"
      ],
      "text/plain": []
     },
     "metadata": {},
     "output_type": "display_data"
    },
    {
     "name": "stderr",
     "output_type": "stream",
     "text": [
      "2023-01-31 09:08:02,183 servicefoundry INFO     You can find the application on the dashboard:- 'https://app.truefoundry.com/applications/cldivuvwea4f41hpvffo09l9l?tab=deployments'\n"
     ]
    }
   ],
   "source": [
    "import logging\n",
    "from getpass import getpass\n",
    "\n",
    "from servicefoundry import Build, Job, PythonBuild\n",
    "\n",
    "logging.basicConfig(level=logging.INFO, format='%(asctime)s %(name)-12s %(levelname)-8s %(message)s', force=True)\n",
    "\n",
    "job = Job(\n",
    "    name=\"train\",\n",
    "    image=Build(\n",
    "        build_spec=PythonBuild(\n",
    "            command=\"python train.py\",\n",
    "            requirements_path=\"requirements.txt\",\n",
    "        )\n",
    "    ),\n",
    "    env={\n",
    "        \"TFY_API_KEY\": TFY_API_KEY\n",
    "    }\n",
    ")\n",
    "deployment = job.deploy(workspace_fqn=WORKSPACE)"
   ]
  },
  {
   "cell_type": "code",
   "execution_count": null,
   "metadata": {
    "colab": {
     "base_uri": "https://localhost:8080/"
    },
    "id": "IfPPWZgXS_Z-",
    "outputId": "9c586d9e-137e-4743-9a4a-8f855b8cd043"
   },
   "outputs": [
    {
     "name": "stdout",
     "output_type": "stream",
     "text": [
      "Enter Job Deployment FQN:-tfy-cluster-euwe1:kotak-demo:train:11\n"
     ]
    },
    {
     "name": "stderr",
     "output_type": "stream",
     "text": [
      "2023-01-31 09:09:29,899 servicefoundry WARNING  Warning: This feature trigger_job is in experimental stage. As such there is no guarantees this will be maintained with backward compatibility or even available moving forward\n",
      "2023-01-31 09:09:32,295 servicefoundry WARNING  Warning: This feature trigger_job is in experimental stage. As such there is no guarantees this will be maintained with backward compatibility or even available moving forward\n",
      "2023-01-31 09:09:34,646 servicefoundry WARNING  Warning: This feature trigger_job is in experimental stage. As such there is no guarantees this will be maintained with backward compatibility or even available moving forward\n"
     ]
    }
   ],
   "source": [
    "from servicefoundry.internal.experimental import trigger_job\n",
    "\n",
    "JOB_DEPLOYMENT_FQN=input(\"Enter Job Deployment FQN:-\")\n",
    "\n",
    "for kernel in [\"linear\", \"rbf\", \"poly\"]:\n",
    "    trigger_job(deployment_fqn=JOB_DEPLOYMENT_FQN, command=f\"python train.py --kernel {kernel}\")"
   ]
  },
  {
   "cell_type": "markdown",
   "metadata": {
    "id": "YDgTLGNHta97"
   },
   "source": [
    "# ☁ Deploy ML Model using a Service (FastAPI)\n",
    "In this section we will deploy the model trained and logged by our training job as an API"
   ]
  },
  {
   "cell_type": "code",
   "execution_count": null,
   "metadata": {
    "colab": {
     "base_uri": "https://localhost:8080/"
    },
    "id": "YGYMQMYWuOEx",
    "outputId": "584c05eb-b824-4ad4-b974-24a727e4a7ae"
   },
   "outputs": [
    {
     "name": "stdout",
     "output_type": "stream",
     "text": [
      "/content/demo/regression\n"
     ]
    }
   ],
   "source": [
    "!mkdir -p /content/demo/regression/\n",
    "%cd /content/demo/regression/"
   ]
  },
  {
   "cell_type": "code",
   "execution_count": null,
   "metadata": {
    "colab": {
     "base_uri": "https://localhost:8080/"
    },
    "id": "9fa0hvjtuUE2",
    "outputId": "c26919e3-12db-482f-897f-7b6bcbb3fefe"
   },
   "outputs": [
    {
     "name": "stdout",
     "output_type": "stream",
     "text": [
      "Overwriting main.py\n"
     ]
    }
   ],
   "source": [
    "%%writefile main.py\n",
    "import os\n",
    "from typing import List\n",
    "import uuid\n",
    "from datetime import datetime\n",
    "\n",
    "import mlfoundry as mlf\n",
    "import pandas as pd\n",
    "from pydantic import BaseModel\n",
    "from fastapi import FastAPI\n",
    "\n",
    "app = FastAPI(docs_url=\"/\")\n",
    "\n",
    "\n",
    "MODEL_VERSION_FQN = os.environ[\"MODEL_VERSION_FQN\"]\n",
    "client = mlf.get_client()\n",
    "model = client.get_model(MODEL_VERSION_FQN).load()\n",
    "\n",
    "\n",
    "class Instance(BaseModel):\n",
    "    age: float\n",
    "    sex: float\n",
    "    bmi: float\n",
    "    bp: float\n",
    "    s1: float\n",
    "    s2: float\n",
    "    s3: float\n",
    "    s4: float\n",
    "    s5: float\n",
    "    s6: float\n",
    "\n",
    "\n",
    "class Request(BaseModel):\n",
    "    instances: List[Instance]\n",
    "\n",
    "class Response(BaseModel):\n",
    "    predictions: List[float]\n",
    "\n",
    "\n",
    "@app.post(\"/predict\", response_model=Response)\n",
    "def predict(request: Request):\n",
    "    features = request.dict()[\"instances\"]\n",
    "\n",
    "    features_df = pd.DataFrame(features)\n",
    "    predictions = [float(p) for p in model.predict(features_df)]\n",
    "    client.log_predictions(\n",
    "        model_version_fqn=MODEL_VERSION_FQN,\n",
    "        predictions=[\n",
    "            mlf.Prediction(\n",
    "                data_id=uuid.uuid4().hex,\n",
    "                features=feature,\n",
    "                prediction_data={\n",
    "                    \"value\": prediction,\n",
    "                },\n",
    "                occurred_at=datetime.utcnow(),\n",
    "                raw_data={\"data\": \"any_data\"},\n",
    "            )\n",
    "            for feature, prediction in zip(features, predictions)\n",
    "        ],\n",
    "    )\n",
    "    return Response(predictions=predictions)"
   ]
  },
  {
   "cell_type": "code",
   "execution_count": null,
   "metadata": {
    "colab": {
     "base_uri": "https://localhost:8080/"
    },
    "id": "WQuaARNIyAF3",
    "outputId": "d21c2077-995e-4668-8ad7-5df5500a5100"
   },
   "outputs": [
    {
     "name": "stdout",
     "output_type": "stream",
     "text": [
      "Overwriting predict_requirements.txt\n"
     ]
    }
   ],
   "source": [
    "%%writefile predict_requirements.txt\n",
    "pandas==1.3.5\n",
    "scikit-learn==1.2.1\n",
    "mlfoundry==0.6.1\n",
    "fastapi==0.81.0\n",
    "uvicorn==0.18.3"
   ]
  },
  {
   "cell_type": "code",
   "execution_count": null,
   "metadata": {
    "colab": {
     "base_uri": "https://localhost:8080/"
    },
    "id": "Nvcm1rEiPkri",
    "outputId": "f1a0887a-ddb1-4f5c-c44a-9b7c5af219dc"
   },
   "outputs": [
    {
     "name": "stdout",
     "output_type": "stream",
     "text": [
      "Please enter the model version fqn:-model:truefoundry/debajyoti-tfy/diabetes-regression/diabetes-regression:8\n"
     ]
    }
   ],
   "source": [
    "MODEL_VERSION_FQN = input(\"Please enter the model version fqn:-\")"
   ]
  },
  {
   "cell_type": "code",
   "execution_count": null,
   "metadata": {
    "colab": {
     "base_uri": "https://localhost:8080/",
     "height": 1000,
     "referenced_widgets": [
      "eb070a842afe4f39b86c82efb3c435f5",
      "f1610cffe2af4c5b8970148ea8839475"
     ]
    },
    "id": "bjNTxbRuyDQu",
    "outputId": "cb5fad0a-eb6e-4bfe-f672-f5ac2e243fef"
   },
   "outputs": [
    {
     "name": "stderr",
     "output_type": "stream",
     "text": [
      "2023-01-31 09:21:37,148 servicefoundry INFO     Uploading code for service 'deploy'\n",
      "2023-01-31 09:21:37,151 servicefoundry INFO     Archiving contents of dir: '/content/demo/regression'\n",
      "2023-01-31 09:21:37,154 servicefoundry INFO     Neither `.tfyignore` file found in /content/demo/regression nor a valid git repository found. We recommend you to create .tfyignore file and add file patterns to ignore\n",
      "Packaging source code: 1it [00:00, 353.59it/s]\n",
      "2023-01-31 09:21:37,168 servicefoundry INFO     Code archive size: '1.71 KiB'\n",
      "Uploading package: 100%|██████████| 1.71k/1.71k [00:00<00:00, 3.45kB/s]\n",
      "2023-01-31 09:21:40,834 servicefoundry INFO     🚀 Deployment started for application 'deploy'. Deployment FQN is 'tfy-cluster-euwe1:kotak-demo:deploy:11'.\n",
      "2023-01-31 09:21:41,776 servicefoundry INFO     You can track the progress below or on the dashboard:- 'https://app.truefoundry.com/applications/cldixiuxna9w91gpuf6k2djoe?tab=deployments'\n",
      "You can press Ctrl + C to exit the tailing of build logs and deployment will continue on the server\n"
     ]
    },
    {
     "data": {
      "application/vnd.jupyter.widget-view+json": {
       "model_id": "eb070a842afe4f39b86c82efb3c435f5",
       "version_major": 2,
       "version_minor": 0
      },
      "text/plain": [
       "Output()"
      ]
     },
     "metadata": {},
     "output_type": "display_data"
    },
    {
     "name": "stderr",
     "output_type": "stream",
     "text": [
      "2023-01-31 09:21:43,043 servicefoundry INFO     State: 'INITIALIZED'\n",
      "2023-01-31 09:21:53,706 servicefoundry INFO     State: 'BUILDING'\n",
      "2023-01-31 09:21:54,995 servicefoundry INFO     Tailing build logs for 'deploy'\n"
     ]
    },
    {
     "data": {
      "text/html": [
       "<pre style=\"white-space:pre;overflow-x:auto;line-height:normal;font-family:Menlo,'DejaVu Sans Mono',consolas,'Courier New',monospace\">Waiting for the task to start...\n",
       "</pre>\n"
      ],
      "text/plain": [
       "Waiting for the task to start...\n"
      ]
     },
     "metadata": {},
     "output_type": "display_data"
    },
    {
     "data": {
      "text/html": [
       "<pre style=\"white-space:pre;overflow-x:auto;line-height:normal;font-family:Menlo,'DejaVu Sans Mono',consolas,'Courier New',monospace\">[2023-01-31T09:22:01.369055+00:00] [TFY-CLIENT]<span style=\"color: #008080; text-decoration-color: #008080\">[Start]</span> Downloading the code\n",
       "</pre>\n"
      ],
      "text/plain": [
       "[2023-01-31T09:22:01.369055+00:00] [TFY-CLIENT]\u001b[36m[Start]\u001b[0m Downloading the code\n"
      ]
     },
     "metadata": {},
     "output_type": "display_data"
    },
    {
     "data": {
      "text/html": [
       "<pre style=\"white-space:pre;overflow-x:auto;line-height:normal;font-family:Menlo,'DejaVu Sans Mono',consolas,'Courier New',monospace\">[2023-01-31T09:22:01.567852+00:00] [TFY-CLIENT]<span style=\"color: #008000; text-decoration-color: #008000\">[Done]</span> Code downloaded\n",
       "</pre>\n"
      ],
      "text/plain": [
       "[2023-01-31T09:22:01.567852+00:00] [TFY-CLIENT]\u001b[32m[Done]\u001b[0m Code downloaded\n"
      ]
     },
     "metadata": {},
     "output_type": "display_data"
    },
    {
     "data": {
      "text/html": [
       "<pre style=\"white-space:pre;overflow-x:auto;line-height:normal;font-family:Menlo,'DejaVu Sans Mono',consolas,'Courier New',monospace\">[2023-01-31T09:22:02.369760+00:00] time=\"2023-01-31T09:22:02.369Z\" level=info msg=\"sub-process exited\" argo=true \n",
       "error=\"&lt;nil&gt;\"\n",
       "</pre>\n"
      ],
      "text/plain": [
       "[2023-01-31T09:22:02.369760+00:00] time=\"2023-01-31T09:22:02.369Z\" level=info msg=\"sub-process exited\" argo=true \n",
       "error=\"<nil>\"\n"
      ]
     },
     "metadata": {},
     "output_type": "display_data"
    },
    {
     "data": {
      "text/html": [
       "<pre style=\"white-space:pre;overflow-x:auto;line-height:normal;font-family:Menlo,'DejaVu Sans Mono',consolas,'Courier New',monospace\">[2023-01-31T09:22:20.281333+00:00] [TFY-CLIENT]<span style=\"color: #008080; text-decoration-color: #008080\">[Start]</span> Building and pushing the docker container. Please find the \n",
       "logs below\n",
       "</pre>\n"
      ],
      "text/plain": [
       "[2023-01-31T09:22:20.281333+00:00] [TFY-CLIENT]\u001b[36m[Start]\u001b[0m Building and pushing the docker container. Please find the \n",
       "logs below\n"
      ]
     },
     "metadata": {},
     "output_type": "display_data"
    },
    {
     "data": {
      "text/html": [
       "<pre style=\"white-space:pre;overflow-x:auto;line-height:normal;font-family:Menlo,'DejaVu Sans Mono',consolas,'Courier New',monospace\">[2023-01-31T09:22:20.281343+00:00] [TFY-CLIENT]<span style=\"color: #008080; text-decoration-color: #008080\">[==== Docker logs start ====]</span>\n",
       "</pre>\n"
      ],
      "text/plain": [
       "[2023-01-31T09:22:20.281343+00:00] [TFY-CLIENT]\u001b[36m[==== Docker logs start ====]\u001b[0m\n"
      ]
     },
     "metadata": {},
     "output_type": "display_data"
    },
    {
     "data": {
      "text/html": [
       "<pre style=\"white-space:pre;overflow-x:auto;line-height:normal;font-family:Menlo,'DejaVu Sans Mono',consolas,'Courier New',monospace\">[2023-01-31T09:22:20.293542+00:00] Cannot connect to the Docker daemon at tcp://127.0.0.1:2375. Is the docker \n",
       "daemon running?\n",
       "</pre>\n"
      ],
      "text/plain": [
       "[2023-01-31T09:22:20.293542+00:00] Cannot connect to the Docker daemon at tcp://127.0.0.1:2375. Is the docker \n",
       "daemon running?\n"
      ]
     },
     "metadata": {},
     "output_type": "display_data"
    },
    {
     "data": {
      "text/html": [
       "<pre style=\"white-space:pre;overflow-x:auto;line-height:normal;font-family:Menlo,'DejaVu Sans Mono',consolas,'Courier New',monospace\">[2023-01-31T09:22:23.307045+00:00] CONTAINER ID   IMAGE     COMMAND   CREATED   STATUS    PORTS     NAMES\n",
       "</pre>\n"
      ],
      "text/plain": [
       "[2023-01-31T09:22:23.307045+00:00] CONTAINER ID   IMAGE     COMMAND   CREATED   STATUS    PORTS     NAMES\n"
      ]
     },
     "metadata": {},
     "output_type": "display_data"
    },
    {
     "data": {
      "text/html": [
       "<pre style=\"white-space:pre;overflow-x:auto;line-height:normal;font-family:Menlo,'DejaVu Sans Mono',consolas,'Courier New',monospace\">[2023-01-31T09:22:23.318483+00:00] WARNING! Using --password via the CLI is insecure. Use --password-stdin.\n",
       "</pre>\n"
      ],
      "text/plain": [
       "[2023-01-31T09:22:23.318483+00:00] WARNING! Using --password via the CLI is insecure. Use --password-stdin.\n"
      ]
     },
     "metadata": {},
     "output_type": "display_data"
    },
    {
     "data": {
      "text/html": [
       "<pre style=\"white-space:pre;overflow-x:auto;line-height:normal;font-family:Menlo,'DejaVu Sans Mono',consolas,'Courier New',monospace\">[2023-01-31T09:22:23.384942+00:00] WARNING! Your password will be stored unencrypted in /root/.docker/config.json.\n",
       "</pre>\n"
      ],
      "text/plain": [
       "[2023-01-31T09:22:23.384942+00:00] WARNING! Your password will be stored unencrypted in /root/.docker/config.json.\n"
      ]
     },
     "metadata": {},
     "output_type": "display_data"
    },
    {
     "data": {
      "text/html": [
       "<pre style=\"white-space:pre;overflow-x:auto;line-height:normal;font-family:Menlo,'DejaVu Sans Mono',consolas,'Courier New',monospace\">[2023-01-31T09:22:23.384952+00:00] Configure a credential helper to remove this warning. See\n",
       "</pre>\n"
      ],
      "text/plain": [
       "[2023-01-31T09:22:23.384952+00:00] Configure a credential helper to remove this warning. See\n"
      ]
     },
     "metadata": {},
     "output_type": "display_data"
    },
    {
     "data": {
      "text/html": [
       "<pre style=\"white-space:pre;overflow-x:auto;line-height:normal;font-family:Menlo,'DejaVu Sans Mono',consolas,'Courier New',monospace\">[2023-01-31T09:22:23.384954+00:00] https://docs.docker.com/engine/reference/commandline/login/#credentials-store\n",
       "</pre>\n"
      ],
      "text/plain": [
       "[2023-01-31T09:22:23.384954+00:00] https://docs.docker.com/engine/reference/commandline/login/#credentials-store\n"
      ]
     },
     "metadata": {},
     "output_type": "display_data"
    },
    {
     "data": {
      "text/html": [
       "<pre style=\"white-space:pre;overflow-x:auto;line-height:normal;font-family:Menlo,'DejaVu Sans Mono',consolas,'Courier New',monospace\">[2023-01-31T09:22:23.384955+00:00] \n",
       "</pre>\n"
      ],
      "text/plain": [
       "[2023-01-31T09:22:23.384955+00:00] \n"
      ]
     },
     "metadata": {},
     "output_type": "display_data"
    },
    {
     "data": {
      "text/html": [
       "<pre style=\"white-space:pre;overflow-x:auto;line-height:normal;font-family:Menlo,'DejaVu Sans Mono',consolas,'Courier New',monospace\">[2023-01-31T09:22:23.385204+00:00] Login Succeeded\n",
       "</pre>\n"
      ],
      "text/plain": [
       "[2023-01-31T09:22:23.385204+00:00] Login Succeeded\n"
      ]
     },
     "metadata": {},
     "output_type": "display_data"
    },
    {
     "data": {
      "text/html": [
       "<pre style=\"white-space:pre;overflow-x:auto;line-height:normal;font-family:Menlo,'DejaVu Sans Mono',consolas,'Courier New',monospace\">[2023-01-31T09:22:23.492013+00:00] latest: Pulling from kotak-demo-deploy-2djoe\n",
       "</pre>\n"
      ],
      "text/plain": [
       "[2023-01-31T09:22:23.492013+00:00] latest: Pulling from kotak-demo-deploy-2djoe\n"
      ]
     },
     "metadata": {},
     "output_type": "display_data"
    },
    {
     "data": {
      "text/html": [
       "<pre style=\"white-space:pre;overflow-x:auto;line-height:normal;font-family:Menlo,'DejaVu Sans Mono',consolas,'Courier New',monospace\">[2023-01-31T09:22:23.492028+00:00] bbeef03cda1f: Pulling fs layer\n",
       "</pre>\n"
      ],
      "text/plain": [
       "[2023-01-31T09:22:23.492028+00:00] bbeef03cda1f: Pulling fs layer\n"
      ]
     },
     "metadata": {},
     "output_type": "display_data"
    },
    {
     "data": {
      "text/html": [
       "<pre style=\"white-space:pre;overflow-x:auto;line-height:normal;font-family:Menlo,'DejaVu Sans Mono',consolas,'Courier New',monospace\">[2023-01-31T09:22:23.492035+00:00] f049f75f014e: Pulling fs layer\n",
       "</pre>\n"
      ],
      "text/plain": [
       "[2023-01-31T09:22:23.492035+00:00] f049f75f014e: Pulling fs layer\n"
      ]
     },
     "metadata": {},
     "output_type": "display_data"
    },
    {
     "data": {
      "text/html": [
       "<pre style=\"white-space:pre;overflow-x:auto;line-height:normal;font-family:Menlo,'DejaVu Sans Mono',consolas,'Courier New',monospace\">[2023-01-31T09:22:23.492037+00:00] 56261d0e6b05: Pulling fs layer\n",
       "</pre>\n"
      ],
      "text/plain": [
       "[2023-01-31T09:22:23.492037+00:00] 56261d0e6b05: Pulling fs layer\n"
      ]
     },
     "metadata": {},
     "output_type": "display_data"
    },
    {
     "data": {
      "text/html": [
       "<pre style=\"white-space:pre;overflow-x:auto;line-height:normal;font-family:Menlo,'DejaVu Sans Mono',consolas,'Courier New',monospace\">[2023-01-31T09:22:23.492039+00:00] 9bd150679dbd: Pulling fs layer\n",
       "</pre>\n"
      ],
      "text/plain": [
       "[2023-01-31T09:22:23.492039+00:00] 9bd150679dbd: Pulling fs layer\n"
      ]
     },
     "metadata": {},
     "output_type": "display_data"
    },
    {
     "data": {
      "text/html": [
       "<pre style=\"white-space:pre;overflow-x:auto;line-height:normal;font-family:Menlo,'DejaVu Sans Mono',consolas,'Courier New',monospace\">[2023-01-31T09:22:23.492041+00:00] 5b282ee9da04: Pulling fs layer\n",
       "</pre>\n"
      ],
      "text/plain": [
       "[2023-01-31T09:22:23.492041+00:00] 5b282ee9da04: Pulling fs layer\n"
      ]
     },
     "metadata": {},
     "output_type": "display_data"
    },
    {
     "data": {
      "text/html": [
       "<pre style=\"white-space:pre;overflow-x:auto;line-height:normal;font-family:Menlo,'DejaVu Sans Mono',consolas,'Courier New',monospace\">[2023-01-31T09:22:23.492043+00:00] 03f027d5e312: Pulling fs layer\n",
       "</pre>\n"
      ],
      "text/plain": [
       "[2023-01-31T09:22:23.492043+00:00] 03f027d5e312: Pulling fs layer\n"
      ]
     },
     "metadata": {},
     "output_type": "display_data"
    },
    {
     "data": {
      "text/html": [
       "<pre style=\"white-space:pre;overflow-x:auto;line-height:normal;font-family:Menlo,'DejaVu Sans Mono',consolas,'Courier New',monospace\">[2023-01-31T09:22:23.492044+00:00] 79903339cfdb: Pulling fs layer\n",
       "</pre>\n"
      ],
      "text/plain": [
       "[2023-01-31T09:22:23.492044+00:00] 79903339cfdb: Pulling fs layer\n"
      ]
     },
     "metadata": {},
     "output_type": "display_data"
    },
    {
     "data": {
      "text/html": [
       "<pre style=\"white-space:pre;overflow-x:auto;line-height:normal;font-family:Menlo,'DejaVu Sans Mono',consolas,'Courier New',monospace\">[2023-01-31T09:22:23.492046+00:00] efbad12427dd: Pulling fs layer\n",
       "</pre>\n"
      ],
      "text/plain": [
       "[2023-01-31T09:22:23.492046+00:00] efbad12427dd: Pulling fs layer\n"
      ]
     },
     "metadata": {},
     "output_type": "display_data"
    },
    {
     "data": {
      "text/html": [
       "<pre style=\"white-space:pre;overflow-x:auto;line-height:normal;font-family:Menlo,'DejaVu Sans Mono',consolas,'Courier New',monospace\">[2023-01-31T09:22:23.492050+00:00] 862894708010: Pulling fs layer\n",
       "</pre>\n"
      ],
      "text/plain": [
       "[2023-01-31T09:22:23.492050+00:00] 862894708010: Pulling fs layer\n"
      ]
     },
     "metadata": {},
     "output_type": "display_data"
    },
    {
     "data": {
      "text/html": [
       "<pre style=\"white-space:pre;overflow-x:auto;line-height:normal;font-family:Menlo,'DejaVu Sans Mono',consolas,'Courier New',monospace\">[2023-01-31T09:22:23.492052+00:00] 8deba3658975: Pulling fs layer\n",
       "</pre>\n"
      ],
      "text/plain": [
       "[2023-01-31T09:22:23.492052+00:00] 8deba3658975: Pulling fs layer\n"
      ]
     },
     "metadata": {},
     "output_type": "display_data"
    },
    {
     "data": {
      "text/html": [
       "<pre style=\"white-space:pre;overflow-x:auto;line-height:normal;font-family:Menlo,'DejaVu Sans Mono',consolas,'Courier New',monospace\">[2023-01-31T09:22:23.492054+00:00] 826e91188989: Pulling fs layer\n",
       "</pre>\n"
      ],
      "text/plain": [
       "[2023-01-31T09:22:23.492054+00:00] 826e91188989: Pulling fs layer\n"
      ]
     },
     "metadata": {},
     "output_type": "display_data"
    },
    {
     "data": {
      "text/html": [
       "<pre style=\"white-space:pre;overflow-x:auto;line-height:normal;font-family:Menlo,'DejaVu Sans Mono',consolas,'Courier New',monospace\">[2023-01-31T09:22:23.492069+00:00] 5b282ee9da04: Waiting\n",
       "</pre>\n"
      ],
      "text/plain": [
       "[2023-01-31T09:22:23.492069+00:00] 5b282ee9da04: Waiting\n"
      ]
     },
     "metadata": {},
     "output_type": "display_data"
    },
    {
     "data": {
      "text/html": [
       "<pre style=\"white-space:pre;overflow-x:auto;line-height:normal;font-family:Menlo,'DejaVu Sans Mono',consolas,'Courier New',monospace\">[2023-01-31T09:22:23.492077+00:00] 03f027d5e312: Waiting\n",
       "</pre>\n"
      ],
      "text/plain": [
       "[2023-01-31T09:22:23.492077+00:00] 03f027d5e312: Waiting\n"
      ]
     },
     "metadata": {},
     "output_type": "display_data"
    },
    {
     "data": {
      "text/html": [
       "<pre style=\"white-space:pre;overflow-x:auto;line-height:normal;font-family:Menlo,'DejaVu Sans Mono',consolas,'Courier New',monospace\">[2023-01-31T09:22:23.492079+00:00] 6a74e5b78151: Pulling fs layer\n",
       "</pre>\n"
      ],
      "text/plain": [
       "[2023-01-31T09:22:23.492079+00:00] 6a74e5b78151: Pulling fs layer\n"
      ]
     },
     "metadata": {},
     "output_type": "display_data"
    },
    {
     "data": {
      "text/html": [
       "<pre style=\"white-space:pre;overflow-x:auto;line-height:normal;font-family:Menlo,'DejaVu Sans Mono',consolas,'Courier New',monospace\">[2023-01-31T09:22:23.492080+00:00] 826e91188989: Waiting\n",
       "</pre>\n"
      ],
      "text/plain": [
       "[2023-01-31T09:22:23.492080+00:00] 826e91188989: Waiting\n"
      ]
     },
     "metadata": {},
     "output_type": "display_data"
    },
    {
     "data": {
      "text/html": [
       "<pre style=\"white-space:pre;overflow-x:auto;line-height:normal;font-family:Menlo,'DejaVu Sans Mono',consolas,'Courier New',monospace\">[2023-01-31T09:22:23.492083+00:00] 6a74e5b78151: Waiting\n",
       "</pre>\n"
      ],
      "text/plain": [
       "[2023-01-31T09:22:23.492083+00:00] 6a74e5b78151: Waiting\n"
      ]
     },
     "metadata": {},
     "output_type": "display_data"
    },
    {
     "data": {
      "text/html": [
       "<pre style=\"white-space:pre;overflow-x:auto;line-height:normal;font-family:Menlo,'DejaVu Sans Mono',consolas,'Courier New',monospace\">[2023-01-31T09:22:23.492101+00:00] 9bd150679dbd: Waiting\n",
       "</pre>\n"
      ],
      "text/plain": [
       "[2023-01-31T09:22:23.492101+00:00] 9bd150679dbd: Waiting\n"
      ]
     },
     "metadata": {},
     "output_type": "display_data"
    },
    {
     "data": {
      "text/html": [
       "<pre style=\"white-space:pre;overflow-x:auto;line-height:normal;font-family:Menlo,'DejaVu Sans Mono',consolas,'Courier New',monospace\">[2023-01-31T09:22:23.492219+00:00] 862894708010: Waiting\n",
       "</pre>\n"
      ],
      "text/plain": [
       "[2023-01-31T09:22:23.492219+00:00] 862894708010: Waiting\n"
      ]
     },
     "metadata": {},
     "output_type": "display_data"
    },
    {
     "data": {
      "text/html": [
       "<pre style=\"white-space:pre;overflow-x:auto;line-height:normal;font-family:Menlo,'DejaVu Sans Mono',consolas,'Courier New',monospace\">[2023-01-31T09:22:23.492226+00:00] 79903339cfdb: Waiting\n",
       "</pre>\n"
      ],
      "text/plain": [
       "[2023-01-31T09:22:23.492226+00:00] 79903339cfdb: Waiting\n"
      ]
     },
     "metadata": {},
     "output_type": "display_data"
    },
    {
     "data": {
      "text/html": [
       "<pre style=\"white-space:pre;overflow-x:auto;line-height:normal;font-family:Menlo,'DejaVu Sans Mono',consolas,'Courier New',monospace\">[2023-01-31T09:22:23.492301+00:00] efbad12427dd: Waiting\n",
       "</pre>\n"
      ],
      "text/plain": [
       "[2023-01-31T09:22:23.492301+00:00] efbad12427dd: Waiting\n"
      ]
     },
     "metadata": {},
     "output_type": "display_data"
    },
    {
     "data": {
      "text/html": [
       "<pre style=\"white-space:pre;overflow-x:auto;line-height:normal;font-family:Menlo,'DejaVu Sans Mono',consolas,'Courier New',monospace\">[2023-01-31T09:22:23.695656+00:00] f049f75f014e: Verifying Checksum\n",
       "</pre>\n"
      ],
      "text/plain": [
       "[2023-01-31T09:22:23.695656+00:00] f049f75f014e: Verifying Checksum\n"
      ]
     },
     "metadata": {},
     "output_type": "display_data"
    },
    {
     "data": {
      "text/html": [
       "<pre style=\"white-space:pre;overflow-x:auto;line-height:normal;font-family:Menlo,'DejaVu Sans Mono',consolas,'Courier New',monospace\">[2023-01-31T09:22:23.695665+00:00] f049f75f014e: Download complete\n",
       "</pre>\n"
      ],
      "text/plain": [
       "[2023-01-31T09:22:23.695665+00:00] f049f75f014e: Download complete\n"
      ]
     },
     "metadata": {},
     "output_type": "display_data"
    },
    {
     "data": {
      "text/html": [
       "<pre style=\"white-space:pre;overflow-x:auto;line-height:normal;font-family:Menlo,'DejaVu Sans Mono',consolas,'Courier New',monospace\">[2023-01-31T09:22:24.045784+00:00] 56261d0e6b05: Verifying Checksum\n",
       "</pre>\n"
      ],
      "text/plain": [
       "[2023-01-31T09:22:24.045784+00:00] 56261d0e6b05: Verifying Checksum\n"
      ]
     },
     "metadata": {},
     "output_type": "display_data"
    },
    {
     "data": {
      "text/html": [
       "<pre style=\"white-space:pre;overflow-x:auto;line-height:normal;font-family:Menlo,'DejaVu Sans Mono',consolas,'Courier New',monospace\">[2023-01-31T09:22:24.045797+00:00] 56261d0e6b05: Download complete\n",
       "</pre>\n"
      ],
      "text/plain": [
       "[2023-01-31T09:22:24.045797+00:00] 56261d0e6b05: Download complete\n"
      ]
     },
     "metadata": {},
     "output_type": "display_data"
    },
    {
     "data": {
      "text/html": [
       "<pre style=\"white-space:pre;overflow-x:auto;line-height:normal;font-family:Menlo,'DejaVu Sans Mono',consolas,'Courier New',monospace\">[2023-01-31T09:22:25.530491+00:00] bbeef03cda1f: Verifying Checksum\n",
       "</pre>\n"
      ],
      "text/plain": [
       "[2023-01-31T09:22:25.530491+00:00] bbeef03cda1f: Verifying Checksum\n"
      ]
     },
     "metadata": {},
     "output_type": "display_data"
    },
    {
     "data": {
      "text/html": [
       "<pre style=\"white-space:pre;overflow-x:auto;line-height:normal;font-family:Menlo,'DejaVu Sans Mono',consolas,'Courier New',monospace\">[2023-01-31T09:22:25.530505+00:00] bbeef03cda1f: Download complete\n",
       "</pre>\n"
      ],
      "text/plain": [
       "[2023-01-31T09:22:25.530505+00:00] bbeef03cda1f: Download complete\n"
      ]
     },
     "metadata": {},
     "output_type": "display_data"
    },
    {
     "data": {
      "text/html": [
       "<pre style=\"white-space:pre;overflow-x:auto;line-height:normal;font-family:Menlo,'DejaVu Sans Mono',consolas,'Courier New',monospace\">[2023-01-31T09:22:25.594935+00:00] 9bd150679dbd: Verifying Checksum\n",
       "</pre>\n"
      ],
      "text/plain": [
       "[2023-01-31T09:22:25.594935+00:00] 9bd150679dbd: Verifying Checksum\n"
      ]
     },
     "metadata": {},
     "output_type": "display_data"
    },
    {
     "data": {
      "text/html": [
       "<pre style=\"white-space:pre;overflow-x:auto;line-height:normal;font-family:Menlo,'DejaVu Sans Mono',consolas,'Courier New',monospace\">[2023-01-31T09:22:25.594956+00:00] 9bd150679dbd: Download complete\n",
       "</pre>\n"
      ],
      "text/plain": [
       "[2023-01-31T09:22:25.594956+00:00] 9bd150679dbd: Download complete\n"
      ]
     },
     "metadata": {},
     "output_type": "display_data"
    },
    {
     "data": {
      "text/html": [
       "<pre style=\"white-space:pre;overflow-x:auto;line-height:normal;font-family:Menlo,'DejaVu Sans Mono',consolas,'Courier New',monospace\">[2023-01-31T09:22:25.721801+00:00] 03f027d5e312: Verifying Checksum\n",
       "</pre>\n"
      ],
      "text/plain": [
       "[2023-01-31T09:22:25.721801+00:00] 03f027d5e312: Verifying Checksum\n"
      ]
     },
     "metadata": {},
     "output_type": "display_data"
    },
    {
     "data": {
      "text/html": [
       "<pre style=\"white-space:pre;overflow-x:auto;line-height:normal;font-family:Menlo,'DejaVu Sans Mono',consolas,'Courier New',monospace\">[2023-01-31T09:22:25.721813+00:00] 03f027d5e312: Download complete\n",
       "</pre>\n"
      ],
      "text/plain": [
       "[2023-01-31T09:22:25.721813+00:00] 03f027d5e312: Download complete\n"
      ]
     },
     "metadata": {},
     "output_type": "display_data"
    },
    {
     "data": {
      "text/html": [
       "<pre style=\"white-space:pre;overflow-x:auto;line-height:normal;font-family:Menlo,'DejaVu Sans Mono',consolas,'Courier New',monospace\">[2023-01-31T09:22:25.819803+00:00] efbad12427dd: Verifying Checksum\n",
       "</pre>\n"
      ],
      "text/plain": [
       "[2023-01-31T09:22:25.819803+00:00] efbad12427dd: Verifying Checksum\n"
      ]
     },
     "metadata": {},
     "output_type": "display_data"
    },
    {
     "data": {
      "text/html": [
       "<pre style=\"white-space:pre;overflow-x:auto;line-height:normal;font-family:Menlo,'DejaVu Sans Mono',consolas,'Courier New',monospace\">[2023-01-31T09:22:25.819814+00:00] efbad12427dd: Download complete\n",
       "</pre>\n"
      ],
      "text/plain": [
       "[2023-01-31T09:22:25.819814+00:00] efbad12427dd: Download complete\n"
      ]
     },
     "metadata": {},
     "output_type": "display_data"
    },
    {
     "data": {
      "text/html": [
       "<pre style=\"white-space:pre;overflow-x:auto;line-height:normal;font-family:Menlo,'DejaVu Sans Mono',consolas,'Courier New',monospace\">[2023-01-31T09:22:26.073928+00:00] 862894708010: Verifying Checksum\n",
       "</pre>\n"
      ],
      "text/plain": [
       "[2023-01-31T09:22:26.073928+00:00] 862894708010: Verifying Checksum\n"
      ]
     },
     "metadata": {},
     "output_type": "display_data"
    },
    {
     "data": {
      "text/html": [
       "<pre style=\"white-space:pre;overflow-x:auto;line-height:normal;font-family:Menlo,'DejaVu Sans Mono',consolas,'Courier New',monospace\">[2023-01-31T09:22:26.073938+00:00] 862894708010: Download complete\n",
       "</pre>\n"
      ],
      "text/plain": [
       "[2023-01-31T09:22:26.073938+00:00] 862894708010: Download complete\n"
      ]
     },
     "metadata": {},
     "output_type": "display_data"
    },
    {
     "data": {
      "text/html": [
       "<pre style=\"white-space:pre;overflow-x:auto;line-height:normal;font-family:Menlo,'DejaVu Sans Mono',consolas,'Courier New',monospace\">[2023-01-31T09:22:26.146380+00:00] 8deba3658975: Verifying Checksum\n",
       "</pre>\n"
      ],
      "text/plain": [
       "[2023-01-31T09:22:26.146380+00:00] 8deba3658975: Verifying Checksum\n"
      ]
     },
     "metadata": {},
     "output_type": "display_data"
    },
    {
     "data": {
      "text/html": [
       "<pre style=\"white-space:pre;overflow-x:auto;line-height:normal;font-family:Menlo,'DejaVu Sans Mono',consolas,'Courier New',monospace\">[2023-01-31T09:22:26.146392+00:00] 8deba3658975: Download complete\n",
       "</pre>\n"
      ],
      "text/plain": [
       "[2023-01-31T09:22:26.146392+00:00] 8deba3658975: Download complete\n"
      ]
     },
     "metadata": {},
     "output_type": "display_data"
    },
    {
     "data": {
      "text/html": [
       "<pre style=\"white-space:pre;overflow-x:auto;line-height:normal;font-family:Menlo,'DejaVu Sans Mono',consolas,'Courier New',monospace\">[2023-01-31T09:22:26.372626+00:00] 79903339cfdb: Verifying Checksum\n",
       "</pre>\n"
      ],
      "text/plain": [
       "[2023-01-31T09:22:26.372626+00:00] 79903339cfdb: Verifying Checksum\n"
      ]
     },
     "metadata": {},
     "output_type": "display_data"
    },
    {
     "data": {
      "text/html": [
       "<pre style=\"white-space:pre;overflow-x:auto;line-height:normal;font-family:Menlo,'DejaVu Sans Mono',consolas,'Courier New',monospace\">[2023-01-31T09:22:26.372637+00:00] 79903339cfdb: Download complete\n",
       "</pre>\n"
      ],
      "text/plain": [
       "[2023-01-31T09:22:26.372637+00:00] 79903339cfdb: Download complete\n"
      ]
     },
     "metadata": {},
     "output_type": "display_data"
    },
    {
     "data": {
      "text/html": [
       "<pre style=\"white-space:pre;overflow-x:auto;line-height:normal;font-family:Menlo,'DejaVu Sans Mono',consolas,'Courier New',monospace\">[2023-01-31T09:22:26.457456+00:00] 6a74e5b78151: Verifying Checksum\n",
       "</pre>\n"
      ],
      "text/plain": [
       "[2023-01-31T09:22:26.457456+00:00] 6a74e5b78151: Verifying Checksum\n"
      ]
     },
     "metadata": {},
     "output_type": "display_data"
    },
    {
     "data": {
      "text/html": [
       "<pre style=\"white-space:pre;overflow-x:auto;line-height:normal;font-family:Menlo,'DejaVu Sans Mono',consolas,'Courier New',monospace\">[2023-01-31T09:22:26.457470+00:00] 6a74e5b78151: Download complete\n",
       "</pre>\n"
      ],
      "text/plain": [
       "[2023-01-31T09:22:26.457470+00:00] 6a74e5b78151: Download complete\n"
      ]
     },
     "metadata": {},
     "output_type": "display_data"
    },
    {
     "data": {
      "text/html": [
       "<pre style=\"white-space:pre;overflow-x:auto;line-height:normal;font-family:Menlo,'DejaVu Sans Mono',consolas,'Courier New',monospace\">[2023-01-31T09:22:26.564122+00:00] bbeef03cda1f: Pull complete\n",
       "</pre>\n"
      ],
      "text/plain": [
       "[2023-01-31T09:22:26.564122+00:00] bbeef03cda1f: Pull complete\n"
      ]
     },
     "metadata": {},
     "output_type": "display_data"
    },
    {
     "data": {
      "text/html": [
       "<pre style=\"white-space:pre;overflow-x:auto;line-height:normal;font-family:Menlo,'DejaVu Sans Mono',consolas,'Courier New',monospace\">[2023-01-31T09:22:26.694979+00:00] f049f75f014e: Pull complete\n",
       "</pre>\n"
      ],
      "text/plain": [
       "[2023-01-31T09:22:26.694979+00:00] f049f75f014e: Pull complete\n"
      ]
     },
     "metadata": {},
     "output_type": "display_data"
    },
    {
     "data": {
      "text/html": [
       "<pre style=\"white-space:pre;overflow-x:auto;line-height:normal;font-family:Menlo,'DejaVu Sans Mono',consolas,'Courier New',monospace\">[2023-01-31T09:22:26.842016+00:00] 56261d0e6b05: Pull complete\n",
       "</pre>\n"
      ],
      "text/plain": [
       "[2023-01-31T09:22:26.842016+00:00] 56261d0e6b05: Pull complete\n"
      ]
     },
     "metadata": {},
     "output_type": "display_data"
    },
    {
     "data": {
      "text/html": [
       "<pre style=\"white-space:pre;overflow-x:auto;line-height:normal;font-family:Menlo,'DejaVu Sans Mono',consolas,'Courier New',monospace\">[2023-01-31T09:22:27.982241+00:00] 9bd150679dbd: Pull complete\n",
       "</pre>\n"
      ],
      "text/plain": [
       "[2023-01-31T09:22:27.982241+00:00] 9bd150679dbd: Pull complete\n"
      ]
     },
     "metadata": {},
     "output_type": "display_data"
    },
    {
     "data": {
      "text/html": [
       "<pre style=\"white-space:pre;overflow-x:auto;line-height:normal;font-family:Menlo,'DejaVu Sans Mono',consolas,'Courier New',monospace\">[2023-01-31T09:22:30.248069+00:00] 5b282ee9da04: Verifying Checksum\n",
       "</pre>\n"
      ],
      "text/plain": [
       "[2023-01-31T09:22:30.248069+00:00] 5b282ee9da04: Verifying Checksum\n"
      ]
     },
     "metadata": {},
     "output_type": "display_data"
    },
    {
     "data": {
      "text/html": [
       "<pre style=\"white-space:pre;overflow-x:auto;line-height:normal;font-family:Menlo,'DejaVu Sans Mono',consolas,'Courier New',monospace\">[2023-01-31T09:22:30.248091+00:00] 5b282ee9da04: Download complete\n",
       "</pre>\n"
      ],
      "text/plain": [
       "[2023-01-31T09:22:30.248091+00:00] 5b282ee9da04: Download complete\n"
      ]
     },
     "metadata": {},
     "output_type": "display_data"
    },
    {
     "data": {
      "text/html": [
       "<pre style=\"white-space:pre;overflow-x:auto;line-height:normal;font-family:Menlo,'DejaVu Sans Mono',consolas,'Courier New',monospace\">[2023-01-31T09:22:31.954303+00:00] 826e91188989: Verifying Checksum\n",
       "</pre>\n"
      ],
      "text/plain": [
       "[2023-01-31T09:22:31.954303+00:00] 826e91188989: Verifying Checksum\n"
      ]
     },
     "metadata": {},
     "output_type": "display_data"
    },
    {
     "data": {
      "text/html": [
       "<pre style=\"white-space:pre;overflow-x:auto;line-height:normal;font-family:Menlo,'DejaVu Sans Mono',consolas,'Courier New',monospace\">[2023-01-31T09:22:31.954321+00:00] 826e91188989: Download complete\n",
       "</pre>\n"
      ],
      "text/plain": [
       "[2023-01-31T09:22:31.954321+00:00] 826e91188989: Download complete\n"
      ]
     },
     "metadata": {},
     "output_type": "display_data"
    },
    {
     "data": {
      "text/html": [
       "<pre style=\"white-space:pre;overflow-x:auto;line-height:normal;font-family:Menlo,'DejaVu Sans Mono',consolas,'Courier New',monospace\">[2023-01-31T09:22:33.508706+00:00] 5b282ee9da04: Pull complete\n",
       "</pre>\n"
      ],
      "text/plain": [
       "[2023-01-31T09:22:33.508706+00:00] 5b282ee9da04: Pull complete\n"
      ]
     },
     "metadata": {},
     "output_type": "display_data"
    },
    {
     "data": {
      "text/html": [
       "<pre style=\"white-space:pre;overflow-x:auto;line-height:normal;font-family:Menlo,'DejaVu Sans Mono',consolas,'Courier New',monospace\">[2023-01-31T09:22:33.666533+00:00] 03f027d5e312: Pull complete\n",
       "</pre>\n"
      ],
      "text/plain": [
       "[2023-01-31T09:22:33.666533+00:00] 03f027d5e312: Pull complete\n"
      ]
     },
     "metadata": {},
     "output_type": "display_data"
    },
    {
     "data": {
      "text/html": [
       "<pre style=\"white-space:pre;overflow-x:auto;line-height:normal;font-family:Menlo,'DejaVu Sans Mono',consolas,'Courier New',monospace\">[2023-01-31T09:22:34.021691+00:00] 79903339cfdb: Pull complete\n",
       "</pre>\n"
      ],
      "text/plain": [
       "[2023-01-31T09:22:34.021691+00:00] 79903339cfdb: Pull complete\n"
      ]
     },
     "metadata": {},
     "output_type": "display_data"
    },
    {
     "data": {
      "text/html": [
       "<pre style=\"white-space:pre;overflow-x:auto;line-height:normal;font-family:Menlo,'DejaVu Sans Mono',consolas,'Courier New',monospace\">[2023-01-31T09:22:34.048777+00:00] efbad12427dd: Pull complete\n",
       "</pre>\n"
      ],
      "text/plain": [
       "[2023-01-31T09:22:34.048777+00:00] efbad12427dd: Pull complete\n"
      ]
     },
     "metadata": {},
     "output_type": "display_data"
    },
    {
     "data": {
      "text/html": [
       "<pre style=\"white-space:pre;overflow-x:auto;line-height:normal;font-family:Menlo,'DejaVu Sans Mono',consolas,'Courier New',monospace\">[2023-01-31T09:22:34.176519+00:00] 862894708010: Pull complete\n",
       "</pre>\n"
      ],
      "text/plain": [
       "[2023-01-31T09:22:34.176519+00:00] 862894708010: Pull complete\n"
      ]
     },
     "metadata": {},
     "output_type": "display_data"
    },
    {
     "data": {
      "text/html": [
       "<pre style=\"white-space:pre;overflow-x:auto;line-height:normal;font-family:Menlo,'DejaVu Sans Mono',consolas,'Courier New',monospace\">[2023-01-31T09:22:34.203384+00:00] 8deba3658975: Pull complete\n",
       "</pre>\n"
      ],
      "text/plain": [
       "[2023-01-31T09:22:34.203384+00:00] 8deba3658975: Pull complete\n"
      ]
     },
     "metadata": {},
     "output_type": "display_data"
    },
    {
     "data": {
      "text/html": [
       "<pre style=\"white-space:pre;overflow-x:auto;line-height:normal;font-family:Menlo,'DejaVu Sans Mono',consolas,'Courier New',monospace\">[2023-01-31T09:22:38.240258+00:00] 826e91188989: Pull complete\n",
       "</pre>\n"
      ],
      "text/plain": [
       "[2023-01-31T09:22:38.240258+00:00] 826e91188989: Pull complete\n"
      ]
     },
     "metadata": {},
     "output_type": "display_data"
    },
    {
     "data": {
      "text/html": [
       "<pre style=\"white-space:pre;overflow-x:auto;line-height:normal;font-family:Menlo,'DejaVu Sans Mono',consolas,'Courier New',monospace\">[2023-01-31T09:22:38.269277+00:00] 6a74e5b78151: Pull complete\n",
       "</pre>\n"
      ],
      "text/plain": [
       "[2023-01-31T09:22:38.269277+00:00] 6a74e5b78151: Pull complete\n"
      ]
     },
     "metadata": {},
     "output_type": "display_data"
    },
    {
     "data": {
      "text/html": [
       "<pre style=\"white-space:pre;overflow-x:auto;line-height:normal;font-family:Menlo,'DejaVu Sans Mono',consolas,'Courier New',monospace\">[2023-01-31T09:22:38.274952+00:00] Digest: sha256:9b3e6b50ada0fdbead97ddcd0f1d5ced94aa69c4748c030a5338492def65dd50\n",
       "</pre>\n"
      ],
      "text/plain": [
       "[2023-01-31T09:22:38.274952+00:00] Digest: sha256:9b3e6b50ada0fdbead97ddcd0f1d5ced94aa69c4748c030a5338492def65dd50\n"
      ]
     },
     "metadata": {},
     "output_type": "display_data"
    },
    {
     "data": {
      "text/html": [
       "<pre style=\"white-space:pre;overflow-x:auto;line-height:normal;font-family:Menlo,'DejaVu Sans Mono',consolas,'Courier New',monospace\">[2023-01-31T09:22:38.278038+00:00] Status: Downloaded newer image for \n",
       "416964291864.dkr.ecr.eu-west-1.amazonaws.com/kotak-demo-deploy-2djoe:latest\n",
       "</pre>\n"
      ],
      "text/plain": [
       "[2023-01-31T09:22:38.278038+00:00] Status: Downloaded newer image for \n",
       "416964291864.dkr.ecr.eu-west-1.amazonaws.com/kotak-demo-deploy-2djoe:latest\n"
      ]
     },
     "metadata": {},
     "output_type": "display_data"
    },
    {
     "data": {
      "text/html": [
       "<pre style=\"white-space:pre;overflow-x:auto;line-height:normal;font-family:Menlo,'DejaVu Sans Mono',consolas,'Courier New',monospace\">[2023-01-31T09:22:38.278264+00:00] 416964291864.dkr.ecr.eu-west-1.amazonaws.com/kotak-demo-deploy-2djoe:latest\n",
       "</pre>\n"
      ],
      "text/plain": [
       "[2023-01-31T09:22:38.278264+00:00] 416964291864.dkr.ecr.eu-west-1.amazonaws.com/kotak-demo-deploy-2djoe:latest\n"
      ]
     },
     "metadata": {},
     "output_type": "display_data"
    },
    {
     "data": {
      "text/html": [
       "<pre style=\"white-space:pre;overflow-x:auto;line-height:normal;font-family:Menlo,'DejaVu Sans Mono',consolas,'Courier New',monospace\">[2023-01-31T09:22:40.031821+00:00] [TFY-CLIENT] [01/31/23 09:22:38] INFO     Dockerfile content:-\n",
       "</pre>\n"
      ],
      "text/plain": [
       "[2023-01-31T09:22:40.031821+00:00] [TFY-CLIENT] [01/31/23 09:22:38] INFO     Dockerfile content:-\n"
      ]
     },
     "metadata": {},
     "output_type": "display_data"
    },
    {
     "data": {
      "text/html": [
       "<pre style=\"white-space:pre;overflow-x:auto;line-height:normal;font-family:Menlo,'DejaVu Sans Mono',consolas,'Courier New',monospace\">[2023-01-31T09:22:40.031844+00:00] [TFY-CLIENT]                     INFO\n",
       "</pre>\n"
      ],
      "text/plain": [
       "[2023-01-31T09:22:40.031844+00:00] [TFY-CLIENT]                     INFO\n"
      ]
     },
     "metadata": {},
     "output_type": "display_data"
    },
    {
     "data": {
      "text/html": [
       "<pre style=\"white-space:pre;overflow-x:auto;line-height:normal;font-family:Menlo,'DejaVu Sans Mono',consolas,'Courier New',monospace\">[2023-01-31T09:22:40.031846+00:00] [TFY-CLIENT]                              FROM python:3.9\n",
       "</pre>\n"
      ],
      "text/plain": [
       "[2023-01-31T09:22:40.031846+00:00] [TFY-CLIENT]                              FROM python:3.9\n"
      ]
     },
     "metadata": {},
     "output_type": "display_data"
    },
    {
     "data": {
      "text/html": [
       "<pre style=\"white-space:pre;overflow-x:auto;line-height:normal;font-family:Menlo,'DejaVu Sans Mono',consolas,'Courier New',monospace\">[2023-01-31T09:22:40.031848+00:00] [TFY-CLIENT]\n",
       "</pre>\n"
      ],
      "text/plain": [
       "[2023-01-31T09:22:40.031848+00:00] [TFY-CLIENT]\n"
      ]
     },
     "metadata": {},
     "output_type": "display_data"
    },
    {
     "data": {
      "text/html": [
       "<pre style=\"white-space:pre;overflow-x:auto;line-height:normal;font-family:Menlo,'DejaVu Sans Mono',consolas,'Courier New',monospace\">[2023-01-31T09:22:40.031849+00:00] [TFY-CLIENT]\n",
       "</pre>\n"
      ],
      "text/plain": [
       "[2023-01-31T09:22:40.031849+00:00] [TFY-CLIENT]\n"
      ]
     },
     "metadata": {},
     "output_type": "display_data"
    },
    {
     "data": {
      "text/html": [
       "<pre style=\"white-space:pre;overflow-x:auto;line-height:normal;font-family:Menlo,'DejaVu Sans Mono',consolas,'Courier New',monospace\">[2023-01-31T09:22:40.031851+00:00] [TFY-CLIENT]                              COPY predict_requirements.txt \n",
       "/tmp/requirements.txt\n",
       "</pre>\n"
      ],
      "text/plain": [
       "[2023-01-31T09:22:40.031851+00:00] [TFY-CLIENT]                              COPY predict_requirements.txt \n",
       "/tmp/requirements.txt\n"
      ]
     },
     "metadata": {},
     "output_type": "display_data"
    },
    {
     "data": {
      "text/html": [
       "<pre style=\"white-space:pre;overflow-x:auto;line-height:normal;font-family:Menlo,'DejaVu Sans Mono',consolas,'Courier New',monospace\">[2023-01-31T09:22:40.031852+00:00] [TFY-CLIENT]\n",
       "</pre>\n"
      ],
      "text/plain": [
       "[2023-01-31T09:22:40.031852+00:00] [TFY-CLIENT]\n"
      ]
     },
     "metadata": {},
     "output_type": "display_data"
    },
    {
     "data": {
      "text/html": [
       "<pre style=\"white-space:pre;overflow-x:auto;line-height:normal;font-family:Menlo,'DejaVu Sans Mono',consolas,'Courier New',monospace\">[2023-01-31T09:22:40.031853+00:00] [TFY-CLIENT]                              RUN pip install -U pip &amp;&amp; pip install\n",
       "</pre>\n"
      ],
      "text/plain": [
       "[2023-01-31T09:22:40.031853+00:00] [TFY-CLIENT]                              RUN pip install -U pip && pip install\n"
      ]
     },
     "metadata": {},
     "output_type": "display_data"
    },
    {
     "data": {
      "text/html": [
       "<pre style=\"white-space:pre;overflow-x:auto;line-height:normal;font-family:Menlo,'DejaVu Sans Mono',consolas,'Courier New',monospace\">[2023-01-31T09:22:40.031855+00:00] [TFY-CLIENT]                              --no-cache-dir -r \n",
       "/tmp/requirements.txt\n",
       "</pre>\n"
      ],
      "text/plain": [
       "[2023-01-31T09:22:40.031855+00:00] [TFY-CLIENT]                              --no-cache-dir -r \n",
       "/tmp/requirements.txt\n"
      ]
     },
     "metadata": {},
     "output_type": "display_data"
    },
    {
     "data": {
      "text/html": [
       "<pre style=\"white-space:pre;overflow-x:auto;line-height:normal;font-family:Menlo,'DejaVu Sans Mono',consolas,'Courier New',monospace\">[2023-01-31T09:22:40.031856+00:00] [TFY-CLIENT]\n",
       "</pre>\n"
      ],
      "text/plain": [
       "[2023-01-31T09:22:40.031856+00:00] [TFY-CLIENT]\n"
      ]
     },
     "metadata": {},
     "output_type": "display_data"
    },
    {
     "data": {
      "text/html": [
       "<pre style=\"white-space:pre;overflow-x:auto;line-height:normal;font-family:Menlo,'DejaVu Sans Mono',consolas,'Courier New',monospace\">[2023-01-31T09:22:40.031857+00:00] [TFY-CLIENT]                              COPY . /app\n",
       "</pre>\n"
      ],
      "text/plain": [
       "[2023-01-31T09:22:40.031857+00:00] [TFY-CLIENT]                              COPY . /app\n"
      ]
     },
     "metadata": {},
     "output_type": "display_data"
    },
    {
     "data": {
      "text/html": [
       "<pre style=\"white-space:pre;overflow-x:auto;line-height:normal;font-family:Menlo,'DejaVu Sans Mono',consolas,'Courier New',monospace\">[2023-01-31T09:22:40.031858+00:00] [TFY-CLIENT]                              WORKDIR /app\n",
       "</pre>\n"
      ],
      "text/plain": [
       "[2023-01-31T09:22:40.031858+00:00] [TFY-CLIENT]                              WORKDIR /app\n"
      ]
     },
     "metadata": {},
     "output_type": "display_data"
    },
    {
     "data": {
      "text/html": [
       "<pre style=\"white-space:pre;overflow-x:auto;line-height:normal;font-family:Menlo,'DejaVu Sans Mono',consolas,'Courier New',monospace\">[2023-01-31T09:22:40.031859+00:00] [TFY-CLIENT]                              ENTRYPOINT uvicorn main:app --port \n",
       "8000 --host\n",
       "</pre>\n"
      ],
      "text/plain": [
       "[2023-01-31T09:22:40.031859+00:00] [TFY-CLIENT]                              ENTRYPOINT uvicorn main:app --port \n",
       "8000 --host\n"
      ]
     },
     "metadata": {},
     "output_type": "display_data"
    },
    {
     "data": {
      "text/html": [
       "<pre style=\"white-space:pre;overflow-x:auto;line-height:normal;font-family:Menlo,'DejaVu Sans Mono',consolas,'Courier New',monospace\">[2023-01-31T09:22:40.031863+00:00] [TFY-CLIENT]\n",
       "</pre>\n"
      ],
      "text/plain": [
       "[2023-01-31T09:22:40.031863+00:00] [TFY-CLIENT]\n"
      ]
     },
     "metadata": {},
     "output_type": "display_data"
    },
    {
     "data": {
      "text/html": [
       "<pre style=\"white-space:pre;overflow-x:auto;line-height:normal;font-family:Menlo,'DejaVu Sans Mono',consolas,'Courier New',monospace\">[2023-01-31T09:22:40.031861+00:00] [TFY-CLIENT]                              0.0.0.0\n",
       "</pre>\n"
      ],
      "text/plain": [
       "[2023-01-31T09:22:40.031861+00:00] [TFY-CLIENT]                              0.0.0.0\n"
      ]
     },
     "metadata": {},
     "output_type": "display_data"
    },
    {
     "data": {
      "text/html": [
       "<pre style=\"white-space:pre;overflow-x:auto;line-height:normal;font-family:Menlo,'DejaVu Sans Mono',consolas,'Courier New',monospace\">[2023-01-31T09:22:40.031865+00:00] [TFY-CLIENT]                              /mnt/vol/source-code -t\n",
       "</pre>\n"
      ],
      "text/plain": [
       "[2023-01-31T09:22:40.031865+00:00] [TFY-CLIENT]                              /mnt/vol/source-code -t\n"
      ]
     },
     "metadata": {},
     "output_type": "display_data"
    },
    {
     "data": {
      "text/html": [
       "<pre style=\"white-space:pre;overflow-x:auto;line-height:normal;font-family:Menlo,'DejaVu Sans Mono',consolas,'Courier New',monospace\">[2023-01-31T09:22:40.031868+00:00] [TFY-CLIENT]                              demo-deploy-2djoe:11 --file\n",
       "</pre>\n"
      ],
      "text/plain": [
       "[2023-01-31T09:22:40.031868+00:00] [TFY-CLIENT]                              demo-deploy-2djoe:11 --file\n"
      ]
     },
     "metadata": {},
     "output_type": "display_data"
    },
    {
     "data": {
      "text/html": [
       "<pre style=\"white-space:pre;overflow-x:auto;line-height:normal;font-family:Menlo,'DejaVu Sans Mono',consolas,'Courier New',monospace\">[2023-01-31T09:22:40.031867+00:00] [TFY-CLIENT]                              \n",
       "416964291864.dkr.ecr.eu-west-1.amazonaws.com/kotak-\n",
       "</pre>\n"
      ],
      "text/plain": [
       "[2023-01-31T09:22:40.031867+00:00] [TFY-CLIENT]                              \n",
       "416964291864.dkr.ecr.eu-west-1.amazonaws.com/kotak-\n"
      ]
     },
     "metadata": {},
     "output_type": "display_data"
    },
    {
     "data": {
      "text/html": [
       "<pre style=\"white-space:pre;overflow-x:auto;line-height:normal;font-family:Menlo,'DejaVu Sans Mono',consolas,'Courier New',monospace\">[2023-01-31T09:22:40.031864+00:00] [TFY-CLIENT]                     INFO     Building docker image: 'docker build\n",
       "</pre>\n"
      ],
      "text/plain": [
       "[2023-01-31T09:22:40.031864+00:00] [TFY-CLIENT]                     INFO     Building docker image: 'docker build\n"
      ]
     },
     "metadata": {},
     "output_type": "display_data"
    },
    {
     "data": {
      "text/html": [
       "<pre style=\"white-space:pre;overflow-x:auto;line-height:normal;font-family:Menlo,'DejaVu Sans Mono',consolas,'Courier New',monospace\">[2023-01-31T09:22:40.031870+00:00] [TFY-CLIENT]                              \n",
       "416964291864.dkr.ecr.eu-west-1.amazonaws.com/kotak-\n",
       "</pre>\n"
      ],
      "text/plain": [
       "[2023-01-31T09:22:40.031870+00:00] [TFY-CLIENT]                              \n",
       "416964291864.dkr.ecr.eu-west-1.amazonaws.com/kotak-\n"
      ]
     },
     "metadata": {},
     "output_type": "display_data"
    },
    {
     "data": {
      "text/html": [
       "<pre style=\"white-space:pre;overflow-x:auto;line-height:normal;font-family:Menlo,'DejaVu Sans Mono',consolas,'Courier New',monospace\">[2023-01-31T09:22:40.031869+00:00] [TFY-CLIENT]                              /tmp/tmppexlq5pv/Dockerfile \n",
       "--cache-from\n",
       "</pre>\n"
      ],
      "text/plain": [
       "[2023-01-31T09:22:40.031869+00:00] [TFY-CLIENT]                              /tmp/tmppexlq5pv/Dockerfile \n",
       "--cache-from\n"
      ]
     },
     "metadata": {},
     "output_type": "display_data"
    },
    {
     "data": {
      "text/html": [
       "<pre style=\"white-space:pre;overflow-x:auto;line-height:normal;font-family:Menlo,'DejaVu Sans Mono',consolas,'Courier New',monospace\">[2023-01-31T09:22:40.031879+00:00] [TFY-CLIENT]                              demo-deploy-2djoe:latest'\n",
       "</pre>\n"
      ],
      "text/plain": [
       "[2023-01-31T09:22:40.031879+00:00] [TFY-CLIENT]                              demo-deploy-2djoe:latest'\n"
      ]
     },
     "metadata": {},
     "output_type": "display_data"
    },
    {
     "data": {
      "text/html": [
       "<pre style=\"white-space:pre;overflow-x:auto;line-height:normal;font-family:Menlo,'DejaVu Sans Mono',consolas,'Courier New',monospace\">[2023-01-31T09:22:40.031880+00:00] [TFY-CLIENT] Sending build context to Docker daemon  8.239kB\n",
       "</pre>\n"
      ],
      "text/plain": [
       "[2023-01-31T09:22:40.031880+00:00] [TFY-CLIENT] Sending build context to Docker daemon  8.239kB\n"
      ]
     },
     "metadata": {},
     "output_type": "display_data"
    },
    {
     "data": {
      "text/html": [
       "<pre style=\"white-space:pre;overflow-x:auto;line-height:normal;font-family:Menlo,'DejaVu Sans Mono',consolas,'Courier New',monospace\">[2023-01-31T09:22:40.031882+00:00] [TFY-CLIENT] Step 1/6 : FROM python:3.9\n",
       "</pre>\n"
      ],
      "text/plain": [
       "[2023-01-31T09:22:40.031882+00:00] [TFY-CLIENT] Step 1/6 : FROM python:3.9\n"
      ]
     },
     "metadata": {},
     "output_type": "display_data"
    },
    {
     "data": {
      "text/html": [
       "<pre style=\"white-space:pre;overflow-x:auto;line-height:normal;font-family:Menlo,'DejaVu Sans Mono',consolas,'Courier New',monospace\">[2023-01-31T09:22:40.031883+00:00] [TFY-CLIENT] 3.9: Pulling from library/python\n",
       "</pre>\n"
      ],
      "text/plain": [
       "[2023-01-31T09:22:40.031883+00:00] [TFY-CLIENT] 3.9: Pulling from library/python\n"
      ]
     },
     "metadata": {},
     "output_type": "display_data"
    },
    {
     "data": {
      "text/html": [
       "<pre style=\"white-space:pre;overflow-x:auto;line-height:normal;font-family:Menlo,'DejaVu Sans Mono',consolas,'Courier New',monospace\">[2023-01-31T09:22:40.031884+00:00] [TFY-CLIENT] bbeef03cda1f: Already exists\n",
       "</pre>\n"
      ],
      "text/plain": [
       "[2023-01-31T09:22:40.031884+00:00] [TFY-CLIENT] bbeef03cda1f: Already exists\n"
      ]
     },
     "metadata": {},
     "output_type": "display_data"
    },
    {
     "data": {
      "text/html": [
       "<pre style=\"white-space:pre;overflow-x:auto;line-height:normal;font-family:Menlo,'DejaVu Sans Mono',consolas,'Courier New',monospace\">[2023-01-31T09:22:40.031886+00:00] [TFY-CLIENT] f049f75f014e: Already exists\n",
       "</pre>\n"
      ],
      "text/plain": [
       "[2023-01-31T09:22:40.031886+00:00] [TFY-CLIENT] f049f75f014e: Already exists\n"
      ]
     },
     "metadata": {},
     "output_type": "display_data"
    },
    {
     "data": {
      "text/html": [
       "<pre style=\"white-space:pre;overflow-x:auto;line-height:normal;font-family:Menlo,'DejaVu Sans Mono',consolas,'Courier New',monospace\">[2023-01-31T09:22:40.031887+00:00] [TFY-CLIENT] 56261d0e6b05: Already exists\n",
       "</pre>\n"
      ],
      "text/plain": [
       "[2023-01-31T09:22:40.031887+00:00] [TFY-CLIENT] 56261d0e6b05: Already exists\n"
      ]
     },
     "metadata": {},
     "output_type": "display_data"
    },
    {
     "data": {
      "text/html": [
       "<pre style=\"white-space:pre;overflow-x:auto;line-height:normal;font-family:Menlo,'DejaVu Sans Mono',consolas,'Courier New',monospace\">[2023-01-31T09:22:40.031888+00:00] [TFY-CLIENT] 9bd150679dbd: Already exists\n",
       "</pre>\n"
      ],
      "text/plain": [
       "[2023-01-31T09:22:40.031888+00:00] [TFY-CLIENT] 9bd150679dbd: Already exists\n"
      ]
     },
     "metadata": {},
     "output_type": "display_data"
    },
    {
     "data": {
      "text/html": [
       "<pre style=\"white-space:pre;overflow-x:auto;line-height:normal;font-family:Menlo,'DejaVu Sans Mono',consolas,'Courier New',monospace\">[2023-01-31T09:22:40.031890+00:00] [TFY-CLIENT] 5b282ee9da04: Already exists\n",
       "</pre>\n"
      ],
      "text/plain": [
       "[2023-01-31T09:22:40.031890+00:00] [TFY-CLIENT] 5b282ee9da04: Already exists\n"
      ]
     },
     "metadata": {},
     "output_type": "display_data"
    },
    {
     "data": {
      "text/html": [
       "<pre style=\"white-space:pre;overflow-x:auto;line-height:normal;font-family:Menlo,'DejaVu Sans Mono',consolas,'Courier New',monospace\">[2023-01-31T09:22:40.031891+00:00] [TFY-CLIENT] 03f027d5e312: Already exists\n",
       "</pre>\n"
      ],
      "text/plain": [
       "[2023-01-31T09:22:40.031891+00:00] [TFY-CLIENT] 03f027d5e312: Already exists\n"
      ]
     },
     "metadata": {},
     "output_type": "display_data"
    },
    {
     "data": {
      "text/html": [
       "<pre style=\"white-space:pre;overflow-x:auto;line-height:normal;font-family:Menlo,'DejaVu Sans Mono',consolas,'Courier New',monospace\">[2023-01-31T09:22:40.031892+00:00] [TFY-CLIENT] 79903339cfdb: Already exists\n",
       "</pre>\n"
      ],
      "text/plain": [
       "[2023-01-31T09:22:40.031892+00:00] [TFY-CLIENT] 79903339cfdb: Already exists\n"
      ]
     },
     "metadata": {},
     "output_type": "display_data"
    },
    {
     "data": {
      "text/html": [
       "<pre style=\"white-space:pre;overflow-x:auto;line-height:normal;font-family:Menlo,'DejaVu Sans Mono',consolas,'Courier New',monospace\">[2023-01-31T09:22:40.031893+00:00] [TFY-CLIENT] efbad12427dd: Already exists\n",
       "</pre>\n"
      ],
      "text/plain": [
       "[2023-01-31T09:22:40.031893+00:00] [TFY-CLIENT] efbad12427dd: Already exists\n"
      ]
     },
     "metadata": {},
     "output_type": "display_data"
    },
    {
     "data": {
      "text/html": [
       "<pre style=\"white-space:pre;overflow-x:auto;line-height:normal;font-family:Menlo,'DejaVu Sans Mono',consolas,'Courier New',monospace\">[2023-01-31T09:22:40.031895+00:00] [TFY-CLIENT] 862894708010: Already exists\n",
       "</pre>\n"
      ],
      "text/plain": [
       "[2023-01-31T09:22:40.031895+00:00] [TFY-CLIENT] 862894708010: Already exists\n"
      ]
     },
     "metadata": {},
     "output_type": "display_data"
    },
    {
     "data": {
      "text/html": [
       "<pre style=\"white-space:pre;overflow-x:auto;line-height:normal;font-family:Menlo,'DejaVu Sans Mono',consolas,'Courier New',monospace\">[2023-01-31T09:22:40.031897+00:00] [TFY-CLIENT] Digest: \n",
       "sha256:7af616b934168e213d469bff23bd8e4f07d09ccbe87e82c464cacd8e2fb244bf\n",
       "</pre>\n"
      ],
      "text/plain": [
       "[2023-01-31T09:22:40.031897+00:00] [TFY-CLIENT] Digest: \n",
       "sha256:7af616b934168e213d469bff23bd8e4f07d09ccbe87e82c464cacd8e2fb244bf\n"
      ]
     },
     "metadata": {},
     "output_type": "display_data"
    },
    {
     "data": {
      "text/html": [
       "<pre style=\"white-space:pre;overflow-x:auto;line-height:normal;font-family:Menlo,'DejaVu Sans Mono',consolas,'Courier New',monospace\">[2023-01-31T09:22:40.031898+00:00] [TFY-CLIENT] Status: Downloaded newer image for python:3.9\n",
       "</pre>\n"
      ],
      "text/plain": [
       "[2023-01-31T09:22:40.031898+00:00] [TFY-CLIENT] Status: Downloaded newer image for python:3.9\n"
      ]
     },
     "metadata": {},
     "output_type": "display_data"
    },
    {
     "data": {
      "text/html": [
       "<pre style=\"white-space:pre;overflow-x:auto;line-height:normal;font-family:Menlo,'DejaVu Sans Mono',consolas,'Courier New',monospace\">[2023-01-31T09:22:40.031900+00:00] [TFY-CLIENT]  ---&gt; 0a3ee4bd701a\n",
       "</pre>\n"
      ],
      "text/plain": [
       "[2023-01-31T09:22:40.031900+00:00] [TFY-CLIENT]  ---> 0a3ee4bd701a\n"
      ]
     },
     "metadata": {},
     "output_type": "display_data"
    },
    {
     "data": {
      "text/html": [
       "<pre style=\"white-space:pre;overflow-x:auto;line-height:normal;font-family:Menlo,'DejaVu Sans Mono',consolas,'Courier New',monospace\">[2023-01-31T09:22:40.031902+00:00] [TFY-CLIENT] Step 2/6 : COPY predict_requirements.txt /tmp/requirements.txt\n",
       "</pre>\n"
      ],
      "text/plain": [
       "[2023-01-31T09:22:40.031902+00:00] [TFY-CLIENT] Step 2/6 : COPY predict_requirements.txt /tmp/requirements.txt\n"
      ]
     },
     "metadata": {},
     "output_type": "display_data"
    },
    {
     "data": {
      "text/html": [
       "<pre style=\"white-space:pre;overflow-x:auto;line-height:normal;font-family:Menlo,'DejaVu Sans Mono',consolas,'Courier New',monospace\">[2023-01-31T09:22:40.031904+00:00] [TFY-CLIENT]  ---&gt; Using cache\n",
       "</pre>\n"
      ],
      "text/plain": [
       "[2023-01-31T09:22:40.031904+00:00] [TFY-CLIENT]  ---> Using cache\n"
      ]
     },
     "metadata": {},
     "output_type": "display_data"
    },
    {
     "data": {
      "text/html": [
       "<pre style=\"white-space:pre;overflow-x:auto;line-height:normal;font-family:Menlo,'DejaVu Sans Mono',consolas,'Courier New',monospace\">[2023-01-31T09:22:40.031905+00:00] [TFY-CLIENT]  ---&gt; 92c4e9e847dc\n",
       "</pre>\n"
      ],
      "text/plain": [
       "[2023-01-31T09:22:40.031905+00:00] [TFY-CLIENT]  ---> 92c4e9e847dc\n"
      ]
     },
     "metadata": {},
     "output_type": "display_data"
    },
    {
     "data": {
      "text/html": [
       "<pre style=\"white-space:pre;overflow-x:auto;line-height:normal;font-family:Menlo,'DejaVu Sans Mono',consolas,'Courier New',monospace\">[2023-01-31T09:22:40.031907+00:00] [TFY-CLIENT] Step 3/6 : RUN pip install -U pip &amp;&amp; pip install --no-cache-dir -r \n",
       "/tmp/requirements.txt\n",
       "</pre>\n"
      ],
      "text/plain": [
       "[2023-01-31T09:22:40.031907+00:00] [TFY-CLIENT] Step 3/6 : RUN pip install -U pip && pip install --no-cache-dir -r \n",
       "/tmp/requirements.txt\n"
      ]
     },
     "metadata": {},
     "output_type": "display_data"
    },
    {
     "data": {
      "text/html": [
       "<pre style=\"white-space:pre;overflow-x:auto;line-height:normal;font-family:Menlo,'DejaVu Sans Mono',consolas,'Courier New',monospace\">[2023-01-31T09:22:40.031909+00:00] [TFY-CLIENT]  ---&gt; Using cache\n",
       "</pre>\n"
      ],
      "text/plain": [
       "[2023-01-31T09:22:40.031909+00:00] [TFY-CLIENT]  ---> Using cache\n"
      ]
     },
     "metadata": {},
     "output_type": "display_data"
    },
    {
     "data": {
      "text/html": [
       "<pre style=\"white-space:pre;overflow-x:auto;line-height:normal;font-family:Menlo,'DejaVu Sans Mono',consolas,'Courier New',monospace\">[2023-01-31T09:22:40.031910+00:00] [TFY-CLIENT]  ---&gt; a1e94d67086d\n",
       "</pre>\n"
      ],
      "text/plain": [
       "[2023-01-31T09:22:40.031910+00:00] [TFY-CLIENT]  ---> a1e94d67086d\n"
      ]
     },
     "metadata": {},
     "output_type": "display_data"
    },
    {
     "data": {
      "text/html": [
       "<pre style=\"white-space:pre;overflow-x:auto;line-height:normal;font-family:Menlo,'DejaVu Sans Mono',consolas,'Courier New',monospace\">[2023-01-31T09:22:40.031911+00:00] [TFY-CLIENT] Step 4/6 : COPY . /app\n",
       "</pre>\n"
      ],
      "text/plain": [
       "[2023-01-31T09:22:40.031911+00:00] [TFY-CLIENT] Step 4/6 : COPY . /app\n"
      ]
     },
     "metadata": {},
     "output_type": "display_data"
    },
    {
     "data": {
      "text/html": [
       "<pre style=\"white-space:pre;overflow-x:auto;line-height:normal;font-family:Menlo,'DejaVu Sans Mono',consolas,'Courier New',monospace\">[2023-01-31T09:22:40.031913+00:00] [TFY-CLIENT]  ---&gt; Using cache\n",
       "</pre>\n"
      ],
      "text/plain": [
       "[2023-01-31T09:22:40.031913+00:00] [TFY-CLIENT]  ---> Using cache\n"
      ]
     },
     "metadata": {},
     "output_type": "display_data"
    },
    {
     "data": {
      "text/html": [
       "<pre style=\"white-space:pre;overflow-x:auto;line-height:normal;font-family:Menlo,'DejaVu Sans Mono',consolas,'Courier New',monospace\">[2023-01-31T09:22:40.031914+00:00] [TFY-CLIENT]  ---&gt; 29943f29a8a8\n",
       "</pre>\n"
      ],
      "text/plain": [
       "[2023-01-31T09:22:40.031914+00:00] [TFY-CLIENT]  ---> 29943f29a8a8\n"
      ]
     },
     "metadata": {},
     "output_type": "display_data"
    },
    {
     "data": {
      "text/html": [
       "<pre style=\"white-space:pre;overflow-x:auto;line-height:normal;font-family:Menlo,'DejaVu Sans Mono',consolas,'Courier New',monospace\">[2023-01-31T09:22:40.031916+00:00] [TFY-CLIENT] Step 5/6 : WORKDIR /app\n",
       "</pre>\n"
      ],
      "text/plain": [
       "[2023-01-31T09:22:40.031916+00:00] [TFY-CLIENT] Step 5/6 : WORKDIR /app\n"
      ]
     },
     "metadata": {},
     "output_type": "display_data"
    },
    {
     "data": {
      "text/html": [
       "<pre style=\"white-space:pre;overflow-x:auto;line-height:normal;font-family:Menlo,'DejaVu Sans Mono',consolas,'Courier New',monospace\">[2023-01-31T09:22:40.031917+00:00] [TFY-CLIENT]  ---&gt; Using cache\n",
       "</pre>\n"
      ],
      "text/plain": [
       "[2023-01-31T09:22:40.031917+00:00] [TFY-CLIENT]  ---> Using cache\n"
      ]
     },
     "metadata": {},
     "output_type": "display_data"
    },
    {
     "data": {
      "text/html": [
       "<pre style=\"white-space:pre;overflow-x:auto;line-height:normal;font-family:Menlo,'DejaVu Sans Mono',consolas,'Courier New',monospace\">[2023-01-31T09:22:40.031919+00:00] [TFY-CLIENT]  ---&gt; 3fb6a7b0214b\n",
       "</pre>\n"
      ],
      "text/plain": [
       "[2023-01-31T09:22:40.031919+00:00] [TFY-CLIENT]  ---> 3fb6a7b0214b\n"
      ]
     },
     "metadata": {},
     "output_type": "display_data"
    },
    {
     "data": {
      "text/html": [
       "<pre style=\"white-space:pre;overflow-x:auto;line-height:normal;font-family:Menlo,'DejaVu Sans Mono',consolas,'Courier New',monospace\">[2023-01-31T09:22:40.031920+00:00] [TFY-CLIENT] Step 6/6 : ENTRYPOINT uvicorn main:app --port 8000 --host 0.0.0.0\n",
       "</pre>\n"
      ],
      "text/plain": [
       "[2023-01-31T09:22:40.031920+00:00] [TFY-CLIENT] Step 6/6 : ENTRYPOINT uvicorn main:app --port 8000 --host 0.0.0.0\n"
      ]
     },
     "metadata": {},
     "output_type": "display_data"
    },
    {
     "data": {
      "text/html": [
       "<pre style=\"white-space:pre;overflow-x:auto;line-height:normal;font-family:Menlo,'DejaVu Sans Mono',consolas,'Courier New',monospace\">[2023-01-31T09:22:40.031921+00:00] [TFY-CLIENT]  ---&gt; Using cache\n",
       "</pre>\n"
      ],
      "text/plain": [
       "[2023-01-31T09:22:40.031921+00:00] [TFY-CLIENT]  ---> Using cache\n"
      ]
     },
     "metadata": {},
     "output_type": "display_data"
    },
    {
     "data": {
      "text/html": [
       "<pre style=\"white-space:pre;overflow-x:auto;line-height:normal;font-family:Menlo,'DejaVu Sans Mono',consolas,'Courier New',monospace\">[2023-01-31T09:22:40.031923+00:00] [TFY-CLIENT]  ---&gt; 2c8b1fdc55c3\n",
       "</pre>\n"
      ],
      "text/plain": [
       "[2023-01-31T09:22:40.031923+00:00] [TFY-CLIENT]  ---> 2c8b1fdc55c3\n"
      ]
     },
     "metadata": {},
     "output_type": "display_data"
    },
    {
     "data": {
      "text/html": [
       "<pre style=\"white-space:pre;overflow-x:auto;line-height:normal;font-family:Menlo,'DejaVu Sans Mono',consolas,'Courier New',monospace\">[2023-01-31T09:22:40.031924+00:00] [TFY-CLIENT] Successfully built 2c8b1fdc55c3\n",
       "</pre>\n"
      ],
      "text/plain": [
       "[2023-01-31T09:22:40.031924+00:00] [TFY-CLIENT] Successfully built 2c8b1fdc55c3\n"
      ]
     },
     "metadata": {},
     "output_type": "display_data"
    },
    {
     "data": {
      "text/html": [
       "<pre style=\"white-space:pre;overflow-x:auto;line-height:normal;font-family:Menlo,'DejaVu Sans Mono',consolas,'Courier New',monospace\">[2023-01-31T09:22:40.031926+00:00] [TFY-CLIENT] Successfully tagged \n",
       "416964291864.dkr.ecr.eu-west-1.amazonaws.com/kotak-demo-deploy-2djoe:11\n",
       "</pre>\n"
      ],
      "text/plain": [
       "[2023-01-31T09:22:40.031926+00:00] [TFY-CLIENT] Successfully tagged \n",
       "416964291864.dkr.ecr.eu-west-1.amazonaws.com/kotak-demo-deploy-2djoe:11\n"
      ]
     },
     "metadata": {},
     "output_type": "display_data"
    },
    {
     "data": {
      "text/html": [
       "<pre style=\"white-space:pre;overflow-x:auto;line-height:normal;font-family:Menlo,'DejaVu Sans Mono',consolas,'Courier New',monospace\">[2023-01-31T09:22:40.332810+00:00] [TFY-CLIENT] The push refers to repository \n",
       "[416964291864.dkr.ecr.eu-west-1.amazonaws.com/kotak-demo-deploy-2djoe]\n",
       "</pre>\n"
      ],
      "text/plain": [
       "[2023-01-31T09:22:40.332810+00:00] [TFY-CLIENT] The push refers to repository \n",
       "[416964291864.dkr.ecr.eu-west-1.amazonaws.com/kotak-demo-deploy-2djoe]\n"
      ]
     },
     "metadata": {},
     "output_type": "display_data"
    },
    {
     "data": {
      "text/html": [
       "<pre style=\"white-space:pre;overflow-x:auto;line-height:normal;font-family:Menlo,'DejaVu Sans Mono',consolas,'Courier New',monospace\">[2023-01-31T09:22:40.332832+00:00] [TFY-CLIENT] d323c74cb8be: Preparing\n",
       "</pre>\n"
      ],
      "text/plain": [
       "[2023-01-31T09:22:40.332832+00:00] [TFY-CLIENT] d323c74cb8be: Preparing\n"
      ]
     },
     "metadata": {},
     "output_type": "display_data"
    },
    {
     "data": {
      "text/html": [
       "<pre style=\"white-space:pre;overflow-x:auto;line-height:normal;font-family:Menlo,'DejaVu Sans Mono',consolas,'Courier New',monospace\">[2023-01-31T09:22:40.332834+00:00] [TFY-CLIENT] d549ec566159: Preparing\n",
       "</pre>\n"
      ],
      "text/plain": [
       "[2023-01-31T09:22:40.332834+00:00] [TFY-CLIENT] d549ec566159: Preparing\n"
      ]
     },
     "metadata": {},
     "output_type": "display_data"
    },
    {
     "data": {
      "text/html": [
       "<pre style=\"white-space:pre;overflow-x:auto;line-height:normal;font-family:Menlo,'DejaVu Sans Mono',consolas,'Courier New',monospace\">[2023-01-31T09:22:40.332837+00:00] [TFY-CLIENT] 22c29febde3f: Preparing\n",
       "</pre>\n"
      ],
      "text/plain": [
       "[2023-01-31T09:22:40.332837+00:00] [TFY-CLIENT] 22c29febde3f: Preparing\n"
      ]
     },
     "metadata": {},
     "output_type": "display_data"
    },
    {
     "data": {
      "text/html": [
       "<pre style=\"white-space:pre;overflow-x:auto;line-height:normal;font-family:Menlo,'DejaVu Sans Mono',consolas,'Courier New',monospace\">[2023-01-31T09:22:40.332839+00:00] [TFY-CLIENT] e42ec6c46a91: Preparing\n",
       "</pre>\n"
      ],
      "text/plain": [
       "[2023-01-31T09:22:40.332839+00:00] [TFY-CLIENT] e42ec6c46a91: Preparing\n"
      ]
     },
     "metadata": {},
     "output_type": "display_data"
    },
    {
     "data": {
      "text/html": [
       "<pre style=\"white-space:pre;overflow-x:auto;line-height:normal;font-family:Menlo,'DejaVu Sans Mono',consolas,'Courier New',monospace\">[2023-01-31T09:22:40.332840+00:00] [TFY-CLIENT] d5b17d98dbd1: Preparing\n",
       "</pre>\n"
      ],
      "text/plain": [
       "[2023-01-31T09:22:40.332840+00:00] [TFY-CLIENT] d5b17d98dbd1: Preparing\n"
      ]
     },
     "metadata": {},
     "output_type": "display_data"
    },
    {
     "data": {
      "text/html": [
       "<pre style=\"white-space:pre;overflow-x:auto;line-height:normal;font-family:Menlo,'DejaVu Sans Mono',consolas,'Courier New',monospace\">[2023-01-31T09:22:40.332843+00:00] [TFY-CLIENT] 52400b17e008: Preparing\n",
       "</pre>\n"
      ],
      "text/plain": [
       "[2023-01-31T09:22:40.332843+00:00] [TFY-CLIENT] 52400b17e008: Preparing\n"
      ]
     },
     "metadata": {},
     "output_type": "display_data"
    },
    {
     "data": {
      "text/html": [
       "<pre style=\"white-space:pre;overflow-x:auto;line-height:normal;font-family:Menlo,'DejaVu Sans Mono',consolas,'Courier New',monospace\">[2023-01-31T09:22:40.332844+00:00] [TFY-CLIENT] dc6462f7bb8b: Preparing\n",
       "</pre>\n"
      ],
      "text/plain": [
       "[2023-01-31T09:22:40.332844+00:00] [TFY-CLIENT] dc6462f7bb8b: Preparing\n"
      ]
     },
     "metadata": {},
     "output_type": "display_data"
    },
    {
     "data": {
      "text/html": [
       "<pre style=\"white-space:pre;overflow-x:auto;line-height:normal;font-family:Menlo,'DejaVu Sans Mono',consolas,'Courier New',monospace\">[2023-01-31T09:22:40.332847+00:00] [TFY-CLIENT] a4db1a405763: Preparing\n",
       "</pre>\n"
      ],
      "text/plain": [
       "[2023-01-31T09:22:40.332847+00:00] [TFY-CLIENT] a4db1a405763: Preparing\n"
      ]
     },
     "metadata": {},
     "output_type": "display_data"
    },
    {
     "data": {
      "text/html": [
       "<pre style=\"white-space:pre;overflow-x:auto;line-height:normal;font-family:Menlo,'DejaVu Sans Mono',consolas,'Courier New',monospace\">[2023-01-31T09:22:40.332849+00:00] [TFY-CLIENT] 9f4f964da727: Preparing\n",
       "</pre>\n"
      ],
      "text/plain": [
       "[2023-01-31T09:22:40.332849+00:00] [TFY-CLIENT] 9f4f964da727: Preparing\n"
      ]
     },
     "metadata": {},
     "output_type": "display_data"
    },
    {
     "data": {
      "text/html": [
       "<pre style=\"white-space:pre;overflow-x:auto;line-height:normal;font-family:Menlo,'DejaVu Sans Mono',consolas,'Courier New',monospace\">[2023-01-31T09:22:40.332851+00:00] [TFY-CLIENT] 49b333f7bad4: Preparing\n",
       "</pre>\n"
      ],
      "text/plain": [
       "[2023-01-31T09:22:40.332851+00:00] [TFY-CLIENT] 49b333f7bad4: Preparing\n"
      ]
     },
     "metadata": {},
     "output_type": "display_data"
    },
    {
     "data": {
      "text/html": [
       "<pre style=\"white-space:pre;overflow-x:auto;line-height:normal;font-family:Menlo,'DejaVu Sans Mono',consolas,'Courier New',monospace\">[2023-01-31T09:22:40.332854+00:00] [TFY-CLIENT] a463dbda4664: Preparing\n",
       "</pre>\n"
      ],
      "text/plain": [
       "[2023-01-31T09:22:40.332854+00:00] [TFY-CLIENT] a463dbda4664: Preparing\n"
      ]
     },
     "metadata": {},
     "output_type": "display_data"
    },
    {
     "data": {
      "text/html": [
       "<pre style=\"white-space:pre;overflow-x:auto;line-height:normal;font-family:Menlo,'DejaVu Sans Mono',consolas,'Courier New',monospace\">[2023-01-31T09:22:40.332855+00:00] [TFY-CLIENT] a9099c3159f5: Preparing\n",
       "</pre>\n"
      ],
      "text/plain": [
       "[2023-01-31T09:22:40.332855+00:00] [TFY-CLIENT] a9099c3159f5: Preparing\n"
      ]
     },
     "metadata": {},
     "output_type": "display_data"
    },
    {
     "data": {
      "text/html": [
       "<pre style=\"white-space:pre;overflow-x:auto;line-height:normal;font-family:Menlo,'DejaVu Sans Mono',consolas,'Courier New',monospace\">[2023-01-31T09:22:40.332856+00:00] [TFY-CLIENT] 52400b17e008: Waiting\n",
       "</pre>\n"
      ],
      "text/plain": [
       "[2023-01-31T09:22:40.332856+00:00] [TFY-CLIENT] 52400b17e008: Waiting\n"
      ]
     },
     "metadata": {},
     "output_type": "display_data"
    },
    {
     "data": {
      "text/html": [
       "<pre style=\"white-space:pre;overflow-x:auto;line-height:normal;font-family:Menlo,'DejaVu Sans Mono',consolas,'Courier New',monospace\">[2023-01-31T09:22:40.332858+00:00] [TFY-CLIENT] a463dbda4664: Waiting\n",
       "</pre>\n"
      ],
      "text/plain": [
       "[2023-01-31T09:22:40.332858+00:00] [TFY-CLIENT] a463dbda4664: Waiting\n"
      ]
     },
     "metadata": {},
     "output_type": "display_data"
    },
    {
     "data": {
      "text/html": [
       "<pre style=\"white-space:pre;overflow-x:auto;line-height:normal;font-family:Menlo,'DejaVu Sans Mono',consolas,'Courier New',monospace\">[2023-01-31T09:22:40.332864+00:00] [TFY-CLIENT] a9099c3159f5: Waiting\n",
       "</pre>\n"
      ],
      "text/plain": [
       "[2023-01-31T09:22:40.332864+00:00] [TFY-CLIENT] a9099c3159f5: Waiting\n"
      ]
     },
     "metadata": {},
     "output_type": "display_data"
    },
    {
     "data": {
      "text/html": [
       "<pre style=\"white-space:pre;overflow-x:auto;line-height:normal;font-family:Menlo,'DejaVu Sans Mono',consolas,'Courier New',monospace\">[2023-01-31T09:22:40.332865+00:00] [TFY-CLIENT] 49b333f7bad4: Waiting\n",
       "</pre>\n"
      ],
      "text/plain": [
       "[2023-01-31T09:22:40.332865+00:00] [TFY-CLIENT] 49b333f7bad4: Waiting\n"
      ]
     },
     "metadata": {},
     "output_type": "display_data"
    },
    {
     "data": {
      "text/html": [
       "<pre style=\"white-space:pre;overflow-x:auto;line-height:normal;font-family:Menlo,'DejaVu Sans Mono',consolas,'Courier New',monospace\">[2023-01-31T09:22:40.332866+00:00] [TFY-CLIENT] dc6462f7bb8b: Waiting\n",
       "</pre>\n"
      ],
      "text/plain": [
       "[2023-01-31T09:22:40.332866+00:00] [TFY-CLIENT] dc6462f7bb8b: Waiting\n"
      ]
     },
     "metadata": {},
     "output_type": "display_data"
    },
    {
     "data": {
      "text/html": [
       "<pre style=\"white-space:pre;overflow-x:auto;line-height:normal;font-family:Menlo,'DejaVu Sans Mono',consolas,'Courier New',monospace\">[2023-01-31T09:22:40.332868+00:00] [TFY-CLIENT] 9f4f964da727: Waiting\n",
       "</pre>\n"
      ],
      "text/plain": [
       "[2023-01-31T09:22:40.332868+00:00] [TFY-CLIENT] 9f4f964da727: Waiting\n"
      ]
     },
     "metadata": {},
     "output_type": "display_data"
    },
    {
     "data": {
      "text/html": [
       "<pre style=\"white-space:pre;overflow-x:auto;line-height:normal;font-family:Menlo,'DejaVu Sans Mono',consolas,'Courier New',monospace\">[2023-01-31T09:22:40.332869+00:00] [TFY-CLIENT] a4db1a405763: Waiting\n",
       "</pre>\n"
      ],
      "text/plain": [
       "[2023-01-31T09:22:40.332869+00:00] [TFY-CLIENT] a4db1a405763: Waiting\n"
      ]
     },
     "metadata": {},
     "output_type": "display_data"
    },
    {
     "data": {
      "text/html": [
       "<pre style=\"white-space:pre;overflow-x:auto;line-height:normal;font-family:Menlo,'DejaVu Sans Mono',consolas,'Courier New',monospace\">[2023-01-31T09:22:40.332871+00:00] [TFY-CLIENT] 22c29febde3f: Layer already exists\n",
       "</pre>\n"
      ],
      "text/plain": [
       "[2023-01-31T09:22:40.332871+00:00] [TFY-CLIENT] 22c29febde3f: Layer already exists\n"
      ]
     },
     "metadata": {},
     "output_type": "display_data"
    },
    {
     "data": {
      "text/html": [
       "<pre style=\"white-space:pre;overflow-x:auto;line-height:normal;font-family:Menlo,'DejaVu Sans Mono',consolas,'Courier New',monospace\">[2023-01-31T09:22:40.332872+00:00] [TFY-CLIENT] d323c74cb8be: Layer already exists\n",
       "</pre>\n"
      ],
      "text/plain": [
       "[2023-01-31T09:22:40.332872+00:00] [TFY-CLIENT] d323c74cb8be: Layer already exists\n"
      ]
     },
     "metadata": {},
     "output_type": "display_data"
    },
    {
     "data": {
      "text/html": [
       "<pre style=\"white-space:pre;overflow-x:auto;line-height:normal;font-family:Menlo,'DejaVu Sans Mono',consolas,'Courier New',monospace\">[2023-01-31T09:22:40.332874+00:00] [TFY-CLIENT] d549ec566159: Layer already exists\n",
       "</pre>\n"
      ],
      "text/plain": [
       "[2023-01-31T09:22:40.332874+00:00] [TFY-CLIENT] d549ec566159: Layer already exists\n"
      ]
     },
     "metadata": {},
     "output_type": "display_data"
    },
    {
     "data": {
      "text/html": [
       "<pre style=\"white-space:pre;overflow-x:auto;line-height:normal;font-family:Menlo,'DejaVu Sans Mono',consolas,'Courier New',monospace\">[2023-01-31T09:22:40.332875+00:00] [TFY-CLIENT] d5b17d98dbd1: Layer already exists\n",
       "</pre>\n"
      ],
      "text/plain": [
       "[2023-01-31T09:22:40.332875+00:00] [TFY-CLIENT] d5b17d98dbd1: Layer already exists\n"
      ]
     },
     "metadata": {},
     "output_type": "display_data"
    },
    {
     "data": {
      "text/html": [
       "<pre style=\"white-space:pre;overflow-x:auto;line-height:normal;font-family:Menlo,'DejaVu Sans Mono',consolas,'Courier New',monospace\">[2023-01-31T09:22:40.332876+00:00] [TFY-CLIENT] e42ec6c46a91: Layer already exists\n",
       "</pre>\n"
      ],
      "text/plain": [
       "[2023-01-31T09:22:40.332876+00:00] [TFY-CLIENT] e42ec6c46a91: Layer already exists\n"
      ]
     },
     "metadata": {},
     "output_type": "display_data"
    },
    {
     "data": {
      "text/html": [
       "<pre style=\"white-space:pre;overflow-x:auto;line-height:normal;font-family:Menlo,'DejaVu Sans Mono',consolas,'Courier New',monospace\">[2023-01-31T09:22:40.332878+00:00] [TFY-CLIENT] dc6462f7bb8b: Layer already exists\n",
       "</pre>\n"
      ],
      "text/plain": [
       "[2023-01-31T09:22:40.332878+00:00] [TFY-CLIENT] dc6462f7bb8b: Layer already exists\n"
      ]
     },
     "metadata": {},
     "output_type": "display_data"
    },
    {
     "data": {
      "text/html": [
       "<pre style=\"white-space:pre;overflow-x:auto;line-height:normal;font-family:Menlo,'DejaVu Sans Mono',consolas,'Courier New',monospace\">[2023-01-31T09:22:40.332879+00:00] [TFY-CLIENT] a4db1a405763: Layer already exists\n",
       "</pre>\n"
      ],
      "text/plain": [
       "[2023-01-31T09:22:40.332879+00:00] [TFY-CLIENT] a4db1a405763: Layer already exists\n"
      ]
     },
     "metadata": {},
     "output_type": "display_data"
    },
    {
     "data": {
      "text/html": [
       "<pre style=\"white-space:pre;overflow-x:auto;line-height:normal;font-family:Menlo,'DejaVu Sans Mono',consolas,'Courier New',monospace\">[2023-01-31T09:22:40.332881+00:00] [TFY-CLIENT] 52400b17e008: Layer already exists\n",
       "</pre>\n"
      ],
      "text/plain": [
       "[2023-01-31T09:22:40.332881+00:00] [TFY-CLIENT] 52400b17e008: Layer already exists\n"
      ]
     },
     "metadata": {},
     "output_type": "display_data"
    },
    {
     "data": {
      "text/html": [
       "<pre style=\"white-space:pre;overflow-x:auto;line-height:normal;font-family:Menlo,'DejaVu Sans Mono',consolas,'Courier New',monospace\">[2023-01-31T09:22:40.332882+00:00] [TFY-CLIENT] 9f4f964da727: Layer already exists\n",
       "</pre>\n"
      ],
      "text/plain": [
       "[2023-01-31T09:22:40.332882+00:00] [TFY-CLIENT] 9f4f964da727: Layer already exists\n"
      ]
     },
     "metadata": {},
     "output_type": "display_data"
    },
    {
     "data": {
      "text/html": [
       "<pre style=\"white-space:pre;overflow-x:auto;line-height:normal;font-family:Menlo,'DejaVu Sans Mono',consolas,'Courier New',monospace\">[2023-01-31T09:22:40.332884+00:00] [TFY-CLIENT] 49b333f7bad4: Layer already exists\n",
       "</pre>\n"
      ],
      "text/plain": [
       "[2023-01-31T09:22:40.332884+00:00] [TFY-CLIENT] 49b333f7bad4: Layer already exists\n"
      ]
     },
     "metadata": {},
     "output_type": "display_data"
    },
    {
     "data": {
      "text/html": [
       "<pre style=\"white-space:pre;overflow-x:auto;line-height:normal;font-family:Menlo,'DejaVu Sans Mono',consolas,'Courier New',monospace\">[2023-01-31T09:22:40.332885+00:00] [TFY-CLIENT] a463dbda4664: Layer already exists\n",
       "</pre>\n"
      ],
      "text/plain": [
       "[2023-01-31T09:22:40.332885+00:00] [TFY-CLIENT] a463dbda4664: Layer already exists\n"
      ]
     },
     "metadata": {},
     "output_type": "display_data"
    },
    {
     "data": {
      "text/html": [
       "<pre style=\"white-space:pre;overflow-x:auto;line-height:normal;font-family:Menlo,'DejaVu Sans Mono',consolas,'Courier New',monospace\">[2023-01-31T09:22:40.332887+00:00] [TFY-CLIENT] a9099c3159f5: Layer already exists\n",
       "</pre>\n"
      ],
      "text/plain": [
       "[2023-01-31T09:22:40.332887+00:00] [TFY-CLIENT] a9099c3159f5: Layer already exists\n"
      ]
     },
     "metadata": {},
     "output_type": "display_data"
    },
    {
     "data": {
      "text/html": [
       "<pre style=\"white-space:pre;overflow-x:auto;line-height:normal;font-family:Menlo,'DejaVu Sans Mono',consolas,'Courier New',monospace\">[2023-01-31T09:22:40.332889+00:00] [TFY-CLIENT] 11: digest: \n",
       "sha256:9b3e6b50ada0fdbead97ddcd0f1d5ced94aa69c4748c030a5338492def65dd50 size: 2847\n",
       "</pre>\n"
      ],
      "text/plain": [
       "[2023-01-31T09:22:40.332889+00:00] [TFY-CLIENT] 11: digest: \n",
       "sha256:9b3e6b50ada0fdbead97ddcd0f1d5ced94aa69c4748c030a5338492def65dd50 size: 2847\n"
      ]
     },
     "metadata": {},
     "output_type": "display_data"
    },
    {
     "data": {
      "text/html": [
       "<pre style=\"white-space:pre;overflow-x:auto;line-height:normal;font-family:Menlo,'DejaVu Sans Mono',consolas,'Courier New',monospace\">[2023-01-31T09:22:40.361708+00:00] The push refers to repository \n",
       "[416964291864.dkr.ecr.eu-west-1.amazonaws.com/kotak-demo-deploy-2djoe]\n",
       "</pre>\n"
      ],
      "text/plain": [
       "[2023-01-31T09:22:40.361708+00:00] The push refers to repository \n",
       "[416964291864.dkr.ecr.eu-west-1.amazonaws.com/kotak-demo-deploy-2djoe]\n"
      ]
     },
     "metadata": {},
     "output_type": "display_data"
    },
    {
     "data": {
      "text/html": [
       "<pre style=\"white-space:pre;overflow-x:auto;line-height:normal;font-family:Menlo,'DejaVu Sans Mono',consolas,'Courier New',monospace\">[2023-01-31T09:22:40.368954+00:00] d323c74cb8be: Preparing\n",
       "</pre>\n"
      ],
      "text/plain": [
       "[2023-01-31T09:22:40.368954+00:00] d323c74cb8be: Preparing\n"
      ]
     },
     "metadata": {},
     "output_type": "display_data"
    },
    {
     "data": {
      "text/html": [
       "<pre style=\"white-space:pre;overflow-x:auto;line-height:normal;font-family:Menlo,'DejaVu Sans Mono',consolas,'Courier New',monospace\">[2023-01-31T09:22:40.368970+00:00] d549ec566159: Preparing\n",
       "</pre>\n"
      ],
      "text/plain": [
       "[2023-01-31T09:22:40.368970+00:00] d549ec566159: Preparing\n"
      ]
     },
     "metadata": {},
     "output_type": "display_data"
    },
    {
     "data": {
      "text/html": [
       "<pre style=\"white-space:pre;overflow-x:auto;line-height:normal;font-family:Menlo,'DejaVu Sans Mono',consolas,'Courier New',monospace\">[2023-01-31T09:22:40.368974+00:00] 22c29febde3f: Preparing\n",
       "</pre>\n"
      ],
      "text/plain": [
       "[2023-01-31T09:22:40.368974+00:00] 22c29febde3f: Preparing\n"
      ]
     },
     "metadata": {},
     "output_type": "display_data"
    },
    {
     "data": {
      "text/html": [
       "<pre style=\"white-space:pre;overflow-x:auto;line-height:normal;font-family:Menlo,'DejaVu Sans Mono',consolas,'Courier New',monospace\">[2023-01-31T09:22:40.368976+00:00] e42ec6c46a91: Preparing\n",
       "</pre>\n"
      ],
      "text/plain": [
       "[2023-01-31T09:22:40.368976+00:00] e42ec6c46a91: Preparing\n"
      ]
     },
     "metadata": {},
     "output_type": "display_data"
    },
    {
     "data": {
      "text/html": [
       "<pre style=\"white-space:pre;overflow-x:auto;line-height:normal;font-family:Menlo,'DejaVu Sans Mono',consolas,'Courier New',monospace\">[2023-01-31T09:22:40.368981+00:00] 52400b17e008: Preparing\n",
       "</pre>\n"
      ],
      "text/plain": [
       "[2023-01-31T09:22:40.368981+00:00] 52400b17e008: Preparing\n"
      ]
     },
     "metadata": {},
     "output_type": "display_data"
    },
    {
     "data": {
      "text/html": [
       "<pre style=\"white-space:pre;overflow-x:auto;line-height:normal;font-family:Menlo,'DejaVu Sans Mono',consolas,'Courier New',monospace\">[2023-01-31T09:22:40.368983+00:00] dc6462f7bb8b: Preparing\n",
       "</pre>\n"
      ],
      "text/plain": [
       "[2023-01-31T09:22:40.368983+00:00] dc6462f7bb8b: Preparing\n"
      ]
     },
     "metadata": {},
     "output_type": "display_data"
    },
    {
     "data": {
      "text/html": [
       "<pre style=\"white-space:pre;overflow-x:auto;line-height:normal;font-family:Menlo,'DejaVu Sans Mono',consolas,'Courier New',monospace\">[2023-01-31T09:22:40.368985+00:00] a4db1a405763: Preparing\n",
       "</pre>\n"
      ],
      "text/plain": [
       "[2023-01-31T09:22:40.368985+00:00] a4db1a405763: Preparing\n"
      ]
     },
     "metadata": {},
     "output_type": "display_data"
    },
    {
     "data": {
      "text/html": [
       "<pre style=\"white-space:pre;overflow-x:auto;line-height:normal;font-family:Menlo,'DejaVu Sans Mono',consolas,'Courier New',monospace\">[2023-01-31T09:22:40.369000+00:00] 9f4f964da727: Preparing\n",
       "</pre>\n"
      ],
      "text/plain": [
       "[2023-01-31T09:22:40.369000+00:00] 9f4f964da727: Preparing\n"
      ]
     },
     "metadata": {},
     "output_type": "display_data"
    },
    {
     "data": {
      "text/html": [
       "<pre style=\"white-space:pre;overflow-x:auto;line-height:normal;font-family:Menlo,'DejaVu Sans Mono',consolas,'Courier New',monospace\">[2023-01-31T09:22:40.369016+00:00] 49b333f7bad4: Preparing\n",
       "</pre>\n"
      ],
      "text/plain": [
       "[2023-01-31T09:22:40.369016+00:00] 49b333f7bad4: Preparing\n"
      ]
     },
     "metadata": {},
     "output_type": "display_data"
    },
    {
     "data": {
      "text/html": [
       "<pre style=\"white-space:pre;overflow-x:auto;line-height:normal;font-family:Menlo,'DejaVu Sans Mono',consolas,'Courier New',monospace\">[2023-01-31T09:22:40.369019+00:00] a463dbda4664: Preparing\n",
       "</pre>\n"
      ],
      "text/plain": [
       "[2023-01-31T09:22:40.369019+00:00] a463dbda4664: Preparing\n"
      ]
     },
     "metadata": {},
     "output_type": "display_data"
    },
    {
     "data": {
      "text/html": [
       "<pre style=\"white-space:pre;overflow-x:auto;line-height:normal;font-family:Menlo,'DejaVu Sans Mono',consolas,'Courier New',monospace\">[2023-01-31T09:22:40.369022+00:00] a9099c3159f5: Preparing\n",
       "</pre>\n"
      ],
      "text/plain": [
       "[2023-01-31T09:22:40.369022+00:00] a9099c3159f5: Preparing\n"
      ]
     },
     "metadata": {},
     "output_type": "display_data"
    },
    {
     "data": {
      "text/html": [
       "<pre style=\"white-space:pre;overflow-x:auto;line-height:normal;font-family:Menlo,'DejaVu Sans Mono',consolas,'Courier New',monospace\">[2023-01-31T09:22:40.369028+00:00] dc6462f7bb8b: Waiting\n",
       "</pre>\n"
      ],
      "text/plain": [
       "[2023-01-31T09:22:40.369028+00:00] dc6462f7bb8b: Waiting\n"
      ]
     },
     "metadata": {},
     "output_type": "display_data"
    },
    {
     "data": {
      "text/html": [
       "<pre style=\"white-space:pre;overflow-x:auto;line-height:normal;font-family:Menlo,'DejaVu Sans Mono',consolas,'Courier New',monospace\">[2023-01-31T09:22:40.369042+00:00] a4db1a405763: Waiting\n",
       "</pre>\n"
      ],
      "text/plain": [
       "[2023-01-31T09:22:40.369042+00:00] a4db1a405763: Waiting\n"
      ]
     },
     "metadata": {},
     "output_type": "display_data"
    },
    {
     "data": {
      "text/html": [
       "<pre style=\"white-space:pre;overflow-x:auto;line-height:normal;font-family:Menlo,'DejaVu Sans Mono',consolas,'Courier New',monospace\">[2023-01-31T09:22:40.369045+00:00] 9f4f964da727: Waiting\n",
       "</pre>\n"
      ],
      "text/plain": [
       "[2023-01-31T09:22:40.369045+00:00] 9f4f964da727: Waiting\n"
      ]
     },
     "metadata": {},
     "output_type": "display_data"
    },
    {
     "data": {
      "text/html": [
       "<pre style=\"white-space:pre;overflow-x:auto;line-height:normal;font-family:Menlo,'DejaVu Sans Mono',consolas,'Courier New',monospace\">[2023-01-31T09:22:40.369046+00:00] 49b333f7bad4: Waiting\n",
       "</pre>\n"
      ],
      "text/plain": [
       "[2023-01-31T09:22:40.369046+00:00] 49b333f7bad4: Waiting\n"
      ]
     },
     "metadata": {},
     "output_type": "display_data"
    },
    {
     "data": {
      "text/html": [
       "<pre style=\"white-space:pre;overflow-x:auto;line-height:normal;font-family:Menlo,'DejaVu Sans Mono',consolas,'Courier New',monospace\">[2023-01-31T09:22:40.369056+00:00] a9099c3159f5: Waiting\n",
       "</pre>\n"
      ],
      "text/plain": [
       "[2023-01-31T09:22:40.369056+00:00] a9099c3159f5: Waiting\n"
      ]
     },
     "metadata": {},
     "output_type": "display_data"
    },
    {
     "data": {
      "text/html": [
       "<pre style=\"white-space:pre;overflow-x:auto;line-height:normal;font-family:Menlo,'DejaVu Sans Mono',consolas,'Courier New',monospace\">[2023-01-31T09:22:40.369058+00:00] a463dbda4664: Waiting\n",
       "</pre>\n"
      ],
      "text/plain": [
       "[2023-01-31T09:22:40.369058+00:00] a463dbda4664: Waiting\n"
      ]
     },
     "metadata": {},
     "output_type": "display_data"
    },
    {
     "data": {
      "text/html": [
       "<pre style=\"white-space:pre;overflow-x:auto;line-height:normal;font-family:Menlo,'DejaVu Sans Mono',consolas,'Courier New',monospace\">[2023-01-31T09:22:40.405911+00:00] d323c74cb8be: Layer already exists\n",
       "</pre>\n"
      ],
      "text/plain": [
       "[2023-01-31T09:22:40.405911+00:00] d323c74cb8be: Layer already exists\n"
      ]
     },
     "metadata": {},
     "output_type": "display_data"
    },
    {
     "data": {
      "text/html": [
       "<pre style=\"white-space:pre;overflow-x:auto;line-height:normal;font-family:Menlo,'DejaVu Sans Mono',consolas,'Courier New',monospace\">[2023-01-31T09:22:40.404030+00:00] d549ec566159: Layer already exists\n",
       "</pre>\n"
      ],
      "text/plain": [
       "[2023-01-31T09:22:40.404030+00:00] d549ec566159: Layer already exists\n"
      ]
     },
     "metadata": {},
     "output_type": "display_data"
    },
    {
     "data": {
      "text/html": [
       "<pre style=\"white-space:pre;overflow-x:auto;line-height:normal;font-family:Menlo,'DejaVu Sans Mono',consolas,'Courier New',monospace\">[2023-01-31T09:22:40.406015+00:00] d5b17d98dbd1: Layer already exists\n",
       "</pre>\n"
      ],
      "text/plain": [
       "[2023-01-31T09:22:40.406015+00:00] d5b17d98dbd1: Layer already exists\n"
      ]
     },
     "metadata": {},
     "output_type": "display_data"
    },
    {
     "data": {
      "text/html": [
       "<pre style=\"white-space:pre;overflow-x:auto;line-height:normal;font-family:Menlo,'DejaVu Sans Mono',consolas,'Courier New',monospace\">[2023-01-31T09:22:40.406192+00:00] e42ec6c46a91: Layer already exists\n",
       "</pre>\n"
      ],
      "text/plain": [
       "[2023-01-31T09:22:40.406192+00:00] e42ec6c46a91: Layer already exists\n"
      ]
     },
     "metadata": {},
     "output_type": "display_data"
    },
    {
     "data": {
      "text/html": [
       "<pre style=\"white-space:pre;overflow-x:auto;line-height:normal;font-family:Menlo,'DejaVu Sans Mono',consolas,'Courier New',monospace\">[2023-01-31T09:22:40.445752+00:00] 9f4f964da727: Layer already exists\n",
       "</pre>\n"
      ],
      "text/plain": [
       "[2023-01-31T09:22:40.445752+00:00] 9f4f964da727: Layer already exists\n"
      ]
     },
     "metadata": {},
     "output_type": "display_data"
    },
    {
     "data": {
      "text/html": [
       "<pre style=\"white-space:pre;overflow-x:auto;line-height:normal;font-family:Menlo,'DejaVu Sans Mono',consolas,'Courier New',monospace\">[2023-01-31T09:22:40.446493+00:00] a4db1a405763: Layer already exists\n",
       "</pre>\n"
      ],
      "text/plain": [
       "[2023-01-31T09:22:40.446493+00:00] a4db1a405763: Layer already exists\n"
      ]
     },
     "metadata": {},
     "output_type": "display_data"
    },
    {
     "data": {
      "text/html": [
       "<pre style=\"white-space:pre;overflow-x:auto;line-height:normal;font-family:Menlo,'DejaVu Sans Mono',consolas,'Courier New',monospace\">[2023-01-31T09:22:40.421924+00:00] 22c29febde3f: Layer already exists\n",
       "</pre>\n"
      ],
      "text/plain": [
       "[2023-01-31T09:22:40.421924+00:00] 22c29febde3f: Layer already exists\n"
      ]
     },
     "metadata": {},
     "output_type": "display_data"
    },
    {
     "data": {
      "text/html": [
       "<pre style=\"white-space:pre;overflow-x:auto;line-height:normal;font-family:Menlo,'DejaVu Sans Mono',consolas,'Courier New',monospace\">[2023-01-31T09:22:40.442850+00:00] 52400b17e008: Layer already exists\n",
       "</pre>\n"
      ],
      "text/plain": [
       "[2023-01-31T09:22:40.442850+00:00] 52400b17e008: Layer already exists\n"
      ]
     },
     "metadata": {},
     "output_type": "display_data"
    },
    {
     "data": {
      "text/html": [
       "<pre style=\"white-space:pre;overflow-x:auto;line-height:normal;font-family:Menlo,'DejaVu Sans Mono',consolas,'Courier New',monospace\">[2023-01-31T09:22:40.447016+00:00] dc6462f7bb8b: Layer already exists\n",
       "</pre>\n"
      ],
      "text/plain": [
       "[2023-01-31T09:22:40.447016+00:00] dc6462f7bb8b: Layer already exists\n"
      ]
     },
     "metadata": {},
     "output_type": "display_data"
    },
    {
     "data": {
      "text/html": [
       "<pre style=\"white-space:pre;overflow-x:auto;line-height:normal;font-family:Menlo,'DejaVu Sans Mono',consolas,'Courier New',monospace\">[2023-01-31T09:22:40.458752+00:00] 49b333f7bad4: Layer already exists\n",
       "</pre>\n"
      ],
      "text/plain": [
       "[2023-01-31T09:22:40.458752+00:00] 49b333f7bad4: Layer already exists\n"
      ]
     },
     "metadata": {},
     "output_type": "display_data"
    },
    {
     "data": {
      "text/html": [
       "<pre style=\"white-space:pre;overflow-x:auto;line-height:normal;font-family:Menlo,'DejaVu Sans Mono',consolas,'Courier New',monospace\">[2023-01-31T09:22:40.468577+00:00] a463dbda4664: Layer already exists\n",
       "</pre>\n"
      ],
      "text/plain": [
       "[2023-01-31T09:22:40.468577+00:00] a463dbda4664: Layer already exists\n"
      ]
     },
     "metadata": {},
     "output_type": "display_data"
    },
    {
     "data": {
      "text/html": [
       "<pre style=\"white-space:pre;overflow-x:auto;line-height:normal;font-family:Menlo,'DejaVu Sans Mono',consolas,'Courier New',monospace\">[2023-01-31T09:22:40.479589+00:00] a9099c3159f5: Layer already exists\n",
       "</pre>\n"
      ],
      "text/plain": [
       "[2023-01-31T09:22:40.479589+00:00] a9099c3159f5: Layer already exists\n"
      ]
     },
     "metadata": {},
     "output_type": "display_data"
    },
    {
     "data": {
      "text/html": [
       "<pre style=\"white-space:pre;overflow-x:auto;line-height:normal;font-family:Menlo,'DejaVu Sans Mono',consolas,'Courier New',monospace\">[2023-01-31T09:22:40.604831+00:00] latest: digest: \n",
       "sha256:9b3e6b50ada0fdbead97ddcd0f1d5ced94aa69c4748c030a5338492def65dd50 size: 2847\n",
       "</pre>\n"
      ],
      "text/plain": [
       "[2023-01-31T09:22:40.604831+00:00] latest: digest: \n",
       "sha256:9b3e6b50ada0fdbead97ddcd0f1d5ced94aa69c4748c030a5338492def65dd50 size: 2847\n"
      ]
     },
     "metadata": {},
     "output_type": "display_data"
    },
    {
     "data": {
      "text/html": [
       "<pre style=\"white-space:pre;overflow-x:auto;line-height:normal;font-family:Menlo,'DejaVu Sans Mono',consolas,'Courier New',monospace\">[2023-01-31T09:22:40.620167+00:00] [TFY-CLIENT]<span style=\"color: #808000; text-decoration-color: #808000\">[==== Docker Image Size:- 1.53GB ====]</span>\n",
       "</pre>\n"
      ],
      "text/plain": [
       "[2023-01-31T09:22:40.620167+00:00] [TFY-CLIENT]\u001b[33m[==== Docker Image Size:- 1.53GB ====]\u001b[0m\n"
      ]
     },
     "metadata": {},
     "output_type": "display_data"
    },
    {
     "data": {
      "text/html": [
       "<pre style=\"white-space:pre;overflow-x:auto;line-height:normal;font-family:Menlo,'DejaVu Sans Mono',consolas,'Courier New',monospace\">[2023-01-31T09:22:40.620181+00:00] [TFY-CLIENT]<span style=\"color: #008080; text-decoration-color: #008080\">[==== Docker logs end ====]</span>\n",
       "</pre>\n"
      ],
      "text/plain": [
       "[2023-01-31T09:22:40.620181+00:00] [TFY-CLIENT]\u001b[36m[==== Docker logs end ====]\u001b[0m\n"
      ]
     },
     "metadata": {},
     "output_type": "display_data"
    },
    {
     "data": {
      "text/html": [
       "<pre style=\"white-space:pre;overflow-x:auto;line-height:normal;font-family:Menlo,'DejaVu Sans Mono',consolas,'Courier New',monospace\">[2023-01-31T09:22:40.620189+00:00] [TFY-CLIENT]<span style=\"color: #008000; text-decoration-color: #008000\">[Done]</span> Docker image built and pushed\n",
       "</pre>\n"
      ],
      "text/plain": [
       "[2023-01-31T09:22:40.620189+00:00] [TFY-CLIENT]\u001b[32m[Done]\u001b[0m Docker image built and pushed\n"
      ]
     },
     "metadata": {},
     "output_type": "display_data"
    },
    {
     "data": {
      "text/html": [
       "<pre style=\"white-space:pre;overflow-x:auto;line-height:normal;font-family:Menlo,'DejaVu Sans Mono',consolas,'Courier New',monospace\">[2023-01-31T09:22:41.287657+00:00] time=\"2023-01-31T09:22:41.287Z\" level=info msg=\"sub-process exited\" argo=true \n",
       "error=\"&lt;nil&gt;\"\n",
       "</pre>\n"
      ],
      "text/plain": [
       "[2023-01-31T09:22:41.287657+00:00] time=\"2023-01-31T09:22:41.287Z\" level=info msg=\"sub-process exited\" argo=true \n",
       "error=\"<nil>\"\n"
      ]
     },
     "metadata": {},
     "output_type": "display_data"
    },
    {
     "data": {
      "text/html": [
       "<pre style=\"white-space:pre;overflow-x:auto;line-height:normal;font-family:Menlo,'DejaVu Sans Mono',consolas,'Courier New',monospace\">[2023-01-31T09:23:20.992204+00:00] INFO:root:Sending request to url: \n",
       "http://truefoundry-servicefoundry-server.truefoundry.svc.cluster.local:3000/v1/x/builds/cldk1641odnk81gpugictggq1 \n",
       "with json {\"status\": \"SUCCEEDED\", \"imageUri\": \n",
       "\"416964291864.dkr.ecr.eu-west-1.amazonaws.com/kotak-demo-deploy-2djoe:11\"}\n",
       "</pre>\n"
      ],
      "text/plain": [
       "[2023-01-31T09:23:20.992204+00:00] INFO:root:Sending request to url: \n",
       "http://truefoundry-servicefoundry-server.truefoundry.svc.cluster.local:3000/v1/x/builds/cldk1641odnk81gpugictggq1 \n",
       "with json {\"status\": \"SUCCEEDED\", \"imageUri\": \n",
       "\"416964291864.dkr.ecr.eu-west-1.amazonaws.com/kotak-demo-deploy-2djoe:11\"}\n"
      ]
     },
     "metadata": {},
     "output_type": "display_data"
    },
    {
     "data": {
      "text/html": [
       "<pre style=\"white-space:pre;overflow-x:auto;line-height:normal;font-family:Menlo,'DejaVu Sans Mono',consolas,'Courier New',monospace\">[2023-01-31T09:23:21.899221+00:00] time=\"2023-01-31T09:23:21.899Z\" level=info msg=\"sub-process exited\" argo=true \n",
       "error=\"&lt;nil&gt;\"\n",
       "</pre>\n"
      ],
      "text/plain": [
       "[2023-01-31T09:23:21.899221+00:00] time=\"2023-01-31T09:23:21.899Z\" level=info msg=\"sub-process exited\" argo=true \n",
       "error=\"<nil>\"\n"
      ]
     },
     "metadata": {},
     "output_type": "display_data"
    },
    {
     "data": {
      "text/html": [
       "<pre style=\"white-space:pre;overflow-x:auto;line-height:normal;font-family:Menlo,'DejaVu Sans Mono',consolas,'Courier New',monospace\">[2023-01-31T09:23:31.339486+00:00] [TFY-CLIENT]<span style=\"color: #008000; text-decoration-color: #008000\">[Done]</span> Image Built Successfully.\n",
       "</pre>\n"
      ],
      "text/plain": [
       "[2023-01-31T09:23:31.339486+00:00] [TFY-CLIENT]\u001b[32m[Done]\u001b[0m Image Built Successfully.\n"
      ]
     },
     "metadata": {},
     "output_type": "display_data"
    },
    {
     "data": {
      "text/html": [
       "<pre style=\"white-space:pre;overflow-x:auto;line-height:normal;font-family:Menlo,'DejaVu Sans Mono',consolas,'Courier New',monospace\">[2023-01-31T09:23:31.339504+00:00] [TFY-CLIENT]<span style=\"color: #008000; text-decoration-color: #008000\">[Done]</span> Kubernetes deployment triggered. It may take 5-10s for the \n",
       "application to be live.\n",
       "</pre>\n"
      ],
      "text/plain": [
       "[2023-01-31T09:23:31.339504+00:00] [TFY-CLIENT]\u001b[32m[Done]\u001b[0m Kubernetes deployment triggered. It may take 5-10s for the \n",
       "application to be live.\n"
      ]
     },
     "metadata": {},
     "output_type": "display_data"
    },
    {
     "name": "stderr",
     "output_type": "stream",
     "text": [
      "2023-01-31 09:23:46,644 servicefoundry INFO     State: 'DEPLOY_SUCCESS'\n"
     ]
    },
    {
     "data": {
      "text/html": [
       "<pre style=\"white-space:pre;overflow-x:auto;line-height:normal;font-family:Menlo,'DejaVu Sans Mono',consolas,'Courier New',monospace\"></pre>\n"
      ],
      "text/plain": []
     },
     "metadata": {},
     "output_type": "display_data"
    },
    {
     "name": "stderr",
     "output_type": "stream",
     "text": [
      "2023-01-31 09:23:47,586 servicefoundry INFO     You can find the application on the dashboard:- 'https://app.truefoundry.com/applications/cldixiuxna9w91gpuf6k2djoe?tab=deployments'\n"
     ]
    }
   ],
   "source": [
    "import logging\n",
    "from getpass import getpass\n",
    "logging.basicConfig(level=logging.INFO, format='%(asctime)s %(name)-12s %(levelname)-8s %(message)s', force=True)\n",
    "\n",
    "from servicefoundry import Build, Service, PythonBuild\n",
    "\n",
    "service = Service(\n",
    "    name=\"deploy\",\n",
    "    image=Build(\n",
    "        build_spec=PythonBuild(\n",
    "            command=\"uvicorn main:app --port 8000 --host 0.0.0.0\",\n",
    "            requirements_path=\"predict_requirements.txt\",\n",
    "        )\n",
    "    ),\n",
    "    ports=[{\"port\": 8000}],\n",
    "    env={\n",
    "        \"TFY_API_KEY\": TFY_API_KEY,\n",
    "        \"MODEL_VERSION_FQN\": MODEL_VERSION_FQN\n",
    "    },\n",
    ")\n",
    "deployment = service.deploy(workspace_fqn=WORKSPACE)"
   ]
  },
  {
   "cell_type": "code",
   "execution_count": null,
   "metadata": {
    "id": "nIxHMOaJeUt2"
   },
   "outputs": [],
   "source": [
    "import mlfoundry\n",
    "\n",
    "client = mlfoundry.get_client()\n",
    "\n",
    "client.log_actuals(\n",
    "    model_version_fqn=MODEL_VERSION_FQN,\n",
    "    actuals=[mlfoundry.Actual(data_id=\"88831787f8ac4c3b80ccfc0f709bf143\", value=130)],\n",
    ")\n"
   ]
  }
 ],
 "metadata": {
  "colab": {
   "collapsed_sections": [
    "etyus4gpQXlJ"
   ],
   "provenance": []
  },
  "kernelspec": {
   "display_name": "Python 3 (ipykernel)",
   "language": "python",
   "name": "python3"
  },
  "language_info": {
   "codemirror_mode": {
    "name": "ipython",
    "version": 3
   },
   "file_extension": ".py",
   "mimetype": "text/x-python",
   "name": "python",
   "nbconvert_exporter": "python",
   "pygments_lexer": "ipython3",
   "version": "3.8.13"
  },
  "widgets": {
   "application/vnd.jupyter.widget-state+json": {
    "0b615887cc064da3af93c40ebeb6db54": {
     "model_module": "@jupyter-widgets/base",
     "model_module_version": "1.2.0",
     "model_name": "LayoutModel",
     "state": {
      "_model_module": "@jupyter-widgets/base",
      "_model_module_version": "1.2.0",
      "_model_name": "LayoutModel",
      "_view_count": null,
      "_view_module": "@jupyter-widgets/base",
      "_view_module_version": "1.2.0",
      "_view_name": "LayoutView",
      "align_content": null,
      "align_items": null,
      "align_self": null,
      "border": null,
      "bottom": null,
      "display": null,
      "flex": null,
      "flex_flow": null,
      "grid_area": null,
      "grid_auto_columns": null,
      "grid_auto_flow": null,
      "grid_auto_rows": null,
      "grid_column": null,
      "grid_gap": null,
      "grid_row": null,
      "grid_template_areas": null,
      "grid_template_columns": null,
      "grid_template_rows": null,
      "height": null,
      "justify_content": null,
      "justify_items": null,
      "left": null,
      "margin": null,
      "max_height": null,
      "max_width": null,
      "min_height": null,
      "min_width": null,
      "object_fit": null,
      "object_position": null,
      "order": null,
      "overflow": null,
      "overflow_x": null,
      "overflow_y": null,
      "padding": null,
      "right": null,
      "top": null,
      "visibility": null,
      "width": null
     }
    },
    "70a2ad495da5498daf839c67c99f8c0b": {
     "model_module": "@jupyter-widgets/output",
     "model_module_version": "1.0.0",
     "model_name": "OutputModel",
     "state": {
      "_dom_classes": [],
      "_model_module": "@jupyter-widgets/output",
      "_model_module_version": "1.0.0",
      "_model_name": "OutputModel",
      "_view_count": null,
      "_view_module": "@jupyter-widgets/output",
      "_view_module_version": "1.0.0",
      "_view_name": "OutputView",
      "layout": "IPY_MODEL_c0025855df4e4758ad76ca740336b36c",
      "msg_id": "",
      "outputs": [
       {
        "data": {
         "text/html": "<pre style=\"white-space:pre;overflow-x:auto;line-height:normal;font-family:Menlo,'DejaVu Sans Mono',consolas,'Courier New',monospace\"><span style=\"color: #008000; text-decoration-color: #008000\">⠇</span> Current state: BUILDING\n</pre>\n",
         "text/plain": "\u001b[32m⠇\u001b[0m Current state: BUILDING\n"
        },
        "metadata": {},
        "output_type": "display_data"
       }
      ]
     }
    },
    "8d2d3426ffd142ce841342146d5132ed": {
     "model_module": "@jupyter-widgets/output",
     "model_module_version": "1.0.0",
     "model_name": "OutputModel",
     "state": {
      "_dom_classes": [],
      "_model_module": "@jupyter-widgets/output",
      "_model_module_version": "1.0.0",
      "_model_name": "OutputModel",
      "_view_count": null,
      "_view_module": "@jupyter-widgets/output",
      "_view_module_version": "1.0.0",
      "_view_name": "OutputView",
      "layout": "IPY_MODEL_a0b8eb3c883747bc88c710101c2a2156",
      "msg_id": "",
      "outputs": [
       {
        "data": {
         "text/html": "<pre style=\"white-space:pre;overflow-x:auto;line-height:normal;font-family:Menlo,'DejaVu Sans Mono',consolas,'Courier New',monospace\"><span style=\"color: #008000; text-decoration-color: #008000\">⠇</span> Current state: BUILDING\n</pre>\n",
         "text/plain": "\u001b[32m⠇\u001b[0m Current state: BUILDING\n"
        },
        "metadata": {},
        "output_type": "display_data"
       }
      ]
     }
    },
    "8e996b8312794aac8c446aecd814556d": {
     "model_module": "@jupyter-widgets/output",
     "model_module_version": "1.0.0",
     "model_name": "OutputModel",
     "state": {
      "_dom_classes": [],
      "_model_module": "@jupyter-widgets/output",
      "_model_module_version": "1.0.0",
      "_model_name": "OutputModel",
      "_view_count": null,
      "_view_module": "@jupyter-widgets/output",
      "_view_module_version": "1.0.0",
      "_view_name": "OutputView",
      "layout": "IPY_MODEL_0b615887cc064da3af93c40ebeb6db54",
      "msg_id": "",
      "outputs": [
       {
        "data": {
         "text/html": "<pre style=\"white-space:pre;overflow-x:auto;line-height:normal;font-family:Menlo,'DejaVu Sans Mono',consolas,'Courier New',monospace\"><span style=\"color: #008000; text-decoration-color: #008000\">⠇</span> Current state: BUILDING\n</pre>\n",
         "text/plain": "\u001b[32m⠇\u001b[0m Current state: BUILDING\n"
        },
        "metadata": {},
        "output_type": "display_data"
       }
      ]
     }
    },
    "a0b8eb3c883747bc88c710101c2a2156": {
     "model_module": "@jupyter-widgets/base",
     "model_module_version": "1.2.0",
     "model_name": "LayoutModel",
     "state": {
      "_model_module": "@jupyter-widgets/base",
      "_model_module_version": "1.2.0",
      "_model_name": "LayoutModel",
      "_view_count": null,
      "_view_module": "@jupyter-widgets/base",
      "_view_module_version": "1.2.0",
      "_view_name": "LayoutView",
      "align_content": null,
      "align_items": null,
      "align_self": null,
      "border": null,
      "bottom": null,
      "display": null,
      "flex": null,
      "flex_flow": null,
      "grid_area": null,
      "grid_auto_columns": null,
      "grid_auto_flow": null,
      "grid_auto_rows": null,
      "grid_column": null,
      "grid_gap": null,
      "grid_row": null,
      "grid_template_areas": null,
      "grid_template_columns": null,
      "grid_template_rows": null,
      "height": null,
      "justify_content": null,
      "justify_items": null,
      "left": null,
      "margin": null,
      "max_height": null,
      "max_width": null,
      "min_height": null,
      "min_width": null,
      "object_fit": null,
      "object_position": null,
      "order": null,
      "overflow": null,
      "overflow_x": null,
      "overflow_y": null,
      "padding": null,
      "right": null,
      "top": null,
      "visibility": null,
      "width": null
     }
    },
    "c0025855df4e4758ad76ca740336b36c": {
     "model_module": "@jupyter-widgets/base",
     "model_module_version": "1.2.0",
     "model_name": "LayoutModel",
     "state": {
      "_model_module": "@jupyter-widgets/base",
      "_model_module_version": "1.2.0",
      "_model_name": "LayoutModel",
      "_view_count": null,
      "_view_module": "@jupyter-widgets/base",
      "_view_module_version": "1.2.0",
      "_view_name": "LayoutView",
      "align_content": null,
      "align_items": null,
      "align_self": null,
      "border": null,
      "bottom": null,
      "display": null,
      "flex": null,
      "flex_flow": null,
      "grid_area": null,
      "grid_auto_columns": null,
      "grid_auto_flow": null,
      "grid_auto_rows": null,
      "grid_column": null,
      "grid_gap": null,
      "grid_row": null,
      "grid_template_areas": null,
      "grid_template_columns": null,
      "grid_template_rows": null,
      "height": null,
      "justify_content": null,
      "justify_items": null,
      "left": null,
      "margin": null,
      "max_height": null,
      "max_width": null,
      "min_height": null,
      "min_width": null,
      "object_fit": null,
      "object_position": null,
      "order": null,
      "overflow": null,
      "overflow_x": null,
      "overflow_y": null,
      "padding": null,
      "right": null,
      "top": null,
      "visibility": null,
      "width": null
     }
    },
    "d2da2d3b73dd4e7781e8c0aa27e4bc3f": {
     "model_module": "@jupyter-widgets/base",
     "model_module_version": "1.2.0",
     "model_name": "LayoutModel",
     "state": {
      "_model_module": "@jupyter-widgets/base",
      "_model_module_version": "1.2.0",
      "_model_name": "LayoutModel",
      "_view_count": null,
      "_view_module": "@jupyter-widgets/base",
      "_view_module_version": "1.2.0",
      "_view_name": "LayoutView",
      "align_content": null,
      "align_items": null,
      "align_self": null,
      "border": null,
      "bottom": null,
      "display": null,
      "flex": null,
      "flex_flow": null,
      "grid_area": null,
      "grid_auto_columns": null,
      "grid_auto_flow": null,
      "grid_auto_rows": null,
      "grid_column": null,
      "grid_gap": null,
      "grid_row": null,
      "grid_template_areas": null,
      "grid_template_columns": null,
      "grid_template_rows": null,
      "height": null,
      "justify_content": null,
      "justify_items": null,
      "left": null,
      "margin": null,
      "max_height": null,
      "max_width": null,
      "min_height": null,
      "min_width": null,
      "object_fit": null,
      "object_position": null,
      "order": null,
      "overflow": null,
      "overflow_x": null,
      "overflow_y": null,
      "padding": null,
      "right": null,
      "top": null,
      "visibility": null,
      "width": null
     }
    },
    "eb070a842afe4f39b86c82efb3c435f5": {
     "model_module": "@jupyter-widgets/output",
     "model_module_version": "1.0.0",
     "model_name": "OutputModel",
     "state": {
      "_dom_classes": [],
      "_model_module": "@jupyter-widgets/output",
      "_model_module_version": "1.0.0",
      "_model_name": "OutputModel",
      "_view_count": null,
      "_view_module": "@jupyter-widgets/output",
      "_view_module_version": "1.0.0",
      "_view_name": "OutputView",
      "layout": "IPY_MODEL_f1610cffe2af4c5b8970148ea8839475",
      "msg_id": "",
      "outputs": [
       {
        "data": {
         "text/html": "<pre style=\"white-space:pre;overflow-x:auto;line-height:normal;font-family:Menlo,'DejaVu Sans Mono',consolas,'Courier New',monospace\"><span style=\"color: #008000; text-decoration-color: #008000\">⠇</span> Current state: BUILDING\n</pre>\n",
         "text/plain": "\u001b[32m⠇\u001b[0m Current state: BUILDING\n"
        },
        "metadata": {},
        "output_type": "display_data"
       }
      ]
     }
    },
    "f1610cffe2af4c5b8970148ea8839475": {
     "model_module": "@jupyter-widgets/base",
     "model_module_version": "1.2.0",
     "model_name": "LayoutModel",
     "state": {
      "_model_module": "@jupyter-widgets/base",
      "_model_module_version": "1.2.0",
      "_model_name": "LayoutModel",
      "_view_count": null,
      "_view_module": "@jupyter-widgets/base",
      "_view_module_version": "1.2.0",
      "_view_name": "LayoutView",
      "align_content": null,
      "align_items": null,
      "align_self": null,
      "border": null,
      "bottom": null,
      "display": null,
      "flex": null,
      "flex_flow": null,
      "grid_area": null,
      "grid_auto_columns": null,
      "grid_auto_flow": null,
      "grid_auto_rows": null,
      "grid_column": null,
      "grid_gap": null,
      "grid_row": null,
      "grid_template_areas": null,
      "grid_template_columns": null,
      "grid_template_rows": null,
      "height": null,
      "justify_content": null,
      "justify_items": null,
      "left": null,
      "margin": null,
      "max_height": null,
      "max_width": null,
      "min_height": null,
      "min_width": null,
      "object_fit": null,
      "object_position": null,
      "order": null,
      "overflow": null,
      "overflow_x": null,
      "overflow_y": null,
      "padding": null,
      "right": null,
      "top": null,
      "visibility": null,
      "width": null
     }
    },
    "fa235013ea684b5b8d6017a249439a3a": {
     "model_module": "@jupyter-widgets/output",
     "model_module_version": "1.0.0",
     "model_name": "OutputModel",
     "state": {
      "_dom_classes": [],
      "_model_module": "@jupyter-widgets/output",
      "_model_module_version": "1.0.0",
      "_model_name": "OutputModel",
      "_view_count": null,
      "_view_module": "@jupyter-widgets/output",
      "_view_module_version": "1.0.0",
      "_view_name": "OutputView",
      "layout": "IPY_MODEL_d2da2d3b73dd4e7781e8c0aa27e4bc3f",
      "msg_id": "",
      "outputs": [
       {
        "data": {
         "text/html": "<pre style=\"white-space:pre;overflow-x:auto;line-height:normal;font-family:Menlo,'DejaVu Sans Mono',consolas,'Courier New',monospace\"><span style=\"color: #008000; text-decoration-color: #008000\">⠴</span> Current state: BUILDING\n</pre>\n",
         "text/plain": "\u001b[32m⠴\u001b[0m Current state: BUILDING\n"
        },
        "metadata": {},
        "output_type": "display_data"
       }
      ]
     }
    }
   }
  }
 },
 "nbformat": 4,
 "nbformat_minor": 1
}
