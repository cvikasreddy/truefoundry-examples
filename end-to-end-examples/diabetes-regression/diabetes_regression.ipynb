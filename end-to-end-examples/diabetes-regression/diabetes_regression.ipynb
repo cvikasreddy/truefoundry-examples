{
 "cells": [
  {
   "cell_type": "markdown",
   "metadata": {
    "id": "2c6nhZIxSvl2"
   },
   "source": [
    "# 🛠 Setup"
   ]
  },
  {
   "cell_type": "code",
   "execution_count": null,
   "metadata": {
    "colab": {
     "base_uri": "https://localhost:8080/"
    },
    "id": "rnalU7uLTgmr",
    "outputId": "6eb49ff0-9e66-4f43-9381-4fd04867246d"
   },
   "outputs": [],
   "source": [
    "pip install -U \"servicefoundry==0.6.6\" \"mlfoundry==0.6.1\""
   ]
  },
  {
   "cell_type": "code",
   "execution_count": null,
   "metadata": {
    "id": "NN133xapzkt7"
   },
   "outputs": [],
   "source": [
    "import logging\n",
    "[logging.root.removeHandler(h) for h in logging.root.handlers]\n",
    "logging.basicConfig(level=logging.INFO, format='%(asctime)s [%(name)s] %(levelname)-8s %(message)s')"
   ]
  },
  {
   "cell_type": "code",
   "execution_count": null,
   "metadata": {
    "colab": {
     "base_uri": "https://localhost:8080/"
    },
    "id": "FmmB5HHfXvES",
    "outputId": "11cc91bc-6079-4aea-ec15-3792e4862121"
   },
   "outputs": [],
   "source": [
    "!sfy login"
   ]
  },
  {
   "cell_type": "code",
   "execution_count": null,
   "metadata": {},
   "outputs": [],
   "source": [
    "!git clone https://github.com/truefoundry/truefoundry-examples.git\n",
    "%cd truefoundry-examples\n",
    "!git checkout demo-add\n",
    "%cd end-to-end-examples/diabetes-regression"
   ]
  },
  {
   "cell_type": "code",
   "execution_count": null,
   "metadata": {
    "colab": {
     "base_uri": "https://localhost:8080/"
    },
    "id": "YyzamMrzNqkS",
    "outputId": "cddb17d7-5bb5-4b0e-9c09-04dcf39de2da"
   },
   "outputs": [],
   "source": [
    "# Copy workspace FQN from https://app.truefoundry.com/workspaces\n",
    "from getpass import getpass\n",
    "\n",
    "WORKSPACE=\"tfy-cluster-euwe1:demos\"\n",
    "TFY_API_KEY = getpass(\"Please enter your API Key,( https://app.truefoundry.com/settings ):-\")"
   ]
  },
  {
   "cell_type": "markdown",
   "metadata": {
    "id": "ivE5PJKDowFv"
   },
   "source": [
    "# ⚡ Training a ML Model using Jobs\n",
    "In this section we will deploy a training job that trains a SVM model on iris dataset"
   ]
  },
  {
   "cell_type": "code",
   "execution_count": null,
   "metadata": {
    "colab": {
     "base_uri": "https://localhost:8080/"
    },
    "id": "6W3ZGvOCl_wF",
    "outputId": "703fc603-42fe-429c-c166-6cb730b630f0"
   },
   "outputs": [],
   "source": [
    "! mkdir -p /content/demo/regression/\n",
    "%cd /content/demo/regression/"
   ]
  },
  {
   "cell_type": "code",
   "execution_count": null,
   "metadata": {
    "colab": {
     "base_uri": "https://localhost:8080/"
    },
    "id": "wkFzcKDAsADd",
    "outputId": "3825e091-d1db-4fe6-d201-d3c2128bedb9"
   },
   "outputs": [],
   "source": [
    "%%writefile train.py\n",
    "import argparse\n",
    "\n",
    "import matplotlib.pyplot as plt\n",
    "import mlfoundry\n",
    "from sklearn.datasets import load_diabetes\n",
    "from sklearn.model_selection import train_test_split\n",
    "from sklearn.compose import TransformedTargetRegressor\n",
    "from sklearn.preprocessing import QuantileTransformer\n",
    "from sklearn.svm import SVC\n",
    "from sklearn.svm import SVR\n",
    "from sklearn.metrics import PredictionErrorDisplay\n",
    "\n",
    "\n",
    "def train(kernel: str):\n",
    "    X, y = load_diabetes(as_frame=True, return_X_y=True)\n",
    "    X_train, X_test, y_train, y_test = train_test_split(\n",
    "        X, y, test_size=0.2, random_state=42\n",
    "    )\n",
    "\n",
    "    regressor = SVR(kernel=kernel)\n",
    "    model = TransformedTargetRegressor(\n",
    "        regressor=regressor,\n",
    "        transformer=QuantileTransformer(n_quantiles=100, output_distribution=\"normal\"),\n",
    "    ).fit(X_train, y_train)\n",
    "    model.fit(X_train, y_train)\n",
    "\n",
    "    y_pred = model.predict(X_test)\n",
    "\n",
    "    PredictionErrorDisplay.from_predictions(\n",
    "        y_test,\n",
    "        y_pred,\n",
    "        kind=\"actual_vs_predicted\",\n",
    "        scatter_kwargs={\"alpha\": 0.5},\n",
    "    )\n",
    "\n",
    "    run = mlfoundry.get_client().create_run(\n",
    "        project_name=\"diabetes-regression\", run_name=\"SVR-with-QT\"\n",
    "    )\n",
    "\n",
    "    run.log_params(regressor.get_params())\n",
    "    run.log_metrics({\"score\": model.score(X_test, y_test)})\n",
    "    run.log_plots({\"actual_vs_predicted\": plt})\n",
    "\n",
    "    model_version = run.log_model(\n",
    "        name=\"diabetes-regression\",\n",
    "        model=model,\n",
    "        framework=\"sklearn\",\n",
    "        description=\"SVC model trained on initial data\",\n",
    "        model_schema={\n",
    "          \"features\": [\n",
    "            {\"name\": c, \"type\": \"float\"} for c in X.columns\n",
    "          ],\n",
    "          \"prediction\": \"numeric\",\n",
    "        },\n",
    "        custom_metrics=[{\"name\": \"mean_square_error\", \"type\": \"metric\", \"value_type\": \"float\"}]\n",
    "    )\n",
    "    print(f\"Logged model: {model_version.fqn}\")\n",
    "    run.end()\n",
    "\n",
    "\n",
    "if __name__ == \"__main__\":\n",
    "    parser = argparse.ArgumentParser()\n",
    "    parser.add_argument(\"--kernel\", default=\"linear\", type=str)\n",
    "    args = parser.parse_args()\n",
    "\n",
    "    train(kernel=args.kernel)"
   ]
  },
  {
   "cell_type": "code",
   "execution_count": null,
   "metadata": {
    "colab": {
     "base_uri": "https://localhost:8080/"
    },
    "id": "tP1zwU-Opc2w",
    "outputId": "fbbb5508-da3c-4475-e71b-9c867c270450"
   },
   "outputs": [],
   "source": [
    "%%writefile requirements.txt\n",
    "pandas==1.3.5\n",
    "scikit-learn==1.2.1\n",
    "mlfoundry==0.6.1\n",
    "matplotlib==3.2.2"
   ]
  },
  {
   "cell_type": "code",
   "execution_count": null,
   "metadata": {
    "colab": {
     "base_uri": "https://localhost:8080/",
     "height": 1000,
     "referenced_widgets": [
      "70a2ad495da5498daf839c67c99f8c0b",
      "c0025855df4e4758ad76ca740336b36c"
     ]
    },
    "id": "-QD4LaylreUG",
    "outputId": "c51a72a2-2086-4bb8-ce4e-4fdab6aa2bc2"
   },
   "outputs": [],
   "source": [
    "import logging\n",
    "from getpass import getpass\n",
    "\n",
    "from servicefoundry import Build, Job, PythonBuild\n",
    "\n",
    "logging.basicConfig(level=logging.INFO, format='%(asctime)s %(name)-12s %(levelname)-8s %(message)s', force=True)\n",
    "\n",
    "job = Job(\n",
    "    name=\"train\",\n",
    "    image=Build(\n",
    "        build_spec=PythonBuild(\n",
    "            command=\"python train.py\",\n",
    "            requirements_path=\"requirements.txt\",\n",
    "        )\n",
    "    ),\n",
    "    env={\n",
    "        \"TFY_API_KEY\": TFY_API_KEY\n",
    "    }\n",
    ")\n",
    "deployment = job.deploy(workspace_fqn=WORKSPACE)"
   ]
  },
  {
   "cell_type": "code",
   "execution_count": null,
   "metadata": {
    "colab": {
     "base_uri": "https://localhost:8080/"
    },
    "id": "IfPPWZgXS_Z-",
    "outputId": "9c586d9e-137e-4743-9a4a-8f855b8cd043"
   },
   "outputs": [],
   "source": [
    "from servicefoundry.internal.experimental import trigger_job\n",
    "\n",
    "JOB_DEPLOYMENT_FQN=input(\"Enter Job Deployment FQN:-\")\n",
    "\n",
    "for kernel in [\"linear\", \"rbf\", \"poly\"]:\n",
    "    trigger_job(deployment_fqn=JOB_DEPLOYMENT_FQN, command=f\"python train.py --kernel {kernel}\")"
   ]
  },
  {
   "cell_type": "markdown",
   "metadata": {
    "id": "YDgTLGNHta97"
   },
   "source": [
    "# ☁ Deploy ML Model using a Service (FastAPI)\n",
    "In this section we will deploy the model trained and logged by our training job as an API"
   ]
  },
  {
   "cell_type": "code",
   "execution_count": null,
   "metadata": {
    "colab": {
     "base_uri": "https://localhost:8080/"
    },
    "id": "YGYMQMYWuOEx",
    "outputId": "584c05eb-b824-4ad4-b974-24a727e4a7ae"
   },
   "outputs": [],
   "source": [
    "!mkdir -p /content/demo/regression/\n",
    "%cd /content/demo/regression/"
   ]
  },
  {
   "cell_type": "code",
   "execution_count": null,
   "metadata": {
    "colab": {
     "base_uri": "https://localhost:8080/"
    },
    "id": "9fa0hvjtuUE2",
    "outputId": "c26919e3-12db-482f-897f-7b6bcbb3fefe"
   },
   "outputs": [],
   "source": [
    "%%writefile main.py\n",
    "import os\n",
    "from typing import List\n",
    "import uuid\n",
    "from datetime import datetime\n",
    "\n",
    "import mlfoundry as mlf\n",
    "import pandas as pd\n",
    "from pydantic import BaseModel\n",
    "from fastapi import FastAPI\n",
    "\n",
    "app = FastAPI(docs_url=\"/\")\n",
    "\n",
    "\n",
    "MODEL_VERSION_FQN = os.environ[\"MODEL_VERSION_FQN\"]\n",
    "client = mlf.get_client()\n",
    "model = client.get_model(MODEL_VERSION_FQN).load()\n",
    "\n",
    "\n",
    "class Instance(BaseModel):\n",
    "    age: float\n",
    "    sex: float\n",
    "    bmi: float\n",
    "    bp: float\n",
    "    s1: float\n",
    "    s2: float\n",
    "    s3: float\n",
    "    s4: float\n",
    "    s5: float\n",
    "    s6: float\n",
    "\n",
    "\n",
    "class Request(BaseModel):\n",
    "    instances: List[Instance]\n",
    "\n",
    "class Response(BaseModel):\n",
    "    predictions: List[float]\n",
    "\n",
    "\n",
    "@app.post(\"/predict\", response_model=Response)\n",
    "def predict(request: Request):\n",
    "    features = request.dict()[\"instances\"]\n",
    "\n",
    "    features_df = pd.DataFrame(features)\n",
    "    predictions = [float(p) for p in model.predict(features_df)]\n",
    "    client.log_predictions(\n",
    "        model_version_fqn=MODEL_VERSION_FQN,\n",
    "        predictions=[\n",
    "            mlf.Prediction(\n",
    "                data_id=uuid.uuid4().hex,\n",
    "                features=feature,\n",
    "                prediction_data={\n",
    "                    \"value\": prediction,\n",
    "                },\n",
    "                occurred_at=datetime.utcnow(),\n",
    "                raw_data={\"data\": \"any_data\"},\n",
    "            )\n",
    "            for feature, prediction in zip(features, predictions)\n",
    "        ],\n",
    "    )\n",
    "    return Response(predictions=predictions)"
   ]
  },
  {
   "cell_type": "code",
   "execution_count": null,
   "metadata": {
    "colab": {
     "base_uri": "https://localhost:8080/"
    },
    "id": "WQuaARNIyAF3",
    "outputId": "d21c2077-995e-4668-8ad7-5df5500a5100"
   },
   "outputs": [],
   "source": [
    "%%writefile predict_requirements.txt\n",
    "pandas==1.3.5\n",
    "scikit-learn==1.2.1\n",
    "mlfoundry==0.6.1\n",
    "fastapi==0.81.0\n",
    "uvicorn==0.18.3"
   ]
  },
  {
   "cell_type": "code",
   "execution_count": null,
   "metadata": {
    "colab": {
     "base_uri": "https://localhost:8080/"
    },
    "id": "Nvcm1rEiPkri",
    "outputId": "f1a0887a-ddb1-4f5c-c44a-9b7c5af219dc"
   },
   "outputs": [],
   "source": [
    "MODEL_VERSION_FQN = input(\"Please enter the model version fqn:-\")"
   ]
  },
  {
   "cell_type": "code",
   "execution_count": null,
   "metadata": {
    "colab": {
     "base_uri": "https://localhost:8080/",
     "height": 1000,
     "referenced_widgets": [
      "eb070a842afe4f39b86c82efb3c435f5",
      "f1610cffe2af4c5b8970148ea8839475"
     ]
    },
    "id": "bjNTxbRuyDQu",
    "outputId": "cb5fad0a-eb6e-4bfe-f672-f5ac2e243fef"
   },
   "outputs": [],
   "source": [
    "import logging\n",
    "from getpass import getpass\n",
    "logging.basicConfig(level=logging.INFO, format='%(asctime)s %(name)-12s %(levelname)-8s %(message)s', force=True)\n",
    "\n",
    "from servicefoundry import Build, Service, PythonBuild\n",
    "\n",
    "service = Service(\n",
    "    name=\"deploy\",\n",
    "    image=Build(\n",
    "        build_spec=PythonBuild(\n",
    "            command=\"uvicorn main:app --port 8000 --host 0.0.0.0\",\n",
    "            requirements_path=\"predict_requirements.txt\",\n",
    "        )\n",
    "    ),\n",
    "    ports=[{\"port\": 8000}],\n",
    "    env={\n",
    "        \"TFY_API_KEY\": TFY_API_KEY,\n",
    "        \"MODEL_VERSION_FQN\": MODEL_VERSION_FQN\n",
    "    },\n",
    ")\n",
    "deployment = service.deploy(workspace_fqn=WORKSPACE)"
   ]
  },
  {
   "cell_type": "code",
   "execution_count": null,
   "metadata": {
    "id": "nIxHMOaJeUt2"
   },
   "outputs": [],
   "source": [
    "import mlfoundry\n",
    "\n",
    "client = mlfoundry.get_client()\n",
    "\n",
    "client.log_actuals(\n",
    "    model_version_fqn=MODEL_VERSION_FQN,\n",
    "    actuals=[mlfoundry.Actual(data_id=\"88831787f8ac4c3b80ccfc0f709bf143\", value=130)],\n",
    ")\n"
   ]
  }
 ],
 "metadata": {
  "colab": {
   "collapsed_sections": [
    "etyus4gpQXlJ"
   ],
   "provenance": []
  },
  "kernelspec": {
   "display_name": "Python 3 (ipykernel)",
   "language": "python",
   "name": "python3"
  },
  "language_info": {
   "codemirror_mode": {
    "name": "ipython",
    "version": 3
   },
   "file_extension": ".py",
   "mimetype": "text/x-python",
   "name": "python",
   "nbconvert_exporter": "python",
   "pygments_lexer": "ipython3",
   "version": "3.8.13"
  },
  "widgets": {
   "application/vnd.jupyter.widget-state+json": {
    "0b615887cc064da3af93c40ebeb6db54": {
     "model_module": "@jupyter-widgets/base",
     "model_module_version": "1.2.0",
     "model_name": "LayoutModel",
     "state": {
      "_model_module": "@jupyter-widgets/base",
      "_model_module_version": "1.2.0",
      "_model_name": "LayoutModel",
      "_view_count": null,
      "_view_module": "@jupyter-widgets/base",
      "_view_module_version": "1.2.0",
      "_view_name": "LayoutView",
      "align_content": null,
      "align_items": null,
      "align_self": null,
      "border": null,
      "bottom": null,
      "display": null,
      "flex": null,
      "flex_flow": null,
      "grid_area": null,
      "grid_auto_columns": null,
      "grid_auto_flow": null,
      "grid_auto_rows": null,
      "grid_column": null,
      "grid_gap": null,
      "grid_row": null,
      "grid_template_areas": null,
      "grid_template_columns": null,
      "grid_template_rows": null,
      "height": null,
      "justify_content": null,
      "justify_items": null,
      "left": null,
      "margin": null,
      "max_height": null,
      "max_width": null,
      "min_height": null,
      "min_width": null,
      "object_fit": null,
      "object_position": null,
      "order": null,
      "overflow": null,
      "overflow_x": null,
      "overflow_y": null,
      "padding": null,
      "right": null,
      "top": null,
      "visibility": null,
      "width": null
     }
    },
    "70a2ad495da5498daf839c67c99f8c0b": {
     "model_module": "@jupyter-widgets/output",
     "model_module_version": "1.0.0",
     "model_name": "OutputModel",
     "state": {
      "_dom_classes": [],
      "_model_module": "@jupyter-widgets/output",
      "_model_module_version": "1.0.0",
      "_model_name": "OutputModel",
      "_view_count": null,
      "_view_module": "@jupyter-widgets/output",
      "_view_module_version": "1.0.0",
      "_view_name": "OutputView",
      "layout": "IPY_MODEL_c0025855df4e4758ad76ca740336b36c",
      "msg_id": "",
      "outputs": [
       {
        "data": {
         "text/html": "<pre style=\"white-space:pre;overflow-x:auto;line-height:normal;font-family:Menlo,'DejaVu Sans Mono',consolas,'Courier New',monospace\"><span style=\"color: #008000; text-decoration-color: #008000\">⠇</span> Current state: BUILDING\n</pre>\n",
         "text/plain": "\u001b[32m⠇\u001b[0m Current state: BUILDING\n"
        },
        "metadata": {},
        "output_type": "display_data"
       }
      ]
     }
    },
    "8d2d3426ffd142ce841342146d5132ed": {
     "model_module": "@jupyter-widgets/output",
     "model_module_version": "1.0.0",
     "model_name": "OutputModel",
     "state": {
      "_dom_classes": [],
      "_model_module": "@jupyter-widgets/output",
      "_model_module_version": "1.0.0",
      "_model_name": "OutputModel",
      "_view_count": null,
      "_view_module": "@jupyter-widgets/output",
      "_view_module_version": "1.0.0",
      "_view_name": "OutputView",
      "layout": "IPY_MODEL_a0b8eb3c883747bc88c710101c2a2156",
      "msg_id": "",
      "outputs": [
       {
        "data": {
         "text/html": "<pre style=\"white-space:pre;overflow-x:auto;line-height:normal;font-family:Menlo,'DejaVu Sans Mono',consolas,'Courier New',monospace\"><span style=\"color: #008000; text-decoration-color: #008000\">⠇</span> Current state: BUILDING\n</pre>\n",
         "text/plain": "\u001b[32m⠇\u001b[0m Current state: BUILDING\n"
        },
        "metadata": {},
        "output_type": "display_data"
       }
      ]
     }
    },
    "8e996b8312794aac8c446aecd814556d": {
     "model_module": "@jupyter-widgets/output",
     "model_module_version": "1.0.0",
     "model_name": "OutputModel",
     "state": {
      "_dom_classes": [],
      "_model_module": "@jupyter-widgets/output",
      "_model_module_version": "1.0.0",
      "_model_name": "OutputModel",
      "_view_count": null,
      "_view_module": "@jupyter-widgets/output",
      "_view_module_version": "1.0.0",
      "_view_name": "OutputView",
      "layout": "IPY_MODEL_0b615887cc064da3af93c40ebeb6db54",
      "msg_id": "",
      "outputs": [
       {
        "data": {
         "text/html": "<pre style=\"white-space:pre;overflow-x:auto;line-height:normal;font-family:Menlo,'DejaVu Sans Mono',consolas,'Courier New',monospace\"><span style=\"color: #008000; text-decoration-color: #008000\">⠇</span> Current state: BUILDING\n</pre>\n",
         "text/plain": "\u001b[32m⠇\u001b[0m Current state: BUILDING\n"
        },
        "metadata": {},
        "output_type": "display_data"
       }
      ]
     }
    },
    "a0b8eb3c883747bc88c710101c2a2156": {
     "model_module": "@jupyter-widgets/base",
     "model_module_version": "1.2.0",
     "model_name": "LayoutModel",
     "state": {
      "_model_module": "@jupyter-widgets/base",
      "_model_module_version": "1.2.0",
      "_model_name": "LayoutModel",
      "_view_count": null,
      "_view_module": "@jupyter-widgets/base",
      "_view_module_version": "1.2.0",
      "_view_name": "LayoutView",
      "align_content": null,
      "align_items": null,
      "align_self": null,
      "border": null,
      "bottom": null,
      "display": null,
      "flex": null,
      "flex_flow": null,
      "grid_area": null,
      "grid_auto_columns": null,
      "grid_auto_flow": null,
      "grid_auto_rows": null,
      "grid_column": null,
      "grid_gap": null,
      "grid_row": null,
      "grid_template_areas": null,
      "grid_template_columns": null,
      "grid_template_rows": null,
      "height": null,
      "justify_content": null,
      "justify_items": null,
      "left": null,
      "margin": null,
      "max_height": null,
      "max_width": null,
      "min_height": null,
      "min_width": null,
      "object_fit": null,
      "object_position": null,
      "order": null,
      "overflow": null,
      "overflow_x": null,
      "overflow_y": null,
      "padding": null,
      "right": null,
      "top": null,
      "visibility": null,
      "width": null
     }
    },
    "c0025855df4e4758ad76ca740336b36c": {
     "model_module": "@jupyter-widgets/base",
     "model_module_version": "1.2.0",
     "model_name": "LayoutModel",
     "state": {
      "_model_module": "@jupyter-widgets/base",
      "_model_module_version": "1.2.0",
      "_model_name": "LayoutModel",
      "_view_count": null,
      "_view_module": "@jupyter-widgets/base",
      "_view_module_version": "1.2.0",
      "_view_name": "LayoutView",
      "align_content": null,
      "align_items": null,
      "align_self": null,
      "border": null,
      "bottom": null,
      "display": null,
      "flex": null,
      "flex_flow": null,
      "grid_area": null,
      "grid_auto_columns": null,
      "grid_auto_flow": null,
      "grid_auto_rows": null,
      "grid_column": null,
      "grid_gap": null,
      "grid_row": null,
      "grid_template_areas": null,
      "grid_template_columns": null,
      "grid_template_rows": null,
      "height": null,
      "justify_content": null,
      "justify_items": null,
      "left": null,
      "margin": null,
      "max_height": null,
      "max_width": null,
      "min_height": null,
      "min_width": null,
      "object_fit": null,
      "object_position": null,
      "order": null,
      "overflow": null,
      "overflow_x": null,
      "overflow_y": null,
      "padding": null,
      "right": null,
      "top": null,
      "visibility": null,
      "width": null
     }
    },
    "d2da2d3b73dd4e7781e8c0aa27e4bc3f": {
     "model_module": "@jupyter-widgets/base",
     "model_module_version": "1.2.0",
     "model_name": "LayoutModel",
     "state": {
      "_model_module": "@jupyter-widgets/base",
      "_model_module_version": "1.2.0",
      "_model_name": "LayoutModel",
      "_view_count": null,
      "_view_module": "@jupyter-widgets/base",
      "_view_module_version": "1.2.0",
      "_view_name": "LayoutView",
      "align_content": null,
      "align_items": null,
      "align_self": null,
      "border": null,
      "bottom": null,
      "display": null,
      "flex": null,
      "flex_flow": null,
      "grid_area": null,
      "grid_auto_columns": null,
      "grid_auto_flow": null,
      "grid_auto_rows": null,
      "grid_column": null,
      "grid_gap": null,
      "grid_row": null,
      "grid_template_areas": null,
      "grid_template_columns": null,
      "grid_template_rows": null,
      "height": null,
      "justify_content": null,
      "justify_items": null,
      "left": null,
      "margin": null,
      "max_height": null,
      "max_width": null,
      "min_height": null,
      "min_width": null,
      "object_fit": null,
      "object_position": null,
      "order": null,
      "overflow": null,
      "overflow_x": null,
      "overflow_y": null,
      "padding": null,
      "right": null,
      "top": null,
      "visibility": null,
      "width": null
     }
    },
    "eb070a842afe4f39b86c82efb3c435f5": {
     "model_module": "@jupyter-widgets/output",
     "model_module_version": "1.0.0",
     "model_name": "OutputModel",
     "state": {
      "_dom_classes": [],
      "_model_module": "@jupyter-widgets/output",
      "_model_module_version": "1.0.0",
      "_model_name": "OutputModel",
      "_view_count": null,
      "_view_module": "@jupyter-widgets/output",
      "_view_module_version": "1.0.0",
      "_view_name": "OutputView",
      "layout": "IPY_MODEL_f1610cffe2af4c5b8970148ea8839475",
      "msg_id": "",
      "outputs": [
       {
        "data": {
         "text/html": "<pre style=\"white-space:pre;overflow-x:auto;line-height:normal;font-family:Menlo,'DejaVu Sans Mono',consolas,'Courier New',monospace\"><span style=\"color: #008000; text-decoration-color: #008000\">⠇</span> Current state: BUILDING\n</pre>\n",
         "text/plain": "\u001b[32m⠇\u001b[0m Current state: BUILDING\n"
        },
        "metadata": {},
        "output_type": "display_data"
       }
      ]
     }
    },
    "f1610cffe2af4c5b8970148ea8839475": {
     "model_module": "@jupyter-widgets/base",
     "model_module_version": "1.2.0",
     "model_name": "LayoutModel",
     "state": {
      "_model_module": "@jupyter-widgets/base",
      "_model_module_version": "1.2.0",
      "_model_name": "LayoutModel",
      "_view_count": null,
      "_view_module": "@jupyter-widgets/base",
      "_view_module_version": "1.2.0",
      "_view_name": "LayoutView",
      "align_content": null,
      "align_items": null,
      "align_self": null,
      "border": null,
      "bottom": null,
      "display": null,
      "flex": null,
      "flex_flow": null,
      "grid_area": null,
      "grid_auto_columns": null,
      "grid_auto_flow": null,
      "grid_auto_rows": null,
      "grid_column": null,
      "grid_gap": null,
      "grid_row": null,
      "grid_template_areas": null,
      "grid_template_columns": null,
      "grid_template_rows": null,
      "height": null,
      "justify_content": null,
      "justify_items": null,
      "left": null,
      "margin": null,
      "max_height": null,
      "max_width": null,
      "min_height": null,
      "min_width": null,
      "object_fit": null,
      "object_position": null,
      "order": null,
      "overflow": null,
      "overflow_x": null,
      "overflow_y": null,
      "padding": null,
      "right": null,
      "top": null,
      "visibility": null,
      "width": null
     }
    },
    "fa235013ea684b5b8d6017a249439a3a": {
     "model_module": "@jupyter-widgets/output",
     "model_module_version": "1.0.0",
     "model_name": "OutputModel",
     "state": {
      "_dom_classes": [],
      "_model_module": "@jupyter-widgets/output",
      "_model_module_version": "1.0.0",
      "_model_name": "OutputModel",
      "_view_count": null,
      "_view_module": "@jupyter-widgets/output",
      "_view_module_version": "1.0.0",
      "_view_name": "OutputView",
      "layout": "IPY_MODEL_d2da2d3b73dd4e7781e8c0aa27e4bc3f",
      "msg_id": "",
      "outputs": [
       {
        "data": {
         "text/html": "<pre style=\"white-space:pre;overflow-x:auto;line-height:normal;font-family:Menlo,'DejaVu Sans Mono',consolas,'Courier New',monospace\"><span style=\"color: #008000; text-decoration-color: #008000\">⠴</span> Current state: BUILDING\n</pre>\n",
         "text/plain": "\u001b[32m⠴\u001b[0m Current state: BUILDING\n"
        },
        "metadata": {},
        "output_type": "display_data"
       }
      ]
     }
    }
   }
  }
 },
 "nbformat": 4,
 "nbformat_minor": 1
}
