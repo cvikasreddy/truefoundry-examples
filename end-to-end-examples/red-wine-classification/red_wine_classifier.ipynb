{
  "cells": [
    {
      "cell_type": "markdown",
      "metadata": {
        "id": "2c6nhZIxSvl2"
      },
      "source": [
        "# 🛠 Setup"
      ]
    },
    {
      "cell_type": "code",
      "source": [
        "%cd /content"
      ],
      "metadata": {
        "colab": {
          "base_uri": "https://localhost:8080/"
        },
        "id": "4chEYTocv6CZ",
        "outputId": "73410a9f-2bfd-493e-b35c-9aaaab533633"
      },
      "execution_count": 1,
      "outputs": [
        {
          "output_type": "stream",
          "name": "stdout",
          "text": [
            "/content\n"
          ]
        }
      ]
    },
    {
      "cell_type": "code",
      "execution_count": 2,
      "metadata": {
        "colab": {
          "base_uri": "https://localhost:8080/"
        },
        "id": "bFz2KwkdG-mw",
        "outputId": "6f39b0f4-7f19-41ae-a4c2-d4f252ddd6ca"
      },
      "outputs": [
        {
          "output_type": "stream",
          "name": "stdout",
          "text": [
            "Cloning into 'truefoundry-examples'...\n",
            "remote: Enumerating objects: 1145, done.\u001b[K\n",
            "remote: Counting objects: 100% (496/496), done.\u001b[K\n",
            "remote: Compressing objects: 100% (311/311), done.\u001b[K\n",
            "remote: Total 1145 (delta 234), reused 386 (delta 166), pack-reused 649\u001b[K\n",
            "Receiving objects: 100% (1145/1145), 62.91 MiB | 30.78 MiB/s, done.\n",
            "Resolving deltas: 100% (543/543), done.\n"
          ]
        }
      ],
      "source": [
        "!git clone -b bug-fix-hardik https://github.com/truefoundry/truefoundry-examples.git"
      ]
    },
    {
      "cell_type": "code",
      "execution_count": null,
      "metadata": {
        "id": "rnalU7uLTgmr"
      },
      "outputs": [],
      "source": [
        "pip install -U \"servicefoundry==0.6.6\""
      ]
    },
    {
      "cell_type": "code",
      "execution_count": 4,
      "metadata": {
        "id": "NN133xapzkt7"
      },
      "outputs": [],
      "source": [
        "import logging\n",
        "[logging.root.removeHandler(h) for h in logging.root.handlers]\n",
        "logging.basicConfig(level=logging.INFO, format='%(asctime)s [%(name)s] %(levelname)-8s %(message)s')"
      ]
    },
    {
      "cell_type": "code",
      "execution_count": 12,
      "metadata": {
        "colab": {
          "base_uri": "https://localhost:8080/"
        },
        "id": "FmmB5HHfXvES",
        "outputId": "264cd344-5219-42f3-db0a-5ea32855feb2"
      },
      "outputs": [
        {
          "output_type": "stream",
          "name": "stdout",
          "text": [
            "\u001b[2;36m[02/08/23 09:21:45]\u001b[0m\u001b[2;36m \u001b[0m\u001b[31mWARNING \u001b[0m TFY_API_KEY env var is already set. When running   \n",
            "\u001b[2;36m                    \u001b[0m         servicefoundry, it will use the api key to         \n",
            "\u001b[2;36m                    \u001b[0m         authorize.                                         \n",
            "\u001b[2;36m                    \u001b[0m         Login will just save the credentials on disk.      \n",
            "Opening:- \u001b[4;94mhttps://app.truefoundry.com/authorize/device?\u001b[0m\u001b[4;94muserCode\u001b[0m\u001b[4;94m=\u001b[0m\u001b[4;94mBY2GR6\u001b[0m\n",
            "Please click on the above link if it is not automatically opened in a browser window.\n",
            "/usr/bin/xdg-open: 869: www-browser: not found\n",
            "/usr/bin/xdg-open: 869: links2: not found\n",
            "/usr/bin/xdg-open: 869: elinks: not found\n",
            "/usr/bin/xdg-open: 869: links: not found\n",
            "/usr/bin/xdg-open: 869: lynx: not found\n",
            "/usr/bin/xdg-open: 869: w3m: not found\n",
            "xdg-open: no method available for opening 'https://app.truefoundry.com/authorize/device?userCode=BY2GR6'\n",
            "\n",
            "\u001b[31mAborted.\u001b[0m\n"
          ]
        }
      ],
      "source": [
        "!sfy login"
      ]
    },
    {
      "cell_type": "markdown",
      "metadata": {
        "id": "EXQVmwcESbjg"
      },
      "source": [
        "# ⚡Training Model"
      ]
    },
    {
      "cell_type": "code",
      "source": [
        "# Copy Workspace FQN from https://app.truefoundry.com/workspaces\n",
        "# Copy API Key from https://app.truefoundry.com/settings\n",
        "from getpass import getpass\n",
        "\n",
        "WORKSPACE = input(\"Please enter your Workspace FQN, (https://app.truefoundry.com/workspaces):-\")\n",
        "TFY_API_KEY = getpass(\"Please enter your API Key, (https://app.truefoundry.com/settings):-\")"
      ],
      "metadata": {
        "colab": {
          "base_uri": "https://localhost:8080/"
        },
        "id": "zm_quXI9uSEQ",
        "outputId": "032f43cc-f234-4b2f-fa06-ed4300f6ce39"
      },
      "execution_count": 6,
      "outputs": [
        {
          "name": "stdout",
          "output_type": "stream",
          "text": [
            "Please enter your Workspace FQN, (https://app.truefoundry.com/workspaces):-tfy-cluster-euwe1:hardik-ws\n",
            "Please enter your API Key, (https://app.truefoundry.com/settings):-··········\n"
          ]
        }
      ]
    },
    {
      "cell_type": "code",
      "execution_count": 7,
      "metadata": {
        "id": "L5PQOvJlSrk5",
        "colab": {
          "base_uri": "https://localhost:8080/"
        },
        "outputId": "dfd99c65-d76e-4326-c96e-92147b84211b"
      },
      "outputs": [
        {
          "output_type": "stream",
          "name": "stdout",
          "text": [
            "/content/truefoundry-examples/end-to-end-examples/red-wine-classification/train\n"
          ]
        }
      ],
      "source": [
        "%cd /content/truefoundry-examples/end-to-end-examples/red-wine-classification/train"
      ]
    },
    {
      "cell_type": "code",
      "execution_count": null,
      "metadata": {
        "id": "d4zY2j5MSDXH"
      },
      "outputs": [],
      "source": [
        "!pygmentize train.py"
      ]
    },
    {
      "cell_type": "code",
      "execution_count": 14,
      "metadata": {
        "id": "nx6JRvBgdEUB",
        "colab": {
          "base_uri": "https://localhost:8080/",
          "height": 1000,
          "referenced_widgets": [
            "9bdc60762a7d43c6b7c88a8acd904098",
            "d40790075b7e47bdaac0b357606780b1"
          ]
        },
        "outputId": "a25ef13a-aadd-4698-e176-5aba3762dec5"
      },
      "outputs": [
        {
          "output_type": "stream",
          "name": "stderr",
          "text": [
            "2023-02-07 17:28:49,700 [servicefoundry] INFO     Uploading code for job 'red-wine-train'\n",
            "2023-02-07 17:28:49,706 [servicefoundry] INFO     Archiving contents of dir: '/content/truefoundry-examples/end-to-end-examples/red-wine-classification/train'\n",
            "Packaging source code: 1it [00:00,  8.50it/s]\n",
            "2023-02-07 17:28:49,834 [servicefoundry] INFO     Code archive size: '2.31 KiB'\n",
            "Uploading package: 100%|██████████| 2.31k/2.31k [00:00<00:00, 13.2kB/s]\n",
            "2023-02-07 17:28:51,411 [servicefoundry] INFO     🚀 Deployment started for application 'red-wine-train'. Deployment FQN is 'tfy-cluster-euwe1:hardik-ws:red-wine-train:3'.\n",
            "2023-02-07 17:28:51,697 [servicefoundry] INFO     You can track the progress below or on the dashboard:- 'https://app.truefoundry.com/applications/cldtzpsva7ngf1ht824y19l5y?tab=deployments'\n",
            "You can press Ctrl + C to exit the tailing of build logs and deployment will continue on the server\n"
          ]
        },
        {
          "output_type": "display_data",
          "data": {
            "text/plain": [
              "Output()"
            ],
            "application/vnd.jupyter.widget-view+json": {
              "version_major": 2,
              "version_minor": 0,
              "model_id": "9bdc60762a7d43c6b7c88a8acd904098"
            }
          },
          "metadata": {}
        },
        {
          "output_type": "stream",
          "name": "stderr",
          "text": [
            "2023-02-07 17:28:52,089 [servicefoundry] INFO     State: 'INITIALIZED'\n",
            "2023-02-07 17:29:02,297 [servicefoundry] INFO     State: 'BUILDING'\n",
            "2023-02-07 17:29:02,672 [servicefoundry] INFO     Tailing build logs for 'red-wine-train'\n"
          ]
        },
        {
          "output_type": "display_data",
          "data": {
            "text/plain": [
              "Waiting for the task to start...\n"
            ],
            "text/html": [
              "<pre style=\"white-space:pre;overflow-x:auto;line-height:normal;font-family:Menlo,'DejaVu Sans Mono',consolas,'Courier New',monospace\">Waiting for the task to start...\n",
              "</pre>\n"
            ]
          },
          "metadata": {}
        },
        {
          "output_type": "stream",
          "name": "stderr",
          "text": [
            "2023-02-07 17:29:09,283 [servicefoundry] INFO     Tailing build logs for 'red-wine-train'\n"
          ]
        },
        {
          "output_type": "display_data",
          "data": {
            "text/plain": [
              "Waiting for the task to start...\n"
            ],
            "text/html": [
              "<pre style=\"white-space:pre;overflow-x:auto;line-height:normal;font-family:Menlo,'DejaVu Sans Mono',consolas,'Courier New',monospace\">Waiting for the task to start...\n",
              "</pre>\n"
            ]
          },
          "metadata": {}
        },
        {
          "output_type": "display_data",
          "data": {
            "text/plain": [
              "[2023-02-07T17:29:11.432204+00:00] \u001b[36m[Start]\u001b[0m Downloading source code from remote source\n"
            ],
            "text/html": [
              "<pre style=\"white-space:pre;overflow-x:auto;line-height:normal;font-family:Menlo,'DejaVu Sans Mono',consolas,'Courier New',monospace\">[2023-02-07T17:29:11.432204+00:00] <span style=\"color: #008080; text-decoration-color: #008080\">[Start]</span> Downloading source code from remote source\n",
              "</pre>\n"
            ]
          },
          "metadata": {}
        },
        {
          "output_type": "display_data",
          "data": {
            "text/plain": [
              "[2023-02-07T17:29:11.538301+00:00] \u001b[32m[Done]\u001b[0m Download code completed\n"
            ],
            "text/html": [
              "<pre style=\"white-space:pre;overflow-x:auto;line-height:normal;font-family:Menlo,'DejaVu Sans Mono',consolas,'Courier New',monospace\">[2023-02-07T17:29:11.538301+00:00] <span style=\"color: #008000; text-decoration-color: #008000\">[Done]</span> Download code completed\n",
              "</pre>\n"
            ]
          },
          "metadata": {}
        },
        {
          "output_type": "display_data",
          "data": {
            "text/plain": [
              "[2023-02-07T17:29:11.660871+00:00] \u001b[36m[Start]\u001b[0m Building and pushing the docker container. Please find the logs below\n"
            ],
            "text/html": [
              "<pre style=\"white-space:pre;overflow-x:auto;line-height:normal;font-family:Menlo,'DejaVu Sans Mono',consolas,'Courier New',monospace\">[2023-02-07T17:29:11.660871+00:00] <span style=\"color: #008080; text-decoration-color: #008080\">[Start]</span> Building and pushing the docker container. Please find the logs below\n",
              "</pre>\n"
            ]
          },
          "metadata": {}
        },
        {
          "output_type": "display_data",
          "data": {
            "text/plain": [
              "[2023-02-07T17:29:11.719398+00:00] Login Succeeded\n"
            ],
            "text/html": [
              "<pre style=\"white-space:pre;overflow-x:auto;line-height:normal;font-family:Menlo,'DejaVu Sans Mono',consolas,'Courier New',monospace\">[2023-02-07T17:29:11.719398+00:00] Login Succeeded\n",
              "</pre>\n"
            ]
          },
          "metadata": {}
        },
        {
          "output_type": "display_data",
          "data": {
            "text/plain": [
              "[2023-02-07T17:29:11.720638+00:00] \u001b[36m[==== Docker logs start ====]\u001b[0m\n"
            ],
            "text/html": [
              "<pre style=\"white-space:pre;overflow-x:auto;line-height:normal;font-family:Menlo,'DejaVu Sans Mono',consolas,'Courier New',monospace\">[2023-02-07T17:29:11.720638+00:00] <span style=\"color: #008080; text-decoration-color: #008080\">[==== Docker logs start ====]</span>\n",
              "</pre>\n"
            ]
          },
          "metadata": {}
        },
        {
          "output_type": "display_data",
          "data": {
            "text/plain": [
              "[2023-02-07T17:29:11.807126+00:00] latest: Pulling from hardik-ws-red-wine-train-19l5y\n"
            ],
            "text/html": [
              "<pre style=\"white-space:pre;overflow-x:auto;line-height:normal;font-family:Menlo,'DejaVu Sans Mono',consolas,'Courier New',monospace\">[2023-02-07T17:29:11.807126+00:00] latest: Pulling from hardik-ws-red-wine-train-19l5y\n",
              "</pre>\n"
            ]
          },
          "metadata": {}
        },
        {
          "output_type": "display_data",
          "data": {
            "text/plain": [
              "[2023-02-07T17:29:11.807158+00:00] 699c8a97647f: Pulling fs layer\n"
            ],
            "text/html": [
              "<pre style=\"white-space:pre;overflow-x:auto;line-height:normal;font-family:Menlo,'DejaVu Sans Mono',consolas,'Courier New',monospace\">[2023-02-07T17:29:11.807158+00:00] 699c8a97647f: Pulling fs layer\n",
              "</pre>\n"
            ]
          },
          "metadata": {}
        },
        {
          "output_type": "display_data",
          "data": {
            "text/plain": [
              "[2023-02-07T17:29:11.807161+00:00] 86cd158b89fd: Pulling fs layer\n"
            ],
            "text/html": [
              "<pre style=\"white-space:pre;overflow-x:auto;line-height:normal;font-family:Menlo,'DejaVu Sans Mono',consolas,'Courier New',monospace\">[2023-02-07T17:29:11.807161+00:00] 86cd158b89fd: Pulling fs layer\n",
              "</pre>\n"
            ]
          },
          "metadata": {}
        },
        {
          "output_type": "display_data",
          "data": {
            "text/plain": [
              "[2023-02-07T17:29:11.807164+00:00] 4cec535da207: Pulling fs layer\n"
            ],
            "text/html": [
              "<pre style=\"white-space:pre;overflow-x:auto;line-height:normal;font-family:Menlo,'DejaVu Sans Mono',consolas,'Courier New',monospace\">[2023-02-07T17:29:11.807164+00:00] 4cec535da207: Pulling fs layer\n",
              "</pre>\n"
            ]
          },
          "metadata": {}
        },
        {
          "output_type": "display_data",
          "data": {
            "text/plain": [
              "[2023-02-07T17:29:11.807166+00:00] 225fdd30e1a3: Pulling fs layer\n"
            ],
            "text/html": [
              "<pre style=\"white-space:pre;overflow-x:auto;line-height:normal;font-family:Menlo,'DejaVu Sans Mono',consolas,'Courier New',monospace\">[2023-02-07T17:29:11.807166+00:00] 225fdd30e1a3: Pulling fs layer\n",
              "</pre>\n"
            ]
          },
          "metadata": {}
        },
        {
          "output_type": "display_data",
          "data": {
            "text/plain": [
              "[2023-02-07T17:29:11.807163+00:00] a226e961cfaa: Pulling fs layer\n"
            ],
            "text/html": [
              "<pre style=\"white-space:pre;overflow-x:auto;line-height:normal;font-family:Menlo,'DejaVu Sans Mono',consolas,'Courier New',monospace\">[2023-02-07T17:29:11.807163+00:00] a226e961cfaa: Pulling fs layer\n",
              "</pre>\n"
            ]
          },
          "metadata": {}
        },
        {
          "output_type": "display_data",
          "data": {
            "text/plain": [
              "[2023-02-07T17:29:11.807168+00:00] 356a16c6c201: Pulling fs layer\n"
            ],
            "text/html": [
              "<pre style=\"white-space:pre;overflow-x:auto;line-height:normal;font-family:Menlo,'DejaVu Sans Mono',consolas,'Courier New',monospace\">[2023-02-07T17:29:11.807168+00:00] 356a16c6c201: Pulling fs layer\n",
              "</pre>\n"
            ]
          },
          "metadata": {}
        },
        {
          "output_type": "display_data",
          "data": {
            "text/plain": [
              "[2023-02-07T17:29:11.807170+00:00] 7f852ff26d97: Pulling fs layer\n"
            ],
            "text/html": [
              "<pre style=\"white-space:pre;overflow-x:auto;line-height:normal;font-family:Menlo,'DejaVu Sans Mono',consolas,'Courier New',monospace\">[2023-02-07T17:29:11.807170+00:00] 7f852ff26d97: Pulling fs layer\n",
              "</pre>\n"
            ]
          },
          "metadata": {}
        },
        {
          "output_type": "display_data",
          "data": {
            "text/plain": [
              "[2023-02-07T17:29:11.807172+00:00] 4bd654f59cbc: Pulling fs layer\n"
            ],
            "text/html": [
              "<pre style=\"white-space:pre;overflow-x:auto;line-height:normal;font-family:Menlo,'DejaVu Sans Mono',consolas,'Courier New',monospace\">[2023-02-07T17:29:11.807172+00:00] 4bd654f59cbc: Pulling fs layer\n",
              "</pre>\n"
            ]
          },
          "metadata": {}
        },
        {
          "output_type": "display_data",
          "data": {
            "text/plain": [
              "[2023-02-07T17:29:11.807174+00:00] c22de34a21d1: Pulling fs layer\n"
            ],
            "text/html": [
              "<pre style=\"white-space:pre;overflow-x:auto;line-height:normal;font-family:Menlo,'DejaVu Sans Mono',consolas,'Courier New',monospace\">[2023-02-07T17:29:11.807174+00:00] c22de34a21d1: Pulling fs layer\n",
              "</pre>\n"
            ]
          },
          "metadata": {}
        },
        {
          "output_type": "display_data",
          "data": {
            "text/plain": [
              "[2023-02-07T17:29:11.807184+00:00] 9951af439c50: Pulling fs layer\n"
            ],
            "text/html": [
              "<pre style=\"white-space:pre;overflow-x:auto;line-height:normal;font-family:Menlo,'DejaVu Sans Mono',consolas,'Courier New',monospace\">[2023-02-07T17:29:11.807184+00:00] 9951af439c50: Pulling fs layer\n",
              "</pre>\n"
            ]
          },
          "metadata": {}
        },
        {
          "output_type": "display_data",
          "data": {
            "text/plain": [
              "[2023-02-07T17:29:11.807182+00:00] 4cc6c0984cdb: Pulling fs layer\n"
            ],
            "text/html": [
              "<pre style=\"white-space:pre;overflow-x:auto;line-height:normal;font-family:Menlo,'DejaVu Sans Mono',consolas,'Courier New',monospace\">[2023-02-07T17:29:11.807182+00:00] 4cc6c0984cdb: Pulling fs layer\n",
              "</pre>\n"
            ]
          },
          "metadata": {}
        },
        {
          "output_type": "display_data",
          "data": {
            "text/plain": [
              "[2023-02-07T17:29:11.807186+00:00] 356a16c6c201: Waiting\n"
            ],
            "text/html": [
              "<pre style=\"white-space:pre;overflow-x:auto;line-height:normal;font-family:Menlo,'DejaVu Sans Mono',consolas,'Courier New',monospace\">[2023-02-07T17:29:11.807186+00:00] 356a16c6c201: Waiting\n",
              "</pre>\n"
            ]
          },
          "metadata": {}
        },
        {
          "output_type": "display_data",
          "data": {
            "text/plain": [
              "[2023-02-07T17:29:11.807184+00:00] d709d7a2838b: Pulling fs layer\n"
            ],
            "text/html": [
              "<pre style=\"white-space:pre;overflow-x:auto;line-height:normal;font-family:Menlo,'DejaVu Sans Mono',consolas,'Courier New',monospace\">[2023-02-07T17:29:11.807184+00:00] d709d7a2838b: Pulling fs layer\n",
              "</pre>\n"
            ]
          },
          "metadata": {}
        },
        {
          "output_type": "display_data",
          "data": {
            "text/plain": [
              "[2023-02-07T17:29:11.807187+00:00] 7f852ff26d97: Waiting\n"
            ],
            "text/html": [
              "<pre style=\"white-space:pre;overflow-x:auto;line-height:normal;font-family:Menlo,'DejaVu Sans Mono',consolas,'Courier New',monospace\">[2023-02-07T17:29:11.807187+00:00] 7f852ff26d97: Waiting\n",
              "</pre>\n"
            ]
          },
          "metadata": {}
        },
        {
          "output_type": "display_data",
          "data": {
            "text/plain": [
              "[2023-02-07T17:29:11.807189+00:00] 4bd654f59cbc: Waiting\n"
            ],
            "text/html": [
              "<pre style=\"white-space:pre;overflow-x:auto;line-height:normal;font-family:Menlo,'DejaVu Sans Mono',consolas,'Courier New',monospace\">[2023-02-07T17:29:11.807189+00:00] 4bd654f59cbc: Waiting\n",
              "</pre>\n"
            ]
          },
          "metadata": {}
        },
        {
          "output_type": "display_data",
          "data": {
            "text/plain": [
              "[2023-02-07T17:29:11.807190+00:00] c22de34a21d1: Waiting\n"
            ],
            "text/html": [
              "<pre style=\"white-space:pre;overflow-x:auto;line-height:normal;font-family:Menlo,'DejaVu Sans Mono',consolas,'Courier New',monospace\">[2023-02-07T17:29:11.807190+00:00] c22de34a21d1: Waiting\n",
              "</pre>\n"
            ]
          },
          "metadata": {}
        },
        {
          "output_type": "display_data",
          "data": {
            "text/plain": [
              "[2023-02-07T17:29:11.807191+00:00] 4cc6c0984cdb: Waiting\n"
            ],
            "text/html": [
              "<pre style=\"white-space:pre;overflow-x:auto;line-height:normal;font-family:Menlo,'DejaVu Sans Mono',consolas,'Courier New',monospace\">[2023-02-07T17:29:11.807191+00:00] 4cc6c0984cdb: Waiting\n",
              "</pre>\n"
            ]
          },
          "metadata": {}
        },
        {
          "output_type": "display_data",
          "data": {
            "text/plain": [
              "[2023-02-07T17:29:11.807192+00:00] 9951af439c50: Waiting\n"
            ],
            "text/html": [
              "<pre style=\"white-space:pre;overflow-x:auto;line-height:normal;font-family:Menlo,'DejaVu Sans Mono',consolas,'Courier New',monospace\">[2023-02-07T17:29:11.807192+00:00] 9951af439c50: Waiting\n",
              "</pre>\n"
            ]
          },
          "metadata": {}
        },
        {
          "output_type": "display_data",
          "data": {
            "text/plain": [
              "[2023-02-07T17:29:11.807193+00:00] d709d7a2838b: Waiting\n"
            ],
            "text/html": [
              "<pre style=\"white-space:pre;overflow-x:auto;line-height:normal;font-family:Menlo,'DejaVu Sans Mono',consolas,'Courier New',monospace\">[2023-02-07T17:29:11.807193+00:00] d709d7a2838b: Waiting\n",
              "</pre>\n"
            ]
          },
          "metadata": {}
        },
        {
          "output_type": "display_data",
          "data": {
            "text/plain": [
              "[2023-02-07T17:29:11.807194+00:00] 225fdd30e1a3: Waiting\n"
            ],
            "text/html": [
              "<pre style=\"white-space:pre;overflow-x:auto;line-height:normal;font-family:Menlo,'DejaVu Sans Mono',consolas,'Courier New',monospace\">[2023-02-07T17:29:11.807194+00:00] 225fdd30e1a3: Waiting\n",
              "</pre>\n"
            ]
          },
          "metadata": {}
        },
        {
          "output_type": "display_data",
          "data": {
            "text/plain": [
              "[2023-02-07T17:29:11.807195+00:00] 4cec535da207: Waiting\n"
            ],
            "text/html": [
              "<pre style=\"white-space:pre;overflow-x:auto;line-height:normal;font-family:Menlo,'DejaVu Sans Mono',consolas,'Courier New',monospace\">[2023-02-07T17:29:11.807195+00:00] 4cec535da207: Waiting\n",
              "</pre>\n"
            ]
          },
          "metadata": {}
        },
        {
          "output_type": "display_data",
          "data": {
            "text/plain": [
              "[2023-02-07T17:29:12.017300+00:00] 86cd158b89fd: Verifying Checksum\n"
            ],
            "text/html": [
              "<pre style=\"white-space:pre;overflow-x:auto;line-height:normal;font-family:Menlo,'DejaVu Sans Mono',consolas,'Courier New',monospace\">[2023-02-07T17:29:12.017300+00:00] 86cd158b89fd: Verifying Checksum\n",
              "</pre>\n"
            ]
          },
          "metadata": {}
        },
        {
          "output_type": "display_data",
          "data": {
            "text/plain": [
              "[2023-02-07T17:29:12.017314+00:00] 86cd158b89fd: Download complete\n"
            ],
            "text/html": [
              "<pre style=\"white-space:pre;overflow-x:auto;line-height:normal;font-family:Menlo,'DejaVu Sans Mono',consolas,'Courier New',monospace\">[2023-02-07T17:29:12.017314+00:00] 86cd158b89fd: Download complete\n",
              "</pre>\n"
            ]
          },
          "metadata": {}
        },
        {
          "output_type": "display_data",
          "data": {
            "text/plain": [
              "[2023-02-07T17:29:12.241080+00:00] a226e961cfaa: Download complete\n"
            ],
            "text/html": [
              "<pre style=\"white-space:pre;overflow-x:auto;line-height:normal;font-family:Menlo,'DejaVu Sans Mono',consolas,'Courier New',monospace\">[2023-02-07T17:29:12.241080+00:00] a226e961cfaa: Download complete\n",
              "</pre>\n"
            ]
          },
          "metadata": {}
        },
        {
          "output_type": "display_data",
          "data": {
            "text/plain": [
              "[2023-02-07T17:29:12.240983+00:00] a226e961cfaa: Verifying Checksum\n"
            ],
            "text/html": [
              "<pre style=\"white-space:pre;overflow-x:auto;line-height:normal;font-family:Menlo,'DejaVu Sans Mono',consolas,'Courier New',monospace\">[2023-02-07T17:29:12.240983+00:00] a226e961cfaa: Verifying Checksum\n",
              "</pre>\n"
            ]
          },
          "metadata": {}
        },
        {
          "output_type": "display_data",
          "data": {
            "text/plain": [
              "[2023-02-07T17:29:13.404066+00:00] 699c8a97647f: Verifying Checksum\n"
            ],
            "text/html": [
              "<pre style=\"white-space:pre;overflow-x:auto;line-height:normal;font-family:Menlo,'DejaVu Sans Mono',consolas,'Courier New',monospace\">[2023-02-07T17:29:13.404066+00:00] 699c8a97647f: Verifying Checksum\n",
              "</pre>\n"
            ]
          },
          "metadata": {}
        },
        {
          "output_type": "display_data",
          "data": {
            "text/plain": [
              "[2023-02-07T17:29:13.404083+00:00] 699c8a97647f: Download complete\n"
            ],
            "text/html": [
              "<pre style=\"white-space:pre;overflow-x:auto;line-height:normal;font-family:Menlo,'DejaVu Sans Mono',consolas,'Courier New',monospace\">[2023-02-07T17:29:13.404083+00:00] 699c8a97647f: Download complete\n",
              "</pre>\n"
            ]
          },
          "metadata": {}
        },
        {
          "output_type": "display_data",
          "data": {
            "text/plain": [
              "[2023-02-07T17:29:13.490425+00:00] 4cec535da207: Verifying Checksum\n"
            ],
            "text/html": [
              "<pre style=\"white-space:pre;overflow-x:auto;line-height:normal;font-family:Menlo,'DejaVu Sans Mono',consolas,'Courier New',monospace\">[2023-02-07T17:29:13.490425+00:00] 4cec535da207: Verifying Checksum\n",
              "</pre>\n"
            ]
          },
          "metadata": {}
        },
        {
          "output_type": "display_data",
          "data": {
            "text/plain": [
              "[2023-02-07T17:29:13.490546+00:00] 4cec535da207: Download complete\n"
            ],
            "text/html": [
              "<pre style=\"white-space:pre;overflow-x:auto;line-height:normal;font-family:Menlo,'DejaVu Sans Mono',consolas,'Courier New',monospace\">[2023-02-07T17:29:13.490546+00:00] 4cec535da207: Download complete\n",
              "</pre>\n"
            ]
          },
          "metadata": {}
        },
        {
          "output_type": "display_data",
          "data": {
            "text/plain": [
              "[2023-02-07T17:29:13.634469+00:00] 356a16c6c201: Download complete\n"
            ],
            "text/html": [
              "<pre style=\"white-space:pre;overflow-x:auto;line-height:normal;font-family:Menlo,'DejaVu Sans Mono',consolas,'Courier New',monospace\">[2023-02-07T17:29:13.634469+00:00] 356a16c6c201: Download complete\n",
              "</pre>\n"
            ]
          },
          "metadata": {}
        },
        {
          "output_type": "display_data",
          "data": {
            "text/plain": [
              "[2023-02-07T17:29:13.735208+00:00] 4bd654f59cbc: Verifying Checksum\n"
            ],
            "text/html": [
              "<pre style=\"white-space:pre;overflow-x:auto;line-height:normal;font-family:Menlo,'DejaVu Sans Mono',consolas,'Courier New',monospace\">[2023-02-07T17:29:13.735208+00:00] 4bd654f59cbc: Verifying Checksum\n",
              "</pre>\n"
            ]
          },
          "metadata": {}
        },
        {
          "output_type": "display_data",
          "data": {
            "text/plain": [
              "[2023-02-07T17:29:13.735223+00:00] 4bd654f59cbc: Download complete\n"
            ],
            "text/html": [
              "<pre style=\"white-space:pre;overflow-x:auto;line-height:normal;font-family:Menlo,'DejaVu Sans Mono',consolas,'Courier New',monospace\">[2023-02-07T17:29:13.735223+00:00] 4bd654f59cbc: Download complete\n",
              "</pre>\n"
            ]
          },
          "metadata": {}
        },
        {
          "output_type": "display_data",
          "data": {
            "text/plain": [
              "[2023-02-07T17:29:13.962298+00:00] 7f852ff26d97: Verifying Checksum\n"
            ],
            "text/html": [
              "<pre style=\"white-space:pre;overflow-x:auto;line-height:normal;font-family:Menlo,'DejaVu Sans Mono',consolas,'Courier New',monospace\">[2023-02-07T17:29:13.962298+00:00] 7f852ff26d97: Verifying Checksum\n",
              "</pre>\n"
            ]
          },
          "metadata": {}
        },
        {
          "output_type": "display_data",
          "data": {
            "text/plain": [
              "[2023-02-07T17:29:13.962311+00:00] 7f852ff26d97: Download complete\n"
            ],
            "text/html": [
              "<pre style=\"white-space:pre;overflow-x:auto;line-height:normal;font-family:Menlo,'DejaVu Sans Mono',consolas,'Courier New',monospace\">[2023-02-07T17:29:13.962311+00:00] 7f852ff26d97: Download complete\n",
              "</pre>\n"
            ]
          },
          "metadata": {}
        },
        {
          "output_type": "display_data",
          "data": {
            "text/plain": [
              "[2023-02-07T17:29:13.968210+00:00] c22de34a21d1: Download complete\n"
            ],
            "text/html": [
              "<pre style=\"white-space:pre;overflow-x:auto;line-height:normal;font-family:Menlo,'DejaVu Sans Mono',consolas,'Courier New',monospace\">[2023-02-07T17:29:13.968210+00:00] c22de34a21d1: Download complete\n",
              "</pre>\n"
            ]
          },
          "metadata": {}
        },
        {
          "output_type": "display_data",
          "data": {
            "text/plain": [
              "[2023-02-07T17:29:14.056430+00:00] 4cc6c0984cdb: Verifying Checksum\n"
            ],
            "text/html": [
              "<pre style=\"white-space:pre;overflow-x:auto;line-height:normal;font-family:Menlo,'DejaVu Sans Mono',consolas,'Courier New',monospace\">[2023-02-07T17:29:14.056430+00:00] 4cc6c0984cdb: Verifying Checksum\n",
              "</pre>\n"
            ]
          },
          "metadata": {}
        },
        {
          "output_type": "display_data",
          "data": {
            "text/plain": [
              "[2023-02-07T17:29:14.120462+00:00] d709d7a2838b: Verifying Checksum\n"
            ],
            "text/html": [
              "<pre style=\"white-space:pre;overflow-x:auto;line-height:normal;font-family:Menlo,'DejaVu Sans Mono',consolas,'Courier New',monospace\">[2023-02-07T17:29:14.120462+00:00] d709d7a2838b: Verifying Checksum\n",
              "</pre>\n"
            ]
          },
          "metadata": {}
        },
        {
          "output_type": "display_data",
          "data": {
            "text/plain": [
              "[2023-02-07T17:29:13.968197+00:00] c22de34a21d1: Verifying Checksum\n"
            ],
            "text/html": [
              "<pre style=\"white-space:pre;overflow-x:auto;line-height:normal;font-family:Menlo,'DejaVu Sans Mono',consolas,'Courier New',monospace\">[2023-02-07T17:29:13.968197+00:00] c22de34a21d1: Verifying Checksum\n",
              "</pre>\n"
            ]
          },
          "metadata": {}
        },
        {
          "output_type": "display_data",
          "data": {
            "text/plain": [
              "[2023-02-07T17:29:14.056444+00:00] 4cc6c0984cdb: Download complete\n"
            ],
            "text/html": [
              "<pre style=\"white-space:pre;overflow-x:auto;line-height:normal;font-family:Menlo,'DejaVu Sans Mono',consolas,'Courier New',monospace\">[2023-02-07T17:29:14.056444+00:00] 4cc6c0984cdb: Download complete\n",
              "</pre>\n"
            ]
          },
          "metadata": {}
        },
        {
          "output_type": "display_data",
          "data": {
            "text/plain": [
              "[2023-02-07T17:29:14.120475+00:00] d709d7a2838b: Download complete\n"
            ],
            "text/html": [
              "<pre style=\"white-space:pre;overflow-x:auto;line-height:normal;font-family:Menlo,'DejaVu Sans Mono',consolas,'Courier New',monospace\">[2023-02-07T17:29:14.120475+00:00] d709d7a2838b: Download complete\n",
              "</pre>\n"
            ]
          },
          "metadata": {}
        },
        {
          "output_type": "display_data",
          "data": {
            "text/plain": [
              "[2023-02-07T17:29:14.779829+00:00] 86cd158b89fd: Pull complete\n"
            ],
            "text/html": [
              "<pre style=\"white-space:pre;overflow-x:auto;line-height:normal;font-family:Menlo,'DejaVu Sans Mono',consolas,'Courier New',monospace\">[2023-02-07T17:29:14.779829+00:00] 86cd158b89fd: Pull complete\n",
              "</pre>\n"
            ]
          },
          "metadata": {}
        },
        {
          "output_type": "display_data",
          "data": {
            "text/plain": [
              "[2023-02-07T17:29:14.624729+00:00] 699c8a97647f: Pull complete\n"
            ],
            "text/html": [
              "<pre style=\"white-space:pre;overflow-x:auto;line-height:normal;font-family:Menlo,'DejaVu Sans Mono',consolas,'Courier New',monospace\">[2023-02-07T17:29:14.624729+00:00] 699c8a97647f: Pull complete\n",
              "</pre>\n"
            ]
          },
          "metadata": {}
        },
        {
          "output_type": "display_data",
          "data": {
            "text/plain": [
              "[2023-02-07T17:29:16.347745+00:00] 4cec535da207: Pull complete\n"
            ],
            "text/html": [
              "<pre style=\"white-space:pre;overflow-x:auto;line-height:normal;font-family:Menlo,'DejaVu Sans Mono',consolas,'Courier New',monospace\">[2023-02-07T17:29:16.347745+00:00] 4cec535da207: Pull complete\n",
              "</pre>\n"
            ]
          },
          "metadata": {}
        },
        {
          "output_type": "display_data",
          "data": {
            "text/plain": [
              "[2023-02-07T17:29:14.991608+00:00] a226e961cfaa: Pull complete\n"
            ],
            "text/html": [
              "<pre style=\"white-space:pre;overflow-x:auto;line-height:normal;font-family:Menlo,'DejaVu Sans Mono',consolas,'Courier New',monospace\">[2023-02-07T17:29:14.991608+00:00] a226e961cfaa: Pull complete\n",
              "</pre>\n"
            ]
          },
          "metadata": {}
        },
        {
          "output_type": "display_data",
          "data": {
            "text/plain": [
              "[2023-02-07T17:29:18.570940+00:00] 225fdd30e1a3: Verifying Checksum\n"
            ],
            "text/html": [
              "<pre style=\"white-space:pre;overflow-x:auto;line-height:normal;font-family:Menlo,'DejaVu Sans Mono',consolas,'Courier New',monospace\">[2023-02-07T17:29:18.570940+00:00] 225fdd30e1a3: Verifying Checksum\n",
              "</pre>\n"
            ]
          },
          "metadata": {}
        },
        {
          "output_type": "display_data",
          "data": {
            "text/plain": [
              "[2023-02-07T17:29:18.570957+00:00] 225fdd30e1a3: Download complete\n"
            ],
            "text/html": [
              "<pre style=\"white-space:pre;overflow-x:auto;line-height:normal;font-family:Menlo,'DejaVu Sans Mono',consolas,'Courier New',monospace\">[2023-02-07T17:29:18.570957+00:00] 225fdd30e1a3: Download complete\n",
              "</pre>\n"
            ]
          },
          "metadata": {}
        },
        {
          "output_type": "display_data",
          "data": {
            "text/plain": [
              "[2023-02-07T17:29:20.739304+00:00] 9951af439c50: Verifying Checksum\n"
            ],
            "text/html": [
              "<pre style=\"white-space:pre;overflow-x:auto;line-height:normal;font-family:Menlo,'DejaVu Sans Mono',consolas,'Courier New',monospace\">[2023-02-07T17:29:20.739304+00:00] 9951af439c50: Verifying Checksum\n",
              "</pre>\n"
            ]
          },
          "metadata": {}
        },
        {
          "output_type": "display_data",
          "data": {
            "text/plain": [
              "[2023-02-07T17:29:20.739326+00:00] 9951af439c50: Download complete\n"
            ],
            "text/html": [
              "<pre style=\"white-space:pre;overflow-x:auto;line-height:normal;font-family:Menlo,'DejaVu Sans Mono',consolas,'Courier New',monospace\">[2023-02-07T17:29:20.739326+00:00] 9951af439c50: Download complete\n",
              "</pre>\n"
            ]
          },
          "metadata": {}
        },
        {
          "output_type": "display_data",
          "data": {
            "text/plain": [
              "[2023-02-07T17:29:22.716414+00:00] 225fdd30e1a3: Pull complete\n"
            ],
            "text/html": [
              "<pre style=\"white-space:pre;overflow-x:auto;line-height:normal;font-family:Menlo,'DejaVu Sans Mono',consolas,'Courier New',monospace\">[2023-02-07T17:29:22.716414+00:00] 225fdd30e1a3: Pull complete\n",
              "</pre>\n"
            ]
          },
          "metadata": {}
        },
        {
          "output_type": "display_data",
          "data": {
            "text/plain": [
              "[2023-02-07T17:29:23.522452+00:00] 356a16c6c201: Pull complete\n"
            ],
            "text/html": [
              "<pre style=\"white-space:pre;overflow-x:auto;line-height:normal;font-family:Menlo,'DejaVu Sans Mono',consolas,'Courier New',monospace\">[2023-02-07T17:29:23.522452+00:00] 356a16c6c201: Pull complete\n",
              "</pre>\n"
            ]
          },
          "metadata": {}
        },
        {
          "output_type": "display_data",
          "data": {
            "text/plain": [
              "[2023-02-07T17:29:24.368663+00:00] 7f852ff26d97: Pull complete\n"
            ],
            "text/html": [
              "<pre style=\"white-space:pre;overflow-x:auto;line-height:normal;font-family:Menlo,'DejaVu Sans Mono',consolas,'Courier New',monospace\">[2023-02-07T17:29:24.368663+00:00] 7f852ff26d97: Pull complete\n",
              "</pre>\n"
            ]
          },
          "metadata": {}
        },
        {
          "output_type": "display_data",
          "data": {
            "text/plain": [
              "[2023-02-07T17:29:24.882988+00:00] 4bd654f59cbc: Pull complete\n"
            ],
            "text/html": [
              "<pre style=\"white-space:pre;overflow-x:auto;line-height:normal;font-family:Menlo,'DejaVu Sans Mono',consolas,'Courier New',monospace\">[2023-02-07T17:29:24.882988+00:00] 4bd654f59cbc: Pull complete\n",
              "</pre>\n"
            ]
          },
          "metadata": {}
        },
        {
          "output_type": "display_data",
          "data": {
            "text/plain": [
              "[2023-02-07T17:29:25.452145+00:00] c22de34a21d1: Pull complete\n"
            ],
            "text/html": [
              "<pre style=\"white-space:pre;overflow-x:auto;line-height:normal;font-family:Menlo,'DejaVu Sans Mono',consolas,'Courier New',monospace\">[2023-02-07T17:29:25.452145+00:00] c22de34a21d1: Pull complete\n",
              "</pre>\n"
            ]
          },
          "metadata": {}
        },
        {
          "output_type": "display_data",
          "data": {
            "text/plain": [
              "[2023-02-07T17:29:25.992805+00:00] 4cc6c0984cdb: Pull complete\n"
            ],
            "text/html": [
              "<pre style=\"white-space:pre;overflow-x:auto;line-height:normal;font-family:Menlo,'DejaVu Sans Mono',consolas,'Courier New',monospace\">[2023-02-07T17:29:25.992805+00:00] 4cc6c0984cdb: Pull complete\n",
              "</pre>\n"
            ]
          },
          "metadata": {}
        },
        {
          "output_type": "display_data",
          "data": {
            "text/plain": [
              "[2023-02-07T17:29:30.803669+00:00] 9951af439c50: Pull complete\n"
            ],
            "text/html": [
              "<pre style=\"white-space:pre;overflow-x:auto;line-height:normal;font-family:Menlo,'DejaVu Sans Mono',consolas,'Courier New',monospace\">[2023-02-07T17:29:30.803669+00:00] 9951af439c50: Pull complete\n",
              "</pre>\n"
            ]
          },
          "metadata": {}
        },
        {
          "output_type": "display_data",
          "data": {
            "text/plain": [
              "[2023-02-07T17:29:30.847047+00:00] d709d7a2838b: Pull complete\n"
            ],
            "text/html": [
              "<pre style=\"white-space:pre;overflow-x:auto;line-height:normal;font-family:Menlo,'DejaVu Sans Mono',consolas,'Courier New',monospace\">[2023-02-07T17:29:30.847047+00:00] d709d7a2838b: Pull complete\n",
              "</pre>\n"
            ]
          },
          "metadata": {}
        },
        {
          "output_type": "display_data",
          "data": {
            "text/plain": [
              "[2023-02-07T17:29:30.864947+00:00] Digest: sha256:a15b5c21b20428bfc2424cb01b8ddcdd8e93a6ee5c7695a7d148ecd819541ee3\n"
            ],
            "text/html": [
              "<pre style=\"white-space:pre;overflow-x:auto;line-height:normal;font-family:Menlo,'DejaVu Sans Mono',consolas,'Courier New',monospace\">[2023-02-07T17:29:30.864947+00:00] Digest: sha256:a15b5c21b20428bfc2424cb01b8ddcdd8e93a6ee5c7695a7d148ecd819541ee3\n",
              "</pre>\n"
            ]
          },
          "metadata": {}
        },
        {
          "output_type": "display_data",
          "data": {
            "text/plain": [
              "[2023-02-07T17:29:30.872898+00:00] Status: Downloaded newer image for \n",
              "416964291864.dkr.ecr.eu-west-1.amazonaws.com/hardik-ws-red-wine-train-19l5y:latest\n"
            ],
            "text/html": [
              "<pre style=\"white-space:pre;overflow-x:auto;line-height:normal;font-family:Menlo,'DejaVu Sans Mono',consolas,'Courier New',monospace\">[2023-02-07T17:29:30.872898+00:00] Status: Downloaded newer image for \n",
              "416964291864.dkr.ecr.eu-west-1.amazonaws.com/hardik-ws-red-wine-train-19l5y:latest\n",
              "</pre>\n"
            ]
          },
          "metadata": {}
        },
        {
          "output_type": "display_data",
          "data": {
            "text/plain": [
              "[2023-02-07T17:29:30.873205+00:00] \n",
              "416964291864.dkr.ecr.eu-west-1.amazonaws.com/hardik-ws-red-wine-train-19l5y:latest\n"
            ],
            "text/html": [
              "<pre style=\"white-space:pre;overflow-x:auto;line-height:normal;font-family:Menlo,'DejaVu Sans Mono',consolas,'Courier New',monospace\">[2023-02-07T17:29:30.873205+00:00] \n",
              "416964291864.dkr.ecr.eu-west-1.amazonaws.com/hardik-ws-red-wine-train-19l5y:latest\n",
              "</pre>\n"
            ]
          },
          "metadata": {}
        },
        {
          "output_type": "display_data",
          "data": {
            "text/plain": [
              "[2023-02-07T17:29:31.261502+00:00] [02/07/23 17:29:31] INFO     Dockerfile content:-\n"
            ],
            "text/html": [
              "<pre style=\"white-space:pre;overflow-x:auto;line-height:normal;font-family:Menlo,'DejaVu Sans Mono',consolas,'Courier New',monospace\">[2023-02-07T17:29:31.261502+00:00] [02/07/23 17:29:31] INFO     Dockerfile content:-\n",
              "</pre>\n"
            ]
          },
          "metadata": {}
        },
        {
          "output_type": "display_data",
          "data": {
            "text/plain": [
              "[2023-02-07T17:29:31.263000+00:00] INFO\n"
            ],
            "text/html": [
              "<pre style=\"white-space:pre;overflow-x:auto;line-height:normal;font-family:Menlo,'DejaVu Sans Mono',consolas,'Courier New',monospace\">[2023-02-07T17:29:31.263000+00:00] INFO\n",
              "</pre>\n"
            ]
          },
          "metadata": {}
        },
        {
          "output_type": "display_data",
          "data": {
            "text/plain": [
              "[2023-02-07T17:29:31.263012+00:00] FROM python:3.9\n"
            ],
            "text/html": [
              "<pre style=\"white-space:pre;overflow-x:auto;line-height:normal;font-family:Menlo,'DejaVu Sans Mono',consolas,'Courier New',monospace\">[2023-02-07T17:29:31.263012+00:00] FROM python:3.9\n",
              "</pre>\n"
            ]
          },
          "metadata": {}
        },
        {
          "output_type": "display_data",
          "data": {
            "text/plain": [
              "[2023-02-07T17:29:31.263015+00:00] \n"
            ],
            "text/html": [
              "<pre style=\"white-space:pre;overflow-x:auto;line-height:normal;font-family:Menlo,'DejaVu Sans Mono',consolas,'Courier New',monospace\">[2023-02-07T17:29:31.263015+00:00] \n",
              "</pre>\n"
            ]
          },
          "metadata": {}
        },
        {
          "output_type": "display_data",
          "data": {
            "text/plain": [
              "[2023-02-07T17:29:31.263026+00:00] \n"
            ],
            "text/html": [
              "<pre style=\"white-space:pre;overflow-x:auto;line-height:normal;font-family:Menlo,'DejaVu Sans Mono',consolas,'Courier New',monospace\">[2023-02-07T17:29:31.263026+00:00] \n",
              "</pre>\n"
            ]
          },
          "metadata": {}
        },
        {
          "output_type": "display_data",
          "data": {
            "text/plain": [
              "[2023-02-07T17:29:31.263028+00:00] COPY requirements.txt /tmp/requirements.txt\n"
            ],
            "text/html": [
              "<pre style=\"white-space:pre;overflow-x:auto;line-height:normal;font-family:Menlo,'DejaVu Sans Mono',consolas,'Courier New',monospace\">[2023-02-07T17:29:31.263028+00:00] COPY requirements.txt /tmp/requirements.txt\n",
              "</pre>\n"
            ]
          },
          "metadata": {}
        },
        {
          "output_type": "display_data",
          "data": {
            "text/plain": [
              "[2023-02-07T17:29:31.263030+00:00] \n"
            ],
            "text/html": [
              "<pre style=\"white-space:pre;overflow-x:auto;line-height:normal;font-family:Menlo,'DejaVu Sans Mono',consolas,'Courier New',monospace\">[2023-02-07T17:29:31.263030+00:00] \n",
              "</pre>\n"
            ]
          },
          "metadata": {}
        },
        {
          "output_type": "display_data",
          "data": {
            "text/plain": [
              "[2023-02-07T17:29:31.263032+00:00] RUN pip install -U pip && pip install\n"
            ],
            "text/html": [
              "<pre style=\"white-space:pre;overflow-x:auto;line-height:normal;font-family:Menlo,'DejaVu Sans Mono',consolas,'Courier New',monospace\">[2023-02-07T17:29:31.263032+00:00] RUN pip install -U pip &amp;&amp; pip install\n",
              "</pre>\n"
            ]
          },
          "metadata": {}
        },
        {
          "output_type": "display_data",
          "data": {
            "text/plain": [
              "[2023-02-07T17:29:31.263034+00:00] --no-cache-dir -r /tmp/requirements.txt\n"
            ],
            "text/html": [
              "<pre style=\"white-space:pre;overflow-x:auto;line-height:normal;font-family:Menlo,'DejaVu Sans Mono',consolas,'Courier New',monospace\">[2023-02-07T17:29:31.263034+00:00] --no-cache-dir -r /tmp/requirements.txt\n",
              "</pre>\n"
            ]
          },
          "metadata": {}
        },
        {
          "output_type": "display_data",
          "data": {
            "text/plain": [
              "[2023-02-07T17:29:31.263036+00:00] \n"
            ],
            "text/html": [
              "<pre style=\"white-space:pre;overflow-x:auto;line-height:normal;font-family:Menlo,'DejaVu Sans Mono',consolas,'Courier New',monospace\">[2023-02-07T17:29:31.263036+00:00] \n",
              "</pre>\n"
            ]
          },
          "metadata": {}
        },
        {
          "output_type": "display_data",
          "data": {
            "text/plain": [
              "[2023-02-07T17:29:31.263038+00:00] COPY . /app\n"
            ],
            "text/html": [
              "<pre style=\"white-space:pre;overflow-x:auto;line-height:normal;font-family:Menlo,'DejaVu Sans Mono',consolas,'Courier New',monospace\">[2023-02-07T17:29:31.263038+00:00] COPY . /app\n",
              "</pre>\n"
            ]
          },
          "metadata": {}
        },
        {
          "output_type": "display_data",
          "data": {
            "text/plain": [
              "[2023-02-07T17:29:31.263040+00:00] WORKDIR /app\n"
            ],
            "text/html": [
              "<pre style=\"white-space:pre;overflow-x:auto;line-height:normal;font-family:Menlo,'DejaVu Sans Mono',consolas,'Courier New',monospace\">[2023-02-07T17:29:31.263040+00:00] WORKDIR /app\n",
              "</pre>\n"
            ]
          },
          "metadata": {}
        },
        {
          "output_type": "display_data",
          "data": {
            "text/plain": [
              "[2023-02-07T17:29:31.263044+00:00] ENTRYPOINT python train.py\n"
            ],
            "text/html": [
              "<pre style=\"white-space:pre;overflow-x:auto;line-height:normal;font-family:Menlo,'DejaVu Sans Mono',consolas,'Courier New',monospace\">[2023-02-07T17:29:31.263044+00:00] ENTRYPOINT python train.py\n",
              "</pre>\n"
            ]
          },
          "metadata": {}
        },
        {
          "output_type": "display_data",
          "data": {
            "text/plain": [
              "[2023-02-07T17:29:31.263047+00:00] \n"
            ],
            "text/html": [
              "<pre style=\"white-space:pre;overflow-x:auto;line-height:normal;font-family:Menlo,'DejaVu Sans Mono',consolas,'Courier New',monospace\">[2023-02-07T17:29:31.263047+00:00] \n",
              "</pre>\n"
            ]
          },
          "metadata": {}
        },
        {
          "output_type": "display_data",
          "data": {
            "text/plain": [
              "[2023-02-07T17:29:31.264168+00:00] INFO     Building docker image: 'docker build\n"
            ],
            "text/html": [
              "<pre style=\"white-space:pre;overflow-x:auto;line-height:normal;font-family:Menlo,'DejaVu Sans Mono',consolas,'Courier New',monospace\">[2023-02-07T17:29:31.264168+00:00] INFO     Building docker image: 'docker build\n",
              "</pre>\n"
            ]
          },
          "metadata": {}
        },
        {
          "output_type": "display_data",
          "data": {
            "text/plain": [
              "[2023-02-07T17:29:31.264177+00:00] /mnt/vol/source-code -t\n"
            ],
            "text/html": [
              "<pre style=\"white-space:pre;overflow-x:auto;line-height:normal;font-family:Menlo,'DejaVu Sans Mono',consolas,'Courier New',monospace\">[2023-02-07T17:29:31.264177+00:00] /mnt/vol/source-code -t\n",
              "</pre>\n"
            ]
          },
          "metadata": {}
        },
        {
          "output_type": "display_data",
          "data": {
            "text/plain": [
              "[2023-02-07T17:29:31.264179+00:00] 416964291864.dkr.ecr.eu-west-1.amazonaws.com/hardik\n"
            ],
            "text/html": [
              "<pre style=\"white-space:pre;overflow-x:auto;line-height:normal;font-family:Menlo,'DejaVu Sans Mono',consolas,'Courier New',monospace\">[2023-02-07T17:29:31.264179+00:00] 416964291864.dkr.ecr.eu-west-1.amazonaws.com/hardik\n",
              "</pre>\n"
            ]
          },
          "metadata": {}
        },
        {
          "output_type": "display_data",
          "data": {
            "text/plain": [
              "[2023-02-07T17:29:31.264181+00:00] -ws-red-wine-train-19l5y:3 --file\n"
            ],
            "text/html": [
              "<pre style=\"white-space:pre;overflow-x:auto;line-height:normal;font-family:Menlo,'DejaVu Sans Mono',consolas,'Courier New',monospace\">[2023-02-07T17:29:31.264181+00:00] -ws-red-wine-train-19l5y:3 --file\n",
              "</pre>\n"
            ]
          },
          "metadata": {}
        },
        {
          "output_type": "display_data",
          "data": {
            "text/plain": [
              "[2023-02-07T17:29:31.264183+00:00] /tmp/tmpj1rnkal_/Dockerfile --cache-from\n"
            ],
            "text/html": [
              "<pre style=\"white-space:pre;overflow-x:auto;line-height:normal;font-family:Menlo,'DejaVu Sans Mono',consolas,'Courier New',monospace\">[2023-02-07T17:29:31.264183+00:00] /tmp/tmpj1rnkal_/Dockerfile --cache-from\n",
              "</pre>\n"
            ]
          },
          "metadata": {}
        },
        {
          "output_type": "display_data",
          "data": {
            "text/plain": [
              "[2023-02-07T17:29:31.264185+00:00] 416964291864.dkr.ecr.eu-west-1.amazonaws.com/hardik\n"
            ],
            "text/html": [
              "<pre style=\"white-space:pre;overflow-x:auto;line-height:normal;font-family:Menlo,'DejaVu Sans Mono',consolas,'Courier New',monospace\">[2023-02-07T17:29:31.264185+00:00] 416964291864.dkr.ecr.eu-west-1.amazonaws.com/hardik\n",
              "</pre>\n"
            ]
          },
          "metadata": {}
        },
        {
          "output_type": "display_data",
          "data": {
            "text/plain": [
              "[2023-02-07T17:29:31.264188+00:00] -ws-red-wine-train-19l5y:latest'\n"
            ],
            "text/html": [
              "<pre style=\"white-space:pre;overflow-x:auto;line-height:normal;font-family:Menlo,'DejaVu Sans Mono',consolas,'Courier New',monospace\">[2023-02-07T17:29:31.264188+00:00] -ws-red-wine-train-19l5y:latest'\n",
              "</pre>\n"
            ]
          },
          "metadata": {}
        },
        {
          "output_type": "display_data",
          "data": {
            "text/plain": [
              "[2023-02-07T17:29:31.282844+00:00] Sending build context to Docker daemon  11.31kB\n"
            ],
            "text/html": [
              "<pre style=\"white-space:pre;overflow-x:auto;line-height:normal;font-family:Menlo,'DejaVu Sans Mono',consolas,'Courier New',monospace\">[2023-02-07T17:29:31.282844+00:00] Sending build context to Docker daemon  11.31kB\n",
              "</pre>\n"
            ]
          },
          "metadata": {}
        },
        {
          "output_type": "display_data",
          "data": {
            "text/plain": [
              "[2023-02-07T17:29:31.303393+00:00] Step 1/6 : FROM python:3.9\n"
            ],
            "text/html": [
              "<pre style=\"white-space:pre;overflow-x:auto;line-height:normal;font-family:Menlo,'DejaVu Sans Mono',consolas,'Courier New',monospace\">[2023-02-07T17:29:31.303393+00:00] Step 1/6 : FROM python:3.9\n",
              "</pre>\n"
            ]
          },
          "metadata": {}
        },
        {
          "output_type": "display_data",
          "data": {
            "text/plain": [
              "[2023-02-07T17:29:31.998464+00:00] 3.9: Pulling from library/python\n"
            ],
            "text/html": [
              "<pre style=\"white-space:pre;overflow-x:auto;line-height:normal;font-family:Menlo,'DejaVu Sans Mono',consolas,'Courier New',monospace\">[2023-02-07T17:29:31.998464+00:00] 3.9: Pulling from library/python\n",
              "</pre>\n"
            ]
          },
          "metadata": {}
        },
        {
          "output_type": "display_data",
          "data": {
            "text/plain": [
              "[2023-02-07T17:29:32.268435+00:00] 699c8a97647f: Already exists\n"
            ],
            "text/html": [
              "<pre style=\"white-space:pre;overflow-x:auto;line-height:normal;font-family:Menlo,'DejaVu Sans Mono',consolas,'Courier New',monospace\">[2023-02-07T17:29:32.268435+00:00] 699c8a97647f: Already exists\n",
              "</pre>\n"
            ]
          },
          "metadata": {}
        },
        {
          "output_type": "display_data",
          "data": {
            "text/plain": [
              "[2023-02-07T17:29:32.274078+00:00] a226e961cfaa: Already exists\n"
            ],
            "text/html": [
              "<pre style=\"white-space:pre;overflow-x:auto;line-height:normal;font-family:Menlo,'DejaVu Sans Mono',consolas,'Courier New',monospace\">[2023-02-07T17:29:32.274078+00:00] a226e961cfaa: Already exists\n",
              "</pre>\n"
            ]
          },
          "metadata": {}
        },
        {
          "output_type": "display_data",
          "data": {
            "text/plain": [
              "[2023-02-07T17:29:32.276325+00:00] 4cec535da207: Already exists\n"
            ],
            "text/html": [
              "<pre style=\"white-space:pre;overflow-x:auto;line-height:normal;font-family:Menlo,'DejaVu Sans Mono',consolas,'Courier New',monospace\">[2023-02-07T17:29:32.276325+00:00] 4cec535da207: Already exists\n",
              "</pre>\n"
            ]
          },
          "metadata": {}
        },
        {
          "output_type": "display_data",
          "data": {
            "text/plain": [
              "[2023-02-07T17:29:32.271170+00:00] 86cd158b89fd: Already exists\n"
            ],
            "text/html": [
              "<pre style=\"white-space:pre;overflow-x:auto;line-height:normal;font-family:Menlo,'DejaVu Sans Mono',consolas,'Courier New',monospace\">[2023-02-07T17:29:32.271170+00:00] 86cd158b89fd: Already exists\n",
              "</pre>\n"
            ]
          },
          "metadata": {}
        },
        {
          "output_type": "display_data",
          "data": {
            "text/plain": [
              "[2023-02-07T17:29:32.279098+00:00] 225fdd30e1a3: Already exists\n"
            ],
            "text/html": [
              "<pre style=\"white-space:pre;overflow-x:auto;line-height:normal;font-family:Menlo,'DejaVu Sans Mono',consolas,'Courier New',monospace\">[2023-02-07T17:29:32.279098+00:00] 225fdd30e1a3: Already exists\n",
              "</pre>\n"
            ]
          },
          "metadata": {}
        },
        {
          "output_type": "display_data",
          "data": {
            "text/plain": [
              "[2023-02-07T17:29:32.284362+00:00] 7f852ff26d97: Already exists\n"
            ],
            "text/html": [
              "<pre style=\"white-space:pre;overflow-x:auto;line-height:normal;font-family:Menlo,'DejaVu Sans Mono',consolas,'Courier New',monospace\">[2023-02-07T17:29:32.284362+00:00] 7f852ff26d97: Already exists\n",
              "</pre>\n"
            ]
          },
          "metadata": {}
        },
        {
          "output_type": "display_data",
          "data": {
            "text/plain": [
              "[2023-02-07T17:29:32.281986+00:00] 356a16c6c201: Already exists\n"
            ],
            "text/html": [
              "<pre style=\"white-space:pre;overflow-x:auto;line-height:normal;font-family:Menlo,'DejaVu Sans Mono',consolas,'Courier New',monospace\">[2023-02-07T17:29:32.281986+00:00] 356a16c6c201: Already exists\n",
              "</pre>\n"
            ]
          },
          "metadata": {}
        },
        {
          "output_type": "display_data",
          "data": {
            "text/plain": [
              "[2023-02-07T17:29:32.286996+00:00] 4bd654f59cbc: Already exists\n"
            ],
            "text/html": [
              "<pre style=\"white-space:pre;overflow-x:auto;line-height:normal;font-family:Menlo,'DejaVu Sans Mono',consolas,'Courier New',monospace\">[2023-02-07T17:29:32.286996+00:00] 4bd654f59cbc: Already exists\n",
              "</pre>\n"
            ]
          },
          "metadata": {}
        },
        {
          "output_type": "display_data",
          "data": {
            "text/plain": [
              "[2023-02-07T17:29:32.289443+00:00] c22de34a21d1: Already exists\n"
            ],
            "text/html": [
              "<pre style=\"white-space:pre;overflow-x:auto;line-height:normal;font-family:Menlo,'DejaVu Sans Mono',consolas,'Courier New',monospace\">[2023-02-07T17:29:32.289443+00:00] c22de34a21d1: Already exists\n",
              "</pre>\n"
            ]
          },
          "metadata": {}
        },
        {
          "output_type": "display_data",
          "data": {
            "text/plain": [
              "[2023-02-07T17:29:32.556389+00:00] Status: Downloaded newer image for python:3.9\n"
            ],
            "text/html": [
              "<pre style=\"white-space:pre;overflow-x:auto;line-height:normal;font-family:Menlo,'DejaVu Sans Mono',consolas,'Courier New',monospace\">[2023-02-07T17:29:32.556389+00:00] Status: Downloaded newer image for python:3.9\n",
              "</pre>\n"
            ]
          },
          "metadata": {}
        },
        {
          "output_type": "display_data",
          "data": {
            "text/plain": [
              "[2023-02-07T17:29:32.553378+00:00] Digest: sha256:8aa1a86e57d11268005344d03296cf2f73310bad9edb900884494b5974421d43\n"
            ],
            "text/html": [
              "<pre style=\"white-space:pre;overflow-x:auto;line-height:normal;font-family:Menlo,'DejaVu Sans Mono',consolas,'Courier New',monospace\">[2023-02-07T17:29:32.553378+00:00] Digest: sha256:8aa1a86e57d11268005344d03296cf2f73310bad9edb900884494b5974421d43\n",
              "</pre>\n"
            ]
          },
          "metadata": {}
        },
        {
          "output_type": "display_data",
          "data": {
            "text/plain": [
              "[2023-02-07T17:29:32.556850+00:00] ---> a037112b1932\n"
            ],
            "text/html": [
              "<pre style=\"white-space:pre;overflow-x:auto;line-height:normal;font-family:Menlo,'DejaVu Sans Mono',consolas,'Courier New',monospace\">[2023-02-07T17:29:32.556850+00:00] ---&gt; a037112b1932\n",
              "</pre>\n"
            ]
          },
          "metadata": {}
        },
        {
          "output_type": "display_data",
          "data": {
            "text/plain": [
              "[2023-02-07T17:29:32.556871+00:00] Step 2/6 : COPY requirements.txt /tmp/requirements.txt\n"
            ],
            "text/html": [
              "<pre style=\"white-space:pre;overflow-x:auto;line-height:normal;font-family:Menlo,'DejaVu Sans Mono',consolas,'Courier New',monospace\">[2023-02-07T17:29:32.556871+00:00] Step 2/6 : COPY requirements.txt /tmp/requirements.txt\n",
              "</pre>\n"
            ]
          },
          "metadata": {}
        },
        {
          "output_type": "display_data",
          "data": {
            "text/plain": [
              "[2023-02-07T17:29:32.560717+00:00] ---> Using cache\n"
            ],
            "text/html": [
              "<pre style=\"white-space:pre;overflow-x:auto;line-height:normal;font-family:Menlo,'DejaVu Sans Mono',consolas,'Courier New',monospace\">[2023-02-07T17:29:32.560717+00:00] ---&gt; Using cache\n",
              "</pre>\n"
            ]
          },
          "metadata": {}
        },
        {
          "output_type": "display_data",
          "data": {
            "text/plain": [
              "[2023-02-07T17:29:32.560750+00:00] ---> f886e587e70a\n"
            ],
            "text/html": [
              "<pre style=\"white-space:pre;overflow-x:auto;line-height:normal;font-family:Menlo,'DejaVu Sans Mono',consolas,'Courier New',monospace\">[2023-02-07T17:29:32.560750+00:00] ---&gt; f886e587e70a\n",
              "</pre>\n"
            ]
          },
          "metadata": {}
        },
        {
          "output_type": "display_data",
          "data": {
            "text/plain": [
              "[2023-02-07T17:29:32.560754+00:00] Step 3/6 : RUN pip install -U pip && pip install --no-cache-dir -r \n",
              "/tmp/requirements.txt\n"
            ],
            "text/html": [
              "<pre style=\"white-space:pre;overflow-x:auto;line-height:normal;font-family:Menlo,'DejaVu Sans Mono',consolas,'Courier New',monospace\">[2023-02-07T17:29:32.560754+00:00] Step 3/6 : RUN pip install -U pip &amp;&amp; pip install --no-cache-dir -r \n",
              "/tmp/requirements.txt\n",
              "</pre>\n"
            ]
          },
          "metadata": {}
        },
        {
          "output_type": "display_data",
          "data": {
            "text/plain": [
              "[2023-02-07T17:29:32.568418+00:00] ---> Using cache\n"
            ],
            "text/html": [
              "<pre style=\"white-space:pre;overflow-x:auto;line-height:normal;font-family:Menlo,'DejaVu Sans Mono',consolas,'Courier New',monospace\">[2023-02-07T17:29:32.568418+00:00] ---&gt; Using cache\n",
              "</pre>\n"
            ]
          },
          "metadata": {}
        },
        {
          "output_type": "display_data",
          "data": {
            "text/plain": [
              "[2023-02-07T17:29:32.568432+00:00] ---> 5eff7929fc90\n"
            ],
            "text/html": [
              "<pre style=\"white-space:pre;overflow-x:auto;line-height:normal;font-family:Menlo,'DejaVu Sans Mono',consolas,'Courier New',monospace\">[2023-02-07T17:29:32.568432+00:00] ---&gt; 5eff7929fc90\n",
              "</pre>\n"
            ]
          },
          "metadata": {}
        },
        {
          "output_type": "display_data",
          "data": {
            "text/plain": [
              "[2023-02-07T17:29:32.568434+00:00] Step 4/6 : COPY . /app\n"
            ],
            "text/html": [
              "<pre style=\"white-space:pre;overflow-x:auto;line-height:normal;font-family:Menlo,'DejaVu Sans Mono',consolas,'Courier New',monospace\">[2023-02-07T17:29:32.568434+00:00] Step 4/6 : COPY . /app\n",
              "</pre>\n"
            ]
          },
          "metadata": {}
        },
        {
          "output_type": "display_data",
          "data": {
            "text/plain": [
              "[2023-02-07T17:29:32.575361+00:00] ---> Using cache\n"
            ],
            "text/html": [
              "<pre style=\"white-space:pre;overflow-x:auto;line-height:normal;font-family:Menlo,'DejaVu Sans Mono',consolas,'Courier New',monospace\">[2023-02-07T17:29:32.575361+00:00] ---&gt; Using cache\n",
              "</pre>\n"
            ]
          },
          "metadata": {}
        },
        {
          "output_type": "display_data",
          "data": {
            "text/plain": [
              "[2023-02-07T17:29:32.575395+00:00] ---> b9eee95fdd4f\n"
            ],
            "text/html": [
              "<pre style=\"white-space:pre;overflow-x:auto;line-height:normal;font-family:Menlo,'DejaVu Sans Mono',consolas,'Courier New',monospace\">[2023-02-07T17:29:32.575395+00:00] ---&gt; b9eee95fdd4f\n",
              "</pre>\n"
            ]
          },
          "metadata": {}
        },
        {
          "output_type": "display_data",
          "data": {
            "text/plain": [
              "[2023-02-07T17:29:32.587939+00:00] ---> Using cache\n"
            ],
            "text/html": [
              "<pre style=\"white-space:pre;overflow-x:auto;line-height:normal;font-family:Menlo,'DejaVu Sans Mono',consolas,'Courier New',monospace\">[2023-02-07T17:29:32.587939+00:00] ---&gt; Using cache\n",
              "</pre>\n"
            ]
          },
          "metadata": {}
        },
        {
          "output_type": "display_data",
          "data": {
            "text/plain": [
              "[2023-02-07T17:29:32.587957+00:00] ---> 71c9afec4440\n"
            ],
            "text/html": [
              "<pre style=\"white-space:pre;overflow-x:auto;line-height:normal;font-family:Menlo,'DejaVu Sans Mono',consolas,'Courier New',monospace\">[2023-02-07T17:29:32.587957+00:00] ---&gt; 71c9afec4440\n",
              "</pre>\n"
            ]
          },
          "metadata": {}
        },
        {
          "output_type": "display_data",
          "data": {
            "text/plain": [
              "[2023-02-07T17:29:32.587961+00:00] Step 6/6 : ENTRYPOINT python train.py\n"
            ],
            "text/html": [
              "<pre style=\"white-space:pre;overflow-x:auto;line-height:normal;font-family:Menlo,'DejaVu Sans Mono',consolas,'Courier New',monospace\">[2023-02-07T17:29:32.587961+00:00] Step 6/6 : ENTRYPOINT python train.py\n",
              "</pre>\n"
            ]
          },
          "metadata": {}
        },
        {
          "output_type": "display_data",
          "data": {
            "text/plain": [
              "[2023-02-07T17:29:32.596636+00:00] ---> Using cache\n"
            ],
            "text/html": [
              "<pre style=\"white-space:pre;overflow-x:auto;line-height:normal;font-family:Menlo,'DejaVu Sans Mono',consolas,'Courier New',monospace\">[2023-02-07T17:29:32.596636+00:00] ---&gt; Using cache\n",
              "</pre>\n"
            ]
          },
          "metadata": {}
        },
        {
          "output_type": "display_data",
          "data": {
            "text/plain": [
              "[2023-02-07T17:29:32.596652+00:00] ---> 212ccaa74575\n"
            ],
            "text/html": [
              "<pre style=\"white-space:pre;overflow-x:auto;line-height:normal;font-family:Menlo,'DejaVu Sans Mono',consolas,'Courier New',monospace\">[2023-02-07T17:29:32.596652+00:00] ---&gt; 212ccaa74575\n",
              "</pre>\n"
            ]
          },
          "metadata": {}
        },
        {
          "output_type": "display_data",
          "data": {
            "text/plain": [
              "[2023-02-07T17:29:32.596792+00:00] Successfully built 212ccaa74575\n"
            ],
            "text/html": [
              "<pre style=\"white-space:pre;overflow-x:auto;line-height:normal;font-family:Menlo,'DejaVu Sans Mono',consolas,'Courier New',monospace\">[2023-02-07T17:29:32.596792+00:00] Successfully built 212ccaa74575\n",
              "</pre>\n"
            ]
          },
          "metadata": {}
        },
        {
          "output_type": "display_data",
          "data": {
            "text/plain": [
              "[2023-02-07T17:29:32.605586+00:00] Successfully tagged \n",
              "416964291864.dkr.ecr.eu-west-1.amazonaws.com/hardik-ws-red-wine-train-19l5y:3\n"
            ],
            "text/html": [
              "<pre style=\"white-space:pre;overflow-x:auto;line-height:normal;font-family:Menlo,'DejaVu Sans Mono',consolas,'Courier New',monospace\">[2023-02-07T17:29:32.605586+00:00] Successfully tagged \n",
              "416964291864.dkr.ecr.eu-west-1.amazonaws.com/hardik-ws-red-wine-train-19l5y:3\n",
              "</pre>\n"
            ]
          },
          "metadata": {}
        },
        {
          "output_type": "display_data",
          "data": {
            "text/plain": [
              "[2023-02-07T17:29:32.687472+00:00] The push refers to repository \n",
              "[416964291864.dkr.ecr.eu-west-1.amazonaws.com/hardik-ws-red-wine-train-19l5y]\n"
            ],
            "text/html": [
              "<pre style=\"white-space:pre;overflow-x:auto;line-height:normal;font-family:Menlo,'DejaVu Sans Mono',consolas,'Courier New',monospace\">[2023-02-07T17:29:32.687472+00:00] The push refers to repository \n",
              "[416964291864.dkr.ecr.eu-west-1.amazonaws.com/hardik-ws-red-wine-train-19l5y]\n",
              "</pre>\n"
            ]
          },
          "metadata": {}
        },
        {
          "output_type": "display_data",
          "data": {
            "text/plain": [
              "[2023-02-07T17:29:32.694285+00:00] 58ddf93f0509: Preparing\n"
            ],
            "text/html": [
              "<pre style=\"white-space:pre;overflow-x:auto;line-height:normal;font-family:Menlo,'DejaVu Sans Mono',consolas,'Courier New',monospace\">[2023-02-07T17:29:32.694285+00:00] 58ddf93f0509: Preparing\n",
              "</pre>\n"
            ]
          },
          "metadata": {}
        },
        {
          "output_type": "display_data",
          "data": {
            "text/plain": [
              "[2023-02-07T17:29:32.694307+00:00] 1bc0823b088c: Preparing\n"
            ],
            "text/html": [
              "<pre style=\"white-space:pre;overflow-x:auto;line-height:normal;font-family:Menlo,'DejaVu Sans Mono',consolas,'Courier New',monospace\">[2023-02-07T17:29:32.694307+00:00] 1bc0823b088c: Preparing\n",
              "</pre>\n"
            ]
          },
          "metadata": {}
        },
        {
          "output_type": "display_data",
          "data": {
            "text/plain": [
              "[2023-02-07T17:29:32.694369+00:00] aa36735ba325: Preparing\n"
            ],
            "text/html": [
              "<pre style=\"white-space:pre;overflow-x:auto;line-height:normal;font-family:Menlo,'DejaVu Sans Mono',consolas,'Courier New',monospace\">[2023-02-07T17:29:32.694369+00:00] aa36735ba325: Preparing\n",
              "</pre>\n"
            ]
          },
          "metadata": {}
        },
        {
          "output_type": "display_data",
          "data": {
            "text/plain": [
              "[2023-02-07T17:29:32.694377+00:00] 8cc77bf589bb: Preparing\n"
            ],
            "text/html": [
              "<pre style=\"white-space:pre;overflow-x:auto;line-height:normal;font-family:Menlo,'DejaVu Sans Mono',consolas,'Courier New',monospace\">[2023-02-07T17:29:32.694377+00:00] 8cc77bf589bb: Preparing\n",
              "</pre>\n"
            ]
          },
          "metadata": {}
        },
        {
          "output_type": "display_data",
          "data": {
            "text/plain": [
              "[2023-02-07T17:29:32.694616+00:00] 7e124cd2f81d: Preparing\n"
            ],
            "text/html": [
              "<pre style=\"white-space:pre;overflow-x:auto;line-height:normal;font-family:Menlo,'DejaVu Sans Mono',consolas,'Courier New',monospace\">[2023-02-07T17:29:32.694616+00:00] 7e124cd2f81d: Preparing\n",
              "</pre>\n"
            ]
          },
          "metadata": {}
        },
        {
          "output_type": "display_data",
          "data": {
            "text/plain": [
              "[2023-02-07T17:29:32.694624+00:00] cfd7eb89544b: Preparing\n"
            ],
            "text/html": [
              "<pre style=\"white-space:pre;overflow-x:auto;line-height:normal;font-family:Menlo,'DejaVu Sans Mono',consolas,'Courier New',monospace\">[2023-02-07T17:29:32.694624+00:00] cfd7eb89544b: Preparing\n",
              "</pre>\n"
            ]
          },
          "metadata": {}
        },
        {
          "output_type": "display_data",
          "data": {
            "text/plain": [
              "[2023-02-07T17:29:32.694627+00:00] e4c97b13f26a: Preparing\n"
            ],
            "text/html": [
              "<pre style=\"white-space:pre;overflow-x:auto;line-height:normal;font-family:Menlo,'DejaVu Sans Mono',consolas,'Courier New',monospace\">[2023-02-07T17:29:32.694627+00:00] e4c97b13f26a: Preparing\n",
              "</pre>\n"
            ]
          },
          "metadata": {}
        },
        {
          "output_type": "display_data",
          "data": {
            "text/plain": [
              "[2023-02-07T17:29:32.694629+00:00] 52fb12b3f764: Preparing\n"
            ],
            "text/html": [
              "<pre style=\"white-space:pre;overflow-x:auto;line-height:normal;font-family:Menlo,'DejaVu Sans Mono',consolas,'Courier New',monospace\">[2023-02-07T17:29:32.694629+00:00] 52fb12b3f764: Preparing\n",
              "</pre>\n"
            ]
          },
          "metadata": {}
        },
        {
          "output_type": "display_data",
          "data": {
            "text/plain": [
              "[2023-02-07T17:29:32.694631+00:00] 0dafd2b156dd: Preparing\n"
            ],
            "text/html": [
              "<pre style=\"white-space:pre;overflow-x:auto;line-height:normal;font-family:Menlo,'DejaVu Sans Mono',consolas,'Courier New',monospace\">[2023-02-07T17:29:32.694631+00:00] 0dafd2b156dd: Preparing\n",
              "</pre>\n"
            ]
          },
          "metadata": {}
        },
        {
          "output_type": "display_data",
          "data": {
            "text/plain": [
              "[2023-02-07T17:29:32.694633+00:00] e4c97b13f26a: Waiting\n"
            ],
            "text/html": [
              "<pre style=\"white-space:pre;overflow-x:auto;line-height:normal;font-family:Menlo,'DejaVu Sans Mono',consolas,'Courier New',monospace\">[2023-02-07T17:29:32.694633+00:00] e4c97b13f26a: Waiting\n",
              "</pre>\n"
            ]
          },
          "metadata": {}
        },
        {
          "output_type": "display_data",
          "data": {
            "text/plain": [
              "[2023-02-07T17:29:32.694672+00:00] cfd7eb89544b: Waiting\n"
            ],
            "text/html": [
              "<pre style=\"white-space:pre;overflow-x:auto;line-height:normal;font-family:Menlo,'DejaVu Sans Mono',consolas,'Courier New',monospace\">[2023-02-07T17:29:32.694672+00:00] cfd7eb89544b: Waiting\n",
              "</pre>\n"
            ]
          },
          "metadata": {}
        },
        {
          "output_type": "display_data",
          "data": {
            "text/plain": [
              "[2023-02-07T17:29:32.694675+00:00] 52fb12b3f764: Waiting\n"
            ],
            "text/html": [
              "<pre style=\"white-space:pre;overflow-x:auto;line-height:normal;font-family:Menlo,'DejaVu Sans Mono',consolas,'Courier New',monospace\">[2023-02-07T17:29:32.694675+00:00] 52fb12b3f764: Waiting\n",
              "</pre>\n"
            ]
          },
          "metadata": {}
        },
        {
          "output_type": "display_data",
          "data": {
            "text/plain": [
              "[2023-02-07T17:29:32.694839+00:00] 152e2eadff76: Preparing\n"
            ],
            "text/html": [
              "<pre style=\"white-space:pre;overflow-x:auto;line-height:normal;font-family:Menlo,'DejaVu Sans Mono',consolas,'Courier New',monospace\">[2023-02-07T17:29:32.694839+00:00] 152e2eadff76: Preparing\n",
              "</pre>\n"
            ]
          },
          "metadata": {}
        },
        {
          "output_type": "display_data",
          "data": {
            "text/plain": [
              "[2023-02-07T17:29:32.694853+00:00] 0dafd2b156dd: Waiting\n"
            ],
            "text/html": [
              "<pre style=\"white-space:pre;overflow-x:auto;line-height:normal;font-family:Menlo,'DejaVu Sans Mono',consolas,'Courier New',monospace\">[2023-02-07T17:29:32.694853+00:00] 0dafd2b156dd: Waiting\n",
              "</pre>\n"
            ]
          },
          "metadata": {}
        },
        {
          "output_type": "display_data",
          "data": {
            "text/plain": [
              "[2023-02-07T17:29:32.694862+00:00] 738226f36892: Preparing\n"
            ],
            "text/html": [
              "<pre style=\"white-space:pre;overflow-x:auto;line-height:normal;font-family:Menlo,'DejaVu Sans Mono',consolas,'Courier New',monospace\">[2023-02-07T17:29:32.694862+00:00] 738226f36892: Preparing\n",
              "</pre>\n"
            ]
          },
          "metadata": {}
        },
        {
          "output_type": "display_data",
          "data": {
            "text/plain": [
              "[2023-02-07T17:29:32.694865+00:00] 8fcfc59d80ac: Preparing\n"
            ],
            "text/html": [
              "<pre style=\"white-space:pre;overflow-x:auto;line-height:normal;font-family:Menlo,'DejaVu Sans Mono',consolas,'Courier New',monospace\">[2023-02-07T17:29:32.694865+00:00] 8fcfc59d80ac: Preparing\n",
              "</pre>\n"
            ]
          },
          "metadata": {}
        },
        {
          "output_type": "display_data",
          "data": {
            "text/plain": [
              "[2023-02-07T17:29:32.732491+00:00] 58ddf93f0509: Layer already exists\n"
            ],
            "text/html": [
              "<pre style=\"white-space:pre;overflow-x:auto;line-height:normal;font-family:Menlo,'DejaVu Sans Mono',consolas,'Courier New',monospace\">[2023-02-07T17:29:32.732491+00:00] 58ddf93f0509: Layer already exists\n",
              "</pre>\n"
            ]
          },
          "metadata": {}
        },
        {
          "output_type": "display_data",
          "data": {
            "text/plain": [
              "[2023-02-07T17:29:32.694867+00:00] 152e2eadff76: Waiting\n"
            ],
            "text/html": [
              "<pre style=\"white-space:pre;overflow-x:auto;line-height:normal;font-family:Menlo,'DejaVu Sans Mono',consolas,'Courier New',monospace\">[2023-02-07T17:29:32.694867+00:00] 152e2eadff76: Waiting\n",
              "</pre>\n"
            ]
          },
          "metadata": {}
        },
        {
          "output_type": "display_data",
          "data": {
            "text/plain": [
              "[2023-02-07T17:29:32.694871+00:00] 8fcfc59d80ac: Waiting\n"
            ],
            "text/html": [
              "<pre style=\"white-space:pre;overflow-x:auto;line-height:normal;font-family:Menlo,'DejaVu Sans Mono',consolas,'Courier New',monospace\">[2023-02-07T17:29:32.694871+00:00] 8fcfc59d80ac: Waiting\n",
              "</pre>\n"
            ]
          },
          "metadata": {}
        },
        {
          "output_type": "display_data",
          "data": {
            "text/plain": [
              "[2023-02-07T17:29:32.736072+00:00] 7e124cd2f81d: Layer already exists\n"
            ],
            "text/html": [
              "<pre style=\"white-space:pre;overflow-x:auto;line-height:normal;font-family:Menlo,'DejaVu Sans Mono',consolas,'Courier New',monospace\">[2023-02-07T17:29:32.736072+00:00] 7e124cd2f81d: Layer already exists\n",
              "</pre>\n"
            ]
          },
          "metadata": {}
        },
        {
          "output_type": "display_data",
          "data": {
            "text/plain": [
              "[2023-02-07T17:29:32.739129+00:00] 8cc77bf589bb: Layer already exists\n"
            ],
            "text/html": [
              "<pre style=\"white-space:pre;overflow-x:auto;line-height:normal;font-family:Menlo,'DejaVu Sans Mono',consolas,'Courier New',monospace\">[2023-02-07T17:29:32.739129+00:00] 8cc77bf589bb: Layer already exists\n",
              "</pre>\n"
            ]
          },
          "metadata": {}
        },
        {
          "output_type": "display_data",
          "data": {
            "text/plain": [
              "[2023-02-07T17:29:32.742414+00:00] aa36735ba325: Layer already exists\n"
            ],
            "text/html": [
              "<pre style=\"white-space:pre;overflow-x:auto;line-height:normal;font-family:Menlo,'DejaVu Sans Mono',consolas,'Courier New',monospace\">[2023-02-07T17:29:32.742414+00:00] aa36735ba325: Layer already exists\n",
              "</pre>\n"
            ]
          },
          "metadata": {}
        },
        {
          "output_type": "display_data",
          "data": {
            "text/plain": [
              "[2023-02-07T17:29:32.745837+00:00] 1bc0823b088c: Layer already exists\n"
            ],
            "text/html": [
              "<pre style=\"white-space:pre;overflow-x:auto;line-height:normal;font-family:Menlo,'DejaVu Sans Mono',consolas,'Courier New',monospace\">[2023-02-07T17:29:32.745837+00:00] 1bc0823b088c: Layer already exists\n",
              "</pre>\n"
            ]
          },
          "metadata": {}
        },
        {
          "output_type": "display_data",
          "data": {
            "text/plain": [
              "[2023-02-07T17:29:32.777246+00:00] 52fb12b3f764: Layer already exists\n"
            ],
            "text/html": [
              "<pre style=\"white-space:pre;overflow-x:auto;line-height:normal;font-family:Menlo,'DejaVu Sans Mono',consolas,'Courier New',monospace\">[2023-02-07T17:29:32.777246+00:00] 52fb12b3f764: Layer already exists\n",
              "</pre>\n"
            ]
          },
          "metadata": {}
        },
        {
          "output_type": "display_data",
          "data": {
            "text/plain": [
              "[2023-02-07T17:29:32.780055+00:00] e4c97b13f26a: Layer already exists\n"
            ],
            "text/html": [
              "<pre style=\"white-space:pre;overflow-x:auto;line-height:normal;font-family:Menlo,'DejaVu Sans Mono',consolas,'Courier New',monospace\">[2023-02-07T17:29:32.780055+00:00] e4c97b13f26a: Layer already exists\n",
              "</pre>\n"
            ]
          },
          "metadata": {}
        },
        {
          "output_type": "display_data",
          "data": {
            "text/plain": [
              "[2023-02-07T17:29:32.773417+00:00] cfd7eb89544b: Layer already exists\n"
            ],
            "text/html": [
              "<pre style=\"white-space:pre;overflow-x:auto;line-height:normal;font-family:Menlo,'DejaVu Sans Mono',consolas,'Courier New',monospace\">[2023-02-07T17:29:32.773417+00:00] cfd7eb89544b: Layer already exists\n",
              "</pre>\n"
            ]
          },
          "metadata": {}
        },
        {
          "output_type": "display_data",
          "data": {
            "text/plain": [
              "[2023-02-07T17:29:32.784436+00:00] 152e2eadff76: Layer already exists\n"
            ],
            "text/html": [
              "<pre style=\"white-space:pre;overflow-x:auto;line-height:normal;font-family:Menlo,'DejaVu Sans Mono',consolas,'Courier New',monospace\">[2023-02-07T17:29:32.784436+00:00] 152e2eadff76: Layer already exists\n",
              "</pre>\n"
            ]
          },
          "metadata": {}
        },
        {
          "output_type": "display_data",
          "data": {
            "text/plain": [
              "[2023-02-07T17:29:32.821780+00:00] 738226f36892: Layer already exists\n"
            ],
            "text/html": [
              "<pre style=\"white-space:pre;overflow-x:auto;line-height:normal;font-family:Menlo,'DejaVu Sans Mono',consolas,'Courier New',monospace\">[2023-02-07T17:29:32.821780+00:00] 738226f36892: Layer already exists\n",
              "</pre>\n"
            ]
          },
          "metadata": {}
        },
        {
          "output_type": "display_data",
          "data": {
            "text/plain": [
              "[2023-02-07T17:29:32.825486+00:00] 8fcfc59d80ac: Layer already exists\n"
            ],
            "text/html": [
              "<pre style=\"white-space:pre;overflow-x:auto;line-height:normal;font-family:Menlo,'DejaVu Sans Mono',consolas,'Courier New',monospace\">[2023-02-07T17:29:32.825486+00:00] 8fcfc59d80ac: Layer already exists\n",
              "</pre>\n"
            ]
          },
          "metadata": {}
        },
        {
          "output_type": "display_data",
          "data": {
            "text/plain": [
              "[2023-02-07T17:29:32.975185+00:00] 3: digest: \n",
              "sha256:a15b5c21b20428bfc2424cb01b8ddcdd8e93a6ee5c7695a7d148ecd819541ee3 size: 2846\n"
            ],
            "text/html": [
              "<pre style=\"white-space:pre;overflow-x:auto;line-height:normal;font-family:Menlo,'DejaVu Sans Mono',consolas,'Courier New',monospace\">[2023-02-07T17:29:32.975185+00:00] 3: digest: \n",
              "sha256:a15b5c21b20428bfc2424cb01b8ddcdd8e93a6ee5c7695a7d148ecd819541ee3 size: 2846\n",
              "</pre>\n"
            ]
          },
          "metadata": {}
        },
        {
          "output_type": "display_data",
          "data": {
            "text/plain": [
              "[2023-02-07T17:29:32.788123+00:00] 0dafd2b156dd: Layer already exists\n"
            ],
            "text/html": [
              "<pre style=\"white-space:pre;overflow-x:auto;line-height:normal;font-family:Menlo,'DejaVu Sans Mono',consolas,'Courier New',monospace\">[2023-02-07T17:29:32.788123+00:00] 0dafd2b156dd: Layer already exists\n",
              "</pre>\n"
            ]
          },
          "metadata": {}
        },
        {
          "output_type": "display_data",
          "data": {
            "text/plain": [
              "[2023-02-07T17:29:33.010565+00:00] The push refers to repository \n",
              "[416964291864.dkr.ecr.eu-west-1.amazonaws.com/hardik-ws-red-wine-train-19l5y]\n"
            ],
            "text/html": [
              "<pre style=\"white-space:pre;overflow-x:auto;line-height:normal;font-family:Menlo,'DejaVu Sans Mono',consolas,'Courier New',monospace\">[2023-02-07T17:29:33.010565+00:00] The push refers to repository \n",
              "[416964291864.dkr.ecr.eu-west-1.amazonaws.com/hardik-ws-red-wine-train-19l5y]\n",
              "</pre>\n"
            ]
          },
          "metadata": {}
        },
        {
          "output_type": "display_data",
          "data": {
            "text/plain": [
              "[2023-02-07T17:29:33.017611+00:00] 1bc0823b088c: Preparing\n"
            ],
            "text/html": [
              "<pre style=\"white-space:pre;overflow-x:auto;line-height:normal;font-family:Menlo,'DejaVu Sans Mono',consolas,'Courier New',monospace\">[2023-02-07T17:29:33.017611+00:00] 1bc0823b088c: Preparing\n",
              "</pre>\n"
            ]
          },
          "metadata": {}
        },
        {
          "output_type": "display_data",
          "data": {
            "text/plain": [
              "[2023-02-07T17:29:33.017590+00:00] 58ddf93f0509: Preparing\n"
            ],
            "text/html": [
              "<pre style=\"white-space:pre;overflow-x:auto;line-height:normal;font-family:Menlo,'DejaVu Sans Mono',consolas,'Courier New',monospace\">[2023-02-07T17:29:33.017590+00:00] 58ddf93f0509: Preparing\n",
              "</pre>\n"
            ]
          },
          "metadata": {}
        },
        {
          "output_type": "display_data",
          "data": {
            "text/plain": [
              "[2023-02-07T17:29:33.017621+00:00] aa36735ba325: Preparing\n"
            ],
            "text/html": [
              "<pre style=\"white-space:pre;overflow-x:auto;line-height:normal;font-family:Menlo,'DejaVu Sans Mono',consolas,'Courier New',monospace\">[2023-02-07T17:29:33.017621+00:00] aa36735ba325: Preparing\n",
              "</pre>\n"
            ]
          },
          "metadata": {}
        },
        {
          "output_type": "display_data",
          "data": {
            "text/plain": [
              "[2023-02-07T17:29:33.017624+00:00] 8cc77bf589bb: Preparing\n"
            ],
            "text/html": [
              "<pre style=\"white-space:pre;overflow-x:auto;line-height:normal;font-family:Menlo,'DejaVu Sans Mono',consolas,'Courier New',monospace\">[2023-02-07T17:29:33.017624+00:00] 8cc77bf589bb: Preparing\n",
              "</pre>\n"
            ]
          },
          "metadata": {}
        },
        {
          "output_type": "display_data",
          "data": {
            "text/plain": [
              "[2023-02-07T17:29:33.017653+00:00] 7e124cd2f81d: Preparing\n"
            ],
            "text/html": [
              "<pre style=\"white-space:pre;overflow-x:auto;line-height:normal;font-family:Menlo,'DejaVu Sans Mono',consolas,'Courier New',monospace\">[2023-02-07T17:29:33.017653+00:00] 7e124cd2f81d: Preparing\n",
              "</pre>\n"
            ]
          },
          "metadata": {}
        },
        {
          "output_type": "display_data",
          "data": {
            "text/plain": [
              "[2023-02-07T17:29:33.017661+00:00] e4c97b13f26a: Preparing\n"
            ],
            "text/html": [
              "<pre style=\"white-space:pre;overflow-x:auto;line-height:normal;font-family:Menlo,'DejaVu Sans Mono',consolas,'Courier New',monospace\">[2023-02-07T17:29:33.017661+00:00] e4c97b13f26a: Preparing\n",
              "</pre>\n"
            ]
          },
          "metadata": {}
        },
        {
          "output_type": "display_data",
          "data": {
            "text/plain": [
              "[2023-02-07T17:29:33.017658+00:00] cfd7eb89544b: Preparing\n"
            ],
            "text/html": [
              "<pre style=\"white-space:pre;overflow-x:auto;line-height:normal;font-family:Menlo,'DejaVu Sans Mono',consolas,'Courier New',monospace\">[2023-02-07T17:29:33.017658+00:00] cfd7eb89544b: Preparing\n",
              "</pre>\n"
            ]
          },
          "metadata": {}
        },
        {
          "output_type": "display_data",
          "data": {
            "text/plain": [
              "[2023-02-07T17:29:33.017808+00:00] cfd7eb89544b: Waiting\n"
            ],
            "text/html": [
              "<pre style=\"white-space:pre;overflow-x:auto;line-height:normal;font-family:Menlo,'DejaVu Sans Mono',consolas,'Courier New',monospace\">[2023-02-07T17:29:33.017808+00:00] cfd7eb89544b: Waiting\n",
              "</pre>\n"
            ]
          },
          "metadata": {}
        },
        {
          "output_type": "display_data",
          "data": {
            "text/plain": [
              "[2023-02-07T17:29:33.018622+00:00] 52fb12b3f764: Preparing\n"
            ],
            "text/html": [
              "<pre style=\"white-space:pre;overflow-x:auto;line-height:normal;font-family:Menlo,'DejaVu Sans Mono',consolas,'Courier New',monospace\">[2023-02-07T17:29:33.018622+00:00] 52fb12b3f764: Preparing\n",
              "</pre>\n"
            ]
          },
          "metadata": {}
        },
        {
          "output_type": "display_data",
          "data": {
            "text/plain": [
              "[2023-02-07T17:29:33.018646+00:00] e4c97b13f26a: Waiting\n"
            ],
            "text/html": [
              "<pre style=\"white-space:pre;overflow-x:auto;line-height:normal;font-family:Menlo,'DejaVu Sans Mono',consolas,'Courier New',monospace\">[2023-02-07T17:29:33.018646+00:00] e4c97b13f26a: Waiting\n",
              "</pre>\n"
            ]
          },
          "metadata": {}
        },
        {
          "output_type": "display_data",
          "data": {
            "text/plain": [
              "[2023-02-07T17:29:33.018650+00:00] 738226f36892: Preparing\n"
            ],
            "text/html": [
              "<pre style=\"white-space:pre;overflow-x:auto;line-height:normal;font-family:Menlo,'DejaVu Sans Mono',consolas,'Courier New',monospace\">[2023-02-07T17:29:33.018650+00:00] 738226f36892: Preparing\n",
              "</pre>\n"
            ]
          },
          "metadata": {}
        },
        {
          "output_type": "display_data",
          "data": {
            "text/plain": [
              "[2023-02-07T17:29:33.018652+00:00] 52fb12b3f764: Waiting\n"
            ],
            "text/html": [
              "<pre style=\"white-space:pre;overflow-x:auto;line-height:normal;font-family:Menlo,'DejaVu Sans Mono',consolas,'Courier New',monospace\">[2023-02-07T17:29:33.018652+00:00] 52fb12b3f764: Waiting\n",
              "</pre>\n"
            ]
          },
          "metadata": {}
        },
        {
          "output_type": "display_data",
          "data": {
            "text/plain": [
              "[2023-02-07T17:29:33.018648+00:00] 152e2eadff76: Preparing\n"
            ],
            "text/html": [
              "<pre style=\"white-space:pre;overflow-x:auto;line-height:normal;font-family:Menlo,'DejaVu Sans Mono',consolas,'Courier New',monospace\">[2023-02-07T17:29:33.018648+00:00] 152e2eadff76: Preparing\n",
              "</pre>\n"
            ]
          },
          "metadata": {}
        },
        {
          "output_type": "display_data",
          "data": {
            "text/plain": [
              "[2023-02-07T17:29:33.018642+00:00] 0dafd2b156dd: Preparing\n"
            ],
            "text/html": [
              "<pre style=\"white-space:pre;overflow-x:auto;line-height:normal;font-family:Menlo,'DejaVu Sans Mono',consolas,'Courier New',monospace\">[2023-02-07T17:29:33.018642+00:00] 0dafd2b156dd: Preparing\n",
              "</pre>\n"
            ]
          },
          "metadata": {}
        },
        {
          "output_type": "display_data",
          "data": {
            "text/plain": [
              "[2023-02-07T17:29:33.018656+00:00] 152e2eadff76: Waiting\n"
            ],
            "text/html": [
              "<pre style=\"white-space:pre;overflow-x:auto;line-height:normal;font-family:Menlo,'DejaVu Sans Mono',consolas,'Courier New',monospace\">[2023-02-07T17:29:33.018656+00:00] 152e2eadff76: Waiting\n",
              "</pre>\n"
            ]
          },
          "metadata": {}
        },
        {
          "output_type": "display_data",
          "data": {
            "text/plain": [
              "[2023-02-07T17:29:33.018658+00:00] 738226f36892: Waiting\n"
            ],
            "text/html": [
              "<pre style=\"white-space:pre;overflow-x:auto;line-height:normal;font-family:Menlo,'DejaVu Sans Mono',consolas,'Courier New',monospace\">[2023-02-07T17:29:33.018658+00:00] 738226f36892: Waiting\n",
              "</pre>\n"
            ]
          },
          "metadata": {}
        },
        {
          "output_type": "display_data",
          "data": {
            "text/plain": [
              "[2023-02-07T17:29:33.018654+00:00] 8fcfc59d80ac: Preparing\n"
            ],
            "text/html": [
              "<pre style=\"white-space:pre;overflow-x:auto;line-height:normal;font-family:Menlo,'DejaVu Sans Mono',consolas,'Courier New',monospace\">[2023-02-07T17:29:33.018654+00:00] 8fcfc59d80ac: Preparing\n",
              "</pre>\n"
            ]
          },
          "metadata": {}
        },
        {
          "output_type": "display_data",
          "data": {
            "text/plain": [
              "[2023-02-07T17:29:33.018660+00:00] 8fcfc59d80ac: Waiting\n"
            ],
            "text/html": [
              "<pre style=\"white-space:pre;overflow-x:auto;line-height:normal;font-family:Menlo,'DejaVu Sans Mono',consolas,'Courier New',monospace\">[2023-02-07T17:29:33.018660+00:00] 8fcfc59d80ac: Waiting\n",
              "</pre>\n"
            ]
          },
          "metadata": {}
        },
        {
          "output_type": "display_data",
          "data": {
            "text/plain": [
              "[2023-02-07T17:29:33.050891+00:00] aa36735ba325: Layer already exists\n"
            ],
            "text/html": [
              "<pre style=\"white-space:pre;overflow-x:auto;line-height:normal;font-family:Menlo,'DejaVu Sans Mono',consolas,'Courier New',monospace\">[2023-02-07T17:29:33.050891+00:00] aa36735ba325: Layer already exists\n",
              "</pre>\n"
            ]
          },
          "metadata": {}
        },
        {
          "output_type": "display_data",
          "data": {
            "text/plain": [
              "[2023-02-07T17:29:33.056335+00:00] 58ddf93f0509: Layer already exists\n"
            ],
            "text/html": [
              "<pre style=\"white-space:pre;overflow-x:auto;line-height:normal;font-family:Menlo,'DejaVu Sans Mono',consolas,'Courier New',monospace\">[2023-02-07T17:29:33.056335+00:00] 58ddf93f0509: Layer already exists\n",
              "</pre>\n"
            ]
          },
          "metadata": {}
        },
        {
          "output_type": "display_data",
          "data": {
            "text/plain": [
              "[2023-02-07T17:29:33.080697+00:00] 0dafd2b156dd: Layer already exists\n"
            ],
            "text/html": [
              "<pre style=\"white-space:pre;overflow-x:auto;line-height:normal;font-family:Menlo,'DejaVu Sans Mono',consolas,'Courier New',monospace\">[2023-02-07T17:29:33.080697+00:00] 0dafd2b156dd: Layer already exists\n",
              "</pre>\n"
            ]
          },
          "metadata": {}
        },
        {
          "output_type": "display_data",
          "data": {
            "text/plain": [
              "[2023-02-07T17:29:33.052865+00:00] 7e124cd2f81d: Layer already exists\n"
            ],
            "text/html": [
              "<pre style=\"white-space:pre;overflow-x:auto;line-height:normal;font-family:Menlo,'DejaVu Sans Mono',consolas,'Courier New',monospace\">[2023-02-07T17:29:33.052865+00:00] 7e124cd2f81d: Layer already exists\n",
              "</pre>\n"
            ]
          },
          "metadata": {}
        },
        {
          "output_type": "display_data",
          "data": {
            "text/plain": [
              "[2023-02-07T17:29:33.054308+00:00] 8cc77bf589bb: Layer already exists\n"
            ],
            "text/html": [
              "<pre style=\"white-space:pre;overflow-x:auto;line-height:normal;font-family:Menlo,'DejaVu Sans Mono',consolas,'Courier New',monospace\">[2023-02-07T17:29:33.054308+00:00] 8cc77bf589bb: Layer already exists\n",
              "</pre>\n"
            ]
          },
          "metadata": {}
        },
        {
          "output_type": "display_data",
          "data": {
            "text/plain": [
              "[2023-02-07T17:29:33.042231+00:00] 1bc0823b088c: Layer already exists\n"
            ],
            "text/html": [
              "<pre style=\"white-space:pre;overflow-x:auto;line-height:normal;font-family:Menlo,'DejaVu Sans Mono',consolas,'Courier New',monospace\">[2023-02-07T17:29:33.042231+00:00] 1bc0823b088c: Layer already exists\n",
              "</pre>\n"
            ]
          },
          "metadata": {}
        },
        {
          "output_type": "display_data",
          "data": {
            "text/plain": [
              "[2023-02-07T17:29:33.084507+00:00] cfd7eb89544b: Layer already exists\n"
            ],
            "text/html": [
              "<pre style=\"white-space:pre;overflow-x:auto;line-height:normal;font-family:Menlo,'DejaVu Sans Mono',consolas,'Courier New',monospace\">[2023-02-07T17:29:33.084507+00:00] cfd7eb89544b: Layer already exists\n",
              "</pre>\n"
            ]
          },
          "metadata": {}
        },
        {
          "output_type": "display_data",
          "data": {
            "text/plain": [
              "[2023-02-07T17:29:33.085468+00:00] 52fb12b3f764: Layer already exists\n"
            ],
            "text/html": [
              "<pre style=\"white-space:pre;overflow-x:auto;line-height:normal;font-family:Menlo,'DejaVu Sans Mono',consolas,'Courier New',monospace\">[2023-02-07T17:29:33.085468+00:00] 52fb12b3f764: Layer already exists\n",
              "</pre>\n"
            ]
          },
          "metadata": {}
        },
        {
          "output_type": "display_data",
          "data": {
            "text/plain": [
              "[2023-02-07T17:29:33.087836+00:00] e4c97b13f26a: Layer already exists\n"
            ],
            "text/html": [
              "<pre style=\"white-space:pre;overflow-x:auto;line-height:normal;font-family:Menlo,'DejaVu Sans Mono',consolas,'Courier New',monospace\">[2023-02-07T17:29:33.087836+00:00] e4c97b13f26a: Layer already exists\n",
              "</pre>\n"
            ]
          },
          "metadata": {}
        },
        {
          "output_type": "display_data",
          "data": {
            "text/plain": [
              "[2023-02-07T17:29:33.093481+00:00] 152e2eadff76: Layer already exists\n"
            ],
            "text/html": [
              "<pre style=\"white-space:pre;overflow-x:auto;line-height:normal;font-family:Menlo,'DejaVu Sans Mono',consolas,'Courier New',monospace\">[2023-02-07T17:29:33.093481+00:00] 152e2eadff76: Layer already exists\n",
              "</pre>\n"
            ]
          },
          "metadata": {}
        },
        {
          "output_type": "display_data",
          "data": {
            "text/plain": [
              "[2023-02-07T17:29:33.112276+00:00] 8fcfc59d80ac: Layer already exists\n"
            ],
            "text/html": [
              "<pre style=\"white-space:pre;overflow-x:auto;line-height:normal;font-family:Menlo,'DejaVu Sans Mono',consolas,'Courier New',monospace\">[2023-02-07T17:29:33.112276+00:00] 8fcfc59d80ac: Layer already exists\n",
              "</pre>\n"
            ]
          },
          "metadata": {}
        },
        {
          "output_type": "display_data",
          "data": {
            "text/plain": [
              "[2023-02-07T17:29:33.117368+00:00] 738226f36892: Layer already exists\n"
            ],
            "text/html": [
              "<pre style=\"white-space:pre;overflow-x:auto;line-height:normal;font-family:Menlo,'DejaVu Sans Mono',consolas,'Courier New',monospace\">[2023-02-07T17:29:33.117368+00:00] 738226f36892: Layer already exists\n",
              "</pre>\n"
            ]
          },
          "metadata": {}
        },
        {
          "output_type": "display_data",
          "data": {
            "text/plain": [
              "[2023-02-07T17:29:33.235411+00:00] latest: digest: \n",
              "sha256:a15b5c21b20428bfc2424cb01b8ddcdd8e93a6ee5c7695a7d148ecd819541ee3 size: 2846\n"
            ],
            "text/html": [
              "<pre style=\"white-space:pre;overflow-x:auto;line-height:normal;font-family:Menlo,'DejaVu Sans Mono',consolas,'Courier New',monospace\">[2023-02-07T17:29:33.235411+00:00] latest: digest: \n",
              "sha256:a15b5c21b20428bfc2424cb01b8ddcdd8e93a6ee5c7695a7d148ecd819541ee3 size: 2846\n",
              "</pre>\n"
            ]
          },
          "metadata": {}
        },
        {
          "output_type": "display_data",
          "data": {
            "text/plain": [
              "[2023-02-07T17:29:33.237090+00:00] \u001b[36m[==== Docker logs end ====]\u001b[0m\n"
            ],
            "text/html": [
              "<pre style=\"white-space:pre;overflow-x:auto;line-height:normal;font-family:Menlo,'DejaVu Sans Mono',consolas,'Courier New',monospace\">[2023-02-07T17:29:33.237090+00:00] <span style=\"color: #008080; text-decoration-color: #008080\">[==== Docker logs end ====]</span>\n",
              "</pre>\n"
            ]
          },
          "metadata": {}
        },
        {
          "output_type": "display_data",
          "data": {
            "text/plain": [
              "[2023-02-07T17:29:33.252478+00:00] \u001b[33m[==== Docker Image Size:- 1.6GB ====]\u001b[0m\n"
            ],
            "text/html": [
              "<pre style=\"white-space:pre;overflow-x:auto;line-height:normal;font-family:Menlo,'DejaVu Sans Mono',consolas,'Courier New',monospace\">[2023-02-07T17:29:33.252478+00:00] <span style=\"color: #808000; text-decoration-color: #808000\">[==== Docker Image Size:- 1.6GB ====]</span>\n",
              "</pre>\n"
            ]
          },
          "metadata": {}
        },
        {
          "output_type": "display_data",
          "data": {
            "text/plain": [
              "[2023-02-07T17:29:33.252501+00:00] \u001b[32m[Done]\u001b[0m Docker image built and pushed\n"
            ],
            "text/html": [
              "<pre style=\"white-space:pre;overflow-x:auto;line-height:normal;font-family:Menlo,'DejaVu Sans Mono',consolas,'Courier New',monospace\">[2023-02-07T17:29:33.252501+00:00] <span style=\"color: #008000; text-decoration-color: #008000\">[Done]</span> Docker image built and pushed\n",
              "</pre>\n"
            ]
          },
          "metadata": {}
        },
        {
          "output_type": "display_data",
          "data": {
            "text/plain": [
              "[2023-02-07T17:30:01.504267+00:00] \u001b[36m[Start]\u001b[0m Sending request to url: \n",
              "http://truefoundry-servicefoundry-server.truefoundry.svc.cluster.local:3000/v1/x/builds/clduinlpq1x351hsv8i0r34an \n",
              "with json {\"status\": \"SUCCEEDED\", \"imageUri\": \n",
              "\"416964291864.dkr.ecr.eu-west-1.amazonaws.com/hardik-ws-red-wine-train-19l5y:3\"}\n"
            ],
            "text/html": [
              "<pre style=\"white-space:pre;overflow-x:auto;line-height:normal;font-family:Menlo,'DejaVu Sans Mono',consolas,'Courier New',monospace\">[2023-02-07T17:30:01.504267+00:00] <span style=\"color: #008080; text-decoration-color: #008080\">[Start]</span> Sending request to url: \n",
              "http://truefoundry-servicefoundry-server.truefoundry.svc.cluster.local:3000/v1/x/builds/clduinlpq1x351hsv8i0r34an \n",
              "with json {\"status\": \"SUCCEEDED\", \"imageUri\": \n",
              "\"416964291864.dkr.ecr.eu-west-1.amazonaws.com/hardik-ws-red-wine-train-19l5y:3\"}\n",
              "</pre>\n"
            ]
          },
          "metadata": {}
        },
        {
          "output_type": "display_data",
          "data": {
            "text/plain": [
              "[2023-02-07T17:30:11.481974+00:00] \u001b[32m[Done]\u001b[0m Image Built Successfully.\n"
            ],
            "text/html": [
              "<pre style=\"white-space:pre;overflow-x:auto;line-height:normal;font-family:Menlo,'DejaVu Sans Mono',consolas,'Courier New',monospace\">[2023-02-07T17:30:11.481974+00:00] <span style=\"color: #008000; text-decoration-color: #008000\">[Done]</span> Image Built Successfully.\n",
              "</pre>\n"
            ]
          },
          "metadata": {}
        },
        {
          "output_type": "display_data",
          "data": {
            "text/plain": [
              "[2023-02-07T17:30:11.481996+00:00] \u001b[32m[Done]\u001b[0m Kubernetes deployment triggered. It may take 5-10s for the application to\n",
              "be live.\n"
            ],
            "text/html": [
              "<pre style=\"white-space:pre;overflow-x:auto;line-height:normal;font-family:Menlo,'DejaVu Sans Mono',consolas,'Courier New',monospace\">[2023-02-07T17:30:11.481996+00:00] <span style=\"color: #008000; text-decoration-color: #008000\">[Done]</span> Kubernetes deployment triggered. It may take 5-10s for the application to\n",
              "be live.\n",
              "</pre>\n"
            ]
          },
          "metadata": {}
        },
        {
          "output_type": "display_data",
          "data": {
            "text/plain": [],
            "text/html": [
              "<pre style=\"white-space:pre;overflow-x:auto;line-height:normal;font-family:Menlo,'DejaVu Sans Mono',consolas,'Courier New',monospace\"></pre>\n"
            ]
          },
          "metadata": {}
        },
        {
          "output_type": "stream",
          "name": "stderr",
          "text": [
            "2023-02-07 17:30:27,393 [servicefoundry] INFO     You can find the application on the dashboard:- 'https://app.truefoundry.com/applications/cldtzpsva7ngf1ht824y19l5y?tab=deployments'\n"
          ]
        }
      ],
      "source": [
        "import argparse\n",
        "import logging\n",
        "\n",
        "from servicefoundry import Build, Job, PythonBuild, Resources\n",
        "\n",
        "logging.basicConfig(level=logging.INFO)\n",
        "\n",
        "# servicefoundry uses this specification to automatically create a Dockerfile and build an image,\n",
        "python_build = PythonBuild(\n",
        "    python_version=\"3.9\",\n",
        "    command=\"python train.py\",\n",
        ")\n",
        "env = {\n",
        "    \"TFY_API_KEY\": TFY_API_KEY,\n",
        "}\n",
        "job = Job(\n",
        "    name=\"red-wine-train\",\n",
        "    image=Build(build_spec=python_build),\n",
        "    env=env,\n",
        "    resources=Resources(\n",
        "        cpu_request=1, cpu_limit=1.5, memory_request=1000, memory_limit=1500\n",
        "    ),\n",
        ")\n",
        "output_train = job.deploy(workspace_fqn=WORKSPACE)"
      ]
    },
    {
      "cell_type": "code",
      "source": [
        "print(output_train)"
      ],
      "metadata": {
        "colab": {
          "base_uri": "https://localhost:8080/"
        },
        "id": "NvL-UF-z6bBt",
        "outputId": "acbedfac-6f3f-4200-9585-956111a9fca4"
      },
      "execution_count": 20,
      "outputs": [
        {
          "output_type": "stream",
          "name": "stdout",
          "text": [
            "id='clduinhqe9vnk1ht86hojak8o' fqn='tfy-cluster-euwe1:hardik-ws:red-wine-train:3' version=3 manifest={'env': {'TFY_API_KEY': 'djE6dHJ1ZWZvdW5kcnk6dXNlci10cnVlZm91bmRyeTphZTJkYmE='}, 'name': 'red-wine-train', 'type': 'job', 'image': {'type': 'build', 'build_spec': {'type': 'tfy-python-buildpack', 'command': 'python train.py', 'python_version': '3.9', 'build_context_path': './'}, 'build_source': {'type': 'remote', 'remote_uri': 's3://tfy-ctl-euwe1-production-mlfoundry-server/tfy-cluster-euwe1:hardik-ws/red-wine-train/clduinh991x301hsv7g7jdbmc/package.tar.gz'}}, 'restart': 'Never', 'retries': 1, 'timeout': 1000, 'trigger': {'type': 'manual'}, 'resources': {'cpu_limit': 1.5, 'cpu_request': 1, 'memory_limit': 1500, 'memory_request': 1000, 'ephemeral_storage_limit': 2000, 'ephemeral_storage_request': 1000}, 'failed_jobs_history_limit': 20, 'successful_jobs_history_limit': 20} createdBy='user-truefoundry' applicationId='cldtzpsva7ngf1ht824y19l5y' failureReason=None createdAt=datetime.datetime(2023, 2, 7, 17, 28, 50, 822000, tzinfo=datetime.timezone.utc) updatedAt=datetime.datetime(2023, 2, 7, 17, 28, 50, 827000, tzinfo=datetime.timezone.utc) currentStatusId='clduinhqh9vnl1ht8houzca7b' metadata=[{'name': 'red-wine-train', 'ports': []}]\n"
          ]
        }
      ]
    },
    {
      "cell_type": "code",
      "source": [
        "# In order to trigger the above job, go to the Dashboard --> Deployments --> red-wine-train job --> 'Run Job'   OR   Run below script to trigger a job\n",
        "\n",
        "from servicefoundry.internal.experimental import trigger_job\n",
        "\n",
        "# Job Deployment FQN can be found at Dashboard --> Deployments --> red-wine-train job --> FQN\n",
        "JOB_DEPLOYMENT_FQN = output_train.fqn\n",
        "\n",
        "trigger_job(deployment_fqn=JOB_DEPLOYMENT_FQN, command=\"python train.py\")"
      ],
      "metadata": {
        "colab": {
          "base_uri": "https://localhost:8080/"
        },
        "id": "aTOGyLz9p4ud",
        "outputId": "3379aa69-8ded-491c-e12f-1655c4791c95"
      },
      "execution_count": 18,
      "outputs": [
        {
          "name": "stdout",
          "output_type": "stream",
          "text": [
            "Enter Job Deployment FQN:-tfy-cluster-euwe1:hardik-ws:red-wine-train:3\n"
          ]
        },
        {
          "output_type": "stream",
          "name": "stderr",
          "text": [
            "2023-02-07 18:04:23,059 [servicefoundry] WARNING  Warning: This feature trigger_job is in experimental stage. As such there is no guarantees this will be maintained with backward compatibility or even available moving forward\n"
          ]
        },
        {
          "output_type": "execute_result",
          "data": {
            "text/plain": [
              "{'status': 'Job triggered',\n",
              " 'deployment_info': DeploymentFqnResponse(deploymentId='clduinhqe9vnk1ht86hojak8o', applicationId='cldtzpsva7ngf1ht824y19l5y', workspaceId='cldtunizbp9bm1hqvhp1f78v1'),\n",
              " 'previous_runs_url': 'https://app.truefoundry.com/deployments/cldtzpsva7ngf1ht824y19l5y?tab=previousRuns'}"
            ]
          },
          "metadata": {},
          "execution_count": 18
        }
      ]
    },
    {
      "cell_type": "markdown",
      "metadata": {
        "id": "Pk4fgjByGgrr"
      },
      "source": [
        "# ☁ Deploying FastAPI Prediction Service"
      ]
    },
    {
      "cell_type": "code",
      "source": [
        "# Copy the FQN of the latest version of the model from Experiments Tracking tab of TrueFoundry --> project name (red-wine-quality-demo by default) --> Models --> FQN\n",
        "MODEL_VERSION_FQN = input(\"Please enter your Model Version FQN:-\")"
      ],
      "metadata": {
        "colab": {
          "base_uri": "https://localhost:8080/"
        },
        "id": "LsTsMeF3vaRV",
        "outputId": "418da1e3-70be-4318-f38b-6a8184a718e2"
      },
      "execution_count": 21,
      "outputs": [
        {
          "name": "stdout",
          "output_type": "stream",
          "text": [
            "Please enter your Model Version FQN:-model:truefoundry/user-truefoundry/red-wine-quality-demo/red-wine-quality-classifier:15\n"
          ]
        }
      ]
    },
    {
      "cell_type": "code",
      "source": [
        "%cd /content/truefoundry-examples/end-to-end-examples/red-wine-classification/infer_realtime"
      ],
      "metadata": {
        "id": "7ox_63Zjbuds",
        "colab": {
          "base_uri": "https://localhost:8080/"
        },
        "outputId": "c7cd5e54-3036-4eb9-f5a6-991ab79ec86e"
      },
      "execution_count": 22,
      "outputs": [
        {
          "output_type": "stream",
          "name": "stdout",
          "text": [
            "/content/truefoundry-examples/end-to-end-examples/red-wine-classification/infer_realtime\n"
          ]
        }
      ]
    },
    {
      "cell_type": "code",
      "source": [
        "!pygmentize infer_realtime.py"
      ],
      "metadata": {
        "id": "OaUa8PzNb3O8"
      },
      "execution_count": null,
      "outputs": []
    },
    {
      "cell_type": "code",
      "source": [
        "import argparse\n",
        "import logging\n",
        "\n",
        "from servicefoundry import Build, PythonBuild, Resources, Service\n",
        "\n",
        "logging.basicConfig(level=logging.INFO)\n",
        "\n",
        "# creating a service object and defining all the configurations\n",
        "service = Service(\n",
        "    name=\"red-wine-fastapi\",\n",
        "    image=Build(\n",
        "        build_spec=PythonBuild(\n",
        "            command=\"uvicorn infer_realtime:app --port 4000 --host 0.0.0.0\",\n",
        "            python_version=\"3.9\",\n",
        "        ),\n",
        "    ),\n",
        "    env={\n",
        "        \"TFY_API_KEY\": TFY_API_KEY,\n",
        "        \"MLF_MODEL_VERSION_FQN\": MODEL_VERSION_FQN,\n",
        "    },\n",
        "    ports=[{\"port\": 4000}],\n",
        "    resources=Resources(\n",
        "        cpu_request=0.5, cpu_limit=1.5, memory_limit=2500, memory_request=1500\n",
        "    ),\n",
        ")\n",
        "output_fastapi = service.deploy(workspace_fqn=WORKSPACE)"
      ],
      "metadata": {
        "id": "AbGckhaQb-nl",
        "colab": {
          "base_uri": "https://localhost:8080/",
          "height": 1000,
          "referenced_widgets": [
            "f548c8593c61498996564d5b18f4695e",
            "e2120de563dc4aa7aa837f80c6e651a7"
          ]
        },
        "outputId": "bfcb2088-997e-4118-8c91-e1137d1abcf0"
      },
      "execution_count": 24,
      "outputs": [
        {
          "output_type": "stream",
          "name": "stderr",
          "text": [
            "2023-02-07 19:37:44,290 [servicefoundry] INFO     Uploading code for service 'red-wine-fastapi'\n",
            "2023-02-07 19:37:44,293 [servicefoundry] INFO     Archiving contents of dir: '/content/truefoundry-examples/end-to-end-examples/red-wine-classification/infer_realtime'\n",
            "Packaging source code: 1it [00:00, 19.52it/s]\n",
            "2023-02-07 19:37:44,356 [servicefoundry] INFO     Code archive size: '1.85 KiB'\n",
            "Uploading package: 100%|██████████| 1.85k/1.85k [00:00<00:00, 11.8kB/s]\n",
            "2023-02-07 19:37:46,115 [servicefoundry] INFO     🚀 Deployment started for application 'red-wine-fastapi'. Deployment FQN is 'tfy-cluster-euwe1:hardik-ws:red-wine-fastapi:1'.\n",
            "2023-02-07 19:37:46,396 [servicefoundry] INFO     You can track the progress below or on the dashboard:- 'https://app.truefoundry.com/applications/cldun99rf2nau1hsv59e0abec?tab=deployments'\n",
            "You can press Ctrl + C to exit the tailing of build logs and deployment will continue on the server\n"
          ]
        },
        {
          "output_type": "display_data",
          "data": {
            "text/plain": [
              "Output()"
            ],
            "application/vnd.jupyter.widget-view+json": {
              "version_major": 2,
              "version_minor": 0,
              "model_id": "f548c8593c61498996564d5b18f4695e"
            }
          },
          "metadata": {}
        },
        {
          "output_type": "stream",
          "name": "stderr",
          "text": [
            "2023-02-07 19:37:46,807 [servicefoundry] INFO     State: 'INITIALIZED'\n",
            "2023-02-07 19:37:57,401 [servicefoundry] INFO     Tailing build logs for 'red-wine-fastapi'\n"
          ]
        },
        {
          "output_type": "display_data",
          "data": {
            "text/plain": [
              "Waiting for the task to start...\n"
            ],
            "text/html": [
              "<pre style=\"white-space:pre;overflow-x:auto;line-height:normal;font-family:Menlo,'DejaVu Sans Mono',consolas,'Courier New',monospace\">Waiting for the task to start...\n",
              "</pre>\n"
            ]
          },
          "metadata": {}
        },
        {
          "output_type": "stream",
          "name": "stderr",
          "text": [
            "2023-02-07 19:38:04,049 [servicefoundry] INFO     Tailing build logs for 'red-wine-fastapi'\n"
          ]
        },
        {
          "output_type": "display_data",
          "data": {
            "text/plain": [
              "Waiting for the task to start...\n"
            ],
            "text/html": [
              "<pre style=\"white-space:pre;overflow-x:auto;line-height:normal;font-family:Menlo,'DejaVu Sans Mono',consolas,'Courier New',monospace\">Waiting for the task to start...\n",
              "</pre>\n"
            ]
          },
          "metadata": {}
        },
        {
          "output_type": "display_data",
          "data": {
            "text/plain": [
              "[2023-02-07T19:38:09.287298+00:00] \u001b[36m[Start]\u001b[0m Downloading source code from remote source\n"
            ],
            "text/html": [
              "<pre style=\"white-space:pre;overflow-x:auto;line-height:normal;font-family:Menlo,'DejaVu Sans Mono',consolas,'Courier New',monospace\">[2023-02-07T19:38:09.287298+00:00] <span style=\"color: #008080; text-decoration-color: #008080\">[Start]</span> Downloading source code from remote source\n",
              "</pre>\n"
            ]
          },
          "metadata": {}
        },
        {
          "output_type": "display_data",
          "data": {
            "text/plain": [
              "[2023-02-07T19:38:09.406842+00:00] \u001b[32m[Done]\u001b[0m Download code completed\n"
            ],
            "text/html": [
              "<pre style=\"white-space:pre;overflow-x:auto;line-height:normal;font-family:Menlo,'DejaVu Sans Mono',consolas,'Courier New',monospace\">[2023-02-07T19:38:09.406842+00:00] <span style=\"color: #008000; text-decoration-color: #008000\">[Done]</span> Download code completed\n",
              "</pre>\n"
            ]
          },
          "metadata": {}
        },
        {
          "output_type": "display_data",
          "data": {
            "text/plain": [
              "[2023-02-07T19:38:09.557248+00:00] \u001b[36m[Start]\u001b[0m Building and pushing the docker container. Please find the logs below\n"
            ],
            "text/html": [
              "<pre style=\"white-space:pre;overflow-x:auto;line-height:normal;font-family:Menlo,'DejaVu Sans Mono',consolas,'Courier New',monospace\">[2023-02-07T19:38:09.557248+00:00] <span style=\"color: #008080; text-decoration-color: #008080\">[Start]</span> Building and pushing the docker container. Please find the logs below\n",
              "</pre>\n"
            ]
          },
          "metadata": {}
        },
        {
          "output_type": "display_data",
          "data": {
            "text/plain": [
              "[2023-02-07T19:38:09.634870+00:00] Login Succeeded\n"
            ],
            "text/html": [
              "<pre style=\"white-space:pre;overflow-x:auto;line-height:normal;font-family:Menlo,'DejaVu Sans Mono',consolas,'Courier New',monospace\">[2023-02-07T19:38:09.634870+00:00] Login Succeeded\n",
              "</pre>\n"
            ]
          },
          "metadata": {}
        },
        {
          "output_type": "display_data",
          "data": {
            "text/plain": [
              "[2023-02-07T19:38:09.636221+00:00] \u001b[36m[==== Docker logs start ====]\u001b[0m\n"
            ],
            "text/html": [
              "<pre style=\"white-space:pre;overflow-x:auto;line-height:normal;font-family:Menlo,'DejaVu Sans Mono',consolas,'Courier New',monospace\">[2023-02-07T19:38:09.636221+00:00] <span style=\"color: #008080; text-decoration-color: #008080\">[==== Docker logs start ====]</span>\n",
              "</pre>\n"
            ]
          },
          "metadata": {}
        },
        {
          "output_type": "display_data",
          "data": {
            "text/plain": [
              "[2023-02-07T19:38:10.112459+00:00] [02/07/23 19:38:10] INFO     Dockerfile content:-\n"
            ],
            "text/html": [
              "<pre style=\"white-space:pre;overflow-x:auto;line-height:normal;font-family:Menlo,'DejaVu Sans Mono',consolas,'Courier New',monospace\">[2023-02-07T19:38:10.112459+00:00] [02/07/23 19:38:10] INFO     Dockerfile content:-\n",
              "</pre>\n"
            ]
          },
          "metadata": {}
        },
        {
          "output_type": "display_data",
          "data": {
            "text/plain": [
              "[2023-02-07T19:38:10.114002+00:00] INFO\n"
            ],
            "text/html": [
              "<pre style=\"white-space:pre;overflow-x:auto;line-height:normal;font-family:Menlo,'DejaVu Sans Mono',consolas,'Courier New',monospace\">[2023-02-07T19:38:10.114002+00:00] INFO\n",
              "</pre>\n"
            ]
          },
          "metadata": {}
        },
        {
          "output_type": "display_data",
          "data": {
            "text/plain": [
              "[2023-02-07T19:38:10.114004+00:00] FROM python:3.9\n"
            ],
            "text/html": [
              "<pre style=\"white-space:pre;overflow-x:auto;line-height:normal;font-family:Menlo,'DejaVu Sans Mono',consolas,'Courier New',monospace\">[2023-02-07T19:38:10.114004+00:00] FROM python:3.9\n",
              "</pre>\n"
            ]
          },
          "metadata": {}
        },
        {
          "output_type": "display_data",
          "data": {
            "text/plain": [
              "[2023-02-07T19:38:10.114006+00:00] \n"
            ],
            "text/html": [
              "<pre style=\"white-space:pre;overflow-x:auto;line-height:normal;font-family:Menlo,'DejaVu Sans Mono',consolas,'Courier New',monospace\">[2023-02-07T19:38:10.114006+00:00] \n",
              "</pre>\n"
            ]
          },
          "metadata": {}
        },
        {
          "output_type": "display_data",
          "data": {
            "text/plain": [
              "[2023-02-07T19:38:10.114008+00:00] \n"
            ],
            "text/html": [
              "<pre style=\"white-space:pre;overflow-x:auto;line-height:normal;font-family:Menlo,'DejaVu Sans Mono',consolas,'Courier New',monospace\">[2023-02-07T19:38:10.114008+00:00] \n",
              "</pre>\n"
            ]
          },
          "metadata": {}
        },
        {
          "output_type": "display_data",
          "data": {
            "text/plain": [
              "[2023-02-07T19:38:10.114010+00:00] COPY requirements.txt /tmp/requirements.txt\n"
            ],
            "text/html": [
              "<pre style=\"white-space:pre;overflow-x:auto;line-height:normal;font-family:Menlo,'DejaVu Sans Mono',consolas,'Courier New',monospace\">[2023-02-07T19:38:10.114010+00:00] COPY requirements.txt /tmp/requirements.txt\n",
              "</pre>\n"
            ]
          },
          "metadata": {}
        },
        {
          "output_type": "display_data",
          "data": {
            "text/plain": [
              "[2023-02-07T19:38:10.114012+00:00] \n"
            ],
            "text/html": [
              "<pre style=\"white-space:pre;overflow-x:auto;line-height:normal;font-family:Menlo,'DejaVu Sans Mono',consolas,'Courier New',monospace\">[2023-02-07T19:38:10.114012+00:00] \n",
              "</pre>\n"
            ]
          },
          "metadata": {}
        },
        {
          "output_type": "display_data",
          "data": {
            "text/plain": [
              "[2023-02-07T19:38:10.114014+00:00] RUN pip install -U pip && pip install\n"
            ],
            "text/html": [
              "<pre style=\"white-space:pre;overflow-x:auto;line-height:normal;font-family:Menlo,'DejaVu Sans Mono',consolas,'Courier New',monospace\">[2023-02-07T19:38:10.114014+00:00] RUN pip install -U pip &amp;&amp; pip install\n",
              "</pre>\n"
            ]
          },
          "metadata": {}
        },
        {
          "output_type": "display_data",
          "data": {
            "text/plain": [
              "[2023-02-07T19:38:10.114016+00:00] --no-cache-dir -r /tmp/requirements.txt\n"
            ],
            "text/html": [
              "<pre style=\"white-space:pre;overflow-x:auto;line-height:normal;font-family:Menlo,'DejaVu Sans Mono',consolas,'Courier New',monospace\">[2023-02-07T19:38:10.114016+00:00] --no-cache-dir -r /tmp/requirements.txt\n",
              "</pre>\n"
            ]
          },
          "metadata": {}
        },
        {
          "output_type": "display_data",
          "data": {
            "text/plain": [
              "[2023-02-07T19:38:10.114018+00:00] \n"
            ],
            "text/html": [
              "<pre style=\"white-space:pre;overflow-x:auto;line-height:normal;font-family:Menlo,'DejaVu Sans Mono',consolas,'Courier New',monospace\">[2023-02-07T19:38:10.114018+00:00] \n",
              "</pre>\n"
            ]
          },
          "metadata": {}
        },
        {
          "output_type": "display_data",
          "data": {
            "text/plain": [
              "[2023-02-07T19:38:10.114022+00:00] WORKDIR /app\n"
            ],
            "text/html": [
              "<pre style=\"white-space:pre;overflow-x:auto;line-height:normal;font-family:Menlo,'DejaVu Sans Mono',consolas,'Courier New',monospace\">[2023-02-07T19:38:10.114022+00:00] WORKDIR /app\n",
              "</pre>\n"
            ]
          },
          "metadata": {}
        },
        {
          "output_type": "display_data",
          "data": {
            "text/plain": [
              "[2023-02-07T19:38:10.114023+00:00] ENTRYPOINT uvicorn infer_realtime:app --port 4000\n"
            ],
            "text/html": [
              "<pre style=\"white-space:pre;overflow-x:auto;line-height:normal;font-family:Menlo,'DejaVu Sans Mono',consolas,'Courier New',monospace\">[2023-02-07T19:38:10.114023+00:00] ENTRYPOINT uvicorn infer_realtime:app --port 4000\n",
              "</pre>\n"
            ]
          },
          "metadata": {}
        },
        {
          "output_type": "display_data",
          "data": {
            "text/plain": [
              "[2023-02-07T19:38:10.114024+00:00] --host 0.0.0.0\n"
            ],
            "text/html": [
              "<pre style=\"white-space:pre;overflow-x:auto;line-height:normal;font-family:Menlo,'DejaVu Sans Mono',consolas,'Courier New',monospace\">[2023-02-07T19:38:10.114024+00:00] --host 0.0.0.0\n",
              "</pre>\n"
            ]
          },
          "metadata": {}
        },
        {
          "output_type": "display_data",
          "data": {
            "text/plain": [
              "[2023-02-07T19:38:10.114020+00:00] COPY . /app\n"
            ],
            "text/html": [
              "<pre style=\"white-space:pre;overflow-x:auto;line-height:normal;font-family:Menlo,'DejaVu Sans Mono',consolas,'Courier New',monospace\">[2023-02-07T19:38:10.114020+00:00] COPY . /app\n",
              "</pre>\n"
            ]
          },
          "metadata": {}
        },
        {
          "output_type": "display_data",
          "data": {
            "text/plain": [
              "[2023-02-07T19:38:10.114025+00:00] \n"
            ],
            "text/html": [
              "<pre style=\"white-space:pre;overflow-x:auto;line-height:normal;font-family:Menlo,'DejaVu Sans Mono',consolas,'Courier New',monospace\">[2023-02-07T19:38:10.114025+00:00] \n",
              "</pre>\n"
            ]
          },
          "metadata": {}
        },
        {
          "output_type": "display_data",
          "data": {
            "text/plain": [
              "[2023-02-07T19:38:10.115145+00:00] INFO     Building docker image: 'docker build\n"
            ],
            "text/html": [
              "<pre style=\"white-space:pre;overflow-x:auto;line-height:normal;font-family:Menlo,'DejaVu Sans Mono',consolas,'Courier New',monospace\">[2023-02-07T19:38:10.115145+00:00] INFO     Building docker image: 'docker build\n",
              "</pre>\n"
            ]
          },
          "metadata": {}
        },
        {
          "output_type": "display_data",
          "data": {
            "text/plain": [
              "[2023-02-07T19:38:10.115148+00:00] /mnt/vol/source-code -t\n"
            ],
            "text/html": [
              "<pre style=\"white-space:pre;overflow-x:auto;line-height:normal;font-family:Menlo,'DejaVu Sans Mono',consolas,'Courier New',monospace\">[2023-02-07T19:38:10.115148+00:00] /mnt/vol/source-code -t\n",
              "</pre>\n"
            ]
          },
          "metadata": {}
        },
        {
          "output_type": "display_data",
          "data": {
            "text/plain": [
              "[2023-02-07T19:38:10.115150+00:00] 416964291864.dkr.ecr.eu-west-1.amazonaws.com/hardik\n"
            ],
            "text/html": [
              "<pre style=\"white-space:pre;overflow-x:auto;line-height:normal;font-family:Menlo,'DejaVu Sans Mono',consolas,'Courier New',monospace\">[2023-02-07T19:38:10.115150+00:00] 416964291864.dkr.ecr.eu-west-1.amazonaws.com/hardik\n",
              "</pre>\n"
            ]
          },
          "metadata": {}
        },
        {
          "output_type": "display_data",
          "data": {
            "text/plain": [
              "[2023-02-07T19:38:10.115152+00:00] -ws-red-wine-fastapi-0abec:1 --file\n"
            ],
            "text/html": [
              "<pre style=\"white-space:pre;overflow-x:auto;line-height:normal;font-family:Menlo,'DejaVu Sans Mono',consolas,'Courier New',monospace\">[2023-02-07T19:38:10.115152+00:00] -ws-red-wine-fastapi-0abec:1 --file\n",
              "</pre>\n"
            ]
          },
          "metadata": {}
        },
        {
          "output_type": "display_data",
          "data": {
            "text/plain": [
              "[2023-02-07T19:38:10.115156+00:00] 416964291864.dkr.ecr.eu-west-1.amazonaws.com/hardik\n"
            ],
            "text/html": [
              "<pre style=\"white-space:pre;overflow-x:auto;line-height:normal;font-family:Menlo,'DejaVu Sans Mono',consolas,'Courier New',monospace\">[2023-02-07T19:38:10.115156+00:00] 416964291864.dkr.ecr.eu-west-1.amazonaws.com/hardik\n",
              "</pre>\n"
            ]
          },
          "metadata": {}
        },
        {
          "output_type": "display_data",
          "data": {
            "text/plain": [
              "[2023-02-07T19:38:10.115157+00:00] -ws-red-wine-fastapi-0abec:latest'\n"
            ],
            "text/html": [
              "<pre style=\"white-space:pre;overflow-x:auto;line-height:normal;font-family:Menlo,'DejaVu Sans Mono',consolas,'Courier New',monospace\">[2023-02-07T19:38:10.115157+00:00] -ws-red-wine-fastapi-0abec:latest'\n",
              "</pre>\n"
            ]
          },
          "metadata": {}
        },
        {
          "output_type": "display_data",
          "data": {
            "text/plain": [
              "[2023-02-07T19:38:10.115154+00:00] /tmp/tmpoi983mlm/Dockerfile --cache-from\n"
            ],
            "text/html": [
              "<pre style=\"white-space:pre;overflow-x:auto;line-height:normal;font-family:Menlo,'DejaVu Sans Mono',consolas,'Courier New',monospace\">[2023-02-07T19:38:10.115154+00:00] /tmp/tmpoi983mlm/Dockerfile --cache-from\n",
              "</pre>\n"
            ]
          },
          "metadata": {}
        },
        {
          "output_type": "display_data",
          "data": {
            "text/plain": [
              "[2023-02-07T19:38:10.129907+00:00] Sending build context to Docker daemon  8.751kB\n"
            ],
            "text/html": [
              "<pre style=\"white-space:pre;overflow-x:auto;line-height:normal;font-family:Menlo,'DejaVu Sans Mono',consolas,'Courier New',monospace\">[2023-02-07T19:38:10.129907+00:00] Sending build context to Docker daemon  8.751kB\n",
              "</pre>\n"
            ]
          },
          "metadata": {}
        },
        {
          "output_type": "display_data",
          "data": {
            "text/plain": [
              "[2023-02-07T19:38:10.150139+00:00] Step 1/6 : FROM python:3.9\n"
            ],
            "text/html": [
              "<pre style=\"white-space:pre;overflow-x:auto;line-height:normal;font-family:Menlo,'DejaVu Sans Mono',consolas,'Courier New',monospace\">[2023-02-07T19:38:10.150139+00:00] Step 1/6 : FROM python:3.9\n",
              "</pre>\n"
            ]
          },
          "metadata": {}
        },
        {
          "output_type": "display_data",
          "data": {
            "text/plain": [
              "[2023-02-07T19:38:10.845781+00:00] 3.9: Pulling from library/python\n"
            ],
            "text/html": [
              "<pre style=\"white-space:pre;overflow-x:auto;line-height:normal;font-family:Menlo,'DejaVu Sans Mono',consolas,'Courier New',monospace\">[2023-02-07T19:38:10.845781+00:00] 3.9: Pulling from library/python\n",
              "</pre>\n"
            ]
          },
          "metadata": {}
        },
        {
          "output_type": "display_data",
          "data": {
            "text/plain": [
              "[2023-02-07T19:38:11.090434+00:00] 699c8a97647f: Pulling fs layer\n"
            ],
            "text/html": [
              "<pre style=\"white-space:pre;overflow-x:auto;line-height:normal;font-family:Menlo,'DejaVu Sans Mono',consolas,'Courier New',monospace\">[2023-02-07T19:38:11.090434+00:00] 699c8a97647f: Pulling fs layer\n",
              "</pre>\n"
            ]
          },
          "metadata": {}
        },
        {
          "output_type": "display_data",
          "data": {
            "text/plain": [
              "[2023-02-07T19:38:11.090476+00:00] 86cd158b89fd: Pulling fs layer\n"
            ],
            "text/html": [
              "<pre style=\"white-space:pre;overflow-x:auto;line-height:normal;font-family:Menlo,'DejaVu Sans Mono',consolas,'Courier New',monospace\">[2023-02-07T19:38:11.090476+00:00] 86cd158b89fd: Pulling fs layer\n",
              "</pre>\n"
            ]
          },
          "metadata": {}
        },
        {
          "output_type": "display_data",
          "data": {
            "text/plain": [
              "[2023-02-07T19:38:11.090480+00:00] a226e961cfaa: Pulling fs layer\n"
            ],
            "text/html": [
              "<pre style=\"white-space:pre;overflow-x:auto;line-height:normal;font-family:Menlo,'DejaVu Sans Mono',consolas,'Courier New',monospace\">[2023-02-07T19:38:11.090480+00:00] a226e961cfaa: Pulling fs layer\n",
              "</pre>\n"
            ]
          },
          "metadata": {}
        },
        {
          "output_type": "display_data",
          "data": {
            "text/plain": [
              "[2023-02-07T19:38:11.090483+00:00] 4cec535da207: Pulling fs layer\n"
            ],
            "text/html": [
              "<pre style=\"white-space:pre;overflow-x:auto;line-height:normal;font-family:Menlo,'DejaVu Sans Mono',consolas,'Courier New',monospace\">[2023-02-07T19:38:11.090483+00:00] 4cec535da207: Pulling fs layer\n",
              "</pre>\n"
            ]
          },
          "metadata": {}
        },
        {
          "output_type": "display_data",
          "data": {
            "text/plain": [
              "[2023-02-07T19:38:11.090485+00:00] 225fdd30e1a3: Pulling fs layer\n"
            ],
            "text/html": [
              "<pre style=\"white-space:pre;overflow-x:auto;line-height:normal;font-family:Menlo,'DejaVu Sans Mono',consolas,'Courier New',monospace\">[2023-02-07T19:38:11.090485+00:00] 225fdd30e1a3: Pulling fs layer\n",
              "</pre>\n"
            ]
          },
          "metadata": {}
        },
        {
          "output_type": "display_data",
          "data": {
            "text/plain": [
              "[2023-02-07T19:38:11.090487+00:00] 356a16c6c201: Pulling fs layer\n"
            ],
            "text/html": [
              "<pre style=\"white-space:pre;overflow-x:auto;line-height:normal;font-family:Menlo,'DejaVu Sans Mono',consolas,'Courier New',monospace\">[2023-02-07T19:38:11.090487+00:00] 356a16c6c201: Pulling fs layer\n",
              "</pre>\n"
            ]
          },
          "metadata": {}
        },
        {
          "output_type": "display_data",
          "data": {
            "text/plain": [
              "[2023-02-07T19:38:11.090490+00:00] 7f852ff26d97: Pulling fs layer\n"
            ],
            "text/html": [
              "<pre style=\"white-space:pre;overflow-x:auto;line-height:normal;font-family:Menlo,'DejaVu Sans Mono',consolas,'Courier New',monospace\">[2023-02-07T19:38:11.090490+00:00] 7f852ff26d97: Pulling fs layer\n",
              "</pre>\n"
            ]
          },
          "metadata": {}
        },
        {
          "output_type": "display_data",
          "data": {
            "text/plain": [
              "[2023-02-07T19:38:11.090492+00:00] 4bd654f59cbc: Pulling fs layer\n"
            ],
            "text/html": [
              "<pre style=\"white-space:pre;overflow-x:auto;line-height:normal;font-family:Menlo,'DejaVu Sans Mono',consolas,'Courier New',monospace\">[2023-02-07T19:38:11.090492+00:00] 4bd654f59cbc: Pulling fs layer\n",
              "</pre>\n"
            ]
          },
          "metadata": {}
        },
        {
          "output_type": "display_data",
          "data": {
            "text/plain": [
              "[2023-02-07T19:38:11.090494+00:00] c22de34a21d1: Pulling fs layer\n"
            ],
            "text/html": [
              "<pre style=\"white-space:pre;overflow-x:auto;line-height:normal;font-family:Menlo,'DejaVu Sans Mono',consolas,'Courier New',monospace\">[2023-02-07T19:38:11.090494+00:00] c22de34a21d1: Pulling fs layer\n",
              "</pre>\n"
            ]
          },
          "metadata": {}
        },
        {
          "output_type": "display_data",
          "data": {
            "text/plain": [
              "[2023-02-07T19:38:11.090496+00:00] 4cec535da207: Waiting\n"
            ],
            "text/html": [
              "<pre style=\"white-space:pre;overflow-x:auto;line-height:normal;font-family:Menlo,'DejaVu Sans Mono',consolas,'Courier New',monospace\">[2023-02-07T19:38:11.090496+00:00] 4cec535da207: Waiting\n",
              "</pre>\n"
            ]
          },
          "metadata": {}
        },
        {
          "output_type": "display_data",
          "data": {
            "text/plain": [
              "[2023-02-07T19:38:11.090499+00:00] 356a16c6c201: Waiting\n"
            ],
            "text/html": [
              "<pre style=\"white-space:pre;overflow-x:auto;line-height:normal;font-family:Menlo,'DejaVu Sans Mono',consolas,'Courier New',monospace\">[2023-02-07T19:38:11.090499+00:00] 356a16c6c201: Waiting\n",
              "</pre>\n"
            ]
          },
          "metadata": {}
        },
        {
          "output_type": "display_data",
          "data": {
            "text/plain": [
              "[2023-02-07T19:38:11.090511+00:00] 7f852ff26d97: Waiting\n"
            ],
            "text/html": [
              "<pre style=\"white-space:pre;overflow-x:auto;line-height:normal;font-family:Menlo,'DejaVu Sans Mono',consolas,'Courier New',monospace\">[2023-02-07T19:38:11.090511+00:00] 7f852ff26d97: Waiting\n",
              "</pre>\n"
            ]
          },
          "metadata": {}
        },
        {
          "output_type": "display_data",
          "data": {
            "text/plain": [
              "[2023-02-07T19:38:11.090513+00:00] 4bd654f59cbc: Waiting\n"
            ],
            "text/html": [
              "<pre style=\"white-space:pre;overflow-x:auto;line-height:normal;font-family:Menlo,'DejaVu Sans Mono',consolas,'Courier New',monospace\">[2023-02-07T19:38:11.090513+00:00] 4bd654f59cbc: Waiting\n",
              "</pre>\n"
            ]
          },
          "metadata": {}
        },
        {
          "output_type": "display_data",
          "data": {
            "text/plain": [
              "[2023-02-07T19:38:11.090520+00:00] c22de34a21d1: Waiting\n"
            ],
            "text/html": [
              "<pre style=\"white-space:pre;overflow-x:auto;line-height:normal;font-family:Menlo,'DejaVu Sans Mono',consolas,'Courier New',monospace\">[2023-02-07T19:38:11.090520+00:00] c22de34a21d1: Waiting\n",
              "</pre>\n"
            ]
          },
          "metadata": {}
        },
        {
          "output_type": "display_data",
          "data": {
            "text/plain": [
              "[2023-02-07T19:38:11.413102+00:00] 86cd158b89fd: Verifying Checksum\n"
            ],
            "text/html": [
              "<pre style=\"white-space:pre;overflow-x:auto;line-height:normal;font-family:Menlo,'DejaVu Sans Mono',consolas,'Courier New',monospace\">[2023-02-07T19:38:11.413102+00:00] 86cd158b89fd: Verifying Checksum\n",
              "</pre>\n"
            ]
          },
          "metadata": {}
        },
        {
          "output_type": "display_data",
          "data": {
            "text/plain": [
              "[2023-02-07T19:38:11.413165+00:00] 86cd158b89fd: Download complete\n"
            ],
            "text/html": [
              "<pre style=\"white-space:pre;overflow-x:auto;line-height:normal;font-family:Menlo,'DejaVu Sans Mono',consolas,'Courier New',monospace\">[2023-02-07T19:38:11.413165+00:00] 86cd158b89fd: Download complete\n",
              "</pre>\n"
            ]
          },
          "metadata": {}
        },
        {
          "output_type": "display_data",
          "data": {
            "text/plain": [
              "[2023-02-07T19:38:11.418534+00:00] a226e961cfaa: Verifying Checksum\n"
            ],
            "text/html": [
              "<pre style=\"white-space:pre;overflow-x:auto;line-height:normal;font-family:Menlo,'DejaVu Sans Mono',consolas,'Courier New',monospace\">[2023-02-07T19:38:11.418534+00:00] a226e961cfaa: Verifying Checksum\n",
              "</pre>\n"
            ]
          },
          "metadata": {}
        },
        {
          "output_type": "display_data",
          "data": {
            "text/plain": [
              "[2023-02-07T19:38:11.418550+00:00] a226e961cfaa: Download complete\n"
            ],
            "text/html": [
              "<pre style=\"white-space:pre;overflow-x:auto;line-height:normal;font-family:Menlo,'DejaVu Sans Mono',consolas,'Courier New',monospace\">[2023-02-07T19:38:11.418550+00:00] a226e961cfaa: Download complete\n",
              "</pre>\n"
            ]
          },
          "metadata": {}
        },
        {
          "output_type": "display_data",
          "data": {
            "text/plain": [
              "[2023-02-07T19:38:11.754225+00:00] 699c8a97647f: Verifying Checksum\n"
            ],
            "text/html": [
              "<pre style=\"white-space:pre;overflow-x:auto;line-height:normal;font-family:Menlo,'DejaVu Sans Mono',consolas,'Courier New',monospace\">[2023-02-07T19:38:11.754225+00:00] 699c8a97647f: Verifying Checksum\n",
              "</pre>\n"
            ]
          },
          "metadata": {}
        },
        {
          "output_type": "display_data",
          "data": {
            "text/plain": [
              "[2023-02-07T19:38:11.754243+00:00] 699c8a97647f: Download complete\n"
            ],
            "text/html": [
              "<pre style=\"white-space:pre;overflow-x:auto;line-height:normal;font-family:Menlo,'DejaVu Sans Mono',consolas,'Courier New',monospace\">[2023-02-07T19:38:11.754243+00:00] 699c8a97647f: Download complete\n",
              "</pre>\n"
            ]
          },
          "metadata": {}
        },
        {
          "output_type": "display_data",
          "data": {
            "text/plain": [
              "[2023-02-07T19:38:12.079493+00:00] 356a16c6c201: Download complete\n"
            ],
            "text/html": [
              "<pre style=\"white-space:pre;overflow-x:auto;line-height:normal;font-family:Menlo,'DejaVu Sans Mono',consolas,'Courier New',monospace\">[2023-02-07T19:38:12.079493+00:00] 356a16c6c201: Download complete\n",
              "</pre>\n"
            ]
          },
          "metadata": {}
        },
        {
          "output_type": "display_data",
          "data": {
            "text/plain": [
              "[2023-02-07T19:38:12.079461+00:00] 356a16c6c201: Verifying Checksum\n"
            ],
            "text/html": [
              "<pre style=\"white-space:pre;overflow-x:auto;line-height:normal;font-family:Menlo,'DejaVu Sans Mono',consolas,'Courier New',monospace\">[2023-02-07T19:38:12.079461+00:00] 356a16c6c201: Verifying Checksum\n",
              "</pre>\n"
            ]
          },
          "metadata": {}
        },
        {
          "output_type": "display_data",
          "data": {
            "text/plain": [
              "[2023-02-07T19:38:12.110554+00:00] 4cec535da207: Verifying Checksum\n"
            ],
            "text/html": [
              "<pre style=\"white-space:pre;overflow-x:auto;line-height:normal;font-family:Menlo,'DejaVu Sans Mono',consolas,'Courier New',monospace\">[2023-02-07T19:38:12.110554+00:00] 4cec535da207: Verifying Checksum\n",
              "</pre>\n"
            ]
          },
          "metadata": {}
        },
        {
          "output_type": "display_data",
          "data": {
            "text/plain": [
              "[2023-02-07T19:38:12.363835+00:00] 4bd654f59cbc: Verifying Checksum\n"
            ],
            "text/html": [
              "<pre style=\"white-space:pre;overflow-x:auto;line-height:normal;font-family:Menlo,'DejaVu Sans Mono',consolas,'Courier New',monospace\">[2023-02-07T19:38:12.363835+00:00] 4bd654f59cbc: Verifying Checksum\n",
              "</pre>\n"
            ]
          },
          "metadata": {}
        },
        {
          "output_type": "display_data",
          "data": {
            "text/plain": [
              "[2023-02-07T19:38:12.363856+00:00] 4bd654f59cbc: Download complete\n"
            ],
            "text/html": [
              "<pre style=\"white-space:pre;overflow-x:auto;line-height:normal;font-family:Menlo,'DejaVu Sans Mono',consolas,'Courier New',monospace\">[2023-02-07T19:38:12.363856+00:00] 4bd654f59cbc: Download complete\n",
              "</pre>\n"
            ]
          },
          "metadata": {}
        },
        {
          "output_type": "display_data",
          "data": {
            "text/plain": [
              "[2023-02-07T19:38:12.478873+00:00] 7f852ff26d97: Download complete\n"
            ],
            "text/html": [
              "<pre style=\"white-space:pre;overflow-x:auto;line-height:normal;font-family:Menlo,'DejaVu Sans Mono',consolas,'Courier New',monospace\">[2023-02-07T19:38:12.478873+00:00] 7f852ff26d97: Download complete\n",
              "</pre>\n"
            ]
          },
          "metadata": {}
        },
        {
          "output_type": "display_data",
          "data": {
            "text/plain": [
              "[2023-02-07T19:38:12.478740+00:00] 7f852ff26d97: Verifying Checksum\n"
            ],
            "text/html": [
              "<pre style=\"white-space:pre;overflow-x:auto;line-height:normal;font-family:Menlo,'DejaVu Sans Mono',consolas,'Courier New',monospace\">[2023-02-07T19:38:12.478740+00:00] 7f852ff26d97: Verifying Checksum\n",
              "</pre>\n"
            ]
          },
          "metadata": {}
        },
        {
          "output_type": "display_data",
          "data": {
            "text/plain": [
              "[2023-02-07T19:38:12.110573+00:00] 4cec535da207: Download complete\n"
            ],
            "text/html": [
              "<pre style=\"white-space:pre;overflow-x:auto;line-height:normal;font-family:Menlo,'DejaVu Sans Mono',consolas,'Courier New',monospace\">[2023-02-07T19:38:12.110573+00:00] 4cec535da207: Download complete\n",
              "</pre>\n"
            ]
          },
          "metadata": {}
        },
        {
          "output_type": "display_data",
          "data": {
            "text/plain": [
              "[2023-02-07T19:38:12.650094+00:00] c22de34a21d1: Verifying Checksum\n"
            ],
            "text/html": [
              "<pre style=\"white-space:pre;overflow-x:auto;line-height:normal;font-family:Menlo,'DejaVu Sans Mono',consolas,'Courier New',monospace\">[2023-02-07T19:38:12.650094+00:00] c22de34a21d1: Verifying Checksum\n",
              "</pre>\n"
            ]
          },
          "metadata": {}
        },
        {
          "output_type": "display_data",
          "data": {
            "text/plain": [
              "[2023-02-07T19:38:12.650133+00:00] c22de34a21d1: Download complete\n"
            ],
            "text/html": [
              "<pre style=\"white-space:pre;overflow-x:auto;line-height:normal;font-family:Menlo,'DejaVu Sans Mono',consolas,'Courier New',monospace\">[2023-02-07T19:38:12.650133+00:00] c22de34a21d1: Download complete\n",
              "</pre>\n"
            ]
          },
          "metadata": {}
        },
        {
          "output_type": "display_data",
          "data": {
            "text/plain": [
              "[2023-02-07T19:38:13.108914+00:00] 225fdd30e1a3: Verifying Checksum\n"
            ],
            "text/html": [
              "<pre style=\"white-space:pre;overflow-x:auto;line-height:normal;font-family:Menlo,'DejaVu Sans Mono',consolas,'Courier New',monospace\">[2023-02-07T19:38:13.108914+00:00] 225fdd30e1a3: Verifying Checksum\n",
              "</pre>\n"
            ]
          },
          "metadata": {}
        },
        {
          "output_type": "display_data",
          "data": {
            "text/plain": [
              "[2023-02-07T19:38:13.108938+00:00] 225fdd30e1a3: Download complete\n"
            ],
            "text/html": [
              "<pre style=\"white-space:pre;overflow-x:auto;line-height:normal;font-family:Menlo,'DejaVu Sans Mono',consolas,'Courier New',monospace\">[2023-02-07T19:38:13.108938+00:00] 225fdd30e1a3: Download complete\n",
              "</pre>\n"
            ]
          },
          "metadata": {}
        },
        {
          "output_type": "display_data",
          "data": {
            "text/plain": [
              "[2023-02-07T19:38:13.255517+00:00] 699c8a97647f: Pull complete\n"
            ],
            "text/html": [
              "<pre style=\"white-space:pre;overflow-x:auto;line-height:normal;font-family:Menlo,'DejaVu Sans Mono',consolas,'Courier New',monospace\">[2023-02-07T19:38:13.255517+00:00] 699c8a97647f: Pull complete\n",
              "</pre>\n"
            ]
          },
          "metadata": {}
        },
        {
          "output_type": "display_data",
          "data": {
            "text/plain": [
              "[2023-02-07T19:38:13.384960+00:00] 86cd158b89fd: Pull complete\n"
            ],
            "text/html": [
              "<pre style=\"white-space:pre;overflow-x:auto;line-height:normal;font-family:Menlo,'DejaVu Sans Mono',consolas,'Courier New',monospace\">[2023-02-07T19:38:13.384960+00:00] 86cd158b89fd: Pull complete\n",
              "</pre>\n"
            ]
          },
          "metadata": {}
        },
        {
          "output_type": "display_data",
          "data": {
            "text/plain": [
              "[2023-02-07T19:38:13.543541+00:00] a226e961cfaa: Pull complete\n"
            ],
            "text/html": [
              "<pre style=\"white-space:pre;overflow-x:auto;line-height:normal;font-family:Menlo,'DejaVu Sans Mono',consolas,'Courier New',monospace\">[2023-02-07T19:38:13.543541+00:00] a226e961cfaa: Pull complete\n",
              "</pre>\n"
            ]
          },
          "metadata": {}
        },
        {
          "output_type": "display_data",
          "data": {
            "text/plain": [
              "[2023-02-07T19:38:14.719943+00:00] 4cec535da207: Pull complete\n"
            ],
            "text/html": [
              "<pre style=\"white-space:pre;overflow-x:auto;line-height:normal;font-family:Menlo,'DejaVu Sans Mono',consolas,'Courier New',monospace\">[2023-02-07T19:38:14.719943+00:00] 4cec535da207: Pull complete\n",
              "</pre>\n"
            ]
          },
          "metadata": {}
        },
        {
          "output_type": "display_data",
          "data": {
            "text/plain": [
              "[2023-02-07T19:38:18.729217+00:00] 225fdd30e1a3: Pull complete\n"
            ],
            "text/html": [
              "<pre style=\"white-space:pre;overflow-x:auto;line-height:normal;font-family:Menlo,'DejaVu Sans Mono',consolas,'Courier New',monospace\">[2023-02-07T19:38:18.729217+00:00] 225fdd30e1a3: Pull complete\n",
              "</pre>\n"
            ]
          },
          "metadata": {}
        },
        {
          "output_type": "display_data",
          "data": {
            "text/plain": [
              "[2023-02-07T19:38:19.395127+00:00] 356a16c6c201: Pull complete\n"
            ],
            "text/html": [
              "<pre style=\"white-space:pre;overflow-x:auto;line-height:normal;font-family:Menlo,'DejaVu Sans Mono',consolas,'Courier New',monospace\">[2023-02-07T19:38:19.395127+00:00] 356a16c6c201: Pull complete\n",
              "</pre>\n"
            ]
          },
          "metadata": {}
        },
        {
          "output_type": "display_data",
          "data": {
            "text/plain": [
              "[2023-02-07T19:38:20.318708+00:00] 7f852ff26d97: Pull complete\n"
            ],
            "text/html": [
              "<pre style=\"white-space:pre;overflow-x:auto;line-height:normal;font-family:Menlo,'DejaVu Sans Mono',consolas,'Courier New',monospace\">[2023-02-07T19:38:20.318708+00:00] 7f852ff26d97: Pull complete\n",
              "</pre>\n"
            ]
          },
          "metadata": {}
        },
        {
          "output_type": "display_data",
          "data": {
            "text/plain": [
              "[2023-02-07T19:38:20.858512+00:00] 4bd654f59cbc: Pull complete\n"
            ],
            "text/html": [
              "<pre style=\"white-space:pre;overflow-x:auto;line-height:normal;font-family:Menlo,'DejaVu Sans Mono',consolas,'Courier New',monospace\">[2023-02-07T19:38:20.858512+00:00] 4bd654f59cbc: Pull complete\n",
              "</pre>\n"
            ]
          },
          "metadata": {}
        },
        {
          "output_type": "display_data",
          "data": {
            "text/plain": [
              "[2023-02-07T19:38:21.094333+00:00] c22de34a21d1: Pull complete\n"
            ],
            "text/html": [
              "<pre style=\"white-space:pre;overflow-x:auto;line-height:normal;font-family:Menlo,'DejaVu Sans Mono',consolas,'Courier New',monospace\">[2023-02-07T19:38:21.094333+00:00] c22de34a21d1: Pull complete\n",
              "</pre>\n"
            ]
          },
          "metadata": {}
        },
        {
          "output_type": "display_data",
          "data": {
            "text/plain": [
              "[2023-02-07T19:38:21.108060+00:00] Digest: sha256:8aa1a86e57d11268005344d03296cf2f73310bad9edb900884494b5974421d43\n"
            ],
            "text/html": [
              "<pre style=\"white-space:pre;overflow-x:auto;line-height:normal;font-family:Menlo,'DejaVu Sans Mono',consolas,'Courier New',monospace\">[2023-02-07T19:38:21.108060+00:00] Digest: sha256:8aa1a86e57d11268005344d03296cf2f73310bad9edb900884494b5974421d43\n",
              "</pre>\n"
            ]
          },
          "metadata": {}
        },
        {
          "output_type": "display_data",
          "data": {
            "text/plain": [
              "[2023-02-07T19:38:21.118584+00:00] Status: Downloaded newer image for python:3.9\n"
            ],
            "text/html": [
              "<pre style=\"white-space:pre;overflow-x:auto;line-height:normal;font-family:Menlo,'DejaVu Sans Mono',consolas,'Courier New',monospace\">[2023-02-07T19:38:21.118584+00:00] Status: Downloaded newer image for python:3.9\n",
              "</pre>\n"
            ]
          },
          "metadata": {}
        },
        {
          "output_type": "display_data",
          "data": {
            "text/plain": [
              "[2023-02-07T19:38:21.119098+00:00] ---> a037112b1932\n"
            ],
            "text/html": [
              "<pre style=\"white-space:pre;overflow-x:auto;line-height:normal;font-family:Menlo,'DejaVu Sans Mono',consolas,'Courier New',monospace\">[2023-02-07T19:38:21.119098+00:00] ---&gt; a037112b1932\n",
              "</pre>\n"
            ]
          },
          "metadata": {}
        },
        {
          "output_type": "display_data",
          "data": {
            "text/plain": [
              "[2023-02-07T19:38:21.119109+00:00] Step 2/6 : COPY requirements.txt /tmp/requirements.txt\n"
            ],
            "text/html": [
              "<pre style=\"white-space:pre;overflow-x:auto;line-height:normal;font-family:Menlo,'DejaVu Sans Mono',consolas,'Courier New',monospace\">[2023-02-07T19:38:21.119109+00:00] Step 2/6 : COPY requirements.txt /tmp/requirements.txt\n",
              "</pre>\n"
            ]
          },
          "metadata": {}
        },
        {
          "output_type": "display_data",
          "data": {
            "text/plain": [
              "[2023-02-07T19:38:22.388408+00:00] ---> 714cae8ebd48\n"
            ],
            "text/html": [
              "<pre style=\"white-space:pre;overflow-x:auto;line-height:normal;font-family:Menlo,'DejaVu Sans Mono',consolas,'Courier New',monospace\">[2023-02-07T19:38:22.388408+00:00] ---&gt; 714cae8ebd48\n",
              "</pre>\n"
            ]
          },
          "metadata": {}
        },
        {
          "output_type": "display_data",
          "data": {
            "text/plain": [
              "[2023-02-07T19:38:22.388440+00:00] Step 3/6 : RUN pip install -U pip && pip install --no-cache-dir -r \n",
              "/tmp/requirements.txt\n"
            ],
            "text/html": [
              "<pre style=\"white-space:pre;overflow-x:auto;line-height:normal;font-family:Menlo,'DejaVu Sans Mono',consolas,'Courier New',monospace\">[2023-02-07T19:38:22.388440+00:00] Step 3/6 : RUN pip install -U pip &amp;&amp; pip install --no-cache-dir -r \n",
              "/tmp/requirements.txt\n",
              "</pre>\n"
            ]
          },
          "metadata": {}
        },
        {
          "output_type": "display_data",
          "data": {
            "text/plain": [
              "[2023-02-07T19:38:22.401205+00:00] ---> Running in d9db31a21931\n"
            ],
            "text/html": [
              "<pre style=\"white-space:pre;overflow-x:auto;line-height:normal;font-family:Menlo,'DejaVu Sans Mono',consolas,'Courier New',monospace\">[2023-02-07T19:38:22.401205+00:00] ---&gt; Running in d9db31a21931\n",
              "</pre>\n"
            ]
          },
          "metadata": {}
        },
        {
          "output_type": "display_data",
          "data": {
            "text/plain": [
              "[2023-02-07T19:38:24.091331+00:00] Requirement already satisfied: pip in /usr/local/lib/python3.9/site-packages \n",
              "(22.0.4)\n"
            ],
            "text/html": [
              "<pre style=\"white-space:pre;overflow-x:auto;line-height:normal;font-family:Menlo,'DejaVu Sans Mono',consolas,'Courier New',monospace\">[2023-02-07T19:38:24.091331+00:00] Requirement already satisfied: pip in /usr/local/lib/python3.9/site-packages \n",
              "(22.0.4)\n",
              "</pre>\n"
            ]
          },
          "metadata": {}
        },
        {
          "output_type": "display_data",
          "data": {
            "text/plain": [
              "[2023-02-07T19:38:24.228909+00:00] Collecting pip\n"
            ],
            "text/html": [
              "<pre style=\"white-space:pre;overflow-x:auto;line-height:normal;font-family:Menlo,'DejaVu Sans Mono',consolas,'Courier New',monospace\">[2023-02-07T19:38:24.228909+00:00] Collecting pip\n",
              "</pre>\n"
            ]
          },
          "metadata": {}
        },
        {
          "output_type": "display_data",
          "data": {
            "text/plain": [
              "[2023-02-07T19:38:24.249137+00:00] Downloading pip-23.0-py3-none-any.whl (2.1 MB)\n"
            ],
            "text/html": [
              "<pre style=\"white-space:pre;overflow-x:auto;line-height:normal;font-family:Menlo,'DejaVu Sans Mono',consolas,'Courier New',monospace\">[2023-02-07T19:38:24.249137+00:00] Downloading pip-23.0-py3-none-any.whl (2.1 MB)\n",
              "</pre>\n"
            ]
          },
          "metadata": {}
        },
        {
          "output_type": "display_data",
          "data": {
            "text/plain": [
              "[2023-02-07T19:38:24.272177+00:00] ━━━━━━━━━━━━━━━━━━━━━━━━━━━━━━━━━━━━━━━━ 2.1/2.1 MB 101.7 MB/s eta 0:00:00\n"
            ],
            "text/html": [
              "<pre style=\"white-space:pre;overflow-x:auto;line-height:normal;font-family:Menlo,'DejaVu Sans Mono',consolas,'Courier New',monospace\">[2023-02-07T19:38:24.272177+00:00] ━━━━━━━━━━━━━━━━━━━━━━━━━━━━━━━━━━━━━━━━ 2.1/2.1 MB 101.7 MB/s eta 0:00:00\n",
              "</pre>\n"
            ]
          },
          "metadata": {}
        },
        {
          "output_type": "display_data",
          "data": {
            "text/plain": [
              "[2023-02-07T19:38:24.309061+00:00] Installing collected packages: pip\n"
            ],
            "text/html": [
              "<pre style=\"white-space:pre;overflow-x:auto;line-height:normal;font-family:Menlo,'DejaVu Sans Mono',consolas,'Courier New',monospace\">[2023-02-07T19:38:24.309061+00:00] Installing collected packages: pip\n",
              "</pre>\n"
            ]
          },
          "metadata": {}
        },
        {
          "output_type": "display_data",
          "data": {
            "text/plain": [
              "[2023-02-07T19:38:24.309235+00:00] Attempting uninstall: pip\n"
            ],
            "text/html": [
              "<pre style=\"white-space:pre;overflow-x:auto;line-height:normal;font-family:Menlo,'DejaVu Sans Mono',consolas,'Courier New',monospace\">[2023-02-07T19:38:24.309235+00:00] Attempting uninstall: pip\n",
              "</pre>\n"
            ]
          },
          "metadata": {}
        },
        {
          "output_type": "display_data",
          "data": {
            "text/plain": [
              "[2023-02-07T19:38:24.309818+00:00] Found existing installation: pip 22.0.4\n"
            ],
            "text/html": [
              "<pre style=\"white-space:pre;overflow-x:auto;line-height:normal;font-family:Menlo,'DejaVu Sans Mono',consolas,'Courier New',monospace\">[2023-02-07T19:38:24.309818+00:00] Found existing installation: pip 22.0.4\n",
              "</pre>\n"
            ]
          },
          "metadata": {}
        },
        {
          "output_type": "display_data",
          "data": {
            "text/plain": [
              "[2023-02-07T19:38:24.404511+00:00] Uninstalling pip-22.0.4:\n"
            ],
            "text/html": [
              "<pre style=\"white-space:pre;overflow-x:auto;line-height:normal;font-family:Menlo,'DejaVu Sans Mono',consolas,'Courier New',monospace\">[2023-02-07T19:38:24.404511+00:00] Uninstalling pip-22.0.4:\n",
              "</pre>\n"
            ]
          },
          "metadata": {}
        },
        {
          "output_type": "display_data",
          "data": {
            "text/plain": [
              "[2023-02-07T19:38:24.504500+00:00] Successfully uninstalled pip-22.0.4\n"
            ],
            "text/html": [
              "<pre style=\"white-space:pre;overflow-x:auto;line-height:normal;font-family:Menlo,'DejaVu Sans Mono',consolas,'Courier New',monospace\">[2023-02-07T19:38:24.504500+00:00] Successfully uninstalled pip-22.0.4\n",
              "</pre>\n"
            ]
          },
          "metadata": {}
        },
        {
          "output_type": "display_data",
          "data": {
            "text/plain": [
              "[2023-02-07T19:38:25.435956+00:00] Successfully installed pip-23.0\n"
            ],
            "text/html": [
              "<pre style=\"white-space:pre;overflow-x:auto;line-height:normal;font-family:Menlo,'DejaVu Sans Mono',consolas,'Courier New',monospace\">[2023-02-07T19:38:25.435956+00:00] Successfully installed pip-23.0\n",
              "</pre>\n"
            ]
          },
          "metadata": {}
        },
        {
          "output_type": "display_data",
          "data": {
            "text/plain": [
              "[2023-02-07T19:38:25.436238+00:00] \u001b[91mWARNING: Running pip as the 'root' user can result in broken permissions and \u001b[0m\n",
              "\u001b[91mconflicting behaviour with the system package manager. It is recommended to use a virtual environment instead: \u001b[0m\n",
              "\u001b[91mhttps://pip.pypa.io/warnings/venv\u001b[0m\n"
            ],
            "text/html": [
              "<pre style=\"white-space:pre;overflow-x:auto;line-height:normal;font-family:Menlo,'DejaVu Sans Mono',consolas,'Courier New',monospace\">[2023-02-07T19:38:25.436238+00:00] <span style=\"color: #ff0000; text-decoration-color: #ff0000\">WARNING: Running pip as the 'root' user can result in broken permissions and </span>\n",
              "<span style=\"color: #ff0000; text-decoration-color: #ff0000\">conflicting behaviour with the system package manager. It is recommended to use a virtual environment instead: </span>\n",
              "<span style=\"color: #ff0000; text-decoration-color: #ff0000\">https://pip.pypa.io/warnings/venv</span>\n",
              "</pre>\n"
            ]
          },
          "metadata": {}
        },
        {
          "output_type": "display_data",
          "data": {
            "text/plain": [
              "\u001b[91m[2023-02-07T19:38:26.037381+00:00] \u001b[0mCollecting fastapi==0.82.0\n"
            ],
            "text/html": [
              "<pre style=\"white-space:pre;overflow-x:auto;line-height:normal;font-family:Menlo,'DejaVu Sans Mono',consolas,'Courier New',monospace\"><span style=\"color: #ff0000; text-decoration-color: #ff0000\">[2023-02-07T19:38:26.037381+00:00] </span>Collecting fastapi==0.82.0\n",
              "</pre>\n"
            ]
          },
          "metadata": {}
        },
        {
          "output_type": "display_data",
          "data": {
            "text/plain": [
              "[2023-02-07T19:38:26.055240+00:00] Downloading fastapi-0.82.0-py3-none-any.whl (55 kB)\n"
            ],
            "text/html": [
              "<pre style=\"white-space:pre;overflow-x:auto;line-height:normal;font-family:Menlo,'DejaVu Sans Mono',consolas,'Courier New',monospace\">[2023-02-07T19:38:26.055240+00:00] Downloading fastapi-0.82.0-py3-none-any.whl (55 kB)\n",
              "</pre>\n"
            ]
          },
          "metadata": {}
        },
        {
          "output_type": "display_data",
          "data": {
            "text/plain": [
              "[2023-02-07T19:38:26.104628+00:00] Collecting uvicorn==0.18.3\n"
            ],
            "text/html": [
              "<pre style=\"white-space:pre;overflow-x:auto;line-height:normal;font-family:Menlo,'DejaVu Sans Mono',consolas,'Courier New',monospace\">[2023-02-07T19:38:26.104628+00:00] Collecting uvicorn==0.18.3\n",
              "</pre>\n"
            ]
          },
          "metadata": {}
        },
        {
          "output_type": "display_data",
          "data": {
            "text/plain": [
              "[2023-02-07T19:38:26.059300+00:00] ━━━━━━━━━━━━━━━━━━━━━━━━━━━━━━━━━━━━━━━━ 55.3/55.3 kB 40.8 MB/s eta 0:00:00\n"
            ],
            "text/html": [
              "<pre style=\"white-space:pre;overflow-x:auto;line-height:normal;font-family:Menlo,'DejaVu Sans Mono',consolas,'Courier New',monospace\">[2023-02-07T19:38:26.059300+00:00] ━━━━━━━━━━━━━━━━━━━━━━━━━━━━━━━━━━━━━━━━ 55.3/55.3 kB 40.8 MB/s eta 0:00:00\n",
              "</pre>\n"
            ]
          },
          "metadata": {}
        },
        {
          "output_type": "display_data",
          "data": {
            "text/plain": [
              "[2023-02-07T19:38:26.108028+00:00] Downloading uvicorn-0.18.3-py3-none-any.whl (57 kB)\n"
            ],
            "text/html": [
              "<pre style=\"white-space:pre;overflow-x:auto;line-height:normal;font-family:Menlo,'DejaVu Sans Mono',consolas,'Courier New',monospace\">[2023-02-07T19:38:26.108028+00:00] Downloading uvicorn-0.18.3-py3-none-any.whl (57 kB)\n",
              "</pre>\n"
            ]
          },
          "metadata": {}
        },
        {
          "output_type": "display_data",
          "data": {
            "text/plain": [
              "[2023-02-07T19:38:26.110617+00:00] ━━━━━━━━━━━━━━━━━━━━━━━━━━━━━━━━━━━━━━━ 57.4/57.4 kB 275.4 MB/s eta 0:00:00\n"
            ],
            "text/html": [
              "<pre style=\"white-space:pre;overflow-x:auto;line-height:normal;font-family:Menlo,'DejaVu Sans Mono',consolas,'Courier New',monospace\">[2023-02-07T19:38:26.110617+00:00] ━━━━━━━━━━━━━━━━━━━━━━━━━━━━━━━━━━━━━━━ 57.4/57.4 kB 275.4 MB/s eta 0:00:00\n",
              "</pre>\n"
            ]
          },
          "metadata": {}
        },
        {
          "output_type": "display_data",
          "data": {
            "text/plain": [
              "[2023-02-07T19:38:26.286597+00:00] Collecting pydantic==1.10.2\n"
            ],
            "text/html": [
              "<pre style=\"white-space:pre;overflow-x:auto;line-height:normal;font-family:Menlo,'DejaVu Sans Mono',consolas,'Courier New',monospace\">[2023-02-07T19:38:26.286597+00:00] Collecting pydantic==1.10.2\n",
              "</pre>\n"
            ]
          },
          "metadata": {}
        },
        {
          "output_type": "display_data",
          "data": {
            "text/plain": [
              "[2023-02-07T19:38:26.291485+00:00] Downloading \n",
              "pydantic-1.10.2-cp39-cp39-manylinux_2_17_x86_64.manylinux2014_x86_64.whl (13.2 MB)\n"
            ],
            "text/html": [
              "<pre style=\"white-space:pre;overflow-x:auto;line-height:normal;font-family:Menlo,'DejaVu Sans Mono',consolas,'Courier New',monospace\">[2023-02-07T19:38:26.291485+00:00] Downloading \n",
              "pydantic-1.10.2-cp39-cp39-manylinux_2_17_x86_64.manylinux2014_x86_64.whl (13.2 MB)\n",
              "</pre>\n"
            ]
          },
          "metadata": {}
        },
        {
          "output_type": "display_data",
          "data": {
            "text/plain": [
              "[2023-02-07T19:38:26.343445+00:00] ━━━━━━━━━━━━━━━━━━━━━━━━━━━━━━━━━━━━━━━ 13.2/13.2 MB 282.4 MB/s eta 0:00:00\n"
            ],
            "text/html": [
              "<pre style=\"white-space:pre;overflow-x:auto;line-height:normal;font-family:Menlo,'DejaVu Sans Mono',consolas,'Courier New',monospace\">[2023-02-07T19:38:26.343445+00:00] ━━━━━━━━━━━━━━━━━━━━━━━━━━━━━━━━━━━━━━━ 13.2/13.2 MB 282.4 MB/s eta 0:00:00\n",
              "</pre>\n"
            ]
          },
          "metadata": {}
        },
        {
          "output_type": "display_data",
          "data": {
            "text/plain": [
              "[2023-02-07T19:38:26.488372+00:00] Collecting mlfoundry<0.6.0,>=0.5.6\n"
            ],
            "text/html": [
              "<pre style=\"white-space:pre;overflow-x:auto;line-height:normal;font-family:Menlo,'DejaVu Sans Mono',consolas,'Courier New',monospace\">[2023-02-07T19:38:26.488372+00:00] Collecting mlfoundry&lt;0.6.0,&gt;=0.5.6\n",
              "</pre>\n"
            ]
          },
          "metadata": {}
        },
        {
          "output_type": "display_data",
          "data": {
            "text/plain": [
              "[2023-02-07T19:38:26.493244+00:00] Downloading mlfoundry-0.5.6-py3-none-any.whl (124 kB)\n"
            ],
            "text/html": [
              "<pre style=\"white-space:pre;overflow-x:auto;line-height:normal;font-family:Menlo,'DejaVu Sans Mono',consolas,'Courier New',monospace\">[2023-02-07T19:38:26.493244+00:00] Downloading mlfoundry-0.5.6-py3-none-any.whl (124 kB)\n",
              "</pre>\n"
            ]
          },
          "metadata": {}
        },
        {
          "output_type": "display_data",
          "data": {
            "text/plain": [
              "[2023-02-07T19:38:26.495986+00:00] ━━━━━━━━━━━━━━━━━━━━━━━━━━━━━━━━━━━━━ 124.5/124.5 kB 327.9 MB/s eta 0:00:00\n"
            ],
            "text/html": [
              "<pre style=\"white-space:pre;overflow-x:auto;line-height:normal;font-family:Menlo,'DejaVu Sans Mono',consolas,'Courier New',monospace\">[2023-02-07T19:38:26.495986+00:00] ━━━━━━━━━━━━━━━━━━━━━━━━━━━━━━━━━━━━━ 124.5/124.5 kB 327.9 MB/s eta 0:00:00\n",
              "</pre>\n"
            ]
          },
          "metadata": {}
        },
        {
          "output_type": "display_data",
          "data": {
            "text/plain": [
              "[2023-02-07T19:38:26.707413+00:00] Collecting pandas==1.4.4\n"
            ],
            "text/html": [
              "<pre style=\"white-space:pre;overflow-x:auto;line-height:normal;font-family:Menlo,'DejaVu Sans Mono',consolas,'Courier New',monospace\">[2023-02-07T19:38:26.707413+00:00] Collecting pandas==1.4.4\n",
              "</pre>\n"
            ]
          },
          "metadata": {}
        },
        {
          "output_type": "display_data",
          "data": {
            "text/plain": [
              "[2023-02-07T19:38:26.713662+00:00] Downloading \n",
              "pandas-1.4.4-cp39-cp39-manylinux_2_17_x86_64.manylinux2014_x86_64.whl (11.7 MB)\n"
            ],
            "text/html": [
              "<pre style=\"white-space:pre;overflow-x:auto;line-height:normal;font-family:Menlo,'DejaVu Sans Mono',consolas,'Courier New',monospace\">[2023-02-07T19:38:26.713662+00:00] Downloading \n",
              "pandas-1.4.4-cp39-cp39-manylinux_2_17_x86_64.manylinux2014_x86_64.whl (11.7 MB)\n",
              "</pre>\n"
            ]
          },
          "metadata": {}
        },
        {
          "output_type": "display_data",
          "data": {
            "text/plain": [
              "[2023-02-07T19:38:26.753694+00:00] ━━━━━━━━━━━━━━━━━━━━━━━━━━━━━━━━━━━━━━━ 11.7/11.7 MB 315.4 MB/s eta 0:00:00\n"
            ],
            "text/html": [
              "<pre style=\"white-space:pre;overflow-x:auto;line-height:normal;font-family:Menlo,'DejaVu Sans Mono',consolas,'Courier New',monospace\">[2023-02-07T19:38:26.753694+00:00] ━━━━━━━━━━━━━━━━━━━━━━━━━━━━━━━━━━━━━━━ 11.7/11.7 MB 315.4 MB/s eta 0:00:00\n",
              "</pre>\n"
            ]
          },
          "metadata": {}
        },
        {
          "output_type": "display_data",
          "data": {
            "text/plain": [
              "[2023-02-07T19:38:26.861132+00:00] Collecting starlette==0.19.1\n"
            ],
            "text/html": [
              "<pre style=\"white-space:pre;overflow-x:auto;line-height:normal;font-family:Menlo,'DejaVu Sans Mono',consolas,'Courier New',monospace\">[2023-02-07T19:38:26.861132+00:00] Collecting starlette==0.19.1\n",
              "</pre>\n"
            ]
          },
          "metadata": {}
        },
        {
          "output_type": "display_data",
          "data": {
            "text/plain": [
              "[2023-02-07T19:38:26.864622+00:00] Downloading starlette-0.19.1-py3-none-any.whl (63 kB)\n"
            ],
            "text/html": [
              "<pre style=\"white-space:pre;overflow-x:auto;line-height:normal;font-family:Menlo,'DejaVu Sans Mono',consolas,'Courier New',monospace\">[2023-02-07T19:38:26.864622+00:00] Downloading starlette-0.19.1-py3-none-any.whl (63 kB)\n",
              "</pre>\n"
            ]
          },
          "metadata": {}
        },
        {
          "output_type": "display_data",
          "data": {
            "text/plain": [
              "[2023-02-07T19:38:26.867327+00:00] ━━━━━━━━━━━━━━━━━━━━━━━━━━━━━━━━━━━━━━━ 63.3/63.3 kB 286.7 MB/s eta 0:00:00\n"
            ],
            "text/html": [
              "<pre style=\"white-space:pre;overflow-x:auto;line-height:normal;font-family:Menlo,'DejaVu Sans Mono',consolas,'Courier New',monospace\">[2023-02-07T19:38:26.867327+00:00] ━━━━━━━━━━━━━━━━━━━━━━━━━━━━━━━━━━━━━━━ 63.3/63.3 kB 286.7 MB/s eta 0:00:00\n",
              "</pre>\n"
            ]
          },
          "metadata": {}
        },
        {
          "output_type": "display_data",
          "data": {
            "text/plain": [
              "[2023-02-07T19:38:26.929075+00:00] Collecting h11>=0.8\n"
            ],
            "text/html": [
              "<pre style=\"white-space:pre;overflow-x:auto;line-height:normal;font-family:Menlo,'DejaVu Sans Mono',consolas,'Courier New',monospace\">[2023-02-07T19:38:26.929075+00:00] Collecting h11&gt;=0.8\n",
              "</pre>\n"
            ]
          },
          "metadata": {}
        },
        {
          "output_type": "display_data",
          "data": {
            "text/plain": [
              "[2023-02-07T19:38:26.932469+00:00] Downloading h11-0.14.0-py3-none-any.whl (58 kB)\n"
            ],
            "text/html": [
              "<pre style=\"white-space:pre;overflow-x:auto;line-height:normal;font-family:Menlo,'DejaVu Sans Mono',consolas,'Courier New',monospace\">[2023-02-07T19:38:26.932469+00:00] Downloading h11-0.14.0-py3-none-any.whl (58 kB)\n",
              "</pre>\n"
            ]
          },
          "metadata": {}
        },
        {
          "output_type": "display_data",
          "data": {
            "text/plain": [
              "[2023-02-07T19:38:26.937355+00:00] ━━━━━━━━━━━━━━━━━━━━━━━━━━━━━━━━━━━━━━━ 58.3/58.3 kB 265.4 MB/s eta 0:00:00\n"
            ],
            "text/html": [
              "<pre style=\"white-space:pre;overflow-x:auto;line-height:normal;font-family:Menlo,'DejaVu Sans Mono',consolas,'Courier New',monospace\">[2023-02-07T19:38:26.937355+00:00] ━━━━━━━━━━━━━━━━━━━━━━━━━━━━━━━━━━━━━━━ 58.3/58.3 kB 265.4 MB/s eta 0:00:00\n",
              "</pre>\n"
            ]
          },
          "metadata": {}
        },
        {
          "output_type": "display_data",
          "data": {
            "text/plain": [
              "[2023-02-07T19:38:26.985944+00:00] Downloading click-8.1.3-py3-none-any.whl (96 kB)\n"
            ],
            "text/html": [
              "<pre style=\"white-space:pre;overflow-x:auto;line-height:normal;font-family:Menlo,'DejaVu Sans Mono',consolas,'Courier New',monospace\">[2023-02-07T19:38:26.985944+00:00] Downloading click-8.1.3-py3-none-any.whl (96 kB)\n",
              "</pre>\n"
            ]
          },
          "metadata": {}
        },
        {
          "output_type": "display_data",
          "data": {
            "text/plain": [
              "[2023-02-07T19:38:26.988528+00:00] ━━━━━━━━━━━━━━━━━━━━━━━━━━━━━━━━━━━━━━━ 96.6/96.6 kB 344.0 MB/s eta 0:00:00\n"
            ],
            "text/html": [
              "<pre style=\"white-space:pre;overflow-x:auto;line-height:normal;font-family:Menlo,'DejaVu Sans Mono',consolas,'Courier New',monospace\">[2023-02-07T19:38:26.988528+00:00] ━━━━━━━━━━━━━━━━━━━━━━━━━━━━━━━━━━━━━━━ 96.6/96.6 kB 344.0 MB/s eta 0:00:00\n",
              "</pre>\n"
            ]
          },
          "metadata": {}
        },
        {
          "output_type": "display_data",
          "data": {
            "text/plain": [
              "[2023-02-07T19:38:27.024632+00:00] Downloading typing_extensions-4.4.0-py3-none-any.whl (26 kB)\n"
            ],
            "text/html": [
              "<pre style=\"white-space:pre;overflow-x:auto;line-height:normal;font-family:Menlo,'DejaVu Sans Mono',consolas,'Courier New',monospace\">[2023-02-07T19:38:27.024632+00:00] Downloading typing_extensions-4.4.0-py3-none-any.whl (26 kB)\n",
              "</pre>\n"
            ]
          },
          "metadata": {}
        },
        {
          "output_type": "display_data",
          "data": {
            "text/plain": [
              "[2023-02-07T19:38:26.982687+00:00] Collecting click>=7.0\n"
            ],
            "text/html": [
              "<pre style=\"white-space:pre;overflow-x:auto;line-height:normal;font-family:Menlo,'DejaVu Sans Mono',consolas,'Courier New',monospace\">[2023-02-07T19:38:26.982687+00:00] Collecting click&gt;=7.0\n",
              "</pre>\n"
            ]
          },
          "metadata": {}
        },
        {
          "output_type": "display_data",
          "data": {
            "text/plain": [
              "[2023-02-07T19:38:27.063691+00:00] Collecting python-dateutil>=2.8.1\n"
            ],
            "text/html": [
              "<pre style=\"white-space:pre;overflow-x:auto;line-height:normal;font-family:Menlo,'DejaVu Sans Mono',consolas,'Courier New',monospace\">[2023-02-07T19:38:27.063691+00:00] Collecting python-dateutil&gt;=2.8.1\n",
              "</pre>\n"
            ]
          },
          "metadata": {}
        },
        {
          "output_type": "display_data",
          "data": {
            "text/plain": [
              "[2023-02-07T19:38:27.021279+00:00] Collecting typing-extensions>=4.1.0\n"
            ],
            "text/html": [
              "<pre style=\"white-space:pre;overflow-x:auto;line-height:normal;font-family:Menlo,'DejaVu Sans Mono',consolas,'Courier New',monospace\">[2023-02-07T19:38:27.021279+00:00] Collecting typing-extensions&gt;=4.1.0\n",
              "</pre>\n"
            ]
          },
          "metadata": {}
        },
        {
          "output_type": "display_data",
          "data": {
            "text/plain": [
              "[2023-02-07T19:38:27.067010+00:00] Downloading python_dateutil-2.8.2-py2.py3-none-any.whl (247 kB)\n"
            ],
            "text/html": [
              "<pre style=\"white-space:pre;overflow-x:auto;line-height:normal;font-family:Menlo,'DejaVu Sans Mono',consolas,'Courier New',monospace\">[2023-02-07T19:38:27.067010+00:00] Downloading python_dateutil-2.8.2-py2.py3-none-any.whl (247 kB)\n",
              "</pre>\n"
            ]
          },
          "metadata": {}
        },
        {
          "output_type": "display_data",
          "data": {
            "text/plain": [
              "[2023-02-07T19:38:27.069939+00:00] ━━━━━━━━━━━━━━━━━━━━━━━━━━━━━━━━━━━━━ 247.7/247.7 kB 378.8 MB/s eta 0:00:00\n"
            ],
            "text/html": [
              "<pre style=\"white-space:pre;overflow-x:auto;line-height:normal;font-family:Menlo,'DejaVu Sans Mono',consolas,'Courier New',monospace\">[2023-02-07T19:38:27.069939+00:00] ━━━━━━━━━━━━━━━━━━━━━━━━━━━━━━━━━━━━━ 247.7/247.7 kB 378.8 MB/s eta 0:00:00\n",
              "</pre>\n"
            ]
          },
          "metadata": {}
        },
        {
          "output_type": "display_data",
          "data": {
            "text/plain": [
              "[2023-02-07T19:38:27.165459+00:00] Collecting pytz>=2020.1\n"
            ],
            "text/html": [
              "<pre style=\"white-space:pre;overflow-x:auto;line-height:normal;font-family:Menlo,'DejaVu Sans Mono',consolas,'Courier New',monospace\">[2023-02-07T19:38:27.165459+00:00] Collecting pytz&gt;=2020.1\n",
              "</pre>\n"
            ]
          },
          "metadata": {}
        },
        {
          "output_type": "display_data",
          "data": {
            "text/plain": [
              "[2023-02-07T19:38:27.172471+00:00] ━━━━━━━━━━━━━━━━━━━━━━━━━━━━━━━━━━━━━ 499.4/499.4 kB 400.1 MB/s eta 0:00:00\n"
            ],
            "text/html": [
              "<pre style=\"white-space:pre;overflow-x:auto;line-height:normal;font-family:Menlo,'DejaVu Sans Mono',consolas,'Courier New',monospace\">[2023-02-07T19:38:27.172471+00:00] ━━━━━━━━━━━━━━━━━━━━━━━━━━━━━━━━━━━━━ 499.4/499.4 kB 400.1 MB/s eta 0:00:00\n",
              "</pre>\n"
            ]
          },
          "metadata": {}
        },
        {
          "output_type": "display_data",
          "data": {
            "text/plain": [
              "[2023-02-07T19:38:27.650034+00:00] Collecting anyio<5,>=3.4.0\n"
            ],
            "text/html": [
              "<pre style=\"white-space:pre;overflow-x:auto;line-height:normal;font-family:Menlo,'DejaVu Sans Mono',consolas,'Courier New',monospace\">[2023-02-07T19:38:27.650034+00:00] Collecting anyio&lt;5,&gt;=3.4.0\n",
              "</pre>\n"
            ]
          },
          "metadata": {}
        },
        {
          "output_type": "display_data",
          "data": {
            "text/plain": [
              "[2023-02-07T19:38:27.655983+00:00] ━━━━━━━━━━━━━━━━━━━━━━━━━━━━━━━━━━━━━━━ 80.6/80.6 kB 323.3 MB/s eta 0:00:00\n"
            ],
            "text/html": [
              "<pre style=\"white-space:pre;overflow-x:auto;line-height:normal;font-family:Menlo,'DejaVu Sans Mono',consolas,'Courier New',monospace\">[2023-02-07T19:38:27.655983+00:00] ━━━━━━━━━━━━━━━━━━━━━━━━━━━━━━━━━━━━━━━ 80.6/80.6 kB 323.3 MB/s eta 0:00:00\n",
              "</pre>\n"
            ]
          },
          "metadata": {}
        },
        {
          "output_type": "display_data",
          "data": {
            "text/plain": [
              "[2023-02-07T19:38:27.524072+00:00] Downloading \n",
              "numpy-1.24.2-cp39-cp39-manylinux_2_17_x86_64.manylinux2014_x86_64.whl (17.3 MB)\n"
            ],
            "text/html": [
              "<pre style=\"white-space:pre;overflow-x:auto;line-height:normal;font-family:Menlo,'DejaVu Sans Mono',consolas,'Courier New',monospace\">[2023-02-07T19:38:27.524072+00:00] Downloading \n",
              "numpy-1.24.2-cp39-cp39-manylinux_2_17_x86_64.manylinux2014_x86_64.whl (17.3 MB)\n",
              "</pre>\n"
            ]
          },
          "metadata": {}
        },
        {
          "output_type": "display_data",
          "data": {
            "text/plain": [
              "[2023-02-07T19:38:27.821451+00:00] Collecting psutil<6.0.0,>=5.9.0\n"
            ],
            "text/html": [
              "<pre style=\"white-space:pre;overflow-x:auto;line-height:normal;font-family:Menlo,'DejaVu Sans Mono',consolas,'Courier New',monospace\">[2023-02-07T19:38:27.821451+00:00] Collecting psutil&lt;6.0.0,&gt;=5.9.0\n",
              "</pre>\n"
            ]
          },
          "metadata": {}
        },
        {
          "output_type": "display_data",
          "data": {
            "text/plain": [
              "[2023-02-07T19:38:27.825237+00:00] Downloading \n",
              "psutil-5.9.4-cp36-abi3-manylinux_2_12_x86_64.manylinux2010_x86_64.manylinux_2_17_x86_64.manylinux2014_x86_64.whl \n",
              "(280 kB)\n"
            ],
            "text/html": [
              "<pre style=\"white-space:pre;overflow-x:auto;line-height:normal;font-family:Menlo,'DejaVu Sans Mono',consolas,'Courier New',monospace\">[2023-02-07T19:38:27.825237+00:00] Downloading \n",
              "psutil-5.9.4-cp36-abi3-manylinux_2_12_x86_64.manylinux2010_x86_64.manylinux_2_17_x86_64.manylinux2014_x86_64.whl \n",
              "(280 kB)\n",
              "</pre>\n"
            ]
          },
          "metadata": {}
        },
        {
          "output_type": "display_data",
          "data": {
            "text/plain": [
              "[2023-02-07T19:38:27.828607+00:00] ━━━━━━━━━━━━━━━━━━━━━━━━━━━━━━━━━━━━━ 280.2/280.2 kB 351.1 MB/s eta 0:00:00\n"
            ],
            "text/html": [
              "<pre style=\"white-space:pre;overflow-x:auto;line-height:normal;font-family:Menlo,'DejaVu Sans Mono',consolas,'Courier New',monospace\">[2023-02-07T19:38:27.828607+00:00] ━━━━━━━━━━━━━━━━━━━━━━━━━━━━━━━━━━━━━ 280.2/280.2 kB 351.1 MB/s eta 0:00:00\n",
              "</pre>\n"
            ]
          },
          "metadata": {}
        },
        {
          "output_type": "display_data",
          "data": {
            "text/plain": [
              "[2023-02-07T19:38:27.850500+00:00] Collecting coolname<2.0.0,>=1.1.0\n"
            ],
            "text/html": [
              "<pre style=\"white-space:pre;overflow-x:auto;line-height:normal;font-family:Menlo,'DejaVu Sans Mono',consolas,'Courier New',monospace\">[2023-02-07T19:38:27.850500+00:00] Collecting coolname&lt;2.0.0,&gt;=1.1.0\n",
              "</pre>\n"
            ]
          },
          "metadata": {}
        },
        {
          "output_type": "display_data",
          "data": {
            "text/plain": [
              "[2023-02-07T19:38:27.854878+00:00] Downloading coolname-1.1.0-py2.py3-none-any.whl (35 kB)\n"
            ],
            "text/html": [
              "<pre style=\"white-space:pre;overflow-x:auto;line-height:normal;font-family:Menlo,'DejaVu Sans Mono',consolas,'Courier New',monospace\">[2023-02-07T19:38:27.854878+00:00] Downloading coolname-1.1.0-py2.py3-none-any.whl (35 kB)\n",
              "</pre>\n"
            ]
          },
          "metadata": {}
        },
        {
          "output_type": "display_data",
          "data": {
            "text/plain": [
              "[2023-02-07T19:38:27.872669+00:00] Collecting numpy>=1.18.5\n"
            ],
            "text/html": [
              "<pre style=\"white-space:pre;overflow-x:auto;line-height:normal;font-family:Menlo,'DejaVu Sans Mono',consolas,'Courier New',monospace\">[2023-02-07T19:38:27.872669+00:00] Collecting numpy&gt;=1.18.5\n",
              "</pre>\n"
            ]
          },
          "metadata": {}
        },
        {
          "output_type": "display_data",
          "data": {
            "text/plain": [
              "[2023-02-07T19:38:27.876036+00:00] Downloading \n",
              "numpy-1.23.5-cp39-cp39-manylinux_2_17_x86_64.manylinux2014_x86_64.whl (17.1 MB)\n"
            ],
            "text/html": [
              "<pre style=\"white-space:pre;overflow-x:auto;line-height:normal;font-family:Menlo,'DejaVu Sans Mono',consolas,'Courier New',monospace\">[2023-02-07T19:38:27.876036+00:00] Downloading \n",
              "numpy-1.23.5-cp39-cp39-manylinux_2_17_x86_64.manylinux2014_x86_64.whl (17.1 MB)\n",
              "</pre>\n"
            ]
          },
          "metadata": {}
        },
        {
          "output_type": "display_data",
          "data": {
            "text/plain": [
              "[2023-02-07T19:38:27.924397+00:00] ━━━━━━━━━━━━━━━━━━━━━━━━━━━━━━━━━━━━━━━ 17.1/17.1 MB 384.7 MB/s eta 0:00:00\n"
            ],
            "text/html": [
              "<pre style=\"white-space:pre;overflow-x:auto;line-height:normal;font-family:Menlo,'DejaVu Sans Mono',consolas,'Courier New',monospace\">[2023-02-07T19:38:27.924397+00:00] ━━━━━━━━━━━━━━━━━━━━━━━━━━━━━━━━━━━━━━━ 17.1/17.1 MB 384.7 MB/s eta 0:00:00\n",
              "</pre>\n"
            ]
          },
          "metadata": {}
        },
        {
          "output_type": "display_data",
          "data": {
            "text/plain": [
              "[2023-02-07T19:38:28.060598+00:00] Collecting tfy-mlflow-client==0.0.22\n"
            ],
            "text/html": [
              "<pre style=\"white-space:pre;overflow-x:auto;line-height:normal;font-family:Menlo,'DejaVu Sans Mono',consolas,'Courier New',monospace\">[2023-02-07T19:38:28.060598+00:00] Collecting tfy-mlflow-client==0.0.22\n",
              "</pre>\n"
            ]
          },
          "metadata": {}
        },
        {
          "output_type": "display_data",
          "data": {
            "text/plain": [
              "[2023-02-07T19:38:28.067819+00:00] Downloading tfy_mlflow_client-0.0.22-py3-none-any.whl (3.4 MB)\n"
            ],
            "text/html": [
              "<pre style=\"white-space:pre;overflow-x:auto;line-height:normal;font-family:Menlo,'DejaVu Sans Mono',consolas,'Courier New',monospace\">[2023-02-07T19:38:28.067819+00:00] Downloading tfy_mlflow_client-0.0.22-py3-none-any.whl (3.4 MB)\n",
              "</pre>\n"
            ]
          },
          "metadata": {}
        },
        {
          "output_type": "display_data",
          "data": {
            "text/plain": [
              "[2023-02-07T19:38:28.084193+00:00] ━━━━━━━━━━━━━━━━━━━━━━━━━━━━━━━━━━━━━━━━ 3.4/3.4 MB 241.4 MB/s eta 0:00:00\n"
            ],
            "text/html": [
              "<pre style=\"white-space:pre;overflow-x:auto;line-height:normal;font-family:Menlo,'DejaVu Sans Mono',consolas,'Courier New',monospace\">[2023-02-07T19:38:28.084193+00:00] ━━━━━━━━━━━━━━━━━━━━━━━━━━━━━━━━━━━━━━━━ 3.4/3.4 MB 241.4 MB/s eta 0:00:00\n",
              "</pre>\n"
            ]
          },
          "metadata": {}
        },
        {
          "output_type": "display_data",
          "data": {
            "text/plain": [
              "[2023-02-07T19:38:28.245530+00:00] Collecting scikit-learn<2.0.0,>=0.24.2\n"
            ],
            "text/html": [
              "<pre style=\"white-space:pre;overflow-x:auto;line-height:normal;font-family:Menlo,'DejaVu Sans Mono',consolas,'Courier New',monospace\">[2023-02-07T19:38:28.245530+00:00] Collecting scikit-learn&lt;2.0.0,&gt;=0.24.2\n",
              "</pre>\n"
            ]
          },
          "metadata": {}
        },
        {
          "output_type": "display_data",
          "data": {
            "text/plain": [
              "[2023-02-07T19:38:28.250335+00:00] Downloading \n",
              "scikit_learn-1.2.1-cp39-cp39-manylinux_2_17_x86_64.manylinux2014_x86_64.whl (9.6 MB)\n"
            ],
            "text/html": [
              "<pre style=\"white-space:pre;overflow-x:auto;line-height:normal;font-family:Menlo,'DejaVu Sans Mono',consolas,'Courier New',monospace\">[2023-02-07T19:38:28.250335+00:00] Downloading \n",
              "scikit_learn-1.2.1-cp39-cp39-manylinux_2_17_x86_64.manylinux2014_x86_64.whl (9.6 MB)\n",
              "</pre>\n"
            ]
          },
          "metadata": {}
        },
        {
          "output_type": "display_data",
          "data": {
            "text/plain": [
              "[2023-02-07T19:38:28.277258+00:00] ━━━━━━━━━━━━━━━━━━━━━━━━━━━━━━━━━━━━━━━━ 9.6/9.6 MB 391.2 MB/s eta 0:00:00\n"
            ],
            "text/html": [
              "<pre style=\"white-space:pre;overflow-x:auto;line-height:normal;font-family:Menlo,'DejaVu Sans Mono',consolas,'Courier New',monospace\">[2023-02-07T19:38:28.277258+00:00] ━━━━━━━━━━━━━━━━━━━━━━━━━━━━━━━━━━━━━━━━ 9.6/9.6 MB 391.2 MB/s eta 0:00:00\n",
              "</pre>\n"
            ]
          },
          "metadata": {}
        },
        {
          "output_type": "display_data",
          "data": {
            "text/plain": [
              "[2023-02-07T19:38:28.483970+00:00] Collecting scipy<2.0.0,>=1.5.4\n"
            ],
            "text/html": [
              "<pre style=\"white-space:pre;overflow-x:auto;line-height:normal;font-family:Menlo,'DejaVu Sans Mono',consolas,'Courier New',monospace\">[2023-02-07T19:38:28.483970+00:00] Collecting scipy&lt;2.0.0,&gt;=1.5.4\n",
              "</pre>\n"
            ]
          },
          "metadata": {}
        },
        {
          "output_type": "display_data",
          "data": {
            "text/plain": [
              "[2023-02-07T19:38:28.488631+00:00] Downloading \n",
              "scipy-1.10.0-cp39-cp39-manylinux_2_17_x86_64.manylinux2014_x86_64.whl (34.4 MB)\n"
            ],
            "text/html": [
              "<pre style=\"white-space:pre;overflow-x:auto;line-height:normal;font-family:Menlo,'DejaVu Sans Mono',consolas,'Courier New',monospace\">[2023-02-07T19:38:28.488631+00:00] Downloading \n",
              "scipy-1.10.0-cp39-cp39-manylinux_2_17_x86_64.manylinux2014_x86_64.whl (34.4 MB)\n",
              "</pre>\n"
            ]
          },
          "metadata": {}
        },
        {
          "output_type": "display_data",
          "data": {
            "text/plain": [
              "[2023-02-07T19:38:28.578756+00:00] ━━━━━━━━━━━━━━━━━━━━━━━━━━━━━━━━━━━━━━━ 34.4/34.4 MB 394.8 MB/s eta 0:00:00\n"
            ],
            "text/html": [
              "<pre style=\"white-space:pre;overflow-x:auto;line-height:normal;font-family:Menlo,'DejaVu Sans Mono',consolas,'Courier New',monospace\">[2023-02-07T19:38:28.578756+00:00] ━━━━━━━━━━━━━━━━━━━━━━━━━━━━━━━━━━━━━━━ 34.4/34.4 MB 394.8 MB/s eta 0:00:00\n",
              "</pre>\n"
            ]
          },
          "metadata": {}
        },
        {
          "output_type": "display_data",
          "data": {
            "text/plain": [
              "[2023-02-07T19:38:28.646709+00:00] Collecting amplitude-tracker<0.0.8,>=0.0.7\n"
            ],
            "text/html": [
              "<pre style=\"white-space:pre;overflow-x:auto;line-height:normal;font-family:Menlo,'DejaVu Sans Mono',consolas,'Courier New',monospace\">[2023-02-07T19:38:28.646709+00:00] Collecting amplitude-tracker&lt;0.0.8,&gt;=0.0.7\n",
              "</pre>\n"
            ]
          },
          "metadata": {}
        },
        {
          "output_type": "display_data",
          "data": {
            "text/plain": [
              "[2023-02-07T19:38:28.650983+00:00] Downloading amplitude_tracker-0.0.7-py2.py3-none-any.whl (15 kB)\n"
            ],
            "text/html": [
              "<pre style=\"white-space:pre;overflow-x:auto;line-height:normal;font-family:Menlo,'DejaVu Sans Mono',consolas,'Courier New',monospace\">[2023-02-07T19:38:28.650983+00:00] Downloading amplitude_tracker-0.0.7-py2.py3-none-any.whl (15 kB)\n",
              "</pre>\n"
            ]
          },
          "metadata": {}
        },
        {
          "output_type": "display_data",
          "data": {
            "text/plain": [
              "[2023-02-07T19:38:28.688066+00:00] Collecting packaging<22.0,>=21.3\n"
            ],
            "text/html": [
              "<pre style=\"white-space:pre;overflow-x:auto;line-height:normal;font-family:Menlo,'DejaVu Sans Mono',consolas,'Courier New',monospace\">[2023-02-07T19:38:28.688066+00:00] Collecting packaging&lt;22.0,&gt;=21.3\n",
              "</pre>\n"
            ]
          },
          "metadata": {}
        },
        {
          "output_type": "display_data",
          "data": {
            "text/plain": [
              "[2023-02-07T19:38:28.691240+00:00] Downloading packaging-21.3-py3-none-any.whl (40 kB)\n"
            ],
            "text/html": [
              "<pre style=\"white-space:pre;overflow-x:auto;line-height:normal;font-family:Menlo,'DejaVu Sans Mono',consolas,'Courier New',monospace\">[2023-02-07T19:38:28.691240+00:00] Downloading packaging-21.3-py3-none-any.whl (40 kB)\n",
              "</pre>\n"
            ]
          },
          "metadata": {}
        },
        {
          "output_type": "display_data",
          "data": {
            "text/plain": [
              "[2023-02-07T19:38:28.693797+00:00] ━━━━━━━━━━━━━━━━━━━━━━━━━━━━━━━━━━━━━━━ 40.8/40.8 kB 242.2 MB/s eta 0:00:00\n"
            ],
            "text/html": [
              "<pre style=\"white-space:pre;overflow-x:auto;line-height:normal;font-family:Menlo,'DejaVu Sans Mono',consolas,'Courier New',monospace\">[2023-02-07T19:38:28.693797+00:00] ━━━━━━━━━━━━━━━━━━━━━━━━━━━━━━━━━━━━━━━ 40.8/40.8 kB 242.2 MB/s eta 0:00:00\n",
              "</pre>\n"
            ]
          },
          "metadata": {}
        },
        {
          "output_type": "display_data",
          "data": {
            "text/plain": [
              "[2023-02-07T19:38:28.725193+00:00] Collecting filelock<4.0.0,>=3.8.0\n"
            ],
            "text/html": [
              "<pre style=\"white-space:pre;overflow-x:auto;line-height:normal;font-family:Menlo,'DejaVu Sans Mono',consolas,'Courier New',monospace\">[2023-02-07T19:38:28.725193+00:00] Collecting filelock&lt;4.0.0,&gt;=3.8.0\n",
              "</pre>\n"
            ]
          },
          "metadata": {}
        },
        {
          "output_type": "display_data",
          "data": {
            "text/plain": [
              "[2023-02-07T19:38:28.728401+00:00] Downloading filelock-3.9.0-py3-none-any.whl (9.7 kB)\n"
            ],
            "text/html": [
              "<pre style=\"white-space:pre;overflow-x:auto;line-height:normal;font-family:Menlo,'DejaVu Sans Mono',consolas,'Courier New',monospace\">[2023-02-07T19:38:28.728401+00:00] Downloading filelock-3.9.0-py3-none-any.whl (9.7 kB)\n",
              "</pre>\n"
            ]
          },
          "metadata": {}
        },
        {
          "output_type": "display_data",
          "data": {
            "text/plain": [
              "[2023-02-07T19:38:28.856569+00:00] Collecting pyarrow<9.0.0,>=5.0.0\n"
            ],
            "text/html": [
              "<pre style=\"white-space:pre;overflow-x:auto;line-height:normal;font-family:Menlo,'DejaVu Sans Mono',consolas,'Courier New',monospace\">[2023-02-07T19:38:28.856569+00:00] Collecting pyarrow&lt;9.0.0,&gt;=5.0.0\n",
              "</pre>\n"
            ]
          },
          "metadata": {}
        },
        {
          "output_type": "display_data",
          "data": {
            "text/plain": [
              "[2023-02-07T19:38:28.860141+00:00] Downloading \n",
              "pyarrow-8.0.0-cp39-cp39-manylinux_2_17_x86_64.manylinux2014_x86_64.whl (29.4 MB)\n"
            ],
            "text/html": [
              "<pre style=\"white-space:pre;overflow-x:auto;line-height:normal;font-family:Menlo,'DejaVu Sans Mono',consolas,'Courier New',monospace\">[2023-02-07T19:38:28.860141+00:00] Downloading \n",
              "pyarrow-8.0.0-cp39-cp39-manylinux_2_17_x86_64.manylinux2014_x86_64.whl (29.4 MB)\n",
              "</pre>\n"
            ]
          },
          "metadata": {}
        },
        {
          "output_type": "display_data",
          "data": {
            "text/plain": [
              "[2023-02-07T19:38:28.943252+00:00] ━━━━━━━━━━━━━━━━━━━━━━━━━━━━━━━━━━━━━━━ 29.4/29.4 MB 359.8 MB/s eta 0:00:00\n"
            ],
            "text/html": [
              "<pre style=\"white-space:pre;overflow-x:auto;line-height:normal;font-family:Menlo,'DejaVu Sans Mono',consolas,'Courier New',monospace\">[2023-02-07T19:38:28.943252+00:00] ━━━━━━━━━━━━━━━━━━━━━━━━━━━━━━━━━━━━━━━ 29.4/29.4 MB 359.8 MB/s eta 0:00:00\n",
              "</pre>\n"
            ]
          },
          "metadata": {}
        },
        {
          "output_type": "display_data",
          "data": {
            "text/plain": [
              "[2023-02-07T19:38:29.157437+00:00] Collecting whylogs<0.7.0,>=0.6.15\n"
            ],
            "text/html": [
              "<pre style=\"white-space:pre;overflow-x:auto;line-height:normal;font-family:Menlo,'DejaVu Sans Mono',consolas,'Courier New',monospace\">[2023-02-07T19:38:29.157437+00:00] Collecting whylogs&lt;0.7.0,&gt;=0.6.15\n",
              "</pre>\n"
            ]
          },
          "metadata": {}
        },
        {
          "output_type": "display_data",
          "data": {
            "text/plain": [
              "[2023-02-07T19:38:29.165442+00:00] Downloading whylogs-0.6.30-py3-none-any.whl (2.1 MB)\n"
            ],
            "text/html": [
              "<pre style=\"white-space:pre;overflow-x:auto;line-height:normal;font-family:Menlo,'DejaVu Sans Mono',consolas,'Courier New',monospace\">[2023-02-07T19:38:29.165442+00:00] Downloading whylogs-0.6.30-py3-none-any.whl (2.1 MB)\n",
              "</pre>\n"
            ]
          },
          "metadata": {}
        },
        {
          "output_type": "display_data",
          "data": {
            "text/plain": [
              "[2023-02-07T19:38:29.176698+00:00] ━━━━━━━━━━━━━━━━━━━━━━━━━━━━━━━━━━━━━━━━ 2.1/2.1 MB 251.8 MB/s eta 0:00:00\n"
            ],
            "text/html": [
              "<pre style=\"white-space:pre;overflow-x:auto;line-height:normal;font-family:Menlo,'DejaVu Sans Mono',consolas,'Courier New',monospace\">[2023-02-07T19:38:29.176698+00:00] ━━━━━━━━━━━━━━━━━━━━━━━━━━━━━━━━━━━━━━━━ 2.1/2.1 MB 251.8 MB/s eta 0:00:00\n",
              "</pre>\n"
            ]
          },
          "metadata": {}
        },
        {
          "output_type": "display_data",
          "data": {
            "text/plain": [
              "[2023-02-07T19:38:29.776814+00:00] Collecting boto3<2.0.0,>=1.14.1\n"
            ],
            "text/html": [
              "<pre style=\"white-space:pre;overflow-x:auto;line-height:normal;font-family:Menlo,'DejaVu Sans Mono',consolas,'Courier New',monospace\">[2023-02-07T19:38:29.776814+00:00] Collecting boto3&lt;2.0.0,&gt;=1.14.1\n",
              "</pre>\n"
            ]
          },
          "metadata": {}
        },
        {
          "output_type": "display_data",
          "data": {
            "text/plain": [
              "[2023-02-07T19:38:29.780637+00:00] Downloading boto3-1.26.65-py3-none-any.whl (132 kB)\n"
            ],
            "text/html": [
              "<pre style=\"white-space:pre;overflow-x:auto;line-height:normal;font-family:Menlo,'DejaVu Sans Mono',consolas,'Courier New',monospace\">[2023-02-07T19:38:29.780637+00:00] Downloading boto3-1.26.65-py3-none-any.whl (132 kB)\n",
              "</pre>\n"
            ]
          },
          "metadata": {}
        },
        {
          "output_type": "display_data",
          "data": {
            "text/plain": [
              "[2023-02-07T19:38:29.783469+00:00] ━━━━━━━━━━━━━━━━━━━━━━━━━━━━━━━━━━━━━ 132.7/132.7 kB 352.5 MB/s eta 0:00:00\n"
            ],
            "text/html": [
              "<pre style=\"white-space:pre;overflow-x:auto;line-height:normal;font-family:Menlo,'DejaVu Sans Mono',consolas,'Courier New',monospace\">[2023-02-07T19:38:29.783469+00:00] ━━━━━━━━━━━━━━━━━━━━━━━━━━━━━━━━━━━━━ 132.7/132.7 kB 352.5 MB/s eta 0:00:00\n",
              "</pre>\n"
            ]
          },
          "metadata": {}
        },
        {
          "output_type": "display_data",
          "data": {
            "text/plain": [
              "[2023-02-07T19:38:29.853286+00:00] Collecting importlib-metadata<5.0.0,>=4.11.3\n"
            ],
            "text/html": [
              "<pre style=\"white-space:pre;overflow-x:auto;line-height:normal;font-family:Menlo,'DejaVu Sans Mono',consolas,'Courier New',monospace\">[2023-02-07T19:38:29.853286+00:00] Collecting importlib-metadata&lt;5.0.0,&gt;=4.11.3\n",
              "</pre>\n"
            ]
          },
          "metadata": {}
        },
        {
          "output_type": "display_data",
          "data": {
            "text/plain": [
              "[2023-02-07T19:38:29.856648+00:00] Downloading importlib_metadata-4.13.0-py3-none-any.whl (23 kB)\n"
            ],
            "text/html": [
              "<pre style=\"white-space:pre;overflow-x:auto;line-height:normal;font-family:Menlo,'DejaVu Sans Mono',consolas,'Courier New',monospace\">[2023-02-07T19:38:29.856648+00:00] Downloading importlib_metadata-4.13.0-py3-none-any.whl (23 kB)\n",
              "</pre>\n"
            ]
          },
          "metadata": {}
        },
        {
          "output_type": "display_data",
          "data": {
            "text/plain": [
              "[2023-02-07T19:38:29.931269+00:00] Collecting fastparquet<=2022.12.0,>=0.8.0\n"
            ],
            "text/html": [
              "<pre style=\"white-space:pre;overflow-x:auto;line-height:normal;font-family:Menlo,'DejaVu Sans Mono',consolas,'Courier New',monospace\">[2023-02-07T19:38:29.931269+00:00] Collecting fastparquet&lt;=2022.12.0,&gt;=0.8.0\n",
              "</pre>\n"
            ]
          },
          "metadata": {}
        },
        {
          "output_type": "display_data",
          "data": {
            "text/plain": [
              "[2023-02-07T19:38:29.942819+00:00] Downloading \n",
              "fastparquet-2022.12.0-cp39-cp39-manylinux_2_17_x86_64.manylinux2014_x86_64.whl (1.6 MB)\n"
            ],
            "text/html": [
              "<pre style=\"white-space:pre;overflow-x:auto;line-height:normal;font-family:Menlo,'DejaVu Sans Mono',consolas,'Courier New',monospace\">[2023-02-07T19:38:29.942819+00:00] Downloading \n",
              "fastparquet-2022.12.0-cp39-cp39-manylinux_2_17_x86_64.manylinux2014_x86_64.whl (1.6 MB)\n",
              "</pre>\n"
            ]
          },
          "metadata": {}
        },
        {
          "output_type": "display_data",
          "data": {
            "text/plain": [
              "[2023-02-07T19:38:29.949037+00:00] ━━━━━━━━━━━━━━━━━━━━━━━━━━━━━━━━━━━━━━━━ 1.6/1.6 MB 390.3 MB/s eta 0:00:00\n"
            ],
            "text/html": [
              "<pre style=\"white-space:pre;overflow-x:auto;line-height:normal;font-family:Menlo,'DejaVu Sans Mono',consolas,'Courier New',monospace\">[2023-02-07T19:38:29.949037+00:00] ━━━━━━━━━━━━━━━━━━━━━━━━━━━━━━━━━━━━━━━━ 1.6/1.6 MB 390.3 MB/s eta 0:00:00\n",
              "</pre>\n"
            ]
          },
          "metadata": {}
        },
        {
          "output_type": "display_data",
          "data": {
            "text/plain": [
              "[2023-02-07T19:38:30.001016+00:00] Collecting GitPython<4.0.0,>=3.1.26\n"
            ],
            "text/html": [
              "<pre style=\"white-space:pre;overflow-x:auto;line-height:normal;font-family:Menlo,'DejaVu Sans Mono',consolas,'Courier New',monospace\">[2023-02-07T19:38:30.001016+00:00] Collecting GitPython&lt;4.0.0,&gt;=3.1.26\n",
              "</pre>\n"
            ]
          },
          "metadata": {}
        },
        {
          "output_type": "display_data",
          "data": {
            "text/plain": [
              "[2023-02-07T19:38:30.004506+00:00] Downloading GitPython-3.1.30-py3-none-any.whl (184 kB)\n"
            ],
            "text/html": [
              "<pre style=\"white-space:pre;overflow-x:auto;line-height:normal;font-family:Menlo,'DejaVu Sans Mono',consolas,'Courier New',monospace\">[2023-02-07T19:38:30.004506+00:00] Downloading GitPython-3.1.30-py3-none-any.whl (184 kB)\n",
              "</pre>\n"
            ]
          },
          "metadata": {}
        },
        {
          "output_type": "display_data",
          "data": {
            "text/plain": [
              "[2023-02-07T19:38:30.007455+00:00] ━━━━━━━━━━━━━━━━━━━━━━━━━━━━━━━━━━━━━ 184.0/184.0 kB 352.5 MB/s eta 0:00:00\n"
            ],
            "text/html": [
              "<pre style=\"white-space:pre;overflow-x:auto;line-height:normal;font-family:Menlo,'DejaVu Sans Mono',consolas,'Courier New',monospace\">[2023-02-07T19:38:30.007455+00:00] ━━━━━━━━━━━━━━━━━━━━━━━━━━━━━━━━━━━━━ 184.0/184.0 kB 352.5 MB/s eta 0:00:00\n",
              "</pre>\n"
            ]
          },
          "metadata": {}
        },
        {
          "output_type": "display_data",
          "data": {
            "text/plain": [
              "[2023-02-07T19:38:30.096033+00:00] Collecting cloudpickle\n"
            ],
            "text/html": [
              "<pre style=\"white-space:pre;overflow-x:auto;line-height:normal;font-family:Menlo,'DejaVu Sans Mono',consolas,'Courier New',monospace\">[2023-02-07T19:38:30.096033+00:00] Collecting cloudpickle\n",
              "</pre>\n"
            ]
          },
          "metadata": {}
        },
        {
          "output_type": "display_data",
          "data": {
            "text/plain": [
              "[2023-02-07T19:38:30.099492+00:00] Downloading cloudpickle-2.2.1-py3-none-any.whl (25 kB)\n"
            ],
            "text/html": [
              "<pre style=\"white-space:pre;overflow-x:auto;line-height:normal;font-family:Menlo,'DejaVu Sans Mono',consolas,'Courier New',monospace\">[2023-02-07T19:38:30.099492+00:00] Downloading cloudpickle-2.2.1-py3-none-any.whl (25 kB)\n",
              "</pre>\n"
            ]
          },
          "metadata": {}
        },
        {
          "output_type": "display_data",
          "data": {
            "text/plain": [
              "[2023-02-07T19:38:30.395293+00:00] Collecting protobuf<5.0,>=3.12\n"
            ],
            "text/html": [
              "<pre style=\"white-space:pre;overflow-x:auto;line-height:normal;font-family:Menlo,'DejaVu Sans Mono',consolas,'Courier New',monospace\">[2023-02-07T19:38:30.395293+00:00] Collecting protobuf&lt;5.0,&gt;=3.12\n",
              "</pre>\n"
            ]
          },
          "metadata": {}
        },
        {
          "output_type": "display_data",
          "data": {
            "text/plain": [
              "[2023-02-07T19:38:30.399209+00:00] Downloading protobuf-4.21.12-cp37-abi3-manylinux2014_x86_64.whl (409 kB)\n"
            ],
            "text/html": [
              "<pre style=\"white-space:pre;overflow-x:auto;line-height:normal;font-family:Menlo,'DejaVu Sans Mono',consolas,'Courier New',monospace\">[2023-02-07T19:38:30.399209+00:00] Downloading protobuf-4.21.12-cp37-abi3-manylinux2014_x86_64.whl (409 kB)\n",
              "</pre>\n"
            ]
          },
          "metadata": {}
        },
        {
          "output_type": "display_data",
          "data": {
            "text/plain": [
              "[2023-02-07T19:38:30.402646+00:00] ━━━━━━━━━━━━━━━━━━━━━━━━━━━━━━━━━━━━━ 409.8/409.8 kB 398.8 MB/s eta 0:00:00\n"
            ],
            "text/html": [
              "<pre style=\"white-space:pre;overflow-x:auto;line-height:normal;font-family:Menlo,'DejaVu Sans Mono',consolas,'Courier New',monospace\">[2023-02-07T19:38:30.402646+00:00] ━━━━━━━━━━━━━━━━━━━━━━━━━━━━━━━━━━━━━ 409.8/409.8 kB 398.8 MB/s eta 0:00:00\n",
              "</pre>\n"
            ]
          },
          "metadata": {}
        },
        {
          "output_type": "display_data",
          "data": {
            "text/plain": [
              "[2023-02-07T19:38:30.470569+00:00] Collecting pyyaml>=5.1\n"
            ],
            "text/html": [
              "<pre style=\"white-space:pre;overflow-x:auto;line-height:normal;font-family:Menlo,'DejaVu Sans Mono',consolas,'Courier New',monospace\">[2023-02-07T19:38:30.470569+00:00] Collecting pyyaml&gt;=5.1\n",
              "</pre>\n"
            ]
          },
          "metadata": {}
        },
        {
          "output_type": "display_data",
          "data": {
            "text/plain": [
              "[2023-02-07T19:38:30.474273+00:00] Downloading \n",
              "PyYAML-6.0-cp39-cp39-manylinux_2_5_x86_64.manylinux1_x86_64.manylinux_2_12_x86_64.manylinux2010_x86_64.whl (661 kB)\n"
            ],
            "text/html": [
              "<pre style=\"white-space:pre;overflow-x:auto;line-height:normal;font-family:Menlo,'DejaVu Sans Mono',consolas,'Courier New',monospace\">[2023-02-07T19:38:30.474273+00:00] Downloading \n",
              "PyYAML-6.0-cp39-cp39-manylinux_2_5_x86_64.manylinux1_x86_64.manylinux_2_12_x86_64.manylinux2010_x86_64.whl (661 kB)\n",
              "</pre>\n"
            ]
          },
          "metadata": {}
        },
        {
          "output_type": "display_data",
          "data": {
            "text/plain": [
              "[2023-02-07T19:38:30.478429+00:00] ━━━━━━━━━━━━━━━━━━━━━━━━━━━━━━━━━━━━━ 661.8/661.8 kB 392.3 MB/s eta 0:00:00\n"
            ],
            "text/html": [
              "<pre style=\"white-space:pre;overflow-x:auto;line-height:normal;font-family:Menlo,'DejaVu Sans Mono',consolas,'Courier New',monospace\">[2023-02-07T19:38:30.478429+00:00] ━━━━━━━━━━━━━━━━━━━━━━━━━━━━━━━━━━━━━ 661.8/661.8 kB 392.3 MB/s eta 0:00:00\n",
              "</pre>\n"
            ]
          },
          "metadata": {}
        },
        {
          "output_type": "display_data",
          "data": {
            "text/plain": [
              "[2023-02-07T19:38:30.531004+00:00] Collecting requests>=2.17.3\n"
            ],
            "text/html": [
              "<pre style=\"white-space:pre;overflow-x:auto;line-height:normal;font-family:Menlo,'DejaVu Sans Mono',consolas,'Courier New',monospace\">[2023-02-07T19:38:30.531004+00:00] Collecting requests&gt;=2.17.3\n",
              "</pre>\n"
            ]
          },
          "metadata": {}
        },
        {
          "output_type": "display_data",
          "data": {
            "text/plain": [
              "[2023-02-07T19:38:30.534283+00:00] Downloading requests-2.28.2-py3-none-any.whl (62 kB)\n"
            ],
            "text/html": [
              "<pre style=\"white-space:pre;overflow-x:auto;line-height:normal;font-family:Menlo,'DejaVu Sans Mono',consolas,'Courier New',monospace\">[2023-02-07T19:38:30.534283+00:00] Downloading requests-2.28.2-py3-none-any.whl (62 kB)\n",
              "</pre>\n"
            ]
          },
          "metadata": {}
        },
        {
          "output_type": "display_data",
          "data": {
            "text/plain": [
              "[2023-02-07T19:38:30.536804+00:00] ━━━━━━━━━━━━━━━━━━━━━━━━━━━━━━━━━━━━━━━ 62.8/62.8 kB 281.1 MB/s eta 0:00:00\n"
            ],
            "text/html": [
              "<pre style=\"white-space:pre;overflow-x:auto;line-height:normal;font-family:Menlo,'DejaVu Sans Mono',consolas,'Courier New',monospace\">[2023-02-07T19:38:30.536804+00:00] ━━━━━━━━━━━━━━━━━━━━━━━━━━━━━━━━━━━━━━━ 62.8/62.8 kB 281.1 MB/s eta 0:00:00\n",
              "</pre>\n"
            ]
          },
          "metadata": {}
        },
        {
          "output_type": "display_data",
          "data": {
            "text/plain": [
              "[2023-02-07T19:38:30.557381+00:00] Collecting entrypoints\n"
            ],
            "text/html": [
              "<pre style=\"white-space:pre;overflow-x:auto;line-height:normal;font-family:Menlo,'DejaVu Sans Mono',consolas,'Courier New',monospace\">[2023-02-07T19:38:30.557381+00:00] Collecting entrypoints\n",
              "</pre>\n"
            ]
          },
          "metadata": {}
        },
        {
          "output_type": "display_data",
          "data": {
            "text/plain": [
              "[2023-02-07T19:38:30.560773+00:00] Downloading entrypoints-0.4-py3-none-any.whl (5.3 kB)\n"
            ],
            "text/html": [
              "<pre style=\"white-space:pre;overflow-x:auto;line-height:normal;font-family:Menlo,'DejaVu Sans Mono',consolas,'Courier New',monospace\">[2023-02-07T19:38:30.560773+00:00] Downloading entrypoints-0.4-py3-none-any.whl (5.3 kB)\n",
              "</pre>\n"
            ]
          },
          "metadata": {}
        },
        {
          "output_type": "display_data",
          "data": {
            "text/plain": [
              "[2023-02-07T19:38:30.586243+00:00] Collecting sqlparse>=0.3.1\n"
            ],
            "text/html": [
              "<pre style=\"white-space:pre;overflow-x:auto;line-height:normal;font-family:Menlo,'DejaVu Sans Mono',consolas,'Courier New',monospace\">[2023-02-07T19:38:30.586243+00:00] Collecting sqlparse&gt;=0.3.1\n",
              "</pre>\n"
            ]
          },
          "metadata": {}
        },
        {
          "output_type": "display_data",
          "data": {
            "text/plain": [
              "[2023-02-07T19:38:30.589490+00:00] Downloading sqlparse-0.4.3-py3-none-any.whl (42 kB)\n"
            ],
            "text/html": [
              "<pre style=\"white-space:pre;overflow-x:auto;line-height:normal;font-family:Menlo,'DejaVu Sans Mono',consolas,'Courier New',monospace\">[2023-02-07T19:38:30.589490+00:00] Downloading sqlparse-0.4.3-py3-none-any.whl (42 kB)\n",
              "</pre>\n"
            ]
          },
          "metadata": {}
        },
        {
          "output_type": "display_data",
          "data": {
            "text/plain": [
              "[2023-02-07T19:38:30.592123+00:00] ━━━━━━━━━━━━━━━━━━━━━━━━━━━━━━━━━━━━━━━ 42.8/42.8 kB 196.3 MB/s eta 0:00:00\n"
            ],
            "text/html": [
              "<pre style=\"white-space:pre;overflow-x:auto;line-height:normal;font-family:Menlo,'DejaVu Sans Mono',consolas,'Courier New',monospace\">[2023-02-07T19:38:30.592123+00:00] ━━━━━━━━━━━━━━━━━━━━━━━━━━━━━━━━━━━━━━━ 42.8/42.8 kB 196.3 MB/s eta 0:00:00\n",
              "</pre>\n"
            ]
          },
          "metadata": {}
        },
        {
          "output_type": "display_data",
          "data": {
            "text/plain": [
              "[2023-02-07T19:38:30.622683+00:00] Collecting databricks-cli>=0.8.7\n"
            ],
            "text/html": [
              "<pre style=\"white-space:pre;overflow-x:auto;line-height:normal;font-family:Menlo,'DejaVu Sans Mono',consolas,'Courier New',monospace\">[2023-02-07T19:38:30.622683+00:00] Collecting databricks-cli&gt;=0.8.7\n",
              "</pre>\n"
            ]
          },
          "metadata": {}
        },
        {
          "output_type": "display_data",
          "data": {
            "text/plain": [
              "[2023-02-07T19:38:30.626002+00:00] Downloading databricks-cli-0.17.4.tar.gz (82 kB)\n"
            ],
            "text/html": [
              "<pre style=\"white-space:pre;overflow-x:auto;line-height:normal;font-family:Menlo,'DejaVu Sans Mono',consolas,'Courier New',monospace\">[2023-02-07T19:38:30.626002+00:00] Downloading databricks-cli-0.17.4.tar.gz (82 kB)\n",
              "</pre>\n"
            ]
          },
          "metadata": {}
        },
        {
          "output_type": "display_data",
          "data": {
            "text/plain": [
              "[2023-02-07T19:38:30.628513+00:00] ━━━━━━━━━━━━━━━━━━━━━━━━━━━━━━━━━━━━━━━ 82.3/82.3 kB 314.2 MB/s eta 0:00:00\n"
            ],
            "text/html": [
              "<pre style=\"white-space:pre;overflow-x:auto;line-height:normal;font-family:Menlo,'DejaVu Sans Mono',consolas,'Courier New',monospace\">[2023-02-07T19:38:30.628513+00:00] ━━━━━━━━━━━━━━━━━━━━━━━━━━━━━━━━━━━━━━━ 82.3/82.3 kB 314.2 MB/s eta 0:00:00\n",
              "</pre>\n"
            ]
          },
          "metadata": {}
        },
        {
          "output_type": "display_data",
          "data": {
            "text/plain": [
              "[2023-02-07T19:38:30.645965+00:00] Preparing metadata (setup.py): started\n"
            ],
            "text/html": [
              "<pre style=\"white-space:pre;overflow-x:auto;line-height:normal;font-family:Menlo,'DejaVu Sans Mono',consolas,'Courier New',monospace\">[2023-02-07T19:38:30.645965+00:00] Preparing metadata (setup.py): started\n",
              "</pre>\n"
            ]
          },
          "metadata": {}
        },
        {
          "output_type": "display_data",
          "data": {
            "text/plain": [
              "[2023-02-07T19:38:30.968568+00:00] Preparing metadata (setup.py): finished with status 'done'\n"
            ],
            "text/html": [
              "<pre style=\"white-space:pre;overflow-x:auto;line-height:normal;font-family:Menlo,'DejaVu Sans Mono',consolas,'Courier New',monospace\">[2023-02-07T19:38:30.968568+00:00] Preparing metadata (setup.py): finished with status 'done'\n",
              "</pre>\n"
            ]
          },
          "metadata": {}
        },
        {
          "output_type": "display_data",
          "data": {
            "text/plain": [
              "[2023-02-07T19:38:31.020143+00:00] Collecting backoff==1.10.0\n"
            ],
            "text/html": [
              "<pre style=\"white-space:pre;overflow-x:auto;line-height:normal;font-family:Menlo,'DejaVu Sans Mono',consolas,'Courier New',monospace\">[2023-02-07T19:38:31.020143+00:00] Collecting backoff==1.10.0\n",
              "</pre>\n"
            ]
          },
          "metadata": {}
        },
        {
          "output_type": "display_data",
          "data": {
            "text/plain": [
              "[2023-02-07T19:38:31.023707+00:00] Downloading backoff-1.10.0-py2.py3-none-any.whl (31 kB)\n"
            ],
            "text/html": [
              "<pre style=\"white-space:pre;overflow-x:auto;line-height:normal;font-family:Menlo,'DejaVu Sans Mono',consolas,'Courier New',monospace\">[2023-02-07T19:38:31.023707+00:00] Downloading backoff-1.10.0-py2.py3-none-any.whl (31 kB)\n",
              "</pre>\n"
            ]
          },
          "metadata": {}
        },
        {
          "output_type": "display_data",
          "data": {
            "text/plain": [
              "[2023-02-07T19:38:31.059390+00:00] Collecting monotonic>=1.5\n"
            ],
            "text/html": [
              "<pre style=\"white-space:pre;overflow-x:auto;line-height:normal;font-family:Menlo,'DejaVu Sans Mono',consolas,'Courier New',monospace\">[2023-02-07T19:38:31.059390+00:00] Collecting monotonic&gt;=1.5\n",
              "</pre>\n"
            ]
          },
          "metadata": {}
        },
        {
          "output_type": "display_data",
          "data": {
            "text/plain": [
              "[2023-02-07T19:38:31.062853+00:00] Downloading monotonic-1.6-py2.py3-none-any.whl (8.2 kB)\n"
            ],
            "text/html": [
              "<pre style=\"white-space:pre;overflow-x:auto;line-height:normal;font-family:Menlo,'DejaVu Sans Mono',consolas,'Courier New',monospace\">[2023-02-07T19:38:31.062853+00:00] Downloading monotonic-1.6-py2.py3-none-any.whl (8.2 kB)\n",
              "</pre>\n"
            ]
          },
          "metadata": {}
        },
        {
          "output_type": "display_data",
          "data": {
            "text/plain": [
              "[2023-02-07T19:38:31.091294+00:00] Collecting six>=1.5\n"
            ],
            "text/html": [
              "<pre style=\"white-space:pre;overflow-x:auto;line-height:normal;font-family:Menlo,'DejaVu Sans Mono',consolas,'Courier New',monospace\">[2023-02-07T19:38:31.091294+00:00] Collecting six&gt;=1.5\n",
              "</pre>\n"
            ]
          },
          "metadata": {}
        },
        {
          "output_type": "display_data",
          "data": {
            "text/plain": [
              "[2023-02-07T19:38:31.094548+00:00] Downloading six-1.16.0-py2.py3-none-any.whl (11 kB)\n"
            ],
            "text/html": [
              "<pre style=\"white-space:pre;overflow-x:auto;line-height:normal;font-family:Menlo,'DejaVu Sans Mono',consolas,'Courier New',monospace\">[2023-02-07T19:38:31.094548+00:00] Downloading six-1.16.0-py2.py3-none-any.whl (11 kB)\n",
              "</pre>\n"
            ]
          },
          "metadata": {}
        },
        {
          "output_type": "display_data",
          "data": {
            "text/plain": [
              "[2023-02-07T19:38:31.693599+00:00] Collecting botocore<1.30.0,>=1.29.65\n"
            ],
            "text/html": [
              "<pre style=\"white-space:pre;overflow-x:auto;line-height:normal;font-family:Menlo,'DejaVu Sans Mono',consolas,'Courier New',monospace\">[2023-02-07T19:38:31.693599+00:00] Collecting botocore&lt;1.30.0,&gt;=1.29.65\n",
              "</pre>\n"
            ]
          },
          "metadata": {}
        },
        {
          "output_type": "display_data",
          "data": {
            "text/plain": [
              "[2023-02-07T19:38:31.697063+00:00] Downloading botocore-1.29.65-py3-none-any.whl (10.4 MB)\n"
            ],
            "text/html": [
              "<pre style=\"white-space:pre;overflow-x:auto;line-height:normal;font-family:Menlo,'DejaVu Sans Mono',consolas,'Courier New',monospace\">[2023-02-07T19:38:31.697063+00:00] Downloading botocore-1.29.65-py3-none-any.whl (10.4 MB)\n",
              "</pre>\n"
            ]
          },
          "metadata": {}
        },
        {
          "output_type": "display_data",
          "data": {
            "text/plain": [
              "[2023-02-07T19:38:31.725704+00:00] ━━━━━━━━━━━━━━━━━━━━━━━━━━━━━━━━━━━━━━━ 10.4/10.4 MB 404.3 MB/s eta 0:00:00\n"
            ],
            "text/html": [
              "<pre style=\"white-space:pre;overflow-x:auto;line-height:normal;font-family:Menlo,'DejaVu Sans Mono',consolas,'Courier New',monospace\">[2023-02-07T19:38:31.725704+00:00] ━━━━━━━━━━━━━━━━━━━━━━━━━━━━━━━━━━━━━━━ 10.4/10.4 MB 404.3 MB/s eta 0:00:00\n",
              "</pre>\n"
            ]
          },
          "metadata": {}
        },
        {
          "output_type": "display_data",
          "data": {
            "text/plain": [
              "[2023-02-07T19:38:31.776441+00:00] Collecting s3transfer<0.7.0,>=0.6.0\n"
            ],
            "text/html": [
              "<pre style=\"white-space:pre;overflow-x:auto;line-height:normal;font-family:Menlo,'DejaVu Sans Mono',consolas,'Courier New',monospace\">[2023-02-07T19:38:31.776441+00:00] Collecting s3transfer&lt;0.7.0,&gt;=0.6.0\n",
              "</pre>\n"
            ]
          },
          "metadata": {}
        },
        {
          "output_type": "display_data",
          "data": {
            "text/plain": [
              "[2023-02-07T19:38:31.779697+00:00] Downloading s3transfer-0.6.0-py3-none-any.whl (79 kB)\n"
            ],
            "text/html": [
              "<pre style=\"white-space:pre;overflow-x:auto;line-height:normal;font-family:Menlo,'DejaVu Sans Mono',consolas,'Courier New',monospace\">[2023-02-07T19:38:31.779697+00:00] Downloading s3transfer-0.6.0-py3-none-any.whl (79 kB)\n",
              "</pre>\n"
            ]
          },
          "metadata": {}
        },
        {
          "output_type": "display_data",
          "data": {
            "text/plain": [
              "[2023-02-07T19:38:31.782383+00:00] ━━━━━━━━━━━━━━━━━━━━━━━━━━━━━━━━━━━━━━━ 79.6/79.6 kB 314.1 MB/s eta 0:00:00\n"
            ],
            "text/html": [
              "<pre style=\"white-space:pre;overflow-x:auto;line-height:normal;font-family:Menlo,'DejaVu Sans Mono',consolas,'Courier New',monospace\">[2023-02-07T19:38:31.782383+00:00] ━━━━━━━━━━━━━━━━━━━━━━━━━━━━━━━━━━━━━━━ 79.6/79.6 kB 314.1 MB/s eta 0:00:00\n",
              "</pre>\n"
            ]
          },
          "metadata": {}
        },
        {
          "output_type": "display_data",
          "data": {
            "text/plain": [
              "[2023-02-07T19:38:31.818953+00:00] Collecting jmespath<2.0.0,>=0.7.1\n"
            ],
            "text/html": [
              "<pre style=\"white-space:pre;overflow-x:auto;line-height:normal;font-family:Menlo,'DejaVu Sans Mono',consolas,'Courier New',monospace\">[2023-02-07T19:38:31.818953+00:00] Collecting jmespath&lt;2.0.0,&gt;=0.7.1\n",
              "</pre>\n"
            ]
          },
          "metadata": {}
        },
        {
          "output_type": "display_data",
          "data": {
            "text/plain": [
              "[2023-02-07T19:38:31.822206+00:00] Downloading jmespath-1.0.1-py3-none-any.whl (20 kB)\n"
            ],
            "text/html": [
              "<pre style=\"white-space:pre;overflow-x:auto;line-height:normal;font-family:Menlo,'DejaVu Sans Mono',consolas,'Courier New',monospace\">[2023-02-07T19:38:31.822206+00:00] Downloading jmespath-1.0.1-py3-none-any.whl (20 kB)\n",
              "</pre>\n"
            ]
          },
          "metadata": {}
        },
        {
          "output_type": "display_data",
          "data": {
            "text/plain": [
              "[2023-02-07T19:38:31.872884+00:00] Collecting fsspec\n"
            ],
            "text/html": [
              "<pre style=\"white-space:pre;overflow-x:auto;line-height:normal;font-family:Menlo,'DejaVu Sans Mono',consolas,'Courier New',monospace\">[2023-02-07T19:38:31.872884+00:00] Collecting fsspec\n",
              "</pre>\n"
            ]
          },
          "metadata": {}
        },
        {
          "output_type": "display_data",
          "data": {
            "text/plain": [
              "[2023-02-07T19:38:31.878958+00:00] ━━━━━━━━━━━━━━━━━━━━━━━━━━━━━━━━━━━━━ 143.0/143.0 kB 370.4 MB/s eta 0:00:00\n"
            ],
            "text/html": [
              "<pre style=\"white-space:pre;overflow-x:auto;line-height:normal;font-family:Menlo,'DejaVu Sans Mono',consolas,'Courier New',monospace\">[2023-02-07T19:38:31.878958+00:00] ━━━━━━━━━━━━━━━━━━━━━━━━━━━━━━━━━━━━━ 143.0/143.0 kB 370.4 MB/s eta 0:00:00\n",
              "</pre>\n"
            ]
          },
          "metadata": {}
        },
        {
          "output_type": "display_data",
          "data": {
            "text/plain": [
              "[2023-02-07T19:38:31.876272+00:00] Downloading fsspec-2023.1.0-py3-none-any.whl (143 kB)\n"
            ],
            "text/html": [
              "<pre style=\"white-space:pre;overflow-x:auto;line-height:normal;font-family:Menlo,'DejaVu Sans Mono',consolas,'Courier New',monospace\">[2023-02-07T19:38:31.876272+00:00] Downloading fsspec-2023.1.0-py3-none-any.whl (143 kB)\n",
              "</pre>\n"
            ]
          },
          "metadata": {}
        },
        {
          "output_type": "display_data",
          "data": {
            "text/plain": [
              "[2023-02-07T19:38:31.911336+00:00] Downloading \n",
              "fastparquet-2022.11.0-cp39-cp39-manylinux_2_17_x86_64.manylinux2014_x86_64.whl (1.6 MB)\n"
            ],
            "text/html": [
              "<pre style=\"white-space:pre;overflow-x:auto;line-height:normal;font-family:Menlo,'DejaVu Sans Mono',consolas,'Courier New',monospace\">[2023-02-07T19:38:31.911336+00:00] Downloading \n",
              "fastparquet-2022.11.0-cp39-cp39-manylinux_2_17_x86_64.manylinux2014_x86_64.whl (1.6 MB)\n",
              "</pre>\n"
            ]
          },
          "metadata": {}
        },
        {
          "output_type": "display_data",
          "data": {
            "text/plain": [
              "[2023-02-07T19:38:31.904929+00:00] Collecting fastparquet<=2022.12.0,>=0.8.0\n"
            ],
            "text/html": [
              "<pre style=\"white-space:pre;overflow-x:auto;line-height:normal;font-family:Menlo,'DejaVu Sans Mono',consolas,'Courier New',monospace\">[2023-02-07T19:38:31.904929+00:00] Collecting fastparquet&lt;=2022.12.0,&gt;=0.8.0\n",
              "</pre>\n"
            ]
          },
          "metadata": {}
        },
        {
          "output_type": "display_data",
          "data": {
            "text/plain": [
              "[2023-02-07T19:38:31.917446+00:00] ━━━━━━━━━━━━━━━━━━━━━━━━━━━━━━━━━━━━━━━━ 1.6/1.6 MB 387.2 MB/s eta 0:00:00\n"
            ],
            "text/html": [
              "<pre style=\"white-space:pre;overflow-x:auto;line-height:normal;font-family:Menlo,'DejaVu Sans Mono',consolas,'Courier New',monospace\">[2023-02-07T19:38:31.917446+00:00] ━━━━━━━━━━━━━━━━━━━━━━━━━━━━━━━━━━━━━━━━ 1.6/1.6 MB 387.2 MB/s eta 0:00:00\n",
              "</pre>\n"
            ]
          },
          "metadata": {}
        },
        {
          "output_type": "display_data",
          "data": {
            "text/plain": [
              "[2023-02-07T19:38:31.934635+00:00] Downloading \n",
              "fastparquet-0.8.3-cp39-cp39-manylinux_2_17_x86_64.manylinux2014_x86_64.whl (1.5 MB)\n"
            ],
            "text/html": [
              "<pre style=\"white-space:pre;overflow-x:auto;line-height:normal;font-family:Menlo,'DejaVu Sans Mono',consolas,'Courier New',monospace\">[2023-02-07T19:38:31.934635+00:00] Downloading \n",
              "fastparquet-0.8.3-cp39-cp39-manylinux_2_17_x86_64.manylinux2014_x86_64.whl (1.5 MB)\n",
              "</pre>\n"
            ]
          },
          "metadata": {}
        },
        {
          "output_type": "display_data",
          "data": {
            "text/plain": [
              "[2023-02-07T19:38:31.940973+00:00] ━━━━━━━━━━━━━━━━━━━━━━━━━━━━━━━━━━━━━━━━ 1.5/1.5 MB 358.8 MB/s eta 0:00:00\n"
            ],
            "text/html": [
              "<pre style=\"white-space:pre;overflow-x:auto;line-height:normal;font-family:Menlo,'DejaVu Sans Mono',consolas,'Courier New',monospace\">[2023-02-07T19:38:31.940973+00:00] ━━━━━━━━━━━━━━━━━━━━━━━━━━━━━━━━━━━━━━━━ 1.5/1.5 MB 358.8 MB/s eta 0:00:00\n",
              "</pre>\n"
            ]
          },
          "metadata": {}
        },
        {
          "output_type": "display_data",
          "data": {
            "text/plain": [
              "[2023-02-07T19:38:32.090549+00:00] Collecting cramjam>=2.3.0\n"
            ],
            "text/html": [
              "<pre style=\"white-space:pre;overflow-x:auto;line-height:normal;font-family:Menlo,'DejaVu Sans Mono',consolas,'Courier New',monospace\">[2023-02-07T19:38:32.090549+00:00] Collecting cramjam&gt;=2.3.0\n",
              "</pre>\n"
            ]
          },
          "metadata": {}
        },
        {
          "output_type": "display_data",
          "data": {
            "text/plain": [
              "[2023-02-07T19:38:32.100085+00:00] Downloading \n",
              "cramjam-2.6.2-cp39-cp39-manylinux_2_17_x86_64.manylinux2014_x86_64.whl (2.0 MB)\n"
            ],
            "text/html": [
              "<pre style=\"white-space:pre;overflow-x:auto;line-height:normal;font-family:Menlo,'DejaVu Sans Mono',consolas,'Courier New',monospace\">[2023-02-07T19:38:32.100085+00:00] Downloading \n",
              "cramjam-2.6.2-cp39-cp39-manylinux_2_17_x86_64.manylinux2014_x86_64.whl (2.0 MB)\n",
              "</pre>\n"
            ]
          },
          "metadata": {}
        },
        {
          "output_type": "display_data",
          "data": {
            "text/plain": [
              "[2023-02-07T19:38:32.107454+00:00] ━━━━━━━━━━━━━━━━━━━━━━━━━━━━━━━━━━━━━━━━ 2.0/2.0 MB 395.4 MB/s eta 0:00:00\n"
            ],
            "text/html": [
              "<pre style=\"white-space:pre;overflow-x:auto;line-height:normal;font-family:Menlo,'DejaVu Sans Mono',consolas,'Courier New',monospace\">[2023-02-07T19:38:32.107454+00:00] ━━━━━━━━━━━━━━━━━━━━━━━━━━━━━━━━━━━━━━━━ 2.0/2.0 MB 395.4 MB/s eta 0:00:00\n",
              "</pre>\n"
            ]
          },
          "metadata": {}
        },
        {
          "output_type": "display_data",
          "data": {
            "text/plain": [
              "[2023-02-07T19:38:32.147933+00:00] Collecting gitdb<5,>=4.0.1\n"
            ],
            "text/html": [
              "<pre style=\"white-space:pre;overflow-x:auto;line-height:normal;font-family:Menlo,'DejaVu Sans Mono',consolas,'Courier New',monospace\">[2023-02-07T19:38:32.147933+00:00] Collecting gitdb&lt;5,&gt;=4.0.1\n",
              "</pre>\n"
            ]
          },
          "metadata": {}
        },
        {
          "output_type": "display_data",
          "data": {
            "text/plain": [
              "[2023-02-07T19:38:32.151231+00:00] Downloading gitdb-4.0.10-py3-none-any.whl (62 kB)\n"
            ],
            "text/html": [
              "<pre style=\"white-space:pre;overflow-x:auto;line-height:normal;font-family:Menlo,'DejaVu Sans Mono',consolas,'Courier New',monospace\">[2023-02-07T19:38:32.151231+00:00] Downloading gitdb-4.0.10-py3-none-any.whl (62 kB)\n",
              "</pre>\n"
            ]
          },
          "metadata": {}
        },
        {
          "output_type": "display_data",
          "data": {
            "text/plain": [
              "[2023-02-07T19:38:32.153754+00:00] ━━━━━━━━━━━━━━━━━━━━━━━━━━━━━━━━━━━━━━━ 62.7/62.7 kB 304.8 MB/s eta 0:00:00\n"
            ],
            "text/html": [
              "<pre style=\"white-space:pre;overflow-x:auto;line-height:normal;font-family:Menlo,'DejaVu Sans Mono',consolas,'Courier New',monospace\">[2023-02-07T19:38:32.153754+00:00] ━━━━━━━━━━━━━━━━━━━━━━━━━━━━━━━━━━━━━━━ 62.7/62.7 kB 304.8 MB/s eta 0:00:00\n",
              "</pre>\n"
            ]
          },
          "metadata": {}
        },
        {
          "output_type": "display_data",
          "data": {
            "text/plain": [
              "[2023-02-07T19:38:32.216964+00:00] Collecting zipp>=0.5\n"
            ],
            "text/html": [
              "<pre style=\"white-space:pre;overflow-x:auto;line-height:normal;font-family:Menlo,'DejaVu Sans Mono',consolas,'Courier New',monospace\">[2023-02-07T19:38:32.216964+00:00] Collecting zipp&gt;=0.5\n",
              "</pre>\n"
            ]
          },
          "metadata": {}
        },
        {
          "output_type": "display_data",
          "data": {
            "text/plain": [
              "[2023-02-07T19:38:32.220346+00:00] Downloading zipp-3.12.1-py3-none-any.whl (6.7 kB)\n"
            ],
            "text/html": [
              "<pre style=\"white-space:pre;overflow-x:auto;line-height:normal;font-family:Menlo,'DejaVu Sans Mono',consolas,'Courier New',monospace\">[2023-02-07T19:38:32.220346+00:00] Downloading zipp-3.12.1-py3-none-any.whl (6.7 kB)\n",
              "</pre>\n"
            ]
          },
          "metadata": {}
        },
        {
          "output_type": "display_data",
          "data": {
            "text/plain": [
              "[2023-02-07T19:38:32.280318+00:00] Collecting pyparsing!=3.0.5,>=2.0.2\n"
            ],
            "text/html": [
              "<pre style=\"white-space:pre;overflow-x:auto;line-height:normal;font-family:Menlo,'DejaVu Sans Mono',consolas,'Courier New',monospace\">[2023-02-07T19:38:32.280318+00:00] Collecting pyparsing!=3.0.5,&gt;=2.0.2\n",
              "</pre>\n"
            ]
          },
          "metadata": {}
        },
        {
          "output_type": "display_data",
          "data": {
            "text/plain": [
              "[2023-02-07T19:38:32.284021+00:00] Downloading pyparsing-3.0.9-py3-none-any.whl (98 kB)\n"
            ],
            "text/html": [
              "<pre style=\"white-space:pre;overflow-x:auto;line-height:normal;font-family:Menlo,'DejaVu Sans Mono',consolas,'Courier New',monospace\">[2023-02-07T19:38:32.284021+00:00] Downloading pyparsing-3.0.9-py3-none-any.whl (98 kB)\n",
              "</pre>\n"
            ]
          },
          "metadata": {}
        },
        {
          "output_type": "display_data",
          "data": {
            "text/plain": [
              "[2023-02-07T19:38:32.286744+00:00] ━━━━━━━━━━━━━━━━━━━━━━━━━━━━━━━━━━━━━━━ 98.3/98.3 kB 314.1 MB/s eta 0:00:00\n"
            ],
            "text/html": [
              "<pre style=\"white-space:pre;overflow-x:auto;line-height:normal;font-family:Menlo,'DejaVu Sans Mono',consolas,'Courier New',monospace\">[2023-02-07T19:38:32.286744+00:00] ━━━━━━━━━━━━━━━━━━━━━━━━━━━━━━━━━━━━━━━ 98.3/98.3 kB 314.1 MB/s eta 0:00:00\n",
              "</pre>\n"
            ]
          },
          "metadata": {}
        },
        {
          "output_type": "display_data",
          "data": {
            "text/plain": [
              "[2023-02-07T19:38:32.396246+00:00] Collecting joblib>=1.1.1\n"
            ],
            "text/html": [
              "<pre style=\"white-space:pre;overflow-x:auto;line-height:normal;font-family:Menlo,'DejaVu Sans Mono',consolas,'Courier New',monospace\">[2023-02-07T19:38:32.396246+00:00] Collecting joblib&gt;=1.1.1\n",
              "</pre>\n"
            ]
          },
          "metadata": {}
        },
        {
          "output_type": "display_data",
          "data": {
            "text/plain": [
              "[2023-02-07T19:38:32.399676+00:00] Downloading joblib-1.2.0-py3-none-any.whl (297 kB)\n"
            ],
            "text/html": [
              "<pre style=\"white-space:pre;overflow-x:auto;line-height:normal;font-family:Menlo,'DejaVu Sans Mono',consolas,'Courier New',monospace\">[2023-02-07T19:38:32.399676+00:00] Downloading joblib-1.2.0-py3-none-any.whl (297 kB)\n",
              "</pre>\n"
            ]
          },
          "metadata": {}
        },
        {
          "output_type": "display_data",
          "data": {
            "text/plain": [
              "[2023-02-07T19:38:32.402759+00:00] ━━━━━━━━━━━━━━━━━━━━━━━━━━━━━━━━━━━━━ 298.0/298.0 kB 389.5 MB/s eta 0:00:00\n"
            ],
            "text/html": [
              "<pre style=\"white-space:pre;overflow-x:auto;line-height:normal;font-family:Menlo,'DejaVu Sans Mono',consolas,'Courier New',monospace\">[2023-02-07T19:38:32.402759+00:00] ━━━━━━━━━━━━━━━━━━━━━━━━━━━━━━━━━━━━━ 298.0/298.0 kB 389.5 MB/s eta 0:00:00\n",
              "</pre>\n"
            ]
          },
          "metadata": {}
        },
        {
          "output_type": "display_data",
          "data": {
            "text/plain": [
              "[2023-02-07T19:38:32.449176+00:00] Collecting threadpoolctl>=2.0.0\n"
            ],
            "text/html": [
              "<pre style=\"white-space:pre;overflow-x:auto;line-height:normal;font-family:Menlo,'DejaVu Sans Mono',consolas,'Courier New',monospace\">[2023-02-07T19:38:32.449176+00:00] Collecting threadpoolctl&gt;=2.0.0\n",
              "</pre>\n"
            ]
          },
          "metadata": {}
        },
        {
          "output_type": "display_data",
          "data": {
            "text/plain": [
              "[2023-02-07T19:38:32.697585+00:00] Collecting marshmallow>=3.7.1\n"
            ],
            "text/html": [
              "<pre style=\"white-space:pre;overflow-x:auto;line-height:normal;font-family:Menlo,'DejaVu Sans Mono',consolas,'Courier New',monospace\">[2023-02-07T19:38:32.697585+00:00] Collecting marshmallow&gt;=3.7.1\n",
              "</pre>\n"
            ]
          },
          "metadata": {}
        },
        {
          "output_type": "display_data",
          "data": {
            "text/plain": [
              "[2023-02-07T19:38:32.701179+00:00] Downloading marshmallow-3.19.0-py3-none-any.whl (49 kB)\n"
            ],
            "text/html": [
              "<pre style=\"white-space:pre;overflow-x:auto;line-height:normal;font-family:Menlo,'DejaVu Sans Mono',consolas,'Courier New',monospace\">[2023-02-07T19:38:32.701179+00:00] Downloading marshmallow-3.19.0-py3-none-any.whl (49 kB)\n",
              "</pre>\n"
            ]
          },
          "metadata": {}
        },
        {
          "output_type": "display_data",
          "data": {
            "text/plain": [
              "[2023-02-07T19:38:32.703769+00:00] ━━━━━━━━━━━━━━━━━━━━━━━━━━━━━━━━━━━━━━━ 49.1/49.1 kB 262.4 MB/s eta 0:00:00\n"
            ],
            "text/html": [
              "<pre style=\"white-space:pre;overflow-x:auto;line-height:normal;font-family:Menlo,'DejaVu Sans Mono',consolas,'Courier New',monospace\">[2023-02-07T19:38:32.703769+00:00] ━━━━━━━━━━━━━━━━━━━━━━━━━━━━━━━━━━━━━━━ 49.1/49.1 kB 262.4 MB/s eta 0:00:00\n",
              "</pre>\n"
            ]
          },
          "metadata": {}
        },
        {
          "output_type": "display_data",
          "data": {
            "text/plain": [
              "[2023-02-07T19:38:32.794648+00:00] Collecting tqdm<5.0.0,>=4.60.0\n"
            ],
            "text/html": [
              "<pre style=\"white-space:pre;overflow-x:auto;line-height:normal;font-family:Menlo,'DejaVu Sans Mono',consolas,'Courier New',monospace\">[2023-02-07T19:38:32.794648+00:00] Collecting tqdm&lt;5.0.0,&gt;=4.60.0\n",
              "</pre>\n"
            ]
          },
          "metadata": {}
        },
        {
          "output_type": "display_data",
          "data": {
            "text/plain": [
              "[2023-02-07T19:38:32.798089+00:00] Downloading tqdm-4.64.1-py2.py3-none-any.whl (78 kB)\n"
            ],
            "text/html": [
              "<pre style=\"white-space:pre;overflow-x:auto;line-height:normal;font-family:Menlo,'DejaVu Sans Mono',consolas,'Courier New',monospace\">[2023-02-07T19:38:32.798089+00:00] Downloading tqdm-4.64.1-py2.py3-none-any.whl (78 kB)\n",
              "</pre>\n"
            ]
          },
          "metadata": {}
        },
        {
          "output_type": "display_data",
          "data": {
            "text/plain": [
              "[2023-02-07T19:38:32.800733+00:00] ━━━━━━━━━━━━━━━━━━━━━━━━━━━━━━━━━━━━━━━ 78.5/78.5 kB 312.4 MB/s eta 0:00:00\n"
            ],
            "text/html": [
              "<pre style=\"white-space:pre;overflow-x:auto;line-height:normal;font-family:Menlo,'DejaVu Sans Mono',consolas,'Courier New',monospace\">[2023-02-07T19:38:32.800733+00:00] ━━━━━━━━━━━━━━━━━━━━━━━━━━━━━━━━━━━━━━━ 78.5/78.5 kB 312.4 MB/s eta 0:00:00\n",
              "</pre>\n"
            ]
          },
          "metadata": {}
        },
        {
          "output_type": "display_data",
          "data": {
            "text/plain": [
              "[2023-02-07T19:38:32.914382+00:00] Collecting puremagic<2.0,>=1.10\n"
            ],
            "text/html": [
              "<pre style=\"white-space:pre;overflow-x:auto;line-height:normal;font-family:Menlo,'DejaVu Sans Mono',consolas,'Courier New',monospace\">[2023-02-07T19:38:32.914382+00:00] Collecting puremagic&lt;2.0,&gt;=1.10\n",
              "</pre>\n"
            ]
          },
          "metadata": {}
        },
        {
          "output_type": "display_data",
          "data": {
            "text/plain": [
              "[2023-02-07T19:38:32.918913+00:00] Downloading puremagic-1.14-py3-none-any.whl (32 kB)\n"
            ],
            "text/html": [
              "<pre style=\"white-space:pre;overflow-x:auto;line-height:normal;font-family:Menlo,'DejaVu Sans Mono',consolas,'Courier New',monospace\">[2023-02-07T19:38:32.918913+00:00] Downloading puremagic-1.14-py3-none-any.whl (32 kB)\n",
              "</pre>\n"
            ]
          },
          "metadata": {}
        },
        {
          "output_type": "display_data",
          "data": {
            "text/plain": [
              "[2023-02-07T19:38:33.025450+00:00] Collecting whylabs-datasketches>=2.2.0b1\n"
            ],
            "text/html": [
              "<pre style=\"white-space:pre;overflow-x:auto;line-height:normal;font-family:Menlo,'DejaVu Sans Mono',consolas,'Courier New',monospace\">[2023-02-07T19:38:33.025450+00:00] Collecting whylabs-datasketches&gt;=2.2.0b1\n",
              "</pre>\n"
            ]
          },
          "metadata": {}
        },
        {
          "output_type": "display_data",
          "data": {
            "text/plain": [
              "[2023-02-07T19:38:33.030817+00:00] Downloading whylabs_datasketches-2.2.0b1-cp39-cp39-manylinux2010_x86_64.whl (404\n",
              "kB)\n"
            ],
            "text/html": [
              "<pre style=\"white-space:pre;overflow-x:auto;line-height:normal;font-family:Menlo,'DejaVu Sans Mono',consolas,'Courier New',monospace\">[2023-02-07T19:38:33.030817+00:00] Downloading whylabs_datasketches-2.2.0b1-cp39-cp39-manylinux2010_x86_64.whl (404\n",
              "kB)\n",
              "</pre>\n"
            ]
          },
          "metadata": {}
        },
        {
          "output_type": "display_data",
          "data": {
            "text/plain": [
              "[2023-02-07T19:38:33.034373+00:00] ━━━━━━━━━━━━━━━━━━━━━━━━━━━━━━━━━━━━━ 404.2/404.2 kB 388.0 MB/s eta 0:00:00\n"
            ],
            "text/html": [
              "<pre style=\"white-space:pre;overflow-x:auto;line-height:normal;font-family:Menlo,'DejaVu Sans Mono',consolas,'Courier New',monospace\">[2023-02-07T19:38:33.034373+00:00] ━━━━━━━━━━━━━━━━━━━━━━━━━━━━━━━━━━━━━ 404.2/404.2 kB 388.0 MB/s eta 0:00:00\n",
              "</pre>\n"
            ]
          },
          "metadata": {}
        },
        {
          "output_type": "display_data",
          "data": {
            "text/plain": [
              "[2023-02-07T19:38:33.086106+00:00] Collecting whylabs-client<0.4.0,>=0.3.0\n"
            ],
            "text/html": [
              "<pre style=\"white-space:pre;overflow-x:auto;line-height:normal;font-family:Menlo,'DejaVu Sans Mono',consolas,'Courier New',monospace\">[2023-02-07T19:38:33.086106+00:00] Collecting whylabs-client&lt;0.4.0,&gt;=0.3.0\n",
              "</pre>\n"
            ]
          },
          "metadata": {}
        },
        {
          "output_type": "display_data",
          "data": {
            "text/plain": [
              "[2023-02-07T19:38:33.092162+00:00] Downloading whylabs_client-0.3.0-py3-none-any.whl (183 kB)\n"
            ],
            "text/html": [
              "<pre style=\"white-space:pre;overflow-x:auto;line-height:normal;font-family:Menlo,'DejaVu Sans Mono',consolas,'Courier New',monospace\">[2023-02-07T19:38:33.092162+00:00] Downloading whylabs_client-0.3.0-py3-none-any.whl (183 kB)\n",
              "</pre>\n"
            ]
          },
          "metadata": {}
        },
        {
          "output_type": "display_data",
          "data": {
            "text/plain": [
              "[2023-02-07T19:38:33.147594+00:00] ━━━━━━━━━━━━━━━━━━━━━━━━━━━━━━━━━━━━━━━ 90.4/90.4 kB 296.8 MB/s eta 0:00:00\n"
            ],
            "text/html": [
              "<pre style=\"white-space:pre;overflow-x:auto;line-height:normal;font-family:Menlo,'DejaVu Sans Mono',consolas,'Courier New',monospace\">[2023-02-07T19:38:33.147594+00:00] ━━━━━━━━━━━━━━━━━━━━━━━━━━━━━━━━━━━━━━━ 90.4/90.4 kB 296.8 MB/s eta 0:00:00\n",
              "</pre>\n"
            ]
          },
          "metadata": {}
        },
        {
          "output_type": "display_data",
          "data": {
            "text/plain": [
              "[2023-02-07T19:38:33.144894+00:00] Downloading jsonschema-4.17.3-py3-none-any.whl (90 kB)\n"
            ],
            "text/html": [
              "<pre style=\"white-space:pre;overflow-x:auto;line-height:normal;font-family:Menlo,'DejaVu Sans Mono',consolas,'Courier New',monospace\">[2023-02-07T19:38:33.144894+00:00] Downloading jsonschema-4.17.3-py3-none-any.whl (90 kB)\n",
              "</pre>\n"
            ]
          },
          "metadata": {}
        },
        {
          "output_type": "display_data",
          "data": {
            "text/plain": [
              "[2023-02-07T19:38:33.180564+00:00] Downloading smart_open-6.3.0-py3-none-any.whl (56 kB)\n"
            ],
            "text/html": [
              "<pre style=\"white-space:pre;overflow-x:auto;line-height:normal;font-family:Menlo,'DejaVu Sans Mono',consolas,'Courier New',monospace\">[2023-02-07T19:38:33.180564+00:00] Downloading smart_open-6.3.0-py3-none-any.whl (56 kB)\n",
              "</pre>\n"
            ]
          },
          "metadata": {}
        },
        {
          "output_type": "display_data",
          "data": {
            "text/plain": [
              "[2023-02-07T19:38:33.183146+00:00] ━━━━━━━━━━━━━━━━━━━━━━━━━━━━━━━━━━━━━━━ 56.8/56.8 kB 273.5 MB/s eta 0:00:00\n"
            ],
            "text/html": [
              "<pre style=\"white-space:pre;overflow-x:auto;line-height:normal;font-family:Menlo,'DejaVu Sans Mono',consolas,'Courier New',monospace\">[2023-02-07T19:38:33.183146+00:00] ━━━━━━━━━━━━━━━━━━━━━━━━━━━━━━━━━━━━━━━ 56.8/56.8 kB 273.5 MB/s eta 0:00:00\n",
              "</pre>\n"
            ]
          },
          "metadata": {}
        },
        {
          "output_type": "display_data",
          "data": {
            "text/plain": [
              "[2023-02-07T19:38:33.141589+00:00] Collecting jsonschema>=3.2.0\n"
            ],
            "text/html": [
              "<pre style=\"white-space:pre;overflow-x:auto;line-height:normal;font-family:Menlo,'DejaVu Sans Mono',consolas,'Courier New',monospace\">[2023-02-07T19:38:33.141589+00:00] Collecting jsonschema&gt;=3.2.0\n",
              "</pre>\n"
            ]
          },
          "metadata": {}
        },
        {
          "output_type": "display_data",
          "data": {
            "text/plain": [
              "[2023-02-07T19:38:33.177394+00:00] Collecting smart-open>=4.1.2\n"
            ],
            "text/html": [
              "<pre style=\"white-space:pre;overflow-x:auto;line-height:normal;font-family:Menlo,'DejaVu Sans Mono',consolas,'Courier New',monospace\">[2023-02-07T19:38:33.177394+00:00] Collecting smart-open&gt;=4.1.2\n",
              "</pre>\n"
            ]
          },
          "metadata": {}
        },
        {
          "output_type": "display_data",
          "data": {
            "text/plain": [
              "[2023-02-07T19:38:33.418689+00:00] Downloading \n",
              "matplotlib-3.6.3-cp39-cp39-manylinux_2_17_x86_64.manylinux2014_x86_64.whl (11.8 MB)\n"
            ],
            "text/html": [
              "<pre style=\"white-space:pre;overflow-x:auto;line-height:normal;font-family:Menlo,'DejaVu Sans Mono',consolas,'Courier New',monospace\">[2023-02-07T19:38:33.418689+00:00] Downloading \n",
              "matplotlib-3.6.3-cp39-cp39-manylinux_2_17_x86_64.manylinux2014_x86_64.whl (11.8 MB)\n",
              "</pre>\n"
            ]
          },
          "metadata": {}
        },
        {
          "output_type": "display_data",
          "data": {
            "text/plain": [
              "[2023-02-07T19:38:33.413770+00:00] Collecting matplotlib<4.0.0,>=3.0.3\n"
            ],
            "text/html": [
              "<pre style=\"white-space:pre;overflow-x:auto;line-height:normal;font-family:Menlo,'DejaVu Sans Mono',consolas,'Courier New',monospace\">[2023-02-07T19:38:33.413770+00:00] Collecting matplotlib&lt;4.0.0,&gt;=3.0.3\n",
              "</pre>\n"
            ]
          },
          "metadata": {}
        },
        {
          "output_type": "display_data",
          "data": {
            "text/plain": [
              "[2023-02-07T19:38:33.545791+00:00] Collecting sniffio>=1.1\n"
            ],
            "text/html": [
              "<pre style=\"white-space:pre;overflow-x:auto;line-height:normal;font-family:Menlo,'DejaVu Sans Mono',consolas,'Courier New',monospace\">[2023-02-07T19:38:33.545791+00:00] Collecting sniffio&gt;=1.1\n",
              "</pre>\n"
            ]
          },
          "metadata": {}
        },
        {
          "output_type": "display_data",
          "data": {
            "text/plain": [
              "[2023-02-07T19:38:33.548978+00:00] Downloading sniffio-1.3.0-py3-none-any.whl (10 kB)\n"
            ],
            "text/html": [
              "<pre style=\"white-space:pre;overflow-x:auto;line-height:normal;font-family:Menlo,'DejaVu Sans Mono',consolas,'Courier New',monospace\">[2023-02-07T19:38:33.548978+00:00] Downloading sniffio-1.3.0-py3-none-any.whl (10 kB)\n",
              "</pre>\n"
            ]
          },
          "metadata": {}
        },
        {
          "output_type": "display_data",
          "data": {
            "text/plain": [
              "[2023-02-07T19:38:33.450945+00:00] ━━━━━━━━━━━━━━━━━━━━━━━━━━━━━━━━━━━━━━━ 11.8/11.8 MB 403.3 MB/s eta 0:00:00\n"
            ],
            "text/html": [
              "<pre style=\"white-space:pre;overflow-x:auto;line-height:normal;font-family:Menlo,'DejaVu Sans Mono',consolas,'Courier New',monospace\">[2023-02-07T19:38:33.450945+00:00] ━━━━━━━━━━━━━━━━━━━━━━━━━━━━━━━━━━━━━━━ 11.8/11.8 MB 403.3 MB/s eta 0:00:00\n",
              "</pre>\n"
            ]
          },
          "metadata": {}
        },
        {
          "output_type": "display_data",
          "data": {
            "text/plain": [
              "[2023-02-07T19:38:33.521095+00:00] Downloading idna-3.4-py3-none-any.whl (61 kB)\n"
            ],
            "text/html": [
              "<pre style=\"white-space:pre;overflow-x:auto;line-height:normal;font-family:Menlo,'DejaVu Sans Mono',consolas,'Courier New',monospace\">[2023-02-07T19:38:33.521095+00:00] Downloading idna-3.4-py3-none-any.whl (61 kB)\n",
              "</pre>\n"
            ]
          },
          "metadata": {}
        },
        {
          "output_type": "display_data",
          "data": {
            "text/plain": [
              "[2023-02-07T19:38:33.523603+00:00] ━━━━━━━━━━━━━━━━━━━━━━━━━━━━━━━━━━━━━━━ 61.5/61.5 kB 292.6 MB/s eta 0:00:00\n"
            ],
            "text/html": [
              "<pre style=\"white-space:pre;overflow-x:auto;line-height:normal;font-family:Menlo,'DejaVu Sans Mono',consolas,'Courier New',monospace\">[2023-02-07T19:38:33.523603+00:00] ━━━━━━━━━━━━━━━━━━━━━━━━━━━━━━━━━━━━━━━ 61.5/61.5 kB 292.6 MB/s eta 0:00:00\n",
              "</pre>\n"
            ]
          },
          "metadata": {}
        },
        {
          "output_type": "display_data",
          "data": {
            "text/plain": [
              "[2023-02-07T19:38:33.517206+00:00] Collecting idna>=2.8\n"
            ],
            "text/html": [
              "<pre style=\"white-space:pre;overflow-x:auto;line-height:normal;font-family:Menlo,'DejaVu Sans Mono',consolas,'Courier New',monospace\">[2023-02-07T19:38:33.517206+00:00] Collecting idna&gt;=2.8\n",
              "</pre>\n"
            ]
          },
          "metadata": {}
        },
        {
          "output_type": "display_data",
          "data": {
            "text/plain": [
              "[2023-02-07T19:38:33.611264+00:00] Collecting urllib3<1.27,>=1.25.4\n"
            ],
            "text/html": [
              "<pre style=\"white-space:pre;overflow-x:auto;line-height:normal;font-family:Menlo,'DejaVu Sans Mono',consolas,'Courier New',monospace\">[2023-02-07T19:38:33.611264+00:00] Collecting urllib3&lt;1.27,&gt;=1.25.4\n",
              "</pre>\n"
            ]
          },
          "metadata": {}
        },
        {
          "output_type": "display_data",
          "data": {
            "text/plain": [
              "[2023-02-07T19:38:33.614698+00:00] Downloading urllib3-1.26.14-py2.py3-none-any.whl (140 kB)\n"
            ],
            "text/html": [
              "<pre style=\"white-space:pre;overflow-x:auto;line-height:normal;font-family:Menlo,'DejaVu Sans Mono',consolas,'Courier New',monospace\">[2023-02-07T19:38:33.614698+00:00] Downloading urllib3-1.26.14-py2.py3-none-any.whl (140 kB)\n",
              "</pre>\n"
            ]
          },
          "metadata": {}
        },
        {
          "output_type": "display_data",
          "data": {
            "text/plain": [
              "[2023-02-07T19:38:33.617478+00:00] ━━━━━━━━━━━━━━━━━━━━━━━━━━━━━━━━━━━━━ 140.6/140.6 kB 344.4 MB/s eta 0:00:00\n"
            ],
            "text/html": [
              "<pre style=\"white-space:pre;overflow-x:auto;line-height:normal;font-family:Menlo,'DejaVu Sans Mono',consolas,'Courier New',monospace\">[2023-02-07T19:38:33.617478+00:00] ━━━━━━━━━━━━━━━━━━━━━━━━━━━━━━━━━━━━━ 140.6/140.6 kB 344.4 MB/s eta 0:00:00\n",
              "</pre>\n"
            ]
          },
          "metadata": {}
        },
        {
          "output_type": "display_data",
          "data": {
            "text/plain": [
              "[2023-02-07T19:38:33.670307+00:00] Collecting pyjwt>=1.7.0\n"
            ],
            "text/html": [
              "<pre style=\"white-space:pre;overflow-x:auto;line-height:normal;font-family:Menlo,'DejaVu Sans Mono',consolas,'Courier New',monospace\">[2023-02-07T19:38:33.670307+00:00] Collecting pyjwt&gt;=1.7.0\n",
              "</pre>\n"
            ]
          },
          "metadata": {}
        },
        {
          "output_type": "display_data",
          "data": {
            "text/plain": [
              "[2023-02-07T19:38:33.673519+00:00] Downloading PyJWT-2.6.0-py3-none-any.whl (20 kB)\n"
            ],
            "text/html": [
              "<pre style=\"white-space:pre;overflow-x:auto;line-height:normal;font-family:Menlo,'DejaVu Sans Mono',consolas,'Courier New',monospace\">[2023-02-07T19:38:33.673519+00:00] Downloading PyJWT-2.6.0-py3-none-any.whl (20 kB)\n",
              "</pre>\n"
            ]
          },
          "metadata": {}
        },
        {
          "output_type": "display_data",
          "data": {
            "text/plain": [
              "[2023-02-07T19:38:33.701719+00:00] Collecting oauthlib>=3.1.0\n"
            ],
            "text/html": [
              "<pre style=\"white-space:pre;overflow-x:auto;line-height:normal;font-family:Menlo,'DejaVu Sans Mono',consolas,'Courier New',monospace\">[2023-02-07T19:38:33.701719+00:00] Collecting oauthlib&gt;=3.1.0\n",
              "</pre>\n"
            ]
          },
          "metadata": {}
        },
        {
          "output_type": "display_data",
          "data": {
            "text/plain": [
              "[2023-02-07T19:38:33.705065+00:00] Downloading oauthlib-3.2.2-py3-none-any.whl (151 kB)\n"
            ],
            "text/html": [
              "<pre style=\"white-space:pre;overflow-x:auto;line-height:normal;font-family:Menlo,'DejaVu Sans Mono',consolas,'Courier New',monospace\">[2023-02-07T19:38:33.705065+00:00] Downloading oauthlib-3.2.2-py3-none-any.whl (151 kB)\n",
              "</pre>\n"
            ]
          },
          "metadata": {}
        },
        {
          "output_type": "display_data",
          "data": {
            "text/plain": [
              "[2023-02-07T19:38:33.707793+00:00] ━━━━━━━━━━━━━━━━━━━━━━━━━━━━━━━━━━━━━ 151.7/151.7 kB 370.3 MB/s eta 0:00:00\n"
            ],
            "text/html": [
              "<pre style=\"white-space:pre;overflow-x:auto;line-height:normal;font-family:Menlo,'DejaVu Sans Mono',consolas,'Courier New',monospace\">[2023-02-07T19:38:33.707793+00:00] ━━━━━━━━━━━━━━━━━━━━━━━━━━━━━━━━━━━━━ 151.7/151.7 kB 370.3 MB/s eta 0:00:00\n",
              "</pre>\n"
            ]
          },
          "metadata": {}
        },
        {
          "output_type": "display_data",
          "data": {
            "text/plain": [
              "[2023-02-07T19:38:33.731432+00:00] Collecting tabulate>=0.7.7\n"
            ],
            "text/html": [
              "<pre style=\"white-space:pre;overflow-x:auto;line-height:normal;font-family:Menlo,'DejaVu Sans Mono',consolas,'Courier New',monospace\">[2023-02-07T19:38:33.731432+00:00] Collecting tabulate&gt;=0.7.7\n",
              "</pre>\n"
            ]
          },
          "metadata": {}
        },
        {
          "output_type": "display_data",
          "data": {
            "text/plain": [
              "[2023-02-07T19:38:33.734628+00:00] Downloading tabulate-0.9.0-py3-none-any.whl (35 kB)\n"
            ],
            "text/html": [
              "<pre style=\"white-space:pre;overflow-x:auto;line-height:normal;font-family:Menlo,'DejaVu Sans Mono',consolas,'Courier New',monospace\">[2023-02-07T19:38:33.734628+00:00] Downloading tabulate-0.9.0-py3-none-any.whl (35 kB)\n",
              "</pre>\n"
            ]
          },
          "metadata": {}
        },
        {
          "output_type": "display_data",
          "data": {
            "text/plain": [
              "[2023-02-07T19:38:33.783095+00:00] Collecting smmap<6,>=3.0.1\n"
            ],
            "text/html": [
              "<pre style=\"white-space:pre;overflow-x:auto;line-height:normal;font-family:Menlo,'DejaVu Sans Mono',consolas,'Courier New',monospace\">[2023-02-07T19:38:33.783095+00:00] Collecting smmap&lt;6,&gt;=3.0.1\n",
              "</pre>\n"
            ]
          },
          "metadata": {}
        },
        {
          "output_type": "display_data",
          "data": {
            "text/plain": [
              "[2023-02-07T19:38:33.860912+00:00] Collecting attrs>=17.4.0\n"
            ],
            "text/html": [
              "<pre style=\"white-space:pre;overflow-x:auto;line-height:normal;font-family:Menlo,'DejaVu Sans Mono',consolas,'Courier New',monospace\">[2023-02-07T19:38:33.860912+00:00] Collecting attrs&gt;=17.4.0\n",
              "</pre>\n"
            ]
          },
          "metadata": {}
        },
        {
          "output_type": "display_data",
          "data": {
            "text/plain": [
              "[2023-02-07T19:38:33.865180+00:00] Downloading attrs-22.2.0-py3-none-any.whl (60 kB)\n"
            ],
            "text/html": [
              "<pre style=\"white-space:pre;overflow-x:auto;line-height:normal;font-family:Menlo,'DejaVu Sans Mono',consolas,'Courier New',monospace\">[2023-02-07T19:38:33.865180+00:00] Downloading attrs-22.2.0-py3-none-any.whl (60 kB)\n",
              "</pre>\n"
            ]
          },
          "metadata": {}
        },
        {
          "output_type": "display_data",
          "data": {
            "text/plain": [
              "[2023-02-07T19:38:33.867775+00:00] ━━━━━━━━━━━━━━━━━━━━━━━━━━━━━━━━━━━━━━━ 60.0/60.0 kB 301.4 MB/s eta 0:00:00\n"
            ],
            "text/html": [
              "<pre style=\"white-space:pre;overflow-x:auto;line-height:normal;font-family:Menlo,'DejaVu Sans Mono',consolas,'Courier New',monospace\">[2023-02-07T19:38:33.867775+00:00] ━━━━━━━━━━━━━━━━━━━━━━━━━━━━━━━━━━━━━━━ 60.0/60.0 kB 301.4 MB/s eta 0:00:00\n",
              "</pre>\n"
            ]
          },
          "metadata": {}
        },
        {
          "output_type": "display_data",
          "data": {
            "text/plain": [
              "[2023-02-07T19:38:33.797023+00:00] Downloading smmap-5.0.0-py3-none-any.whl (24 kB)\n"
            ],
            "text/html": [
              "<pre style=\"white-space:pre;overflow-x:auto;line-height:normal;font-family:Menlo,'DejaVu Sans Mono',consolas,'Courier New',monospace\">[2023-02-07T19:38:33.797023+00:00] Downloading smmap-5.0.0-py3-none-any.whl (24 kB)\n",
              "</pre>\n"
            ]
          },
          "metadata": {}
        },
        {
          "output_type": "display_data",
          "data": {
            "text/plain": [
              "[2023-02-07T19:38:33.918074+00:00] Collecting pyrsistent!=0.17.0,!=0.17.1,!=0.17.2,>=0.14.0\n"
            ],
            "text/html": [
              "<pre style=\"white-space:pre;overflow-x:auto;line-height:normal;font-family:Menlo,'DejaVu Sans Mono',consolas,'Courier New',monospace\">[2023-02-07T19:38:33.918074+00:00] Collecting pyrsistent!=0.17.0,!=0.17.1,!=0.17.2,&gt;=0.14.0\n",
              "</pre>\n"
            ]
          },
          "metadata": {}
        },
        {
          "output_type": "display_data",
          "data": {
            "text/plain": [
              "[2023-02-07T19:38:33.921332+00:00] Downloading pyrsistent-0.19.3-py3-none-any.whl (57 kB)\n"
            ],
            "text/html": [
              "<pre style=\"white-space:pre;overflow-x:auto;line-height:normal;font-family:Menlo,'DejaVu Sans Mono',consolas,'Courier New',monospace\">[2023-02-07T19:38:33.921332+00:00] Downloading pyrsistent-0.19.3-py3-none-any.whl (57 kB)\n",
              "</pre>\n"
            ]
          },
          "metadata": {}
        },
        {
          "output_type": "display_data",
          "data": {
            "text/plain": [
              "[2023-02-07T19:38:33.923991+00:00] ━━━━━━━━━━━━━━━━━━━━━━━━━━━━━━━━━━━━━━━ 57.5/57.5 kB 260.9 MB/s eta 0:00:00\n"
            ],
            "text/html": [
              "<pre style=\"white-space:pre;overflow-x:auto;line-height:normal;font-family:Menlo,'DejaVu Sans Mono',consolas,'Courier New',monospace\">[2023-02-07T19:38:33.923991+00:00] ━━━━━━━━━━━━━━━━━━━━━━━━━━━━━━━━━━━━━━━ 57.5/57.5 kB 260.9 MB/s eta 0:00:00\n",
              "</pre>\n"
            ]
          },
          "metadata": {}
        },
        {
          "output_type": "display_data",
          "data": {
            "text/plain": [
              "[2023-02-07T19:38:34.042288+00:00] Collecting kiwisolver>=1.0.1\n"
            ],
            "text/html": [
              "<pre style=\"white-space:pre;overflow-x:auto;line-height:normal;font-family:Menlo,'DejaVu Sans Mono',consolas,'Courier New',monospace\">[2023-02-07T19:38:34.042288+00:00] Collecting kiwisolver&gt;=1.0.1\n",
              "</pre>\n"
            ]
          },
          "metadata": {}
        },
        {
          "output_type": "display_data",
          "data": {
            "text/plain": [
              "[2023-02-07T19:38:34.051932+00:00] Downloading \n",
              "kiwisolver-1.4.4-cp39-cp39-manylinux_2_12_x86_64.manylinux2010_x86_64.whl (1.6 MB)\n"
            ],
            "text/html": [
              "<pre style=\"white-space:pre;overflow-x:auto;line-height:normal;font-family:Menlo,'DejaVu Sans Mono',consolas,'Courier New',monospace\">[2023-02-07T19:38:34.051932+00:00] Downloading \n",
              "kiwisolver-1.4.4-cp39-cp39-manylinux_2_12_x86_64.manylinux2010_x86_64.whl (1.6 MB)\n",
              "</pre>\n"
            ]
          },
          "metadata": {}
        },
        {
          "output_type": "display_data",
          "data": {
            "text/plain": [
              "[2023-02-07T19:38:34.058331+00:00] ━━━━━━━━━━━━━━━━━━━━━━━━━━━━━━━━━━━━━━━━ 1.6/1.6 MB 386.0 MB/s eta 0:00:00\n"
            ],
            "text/html": [
              "<pre style=\"white-space:pre;overflow-x:auto;line-height:normal;font-family:Menlo,'DejaVu Sans Mono',consolas,'Courier New',monospace\">[2023-02-07T19:38:34.058331+00:00] ━━━━━━━━━━━━━━━━━━━━━━━━━━━━━━━━━━━━━━━━ 1.6/1.6 MB 386.0 MB/s eta 0:00:00\n",
              "</pre>\n"
            ]
          },
          "metadata": {}
        },
        {
          "output_type": "display_data",
          "data": {
            "text/plain": [
              "[2023-02-07T19:38:34.248797+00:00] Collecting contourpy>=1.0.1\n"
            ],
            "text/html": [
              "<pre style=\"white-space:pre;overflow-x:auto;line-height:normal;font-family:Menlo,'DejaVu Sans Mono',consolas,'Courier New',monospace\">[2023-02-07T19:38:34.248797+00:00] Collecting contourpy&gt;=1.0.1\n",
              "</pre>\n"
            ]
          },
          "metadata": {}
        },
        {
          "output_type": "display_data",
          "data": {
            "text/plain": [
              "[2023-02-07T19:38:34.253327+00:00] Downloading \n",
              "contourpy-1.0.7-cp39-cp39-manylinux_2_17_x86_64.manylinux2014_x86_64.whl (299 kB)\n"
            ],
            "text/html": [
              "<pre style=\"white-space:pre;overflow-x:auto;line-height:normal;font-family:Menlo,'DejaVu Sans Mono',consolas,'Courier New',monospace\">[2023-02-07T19:38:34.253327+00:00] Downloading \n",
              "contourpy-1.0.7-cp39-cp39-manylinux_2_17_x86_64.manylinux2014_x86_64.whl (299 kB)\n",
              "</pre>\n"
            ]
          },
          "metadata": {}
        },
        {
          "output_type": "display_data",
          "data": {
            "text/plain": [
              "[2023-02-07T19:38:34.256537+00:00] ━━━━━━━━━━━━━━━━━━━━━━━━━━━━━━━━━━━━━ 299.7/299.7 kB 360.2 MB/s eta 0:00:00\n"
            ],
            "text/html": [
              "<pre style=\"white-space:pre;overflow-x:auto;line-height:normal;font-family:Menlo,'DejaVu Sans Mono',consolas,'Courier New',monospace\">[2023-02-07T19:38:34.256537+00:00] ━━━━━━━━━━━━━━━━━━━━━━━━━━━━━━━━━━━━━ 299.7/299.7 kB 360.2 MB/s eta 0:00:00\n",
              "</pre>\n"
            ]
          },
          "metadata": {}
        },
        {
          "output_type": "display_data",
          "data": {
            "text/plain": [
              "[2023-02-07T19:38:34.279767+00:00] Collecting cycler>=0.10\n"
            ],
            "text/html": [
              "<pre style=\"white-space:pre;overflow-x:auto;line-height:normal;font-family:Menlo,'DejaVu Sans Mono',consolas,'Courier New',monospace\">[2023-02-07T19:38:34.279767+00:00] Collecting cycler&gt;=0.10\n",
              "</pre>\n"
            ]
          },
          "metadata": {}
        },
        {
          "output_type": "display_data",
          "data": {
            "text/plain": [
              "[2023-02-07T19:38:34.283029+00:00] Downloading cycler-0.11.0-py3-none-any.whl (6.4 kB)\n"
            ],
            "text/html": [
              "<pre style=\"white-space:pre;overflow-x:auto;line-height:normal;font-family:Menlo,'DejaVu Sans Mono',consolas,'Courier New',monospace\">[2023-02-07T19:38:34.283029+00:00] Downloading cycler-0.11.0-py3-none-any.whl (6.4 kB)\n",
              "</pre>\n"
            ]
          },
          "metadata": {}
        },
        {
          "output_type": "display_data",
          "data": {
            "text/plain": [
              "[2023-02-07T19:38:34.363051+00:00] Collecting fonttools>=4.22.0\n"
            ],
            "text/html": [
              "<pre style=\"white-space:pre;overflow-x:auto;line-height:normal;font-family:Menlo,'DejaVu Sans Mono',consolas,'Courier New',monospace\">[2023-02-07T19:38:34.363051+00:00] Collecting fonttools&gt;=4.22.0\n",
              "</pre>\n"
            ]
          },
          "metadata": {}
        },
        {
          "output_type": "display_data",
          "data": {
            "text/plain": [
              "[2023-02-07T19:38:34.366258+00:00] Downloading fonttools-4.38.0-py3-none-any.whl (965 kB)\n"
            ],
            "text/html": [
              "<pre style=\"white-space:pre;overflow-x:auto;line-height:normal;font-family:Menlo,'DejaVu Sans Mono',consolas,'Courier New',monospace\">[2023-02-07T19:38:34.366258+00:00] Downloading fonttools-4.38.0-py3-none-any.whl (965 kB)\n",
              "</pre>\n"
            ]
          },
          "metadata": {}
        },
        {
          "output_type": "display_data",
          "data": {
            "text/plain": [
              "[2023-02-07T19:38:34.371657+00:00] ━━━━━━━━━━━━━━━━━━━━━━━━━━━━━━━━━━━━━ 965.4/965.4 kB 341.3 MB/s eta 0:00:00\n"
            ],
            "text/html": [
              "<pre style=\"white-space:pre;overflow-x:auto;line-height:normal;font-family:Menlo,'DejaVu Sans Mono',consolas,'Courier New',monospace\">[2023-02-07T19:38:34.371657+00:00] ━━━━━━━━━━━━━━━━━━━━━━━━━━━━━━━━━━━━━ 965.4/965.4 kB 341.3 MB/s eta 0:00:00\n",
              "</pre>\n"
            ]
          },
          "metadata": {}
        },
        {
          "output_type": "display_data",
          "data": {
            "text/plain": [
              "[2023-02-07T19:38:34.716812+00:00] Collecting pillow>=6.2.0\n"
            ],
            "text/html": [
              "<pre style=\"white-space:pre;overflow-x:auto;line-height:normal;font-family:Menlo,'DejaVu Sans Mono',consolas,'Courier New',monospace\">[2023-02-07T19:38:34.716812+00:00] Collecting pillow&gt;=6.2.0\n",
              "</pre>\n"
            ]
          },
          "metadata": {}
        },
        {
          "output_type": "display_data",
          "data": {
            "text/plain": [
              "[2023-02-07T19:38:34.721605+00:00] Downloading Pillow-9.4.0-cp39-cp39-manylinux_2_28_x86_64.whl (3.4 MB)\n"
            ],
            "text/html": [
              "<pre style=\"white-space:pre;overflow-x:auto;line-height:normal;font-family:Menlo,'DejaVu Sans Mono',consolas,'Courier New',monospace\">[2023-02-07T19:38:34.721605+00:00] Downloading Pillow-9.4.0-cp39-cp39-manylinux_2_28_x86_64.whl (3.4 MB)\n",
              "</pre>\n"
            ]
          },
          "metadata": {}
        },
        {
          "output_type": "display_data",
          "data": {
            "text/plain": [
              "[2023-02-07T19:38:34.732935+00:00] ━━━━━━━━━━━━━━━━━━━━━━━━━━━━━━━━━━━━━━━━ 3.4/3.4 MB 379.2 MB/s eta 0:00:00\n"
            ],
            "text/html": [
              "<pre style=\"white-space:pre;overflow-x:auto;line-height:normal;font-family:Menlo,'DejaVu Sans Mono',consolas,'Courier New',monospace\">[2023-02-07T19:38:34.732935+00:00] ━━━━━━━━━━━━━━━━━━━━━━━━━━━━━━━━━━━━━━━━ 3.4/3.4 MB 379.2 MB/s eta 0:00:00\n",
              "</pre>\n"
            ]
          },
          "metadata": {}
        },
        {
          "output_type": "display_data",
          "data": {
            "text/plain": [
              "[2023-02-07T19:38:34.872764+00:00] Collecting charset-normalizer<4,>=2\n"
            ],
            "text/html": [
              "<pre style=\"white-space:pre;overflow-x:auto;line-height:normal;font-family:Menlo,'DejaVu Sans Mono',consolas,'Courier New',monospace\">[2023-02-07T19:38:34.872764+00:00] Collecting charset-normalizer&lt;4,&gt;=2\n",
              "</pre>\n"
            ]
          },
          "metadata": {}
        },
        {
          "output_type": "display_data",
          "data": {
            "text/plain": [
              "[2023-02-07T19:38:34.876527+00:00] Downloading \n",
              "charset_normalizer-3.0.1-cp39-cp39-manylinux_2_17_x86_64.manylinux2014_x86_64.whl (198 kB)\n"
            ],
            "text/html": [
              "<pre style=\"white-space:pre;overflow-x:auto;line-height:normal;font-family:Menlo,'DejaVu Sans Mono',consolas,'Courier New',monospace\">[2023-02-07T19:38:34.876527+00:00] Downloading \n",
              "charset_normalizer-3.0.1-cp39-cp39-manylinux_2_17_x86_64.manylinux2014_x86_64.whl (198 kB)\n",
              "</pre>\n"
            ]
          },
          "metadata": {}
        },
        {
          "output_type": "display_data",
          "data": {
            "text/plain": [
              "[2023-02-07T19:38:34.926524+00:00] Collecting certifi>=2017.4.17\n"
            ],
            "text/html": [
              "<pre style=\"white-space:pre;overflow-x:auto;line-height:normal;font-family:Menlo,'DejaVu Sans Mono',consolas,'Courier New',monospace\">[2023-02-07T19:38:34.926524+00:00] Collecting certifi&gt;=2017.4.17\n",
              "</pre>\n"
            ]
          },
          "metadata": {}
        },
        {
          "output_type": "display_data",
          "data": {
            "text/plain": [
              "[2023-02-07T19:38:34.932635+00:00] ━━━━━━━━━━━━━━━━━━━━━━━━━━━━━━━━━━━━━ 155.3/155.3 kB 360.7 MB/s eta 0:00:00\n"
            ],
            "text/html": [
              "<pre style=\"white-space:pre;overflow-x:auto;line-height:normal;font-family:Menlo,'DejaVu Sans Mono',consolas,'Courier New',monospace\">[2023-02-07T19:38:34.932635+00:00] ━━━━━━━━━━━━━━━━━━━━━━━━━━━━━━━━━━━━━ 155.3/155.3 kB 360.7 MB/s eta 0:00:00\n",
              "</pre>\n"
            ]
          },
          "metadata": {}
        },
        {
          "output_type": "display_data",
          "data": {
            "text/plain": [
              "[2023-02-07T19:38:35.541861+00:00] Building wheels for collected packages: databricks-cli\n"
            ],
            "text/html": [
              "<pre style=\"white-space:pre;overflow-x:auto;line-height:normal;font-family:Menlo,'DejaVu Sans Mono',consolas,'Courier New',monospace\">[2023-02-07T19:38:35.541861+00:00] Building wheels for collected packages: databricks-cli\n",
              "</pre>\n"
            ]
          },
          "metadata": {}
        },
        {
          "output_type": "display_data",
          "data": {
            "text/plain": [
              "[2023-02-07T19:38:35.542418+00:00] Building wheel for databricks-cli (setup.py): started\n"
            ],
            "text/html": [
              "<pre style=\"white-space:pre;overflow-x:auto;line-height:normal;font-family:Menlo,'DejaVu Sans Mono',consolas,'Courier New',monospace\">[2023-02-07T19:38:35.542418+00:00] Building wheel for databricks-cli (setup.py): started\n",
              "</pre>\n"
            ]
          },
          "metadata": {}
        },
        {
          "output_type": "display_data",
          "data": {
            "text/plain": [
              "[2023-02-07T19:38:35.843025+00:00] Building wheel for databricks-cli (setup.py): finished with status 'done'\n"
            ],
            "text/html": [
              "<pre style=\"white-space:pre;overflow-x:auto;line-height:normal;font-family:Menlo,'DejaVu Sans Mono',consolas,'Courier New',monospace\">[2023-02-07T19:38:35.843025+00:00] Building wheel for databricks-cli (setup.py): finished with status 'done'\n",
              "</pre>\n"
            ]
          },
          "metadata": {}
        },
        {
          "output_type": "display_data",
          "data": {
            "text/plain": [
              "[2023-02-07T19:38:35.843745+00:00] Created wheel for databricks-cli: \n",
              "filename=databricks_cli-0.17.4-py3-none-any.whl size=142894 \n",
              "sha256=835e0dac1b6d207b5a266f706587d66f33d2283b393c7158d96388ee1d00f8f2\n"
            ],
            "text/html": [
              "<pre style=\"white-space:pre;overflow-x:auto;line-height:normal;font-family:Menlo,'DejaVu Sans Mono',consolas,'Courier New',monospace\">[2023-02-07T19:38:35.843745+00:00] Created wheel for databricks-cli: \n",
              "filename=databricks_cli-0.17.4-py3-none-any.whl size=142894 \n",
              "sha256=835e0dac1b6d207b5a266f706587d66f33d2283b393c7158d96388ee1d00f8f2\n",
              "</pre>\n"
            ]
          },
          "metadata": {}
        },
        {
          "output_type": "display_data",
          "data": {
            "text/plain": [
              "[2023-02-07T19:38:35.846711+00:00] Successfully built databricks-cli\n"
            ],
            "text/html": [
              "<pre style=\"white-space:pre;overflow-x:auto;line-height:normal;font-family:Menlo,'DejaVu Sans Mono',consolas,'Courier New',monospace\">[2023-02-07T19:38:35.846711+00:00] Successfully built databricks-cli\n",
              "</pre>\n"
            ]
          },
          "metadata": {}
        },
        {
          "output_type": "display_data",
          "data": {
            "text/plain": [
              "[2023-02-07T19:38:35.843977+00:00] Stored in directory: \n",
              "/tmp/pip-ephem-wheel-cache-6hjh4srd/wheels/b3/d4/24/ed7f421c3c600f3eee1a3a9e5c4aecc286a7622cac031918b7\n"
            ],
            "text/html": [
              "<pre style=\"white-space:pre;overflow-x:auto;line-height:normal;font-family:Menlo,'DejaVu Sans Mono',consolas,'Courier New',monospace\">[2023-02-07T19:38:35.843977+00:00] Stored in directory: \n",
              "/tmp/pip-ephem-wheel-cache-6hjh4srd/wheels/b3/d4/24/ed7f421c3c600f3eee1a3a9e5c4aecc286a7622cac031918b7\n",
              "</pre>\n"
            ]
          },
          "metadata": {}
        },
        {
          "output_type": "display_data",
          "data": {
            "text/plain": [
              "[2023-02-07T19:38:36.421645+00:00] Installing collected packages: whylabs-datasketches, pytz, puremagic, monotonic,\n",
              "coolname, charset-normalizer, zipp, urllib3, typing-extensions, tqdm, threadpoolctl, tabulate, sqlparse, sniffio, \n",
              "smmap, smart-open, six, pyyaml, pyrsistent, pyparsing, pyjwt, psutil, protobuf, pillow, oauthlib, numpy, \n",
              "kiwisolver, joblib, jmespath, idna, h11, fsspec, fonttools, filelock, entrypoints, cycler, cramjam, cloudpickle, \n",
              "click, certifi, backoff, attrs, uvicorn, scipy, requests, python-dateutil, pydantic, pyarrow, packaging, \n",
              "jsonschema, importlib-metadata, gitdb, contourpy, anyio, whylabs-client, starlette, scikit-learn, pandas, \n",
              "matplotlib, marshmallow, GitPython, databricks-cli, botocore, amplitude-tracker, tfy-mlflow-client, s3transfer, \n",
              "fastparquet, fastapi, boto3, whylogs, mlfoundry\n"
            ],
            "text/html": [
              "<pre style=\"white-space:pre;overflow-x:auto;line-height:normal;font-family:Menlo,'DejaVu Sans Mono',consolas,'Courier New',monospace\">[2023-02-07T19:38:36.421645+00:00] Installing collected packages: whylabs-datasketches, pytz, puremagic, monotonic,\n",
              "coolname, charset-normalizer, zipp, urllib3, typing-extensions, tqdm, threadpoolctl, tabulate, sqlparse, sniffio, \n",
              "smmap, smart-open, six, pyyaml, pyrsistent, pyparsing, pyjwt, psutil, protobuf, pillow, oauthlib, numpy, \n",
              "kiwisolver, joblib, jmespath, idna, h11, fsspec, fonttools, filelock, entrypoints, cycler, cramjam, cloudpickle, \n",
              "click, certifi, backoff, attrs, uvicorn, scipy, requests, python-dateutil, pydantic, pyarrow, packaging, \n",
              "jsonschema, importlib-metadata, gitdb, contourpy, anyio, whylabs-client, starlette, scikit-learn, pandas, \n",
              "matplotlib, marshmallow, GitPython, databricks-cli, botocore, amplitude-tracker, tfy-mlflow-client, s3transfer, \n",
              "fastparquet, fastapi, boto3, whylogs, mlfoundry\n",
              "</pre>\n"
            ]
          },
          "metadata": {}
        },
        {
          "output_type": "display_data",
          "data": {
            "text/plain": [
              "[2023-02-07T19:38:53.417535+00:00] Successfully installed GitPython-3.1.30 amplitude-tracker-0.0.7 anyio-3.6.2 \n",
              "attrs-22.2.0 backoff-1.10.0 boto3-1.26.65 botocore-1.29.65 certifi-2022.12.7 charset-normalizer-3.0.1 click-8.1.3 \n",
              "cloudpickle-2.2.1 contourpy-1.0.7 coolname-1.1.0 cramjam-2.6.2 cycler-0.11.0 databricks-cli-0.17.4 entrypoints-0.4 \n",
              "fastapi-0.82.0 fastparquet-0.8.3 filelock-3.9.0 fonttools-4.38.0 fsspec-2023.1.0 gitdb-4.0.10 h11-0.14.0 idna-3.4 \n",
              "importlib-metadata-4.13.0 jmespath-1.0.1 joblib-1.2.0 jsonschema-4.17.3 kiwisolver-1.4.4 marshmallow-3.19.0 \n",
              "matplotlib-3.6.3 mlfoundry-0.5.6 monotonic-1.6 numpy-1.23.5 oauthlib-3.2.2 packaging-21.3 pandas-1.4.4 pillow-9.4.0\n",
              "protobuf-4.21.12 psutil-5.9.4 puremagic-1.14 pyarrow-8.0.0 pydantic-1.10.2 pyjwt-2.6.0 pyparsing-3.0.9 \n",
              "pyrsistent-0.19.3 python-dateutil-2.8.2 pytz-2022.7.1 pyyaml-6.0 requests-2.28.2 s3transfer-0.6.0 \n",
              "scikit-learn-1.2.1 scipy-1.10.0 six-1.16.0 smart-open-6.3.0 smmap-5.0.0 sniffio-1.3.0 sqlparse-0.4.3 \n",
              "starlette-0.19.1 tabulate-0.9.0 tfy-mlflow-client-0.0.22 threadpoolctl-3.1.0 tqdm-4.64.1 typing-extensions-4.4.0 \n",
              "urllib3-1.26.14 uvicorn-0.18.3 whylabs-client-0.3.0 whylabs-datasketches-2.2.0b1 whylogs-0.6.30 zipp-3.12.1\n"
            ],
            "text/html": [
              "<pre style=\"white-space:pre;overflow-x:auto;line-height:normal;font-family:Menlo,'DejaVu Sans Mono',consolas,'Courier New',monospace\">[2023-02-07T19:38:53.417535+00:00] Successfully installed GitPython-3.1.30 amplitude-tracker-0.0.7 anyio-3.6.2 \n",
              "attrs-22.2.0 backoff-1.10.0 boto3-1.26.65 botocore-1.29.65 certifi-2022.12.7 charset-normalizer-3.0.1 click-8.1.3 \n",
              "cloudpickle-2.2.1 contourpy-1.0.7 coolname-1.1.0 cramjam-2.6.2 cycler-0.11.0 databricks-cli-0.17.4 entrypoints-0.4 \n",
              "fastapi-0.82.0 fastparquet-0.8.3 filelock-3.9.0 fonttools-4.38.0 fsspec-2023.1.0 gitdb-4.0.10 h11-0.14.0 idna-3.4 \n",
              "importlib-metadata-4.13.0 jmespath-1.0.1 joblib-1.2.0 jsonschema-4.17.3 kiwisolver-1.4.4 marshmallow-3.19.0 \n",
              "matplotlib-3.6.3 mlfoundry-0.5.6 monotonic-1.6 numpy-1.23.5 oauthlib-3.2.2 packaging-21.3 pandas-1.4.4 pillow-9.4.0\n",
              "protobuf-4.21.12 psutil-5.9.4 puremagic-1.14 pyarrow-8.0.0 pydantic-1.10.2 pyjwt-2.6.0 pyparsing-3.0.9 \n",
              "pyrsistent-0.19.3 python-dateutil-2.8.2 pytz-2022.7.1 pyyaml-6.0 requests-2.28.2 s3transfer-0.6.0 \n",
              "scikit-learn-1.2.1 scipy-1.10.0 six-1.16.0 smart-open-6.3.0 smmap-5.0.0 sniffio-1.3.0 sqlparse-0.4.3 \n",
              "starlette-0.19.1 tabulate-0.9.0 tfy-mlflow-client-0.0.22 threadpoolctl-3.1.0 tqdm-4.64.1 typing-extensions-4.4.0 \n",
              "urllib3-1.26.14 uvicorn-0.18.3 whylabs-client-0.3.0 whylabs-datasketches-2.2.0b1 whylogs-0.6.30 zipp-3.12.1\n",
              "</pre>\n"
            ]
          },
          "metadata": {}
        },
        {
          "output_type": "display_data",
          "data": {
            "text/plain": [
              "[2023-02-07T19:38:53.417762+00:00] \u001b[91mWARNING: Running pip as the 'root' user can result in broken permissions and \u001b[0m\n",
              "\u001b[91mconflicting behaviour with the system package manager. It is recommended to use a virtual environment instead: \u001b[0m\n",
              "\u001b[91mhttps://pip.pypa.io/warnings/venv\u001b[0m\n"
            ],
            "text/html": [
              "<pre style=\"white-space:pre;overflow-x:auto;line-height:normal;font-family:Menlo,'DejaVu Sans Mono',consolas,'Courier New',monospace\">[2023-02-07T19:38:53.417762+00:00] <span style=\"color: #ff0000; text-decoration-color: #ff0000\">WARNING: Running pip as the 'root' user can result in broken permissions and </span>\n",
              "<span style=\"color: #ff0000; text-decoration-color: #ff0000\">conflicting behaviour with the system package manager. It is recommended to use a virtual environment instead: </span>\n",
              "<span style=\"color: #ff0000; text-decoration-color: #ff0000\">https://pip.pypa.io/warnings/venv</span>\n",
              "</pre>\n"
            ]
          },
          "metadata": {}
        },
        {
          "output_type": "display_data",
          "data": {
            "text/plain": [
              "\u001b[91m[2023-02-07T19:39:04.038234+00:00] \u001b[0mRemoving intermediate container d9db31a21931\n"
            ],
            "text/html": [
              "<pre style=\"white-space:pre;overflow-x:auto;line-height:normal;font-family:Menlo,'DejaVu Sans Mono',consolas,'Courier New',monospace\"><span style=\"color: #ff0000; text-decoration-color: #ff0000\">[2023-02-07T19:39:04.038234+00:00] </span>Removing intermediate container d9db31a21931\n",
              "</pre>\n"
            ]
          },
          "metadata": {}
        },
        {
          "output_type": "display_data",
          "data": {
            "text/plain": [
              "[2023-02-07T19:39:04.038271+00:00] ---> c452ecd1c763\n"
            ],
            "text/html": [
              "<pre style=\"white-space:pre;overflow-x:auto;line-height:normal;font-family:Menlo,'DejaVu Sans Mono',consolas,'Courier New',monospace\">[2023-02-07T19:39:04.038271+00:00] ---&gt; c452ecd1c763\n",
              "</pre>\n"
            ]
          },
          "metadata": {}
        },
        {
          "output_type": "display_data",
          "data": {
            "text/plain": [
              "[2023-02-07T19:39:04.038274+00:00] Step 4/6 : COPY . /app\n"
            ],
            "text/html": [
              "<pre style=\"white-space:pre;overflow-x:auto;line-height:normal;font-family:Menlo,'DejaVu Sans Mono',consolas,'Courier New',monospace\">[2023-02-07T19:39:04.038274+00:00] Step 4/6 : COPY . /app\n",
              "</pre>\n"
            ]
          },
          "metadata": {}
        },
        {
          "output_type": "display_data",
          "data": {
            "text/plain": [
              "[2023-02-07T19:39:04.108494+00:00] ---> bfb6c3248ac7\n"
            ],
            "text/html": [
              "<pre style=\"white-space:pre;overflow-x:auto;line-height:normal;font-family:Menlo,'DejaVu Sans Mono',consolas,'Courier New',monospace\">[2023-02-07T19:39:04.108494+00:00] ---&gt; bfb6c3248ac7\n",
              "</pre>\n"
            ]
          },
          "metadata": {}
        },
        {
          "output_type": "display_data",
          "data": {
            "text/plain": [
              "[2023-02-07T19:39:04.108518+00:00] Step 5/6 : WORKDIR /app\n"
            ],
            "text/html": [
              "<pre style=\"white-space:pre;overflow-x:auto;line-height:normal;font-family:Menlo,'DejaVu Sans Mono',consolas,'Courier New',monospace\">[2023-02-07T19:39:04.108518+00:00] Step 5/6 : WORKDIR /app\n",
              "</pre>\n"
            ]
          },
          "metadata": {}
        },
        {
          "output_type": "display_data",
          "data": {
            "text/plain": [
              "[2023-02-07T19:39:04.128382+00:00] ---> Running in 06c6e79fec75\n"
            ],
            "text/html": [
              "<pre style=\"white-space:pre;overflow-x:auto;line-height:normal;font-family:Menlo,'DejaVu Sans Mono',consolas,'Courier New',monospace\">[2023-02-07T19:39:04.128382+00:00] ---&gt; Running in 06c6e79fec75\n",
              "</pre>\n"
            ]
          },
          "metadata": {}
        },
        {
          "output_type": "display_data",
          "data": {
            "text/plain": [
              "[2023-02-07T19:39:04.185197+00:00] Removing intermediate container 06c6e79fec75\n"
            ],
            "text/html": [
              "<pre style=\"white-space:pre;overflow-x:auto;line-height:normal;font-family:Menlo,'DejaVu Sans Mono',consolas,'Courier New',monospace\">[2023-02-07T19:39:04.185197+00:00] Removing intermediate container 06c6e79fec75\n",
              "</pre>\n"
            ]
          },
          "metadata": {}
        },
        {
          "output_type": "display_data",
          "data": {
            "text/plain": [
              "[2023-02-07T19:39:04.185214+00:00] ---> 5be22b40bc59\n"
            ],
            "text/html": [
              "<pre style=\"white-space:pre;overflow-x:auto;line-height:normal;font-family:Menlo,'DejaVu Sans Mono',consolas,'Courier New',monospace\">[2023-02-07T19:39:04.185214+00:00] ---&gt; 5be22b40bc59\n",
              "</pre>\n"
            ]
          },
          "metadata": {}
        },
        {
          "output_type": "display_data",
          "data": {
            "text/plain": [
              "[2023-02-07T19:39:04.185219+00:00] Step 6/6 : ENTRYPOINT uvicorn infer_realtime:app --port 4000 --host 0.0.0.0\n"
            ],
            "text/html": [
              "<pre style=\"white-space:pre;overflow-x:auto;line-height:normal;font-family:Menlo,'DejaVu Sans Mono',consolas,'Courier New',monospace\">[2023-02-07T19:39:04.185219+00:00] Step 6/6 : ENTRYPOINT uvicorn infer_realtime:app --port 4000 --host 0.0.0.0\n",
              "</pre>\n"
            ]
          },
          "metadata": {}
        },
        {
          "output_type": "display_data",
          "data": {
            "text/plain": [
              "[2023-02-07T19:39:04.203864+00:00] ---> Running in 85ea9ddda3f3\n"
            ],
            "text/html": [
              "<pre style=\"white-space:pre;overflow-x:auto;line-height:normal;font-family:Menlo,'DejaVu Sans Mono',consolas,'Courier New',monospace\">[2023-02-07T19:39:04.203864+00:00] ---&gt; Running in 85ea9ddda3f3\n",
              "</pre>\n"
            ]
          },
          "metadata": {}
        },
        {
          "output_type": "display_data",
          "data": {
            "text/plain": [
              "[2023-02-07T19:39:04.258344+00:00] Removing intermediate container 85ea9ddda3f3\n"
            ],
            "text/html": [
              "<pre style=\"white-space:pre;overflow-x:auto;line-height:normal;font-family:Menlo,'DejaVu Sans Mono',consolas,'Courier New',monospace\">[2023-02-07T19:39:04.258344+00:00] Removing intermediate container 85ea9ddda3f3\n",
              "</pre>\n"
            ]
          },
          "metadata": {}
        },
        {
          "output_type": "display_data",
          "data": {
            "text/plain": [
              "[2023-02-07T19:39:04.258384+00:00] ---> 68440ff6138a\n"
            ],
            "text/html": [
              "<pre style=\"white-space:pre;overflow-x:auto;line-height:normal;font-family:Menlo,'DejaVu Sans Mono',consolas,'Courier New',monospace\">[2023-02-07T19:39:04.258384+00:00] ---&gt; 68440ff6138a\n",
              "</pre>\n"
            ]
          },
          "metadata": {}
        },
        {
          "output_type": "display_data",
          "data": {
            "text/plain": [
              "[2023-02-07T19:39:04.258514+00:00] Successfully built 68440ff6138a\n"
            ],
            "text/html": [
              "<pre style=\"white-space:pre;overflow-x:auto;line-height:normal;font-family:Menlo,'DejaVu Sans Mono',consolas,'Courier New',monospace\">[2023-02-07T19:39:04.258514+00:00] Successfully built 68440ff6138a\n",
              "</pre>\n"
            ]
          },
          "metadata": {}
        },
        {
          "output_type": "display_data",
          "data": {
            "text/plain": [
              "[2023-02-07T19:39:04.266647+00:00] Successfully tagged \n",
              "416964291864.dkr.ecr.eu-west-1.amazonaws.com/hardik-ws-red-wine-fastapi-0abec:1\n"
            ],
            "text/html": [
              "<pre style=\"white-space:pre;overflow-x:auto;line-height:normal;font-family:Menlo,'DejaVu Sans Mono',consolas,'Courier New',monospace\">[2023-02-07T19:39:04.266647+00:00] Successfully tagged \n",
              "416964291864.dkr.ecr.eu-west-1.amazonaws.com/hardik-ws-red-wine-fastapi-0abec:1\n",
              "</pre>\n"
            ]
          },
          "metadata": {}
        },
        {
          "output_type": "display_data",
          "data": {
            "text/plain": [
              "[2023-02-07T19:39:04.357812+00:00] The push refers to repository \n",
              "[416964291864.dkr.ecr.eu-west-1.amazonaws.com/hardik-ws-red-wine-fastapi-0abec]\n"
            ],
            "text/html": [
              "<pre style=\"white-space:pre;overflow-x:auto;line-height:normal;font-family:Menlo,'DejaVu Sans Mono',consolas,'Courier New',monospace\">[2023-02-07T19:39:04.357812+00:00] The push refers to repository \n",
              "[416964291864.dkr.ecr.eu-west-1.amazonaws.com/hardik-ws-red-wine-fastapi-0abec]\n",
              "</pre>\n"
            ]
          },
          "metadata": {}
        },
        {
          "output_type": "display_data",
          "data": {
            "text/plain": [
              "[2023-02-07T19:39:04.368956+00:00] 64c8b48bf114: Preparing\n"
            ],
            "text/html": [
              "<pre style=\"white-space:pre;overflow-x:auto;line-height:normal;font-family:Menlo,'DejaVu Sans Mono',consolas,'Courier New',monospace\">[2023-02-07T19:39:04.368956+00:00] 64c8b48bf114: Preparing\n",
              "</pre>\n"
            ]
          },
          "metadata": {}
        },
        {
          "output_type": "display_data",
          "data": {
            "text/plain": [
              "[2023-02-07T19:39:04.368962+00:00] 8cc77bf589bb: Preparing\n"
            ],
            "text/html": [
              "<pre style=\"white-space:pre;overflow-x:auto;line-height:normal;font-family:Menlo,'DejaVu Sans Mono',consolas,'Courier New',monospace\">[2023-02-07T19:39:04.368962+00:00] 8cc77bf589bb: Preparing\n",
              "</pre>\n"
            ]
          },
          "metadata": {}
        },
        {
          "output_type": "display_data",
          "data": {
            "text/plain": [
              "[2023-02-07T19:39:04.368896+00:00] 7f2217a668b5: Preparing\n"
            ],
            "text/html": [
              "<pre style=\"white-space:pre;overflow-x:auto;line-height:normal;font-family:Menlo,'DejaVu Sans Mono',consolas,'Courier New',monospace\">[2023-02-07T19:39:04.368896+00:00] 7f2217a668b5: Preparing\n",
              "</pre>\n"
            ]
          },
          "metadata": {}
        },
        {
          "output_type": "display_data",
          "data": {
            "text/plain": [
              "[2023-02-07T19:39:04.368952+00:00] 8a8429df33fb: Preparing\n"
            ],
            "text/html": [
              "<pre style=\"white-space:pre;overflow-x:auto;line-height:normal;font-family:Menlo,'DejaVu Sans Mono',consolas,'Courier New',monospace\">[2023-02-07T19:39:04.368952+00:00] 8a8429df33fb: Preparing\n",
              "</pre>\n"
            ]
          },
          "metadata": {}
        },
        {
          "output_type": "display_data",
          "data": {
            "text/plain": [
              "[2023-02-07T19:39:04.368964+00:00] 7e124cd2f81d: Preparing\n"
            ],
            "text/html": [
              "<pre style=\"white-space:pre;overflow-x:auto;line-height:normal;font-family:Menlo,'DejaVu Sans Mono',consolas,'Courier New',monospace\">[2023-02-07T19:39:04.368964+00:00] 7e124cd2f81d: Preparing\n",
              "</pre>\n"
            ]
          },
          "metadata": {}
        },
        {
          "output_type": "display_data",
          "data": {
            "text/plain": [
              "[2023-02-07T19:39:04.368966+00:00] cfd7eb89544b: Preparing\n"
            ],
            "text/html": [
              "<pre style=\"white-space:pre;overflow-x:auto;line-height:normal;font-family:Menlo,'DejaVu Sans Mono',consolas,'Courier New',monospace\">[2023-02-07T19:39:04.368966+00:00] cfd7eb89544b: Preparing\n",
              "</pre>\n"
            ]
          },
          "metadata": {}
        },
        {
          "output_type": "display_data",
          "data": {
            "text/plain": [
              "[2023-02-07T19:39:04.368968+00:00] e4c97b13f26a: Preparing\n"
            ],
            "text/html": [
              "<pre style=\"white-space:pre;overflow-x:auto;line-height:normal;font-family:Menlo,'DejaVu Sans Mono',consolas,'Courier New',monospace\">[2023-02-07T19:39:04.368968+00:00] e4c97b13f26a: Preparing\n",
              "</pre>\n"
            ]
          },
          "metadata": {}
        },
        {
          "output_type": "display_data",
          "data": {
            "text/plain": [
              "[2023-02-07T19:39:04.368979+00:00] 52fb12b3f764: Preparing\n"
            ],
            "text/html": [
              "<pre style=\"white-space:pre;overflow-x:auto;line-height:normal;font-family:Menlo,'DejaVu Sans Mono',consolas,'Courier New',monospace\">[2023-02-07T19:39:04.368979+00:00] 52fb12b3f764: Preparing\n",
              "</pre>\n"
            ]
          },
          "metadata": {}
        },
        {
          "output_type": "display_data",
          "data": {
            "text/plain": [
              "[2023-02-07T19:39:04.368981+00:00] 0dafd2b156dd: Preparing\n"
            ],
            "text/html": [
              "<pre style=\"white-space:pre;overflow-x:auto;line-height:normal;font-family:Menlo,'DejaVu Sans Mono',consolas,'Courier New',monospace\">[2023-02-07T19:39:04.368981+00:00] 0dafd2b156dd: Preparing\n",
              "</pre>\n"
            ]
          },
          "metadata": {}
        },
        {
          "output_type": "display_data",
          "data": {
            "text/plain": [
              "[2023-02-07T19:39:04.368986+00:00] 152e2eadff76: Preparing\n"
            ],
            "text/html": [
              "<pre style=\"white-space:pre;overflow-x:auto;line-height:normal;font-family:Menlo,'DejaVu Sans Mono',consolas,'Courier New',monospace\">[2023-02-07T19:39:04.368986+00:00] 152e2eadff76: Preparing\n",
              "</pre>\n"
            ]
          },
          "metadata": {}
        },
        {
          "output_type": "display_data",
          "data": {
            "text/plain": [
              "[2023-02-07T19:39:04.368990+00:00] 8fcfc59d80ac: Preparing\n"
            ],
            "text/html": [
              "<pre style=\"white-space:pre;overflow-x:auto;line-height:normal;font-family:Menlo,'DejaVu Sans Mono',consolas,'Courier New',monospace\">[2023-02-07T19:39:04.368990+00:00] 8fcfc59d80ac: Preparing\n",
              "</pre>\n"
            ]
          },
          "metadata": {}
        },
        {
          "output_type": "display_data",
          "data": {
            "text/plain": [
              "[2023-02-07T19:39:04.368995+00:00] 152e2eadff76: Waiting\n"
            ],
            "text/html": [
              "<pre style=\"white-space:pre;overflow-x:auto;line-height:normal;font-family:Menlo,'DejaVu Sans Mono',consolas,'Courier New',monospace\">[2023-02-07T19:39:04.368995+00:00] 152e2eadff76: Waiting\n",
              "</pre>\n"
            ]
          },
          "metadata": {}
        },
        {
          "output_type": "display_data",
          "data": {
            "text/plain": [
              "[2023-02-07T19:39:04.369000+00:00] cfd7eb89544b: Waiting\n"
            ],
            "text/html": [
              "<pre style=\"white-space:pre;overflow-x:auto;line-height:normal;font-family:Menlo,'DejaVu Sans Mono',consolas,'Courier New',monospace\">[2023-02-07T19:39:04.369000+00:00] cfd7eb89544b: Waiting\n",
              "</pre>\n"
            ]
          },
          "metadata": {}
        },
        {
          "output_type": "display_data",
          "data": {
            "text/plain": [
              "[2023-02-07T19:39:04.369027+00:00] e4c97b13f26a: Waiting\n"
            ],
            "text/html": [
              "<pre style=\"white-space:pre;overflow-x:auto;line-height:normal;font-family:Menlo,'DejaVu Sans Mono',consolas,'Courier New',monospace\">[2023-02-07T19:39:04.369027+00:00] e4c97b13f26a: Waiting\n",
              "</pre>\n"
            ]
          },
          "metadata": {}
        },
        {
          "output_type": "display_data",
          "data": {
            "text/plain": [
              "[2023-02-07T19:39:04.369035+00:00] 52fb12b3f764: Waiting\n"
            ],
            "text/html": [
              "<pre style=\"white-space:pre;overflow-x:auto;line-height:normal;font-family:Menlo,'DejaVu Sans Mono',consolas,'Courier New',monospace\">[2023-02-07T19:39:04.369035+00:00] 52fb12b3f764: Waiting\n",
              "</pre>\n"
            ]
          },
          "metadata": {}
        },
        {
          "output_type": "display_data",
          "data": {
            "text/plain": [
              "[2023-02-07T19:39:04.369038+00:00] 738226f36892: Waiting\n"
            ],
            "text/html": [
              "<pre style=\"white-space:pre;overflow-x:auto;line-height:normal;font-family:Menlo,'DejaVu Sans Mono',consolas,'Courier New',monospace\">[2023-02-07T19:39:04.369038+00:00] 738226f36892: Waiting\n",
              "</pre>\n"
            ]
          },
          "metadata": {}
        },
        {
          "output_type": "display_data",
          "data": {
            "text/plain": [
              "[2023-02-07T19:39:04.369040+00:00] 8fcfc59d80ac: Waiting\n"
            ],
            "text/html": [
              "<pre style=\"white-space:pre;overflow-x:auto;line-height:normal;font-family:Menlo,'DejaVu Sans Mono',consolas,'Courier New',monospace\">[2023-02-07T19:39:04.369040+00:00] 8fcfc59d80ac: Waiting\n",
              "</pre>\n"
            ]
          },
          "metadata": {}
        },
        {
          "output_type": "display_data",
          "data": {
            "text/plain": [
              "[2023-02-07T19:39:04.369043+00:00] 0dafd2b156dd: Waiting\n"
            ],
            "text/html": [
              "<pre style=\"white-space:pre;overflow-x:auto;line-height:normal;font-family:Menlo,'DejaVu Sans Mono',consolas,'Courier New',monospace\">[2023-02-07T19:39:04.369043+00:00] 0dafd2b156dd: Waiting\n",
              "</pre>\n"
            ]
          },
          "metadata": {}
        },
        {
          "output_type": "display_data",
          "data": {
            "text/plain": [
              "[2023-02-07T19:39:04.723005+00:00] 64c8b48bf114: Pushed\n"
            ],
            "text/html": [
              "<pre style=\"white-space:pre;overflow-x:auto;line-height:normal;font-family:Menlo,'DejaVu Sans Mono',consolas,'Courier New',monospace\">[2023-02-07T19:39:04.723005+00:00] 64c8b48bf114: Pushed\n",
              "</pre>\n"
            ]
          },
          "metadata": {}
        },
        {
          "output_type": "display_data",
          "data": {
            "text/plain": [
              "[2023-02-07T19:39:04.723784+00:00] 7f2217a668b5: Pushed\n"
            ],
            "text/html": [
              "<pre style=\"white-space:pre;overflow-x:auto;line-height:normal;font-family:Menlo,'DejaVu Sans Mono',consolas,'Courier New',monospace\">[2023-02-07T19:39:04.723784+00:00] 7f2217a668b5: Pushed\n",
              "</pre>\n"
            ]
          },
          "metadata": {}
        },
        {
          "output_type": "display_data",
          "data": {
            "text/plain": [
              "[2023-02-07T19:39:04.733144+00:00] 7e124cd2f81d: Pushed\n"
            ],
            "text/html": [
              "<pre style=\"white-space:pre;overflow-x:auto;line-height:normal;font-family:Menlo,'DejaVu Sans Mono',consolas,'Courier New',monospace\">[2023-02-07T19:39:04.733144+00:00] 7e124cd2f81d: Pushed\n",
              "</pre>\n"
            ]
          },
          "metadata": {}
        },
        {
          "output_type": "display_data",
          "data": {
            "text/plain": [
              "[2023-02-07T19:39:05.736904+00:00] 8cc77bf589bb: Pushed\n"
            ],
            "text/html": [
              "<pre style=\"white-space:pre;overflow-x:auto;line-height:normal;font-family:Menlo,'DejaVu Sans Mono',consolas,'Courier New',monospace\">[2023-02-07T19:39:05.736904+00:00] 8cc77bf589bb: Pushed\n",
              "</pre>\n"
            ]
          },
          "metadata": {}
        },
        {
          "output_type": "display_data",
          "data": {
            "text/plain": [
              "[2023-02-07T19:39:06.750246+00:00] e4c97b13f26a: Pushed\n"
            ],
            "text/html": [
              "<pre style=\"white-space:pre;overflow-x:auto;line-height:normal;font-family:Menlo,'DejaVu Sans Mono',consolas,'Courier New',monospace\">[2023-02-07T19:39:06.750246+00:00] e4c97b13f26a: Pushed\n",
              "</pre>\n"
            ]
          },
          "metadata": {}
        },
        {
          "output_type": "display_data",
          "data": {
            "text/plain": [
              "[2023-02-07T19:39:08.262270+00:00] cfd7eb89544b: Pushed\n"
            ],
            "text/html": [
              "<pre style=\"white-space:pre;overflow-x:auto;line-height:normal;font-family:Menlo,'DejaVu Sans Mono',consolas,'Courier New',monospace\">[2023-02-07T19:39:08.262270+00:00] cfd7eb89544b: Pushed\n",
              "</pre>\n"
            ]
          },
          "metadata": {}
        },
        {
          "output_type": "display_data",
          "data": {
            "text/plain": [
              "[2023-02-07T19:39:09.086253+00:00] 152e2eadff76: Pushed\n"
            ],
            "text/html": [
              "<pre style=\"white-space:pre;overflow-x:auto;line-height:normal;font-family:Menlo,'DejaVu Sans Mono',consolas,'Courier New',monospace\">[2023-02-07T19:39:09.086253+00:00] 152e2eadff76: Pushed\n",
              "</pre>\n"
            ]
          },
          "metadata": {}
        },
        {
          "output_type": "display_data",
          "data": {
            "text/plain": [
              "[2023-02-07T19:39:09.874241+00:00] 738226f36892: Pushed\n"
            ],
            "text/html": [
              "<pre style=\"white-space:pre;overflow-x:auto;line-height:normal;font-family:Menlo,'DejaVu Sans Mono',consolas,'Courier New',monospace\">[2023-02-07T19:39:09.874241+00:00] 738226f36892: Pushed\n",
              "</pre>\n"
            ]
          },
          "metadata": {}
        },
        {
          "output_type": "display_data",
          "data": {
            "text/plain": [
              "[2023-02-07T19:39:15.685785+00:00] 0dafd2b156dd: Pushed\n"
            ],
            "text/html": [
              "<pre style=\"white-space:pre;overflow-x:auto;line-height:normal;font-family:Menlo,'DejaVu Sans Mono',consolas,'Courier New',monospace\">[2023-02-07T19:39:15.685785+00:00] 0dafd2b156dd: Pushed\n",
              "</pre>\n"
            ]
          },
          "metadata": {}
        },
        {
          "output_type": "display_data",
          "data": {
            "text/plain": [
              "[2023-02-07T19:39:16.680961+00:00] 8fcfc59d80ac: Pushed\n"
            ],
            "text/html": [
              "<pre style=\"white-space:pre;overflow-x:auto;line-height:normal;font-family:Menlo,'DejaVu Sans Mono',consolas,'Courier New',monospace\">[2023-02-07T19:39:16.680961+00:00] 8fcfc59d80ac: Pushed\n",
              "</pre>\n"
            ]
          },
          "metadata": {}
        },
        {
          "output_type": "display_data",
          "data": {
            "text/plain": [
              "[2023-02-07T19:39:30.770983+00:00] 52fb12b3f764: Pushed\n"
            ],
            "text/html": [
              "<pre style=\"white-space:pre;overflow-x:auto;line-height:normal;font-family:Menlo,'DejaVu Sans Mono',consolas,'Courier New',monospace\">[2023-02-07T19:39:30.770983+00:00] 52fb12b3f764: Pushed\n",
              "</pre>\n"
            ]
          },
          "metadata": {}
        },
        {
          "output_type": "display_data",
          "data": {
            "text/plain": [
              "[2023-02-07T19:39:34.467973+00:00] 8a8429df33fb: Pushed\n"
            ],
            "text/html": [
              "<pre style=\"white-space:pre;overflow-x:auto;line-height:normal;font-family:Menlo,'DejaVu Sans Mono',consolas,'Courier New',monospace\">[2023-02-07T19:39:34.467973+00:00] 8a8429df33fb: Pushed\n",
              "</pre>\n"
            ]
          },
          "metadata": {}
        },
        {
          "output_type": "display_data",
          "data": {
            "text/plain": [
              "[2023-02-07T19:39:35.062894+00:00] 1: digest: \n",
              "sha256:7628e028bc6b7b80dc8fd5ee93474c2c06535ff95882d20b6f2ebfdb8905fd38 size: 2847\n"
            ],
            "text/html": [
              "<pre style=\"white-space:pre;overflow-x:auto;line-height:normal;font-family:Menlo,'DejaVu Sans Mono',consolas,'Courier New',monospace\">[2023-02-07T19:39:35.062894+00:00] 1: digest: \n",
              "sha256:7628e028bc6b7b80dc8fd5ee93474c2c06535ff95882d20b6f2ebfdb8905fd38 size: 2847\n",
              "</pre>\n"
            ]
          },
          "metadata": {}
        },
        {
          "output_type": "display_data",
          "data": {
            "text/plain": [
              "[2023-02-07T19:39:35.098361+00:00] The push refers to repository \n",
              "[416964291864.dkr.ecr.eu-west-1.amazonaws.com/hardik-ws-red-wine-fastapi-0abec]\n"
            ],
            "text/html": [
              "<pre style=\"white-space:pre;overflow-x:auto;line-height:normal;font-family:Menlo,'DejaVu Sans Mono',consolas,'Courier New',monospace\">[2023-02-07T19:39:35.098361+00:00] The push refers to repository \n",
              "[416964291864.dkr.ecr.eu-west-1.amazonaws.com/hardik-ws-red-wine-fastapi-0abec]\n",
              "</pre>\n"
            ]
          },
          "metadata": {}
        },
        {
          "output_type": "display_data",
          "data": {
            "text/plain": [
              "[2023-02-07T19:39:35.105840+00:00] 7f2217a668b5: Preparing\n"
            ],
            "text/html": [
              "<pre style=\"white-space:pre;overflow-x:auto;line-height:normal;font-family:Menlo,'DejaVu Sans Mono',consolas,'Courier New',monospace\">[2023-02-07T19:39:35.105840+00:00] 7f2217a668b5: Preparing\n",
              "</pre>\n"
            ]
          },
          "metadata": {}
        },
        {
          "output_type": "display_data",
          "data": {
            "text/plain": [
              "[2023-02-07T19:39:35.105859+00:00] 8a8429df33fb: Preparing\n"
            ],
            "text/html": [
              "<pre style=\"white-space:pre;overflow-x:auto;line-height:normal;font-family:Menlo,'DejaVu Sans Mono',consolas,'Courier New',monospace\">[2023-02-07T19:39:35.105859+00:00] 8a8429df33fb: Preparing\n",
              "</pre>\n"
            ]
          },
          "metadata": {}
        },
        {
          "output_type": "display_data",
          "data": {
            "text/plain": [
              "[2023-02-07T19:39:35.105862+00:00] 64c8b48bf114: Preparing\n"
            ],
            "text/html": [
              "<pre style=\"white-space:pre;overflow-x:auto;line-height:normal;font-family:Menlo,'DejaVu Sans Mono',consolas,'Courier New',monospace\">[2023-02-07T19:39:35.105862+00:00] 64c8b48bf114: Preparing\n",
              "</pre>\n"
            ]
          },
          "metadata": {}
        },
        {
          "output_type": "display_data",
          "data": {
            "text/plain": [
              "[2023-02-07T19:39:35.105865+00:00] 8cc77bf589bb: Preparing\n"
            ],
            "text/html": [
              "<pre style=\"white-space:pre;overflow-x:auto;line-height:normal;font-family:Menlo,'DejaVu Sans Mono',consolas,'Courier New',monospace\">[2023-02-07T19:39:35.105865+00:00] 8cc77bf589bb: Preparing\n",
              "</pre>\n"
            ]
          },
          "metadata": {}
        },
        {
          "output_type": "display_data",
          "data": {
            "text/plain": [
              "[2023-02-07T19:39:35.105867+00:00] 7e124cd2f81d: Preparing\n"
            ],
            "text/html": [
              "<pre style=\"white-space:pre;overflow-x:auto;line-height:normal;font-family:Menlo,'DejaVu Sans Mono',consolas,'Courier New',monospace\">[2023-02-07T19:39:35.105867+00:00] 7e124cd2f81d: Preparing\n",
              "</pre>\n"
            ]
          },
          "metadata": {}
        },
        {
          "output_type": "display_data",
          "data": {
            "text/plain": [
              "[2023-02-07T19:39:35.105869+00:00] cfd7eb89544b: Preparing\n"
            ],
            "text/html": [
              "<pre style=\"white-space:pre;overflow-x:auto;line-height:normal;font-family:Menlo,'DejaVu Sans Mono',consolas,'Courier New',monospace\">[2023-02-07T19:39:35.105869+00:00] cfd7eb89544b: Preparing\n",
              "</pre>\n"
            ]
          },
          "metadata": {}
        },
        {
          "output_type": "display_data",
          "data": {
            "text/plain": [
              "[2023-02-07T19:39:35.105870+00:00] e4c97b13f26a: Preparing\n"
            ],
            "text/html": [
              "<pre style=\"white-space:pre;overflow-x:auto;line-height:normal;font-family:Menlo,'DejaVu Sans Mono',consolas,'Courier New',monospace\">[2023-02-07T19:39:35.105870+00:00] e4c97b13f26a: Preparing\n",
              "</pre>\n"
            ]
          },
          "metadata": {}
        },
        {
          "output_type": "display_data",
          "data": {
            "text/plain": [
              "[2023-02-07T19:39:35.105872+00:00] 52fb12b3f764: Preparing\n"
            ],
            "text/html": [
              "<pre style=\"white-space:pre;overflow-x:auto;line-height:normal;font-family:Menlo,'DejaVu Sans Mono',consolas,'Courier New',monospace\">[2023-02-07T19:39:35.105872+00:00] 52fb12b3f764: Preparing\n",
              "</pre>\n"
            ]
          },
          "metadata": {}
        },
        {
          "output_type": "display_data",
          "data": {
            "text/plain": [
              "[2023-02-07T19:39:35.105874+00:00] 0dafd2b156dd: Preparing\n"
            ],
            "text/html": [
              "<pre style=\"white-space:pre;overflow-x:auto;line-height:normal;font-family:Menlo,'DejaVu Sans Mono',consolas,'Courier New',monospace\">[2023-02-07T19:39:35.105874+00:00] 0dafd2b156dd: Preparing\n",
              "</pre>\n"
            ]
          },
          "metadata": {}
        },
        {
          "output_type": "display_data",
          "data": {
            "text/plain": [
              "[2023-02-07T19:39:35.105881+00:00] 152e2eadff76: Preparing\n"
            ],
            "text/html": [
              "<pre style=\"white-space:pre;overflow-x:auto;line-height:normal;font-family:Menlo,'DejaVu Sans Mono',consolas,'Courier New',monospace\">[2023-02-07T19:39:35.105881+00:00] 152e2eadff76: Preparing\n",
              "</pre>\n"
            ]
          },
          "metadata": {}
        },
        {
          "output_type": "display_data",
          "data": {
            "text/plain": [
              "[2023-02-07T19:39:35.105883+00:00] 738226f36892: Preparing\n"
            ],
            "text/html": [
              "<pre style=\"white-space:pre;overflow-x:auto;line-height:normal;font-family:Menlo,'DejaVu Sans Mono',consolas,'Courier New',monospace\">[2023-02-07T19:39:35.105883+00:00] 738226f36892: Preparing\n",
              "</pre>\n"
            ]
          },
          "metadata": {}
        },
        {
          "output_type": "display_data",
          "data": {
            "text/plain": [
              "[2023-02-07T19:39:35.105885+00:00] 8fcfc59d80ac: Preparing\n"
            ],
            "text/html": [
              "<pre style=\"white-space:pre;overflow-x:auto;line-height:normal;font-family:Menlo,'DejaVu Sans Mono',consolas,'Courier New',monospace\">[2023-02-07T19:39:35.105885+00:00] 8fcfc59d80ac: Preparing\n",
              "</pre>\n"
            ]
          },
          "metadata": {}
        },
        {
          "output_type": "display_data",
          "data": {
            "text/plain": [
              "[2023-02-07T19:39:35.105887+00:00] e4c97b13f26a: Waiting\n"
            ],
            "text/html": [
              "<pre style=\"white-space:pre;overflow-x:auto;line-height:normal;font-family:Menlo,'DejaVu Sans Mono',consolas,'Courier New',monospace\">[2023-02-07T19:39:35.105887+00:00] e4c97b13f26a: Waiting\n",
              "</pre>\n"
            ]
          },
          "metadata": {}
        },
        {
          "output_type": "display_data",
          "data": {
            "text/plain": [
              "[2023-02-07T19:39:35.105889+00:00] 52fb12b3f764: Waiting\n"
            ],
            "text/html": [
              "<pre style=\"white-space:pre;overflow-x:auto;line-height:normal;font-family:Menlo,'DejaVu Sans Mono',consolas,'Courier New',monospace\">[2023-02-07T19:39:35.105889+00:00] 52fb12b3f764: Waiting\n",
              "</pre>\n"
            ]
          },
          "metadata": {}
        },
        {
          "output_type": "display_data",
          "data": {
            "text/plain": [
              "[2023-02-07T19:39:35.105891+00:00] 0dafd2b156dd: Waiting\n"
            ],
            "text/html": [
              "<pre style=\"white-space:pre;overflow-x:auto;line-height:normal;font-family:Menlo,'DejaVu Sans Mono',consolas,'Courier New',monospace\">[2023-02-07T19:39:35.105891+00:00] 0dafd2b156dd: Waiting\n",
              "</pre>\n"
            ]
          },
          "metadata": {}
        },
        {
          "output_type": "display_data",
          "data": {
            "text/plain": [
              "[2023-02-07T19:39:35.105893+00:00] 152e2eadff76: Waiting\n"
            ],
            "text/html": [
              "<pre style=\"white-space:pre;overflow-x:auto;line-height:normal;font-family:Menlo,'DejaVu Sans Mono',consolas,'Courier New',monospace\">[2023-02-07T19:39:35.105893+00:00] 152e2eadff76: Waiting\n",
              "</pre>\n"
            ]
          },
          "metadata": {}
        },
        {
          "output_type": "display_data",
          "data": {
            "text/plain": [
              "[2023-02-07T19:39:35.105897+00:00] 738226f36892: Waiting\n"
            ],
            "text/html": [
              "<pre style=\"white-space:pre;overflow-x:auto;line-height:normal;font-family:Menlo,'DejaVu Sans Mono',consolas,'Courier New',monospace\">[2023-02-07T19:39:35.105897+00:00] 738226f36892: Waiting\n",
              "</pre>\n"
            ]
          },
          "metadata": {}
        },
        {
          "output_type": "display_data",
          "data": {
            "text/plain": [
              "[2023-02-07T19:39:35.105899+00:00] 8fcfc59d80ac: Waiting\n"
            ],
            "text/html": [
              "<pre style=\"white-space:pre;overflow-x:auto;line-height:normal;font-family:Menlo,'DejaVu Sans Mono',consolas,'Courier New',monospace\">[2023-02-07T19:39:35.105899+00:00] 8fcfc59d80ac: Waiting\n",
              "</pre>\n"
            ]
          },
          "metadata": {}
        },
        {
          "output_type": "display_data",
          "data": {
            "text/plain": [
              "[2023-02-07T19:39:35.105906+00:00] cfd7eb89544b: Waiting\n"
            ],
            "text/html": [
              "<pre style=\"white-space:pre;overflow-x:auto;line-height:normal;font-family:Menlo,'DejaVu Sans Mono',consolas,'Courier New',monospace\">[2023-02-07T19:39:35.105906+00:00] cfd7eb89544b: Waiting\n",
              "</pre>\n"
            ]
          },
          "metadata": {}
        },
        {
          "output_type": "display_data",
          "data": {
            "text/plain": [
              "[2023-02-07T19:39:35.137537+00:00] 8a8429df33fb: Layer already exists\n"
            ],
            "text/html": [
              "<pre style=\"white-space:pre;overflow-x:auto;line-height:normal;font-family:Menlo,'DejaVu Sans Mono',consolas,'Courier New',monospace\">[2023-02-07T19:39:35.137537+00:00] 8a8429df33fb: Layer already exists\n",
              "</pre>\n"
            ]
          },
          "metadata": {}
        },
        {
          "output_type": "display_data",
          "data": {
            "text/plain": [
              "[2023-02-07T19:39:35.139138+00:00] 64c8b48bf114: Layer already exists\n"
            ],
            "text/html": [
              "<pre style=\"white-space:pre;overflow-x:auto;line-height:normal;font-family:Menlo,'DejaVu Sans Mono',consolas,'Courier New',monospace\">[2023-02-07T19:39:35.139138+00:00] 64c8b48bf114: Layer already exists\n",
              "</pre>\n"
            ]
          },
          "metadata": {}
        },
        {
          "output_type": "display_data",
          "data": {
            "text/plain": [
              "[2023-02-07T19:39:35.139450+00:00] 7f2217a668b5: Layer already exists\n"
            ],
            "text/html": [
              "<pre style=\"white-space:pre;overflow-x:auto;line-height:normal;font-family:Menlo,'DejaVu Sans Mono',consolas,'Courier New',monospace\">[2023-02-07T19:39:35.139450+00:00] 7f2217a668b5: Layer already exists\n",
              "</pre>\n"
            ]
          },
          "metadata": {}
        },
        {
          "output_type": "display_data",
          "data": {
            "text/plain": [
              "[2023-02-07T19:39:35.143490+00:00] 7e124cd2f81d: Layer already exists\n"
            ],
            "text/html": [
              "<pre style=\"white-space:pre;overflow-x:auto;line-height:normal;font-family:Menlo,'DejaVu Sans Mono',consolas,'Courier New',monospace\">[2023-02-07T19:39:35.143490+00:00] 7e124cd2f81d: Layer already exists\n",
              "</pre>\n"
            ]
          },
          "metadata": {}
        },
        {
          "output_type": "display_data",
          "data": {
            "text/plain": [
              "[2023-02-07T19:39:35.144536+00:00] 8cc77bf589bb: Layer already exists\n"
            ],
            "text/html": [
              "<pre style=\"white-space:pre;overflow-x:auto;line-height:normal;font-family:Menlo,'DejaVu Sans Mono',consolas,'Courier New',monospace\">[2023-02-07T19:39:35.144536+00:00] 8cc77bf589bb: Layer already exists\n",
              "</pre>\n"
            ]
          },
          "metadata": {}
        },
        {
          "output_type": "display_data",
          "data": {
            "text/plain": [
              "[2023-02-07T19:39:35.176442+00:00] cfd7eb89544b: Layer already exists\n"
            ],
            "text/html": [
              "<pre style=\"white-space:pre;overflow-x:auto;line-height:normal;font-family:Menlo,'DejaVu Sans Mono',consolas,'Courier New',monospace\">[2023-02-07T19:39:35.176442+00:00] cfd7eb89544b: Layer already exists\n",
              "</pre>\n"
            ]
          },
          "metadata": {}
        },
        {
          "output_type": "display_data",
          "data": {
            "text/plain": [
              "[2023-02-07T19:39:35.177218+00:00] e4c97b13f26a: Layer already exists\n"
            ],
            "text/html": [
              "<pre style=\"white-space:pre;overflow-x:auto;line-height:normal;font-family:Menlo,'DejaVu Sans Mono',consolas,'Courier New',monospace\">[2023-02-07T19:39:35.177218+00:00] e4c97b13f26a: Layer already exists\n",
              "</pre>\n"
            ]
          },
          "metadata": {}
        },
        {
          "output_type": "display_data",
          "data": {
            "text/plain": [
              "[2023-02-07T19:39:35.178670+00:00] 52fb12b3f764: Layer already exists\n"
            ],
            "text/html": [
              "<pre style=\"white-space:pre;overflow-x:auto;line-height:normal;font-family:Menlo,'DejaVu Sans Mono',consolas,'Courier New',monospace\">[2023-02-07T19:39:35.178670+00:00] 52fb12b3f764: Layer already exists\n",
              "</pre>\n"
            ]
          },
          "metadata": {}
        },
        {
          "output_type": "display_data",
          "data": {
            "text/plain": [
              "[2023-02-07T19:39:35.180372+00:00] 152e2eadff76: Layer already exists\n"
            ],
            "text/html": [
              "<pre style=\"white-space:pre;overflow-x:auto;line-height:normal;font-family:Menlo,'DejaVu Sans Mono',consolas,'Courier New',monospace\">[2023-02-07T19:39:35.180372+00:00] 152e2eadff76: Layer already exists\n",
              "</pre>\n"
            ]
          },
          "metadata": {}
        },
        {
          "output_type": "display_data",
          "data": {
            "text/plain": [
              "[2023-02-07T19:39:35.334039+00:00] latest: digest: \n",
              "sha256:7628e028bc6b7b80dc8fd5ee93474c2c06535ff95882d20b6f2ebfdb8905fd38 size: 2847\n"
            ],
            "text/html": [
              "<pre style=\"white-space:pre;overflow-x:auto;line-height:normal;font-family:Menlo,'DejaVu Sans Mono',consolas,'Courier New',monospace\">[2023-02-07T19:39:35.334039+00:00] latest: digest: \n",
              "sha256:7628e028bc6b7b80dc8fd5ee93474c2c06535ff95882d20b6f2ebfdb8905fd38 size: 2847\n",
              "</pre>\n"
            ]
          },
          "metadata": {}
        },
        {
          "output_type": "display_data",
          "data": {
            "text/plain": [
              "[2023-02-07T19:39:35.335782+00:00] \u001b[36m[==== Docker logs end ====]\u001b[0m\n"
            ],
            "text/html": [
              "<pre style=\"white-space:pre;overflow-x:auto;line-height:normal;font-family:Menlo,'DejaVu Sans Mono',consolas,'Courier New',monospace\">[2023-02-07T19:39:35.335782+00:00] <span style=\"color: #008080; text-decoration-color: #008080\">[==== Docker logs end ====]</span>\n",
              "</pre>\n"
            ]
          },
          "metadata": {}
        },
        {
          "output_type": "display_data",
          "data": {
            "text/plain": [
              "[2023-02-07T19:39:35.351062+00:00] \u001b[33m[==== Docker Image Size:- 1.56GB ====]\u001b[0m\n"
            ],
            "text/html": [
              "<pre style=\"white-space:pre;overflow-x:auto;line-height:normal;font-family:Menlo,'DejaVu Sans Mono',consolas,'Courier New',monospace\">[2023-02-07T19:39:35.351062+00:00] <span style=\"color: #808000; text-decoration-color: #808000\">[==== Docker Image Size:- 1.56GB ====]</span>\n",
              "</pre>\n"
            ]
          },
          "metadata": {}
        },
        {
          "output_type": "display_data",
          "data": {
            "text/plain": [
              "[2023-02-07T19:39:35.351078+00:00] \u001b[32m[Done]\u001b[0m Docker image built and pushed\n"
            ],
            "text/html": [
              "<pre style=\"white-space:pre;overflow-x:auto;line-height:normal;font-family:Menlo,'DejaVu Sans Mono',consolas,'Courier New',monospace\">[2023-02-07T19:39:35.351078+00:00] <span style=\"color: #008000; text-decoration-color: #008000\">[Done]</span> Docker image built and pushed\n",
              "</pre>\n"
            ]
          },
          "metadata": {}
        },
        {
          "output_type": "display_data",
          "data": {
            "text/plain": [
              "[2023-02-07T19:40:05.854826+00:00] \u001b[36m[Start]\u001b[0m Sending request to url: \n",
              "http://truefoundry-servicefoundry-server.truefoundry.svc.cluster.local:3000/v1/x/builds/cldun9e8t2nb01hsvfzizazfq \n",
              "with json {\"status\": \"SUCCEEDED\", \"imageUri\": \n",
              "\"416964291864.dkr.ecr.eu-west-1.amazonaws.com/hardik-ws-red-wine-fastapi-0abec:1\"}\n"
            ],
            "text/html": [
              "<pre style=\"white-space:pre;overflow-x:auto;line-height:normal;font-family:Menlo,'DejaVu Sans Mono',consolas,'Courier New',monospace\">[2023-02-07T19:40:05.854826+00:00] <span style=\"color: #008080; text-decoration-color: #008080\">[Start]</span> Sending request to url: \n",
              "http://truefoundry-servicefoundry-server.truefoundry.svc.cluster.local:3000/v1/x/builds/cldun9e8t2nb01hsvfzizazfq \n",
              "with json {\"status\": \"SUCCEEDED\", \"imageUri\": \n",
              "\"416964291864.dkr.ecr.eu-west-1.amazonaws.com/hardik-ws-red-wine-fastapi-0abec:1\"}\n",
              "</pre>\n"
            ]
          },
          "metadata": {}
        },
        {
          "output_type": "display_data",
          "data": {
            "text/plain": [
              "[2023-02-07T19:40:29.334307+00:00] \u001b[32m[Done]\u001b[0m Image Built Successfully.\n"
            ],
            "text/html": [
              "<pre style=\"white-space:pre;overflow-x:auto;line-height:normal;font-family:Menlo,'DejaVu Sans Mono',consolas,'Courier New',monospace\">[2023-02-07T19:40:29.334307+00:00] <span style=\"color: #008000; text-decoration-color: #008000\">[Done]</span> Image Built Successfully.\n",
              "</pre>\n"
            ]
          },
          "metadata": {}
        },
        {
          "output_type": "display_data",
          "data": {
            "text/plain": [
              "[2023-02-07T19:40:29.334327+00:00] \u001b[32m[Done]\u001b[0m Kubernetes deployment triggered. It may take 5-10s for the application to\n",
              "be live.\n"
            ],
            "text/html": [
              "<pre style=\"white-space:pre;overflow-x:auto;line-height:normal;font-family:Menlo,'DejaVu Sans Mono',consolas,'Courier New',monospace\">[2023-02-07T19:40:29.334327+00:00] <span style=\"color: #008000; text-decoration-color: #008000\">[Done]</span> Kubernetes deployment triggered. It may take 5-10s for the application to\n",
              "be live.\n",
              "</pre>\n"
            ]
          },
          "metadata": {}
        },
        {
          "output_type": "stream",
          "name": "stderr",
          "text": [
            "2023-02-07 19:40:43,518 [servicefoundry] INFO     State: 'DEPLOY_SUCCESS'\n"
          ]
        },
        {
          "output_type": "display_data",
          "data": {
            "text/plain": [],
            "text/html": [
              "<pre style=\"white-space:pre;overflow-x:auto;line-height:normal;font-family:Menlo,'DejaVu Sans Mono',consolas,'Courier New',monospace\"></pre>\n"
            ]
          },
          "metadata": {}
        },
        {
          "output_type": "stream",
          "name": "stderr",
          "text": [
            "2023-02-07 19:40:43,782 [servicefoundry] INFO     You can find the application on the dashboard:- 'https://app.truefoundry.com/applications/cldun99rf2nau1hsv59e0abec?tab=deployments'\n"
          ]
        }
      ]
    },
    {
      "cell_type": "code",
      "source": [
        "print(output_fastapi)"
      ],
      "metadata": {
        "colab": {
          "base_uri": "https://localhost:8080/"
        },
        "id": "gOMoHL-0KQFW",
        "outputId": "362775ef-d47c-48e1-db53-d38f091c0d7f"
      },
      "execution_count": 25,
      "outputs": [
        {
          "output_type": "stream",
          "name": "stdout",
          "text": [
            "id='cldun99sp2nav1hsv2spt0d1x' fqn='tfy-cluster-euwe1:hardik-ws:red-wine-fastapi:1' version=1 manifest={'env': {'TFY_API_KEY': 'djE6dHJ1ZWZvdW5kcnk6dXNlci10cnVlZm91bmRyeTphZTJkYmE=', 'MLF_MODEL_VERSION_FQN': 'model:truefoundry/user-truefoundry/red-wine-quality-demo/red-wine-quality-classifier:15'}, 'name': 'red-wine-fastapi', 'type': 'service', 'image': {'type': 'build', 'build_spec': {'type': 'tfy-python-buildpack', 'command': 'uvicorn infer_realtime:app --port 4000 --host 0.0.0.0', 'python_version': '3.9', 'build_context_path': './'}, 'build_source': {'type': 'remote', 'remote_uri': 's3://tfy-ctl-euwe1-production-mlfoundry-server/tfy-cluster-euwe1:hardik-ws/red-wine-fastapi/cldun99882nat1hsv1b5k6pws/package.tar.gz'}}, 'ports': [{'port': 4000, 'expose': True, 'protocol': 'TCP'}], 'replicas': 1, 'resources': {'cpu_limit': 1.5, 'cpu_request': 0.5, 'memory_limit': 2500, 'memory_request': 1500, 'ephemeral_storage_limit': 2000, 'ephemeral_storage_request': 1000}} createdBy='user-truefoundry' applicationId='cldun99rf2nau1hsv59e0abec' failureReason=None createdAt=datetime.datetime(2023, 2, 7, 19, 37, 45, 433000, tzinfo=datetime.timezone.utc) updatedAt=datetime.datetime(2023, 2, 7, 19, 37, 45, 438000, tzinfo=datetime.timezone.utc) currentStatusId='cldun99ss2naw1hsve0710but' metadata=[{'name': 'red-wine-fastapi', 'ports': []}]\n"
          ]
        }
      ]
    },
    {
      "cell_type": "code",
      "source": [
        "# Set this as the FastAPI Endpoint of the deployed service\n",
        "INFERENCE_SERVER_URL = input(\"Enter the FastAPI Endpoint of the deployed service:-\")"
      ],
      "metadata": {
        "id": "AavdPyGSogBe"
      },
      "execution_count": null,
      "outputs": []
    },
    {
      "cell_type": "markdown",
      "source": [
        "Click on the dashboard link in the terminal to open the service deployment page with FastAPI Endpoint"
      ],
      "metadata": {
        "id": "JAtWo5Jxh8wy"
      }
    },
    {
      "cell_type": "markdown",
      "source": [
        "# 👨‍💻 Testing Deployed Model"
      ],
      "metadata": {
        "id": "s9RX9iM5g1UJ"
      }
    },
    {
      "cell_type": "code",
      "source": [
        "import requests\n",
        "from urllib.parse import urljoin\n",
        "\n",
        "features_list = [\n",
        "    {\n",
        "        \"data id\": \"string\", \"fixed acidity\": 7.5, \"volatile acidity\": 0.42,\n",
        "        \"citric acid\": 0.32, \"residual sugar\": 2.7, \"chlorides\": 0.067,\n",
        "        \"free sulfur dioxide\": 7.0, \"total sulfur dioxide\": 25.0, \n",
        "        \"density\": 0.99628, \"pH\": 3.24, \"sulphates\": 0.44, \"alcohol\": 10.4\n",
        "    }\n",
        "]\n",
        "\n",
        "data = requests.post(url=urljoin(INFERENCE_SERVER_URL, './predict'), json=features_list).json()\n",
        "print(data)"
      ],
      "metadata": {
        "id": "da1FIDXfhWso",
        "colab": {
          "base_uri": "https://localhost:8080/"
        },
        "outputId": "b9deea32-d108-4482-89e8-6f2a288a4771"
      },
      "execution_count": 47,
      "outputs": [
        {
          "output_type": "stream",
          "name": "stdout",
          "text": [
            "[{'data_id': 'string', 'model_version_fqn': 'model:truefoundry/user-truefoundry/red-wine-quality-demo/red-wine-quality-classifier:13', 'value': '5', 'probabilities': {'3': 0.0, '4': 0.07, '5': 0.78, '6': 0.13, '7': 0.02, '8': 0.0}}]\n"
          ]
        }
      ]
    },
    {
      "cell_type": "markdown",
      "metadata": {
        "id": "u75vYyd1wxWC"
      },
      "source": [
        "# ⚡Running Batch Inference"
      ]
    },
    {
      "cell_type": "code",
      "source": [
        "%cd /content/truefoundry-examples/end-to-end-examples/red-wine-classification/infer_batch"
      ],
      "metadata": {
        "colab": {
          "base_uri": "https://localhost:8080/"
        },
        "outputId": "e395b271-2519-4400-ef42-27581a7365cc",
        "id": "mIKuTlNbwxWV"
      },
      "execution_count": 30,
      "outputs": [
        {
          "output_type": "stream",
          "name": "stdout",
          "text": [
            "/content/truefoundry-examples/end-to-end-examples/red-wine-classification/infer_batch\n"
          ]
        }
      ]
    },
    {
      "cell_type": "code",
      "source": [
        "!pygmentize infer_batch.py"
      ],
      "metadata": {
        "id": "eVU2BsINwxWW"
      },
      "execution_count": null,
      "outputs": []
    },
    {
      "cell_type": "code",
      "source": [
        "import argparse\n",
        "import logging\n",
        "\n",
        "from servicefoundry import Build, Job, PythonBuild, Schedule\n",
        "\n",
        "logging.basicConfig(level=logging.INFO)\n",
        "\n",
        "job = Job(\n",
        "    name=\"red-wine-batch\",\n",
        "    image=Build(\n",
        "        build_spec=PythonBuild(command=\"python infer_batch.py\"),\n",
        "    ),\n",
        "    env={\n",
        "        \"INFERENCE_SERVER_URL\": INFERENCE_SERVER_URL,\n",
        "        \"TFY_API_KEY\": TFY_API_KEY,\n",
        "    },\n",
        "    trigger=Schedule(schedule=\"*/10 * * * *\"),\n",
        ")\n",
        "job.deploy(workspace_fqn=WORKSPACE)"
      ],
      "metadata": {
        "id": "Vgrc9_AnwxWX"
      },
      "execution_count": null,
      "outputs": []
    },
    {
      "cell_type": "markdown",
      "metadata": {
        "id": "qd_QjjTSz03p"
      },
      "source": [
        "# ☁ Deploying Streamlit Demo"
      ]
    },
    {
      "cell_type": "code",
      "source": [
        "%cd /content/truefoundry-examples/end-to-end-examples/red-wine-classification/demo"
      ],
      "metadata": {
        "colab": {
          "base_uri": "https://localhost:8080/"
        },
        "outputId": "993f345f-9eca-4c18-f44a-b1789677bc18",
        "id": "Ff1bBTmSz03p"
      },
      "execution_count": 37,
      "outputs": [
        {
          "output_type": "stream",
          "name": "stdout",
          "text": [
            "/content/truefoundry-examples/end-to-end-examples/red-wine-classification/demo\n"
          ]
        }
      ]
    },
    {
      "cell_type": "code",
      "source": [
        "!pygmentize demo.py"
      ],
      "metadata": {
        "id": "HE2K1xwoz03q"
      },
      "execution_count": null,
      "outputs": []
    },
    {
      "cell_type": "code",
      "source": [
        "import argparse\n",
        "import logging\n",
        "\n",
        "from servicefoundry import Build, Job, PythonBuild, Schedule\n",
        "\n",
        "logging.basicConfig(level=logging.INFO)\n",
        "\n",
        "# creating a service object and defining all the configurations\n",
        "service = Service(\n",
        "    name=\"red-wine-demo\",\n",
        "    image=Build(\n",
        "        build_spec=PythonBuild(\n",
        "            command=\"streamlit run demo.py\",\n",
        "            python_version=\"3.9\",\n",
        "        ),\n",
        "    ),\n",
        "    env={\n",
        "        \"INFERENCE_SERVER_URL\": INFERENCE_SERVER_URL,\n",
        "        \"TFY_API_KEY\": TFY_API_KEY,\n",
        "    },\n",
        "    ports=[{\"port\": 8501}], #In public cloud deployment TrueFoundry exposes port 8501\n",
        "    resources=Resources(\n",
        "        cpu_request=0.5, cpu_limit=0.5, memory_limit=2500, memory_request=1500\n",
        "    ),\n",
        ")\n",
        "service.deploy(workspace_fqn=WORKSPACE)"
      ],
      "metadata": {
        "id": "EcEnIsE9z03q",
        "colab": {
          "base_uri": "https://localhost:8080/",
          "height": 1000,
          "referenced_widgets": [
            "b4f94e9db77842adb33a6c7582a907d9",
            "6a80497b7856464694991cc1dab6b70a"
          ]
        },
        "outputId": "046e75da-fd86-448d-f774-b3bdfdc9b1ab"
      },
      "execution_count": 39,
      "outputs": [
        {
          "output_type": "stream",
          "name": "stderr",
          "text": [
            "2023-02-07 09:02:41,500 [servicefoundry] INFO     Uploading code for service 'red-wine-demo'\n",
            "2023-02-07 09:02:41,503 [servicefoundry] INFO     Archiving contents of dir: '/content/truefoundry-examples/end-to-end-examples/red-wine-classification/demo'\n",
            "Packaging source code: 1it [00:00, 11.08it/s]\n",
            "2023-02-07 09:02:41,605 [servicefoundry] INFO     Code archive size: '1.99 KiB'\n",
            "Uploading package: 100%|██████████| 1.99k/1.99k [00:00<00:00, 3.60kB/s]\n",
            "2023-02-07 09:02:45,669 [servicefoundry] INFO     🚀 Deployment started for application 'red-wine-demo'. Deployment FQN is 'tfy-cluster-euwe1:hardik-ws:red-wine-demo:1'.\n",
            "2023-02-07 09:02:46,694 [servicefoundry] INFO     You can track the progress below or on the dashboard:- 'https://app.truefoundry.com/applications/cldu0kn850djy1hqv1ax89er3?tab=deployments'\n",
            "You can press Ctrl + C to exit the tailing of build logs and deployment will continue on the server\n"
          ]
        },
        {
          "output_type": "display_data",
          "data": {
            "text/plain": [
              "Output()"
            ],
            "application/vnd.jupyter.widget-view+json": {
              "version_major": 2,
              "version_minor": 0,
              "model_id": "b4f94e9db77842adb33a6c7582a907d9"
            }
          },
          "metadata": {}
        },
        {
          "output_type": "stream",
          "name": "stderr",
          "text": [
            "2023-02-07 09:02:48,139 [servicefoundry] INFO     State: 'INITIALIZED'\n",
            "2023-02-07 09:02:53,501 [servicefoundry] INFO     State: 'BUILDING'\n",
            "2023-02-07 09:02:54,879 [servicefoundry] INFO     Tailing build logs for 'red-wine-demo'\n"
          ]
        },
        {
          "output_type": "display_data",
          "data": {
            "text/plain": [
              "Waiting for the task to start...\n"
            ],
            "text/html": [
              "<pre style=\"white-space:pre;overflow-x:auto;line-height:normal;font-family:Menlo,'DejaVu Sans Mono',consolas,'Courier New',monospace\">Waiting for the task to start...\n",
              "</pre>\n"
            ]
          },
          "metadata": {}
        },
        {
          "output_type": "stream",
          "name": "stderr",
          "text": [
            "2023-02-07 09:03:03,286 [servicefoundry] INFO     Tailing build logs for 'red-wine-demo'\n"
          ]
        },
        {
          "output_type": "display_data",
          "data": {
            "text/plain": [
              "Waiting for the task to start...\n"
            ],
            "text/html": [
              "<pre style=\"white-space:pre;overflow-x:auto;line-height:normal;font-family:Menlo,'DejaVu Sans Mono',consolas,'Courier New',monospace\">Waiting for the task to start...\n",
              "</pre>\n"
            ]
          },
          "metadata": {}
        },
        {
          "output_type": "display_data",
          "data": {
            "text/plain": [
              "[2023-02-07T09:03:00.848521+00:00] \u001b[36m[Start]\u001b[0m Downloading source code from remote source\n"
            ],
            "text/html": [
              "<pre style=\"white-space:pre;overflow-x:auto;line-height:normal;font-family:Menlo,'DejaVu Sans Mono',consolas,'Courier New',monospace\">[2023-02-07T09:03:00.848521+00:00] <span style=\"color: #008080; text-decoration-color: #008080\">[Start]</span> Downloading source code from remote source\n",
              "</pre>\n"
            ]
          },
          "metadata": {}
        },
        {
          "output_type": "display_data",
          "data": {
            "text/plain": [
              "[2023-02-07T09:03:00.927878+00:00] \u001b[32m[Done]\u001b[0m Download code completed\n"
            ],
            "text/html": [
              "<pre style=\"white-space:pre;overflow-x:auto;line-height:normal;font-family:Menlo,'DejaVu Sans Mono',consolas,'Courier New',monospace\">[2023-02-07T09:03:00.927878+00:00] <span style=\"color: #008000; text-decoration-color: #008000\">[Done]</span> Download code completed\n",
              "</pre>\n"
            ]
          },
          "metadata": {}
        },
        {
          "output_type": "display_data",
          "data": {
            "text/plain": [
              "[2023-02-07T09:03:01.073428+00:00] \u001b[36m[Start]\u001b[0m Building and pushing the docker container. Please find the logs below\n"
            ],
            "text/html": [
              "<pre style=\"white-space:pre;overflow-x:auto;line-height:normal;font-family:Menlo,'DejaVu Sans Mono',consolas,'Courier New',monospace\">[2023-02-07T09:03:01.073428+00:00] <span style=\"color: #008080; text-decoration-color: #008080\">[Start]</span> Building and pushing the docker container. Please find the logs below\n",
              "</pre>\n"
            ]
          },
          "metadata": {}
        },
        {
          "output_type": "display_data",
          "data": {
            "text/plain": [
              "[2023-02-07T09:03:01.139285+00:00] Login Succeeded\n"
            ],
            "text/html": [
              "<pre style=\"white-space:pre;overflow-x:auto;line-height:normal;font-family:Menlo,'DejaVu Sans Mono',consolas,'Courier New',monospace\">[2023-02-07T09:03:01.139285+00:00] Login Succeeded\n",
              "</pre>\n"
            ]
          },
          "metadata": {}
        },
        {
          "output_type": "display_data",
          "data": {
            "text/plain": [
              "[2023-02-07T09:03:01.182795+00:00] \u001b[36m[==== Docker logs start ====]\u001b[0m\n"
            ],
            "text/html": [
              "<pre style=\"white-space:pre;overflow-x:auto;line-height:normal;font-family:Menlo,'DejaVu Sans Mono',consolas,'Courier New',monospace\">[2023-02-07T09:03:01.182795+00:00] <span style=\"color: #008080; text-decoration-color: #008080\">[==== Docker logs start ====]</span>\n",
              "</pre>\n"
            ]
          },
          "metadata": {}
        },
        {
          "output_type": "display_data",
          "data": {
            "text/plain": [
              "[2023-02-07T09:03:01.678422+00:00] [02/07/23 09:03:01] INFO     Dockerfile content:-\n"
            ],
            "text/html": [
              "<pre style=\"white-space:pre;overflow-x:auto;line-height:normal;font-family:Menlo,'DejaVu Sans Mono',consolas,'Courier New',monospace\">[2023-02-07T09:03:01.678422+00:00] [02/07/23 09:03:01] INFO     Dockerfile content:-\n",
              "</pre>\n"
            ]
          },
          "metadata": {}
        },
        {
          "output_type": "display_data",
          "data": {
            "text/plain": [
              "[2023-02-07T09:03:01.679848+00:00] INFO\n"
            ],
            "text/html": [
              "<pre style=\"white-space:pre;overflow-x:auto;line-height:normal;font-family:Menlo,'DejaVu Sans Mono',consolas,'Courier New',monospace\">[2023-02-07T09:03:01.679848+00:00] INFO\n",
              "</pre>\n"
            ]
          },
          "metadata": {}
        },
        {
          "output_type": "display_data",
          "data": {
            "text/plain": [
              "[2023-02-07T09:03:01.679855+00:00] FROM python:3.9\n"
            ],
            "text/html": [
              "<pre style=\"white-space:pre;overflow-x:auto;line-height:normal;font-family:Menlo,'DejaVu Sans Mono',consolas,'Courier New',monospace\">[2023-02-07T09:03:01.679855+00:00] FROM python:3.9\n",
              "</pre>\n"
            ]
          },
          "metadata": {}
        },
        {
          "output_type": "display_data",
          "data": {
            "text/plain": [
              "[2023-02-07T09:03:01.679857+00:00] \n"
            ],
            "text/html": [
              "<pre style=\"white-space:pre;overflow-x:auto;line-height:normal;font-family:Menlo,'DejaVu Sans Mono',consolas,'Courier New',monospace\">[2023-02-07T09:03:01.679857+00:00] \n",
              "</pre>\n"
            ]
          },
          "metadata": {}
        },
        {
          "output_type": "display_data",
          "data": {
            "text/plain": [
              "[2023-02-07T09:03:01.679858+00:00] \n"
            ],
            "text/html": [
              "<pre style=\"white-space:pre;overflow-x:auto;line-height:normal;font-family:Menlo,'DejaVu Sans Mono',consolas,'Courier New',monospace\">[2023-02-07T09:03:01.679858+00:00] \n",
              "</pre>\n"
            ]
          },
          "metadata": {}
        },
        {
          "output_type": "display_data",
          "data": {
            "text/plain": [
              "[2023-02-07T09:03:01.679860+00:00] COPY requirements.txt /tmp/requirements.txt\n"
            ],
            "text/html": [
              "<pre style=\"white-space:pre;overflow-x:auto;line-height:normal;font-family:Menlo,'DejaVu Sans Mono',consolas,'Courier New',monospace\">[2023-02-07T09:03:01.679860+00:00] COPY requirements.txt /tmp/requirements.txt\n",
              "</pre>\n"
            ]
          },
          "metadata": {}
        },
        {
          "output_type": "display_data",
          "data": {
            "text/plain": [
              "[2023-02-07T09:03:01.679862+00:00] \n"
            ],
            "text/html": [
              "<pre style=\"white-space:pre;overflow-x:auto;line-height:normal;font-family:Menlo,'DejaVu Sans Mono',consolas,'Courier New',monospace\">[2023-02-07T09:03:01.679862+00:00] \n",
              "</pre>\n"
            ]
          },
          "metadata": {}
        },
        {
          "output_type": "display_data",
          "data": {
            "text/plain": [
              "[2023-02-07T09:03:01.679863+00:00] RUN pip install -U pip && pip install\n"
            ],
            "text/html": [
              "<pre style=\"white-space:pre;overflow-x:auto;line-height:normal;font-family:Menlo,'DejaVu Sans Mono',consolas,'Courier New',monospace\">[2023-02-07T09:03:01.679863+00:00] RUN pip install -U pip &amp;&amp; pip install\n",
              "</pre>\n"
            ]
          },
          "metadata": {}
        },
        {
          "output_type": "display_data",
          "data": {
            "text/plain": [
              "[2023-02-07T09:03:01.679865+00:00] --no-cache-dir -r /tmp/requirements.txt\n"
            ],
            "text/html": [
              "<pre style=\"white-space:pre;overflow-x:auto;line-height:normal;font-family:Menlo,'DejaVu Sans Mono',consolas,'Courier New',monospace\">[2023-02-07T09:03:01.679865+00:00] --no-cache-dir -r /tmp/requirements.txt\n",
              "</pre>\n"
            ]
          },
          "metadata": {}
        },
        {
          "output_type": "display_data",
          "data": {
            "text/plain": [
              "[2023-02-07T09:03:01.679867+00:00] \n"
            ],
            "text/html": [
              "<pre style=\"white-space:pre;overflow-x:auto;line-height:normal;font-family:Menlo,'DejaVu Sans Mono',consolas,'Courier New',monospace\">[2023-02-07T09:03:01.679867+00:00] \n",
              "</pre>\n"
            ]
          },
          "metadata": {}
        },
        {
          "output_type": "display_data",
          "data": {
            "text/plain": [
              "[2023-02-07T09:03:01.679869+00:00] WORKDIR /app\n"
            ],
            "text/html": [
              "<pre style=\"white-space:pre;overflow-x:auto;line-height:normal;font-family:Menlo,'DejaVu Sans Mono',consolas,'Courier New',monospace\">[2023-02-07T09:03:01.679869+00:00] WORKDIR /app\n",
              "</pre>\n"
            ]
          },
          "metadata": {}
        },
        {
          "output_type": "display_data",
          "data": {
            "text/plain": [
              "[2023-02-07T09:03:01.679873+00:00] ENTRYPOINT streamlit run demo.py\n"
            ],
            "text/html": [
              "<pre style=\"white-space:pre;overflow-x:auto;line-height:normal;font-family:Menlo,'DejaVu Sans Mono',consolas,'Courier New',monospace\">[2023-02-07T09:03:01.679873+00:00] ENTRYPOINT streamlit run demo.py\n",
              "</pre>\n"
            ]
          },
          "metadata": {}
        },
        {
          "output_type": "display_data",
          "data": {
            "text/plain": [
              "[2023-02-07T09:03:01.679874+00:00] \n"
            ],
            "text/html": [
              "<pre style=\"white-space:pre;overflow-x:auto;line-height:normal;font-family:Menlo,'DejaVu Sans Mono',consolas,'Courier New',monospace\">[2023-02-07T09:03:01.679874+00:00] \n",
              "</pre>\n"
            ]
          },
          "metadata": {}
        },
        {
          "output_type": "display_data",
          "data": {
            "text/plain": [
              "[2023-02-07T09:03:01.679868+00:00] COPY . /app\n"
            ],
            "text/html": [
              "<pre style=\"white-space:pre;overflow-x:auto;line-height:normal;font-family:Menlo,'DejaVu Sans Mono',consolas,'Courier New',monospace\">[2023-02-07T09:03:01.679868+00:00] COPY . /app\n",
              "</pre>\n"
            ]
          },
          "metadata": {}
        },
        {
          "output_type": "display_data",
          "data": {
            "text/plain": [
              "[2023-02-07T09:03:01.680951+00:00] INFO     Building docker image: 'docker build\n"
            ],
            "text/html": [
              "<pre style=\"white-space:pre;overflow-x:auto;line-height:normal;font-family:Menlo,'DejaVu Sans Mono',consolas,'Courier New',monospace\">[2023-02-07T09:03:01.680951+00:00] INFO     Building docker image: 'docker build\n",
              "</pre>\n"
            ]
          },
          "metadata": {}
        },
        {
          "output_type": "display_data",
          "data": {
            "text/plain": [
              "[2023-02-07T09:03:01.680968+00:00] /mnt/vol/source-code -t\n"
            ],
            "text/html": [
              "<pre style=\"white-space:pre;overflow-x:auto;line-height:normal;font-family:Menlo,'DejaVu Sans Mono',consolas,'Courier New',monospace\">[2023-02-07T09:03:01.680968+00:00] /mnt/vol/source-code -t\n",
              "</pre>\n"
            ]
          },
          "metadata": {}
        },
        {
          "output_type": "display_data",
          "data": {
            "text/plain": [
              "[2023-02-07T09:03:01.714962+00:00] Step 1/6 : FROM python:3.9\n"
            ],
            "text/html": [
              "<pre style=\"white-space:pre;overflow-x:auto;line-height:normal;font-family:Menlo,'DejaVu Sans Mono',consolas,'Courier New',monospace\">[2023-02-07T09:03:01.714962+00:00] Step 1/6 : FROM python:3.9\n",
              "</pre>\n"
            ]
          },
          "metadata": {}
        },
        {
          "output_type": "display_data",
          "data": {
            "text/plain": [
              "[2023-02-07T09:03:02.664161+00:00] 86cd158b89fd: Pulling fs layer\n"
            ],
            "text/html": [
              "<pre style=\"white-space:pre;overflow-x:auto;line-height:normal;font-family:Menlo,'DejaVu Sans Mono',consolas,'Courier New',monospace\">[2023-02-07T09:03:02.664161+00:00] 86cd158b89fd: Pulling fs layer\n",
              "</pre>\n"
            ]
          },
          "metadata": {}
        },
        {
          "output_type": "display_data",
          "data": {
            "text/plain": [
              "[2023-02-07T09:03:01.680973+00:00] /tmp/tmpp7zzgxkv/Dockerfile --cache-from\n"
            ],
            "text/html": [
              "<pre style=\"white-space:pre;overflow-x:auto;line-height:normal;font-family:Menlo,'DejaVu Sans Mono',consolas,'Courier New',monospace\">[2023-02-07T09:03:01.680973+00:00] /tmp/tmpp7zzgxkv/Dockerfile --cache-from\n",
              "</pre>\n"
            ]
          },
          "metadata": {}
        },
        {
          "output_type": "display_data",
          "data": {
            "text/plain": [
              "[2023-02-07T09:03:01.680974+00:00] 416964291864.dkr.ecr.eu-west-1.amazonaws.com/hardik\n"
            ],
            "text/html": [
              "<pre style=\"white-space:pre;overflow-x:auto;line-height:normal;font-family:Menlo,'DejaVu Sans Mono',consolas,'Courier New',monospace\">[2023-02-07T09:03:01.680974+00:00] 416964291864.dkr.ecr.eu-west-1.amazonaws.com/hardik\n",
              "</pre>\n"
            ]
          },
          "metadata": {}
        },
        {
          "output_type": "display_data",
          "data": {
            "text/plain": [
              "[2023-02-07T09:03:01.695400+00:00] Sending build context to Docker daemon  9.263kB\n"
            ],
            "text/html": [
              "<pre style=\"white-space:pre;overflow-x:auto;line-height:normal;font-family:Menlo,'DejaVu Sans Mono',consolas,'Courier New',monospace\">[2023-02-07T09:03:01.695400+00:00] Sending build context to Docker daemon  9.263kB\n",
              "</pre>\n"
            ]
          },
          "metadata": {}
        },
        {
          "output_type": "display_data",
          "data": {
            "text/plain": [
              "[2023-02-07T09:03:02.420887+00:00] 3.9: Pulling from library/python\n"
            ],
            "text/html": [
              "<pre style=\"white-space:pre;overflow-x:auto;line-height:normal;font-family:Menlo,'DejaVu Sans Mono',consolas,'Courier New',monospace\">[2023-02-07T09:03:02.420887+00:00] 3.9: Pulling from library/python\n",
              "</pre>\n"
            ]
          },
          "metadata": {}
        },
        {
          "output_type": "display_data",
          "data": {
            "text/plain": [
              "[2023-02-07T09:03:02.664163+00:00] a226e961cfaa: Pulling fs layer\n"
            ],
            "text/html": [
              "<pre style=\"white-space:pre;overflow-x:auto;line-height:normal;font-family:Menlo,'DejaVu Sans Mono',consolas,'Courier New',monospace\">[2023-02-07T09:03:02.664163+00:00] a226e961cfaa: Pulling fs layer\n",
              "</pre>\n"
            ]
          },
          "metadata": {}
        },
        {
          "output_type": "display_data",
          "data": {
            "text/plain": [
              "[2023-02-07T09:03:01.680972+00:00] -ws-red-wine-demo-89er3:1 --file\n"
            ],
            "text/html": [
              "<pre style=\"white-space:pre;overflow-x:auto;line-height:normal;font-family:Menlo,'DejaVu Sans Mono',consolas,'Courier New',monospace\">[2023-02-07T09:03:01.680972+00:00] -ws-red-wine-demo-89er3:1 --file\n",
              "</pre>\n"
            ]
          },
          "metadata": {}
        },
        {
          "output_type": "display_data",
          "data": {
            "text/plain": [
              "[2023-02-07T09:03:02.664133+00:00] 699c8a97647f: Pulling fs layer\n"
            ],
            "text/html": [
              "<pre style=\"white-space:pre;overflow-x:auto;line-height:normal;font-family:Menlo,'DejaVu Sans Mono',consolas,'Courier New',monospace\">[2023-02-07T09:03:02.664133+00:00] 699c8a97647f: Pulling fs layer\n",
              "</pre>\n"
            ]
          },
          "metadata": {}
        },
        {
          "output_type": "display_data",
          "data": {
            "text/plain": [
              "[2023-02-07T09:03:02.664165+00:00] 4cec535da207: Pulling fs layer\n"
            ],
            "text/html": [
              "<pre style=\"white-space:pre;overflow-x:auto;line-height:normal;font-family:Menlo,'DejaVu Sans Mono',consolas,'Courier New',monospace\">[2023-02-07T09:03:02.664165+00:00] 4cec535da207: Pulling fs layer\n",
              "</pre>\n"
            ]
          },
          "metadata": {}
        },
        {
          "output_type": "display_data",
          "data": {
            "text/plain": [
              "[2023-02-07T09:03:02.664167+00:00] 356a16c6c201: Pulling fs layer\n"
            ],
            "text/html": [
              "<pre style=\"white-space:pre;overflow-x:auto;line-height:normal;font-family:Menlo,'DejaVu Sans Mono',consolas,'Courier New',monospace\">[2023-02-07T09:03:02.664167+00:00] 356a16c6c201: Pulling fs layer\n",
              "</pre>\n"
            ]
          },
          "metadata": {}
        },
        {
          "output_type": "display_data",
          "data": {
            "text/plain": [
              "[2023-02-07T09:03:02.664168+00:00] 7f852ff26d97: Pulling fs layer\n"
            ],
            "text/html": [
              "<pre style=\"white-space:pre;overflow-x:auto;line-height:normal;font-family:Menlo,'DejaVu Sans Mono',consolas,'Courier New',monospace\">[2023-02-07T09:03:02.664168+00:00] 7f852ff26d97: Pulling fs layer\n",
              "</pre>\n"
            ]
          },
          "metadata": {}
        },
        {
          "output_type": "display_data",
          "data": {
            "text/plain": [
              "[2023-02-07T09:03:02.664166+00:00] 225fdd30e1a3: Pulling fs layer\n"
            ],
            "text/html": [
              "<pre style=\"white-space:pre;overflow-x:auto;line-height:normal;font-family:Menlo,'DejaVu Sans Mono',consolas,'Courier New',monospace\">[2023-02-07T09:03:02.664166+00:00] 225fdd30e1a3: Pulling fs layer\n",
              "</pre>\n"
            ]
          },
          "metadata": {}
        },
        {
          "output_type": "display_data",
          "data": {
            "text/plain": [
              "[2023-02-07T09:03:02.664170+00:00] 4bd654f59cbc: Pulling fs layer\n"
            ],
            "text/html": [
              "<pre style=\"white-space:pre;overflow-x:auto;line-height:normal;font-family:Menlo,'DejaVu Sans Mono',consolas,'Courier New',monospace\">[2023-02-07T09:03:02.664170+00:00] 4bd654f59cbc: Pulling fs layer\n",
              "</pre>\n"
            ]
          },
          "metadata": {}
        },
        {
          "output_type": "display_data",
          "data": {
            "text/plain": [
              "[2023-02-07T09:03:02.664171+00:00] c22de34a21d1: Pulling fs layer\n"
            ],
            "text/html": [
              "<pre style=\"white-space:pre;overflow-x:auto;line-height:normal;font-family:Menlo,'DejaVu Sans Mono',consolas,'Courier New',monospace\">[2023-02-07T09:03:02.664171+00:00] c22de34a21d1: Pulling fs layer\n",
              "</pre>\n"
            ]
          },
          "metadata": {}
        },
        {
          "output_type": "display_data",
          "data": {
            "text/plain": [
              "[2023-02-07T09:03:02.664173+00:00] 225fdd30e1a3: Waiting\n"
            ],
            "text/html": [
              "<pre style=\"white-space:pre;overflow-x:auto;line-height:normal;font-family:Menlo,'DejaVu Sans Mono',consolas,'Courier New',monospace\">[2023-02-07T09:03:02.664173+00:00] 225fdd30e1a3: Waiting\n",
              "</pre>\n"
            ]
          },
          "metadata": {}
        },
        {
          "output_type": "display_data",
          "data": {
            "text/plain": [
              "[2023-02-07T09:03:02.664175+00:00] 356a16c6c201: Waiting\n"
            ],
            "text/html": [
              "<pre style=\"white-space:pre;overflow-x:auto;line-height:normal;font-family:Menlo,'DejaVu Sans Mono',consolas,'Courier New',monospace\">[2023-02-07T09:03:02.664175+00:00] 356a16c6c201: Waiting\n",
              "</pre>\n"
            ]
          },
          "metadata": {}
        },
        {
          "output_type": "display_data",
          "data": {
            "text/plain": [
              "[2023-02-07T09:03:02.664176+00:00] 7f852ff26d97: Waiting\n"
            ],
            "text/html": [
              "<pre style=\"white-space:pre;overflow-x:auto;line-height:normal;font-family:Menlo,'DejaVu Sans Mono',consolas,'Courier New',monospace\">[2023-02-07T09:03:02.664176+00:00] 7f852ff26d97: Waiting\n",
              "</pre>\n"
            ]
          },
          "metadata": {}
        },
        {
          "output_type": "display_data",
          "data": {
            "text/plain": [
              "[2023-02-07T09:03:02.664177+00:00] 4bd654f59cbc: Waiting\n"
            ],
            "text/html": [
              "<pre style=\"white-space:pre;overflow-x:auto;line-height:normal;font-family:Menlo,'DejaVu Sans Mono',consolas,'Courier New',monospace\">[2023-02-07T09:03:02.664177+00:00] 4bd654f59cbc: Waiting\n",
              "</pre>\n"
            ]
          },
          "metadata": {}
        },
        {
          "output_type": "display_data",
          "data": {
            "text/plain": [
              "[2023-02-07T09:03:02.664178+00:00] c22de34a21d1: Waiting\n"
            ],
            "text/html": [
              "<pre style=\"white-space:pre;overflow-x:auto;line-height:normal;font-family:Menlo,'DejaVu Sans Mono',consolas,'Courier New',monospace\">[2023-02-07T09:03:02.664178+00:00] c22de34a21d1: Waiting\n",
              "</pre>\n"
            ]
          },
          "metadata": {}
        },
        {
          "output_type": "display_data",
          "data": {
            "text/plain": [
              "[2023-02-07T09:03:02.664189+00:00] 4cec535da207: Waiting\n"
            ],
            "text/html": [
              "<pre style=\"white-space:pre;overflow-x:auto;line-height:normal;font-family:Menlo,'DejaVu Sans Mono',consolas,'Courier New',monospace\">[2023-02-07T09:03:02.664189+00:00] 4cec535da207: Waiting\n",
              "</pre>\n"
            ]
          },
          "metadata": {}
        },
        {
          "output_type": "display_data",
          "data": {
            "text/plain": [
              "[2023-02-07T09:03:03.489359+00:00] 86cd158b89fd: Verifying Checksum\n"
            ],
            "text/html": [
              "<pre style=\"white-space:pre;overflow-x:auto;line-height:normal;font-family:Menlo,'DejaVu Sans Mono',consolas,'Courier New',monospace\">[2023-02-07T09:03:03.489359+00:00] 86cd158b89fd: Verifying Checksum\n",
              "</pre>\n"
            ]
          },
          "metadata": {}
        },
        {
          "output_type": "display_data",
          "data": {
            "text/plain": [
              "[2023-02-07T09:03:03.489384+00:00] 86cd158b89fd: Download complete\n"
            ],
            "text/html": [
              "<pre style=\"white-space:pre;overflow-x:auto;line-height:normal;font-family:Menlo,'DejaVu Sans Mono',consolas,'Courier New',monospace\">[2023-02-07T09:03:03.489384+00:00] 86cd158b89fd: Download complete\n",
              "</pre>\n"
            ]
          },
          "metadata": {}
        },
        {
          "output_type": "display_data",
          "data": {
            "text/plain": [
              "[2023-02-07T09:03:04.271843+00:00] a226e961cfaa: Verifying Checksum\n"
            ],
            "text/html": [
              "<pre style=\"white-space:pre;overflow-x:auto;line-height:normal;font-family:Menlo,'DejaVu Sans Mono',consolas,'Courier New',monospace\">[2023-02-07T09:03:04.271843+00:00] a226e961cfaa: Verifying Checksum\n",
              "</pre>\n"
            ]
          },
          "metadata": {}
        },
        {
          "output_type": "display_data",
          "data": {
            "text/plain": [
              "[2023-02-07T09:03:04.271864+00:00] a226e961cfaa: Download complete\n"
            ],
            "text/html": [
              "<pre style=\"white-space:pre;overflow-x:auto;line-height:normal;font-family:Menlo,'DejaVu Sans Mono',consolas,'Courier New',monospace\">[2023-02-07T09:03:04.271864+00:00] a226e961cfaa: Download complete\n",
              "</pre>\n"
            ]
          },
          "metadata": {}
        },
        {
          "output_type": "display_data",
          "data": {
            "text/plain": [
              "[2023-02-07T09:03:05.886692+00:00] 4cec535da207: Verifying Checksum\n"
            ],
            "text/html": [
              "<pre style=\"white-space:pre;overflow-x:auto;line-height:normal;font-family:Menlo,'DejaVu Sans Mono',consolas,'Courier New',monospace\">[2023-02-07T09:03:05.886692+00:00] 4cec535da207: Verifying Checksum\n",
              "</pre>\n"
            ]
          },
          "metadata": {}
        },
        {
          "output_type": "display_data",
          "data": {
            "text/plain": [
              "[2023-02-07T09:03:05.886718+00:00] 4cec535da207: Download complete\n"
            ],
            "text/html": [
              "<pre style=\"white-space:pre;overflow-x:auto;line-height:normal;font-family:Menlo,'DejaVu Sans Mono',consolas,'Courier New',monospace\">[2023-02-07T09:03:05.886718+00:00] 4cec535da207: Download complete\n",
              "</pre>\n"
            ]
          },
          "metadata": {}
        },
        {
          "output_type": "display_data",
          "data": {
            "text/plain": [
              "[2023-02-07T09:03:06.508083+00:00] 356a16c6c201: Verifying Checksum\n"
            ],
            "text/html": [
              "<pre style=\"white-space:pre;overflow-x:auto;line-height:normal;font-family:Menlo,'DejaVu Sans Mono',consolas,'Courier New',monospace\">[2023-02-07T09:03:06.508083+00:00] 356a16c6c201: Verifying Checksum\n",
              "</pre>\n"
            ]
          },
          "metadata": {}
        },
        {
          "output_type": "display_data",
          "data": {
            "text/plain": [
              "[2023-02-07T09:03:06.508112+00:00] 356a16c6c201: Download complete\n"
            ],
            "text/html": [
              "<pre style=\"white-space:pre;overflow-x:auto;line-height:normal;font-family:Menlo,'DejaVu Sans Mono',consolas,'Courier New',monospace\">[2023-02-07T09:03:06.508112+00:00] 356a16c6c201: Download complete\n",
              "</pre>\n"
            ]
          },
          "metadata": {}
        },
        {
          "output_type": "display_data",
          "data": {
            "text/plain": [
              "[2023-02-07T09:03:07.076385+00:00] 699c8a97647f: Verifying Checksum\n"
            ],
            "text/html": [
              "<pre style=\"white-space:pre;overflow-x:auto;line-height:normal;font-family:Menlo,'DejaVu Sans Mono',consolas,'Courier New',monospace\">[2023-02-07T09:03:07.076385+00:00] 699c8a97647f: Verifying Checksum\n",
              "</pre>\n"
            ]
          },
          "metadata": {}
        },
        {
          "output_type": "display_data",
          "data": {
            "text/plain": [
              "[2023-02-07T09:03:07.076413+00:00] 699c8a97647f: Download complete\n"
            ],
            "text/html": [
              "<pre style=\"white-space:pre;overflow-x:auto;line-height:normal;font-family:Menlo,'DejaVu Sans Mono',consolas,'Courier New',monospace\">[2023-02-07T09:03:07.076413+00:00] 699c8a97647f: Download complete\n",
              "</pre>\n"
            ]
          },
          "metadata": {}
        },
        {
          "output_type": "display_data",
          "data": {
            "text/plain": [
              "[2023-02-07T09:03:07.321092+00:00] 7f852ff26d97: Verifying Checksum\n"
            ],
            "text/html": [
              "<pre style=\"white-space:pre;overflow-x:auto;line-height:normal;font-family:Menlo,'DejaVu Sans Mono',consolas,'Courier New',monospace\">[2023-02-07T09:03:07.321092+00:00] 7f852ff26d97: Verifying Checksum\n",
              "</pre>\n"
            ]
          },
          "metadata": {}
        },
        {
          "output_type": "display_data",
          "data": {
            "text/plain": [
              "[2023-02-07T09:03:07.321122+00:00] 7f852ff26d97: Download complete\n"
            ],
            "text/html": [
              "<pre style=\"white-space:pre;overflow-x:auto;line-height:normal;font-family:Menlo,'DejaVu Sans Mono',consolas,'Courier New',monospace\">[2023-02-07T09:03:07.321122+00:00] 7f852ff26d97: Download complete\n",
              "</pre>\n"
            ]
          },
          "metadata": {}
        },
        {
          "output_type": "display_data",
          "data": {
            "text/plain": [
              "[2023-02-07T09:03:07.345216+00:00] 4bd654f59cbc: Verifying Checksum\n"
            ],
            "text/html": [
              "<pre style=\"white-space:pre;overflow-x:auto;line-height:normal;font-family:Menlo,'DejaVu Sans Mono',consolas,'Courier New',monospace\">[2023-02-07T09:03:07.345216+00:00] 4bd654f59cbc: Verifying Checksum\n",
              "</pre>\n"
            ]
          },
          "metadata": {}
        },
        {
          "output_type": "display_data",
          "data": {
            "text/plain": [
              "[2023-02-07T09:03:07.345236+00:00] 4bd654f59cbc: Download complete\n"
            ],
            "text/html": [
              "<pre style=\"white-space:pre;overflow-x:auto;line-height:normal;font-family:Menlo,'DejaVu Sans Mono',consolas,'Courier New',monospace\">[2023-02-07T09:03:07.345236+00:00] 4bd654f59cbc: Download complete\n",
              "</pre>\n"
            ]
          },
          "metadata": {}
        },
        {
          "output_type": "display_data",
          "data": {
            "text/plain": [
              "[2023-02-07T09:03:08.171899+00:00] 699c8a97647f: Pull complete\n"
            ],
            "text/html": [
              "<pre style=\"white-space:pre;overflow-x:auto;line-height:normal;font-family:Menlo,'DejaVu Sans Mono',consolas,'Courier New',monospace\">[2023-02-07T09:03:08.171899+00:00] 699c8a97647f: Pull complete\n",
              "</pre>\n"
            ]
          },
          "metadata": {}
        },
        {
          "output_type": "display_data",
          "data": {
            "text/plain": [
              "[2023-02-07T09:03:08.308633+00:00] 86cd158b89fd: Pull complete\n"
            ],
            "text/html": [
              "<pre style=\"white-space:pre;overflow-x:auto;line-height:normal;font-family:Menlo,'DejaVu Sans Mono',consolas,'Courier New',monospace\">[2023-02-07T09:03:08.308633+00:00] 86cd158b89fd: Pull complete\n",
              "</pre>\n"
            ]
          },
          "metadata": {}
        },
        {
          "output_type": "display_data",
          "data": {
            "text/plain": [
              "[2023-02-07T09:03:08.460628+00:00] a226e961cfaa: Pull complete\n"
            ],
            "text/html": [
              "<pre style=\"white-space:pre;overflow-x:auto;line-height:normal;font-family:Menlo,'DejaVu Sans Mono',consolas,'Courier New',monospace\">[2023-02-07T09:03:08.460628+00:00] a226e961cfaa: Pull complete\n",
              "</pre>\n"
            ]
          },
          "metadata": {}
        },
        {
          "output_type": "display_data",
          "data": {
            "text/plain": [
              "[2023-02-07T09:03:08.778280+00:00] c22de34a21d1: Verifying Checksum\n"
            ],
            "text/html": [
              "<pre style=\"white-space:pre;overflow-x:auto;line-height:normal;font-family:Menlo,'DejaVu Sans Mono',consolas,'Courier New',monospace\">[2023-02-07T09:03:08.778280+00:00] c22de34a21d1: Verifying Checksum\n",
              "</pre>\n"
            ]
          },
          "metadata": {}
        },
        {
          "output_type": "display_data",
          "data": {
            "text/plain": [
              "[2023-02-07T09:03:08.778306+00:00] c22de34a21d1: Download complete\n"
            ],
            "text/html": [
              "<pre style=\"white-space:pre;overflow-x:auto;line-height:normal;font-family:Menlo,'DejaVu Sans Mono',consolas,'Courier New',monospace\">[2023-02-07T09:03:08.778306+00:00] c22de34a21d1: Download complete\n",
              "</pre>\n"
            ]
          },
          "metadata": {}
        },
        {
          "output_type": "display_data",
          "data": {
            "text/plain": [
              "[2023-02-07T09:03:09.688585+00:00] 4cec535da207: Pull complete\n"
            ],
            "text/html": [
              "<pre style=\"white-space:pre;overflow-x:auto;line-height:normal;font-family:Menlo,'DejaVu Sans Mono',consolas,'Courier New',monospace\">[2023-02-07T09:03:09.688585+00:00] 4cec535da207: Pull complete\n",
              "</pre>\n"
            ]
          },
          "metadata": {}
        },
        {
          "output_type": "display_data",
          "data": {
            "text/plain": [
              "[2023-02-07T09:03:16.780831+00:00] 225fdd30e1a3: Download complete\n"
            ],
            "text/html": [
              "<pre style=\"white-space:pre;overflow-x:auto;line-height:normal;font-family:Menlo,'DejaVu Sans Mono',consolas,'Courier New',monospace\">[2023-02-07T09:03:16.780831+00:00] 225fdd30e1a3: Download complete\n",
              "</pre>\n"
            ]
          },
          "metadata": {}
        },
        {
          "output_type": "display_data",
          "data": {
            "text/plain": [
              "[2023-02-07T09:03:20.224316+00:00] 225fdd30e1a3: Pull complete\n"
            ],
            "text/html": [
              "<pre style=\"white-space:pre;overflow-x:auto;line-height:normal;font-family:Menlo,'DejaVu Sans Mono',consolas,'Courier New',monospace\">[2023-02-07T09:03:20.224316+00:00] 225fdd30e1a3: Pull complete\n",
              "</pre>\n"
            ]
          },
          "metadata": {}
        },
        {
          "output_type": "display_data",
          "data": {
            "text/plain": [
              "[2023-02-07T09:03:20.391768+00:00] 356a16c6c201: Pull complete\n"
            ],
            "text/html": [
              "<pre style=\"white-space:pre;overflow-x:auto;line-height:normal;font-family:Menlo,'DejaVu Sans Mono',consolas,'Courier New',monospace\">[2023-02-07T09:03:20.391768+00:00] 356a16c6c201: Pull complete\n",
              "</pre>\n"
            ]
          },
          "metadata": {}
        },
        {
          "output_type": "display_data",
          "data": {
            "text/plain": [
              "[2023-02-07T09:03:20.727133+00:00] 7f852ff26d97: Pull complete\n"
            ],
            "text/html": [
              "<pre style=\"white-space:pre;overflow-x:auto;line-height:normal;font-family:Menlo,'DejaVu Sans Mono',consolas,'Courier New',monospace\">[2023-02-07T09:03:20.727133+00:00] 7f852ff26d97: Pull complete\n",
              "</pre>\n"
            ]
          },
          "metadata": {}
        },
        {
          "output_type": "display_data",
          "data": {
            "text/plain": [
              "[2023-02-07T09:03:20.755947+00:00] 4bd654f59cbc: Pull complete\n"
            ],
            "text/html": [
              "<pre style=\"white-space:pre;overflow-x:auto;line-height:normal;font-family:Menlo,'DejaVu Sans Mono',consolas,'Courier New',monospace\">[2023-02-07T09:03:20.755947+00:00] 4bd654f59cbc: Pull complete\n",
              "</pre>\n"
            ]
          },
          "metadata": {}
        },
        {
          "output_type": "display_data",
          "data": {
            "text/plain": [
              "[2023-02-07T09:03:20.892355+00:00] c22de34a21d1: Pull complete\n"
            ],
            "text/html": [
              "<pre style=\"white-space:pre;overflow-x:auto;line-height:normal;font-family:Menlo,'DejaVu Sans Mono',consolas,'Courier New',monospace\">[2023-02-07T09:03:20.892355+00:00] c22de34a21d1: Pull complete\n",
              "</pre>\n"
            ]
          },
          "metadata": {}
        },
        {
          "output_type": "display_data",
          "data": {
            "text/plain": [
              "[2023-02-07T09:03:20.896852+00:00] Digest: sha256:8aa1a86e57d11268005344d03296cf2f73310bad9edb900884494b5974421d43\n"
            ],
            "text/html": [
              "<pre style=\"white-space:pre;overflow-x:auto;line-height:normal;font-family:Menlo,'DejaVu Sans Mono',consolas,'Courier New',monospace\">[2023-02-07T09:03:20.896852+00:00] Digest: sha256:8aa1a86e57d11268005344d03296cf2f73310bad9edb900884494b5974421d43\n",
              "</pre>\n"
            ]
          },
          "metadata": {}
        },
        {
          "output_type": "display_data",
          "data": {
            "text/plain": [
              "[2023-02-07T09:03:20.900215+00:00] Status: Downloaded newer image for python:3.9\n"
            ],
            "text/html": [
              "<pre style=\"white-space:pre;overflow-x:auto;line-height:normal;font-family:Menlo,'DejaVu Sans Mono',consolas,'Courier New',monospace\">[2023-02-07T09:03:20.900215+00:00] Status: Downloaded newer image for python:3.9\n",
              "</pre>\n"
            ]
          },
          "metadata": {}
        },
        {
          "output_type": "display_data",
          "data": {
            "text/plain": [
              "[2023-02-07T09:03:20.900658+00:00] ---> a037112b1932\n"
            ],
            "text/html": [
              "<pre style=\"white-space:pre;overflow-x:auto;line-height:normal;font-family:Menlo,'DejaVu Sans Mono',consolas,'Courier New',monospace\">[2023-02-07T09:03:20.900658+00:00] ---&gt; a037112b1932\n",
              "</pre>\n"
            ]
          },
          "metadata": {}
        },
        {
          "output_type": "display_data",
          "data": {
            "text/plain": [
              "[2023-02-07T09:03:20.900665+00:00] Step 2/6 : COPY requirements.txt /tmp/requirements.txt\n"
            ],
            "text/html": [
              "<pre style=\"white-space:pre;overflow-x:auto;line-height:normal;font-family:Menlo,'DejaVu Sans Mono',consolas,'Courier New',monospace\">[2023-02-07T09:03:20.900665+00:00] Step 2/6 : COPY requirements.txt /tmp/requirements.txt\n",
              "</pre>\n"
            ]
          },
          "metadata": {}
        },
        {
          "output_type": "display_data",
          "data": {
            "text/plain": [
              "[2023-02-07T09:03:27.579387+00:00] ---> 08fdd296872a\n"
            ],
            "text/html": [
              "<pre style=\"white-space:pre;overflow-x:auto;line-height:normal;font-family:Menlo,'DejaVu Sans Mono',consolas,'Courier New',monospace\">[2023-02-07T09:03:27.579387+00:00] ---&gt; 08fdd296872a\n",
              "</pre>\n"
            ]
          },
          "metadata": {}
        },
        {
          "output_type": "display_data",
          "data": {
            "text/plain": [
              "[2023-02-07T09:03:27.579417+00:00] Step 3/6 : RUN pip install -U pip && pip install --no-cache-dir -r \n",
              "/tmp/requirements.txt\n"
            ],
            "text/html": [
              "<pre style=\"white-space:pre;overflow-x:auto;line-height:normal;font-family:Menlo,'DejaVu Sans Mono',consolas,'Courier New',monospace\">[2023-02-07T09:03:27.579417+00:00] Step 3/6 : RUN pip install -U pip &amp;&amp; pip install --no-cache-dir -r \n",
              "/tmp/requirements.txt\n",
              "</pre>\n"
            ]
          },
          "metadata": {}
        },
        {
          "output_type": "display_data",
          "data": {
            "text/plain": [
              "[2023-02-07T09:03:27.596772+00:00] ---> Running in 64898f098c30\n"
            ],
            "text/html": [
              "<pre style=\"white-space:pre;overflow-x:auto;line-height:normal;font-family:Menlo,'DejaVu Sans Mono',consolas,'Courier New',monospace\">[2023-02-07T09:03:27.596772+00:00] ---&gt; Running in 64898f098c30\n",
              "</pre>\n"
            ]
          },
          "metadata": {}
        },
        {
          "output_type": "display_data",
          "data": {
            "text/plain": [
              "[2023-02-07T09:03:29.309459+00:00] Requirement already satisfied: pip in /usr/local/lib/python3.9/site-packages \n",
              "(22.0.4)\n"
            ],
            "text/html": [
              "<pre style=\"white-space:pre;overflow-x:auto;line-height:normal;font-family:Menlo,'DejaVu Sans Mono',consolas,'Courier New',monospace\">[2023-02-07T09:03:29.309459+00:00] Requirement already satisfied: pip in /usr/local/lib/python3.9/site-packages \n",
              "(22.0.4)\n",
              "</pre>\n"
            ]
          },
          "metadata": {}
        },
        {
          "output_type": "display_data",
          "data": {
            "text/plain": [
              "[2023-02-07T09:03:29.434103+00:00] Collecting pip\n"
            ],
            "text/html": [
              "<pre style=\"white-space:pre;overflow-x:auto;line-height:normal;font-family:Menlo,'DejaVu Sans Mono',consolas,'Courier New',monospace\">[2023-02-07T09:03:29.434103+00:00] Collecting pip\n",
              "</pre>\n"
            ]
          },
          "metadata": {}
        },
        {
          "output_type": "display_data",
          "data": {
            "text/plain": [
              "[2023-02-07T09:03:29.455083+00:00] Downloading pip-23.0-py3-none-any.whl (2.1 MB)\n"
            ],
            "text/html": [
              "<pre style=\"white-space:pre;overflow-x:auto;line-height:normal;font-family:Menlo,'DejaVu Sans Mono',consolas,'Courier New',monospace\">[2023-02-07T09:03:29.455083+00:00] Downloading pip-23.0-py3-none-any.whl (2.1 MB)\n",
              "</pre>\n"
            ]
          },
          "metadata": {}
        },
        {
          "output_type": "display_data",
          "data": {
            "text/plain": [
              "[2023-02-07T09:03:29.484260+00:00] ━━━━━━━━━━━━━━━━━━━━━━━━━━━━━━━━━━━━━━━━ 2.1/2.1 MB 78.6 MB/s eta 0:00:00\n"
            ],
            "text/html": [
              "<pre style=\"white-space:pre;overflow-x:auto;line-height:normal;font-family:Menlo,'DejaVu Sans Mono',consolas,'Courier New',monospace\">[2023-02-07T09:03:29.484260+00:00] ━━━━━━━━━━━━━━━━━━━━━━━━━━━━━━━━━━━━━━━━ 2.1/2.1 MB 78.6 MB/s eta 0:00:00\n",
              "</pre>\n"
            ]
          },
          "metadata": {}
        },
        {
          "output_type": "display_data",
          "data": {
            "text/plain": [
              "[2023-02-07T09:03:29.522845+00:00] Installing collected packages: pip\n"
            ],
            "text/html": [
              "<pre style=\"white-space:pre;overflow-x:auto;line-height:normal;font-family:Menlo,'DejaVu Sans Mono',consolas,'Courier New',monospace\">[2023-02-07T09:03:29.522845+00:00] Installing collected packages: pip\n",
              "</pre>\n"
            ]
          },
          "metadata": {}
        },
        {
          "output_type": "display_data",
          "data": {
            "text/plain": [
              "[2023-02-07T09:03:29.522889+00:00] Attempting uninstall: pip\n"
            ],
            "text/html": [
              "<pre style=\"white-space:pre;overflow-x:auto;line-height:normal;font-family:Menlo,'DejaVu Sans Mono',consolas,'Courier New',monospace\">[2023-02-07T09:03:29.522889+00:00] Attempting uninstall: pip\n",
              "</pre>\n"
            ]
          },
          "metadata": {}
        },
        {
          "output_type": "display_data",
          "data": {
            "text/plain": [
              "[2023-02-07T09:03:29.523513+00:00] Found existing installation: pip 22.0.4\n"
            ],
            "text/html": [
              "<pre style=\"white-space:pre;overflow-x:auto;line-height:normal;font-family:Menlo,'DejaVu Sans Mono',consolas,'Courier New',monospace\">[2023-02-07T09:03:29.523513+00:00] Found existing installation: pip 22.0.4\n",
              "</pre>\n"
            ]
          },
          "metadata": {}
        },
        {
          "output_type": "display_data",
          "data": {
            "text/plain": [
              "[2023-02-07T09:03:29.619822+00:00] Uninstalling pip-22.0.4:\n"
            ],
            "text/html": [
              "<pre style=\"white-space:pre;overflow-x:auto;line-height:normal;font-family:Menlo,'DejaVu Sans Mono',consolas,'Courier New',monospace\">[2023-02-07T09:03:29.619822+00:00] Uninstalling pip-22.0.4:\n",
              "</pre>\n"
            ]
          },
          "metadata": {}
        },
        {
          "output_type": "display_data",
          "data": {
            "text/plain": [
              "[2023-02-07T09:03:29.712855+00:00] Successfully uninstalled pip-22.0.4\n"
            ],
            "text/html": [
              "<pre style=\"white-space:pre;overflow-x:auto;line-height:normal;font-family:Menlo,'DejaVu Sans Mono',consolas,'Courier New',monospace\">[2023-02-07T09:03:29.712855+00:00] Successfully uninstalled pip-22.0.4\n",
              "</pre>\n"
            ]
          },
          "metadata": {}
        },
        {
          "output_type": "display_data",
          "data": {
            "text/plain": [
              "[2023-02-07T09:03:30.707289+00:00] Successfully installed pip-23.0\n"
            ],
            "text/html": [
              "<pre style=\"white-space:pre;overflow-x:auto;line-height:normal;font-family:Menlo,'DejaVu Sans Mono',consolas,'Courier New',monospace\">[2023-02-07T09:03:30.707289+00:00] Successfully installed pip-23.0\n",
              "</pre>\n"
            ]
          },
          "metadata": {}
        },
        {
          "output_type": "display_data",
          "data": {
            "text/plain": [
              "[2023-02-07T09:03:30.707442+00:00] \u001b[91mWARNING: Running pip as the 'root' user can result in broken permissions and \u001b[0m\n",
              "\u001b[91mconflicting behaviour with the system package manager. It is recommended to use a virtual environment instead: \u001b[0m\n",
              "\u001b[91mhttps://pip.pypa.io/warnings/venv\u001b[0m\n"
            ],
            "text/html": [
              "<pre style=\"white-space:pre;overflow-x:auto;line-height:normal;font-family:Menlo,'DejaVu Sans Mono',consolas,'Courier New',monospace\">[2023-02-07T09:03:30.707442+00:00] <span style=\"color: #ff0000; text-decoration-color: #ff0000\">WARNING: Running pip as the 'root' user can result in broken permissions and </span>\n",
              "<span style=\"color: #ff0000; text-decoration-color: #ff0000\">conflicting behaviour with the system package manager. It is recommended to use a virtual environment instead: </span>\n",
              "<span style=\"color: #ff0000; text-decoration-color: #ff0000\">https://pip.pypa.io/warnings/venv</span>\n",
              "</pre>\n"
            ]
          },
          "metadata": {}
        },
        {
          "output_type": "display_data",
          "data": {
            "text/plain": [
              "\u001b[91m[2023-02-07T09:03:31.511438+00:00] \u001b[0mCollecting pandas==1.4.4\n"
            ],
            "text/html": [
              "<pre style=\"white-space:pre;overflow-x:auto;line-height:normal;font-family:Menlo,'DejaVu Sans Mono',consolas,'Courier New',monospace\"><span style=\"color: #ff0000; text-decoration-color: #ff0000\">[2023-02-07T09:03:31.511438+00:00] </span>Collecting pandas==1.4.4\n",
              "</pre>\n"
            ]
          },
          "metadata": {}
        },
        {
          "output_type": "display_data",
          "data": {
            "text/plain": [
              "[2023-02-07T09:03:31.530636+00:00] Downloading \n",
              "pandas-1.4.4-cp39-cp39-manylinux_2_17_x86_64.manylinux2014_x86_64.whl (11.7 MB)\n"
            ],
            "text/html": [
              "<pre style=\"white-space:pre;overflow-x:auto;line-height:normal;font-family:Menlo,'DejaVu Sans Mono',consolas,'Courier New',monospace\">[2023-02-07T09:03:31.530636+00:00] Downloading \n",
              "pandas-1.4.4-cp39-cp39-manylinux_2_17_x86_64.manylinux2014_x86_64.whl (11.7 MB)\n",
              "</pre>\n"
            ]
          },
          "metadata": {}
        },
        {
          "output_type": "display_data",
          "data": {
            "text/plain": [
              "[2023-02-07T09:03:31.576575+00:00] ━━━━━━━━━━━━━━━━━━━━━━━━━━━━━━━━━━━━━━━ 11.7/11.7 MB 311.6 MB/s eta 0:00:00\n"
            ],
            "text/html": [
              "<pre style=\"white-space:pre;overflow-x:auto;line-height:normal;font-family:Menlo,'DejaVu Sans Mono',consolas,'Courier New',monospace\">[2023-02-07T09:03:31.576575+00:00] ━━━━━━━━━━━━━━━━━━━━━━━━━━━━━━━━━━━━━━━ 11.7/11.7 MB 311.6 MB/s eta 0:00:00\n",
              "</pre>\n"
            ]
          },
          "metadata": {}
        },
        {
          "output_type": "display_data",
          "data": {
            "text/plain": [
              "[2023-02-07T09:03:31.678327+00:00] Collecting streamlit>=1.13.0\n"
            ],
            "text/html": [
              "<pre style=\"white-space:pre;overflow-x:auto;line-height:normal;font-family:Menlo,'DejaVu Sans Mono',consolas,'Courier New',monospace\">[2023-02-07T09:03:31.678327+00:00] Collecting streamlit&gt;=1.13.0\n",
              "</pre>\n"
            ]
          },
          "metadata": {}
        },
        {
          "output_type": "display_data",
          "data": {
            "text/plain": [
              "[2023-02-07T09:03:31.683682+00:00] Downloading streamlit-1.17.0-py2.py3-none-any.whl (9.3 MB)\n"
            ],
            "text/html": [
              "<pre style=\"white-space:pre;overflow-x:auto;line-height:normal;font-family:Menlo,'DejaVu Sans Mono',consolas,'Courier New',monospace\">[2023-02-07T09:03:31.683682+00:00] Downloading streamlit-1.17.0-py2.py3-none-any.whl (9.3 MB)\n",
              "</pre>\n"
            ]
          },
          "metadata": {}
        },
        {
          "output_type": "display_data",
          "data": {
            "text/plain": [
              "[2023-02-07T09:03:31.721303+00:00] ━━━━━━━━━━━━━━━━━━━━━━━━━━━━━━━━━━━━━━━━ 9.3/9.3 MB 262.9 MB/s eta 0:00:00\n"
            ],
            "text/html": [
              "<pre style=\"white-space:pre;overflow-x:auto;line-height:normal;font-family:Menlo,'DejaVu Sans Mono',consolas,'Courier New',monospace\">[2023-02-07T09:03:31.721303+00:00] ━━━━━━━━━━━━━━━━━━━━━━━━━━━━━━━━━━━━━━━━ 9.3/9.3 MB 262.9 MB/s eta 0:00:00\n",
              "</pre>\n"
            ]
          },
          "metadata": {}
        },
        {
          "output_type": "display_data",
          "data": {
            "text/plain": [
              "[2023-02-07T09:03:31.816907+00:00] Collecting pytz>=2020.1\n"
            ],
            "text/html": [
              "<pre style=\"white-space:pre;overflow-x:auto;line-height:normal;font-family:Menlo,'DejaVu Sans Mono',consolas,'Courier New',monospace\">[2023-02-07T09:03:31.816907+00:00] Collecting pytz&gt;=2020.1\n",
              "</pre>\n"
            ]
          },
          "metadata": {}
        },
        {
          "output_type": "display_data",
          "data": {
            "text/plain": [
              "[2023-02-07T09:03:31.821023+00:00] Downloading pytz-2022.7.1-py2.py3-none-any.whl (499 kB)\n"
            ],
            "text/html": [
              "<pre style=\"white-space:pre;overflow-x:auto;line-height:normal;font-family:Menlo,'DejaVu Sans Mono',consolas,'Courier New',monospace\">[2023-02-07T09:03:31.821023+00:00] Downloading pytz-2022.7.1-py2.py3-none-any.whl (499 kB)\n",
              "</pre>\n"
            ]
          },
          "metadata": {}
        },
        {
          "output_type": "display_data",
          "data": {
            "text/plain": [
              "[2023-02-07T09:03:31.824908+00:00] ━━━━━━━━━━━━━━━━━━━━━━━━━━━━━━━━━━━━━ 499.4/499.4 kB 383.8 MB/s eta 0:00:00\n"
            ],
            "text/html": [
              "<pre style=\"white-space:pre;overflow-x:auto;line-height:normal;font-family:Menlo,'DejaVu Sans Mono',consolas,'Courier New',monospace\">[2023-02-07T09:03:31.824908+00:00] ━━━━━━━━━━━━━━━━━━━━━━━━━━━━━━━━━━━━━ 499.4/499.4 kB 383.8 MB/s eta 0:00:00\n",
              "</pre>\n"
            ]
          },
          "metadata": {}
        },
        {
          "output_type": "display_data",
          "data": {
            "text/plain": [
              "[2023-02-07T09:03:32.155551+00:00] Collecting numpy>=1.18.5\n"
            ],
            "text/html": [
              "<pre style=\"white-space:pre;overflow-x:auto;line-height:normal;font-family:Menlo,'DejaVu Sans Mono',consolas,'Courier New',monospace\">[2023-02-07T09:03:32.155551+00:00] Collecting numpy&gt;=1.18.5\n",
              "</pre>\n"
            ]
          },
          "metadata": {}
        },
        {
          "output_type": "display_data",
          "data": {
            "text/plain": [
              "[2023-02-07T09:03:32.159496+00:00] Downloading \n",
              "numpy-1.24.2-cp39-cp39-manylinux_2_17_x86_64.manylinux2014_x86_64.whl (17.3 MB)\n"
            ],
            "text/html": [
              "<pre style=\"white-space:pre;overflow-x:auto;line-height:normal;font-family:Menlo,'DejaVu Sans Mono',consolas,'Courier New',monospace\">[2023-02-07T09:03:32.159496+00:00] Downloading \n",
              "numpy-1.24.2-cp39-cp39-manylinux_2_17_x86_64.manylinux2014_x86_64.whl (17.3 MB)\n",
              "</pre>\n"
            ]
          },
          "metadata": {}
        },
        {
          "output_type": "display_data",
          "data": {
            "text/plain": [
              "[2023-02-07T09:03:32.222309+00:00] ━━━━━━━━━━━━━━━━━━━━━━━━━━━━━━━━━━━━━━━ 17.3/17.3 MB 282.4 MB/s eta 0:00:00\n"
            ],
            "text/html": [
              "<pre style=\"white-space:pre;overflow-x:auto;line-height:normal;font-family:Menlo,'DejaVu Sans Mono',consolas,'Courier New',monospace\">[2023-02-07T09:03:32.222309+00:00] ━━━━━━━━━━━━━━━━━━━━━━━━━━━━━━━━━━━━━━━ 17.3/17.3 MB 282.4 MB/s eta 0:00:00\n",
              "</pre>\n"
            ]
          },
          "metadata": {}
        },
        {
          "output_type": "display_data",
          "data": {
            "text/plain": [
              "[2023-02-07T09:03:32.277379+00:00] Collecting python-dateutil>=2.8.1\n"
            ],
            "text/html": [
              "<pre style=\"white-space:pre;overflow-x:auto;line-height:normal;font-family:Menlo,'DejaVu Sans Mono',consolas,'Courier New',monospace\">[2023-02-07T09:03:32.277379+00:00] Collecting python-dateutil&gt;=2.8.1\n",
              "</pre>\n"
            ]
          },
          "metadata": {}
        },
        {
          "output_type": "display_data",
          "data": {
            "text/plain": [
              "[2023-02-07T09:03:32.281279+00:00] Downloading python_dateutil-2.8.2-py2.py3-none-any.whl (247 kB)\n"
            ],
            "text/html": [
              "<pre style=\"white-space:pre;overflow-x:auto;line-height:normal;font-family:Menlo,'DejaVu Sans Mono',consolas,'Courier New',monospace\">[2023-02-07T09:03:32.281279+00:00] Downloading python_dateutil-2.8.2-py2.py3-none-any.whl (247 kB)\n",
              "</pre>\n"
            ]
          },
          "metadata": {}
        },
        {
          "output_type": "display_data",
          "data": {
            "text/plain": [
              "[2023-02-07T09:03:32.359791+00:00] Collecting requests>=2.4\n"
            ],
            "text/html": [
              "<pre style=\"white-space:pre;overflow-x:auto;line-height:normal;font-family:Menlo,'DejaVu Sans Mono',consolas,'Courier New',monospace\">[2023-02-07T09:03:32.359791+00:00] Collecting requests&gt;=2.4\n",
              "</pre>\n"
            ]
          },
          "metadata": {}
        },
        {
          "output_type": "display_data",
          "data": {
            "text/plain": [
              "[2023-02-07T09:03:32.364130+00:00] Downloading requests-2.28.2-py3-none-any.whl (62 kB)\n"
            ],
            "text/html": [
              "<pre style=\"white-space:pre;overflow-x:auto;line-height:normal;font-family:Menlo,'DejaVu Sans Mono',consolas,'Courier New',monospace\">[2023-02-07T09:03:32.364130+00:00] Downloading requests-2.28.2-py3-none-any.whl (62 kB)\n",
              "</pre>\n"
            ]
          },
          "metadata": {}
        },
        {
          "output_type": "display_data",
          "data": {
            "text/plain": [
              "[2023-02-07T09:03:32.366699+00:00] ━━━━━━━━━━━━━━━━━━━━━━━━━━━━━━━━━━━━━━━ 62.8/62.8 kB 279.9 MB/s eta 0:00:00\n"
            ],
            "text/html": [
              "<pre style=\"white-space:pre;overflow-x:auto;line-height:normal;font-family:Menlo,'DejaVu Sans Mono',consolas,'Courier New',monospace\">[2023-02-07T09:03:32.366699+00:00] ━━━━━━━━━━━━━━━━━━━━━━━━━━━━━━━━━━━━━━━ 62.8/62.8 kB 279.9 MB/s eta 0:00:00\n",
              "</pre>\n"
            ]
          },
          "metadata": {}
        },
        {
          "output_type": "display_data",
          "data": {
            "text/plain": [
              "[2023-02-07T09:03:32.680632+00:00] Collecting pillow>=6.2.0\n"
            ],
            "text/html": [
              "<pre style=\"white-space:pre;overflow-x:auto;line-height:normal;font-family:Menlo,'DejaVu Sans Mono',consolas,'Courier New',monospace\">[2023-02-07T09:03:32.680632+00:00] Collecting pillow&gt;=6.2.0\n",
              "</pre>\n"
            ]
          },
          "metadata": {}
        },
        {
          "output_type": "display_data",
          "data": {
            "text/plain": [
              "[2023-02-07T09:03:32.684601+00:00] Downloading Pillow-9.4.0-cp39-cp39-manylinux_2_28_x86_64.whl (3.4 MB)\n"
            ],
            "text/html": [
              "<pre style=\"white-space:pre;overflow-x:auto;line-height:normal;font-family:Menlo,'DejaVu Sans Mono',consolas,'Courier New',monospace\">[2023-02-07T09:03:32.684601+00:00] Downloading Pillow-9.4.0-cp39-cp39-manylinux_2_28_x86_64.whl (3.4 MB)\n",
              "</pre>\n"
            ]
          },
          "metadata": {}
        },
        {
          "output_type": "display_data",
          "data": {
            "text/plain": [
              "[2023-02-07T09:03:32.697870+00:00] ━━━━━━━━━━━━━━━━━━━━━━━━━━━━━━━━━━━━━━━━ 3.4/3.4 MB 315.7 MB/s eta 0:00:00\n"
            ],
            "text/html": [
              "<pre style=\"white-space:pre;overflow-x:auto;line-height:normal;font-family:Menlo,'DejaVu Sans Mono',consolas,'Courier New',monospace\">[2023-02-07T09:03:32.697870+00:00] ━━━━━━━━━━━━━━━━━━━━━━━━━━━━━━━━━━━━━━━━ 3.4/3.4 MB 315.7 MB/s eta 0:00:00\n",
              "</pre>\n"
            ]
          },
          "metadata": {}
        },
        {
          "output_type": "display_data",
          "data": {
            "text/plain": [
              "[2023-02-07T09:03:32.726740+00:00] Collecting pympler>=0.9\n"
            ],
            "text/html": [
              "<pre style=\"white-space:pre;overflow-x:auto;line-height:normal;font-family:Menlo,'DejaVu Sans Mono',consolas,'Courier New',monospace\">[2023-02-07T09:03:32.726740+00:00] Collecting pympler&gt;=0.9\n",
              "</pre>\n"
            ]
          },
          "metadata": {}
        },
        {
          "output_type": "display_data",
          "data": {
            "text/plain": [
              "[2023-02-07T09:03:32.731403+00:00] Downloading Pympler-1.0.1-py3-none-any.whl (164 kB)\n"
            ],
            "text/html": [
              "<pre style=\"white-space:pre;overflow-x:auto;line-height:normal;font-family:Menlo,'DejaVu Sans Mono',consolas,'Courier New',monospace\">[2023-02-07T09:03:32.731403+00:00] Downloading Pympler-1.0.1-py3-none-any.whl (164 kB)\n",
              "</pre>\n"
            ]
          },
          "metadata": {}
        },
        {
          "output_type": "display_data",
          "data": {
            "text/plain": [
              "[2023-02-07T09:03:32.758536+00:00] Collecting toml\n"
            ],
            "text/html": [
              "<pre style=\"white-space:pre;overflow-x:auto;line-height:normal;font-family:Menlo,'DejaVu Sans Mono',consolas,'Courier New',monospace\">[2023-02-07T09:03:32.758536+00:00] Collecting toml\n",
              "</pre>\n"
            ]
          },
          "metadata": {}
        },
        {
          "output_type": "display_data",
          "data": {
            "text/plain": [
              "[2023-02-07T09:03:32.734408+00:00] ━━━━━━━━━━━━━━━━━━━━━━━━━━━━━━━━━━━━━ 164.8/164.8 kB 346.2 MB/s eta 0:00:00\n"
            ],
            "text/html": [
              "<pre style=\"white-space:pre;overflow-x:auto;line-height:normal;font-family:Menlo,'DejaVu Sans Mono',consolas,'Courier New',monospace\">[2023-02-07T09:03:32.734408+00:00] ━━━━━━━━━━━━━━━━━━━━━━━━━━━━━━━━━━━━━ 164.8/164.8 kB 346.2 MB/s eta 0:00:00\n",
              "</pre>\n"
            ]
          },
          "metadata": {}
        },
        {
          "output_type": "display_data",
          "data": {
            "text/plain": [
              "[2023-02-07T09:03:32.762361+00:00] Downloading toml-0.10.2-py2.py3-none-any.whl (16 kB)\n"
            ],
            "text/html": [
              "<pre style=\"white-space:pre;overflow-x:auto;line-height:normal;font-family:Menlo,'DejaVu Sans Mono',consolas,'Courier New',monospace\">[2023-02-07T09:03:32.762361+00:00] Downloading toml-0.10.2-py2.py3-none-any.whl (16 kB)\n",
              "</pre>\n"
            ]
          },
          "metadata": {}
        },
        {
          "output_type": "display_data",
          "data": {
            "text/plain": [
              "[2023-02-07T09:03:32.827994+00:00] Collecting tornado>=5.0\n"
            ],
            "text/html": [
              "<pre style=\"white-space:pre;overflow-x:auto;line-height:normal;font-family:Menlo,'DejaVu Sans Mono',consolas,'Courier New',monospace\">[2023-02-07T09:03:32.827994+00:00] Collecting tornado&gt;=5.0\n",
              "</pre>\n"
            ]
          },
          "metadata": {}
        },
        {
          "output_type": "display_data",
          "data": {
            "text/plain": [
              "[2023-02-07T09:03:32.832028+00:00] Downloading \n",
              "tornado-6.2-cp37-abi3-manylinux_2_5_x86_64.manylinux1_x86_64.manylinux_2_17_x86_64.manylinux2014_x86_64.whl (423 \n",
              "kB)\n"
            ],
            "text/html": [
              "<pre style=\"white-space:pre;overflow-x:auto;line-height:normal;font-family:Menlo,'DejaVu Sans Mono',consolas,'Courier New',monospace\">[2023-02-07T09:03:32.832028+00:00] Downloading \n",
              "tornado-6.2-cp37-abi3-manylinux_2_5_x86_64.manylinux1_x86_64.manylinux_2_17_x86_64.manylinux2014_x86_64.whl (423 \n",
              "kB)\n",
              "</pre>\n"
            ]
          },
          "metadata": {}
        },
        {
          "output_type": "display_data",
          "data": {
            "text/plain": [
              "[2023-02-07T09:03:32.835795+00:00] ━━━━━━━━━━━━━━━━━━━━━━━━━━━━━━━━━━━━━ 424.0/424.0 kB 353.2 MB/s eta 0:00:00\n"
            ],
            "text/html": [
              "<pre style=\"white-space:pre;overflow-x:auto;line-height:normal;font-family:Menlo,'DejaVu Sans Mono',consolas,'Courier New',monospace\">[2023-02-07T09:03:32.835795+00:00] ━━━━━━━━━━━━━━━━━━━━━━━━━━━━━━━━━━━━━ 424.0/424.0 kB 353.2 MB/s eta 0:00:00\n",
              "</pre>\n"
            ]
          },
          "metadata": {}
        },
        {
          "output_type": "display_data",
          "data": {
            "text/plain": [
              "[2023-02-07T09:03:32.859504+00:00] Collecting blinker>=1.0.0\n"
            ],
            "text/html": [
              "<pre style=\"white-space:pre;overflow-x:auto;line-height:normal;font-family:Menlo,'DejaVu Sans Mono',consolas,'Courier New',monospace\">[2023-02-07T09:03:32.859504+00:00] Collecting blinker&gt;=1.0.0\n",
              "</pre>\n"
            ]
          },
          "metadata": {}
        },
        {
          "output_type": "display_data",
          "data": {
            "text/plain": [
              "[2023-02-07T09:03:32.863603+00:00] Downloading blinker-1.5-py2.py3-none-any.whl (12 kB)\n"
            ],
            "text/html": [
              "<pre style=\"white-space:pre;overflow-x:auto;line-height:normal;font-family:Menlo,'DejaVu Sans Mono',consolas,'Courier New',monospace\">[2023-02-07T09:03:32.863603+00:00] Downloading blinker-1.5-py2.py3-none-any.whl (12 kB)\n",
              "</pre>\n"
            ]
          },
          "metadata": {}
        },
        {
          "output_type": "display_data",
          "data": {
            "text/plain": [
              "[2023-02-07T09:03:32.911487+00:00] ━━━━━━━━━━━━━━━━━━━━━━━━━━━━━━━━━━━━━━━ 42.7/42.7 kB 184.1 MB/s eta 0:00:00\n"
            ],
            "text/html": [
              "<pre style=\"white-space:pre;overflow-x:auto;line-height:normal;font-family:Menlo,'DejaVu Sans Mono',consolas,'Courier New',monospace\">[2023-02-07T09:03:32.911487+00:00] ━━━━━━━━━━━━━━━━━━━━━━━━━━━━━━━━━━━━━━━ 42.7/42.7 kB 184.1 MB/s eta 0:00:00\n",
              "</pre>\n"
            ]
          },
          "metadata": {}
        },
        {
          "output_type": "display_data",
          "data": {
            "text/plain": [
              "[2023-02-07T09:03:32.986652+00:00] Collecting click>=7.0\n"
            ],
            "text/html": [
              "<pre style=\"white-space:pre;overflow-x:auto;line-height:normal;font-family:Menlo,'DejaVu Sans Mono',consolas,'Courier New',monospace\">[2023-02-07T09:03:32.986652+00:00] Collecting click&gt;=7.0\n",
              "</pre>\n"
            ]
          },
          "metadata": {}
        },
        {
          "output_type": "display_data",
          "data": {
            "text/plain": [
              "[2023-02-07T09:03:32.990422+00:00] Downloading click-8.1.3-py3-none-any.whl (96 kB)\n"
            ],
            "text/html": [
              "<pre style=\"white-space:pre;overflow-x:auto;line-height:normal;font-family:Menlo,'DejaVu Sans Mono',consolas,'Courier New',monospace\">[2023-02-07T09:03:32.990422+00:00] Downloading click-8.1.3-py3-none-any.whl (96 kB)\n",
              "</pre>\n"
            ]
          },
          "metadata": {}
        },
        {
          "output_type": "display_data",
          "data": {
            "text/plain": [
              "[2023-02-07T09:03:32.993181+00:00] ━━━━━━━━━━━━━━━━━━━━━━━━━━━━━━━━━━━━━━━ 96.6/96.6 kB 317.3 MB/s eta 0:00:00\n"
            ],
            "text/html": [
              "<pre style=\"white-space:pre;overflow-x:auto;line-height:normal;font-family:Menlo,'DejaVu Sans Mono',consolas,'Courier New',monospace\">[2023-02-07T09:03:32.993181+00:00] ━━━━━━━━━━━━━━━━━━━━━━━━━━━━━━━━━━━━━━━ 96.6/96.6 kB 317.3 MB/s eta 0:00:00\n",
              "</pre>\n"
            ]
          },
          "metadata": {}
        },
        {
          "output_type": "display_data",
          "data": {
            "text/plain": [
              "[2023-02-07T09:03:33.020333+00:00] Collecting validators>=0.2\n"
            ],
            "text/html": [
              "<pre style=\"white-space:pre;overflow-x:auto;line-height:normal;font-family:Menlo,'DejaVu Sans Mono',consolas,'Courier New',monospace\">[2023-02-07T09:03:33.020333+00:00] Collecting validators&gt;=0.2\n",
              "</pre>\n"
            ]
          },
          "metadata": {}
        },
        {
          "output_type": "display_data",
          "data": {
            "text/plain": [
              "[2023-02-07T09:03:33.025021+00:00] Downloading validators-0.20.0.tar.gz (30 kB)\n"
            ],
            "text/html": [
              "<pre style=\"white-space:pre;overflow-x:auto;line-height:normal;font-family:Menlo,'DejaVu Sans Mono',consolas,'Courier New',monospace\">[2023-02-07T09:03:33.025021+00:00] Downloading validators-0.20.0.tar.gz (30 kB)\n",
              "</pre>\n"
            ]
          },
          "metadata": {}
        },
        {
          "output_type": "display_data",
          "data": {
            "text/plain": [
              "[2023-02-07T09:03:33.040464+00:00] Preparing metadata (setup.py): started\n"
            ],
            "text/html": [
              "<pre style=\"white-space:pre;overflow-x:auto;line-height:normal;font-family:Menlo,'DejaVu Sans Mono',consolas,'Courier New',monospace\">[2023-02-07T09:03:33.040464+00:00] Preparing metadata (setup.py): started\n",
              "</pre>\n"
            ]
          },
          "metadata": {}
        },
        {
          "output_type": "display_data",
          "data": {
            "text/plain": [
              "[2023-02-07T09:03:33.324685+00:00] Preparing metadata (setup.py): finished with status 'done'\n"
            ],
            "text/html": [
              "<pre style=\"white-space:pre;overflow-x:auto;line-height:normal;font-family:Menlo,'DejaVu Sans Mono',consolas,'Courier New',monospace\">[2023-02-07T09:03:33.324685+00:00] Preparing metadata (setup.py): finished with status 'done'\n",
              "</pre>\n"
            ]
          },
          "metadata": {}
        },
        {
          "output_type": "display_data",
          "data": {
            "text/plain": [
              "[2023-02-07T09:03:33.444031+00:00] Collecting pyarrow>=4.0\n"
            ],
            "text/html": [
              "<pre style=\"white-space:pre;overflow-x:auto;line-height:normal;font-family:Menlo,'DejaVu Sans Mono',consolas,'Courier New',monospace\">[2023-02-07T09:03:33.444031+00:00] Collecting pyarrow&gt;=4.0\n",
              "</pre>\n"
            ]
          },
          "metadata": {}
        },
        {
          "output_type": "display_data",
          "data": {
            "text/plain": [
              "[2023-02-07T09:03:33.449939+00:00] Downloading \n",
              "pyarrow-11.0.0-cp39-cp39-manylinux_2_17_x86_64.manylinux2014_x86_64.whl (34.9 MB)\n"
            ],
            "text/html": [
              "<pre style=\"white-space:pre;overflow-x:auto;line-height:normal;font-family:Menlo,'DejaVu Sans Mono',consolas,'Courier New',monospace\">[2023-02-07T09:03:33.449939+00:00] Downloading \n",
              "pyarrow-11.0.0-cp39-cp39-manylinux_2_17_x86_64.manylinux2014_x86_64.whl (34.9 MB)\n",
              "</pre>\n"
            ]
          },
          "metadata": {}
        },
        {
          "output_type": "display_data",
          "data": {
            "text/plain": [
              "[2023-02-07T09:03:33.570080+00:00] ━━━━━━━━━━━━━━━━━━━━━━━━━━━━━━━━━━━━━━━ 34.9/34.9 MB 336.9 MB/s eta 0:00:00\n"
            ],
            "text/html": [
              "<pre style=\"white-space:pre;overflow-x:auto;line-height:normal;font-family:Menlo,'DejaVu Sans Mono',consolas,'Courier New',monospace\">[2023-02-07T09:03:33.570080+00:00] ━━━━━━━━━━━━━━━━━━━━━━━━━━━━━━━━━━━━━━━ 34.9/34.9 MB 336.9 MB/s eta 0:00:00\n",
              "</pre>\n"
            ]
          },
          "metadata": {}
        },
        {
          "output_type": "display_data",
          "data": {
            "text/plain": [
              "[2023-02-07T09:03:33.644094+00:00] Collecting pydeck>=0.1.dev5\n"
            ],
            "text/html": [
              "<pre style=\"white-space:pre;overflow-x:auto;line-height:normal;font-family:Menlo,'DejaVu Sans Mono',consolas,'Courier New',monospace\">[2023-02-07T09:03:33.644094+00:00] Collecting pydeck&gt;=0.1.dev5\n",
              "</pre>\n"
            ]
          },
          "metadata": {}
        },
        {
          "output_type": "display_data",
          "data": {
            "text/plain": [
              "[2023-02-07T09:03:33.649070+00:00] Downloading pydeck-0.8.0-py2.py3-none-any.whl (4.7 MB)\n"
            ],
            "text/html": [
              "<pre style=\"white-space:pre;overflow-x:auto;line-height:normal;font-family:Menlo,'DejaVu Sans Mono',consolas,'Courier New',monospace\">[2023-02-07T09:03:33.649070+00:00] Downloading pydeck-0.8.0-py2.py3-none-any.whl (4.7 MB)\n",
              "</pre>\n"
            ]
          },
          "metadata": {}
        },
        {
          "output_type": "display_data",
          "data": {
            "text/plain": [
              "[2023-02-07T09:03:33.701261+00:00] Collecting tzlocal>=1.1\n"
            ],
            "text/html": [
              "<pre style=\"white-space:pre;overflow-x:auto;line-height:normal;font-family:Menlo,'DejaVu Sans Mono',consolas,'Courier New',monospace\">[2023-02-07T09:03:33.701261+00:00] Collecting tzlocal&gt;=1.1\n",
              "</pre>\n"
            ]
          },
          "metadata": {}
        },
        {
          "output_type": "display_data",
          "data": {
            "text/plain": [
              "[2023-02-07T09:03:33.705107+00:00] Downloading tzlocal-4.2-py3-none-any.whl (19 kB)\n"
            ],
            "text/html": [
              "<pre style=\"white-space:pre;overflow-x:auto;line-height:normal;font-family:Menlo,'DejaVu Sans Mono',consolas,'Courier New',monospace\">[2023-02-07T09:03:33.705107+00:00] Downloading tzlocal-4.2-py3-none-any.whl (19 kB)\n",
              "</pre>\n"
            ]
          },
          "metadata": {}
        },
        {
          "output_type": "display_data",
          "data": {
            "text/plain": [
              "[2023-02-07T09:03:33.665818+00:00] ━━━━━━━━━━━━━━━━━━━━━━━━━━━━━━━━━━━━━━━━ 4.7/4.7 MB 332.3 MB/s eta 0:00:00\n"
            ],
            "text/html": [
              "<pre style=\"white-space:pre;overflow-x:auto;line-height:normal;font-family:Menlo,'DejaVu Sans Mono',consolas,'Courier New',monospace\">[2023-02-07T09:03:33.665818+00:00] ━━━━━━━━━━━━━━━━━━━━━━━━━━━━━━━━━━━━━━━━ 4.7/4.7 MB 332.3 MB/s eta 0:00:00\n",
              "</pre>\n"
            ]
          },
          "metadata": {}
        },
        {
          "output_type": "display_data",
          "data": {
            "text/plain": [
              "[2023-02-07T09:03:33.995531+00:00] Collecting protobuf<4,>=3.12\n"
            ],
            "text/html": [
              "<pre style=\"white-space:pre;overflow-x:auto;line-height:normal;font-family:Menlo,'DejaVu Sans Mono',consolas,'Courier New',monospace\">[2023-02-07T09:03:33.995531+00:00] Collecting protobuf&lt;4,&gt;=3.12\n",
              "</pre>\n"
            ]
          },
          "metadata": {}
        },
        {
          "output_type": "display_data",
          "data": {
            "text/plain": [
              "[2023-02-07T09:03:34.004596+00:00] ━━━━━━━━━━━━━━━━━━━━━━━━━━━━━━━━━━━━━━━━ 1.0/1.0 MB 360.7 MB/s eta 0:00:00\n"
            ],
            "text/html": [
              "<pre style=\"white-space:pre;overflow-x:auto;line-height:normal;font-family:Menlo,'DejaVu Sans Mono',consolas,'Courier New',monospace\">[2023-02-07T09:03:34.004596+00:00] ━━━━━━━━━━━━━━━━━━━━━━━━━━━━━━━━━━━━━━━━ 1.0/1.0 MB 360.7 MB/s eta 0:00:00\n",
              "</pre>\n"
            ]
          },
          "metadata": {}
        },
        {
          "output_type": "display_data",
          "data": {
            "text/plain": [
              "[2023-02-07T09:03:34.107661+00:00] Collecting rich>=10.11.0\n"
            ],
            "text/html": [
              "<pre style=\"white-space:pre;overflow-x:auto;line-height:normal;font-family:Menlo,'DejaVu Sans Mono',consolas,'Courier New',monospace\">[2023-02-07T09:03:34.107661+00:00] Collecting rich&gt;=10.11.0\n",
              "</pre>\n"
            ]
          },
          "metadata": {}
        },
        {
          "output_type": "display_data",
          "data": {
            "text/plain": [
              "[2023-02-07T09:03:34.146220+00:00] Collecting semver\n"
            ],
            "text/html": [
              "<pre style=\"white-space:pre;overflow-x:auto;line-height:normal;font-family:Menlo,'DejaVu Sans Mono',consolas,'Courier New',monospace\">[2023-02-07T09:03:34.146220+00:00] Collecting semver\n",
              "</pre>\n"
            ]
          },
          "metadata": {}
        },
        {
          "output_type": "display_data",
          "data": {
            "text/plain": [
              "[2023-02-07T09:03:33.999379+00:00] Downloading protobuf-3.20.3-cp39-cp39-manylinux_2_5_x86_64.manylinux1_x86_64.whl\n",
              "(1.0 MB)\n"
            ],
            "text/html": [
              "<pre style=\"white-space:pre;overflow-x:auto;line-height:normal;font-family:Menlo,'DejaVu Sans Mono',consolas,'Courier New',monospace\">[2023-02-07T09:03:33.999379+00:00] Downloading protobuf-3.20.3-cp39-cp39-manylinux_2_5_x86_64.manylinux1_x86_64.whl\n",
              "(1.0 MB)\n",
              "</pre>\n"
            ]
          },
          "metadata": {}
        },
        {
          "output_type": "display_data",
          "data": {
            "text/plain": [
              "[2023-02-07T09:03:34.111385+00:00] Downloading rich-13.3.1-py3-none-any.whl (239 kB)\n"
            ],
            "text/html": [
              "<pre style=\"white-space:pre;overflow-x:auto;line-height:normal;font-family:Menlo,'DejaVu Sans Mono',consolas,'Courier New',monospace\">[2023-02-07T09:03:34.111385+00:00] Downloading rich-13.3.1-py3-none-any.whl (239 kB)\n",
              "</pre>\n"
            ]
          },
          "metadata": {}
        },
        {
          "output_type": "display_data",
          "data": {
            "text/plain": [
              "[2023-02-07T09:03:34.150156+00:00] Downloading semver-2.13.0-py2.py3-none-any.whl (12 kB)\n"
            ],
            "text/html": [
              "<pre style=\"white-space:pre;overflow-x:auto;line-height:normal;font-family:Menlo,'DejaVu Sans Mono',consolas,'Courier New',monospace\">[2023-02-07T09:03:34.150156+00:00] Downloading semver-2.13.0-py2.py3-none-any.whl (12 kB)\n",
              "</pre>\n"
            ]
          },
          "metadata": {}
        },
        {
          "output_type": "display_data",
          "data": {
            "text/plain": [
              "[2023-02-07T09:03:34.231216+00:00] Collecting watchdog\n"
            ],
            "text/html": [
              "<pre style=\"white-space:pre;overflow-x:auto;line-height:normal;font-family:Menlo,'DejaVu Sans Mono',consolas,'Courier New',monospace\">[2023-02-07T09:03:34.231216+00:00] Collecting watchdog\n",
              "</pre>\n"
            ]
          },
          "metadata": {}
        },
        {
          "output_type": "display_data",
          "data": {
            "text/plain": [
              "[2023-02-07T09:03:34.114472+00:00] ━━━━━━━━━━━━━━━━━━━━━━━━━━━━━━━━━━━━━ 239.0/239.0 kB 359.7 MB/s eta 0:00:00\n"
            ],
            "text/html": [
              "<pre style=\"white-space:pre;overflow-x:auto;line-height:normal;font-family:Menlo,'DejaVu Sans Mono',consolas,'Courier New',monospace\">[2023-02-07T09:03:34.114472+00:00] ━━━━━━━━━━━━━━━━━━━━━━━━━━━━━━━━━━━━━ 239.0/239.0 kB 359.7 MB/s eta 0:00:00\n",
              "</pre>\n"
            ]
          },
          "metadata": {}
        },
        {
          "output_type": "display_data",
          "data": {
            "text/plain": [
              "[2023-02-07T09:03:34.235048+00:00] Downloading watchdog-2.2.1-py3-none-manylinux2014_x86_64.whl (78 kB)\n"
            ],
            "text/html": [
              "<pre style=\"white-space:pre;overflow-x:auto;line-height:normal;font-family:Menlo,'DejaVu Sans Mono',consolas,'Courier New',monospace\">[2023-02-07T09:03:34.235048+00:00] Downloading watchdog-2.2.1-py3-none-manylinux2014_x86_64.whl (78 kB)\n",
              "</pre>\n"
            ]
          },
          "metadata": {}
        },
        {
          "output_type": "display_data",
          "data": {
            "text/plain": [
              "[2023-02-07T09:03:34.237709+00:00] ━━━━━━━━━━━━━━━━━━━━━━━━━━━━━━━━━━━━━━━ 79.0/79.0 kB 284.9 MB/s eta 0:00:00\n"
            ],
            "text/html": [
              "<pre style=\"white-space:pre;overflow-x:auto;line-height:normal;font-family:Menlo,'DejaVu Sans Mono',consolas,'Courier New',monospace\">[2023-02-07T09:03:34.237709+00:00] ━━━━━━━━━━━━━━━━━━━━━━━━━━━━━━━━━━━━━━━ 79.0/79.0 kB 284.9 MB/s eta 0:00:00\n",
              "</pre>\n"
            ]
          },
          "metadata": {}
        },
        {
          "output_type": "display_data",
          "data": {
            "text/plain": [
              "[2023-02-07T09:03:34.272624+00:00] Collecting cachetools>=4.0\n"
            ],
            "text/html": [
              "<pre style=\"white-space:pre;overflow-x:auto;line-height:normal;font-family:Menlo,'DejaVu Sans Mono',consolas,'Courier New',monospace\">[2023-02-07T09:03:34.272624+00:00] Collecting cachetools&gt;=4.0\n",
              "</pre>\n"
            ]
          },
          "metadata": {}
        },
        {
          "output_type": "display_data",
          "data": {
            "text/plain": [
              "[2023-02-07T09:03:34.276417+00:00] Downloading cachetools-5.3.0-py3-none-any.whl (9.3 kB)\n"
            ],
            "text/html": [
              "<pre style=\"white-space:pre;overflow-x:auto;line-height:normal;font-family:Menlo,'DejaVu Sans Mono',consolas,'Courier New',monospace\">[2023-02-07T09:03:34.276417+00:00] Downloading cachetools-5.3.0-py3-none-any.whl (9.3 kB)\n",
              "</pre>\n"
            ]
          },
          "metadata": {}
        },
        {
          "output_type": "display_data",
          "data": {
            "text/plain": [
              "[2023-02-07T09:03:34.306071+00:00] Collecting altair>=3.2.0\n"
            ],
            "text/html": [
              "<pre style=\"white-space:pre;overflow-x:auto;line-height:normal;font-family:Menlo,'DejaVu Sans Mono',consolas,'Courier New',monospace\">[2023-02-07T09:03:34.306071+00:00] Collecting altair&gt;=3.2.0\n",
              "</pre>\n"
            ]
          },
          "metadata": {}
        },
        {
          "output_type": "display_data",
          "data": {
            "text/plain": [
              "[2023-02-07T09:03:34.310743+00:00] Downloading altair-4.2.2-py3-none-any.whl (813 kB)\n"
            ],
            "text/html": [
              "<pre style=\"white-space:pre;overflow-x:auto;line-height:normal;font-family:Menlo,'DejaVu Sans Mono',consolas,'Courier New',monospace\">[2023-02-07T09:03:34.310743+00:00] Downloading altair-4.2.2-py3-none-any.whl (813 kB)\n",
              "</pre>\n"
            ]
          },
          "metadata": {}
        },
        {
          "output_type": "display_data",
          "data": {
            "text/plain": [
              "[2023-02-07T09:03:34.315491+00:00] ━━━━━━━━━━━━━━━━━━━━━━━━━━━━━━━━━━━━━ 813.6/813.6 kB 371.6 MB/s eta 0:00:00\n"
            ],
            "text/html": [
              "<pre style=\"white-space:pre;overflow-x:auto;line-height:normal;font-family:Menlo,'DejaVu Sans Mono',consolas,'Courier New',monospace\">[2023-02-07T09:03:34.315491+00:00] ━━━━━━━━━━━━━━━━━━━━━━━━━━━━━━━━━━━━━ 813.6/813.6 kB 371.6 MB/s eta 0:00:00\n",
              "</pre>\n"
            ]
          },
          "metadata": {}
        },
        {
          "output_type": "display_data",
          "data": {
            "text/plain": [
              "[2023-02-07T09:03:34.371470+00:00] Collecting gitpython!=3.1.19\n"
            ],
            "text/html": [
              "<pre style=\"white-space:pre;overflow-x:auto;line-height:normal;font-family:Menlo,'DejaVu Sans Mono',consolas,'Courier New',monospace\">[2023-02-07T09:03:34.371470+00:00] Collecting gitpython!=3.1.19\n",
              "</pre>\n"
            ]
          },
          "metadata": {}
        },
        {
          "output_type": "display_data",
          "data": {
            "text/plain": [
              "[2023-02-07T09:03:34.375301+00:00] Downloading GitPython-3.1.30-py3-none-any.whl (184 kB)\n"
            ],
            "text/html": [
              "<pre style=\"white-space:pre;overflow-x:auto;line-height:normal;font-family:Menlo,'DejaVu Sans Mono',consolas,'Courier New',monospace\">[2023-02-07T09:03:34.375301+00:00] Downloading GitPython-3.1.30-py3-none-any.whl (184 kB)\n",
              "</pre>\n"
            ]
          },
          "metadata": {}
        },
        {
          "output_type": "display_data",
          "data": {
            "text/plain": [
              "[2023-02-07T09:03:34.378268+00:00] ━━━━━━━━━━━━━━━━━━━━━━━━━━━━━━━━━━━━━ 184.0/184.0 kB 356.1 MB/s eta 0:00:00\n"
            ],
            "text/html": [
              "<pre style=\"white-space:pre;overflow-x:auto;line-height:normal;font-family:Menlo,'DejaVu Sans Mono',consolas,'Courier New',monospace\">[2023-02-07T09:03:34.378268+00:00] ━━━━━━━━━━━━━━━━━━━━━━━━━━━━━━━━━━━━━ 184.0/184.0 kB 356.1 MB/s eta 0:00:00\n",
              "</pre>\n"
            ]
          },
          "metadata": {}
        },
        {
          "output_type": "display_data",
          "data": {
            "text/plain": [
              "[2023-02-07T09:03:34.453019+00:00] Collecting importlib-metadata>=1.4\n"
            ],
            "text/html": [
              "<pre style=\"white-space:pre;overflow-x:auto;line-height:normal;font-family:Menlo,'DejaVu Sans Mono',consolas,'Courier New',monospace\">[2023-02-07T09:03:34.453019+00:00] Collecting importlib-metadata&gt;=1.4\n",
              "</pre>\n"
            ]
          },
          "metadata": {}
        },
        {
          "output_type": "display_data",
          "data": {
            "text/plain": [
              "[2023-02-07T09:03:34.456811+00:00] Downloading importlib_metadata-6.0.0-py3-none-any.whl (21 kB)\n"
            ],
            "text/html": [
              "<pre style=\"white-space:pre;overflow-x:auto;line-height:normal;font-family:Menlo,'DejaVu Sans Mono',consolas,'Courier New',monospace\">[2023-02-07T09:03:34.456811+00:00] Downloading importlib_metadata-6.0.0-py3-none-any.whl (21 kB)\n",
              "</pre>\n"
            ]
          },
          "metadata": {}
        },
        {
          "output_type": "display_data",
          "data": {
            "text/plain": [
              "[2023-02-07T09:03:34.486308+00:00] Collecting typing-extensions>=3.10.0.0\n"
            ],
            "text/html": [
              "<pre style=\"white-space:pre;overflow-x:auto;line-height:normal;font-family:Menlo,'DejaVu Sans Mono',consolas,'Courier New',monospace\">[2023-02-07T09:03:34.486308+00:00] Collecting typing-extensions&gt;=3.10.0.0\n",
              "</pre>\n"
            ]
          },
          "metadata": {}
        },
        {
          "output_type": "display_data",
          "data": {
            "text/plain": [
              "[2023-02-07T09:03:34.490171+00:00] Downloading typing_extensions-4.4.0-py3-none-any.whl (26 kB)\n"
            ],
            "text/html": [
              "<pre style=\"white-space:pre;overflow-x:auto;line-height:normal;font-family:Menlo,'DejaVu Sans Mono',consolas,'Courier New',monospace\">[2023-02-07T09:03:34.490171+00:00] Downloading typing_extensions-4.4.0-py3-none-any.whl (26 kB)\n",
              "</pre>\n"
            ]
          },
          "metadata": {}
        },
        {
          "output_type": "display_data",
          "data": {
            "text/plain": [
              "[2023-02-07T09:03:34.526227+00:00] Collecting toolz\n"
            ],
            "text/html": [
              "<pre style=\"white-space:pre;overflow-x:auto;line-height:normal;font-family:Menlo,'DejaVu Sans Mono',consolas,'Courier New',monospace\">[2023-02-07T09:03:34.526227+00:00] Collecting toolz\n",
              "</pre>\n"
            ]
          },
          "metadata": {}
        },
        {
          "output_type": "display_data",
          "data": {
            "text/plain": [
              "[2023-02-07T09:03:34.529974+00:00] Downloading toolz-0.12.0-py3-none-any.whl (55 kB)\n"
            ],
            "text/html": [
              "<pre style=\"white-space:pre;overflow-x:auto;line-height:normal;font-family:Menlo,'DejaVu Sans Mono',consolas,'Courier New',monospace\">[2023-02-07T09:03:34.529974+00:00] Downloading toolz-0.12.0-py3-none-any.whl (55 kB)\n",
              "</pre>\n"
            ]
          },
          "metadata": {}
        },
        {
          "output_type": "display_data",
          "data": {
            "text/plain": [
              "[2023-02-07T09:03:34.532607+00:00] ━━━━━━━━━━━━━━━━━━━━━━━━━━━━━━━━━━━━━━━ 55.8/55.8 kB 260.1 MB/s eta 0:00:00\n"
            ],
            "text/html": [
              "<pre style=\"white-space:pre;overflow-x:auto;line-height:normal;font-family:Menlo,'DejaVu Sans Mono',consolas,'Courier New',monospace\">[2023-02-07T09:03:34.532607+00:00] ━━━━━━━━━━━━━━━━━━━━━━━━━━━━━━━━━━━━━━━ 55.8/55.8 kB 260.1 MB/s eta 0:00:00\n",
              "</pre>\n"
            ]
          },
          "metadata": {}
        },
        {
          "output_type": "display_data",
          "data": {
            "text/plain": [
              "[2023-02-07T09:03:34.555558+00:00] Collecting entrypoints\n"
            ],
            "text/html": [
              "<pre style=\"white-space:pre;overflow-x:auto;line-height:normal;font-family:Menlo,'DejaVu Sans Mono',consolas,'Courier New',monospace\">[2023-02-07T09:03:34.555558+00:00] Collecting entrypoints\n",
              "</pre>\n"
            ]
          },
          "metadata": {}
        },
        {
          "output_type": "display_data",
          "data": {
            "text/plain": [
              "[2023-02-07T09:03:34.559292+00:00] Downloading entrypoints-0.4-py3-none-any.whl (5.3 kB)\n"
            ],
            "text/html": [
              "<pre style=\"white-space:pre;overflow-x:auto;line-height:normal;font-family:Menlo,'DejaVu Sans Mono',consolas,'Courier New',monospace\">[2023-02-07T09:03:34.559292+00:00] Downloading entrypoints-0.4-py3-none-any.whl (5.3 kB)\n",
              "</pre>\n"
            ]
          },
          "metadata": {}
        },
        {
          "output_type": "display_data",
          "data": {
            "text/plain": [
              "[2023-02-07T09:03:34.615940+00:00] Collecting jsonschema>=3.0\n"
            ],
            "text/html": [
              "<pre style=\"white-space:pre;overflow-x:auto;line-height:normal;font-family:Menlo,'DejaVu Sans Mono',consolas,'Courier New',monospace\">[2023-02-07T09:03:34.615940+00:00] Collecting jsonschema&gt;=3.0\n",
              "</pre>\n"
            ]
          },
          "metadata": {}
        },
        {
          "output_type": "display_data",
          "data": {
            "text/plain": [
              "[2023-02-07T09:03:34.619718+00:00] Downloading jsonschema-4.17.3-py3-none-any.whl (90 kB)\n"
            ],
            "text/html": [
              "<pre style=\"white-space:pre;overflow-x:auto;line-height:normal;font-family:Menlo,'DejaVu Sans Mono',consolas,'Courier New',monospace\">[2023-02-07T09:03:34.619718+00:00] Downloading jsonschema-4.17.3-py3-none-any.whl (90 kB)\n",
              "</pre>\n"
            ]
          },
          "metadata": {}
        },
        {
          "output_type": "display_data",
          "data": {
            "text/plain": [
              "[2023-02-07T09:03:34.622426+00:00] ━━━━━━━━━━━━━━━━━━━━━━━━━━━━━━━━━━━━━━━ 90.4/90.4 kB 301.3 MB/s eta 0:00:00\n"
            ],
            "text/html": [
              "<pre style=\"white-space:pre;overflow-x:auto;line-height:normal;font-family:Menlo,'DejaVu Sans Mono',consolas,'Courier New',monospace\">[2023-02-07T09:03:34.622426+00:00] ━━━━━━━━━━━━━━━━━━━━━━━━━━━━━━━━━━━━━━━ 90.4/90.4 kB 301.3 MB/s eta 0:00:00\n",
              "</pre>\n"
            ]
          },
          "metadata": {}
        },
        {
          "output_type": "display_data",
          "data": {
            "text/plain": [
              "[2023-02-07T09:03:34.656464+00:00] Collecting jinja2\n"
            ],
            "text/html": [
              "<pre style=\"white-space:pre;overflow-x:auto;line-height:normal;font-family:Menlo,'DejaVu Sans Mono',consolas,'Courier New',monospace\">[2023-02-07T09:03:34.656464+00:00] Collecting jinja2\n",
              "</pre>\n"
            ]
          },
          "metadata": {}
        },
        {
          "output_type": "display_data",
          "data": {
            "text/plain": [
              "[2023-02-07T09:03:34.660154+00:00] Downloading Jinja2-3.1.2-py3-none-any.whl (133 kB)\n"
            ],
            "text/html": [
              "<pre style=\"white-space:pre;overflow-x:auto;line-height:normal;font-family:Menlo,'DejaVu Sans Mono',consolas,'Courier New',monospace\">[2023-02-07T09:03:34.660154+00:00] Downloading Jinja2-3.1.2-py3-none-any.whl (133 kB)\n",
              "</pre>\n"
            ]
          },
          "metadata": {}
        },
        {
          "output_type": "display_data",
          "data": {
            "text/plain": [
              "[2023-02-07T09:03:34.662899+00:00] ━━━━━━━━━━━━━━━━━━━━━━━━━━━━━━━━━━━━━ 133.1/133.1 kB 343.4 MB/s eta 0:00:00\n"
            ],
            "text/html": [
              "<pre style=\"white-space:pre;overflow-x:auto;line-height:normal;font-family:Menlo,'DejaVu Sans Mono',consolas,'Courier New',monospace\">[2023-02-07T09:03:34.662899+00:00] ━━━━━━━━━━━━━━━━━━━━━━━━━━━━━━━━━━━━━ 133.1/133.1 kB 343.4 MB/s eta 0:00:00\n",
              "</pre>\n"
            ]
          },
          "metadata": {}
        },
        {
          "output_type": "display_data",
          "data": {
            "text/plain": [
              "[2023-02-07T09:03:34.699558+00:00] Collecting gitdb<5,>=4.0.1\n"
            ],
            "text/html": [
              "<pre style=\"white-space:pre;overflow-x:auto;line-height:normal;font-family:Menlo,'DejaVu Sans Mono',consolas,'Courier New',monospace\">[2023-02-07T09:03:34.699558+00:00] Collecting gitdb&lt;5,&gt;=4.0.1\n",
              "</pre>\n"
            ]
          },
          "metadata": {}
        },
        {
          "output_type": "display_data",
          "data": {
            "text/plain": [
              "[2023-02-07T09:03:34.703351+00:00] Downloading gitdb-4.0.10-py3-none-any.whl (62 kB)\n"
            ],
            "text/html": [
              "<pre style=\"white-space:pre;overflow-x:auto;line-height:normal;font-family:Menlo,'DejaVu Sans Mono',consolas,'Courier New',monospace\">[2023-02-07T09:03:34.703351+00:00] Downloading gitdb-4.0.10-py3-none-any.whl (62 kB)\n",
              "</pre>\n"
            ]
          },
          "metadata": {}
        },
        {
          "output_type": "display_data",
          "data": {
            "text/plain": [
              "[2023-02-07T09:03:34.705949+00:00] ━━━━━━━━━━━━━━━━━━━━━━━━━━━━━━━━━━━━━━━ 62.7/62.7 kB 282.8 MB/s eta 0:00:00\n"
            ],
            "text/html": [
              "<pre style=\"white-space:pre;overflow-x:auto;line-height:normal;font-family:Menlo,'DejaVu Sans Mono',consolas,'Courier New',monospace\">[2023-02-07T09:03:34.705949+00:00] ━━━━━━━━━━━━━━━━━━━━━━━━━━━━━━━━━━━━━━━ 62.7/62.7 kB 282.8 MB/s eta 0:00:00\n",
              "</pre>\n"
            ]
          },
          "metadata": {}
        },
        {
          "output_type": "display_data",
          "data": {
            "text/plain": [
              "[2023-02-07T09:03:34.766569+00:00] Collecting zipp>=0.5\n"
            ],
            "text/html": [
              "<pre style=\"white-space:pre;overflow-x:auto;line-height:normal;font-family:Menlo,'DejaVu Sans Mono',consolas,'Courier New',monospace\">[2023-02-07T09:03:34.766569+00:00] Collecting zipp&gt;=0.5\n",
              "</pre>\n"
            ]
          },
          "metadata": {}
        },
        {
          "output_type": "display_data",
          "data": {
            "text/plain": [
              "[2023-02-07T09:03:34.770320+00:00] Downloading zipp-3.12.1-py3-none-any.whl (6.7 kB)\n"
            ],
            "text/html": [
              "<pre style=\"white-space:pre;overflow-x:auto;line-height:normal;font-family:Menlo,'DejaVu Sans Mono',consolas,'Courier New',monospace\">[2023-02-07T09:03:34.770320+00:00] Downloading zipp-3.12.1-py3-none-any.whl (6.7 kB)\n",
              "</pre>\n"
            ]
          },
          "metadata": {}
        },
        {
          "output_type": "display_data",
          "data": {
            "text/plain": [
              "[2023-02-07T09:03:34.863271+00:00] Collecting six>=1.5\n"
            ],
            "text/html": [
              "<pre style=\"white-space:pre;overflow-x:auto;line-height:normal;font-family:Menlo,'DejaVu Sans Mono',consolas,'Courier New',monospace\">[2023-02-07T09:03:34.863271+00:00] Collecting six&gt;=1.5\n",
              "</pre>\n"
            ]
          },
          "metadata": {}
        },
        {
          "output_type": "display_data",
          "data": {
            "text/plain": [
              "[2023-02-07T09:03:34.867007+00:00] Downloading six-1.16.0-py2.py3-none-any.whl (11 kB)\n"
            ],
            "text/html": [
              "<pre style=\"white-space:pre;overflow-x:auto;line-height:normal;font-family:Menlo,'DejaVu Sans Mono',consolas,'Courier New',monospace\">[2023-02-07T09:03:34.867007+00:00] Downloading six-1.16.0-py2.py3-none-any.whl (11 kB)\n",
              "</pre>\n"
            ]
          },
          "metadata": {}
        },
        {
          "output_type": "display_data",
          "data": {
            "text/plain": [
              "[2023-02-07T09:03:34.934007+00:00] Collecting urllib3<1.27,>=1.21.1\n"
            ],
            "text/html": [
              "<pre style=\"white-space:pre;overflow-x:auto;line-height:normal;font-family:Menlo,'DejaVu Sans Mono',consolas,'Courier New',monospace\">[2023-02-07T09:03:34.934007+00:00] Collecting urllib3&lt;1.27,&gt;=1.21.1\n",
              "</pre>\n"
            ]
          },
          "metadata": {}
        },
        {
          "output_type": "display_data",
          "data": {
            "text/plain": [
              "[2023-02-07T09:03:34.937796+00:00] Downloading urllib3-1.26.14-py2.py3-none-any.whl (140 kB)\n"
            ],
            "text/html": [
              "<pre style=\"white-space:pre;overflow-x:auto;line-height:normal;font-family:Menlo,'DejaVu Sans Mono',consolas,'Courier New',monospace\">[2023-02-07T09:03:34.937796+00:00] Downloading urllib3-1.26.14-py2.py3-none-any.whl (140 kB)\n",
              "</pre>\n"
            ]
          },
          "metadata": {}
        },
        {
          "output_type": "display_data",
          "data": {
            "text/plain": [
              "[2023-02-07T09:03:34.940597+00:00] ━━━━━━━━━━━━━━━━━━━━━━━━━━━━━━━━━━━━━ 140.6/140.6 kB 339.6 MB/s eta 0:00:00\n"
            ],
            "text/html": [
              "<pre style=\"white-space:pre;overflow-x:auto;line-height:normal;font-family:Menlo,'DejaVu Sans Mono',consolas,'Courier New',monospace\">[2023-02-07T09:03:34.940597+00:00] ━━━━━━━━━━━━━━━━━━━━━━━━━━━━━━━━━━━━━ 140.6/140.6 kB 339.6 MB/s eta 0:00:00\n",
              "</pre>\n"
            ]
          },
          "metadata": {}
        },
        {
          "output_type": "display_data",
          "data": {
            "text/plain": [
              "[2023-02-07T09:03:34.973732+00:00] Collecting idna<4,>=2.5\n"
            ],
            "text/html": [
              "<pre style=\"white-space:pre;overflow-x:auto;line-height:normal;font-family:Menlo,'DejaVu Sans Mono',consolas,'Courier New',monospace\">[2023-02-07T09:03:34.973732+00:00] Collecting idna&lt;4,&gt;=2.5\n",
              "</pre>\n"
            ]
          },
          "metadata": {}
        },
        {
          "output_type": "display_data",
          "data": {
            "text/plain": [
              "[2023-02-07T09:03:34.977540+00:00] Downloading idna-3.4-py3-none-any.whl (61 kB)\n"
            ],
            "text/html": [
              "<pre style=\"white-space:pre;overflow-x:auto;line-height:normal;font-family:Menlo,'DejaVu Sans Mono',consolas,'Courier New',monospace\">[2023-02-07T09:03:34.977540+00:00] Downloading idna-3.4-py3-none-any.whl (61 kB)\n",
              "</pre>\n"
            ]
          },
          "metadata": {}
        },
        {
          "output_type": "display_data",
          "data": {
            "text/plain": [
              "[2023-02-07T09:03:34.980134+00:00] ━━━━━━━━━━━━━━━━━━━━━━━━━━━━━━━━━━━━━━━ 61.5/61.5 kB 270.7 MB/s eta 0:00:00\n"
            ],
            "text/html": [
              "<pre style=\"white-space:pre;overflow-x:auto;line-height:normal;font-family:Menlo,'DejaVu Sans Mono',consolas,'Courier New',monospace\">[2023-02-07T09:03:34.980134+00:00] ━━━━━━━━━━━━━━━━━━━━━━━━━━━━━━━━━━━━━━━ 61.5/61.5 kB 270.7 MB/s eta 0:00:00\n",
              "</pre>\n"
            ]
          },
          "metadata": {}
        },
        {
          "output_type": "display_data",
          "data": {
            "text/plain": [
              "[2023-02-07T09:03:35.021486+00:00] Collecting certifi>=2017.4.17\n"
            ],
            "text/html": [
              "<pre style=\"white-space:pre;overflow-x:auto;line-height:normal;font-family:Menlo,'DejaVu Sans Mono',consolas,'Courier New',monospace\">[2023-02-07T09:03:35.021486+00:00] Collecting certifi&gt;=2017.4.17\n",
              "</pre>\n"
            ]
          },
          "metadata": {}
        },
        {
          "output_type": "display_data",
          "data": {
            "text/plain": [
              "[2023-02-07T09:03:35.025215+00:00] Downloading certifi-2022.12.7-py3-none-any.whl (155 kB)\n"
            ],
            "text/html": [
              "<pre style=\"white-space:pre;overflow-x:auto;line-height:normal;font-family:Menlo,'DejaVu Sans Mono',consolas,'Courier New',monospace\">[2023-02-07T09:03:35.025215+00:00] Downloading certifi-2022.12.7-py3-none-any.whl (155 kB)\n",
              "</pre>\n"
            ]
          },
          "metadata": {}
        },
        {
          "output_type": "display_data",
          "data": {
            "text/plain": [
              "[2023-02-07T09:03:35.028086+00:00] ━━━━━━━━━━━━━━━━━━━━━━━━━━━━━━━━━━━━━ 155.3/155.3 kB 346.6 MB/s eta 0:00:00\n"
            ],
            "text/html": [
              "<pre style=\"white-space:pre;overflow-x:auto;line-height:normal;font-family:Menlo,'DejaVu Sans Mono',consolas,'Courier New',monospace\">[2023-02-07T09:03:35.028086+00:00] ━━━━━━━━━━━━━━━━━━━━━━━━━━━━━━━━━━━━━ 155.3/155.3 kB 346.6 MB/s eta 0:00:00\n",
              "</pre>\n"
            ]
          },
          "metadata": {}
        },
        {
          "output_type": "display_data",
          "data": {
            "text/plain": [
              "[2023-02-07T09:03:35.161788+00:00] Collecting charset-normalizer<4,>=2\n"
            ],
            "text/html": [
              "<pre style=\"white-space:pre;overflow-x:auto;line-height:normal;font-family:Menlo,'DejaVu Sans Mono',consolas,'Courier New',monospace\">[2023-02-07T09:03:35.161788+00:00] Collecting charset-normalizer&lt;4,&gt;=2\n",
              "</pre>\n"
            ]
          },
          "metadata": {}
        },
        {
          "output_type": "display_data",
          "data": {
            "text/plain": [
              "[2023-02-07T09:03:35.174435+00:00] Downloading \n",
              "charset_normalizer-3.0.1-cp39-cp39-manylinux_2_17_x86_64.manylinux2014_x86_64.whl (198 kB)\n"
            ],
            "text/html": [
              "<pre style=\"white-space:pre;overflow-x:auto;line-height:normal;font-family:Menlo,'DejaVu Sans Mono',consolas,'Courier New',monospace\">[2023-02-07T09:03:35.174435+00:00] Downloading \n",
              "charset_normalizer-3.0.1-cp39-cp39-manylinux_2_17_x86_64.manylinux2014_x86_64.whl (198 kB)\n",
              "</pre>\n"
            ]
          },
          "metadata": {}
        },
        {
          "output_type": "display_data",
          "data": {
            "text/plain": [
              "[2023-02-07T09:03:35.177499+00:00] ━━━━━━━━━━━━━━━━━━━━━━━━━━━━━━━━━━━━━ 198.8/198.8 kB 342.9 MB/s eta 0:00:00\n"
            ],
            "text/html": [
              "<pre style=\"white-space:pre;overflow-x:auto;line-height:normal;font-family:Menlo,'DejaVu Sans Mono',consolas,'Courier New',monospace\">[2023-02-07T09:03:35.177499+00:00] ━━━━━━━━━━━━━━━━━━━━━━━━━━━━━━━━━━━━━ 198.8/198.8 kB 342.9 MB/s eta 0:00:00\n",
              "</pre>\n"
            ]
          },
          "metadata": {}
        },
        {
          "output_type": "display_data",
          "data": {
            "text/plain": [
              "[2023-02-07T09:03:35.226605+00:00] Collecting pygments<3.0.0,>=2.14.0\n"
            ],
            "text/html": [
              "<pre style=\"white-space:pre;overflow-x:auto;line-height:normal;font-family:Menlo,'DejaVu Sans Mono',consolas,'Courier New',monospace\">[2023-02-07T09:03:35.226605+00:00] Collecting pygments&lt;3.0.0,&gt;=2.14.0\n",
              "</pre>\n"
            ]
          },
          "metadata": {}
        },
        {
          "output_type": "display_data",
          "data": {
            "text/plain": [
              "[2023-02-07T09:03:35.230988+00:00] Downloading Pygments-2.14.0-py3-none-any.whl (1.1 MB)\n"
            ],
            "text/html": [
              "<pre style=\"white-space:pre;overflow-x:auto;line-height:normal;font-family:Menlo,'DejaVu Sans Mono',consolas,'Courier New',monospace\">[2023-02-07T09:03:35.230988+00:00] Downloading Pygments-2.14.0-py3-none-any.whl (1.1 MB)\n",
              "</pre>\n"
            ]
          },
          "metadata": {}
        },
        {
          "output_type": "display_data",
          "data": {
            "text/plain": [
              "[2023-02-07T09:03:35.236458+00:00] ━━━━━━━━━━━━━━━━━━━━━━━━━━━━━━━━━━━━━━━━ 1.1/1.1 MB 353.6 MB/s eta 0:00:00\n"
            ],
            "text/html": [
              "<pre style=\"white-space:pre;overflow-x:auto;line-height:normal;font-family:Menlo,'DejaVu Sans Mono',consolas,'Courier New',monospace\">[2023-02-07T09:03:35.236458+00:00] ━━━━━━━━━━━━━━━━━━━━━━━━━━━━━━━━━━━━━━━━ 1.1/1.1 MB 353.6 MB/s eta 0:00:00\n",
              "</pre>\n"
            ]
          },
          "metadata": {}
        },
        {
          "output_type": "display_data",
          "data": {
            "text/plain": [
              "[2023-02-07T09:03:35.281813+00:00] Collecting markdown-it-py<3.0.0,>=2.1.0\n"
            ],
            "text/html": [
              "<pre style=\"white-space:pre;overflow-x:auto;line-height:normal;font-family:Menlo,'DejaVu Sans Mono',consolas,'Courier New',monospace\">[2023-02-07T09:03:35.281813+00:00] Collecting markdown-it-py&lt;3.0.0,&gt;=2.1.0\n",
              "</pre>\n"
            ]
          },
          "metadata": {}
        },
        {
          "output_type": "display_data",
          "data": {
            "text/plain": [
              "[2023-02-07T09:03:35.285645+00:00] Downloading markdown_it_py-2.1.0-py3-none-any.whl (84 kB)\n"
            ],
            "text/html": [
              "<pre style=\"white-space:pre;overflow-x:auto;line-height:normal;font-family:Menlo,'DejaVu Sans Mono',consolas,'Courier New',monospace\">[2023-02-07T09:03:35.285645+00:00] Downloading markdown_it_py-2.1.0-py3-none-any.whl (84 kB)\n",
              "</pre>\n"
            ]
          },
          "metadata": {}
        },
        {
          "output_type": "display_data",
          "data": {
            "text/plain": [
              "[2023-02-07T09:03:35.332843+00:00] Collecting pytz-deprecation-shim\n"
            ],
            "text/html": [
              "<pre style=\"white-space:pre;overflow-x:auto;line-height:normal;font-family:Menlo,'DejaVu Sans Mono',consolas,'Courier New',monospace\">[2023-02-07T09:03:35.332843+00:00] Collecting pytz-deprecation-shim\n",
              "</pre>\n"
            ]
          },
          "metadata": {}
        },
        {
          "output_type": "display_data",
          "data": {
            "text/plain": [
              "[2023-02-07T09:03:35.288321+00:00] ━━━━━━━━━━━━━━━━━━━━━━━━━━━━━━━━━━━━━━━ 84.5/84.5 kB 317.0 MB/s eta 0:00:00\n"
            ],
            "text/html": [
              "<pre style=\"white-space:pre;overflow-x:auto;line-height:normal;font-family:Menlo,'DejaVu Sans Mono',consolas,'Courier New',monospace\">[2023-02-07T09:03:35.288321+00:00] ━━━━━━━━━━━━━━━━━━━━━━━━━━━━━━━━━━━━━━━ 84.5/84.5 kB 317.0 MB/s eta 0:00:00\n",
              "</pre>\n"
            ]
          },
          "metadata": {}
        },
        {
          "output_type": "display_data",
          "data": {
            "text/plain": [
              "[2023-02-07T09:03:35.336655+00:00] Downloading pytz_deprecation_shim-0.1.0.post0-py2.py3-none-any.whl (15 kB)\n"
            ],
            "text/html": [
              "<pre style=\"white-space:pre;overflow-x:auto;line-height:normal;font-family:Menlo,'DejaVu Sans Mono',consolas,'Courier New',monospace\">[2023-02-07T09:03:35.336655+00:00] Downloading pytz_deprecation_shim-0.1.0.post0-py2.py3-none-any.whl (15 kB)\n",
              "</pre>\n"
            ]
          },
          "metadata": {}
        },
        {
          "output_type": "display_data",
          "data": {
            "text/plain": [
              "[2023-02-07T09:03:35.373791+00:00] Collecting decorator>=3.4.0\n"
            ],
            "text/html": [
              "<pre style=\"white-space:pre;overflow-x:auto;line-height:normal;font-family:Menlo,'DejaVu Sans Mono',consolas,'Courier New',monospace\">[2023-02-07T09:03:35.373791+00:00] Collecting decorator&gt;=3.4.0\n",
              "</pre>\n"
            ]
          },
          "metadata": {}
        },
        {
          "output_type": "display_data",
          "data": {
            "text/plain": [
              "[2023-02-07T09:03:35.435785+00:00] Collecting smmap<6,>=3.0.1\n"
            ],
            "text/html": [
              "<pre style=\"white-space:pre;overflow-x:auto;line-height:normal;font-family:Menlo,'DejaVu Sans Mono',consolas,'Courier New',monospace\">[2023-02-07T09:03:35.435785+00:00] Collecting smmap&lt;6,&gt;=3.0.1\n",
              "</pre>\n"
            ]
          },
          "metadata": {}
        },
        {
          "output_type": "display_data",
          "data": {
            "text/plain": [
              "[2023-02-07T09:03:35.377765+00:00] Downloading decorator-5.1.1-py3-none-any.whl (9.1 kB)\n"
            ],
            "text/html": [
              "<pre style=\"white-space:pre;overflow-x:auto;line-height:normal;font-family:Menlo,'DejaVu Sans Mono',consolas,'Courier New',monospace\">[2023-02-07T09:03:35.377765+00:00] Downloading decorator-5.1.1-py3-none-any.whl (9.1 kB)\n",
              "</pre>\n"
            ]
          },
          "metadata": {}
        },
        {
          "output_type": "display_data",
          "data": {
            "text/plain": [
              "[2023-02-07T09:03:35.440332+00:00] Downloading smmap-5.0.0-py3-none-any.whl (24 kB)\n"
            ],
            "text/html": [
              "<pre style=\"white-space:pre;overflow-x:auto;line-height:normal;font-family:Menlo,'DejaVu Sans Mono',consolas,'Courier New',monospace\">[2023-02-07T09:03:35.440332+00:00] Downloading smmap-5.0.0-py3-none-any.whl (24 kB)\n",
              "</pre>\n"
            ]
          },
          "metadata": {}
        },
        {
          "output_type": "display_data",
          "data": {
            "text/plain": [
              "[2023-02-07T09:03:35.532714+00:00] Collecting MarkupSafe>=2.0\n"
            ],
            "text/html": [
              "<pre style=\"white-space:pre;overflow-x:auto;line-height:normal;font-family:Menlo,'DejaVu Sans Mono',consolas,'Courier New',monospace\">[2023-02-07T09:03:35.532714+00:00] Collecting MarkupSafe&gt;=2.0\n",
              "</pre>\n"
            ]
          },
          "metadata": {}
        },
        {
          "output_type": "display_data",
          "data": {
            "text/plain": [
              "[2023-02-07T09:03:35.536615+00:00] Downloading \n",
              "MarkupSafe-2.1.2-cp39-cp39-manylinux_2_17_x86_64.manylinux2014_x86_64.whl (25 kB)\n"
            ],
            "text/html": [
              "<pre style=\"white-space:pre;overflow-x:auto;line-height:normal;font-family:Menlo,'DejaVu Sans Mono',consolas,'Courier New',monospace\">[2023-02-07T09:03:35.536615+00:00] Downloading \n",
              "MarkupSafe-2.1.2-cp39-cp39-manylinux_2_17_x86_64.manylinux2014_x86_64.whl (25 kB)\n",
              "</pre>\n"
            ]
          },
          "metadata": {}
        },
        {
          "output_type": "display_data",
          "data": {
            "text/plain": [
              "[2023-02-07T09:03:35.591342+00:00] Collecting attrs>=17.4.0\n"
            ],
            "text/html": [
              "<pre style=\"white-space:pre;overflow-x:auto;line-height:normal;font-family:Menlo,'DejaVu Sans Mono',consolas,'Courier New',monospace\">[2023-02-07T09:03:35.591342+00:00] Collecting attrs&gt;=17.4.0\n",
              "</pre>\n"
            ]
          },
          "metadata": {}
        },
        {
          "output_type": "display_data",
          "data": {
            "text/plain": [
              "[2023-02-07T09:03:35.595225+00:00] Downloading attrs-22.2.0-py3-none-any.whl (60 kB)\n"
            ],
            "text/html": [
              "<pre style=\"white-space:pre;overflow-x:auto;line-height:normal;font-family:Menlo,'DejaVu Sans Mono',consolas,'Courier New',monospace\">[2023-02-07T09:03:35.595225+00:00] Downloading attrs-22.2.0-py3-none-any.whl (60 kB)\n",
              "</pre>\n"
            ]
          },
          "metadata": {}
        },
        {
          "output_type": "display_data",
          "data": {
            "text/plain": [
              "[2023-02-07T09:03:35.597873+00:00] ━━━━━━━━━━━━━━━━━━━━━━━━━━━━━━━━━━━━━━━ 60.0/60.0 kB 281.1 MB/s eta 0:00:00\n"
            ],
            "text/html": [
              "<pre style=\"white-space:pre;overflow-x:auto;line-height:normal;font-family:Menlo,'DejaVu Sans Mono',consolas,'Courier New',monospace\">[2023-02-07T09:03:35.597873+00:00] ━━━━━━━━━━━━━━━━━━━━━━━━━━━━━━━━━━━━━━━ 60.0/60.0 kB 281.1 MB/s eta 0:00:00\n",
              "</pre>\n"
            ]
          },
          "metadata": {}
        },
        {
          "output_type": "display_data",
          "data": {
            "text/plain": [
              "[2023-02-07T09:03:35.648502+00:00] Collecting pyrsistent!=0.17.0,!=0.17.1,!=0.17.2,>=0.14.0\n"
            ],
            "text/html": [
              "<pre style=\"white-space:pre;overflow-x:auto;line-height:normal;font-family:Menlo,'DejaVu Sans Mono',consolas,'Courier New',monospace\">[2023-02-07T09:03:35.648502+00:00] Collecting pyrsistent!=0.17.0,!=0.17.1,!=0.17.2,&gt;=0.14.0\n",
              "</pre>\n"
            ]
          },
          "metadata": {}
        },
        {
          "output_type": "display_data",
          "data": {
            "text/plain": [
              "[2023-02-07T09:03:35.652365+00:00] Downloading pyrsistent-0.19.3-py3-none-any.whl (57 kB)\n"
            ],
            "text/html": [
              "<pre style=\"white-space:pre;overflow-x:auto;line-height:normal;font-family:Menlo,'DejaVu Sans Mono',consolas,'Courier New',monospace\">[2023-02-07T09:03:35.652365+00:00] Downloading pyrsistent-0.19.3-py3-none-any.whl (57 kB)\n",
              "</pre>\n"
            ]
          },
          "metadata": {}
        },
        {
          "output_type": "display_data",
          "data": {
            "text/plain": [
              "[2023-02-07T09:03:35.655055+00:00] ━━━━━━━━━━━━━━━━━━━━━━━━━━━━━━━━━━━━━━━ 57.5/57.5 kB 259.4 MB/s eta 0:00:00\n"
            ],
            "text/html": [
              "<pre style=\"white-space:pre;overflow-x:auto;line-height:normal;font-family:Menlo,'DejaVu Sans Mono',consolas,'Courier New',monospace\">[2023-02-07T09:03:35.655055+00:00] ━━━━━━━━━━━━━━━━━━━━━━━━━━━━━━━━━━━━━━━ 57.5/57.5 kB 259.4 MB/s eta 0:00:00\n",
              "</pre>\n"
            ]
          },
          "metadata": {}
        },
        {
          "output_type": "display_data",
          "data": {
            "text/plain": [
              "[2023-02-07T09:03:35.703225+00:00] Collecting mdurl~=0.1\n"
            ],
            "text/html": [
              "<pre style=\"white-space:pre;overflow-x:auto;line-height:normal;font-family:Menlo,'DejaVu Sans Mono',consolas,'Courier New',monospace\">[2023-02-07T09:03:35.703225+00:00] Collecting mdurl~=0.1\n",
              "</pre>\n"
            ]
          },
          "metadata": {}
        },
        {
          "output_type": "display_data",
          "data": {
            "text/plain": [
              "[2023-02-07T09:03:35.707195+00:00] Downloading mdurl-0.1.2-py3-none-any.whl (10.0 kB)\n"
            ],
            "text/html": [
              "<pre style=\"white-space:pre;overflow-x:auto;line-height:normal;font-family:Menlo,'DejaVu Sans Mono',consolas,'Courier New',monospace\">[2023-02-07T09:03:35.707195+00:00] Downloading mdurl-0.1.2-py3-none-any.whl (10.0 kB)\n",
              "</pre>\n"
            ]
          },
          "metadata": {}
        },
        {
          "output_type": "display_data",
          "data": {
            "text/plain": [
              "[2023-02-07T09:03:35.807668+00:00] Collecting tzdata\n"
            ],
            "text/html": [
              "<pre style=\"white-space:pre;overflow-x:auto;line-height:normal;font-family:Menlo,'DejaVu Sans Mono',consolas,'Courier New',monospace\">[2023-02-07T09:03:35.807668+00:00] Collecting tzdata\n",
              "</pre>\n"
            ]
          },
          "metadata": {}
        },
        {
          "output_type": "display_data",
          "data": {
            "text/plain": [
              "[2023-02-07T09:03:35.813525+00:00] Downloading tzdata-2022.7-py2.py3-none-any.whl (340 kB)\n"
            ],
            "text/html": [
              "<pre style=\"white-space:pre;overflow-x:auto;line-height:normal;font-family:Menlo,'DejaVu Sans Mono',consolas,'Courier New',monospace\">[2023-02-07T09:03:35.813525+00:00] Downloading tzdata-2022.7-py2.py3-none-any.whl (340 kB)\n",
              "</pre>\n"
            ]
          },
          "metadata": {}
        },
        {
          "output_type": "display_data",
          "data": {
            "text/plain": [
              "[2023-02-07T09:03:35.816952+00:00] ━━━━━━━━━━━━━━━━━━━━━━━━━━━━━━━━━━━━━ 340.1/340.1 kB 365.0 MB/s eta 0:00:00\n"
            ],
            "text/html": [
              "<pre style=\"white-space:pre;overflow-x:auto;line-height:normal;font-family:Menlo,'DejaVu Sans Mono',consolas,'Courier New',monospace\">[2023-02-07T09:03:35.816952+00:00] ━━━━━━━━━━━━━━━━━━━━━━━━━━━━━━━━━━━━━ 340.1/340.1 kB 365.0 MB/s eta 0:00:00\n",
              "</pre>\n"
            ]
          },
          "metadata": {}
        },
        {
          "output_type": "display_data",
          "data": {
            "text/plain": [
              "[2023-02-07T09:03:35.904486+00:00] Building wheels for collected packages: validators\n"
            ],
            "text/html": [
              "<pre style=\"white-space:pre;overflow-x:auto;line-height:normal;font-family:Menlo,'DejaVu Sans Mono',consolas,'Courier New',monospace\">[2023-02-07T09:03:35.904486+00:00] Building wheels for collected packages: validators\n",
              "</pre>\n"
            ]
          },
          "metadata": {}
        },
        {
          "output_type": "display_data",
          "data": {
            "text/plain": [
              "[2023-02-07T09:03:35.904989+00:00] Building wheel for validators (setup.py): started\n"
            ],
            "text/html": [
              "<pre style=\"white-space:pre;overflow-x:auto;line-height:normal;font-family:Menlo,'DejaVu Sans Mono',consolas,'Courier New',monospace\">[2023-02-07T09:03:35.904989+00:00] Building wheel for validators (setup.py): started\n",
              "</pre>\n"
            ]
          },
          "metadata": {}
        },
        {
          "output_type": "display_data",
          "data": {
            "text/plain": [
              "[2023-02-07T09:03:36.190019+00:00] Created wheel for validators: filename=validators-0.20.0-py3-none-any.whl \n",
              "size=19581 sha256=f9106b34e0003c95d0a587a1a6ab37640cd8702089ae4966c2593c3f59c43f86\n"
            ],
            "text/html": [
              "<pre style=\"white-space:pre;overflow-x:auto;line-height:normal;font-family:Menlo,'DejaVu Sans Mono',consolas,'Courier New',monospace\">[2023-02-07T09:03:36.190019+00:00] Created wheel for validators: filename=validators-0.20.0-py3-none-any.whl \n",
              "size=19581 sha256=f9106b34e0003c95d0a587a1a6ab37640cd8702089ae4966c2593c3f59c43f86\n",
              "</pre>\n"
            ]
          },
          "metadata": {}
        },
        {
          "output_type": "display_data",
          "data": {
            "text/plain": [
              "[2023-02-07T09:03:36.190145+00:00] Stored in directory: \n",
              "/tmp/pip-ephem-wheel-cache-g6wlxp_t/wheels/2d/f0/a8/1094fca7a7e5d0d12ff56e0c64675d72aa5cc81a5fc200e849\n"
            ],
            "text/html": [
              "<pre style=\"white-space:pre;overflow-x:auto;line-height:normal;font-family:Menlo,'DejaVu Sans Mono',consolas,'Courier New',monospace\">[2023-02-07T09:03:36.190145+00:00] Stored in directory: \n",
              "/tmp/pip-ephem-wheel-cache-g6wlxp_t/wheels/2d/f0/a8/1094fca7a7e5d0d12ff56e0c64675d72aa5cc81a5fc200e849\n",
              "</pre>\n"
            ]
          },
          "metadata": {}
        },
        {
          "output_type": "display_data",
          "data": {
            "text/plain": [
              "[2023-02-07T09:03:36.192543+00:00] Successfully built validators\n"
            ],
            "text/html": [
              "<pre style=\"white-space:pre;overflow-x:auto;line-height:normal;font-family:Menlo,'DejaVu Sans Mono',consolas,'Courier New',monospace\">[2023-02-07T09:03:36.192543+00:00] Successfully built validators\n",
              "</pre>\n"
            ]
          },
          "metadata": {}
        },
        {
          "output_type": "display_data",
          "data": {
            "text/plain": [
              "[2023-02-07T09:03:36.478425+00:00] Installing collected packages: pytz, charset-normalizer, zipp, watchdog, \n",
              "urllib3, tzdata, typing-extensions, tornado, toolz, toml, smmap, six, semver, pyrsistent, pympler, pygments, \n",
              "protobuf, pillow, packaging, numpy, mdurl, MarkupSafe, idna, entrypoints, decorator, click, certifi, cachetools, \n",
              "blinker, attrs, validators, requests, pytz-deprecation-shim, python-dateutil, pyarrow, markdown-it-py, jsonschema, \n",
              "jinja2, importlib-metadata, gitdb, tzlocal, rich, pydeck, pandas, gitpython, altair, streamlit\n"
            ],
            "text/html": [
              "<pre style=\"white-space:pre;overflow-x:auto;line-height:normal;font-family:Menlo,'DejaVu Sans Mono',consolas,'Courier New',monospace\">[2023-02-07T09:03:36.478425+00:00] Installing collected packages: pytz, charset-normalizer, zipp, watchdog, \n",
              "urllib3, tzdata, typing-extensions, tornado, toolz, toml, smmap, six, semver, pyrsistent, pympler, pygments, \n",
              "protobuf, pillow, packaging, numpy, mdurl, MarkupSafe, idna, entrypoints, decorator, click, certifi, cachetools, \n",
              "blinker, attrs, validators, requests, pytz-deprecation-shim, python-dateutil, pyarrow, markdown-it-py, jsonschema, \n",
              "jinja2, importlib-metadata, gitdb, tzlocal, rich, pydeck, pandas, gitpython, altair, streamlit\n",
              "</pre>\n"
            ]
          },
          "metadata": {}
        },
        {
          "output_type": "display_data",
          "data": {
            "text/plain": [
              "[2023-02-07T09:03:45.894348+00:00] Successfully installed MarkupSafe-2.1.2 altair-4.2.2 attrs-22.2.0 blinker-1.5 \n",
              "cachetools-5.3.0 certifi-2022.12.7 charset-normalizer-3.0.1 click-8.1.3 decorator-5.1.1 entrypoints-0.4 \n",
              "gitdb-4.0.10 gitpython-3.1.30 idna-3.4 importlib-metadata-6.0.0 jinja2-3.1.2 jsonschema-4.17.3 markdown-it-py-2.1.0\n",
              "mdurl-0.1.2 numpy-1.24.2 packaging-23.0 pandas-1.4.4 pillow-9.4.0 protobuf-3.20.3 pyarrow-11.0.0 pydeck-0.8.0 \n",
              "pygments-2.14.0 pympler-1.0.1 pyrsistent-0.19.3 python-dateutil-2.8.2 pytz-2022.7.1 \n",
              "pytz-deprecation-shim-0.1.0.post0 requests-2.28.2 rich-13.3.1 semver-2.13.0 six-1.16.0 smmap-5.0.0 streamlit-1.17.0\n",
              "toml-0.10.2 toolz-0.12.0 tornado-6.2 typing-extensions-4.4.0 tzdata-2022.7 tzlocal-4.2 urllib3-1.26.14 \n",
              "validators-0.20.0 watchdog-2.2.1 zipp-3.12.1\n"
            ],
            "text/html": [
              "<pre style=\"white-space:pre;overflow-x:auto;line-height:normal;font-family:Menlo,'DejaVu Sans Mono',consolas,'Courier New',monospace\">[2023-02-07T09:03:45.894348+00:00] Successfully installed MarkupSafe-2.1.2 altair-4.2.2 attrs-22.2.0 blinker-1.5 \n",
              "cachetools-5.3.0 certifi-2022.12.7 charset-normalizer-3.0.1 click-8.1.3 decorator-5.1.1 entrypoints-0.4 \n",
              "gitdb-4.0.10 gitpython-3.1.30 idna-3.4 importlib-metadata-6.0.0 jinja2-3.1.2 jsonschema-4.17.3 markdown-it-py-2.1.0\n",
              "mdurl-0.1.2 numpy-1.24.2 packaging-23.0 pandas-1.4.4 pillow-9.4.0 protobuf-3.20.3 pyarrow-11.0.0 pydeck-0.8.0 \n",
              "pygments-2.14.0 pympler-1.0.1 pyrsistent-0.19.3 python-dateutil-2.8.2 pytz-2022.7.1 \n",
              "pytz-deprecation-shim-0.1.0.post0 requests-2.28.2 rich-13.3.1 semver-2.13.0 six-1.16.0 smmap-5.0.0 streamlit-1.17.0\n",
              "toml-0.10.2 toolz-0.12.0 tornado-6.2 typing-extensions-4.4.0 tzdata-2022.7 tzlocal-4.2 urllib3-1.26.14 \n",
              "validators-0.20.0 watchdog-2.2.1 zipp-3.12.1\n",
              "</pre>\n"
            ]
          },
          "metadata": {}
        },
        {
          "output_type": "display_data",
          "data": {
            "text/plain": [
              "[2023-02-07T09:03:45.894559+00:00] \u001b[91mWARNING: Running pip as the 'root' user can result in broken permissions and \u001b[0m\n",
              "\u001b[91mconflicting behaviour with the system package manager. It is recommended to use a virtual environment instead: \u001b[0m\n",
              "\u001b[91mhttps://pip.pypa.io/warnings/venv\u001b[0m\n"
            ],
            "text/html": [
              "<pre style=\"white-space:pre;overflow-x:auto;line-height:normal;font-family:Menlo,'DejaVu Sans Mono',consolas,'Courier New',monospace\">[2023-02-07T09:03:45.894559+00:00] <span style=\"color: #ff0000; text-decoration-color: #ff0000\">WARNING: Running pip as the 'root' user can result in broken permissions and </span>\n",
              "<span style=\"color: #ff0000; text-decoration-color: #ff0000\">conflicting behaviour with the system package manager. It is recommended to use a virtual environment instead: </span>\n",
              "<span style=\"color: #ff0000; text-decoration-color: #ff0000\">https://pip.pypa.io/warnings/venv</span>\n",
              "</pre>\n"
            ]
          },
          "metadata": {}
        },
        {
          "output_type": "display_data",
          "data": {
            "text/plain": [
              "\u001b[91m[2023-02-07T09:03:53.299594+00:00] \u001b[0mRemoving intermediate container 64898f098c30\n"
            ],
            "text/html": [
              "<pre style=\"white-space:pre;overflow-x:auto;line-height:normal;font-family:Menlo,'DejaVu Sans Mono',consolas,'Courier New',monospace\"><span style=\"color: #ff0000; text-decoration-color: #ff0000\">[2023-02-07T09:03:53.299594+00:00] </span>Removing intermediate container 64898f098c30\n",
              "</pre>\n"
            ]
          },
          "metadata": {}
        },
        {
          "output_type": "display_data",
          "data": {
            "text/plain": [
              "[2023-02-07T09:03:53.299632+00:00] ---> c20d940b4a27\n"
            ],
            "text/html": [
              "<pre style=\"white-space:pre;overflow-x:auto;line-height:normal;font-family:Menlo,'DejaVu Sans Mono',consolas,'Courier New',monospace\">[2023-02-07T09:03:53.299632+00:00] ---&gt; c20d940b4a27\n",
              "</pre>\n"
            ]
          },
          "metadata": {}
        },
        {
          "output_type": "display_data",
          "data": {
            "text/plain": [
              "[2023-02-07T09:03:53.299635+00:00] Step 4/6 : COPY . /app\n"
            ],
            "text/html": [
              "<pre style=\"white-space:pre;overflow-x:auto;line-height:normal;font-family:Menlo,'DejaVu Sans Mono',consolas,'Courier New',monospace\">[2023-02-07T09:03:53.299635+00:00] Step 4/6 : COPY . /app\n",
              "</pre>\n"
            ]
          },
          "metadata": {}
        },
        {
          "output_type": "display_data",
          "data": {
            "text/plain": [
              "[2023-02-07T09:03:53.358274+00:00] ---> ef67a0938fcc\n"
            ],
            "text/html": [
              "<pre style=\"white-space:pre;overflow-x:auto;line-height:normal;font-family:Menlo,'DejaVu Sans Mono',consolas,'Courier New',monospace\">[2023-02-07T09:03:53.358274+00:00] ---&gt; ef67a0938fcc\n",
              "</pre>\n"
            ]
          },
          "metadata": {}
        },
        {
          "output_type": "display_data",
          "data": {
            "text/plain": [
              "[2023-02-07T09:03:53.358298+00:00] Step 5/6 : WORKDIR /app\n"
            ],
            "text/html": [
              "<pre style=\"white-space:pre;overflow-x:auto;line-height:normal;font-family:Menlo,'DejaVu Sans Mono',consolas,'Courier New',monospace\">[2023-02-07T09:03:53.358298+00:00] Step 5/6 : WORKDIR /app\n",
              "</pre>\n"
            ]
          },
          "metadata": {}
        },
        {
          "output_type": "display_data",
          "data": {
            "text/plain": [
              "[2023-02-07T09:03:53.370907+00:00] ---> Running in 7cd47cf00b5d\n"
            ],
            "text/html": [
              "<pre style=\"white-space:pre;overflow-x:auto;line-height:normal;font-family:Menlo,'DejaVu Sans Mono',consolas,'Courier New',monospace\">[2023-02-07T09:03:53.370907+00:00] ---&gt; Running in 7cd47cf00b5d\n",
              "</pre>\n"
            ]
          },
          "metadata": {}
        },
        {
          "output_type": "display_data",
          "data": {
            "text/plain": [
              "[2023-02-07T09:03:53.406518+00:00] Removing intermediate container 7cd47cf00b5d\n"
            ],
            "text/html": [
              "<pre style=\"white-space:pre;overflow-x:auto;line-height:normal;font-family:Menlo,'DejaVu Sans Mono',consolas,'Courier New',monospace\">[2023-02-07T09:03:53.406518+00:00] Removing intermediate container 7cd47cf00b5d\n",
              "</pre>\n"
            ]
          },
          "metadata": {}
        },
        {
          "output_type": "display_data",
          "data": {
            "text/plain": [
              "[2023-02-07T09:03:53.406533+00:00] ---> 9634147b03b7\n"
            ],
            "text/html": [
              "<pre style=\"white-space:pre;overflow-x:auto;line-height:normal;font-family:Menlo,'DejaVu Sans Mono',consolas,'Courier New',monospace\">[2023-02-07T09:03:53.406533+00:00] ---&gt; 9634147b03b7\n",
              "</pre>\n"
            ]
          },
          "metadata": {}
        },
        {
          "output_type": "display_data",
          "data": {
            "text/plain": [
              "[2023-02-07T09:03:53.406534+00:00] Step 6/6 : ENTRYPOINT streamlit run demo.py\n"
            ],
            "text/html": [
              "<pre style=\"white-space:pre;overflow-x:auto;line-height:normal;font-family:Menlo,'DejaVu Sans Mono',consolas,'Courier New',monospace\">[2023-02-07T09:03:53.406534+00:00] Step 6/6 : ENTRYPOINT streamlit run demo.py\n",
              "</pre>\n"
            ]
          },
          "metadata": {}
        },
        {
          "output_type": "display_data",
          "data": {
            "text/plain": [
              "[2023-02-07T09:03:53.420042+00:00] ---> Running in 49e011ab7035\n"
            ],
            "text/html": [
              "<pre style=\"white-space:pre;overflow-x:auto;line-height:normal;font-family:Menlo,'DejaVu Sans Mono',consolas,'Courier New',monospace\">[2023-02-07T09:03:53.420042+00:00] ---&gt; Running in 49e011ab7035\n",
              "</pre>\n"
            ]
          },
          "metadata": {}
        },
        {
          "output_type": "display_data",
          "data": {
            "text/plain": [
              "[2023-02-07T09:03:53.456895+00:00] Removing intermediate container 49e011ab7035\n"
            ],
            "text/html": [
              "<pre style=\"white-space:pre;overflow-x:auto;line-height:normal;font-family:Menlo,'DejaVu Sans Mono',consolas,'Courier New',monospace\">[2023-02-07T09:03:53.456895+00:00] Removing intermediate container 49e011ab7035\n",
              "</pre>\n"
            ]
          },
          "metadata": {}
        },
        {
          "output_type": "display_data",
          "data": {
            "text/plain": [
              "[2023-02-07T09:03:53.456915+00:00] ---> 6d5643c13057\n"
            ],
            "text/html": [
              "<pre style=\"white-space:pre;overflow-x:auto;line-height:normal;font-family:Menlo,'DejaVu Sans Mono',consolas,'Courier New',monospace\">[2023-02-07T09:03:53.456915+00:00] ---&gt; 6d5643c13057\n",
              "</pre>\n"
            ]
          },
          "metadata": {}
        },
        {
          "output_type": "display_data",
          "data": {
            "text/plain": [
              "[2023-02-07T09:03:53.456997+00:00] Successfully built 6d5643c13057\n"
            ],
            "text/html": [
              "<pre style=\"white-space:pre;overflow-x:auto;line-height:normal;font-family:Menlo,'DejaVu Sans Mono',consolas,'Courier New',monospace\">[2023-02-07T09:03:53.456997+00:00] Successfully built 6d5643c13057\n",
              "</pre>\n"
            ]
          },
          "metadata": {}
        },
        {
          "output_type": "display_data",
          "data": {
            "text/plain": [
              "[2023-02-07T09:03:53.461467+00:00] Successfully tagged \n",
              "416964291864.dkr.ecr.eu-west-1.amazonaws.com/hardik-ws-red-wine-demo-89er3:1\n"
            ],
            "text/html": [
              "<pre style=\"white-space:pre;overflow-x:auto;line-height:normal;font-family:Menlo,'DejaVu Sans Mono',consolas,'Courier New',monospace\">[2023-02-07T09:03:53.461467+00:00] Successfully tagged \n",
              "416964291864.dkr.ecr.eu-west-1.amazonaws.com/hardik-ws-red-wine-demo-89er3:1\n",
              "</pre>\n"
            ]
          },
          "metadata": {}
        },
        {
          "output_type": "display_data",
          "data": {
            "text/plain": [
              "[2023-02-07T09:03:53.576995+00:00] The push refers to repository \n",
              "[416964291864.dkr.ecr.eu-west-1.amazonaws.com/hardik-ws-red-wine-demo-89er3]\n"
            ],
            "text/html": [
              "<pre style=\"white-space:pre;overflow-x:auto;line-height:normal;font-family:Menlo,'DejaVu Sans Mono',consolas,'Courier New',monospace\">[2023-02-07T09:03:53.576995+00:00] The push refers to repository \n",
              "[416964291864.dkr.ecr.eu-west-1.amazonaws.com/hardik-ws-red-wine-demo-89er3]\n",
              "</pre>\n"
            ]
          },
          "metadata": {}
        },
        {
          "output_type": "display_data",
          "data": {
            "text/plain": [
              "[2023-02-07T09:03:53.585045+00:00] b050aa9ae650: Preparing\n"
            ],
            "text/html": [
              "<pre style=\"white-space:pre;overflow-x:auto;line-height:normal;font-family:Menlo,'DejaVu Sans Mono',consolas,'Courier New',monospace\">[2023-02-07T09:03:53.585045+00:00] b050aa9ae650: Preparing\n",
              "</pre>\n"
            ]
          },
          "metadata": {}
        },
        {
          "output_type": "display_data",
          "data": {
            "text/plain": [
              "[2023-02-07T09:03:53.585081+00:00] bfbeb59861c4: Preparing\n"
            ],
            "text/html": [
              "<pre style=\"white-space:pre;overflow-x:auto;line-height:normal;font-family:Menlo,'DejaVu Sans Mono',consolas,'Courier New',monospace\">[2023-02-07T09:03:53.585081+00:00] bfbeb59861c4: Preparing\n",
              "</pre>\n"
            ]
          },
          "metadata": {}
        },
        {
          "output_type": "display_data",
          "data": {
            "text/plain": [
              "[2023-02-07T09:03:53.585084+00:00] 905b5fefc2ec: Preparing\n"
            ],
            "text/html": [
              "<pre style=\"white-space:pre;overflow-x:auto;line-height:normal;font-family:Menlo,'DejaVu Sans Mono',consolas,'Courier New',monospace\">[2023-02-07T09:03:53.585084+00:00] 905b5fefc2ec: Preparing\n",
              "</pre>\n"
            ]
          },
          "metadata": {}
        },
        {
          "output_type": "display_data",
          "data": {
            "text/plain": [
              "[2023-02-07T09:03:53.585086+00:00] 8cc77bf589bb: Preparing\n"
            ],
            "text/html": [
              "<pre style=\"white-space:pre;overflow-x:auto;line-height:normal;font-family:Menlo,'DejaVu Sans Mono',consolas,'Courier New',monospace\">[2023-02-07T09:03:53.585086+00:00] 8cc77bf589bb: Preparing\n",
              "</pre>\n"
            ]
          },
          "metadata": {}
        },
        {
          "output_type": "display_data",
          "data": {
            "text/plain": [
              "[2023-02-07T09:03:53.585089+00:00] 7e124cd2f81d: Preparing\n"
            ],
            "text/html": [
              "<pre style=\"white-space:pre;overflow-x:auto;line-height:normal;font-family:Menlo,'DejaVu Sans Mono',consolas,'Courier New',monospace\">[2023-02-07T09:03:53.585089+00:00] 7e124cd2f81d: Preparing\n",
              "</pre>\n"
            ]
          },
          "metadata": {}
        },
        {
          "output_type": "display_data",
          "data": {
            "text/plain": [
              "[2023-02-07T09:03:53.585091+00:00] cfd7eb89544b: Preparing\n"
            ],
            "text/html": [
              "<pre style=\"white-space:pre;overflow-x:auto;line-height:normal;font-family:Menlo,'DejaVu Sans Mono',consolas,'Courier New',monospace\">[2023-02-07T09:03:53.585091+00:00] cfd7eb89544b: Preparing\n",
              "</pre>\n"
            ]
          },
          "metadata": {}
        },
        {
          "output_type": "display_data",
          "data": {
            "text/plain": [
              "[2023-02-07T09:03:53.585093+00:00] e4c97b13f26a: Preparing\n"
            ],
            "text/html": [
              "<pre style=\"white-space:pre;overflow-x:auto;line-height:normal;font-family:Menlo,'DejaVu Sans Mono',consolas,'Courier New',monospace\">[2023-02-07T09:03:53.585093+00:00] e4c97b13f26a: Preparing\n",
              "</pre>\n"
            ]
          },
          "metadata": {}
        },
        {
          "output_type": "display_data",
          "data": {
            "text/plain": [
              "[2023-02-07T09:03:53.585095+00:00] 52fb12b3f764: Preparing\n"
            ],
            "text/html": [
              "<pre style=\"white-space:pre;overflow-x:auto;line-height:normal;font-family:Menlo,'DejaVu Sans Mono',consolas,'Courier New',monospace\">[2023-02-07T09:03:53.585095+00:00] 52fb12b3f764: Preparing\n",
              "</pre>\n"
            ]
          },
          "metadata": {}
        },
        {
          "output_type": "display_data",
          "data": {
            "text/plain": [
              "[2023-02-07T09:03:53.585097+00:00] 0dafd2b156dd: Preparing\n"
            ],
            "text/html": [
              "<pre style=\"white-space:pre;overflow-x:auto;line-height:normal;font-family:Menlo,'DejaVu Sans Mono',consolas,'Courier New',monospace\">[2023-02-07T09:03:53.585097+00:00] 0dafd2b156dd: Preparing\n",
              "</pre>\n"
            ]
          },
          "metadata": {}
        },
        {
          "output_type": "display_data",
          "data": {
            "text/plain": [
              "[2023-02-07T09:03:53.585100+00:00] 152e2eadff76: Preparing\n"
            ],
            "text/html": [
              "<pre style=\"white-space:pre;overflow-x:auto;line-height:normal;font-family:Menlo,'DejaVu Sans Mono',consolas,'Courier New',monospace\">[2023-02-07T09:03:53.585100+00:00] 152e2eadff76: Preparing\n",
              "</pre>\n"
            ]
          },
          "metadata": {}
        },
        {
          "output_type": "display_data",
          "data": {
            "text/plain": [
              "[2023-02-07T09:03:53.585102+00:00] 738226f36892: Preparing\n"
            ],
            "text/html": [
              "<pre style=\"white-space:pre;overflow-x:auto;line-height:normal;font-family:Menlo,'DejaVu Sans Mono',consolas,'Courier New',monospace\">[2023-02-07T09:03:53.585102+00:00] 738226f36892: Preparing\n",
              "</pre>\n"
            ]
          },
          "metadata": {}
        },
        {
          "output_type": "display_data",
          "data": {
            "text/plain": [
              "[2023-02-07T09:03:53.585104+00:00] 8fcfc59d80ac: Preparing\n"
            ],
            "text/html": [
              "<pre style=\"white-space:pre;overflow-x:auto;line-height:normal;font-family:Menlo,'DejaVu Sans Mono',consolas,'Courier New',monospace\">[2023-02-07T09:03:53.585104+00:00] 8fcfc59d80ac: Preparing\n",
              "</pre>\n"
            ]
          },
          "metadata": {}
        },
        {
          "output_type": "display_data",
          "data": {
            "text/plain": [
              "[2023-02-07T09:03:53.585128+00:00] e4c97b13f26a: Waiting\n"
            ],
            "text/html": [
              "<pre style=\"white-space:pre;overflow-x:auto;line-height:normal;font-family:Menlo,'DejaVu Sans Mono',consolas,'Courier New',monospace\">[2023-02-07T09:03:53.585128+00:00] e4c97b13f26a: Waiting\n",
              "</pre>\n"
            ]
          },
          "metadata": {}
        },
        {
          "output_type": "display_data",
          "data": {
            "text/plain": [
              "[2023-02-07T09:03:53.585135+00:00] 52fb12b3f764: Waiting\n"
            ],
            "text/html": [
              "<pre style=\"white-space:pre;overflow-x:auto;line-height:normal;font-family:Menlo,'DejaVu Sans Mono',consolas,'Courier New',monospace\">[2023-02-07T09:03:53.585135+00:00] 52fb12b3f764: Waiting\n",
              "</pre>\n"
            ]
          },
          "metadata": {}
        },
        {
          "output_type": "display_data",
          "data": {
            "text/plain": [
              "[2023-02-07T09:03:53.585137+00:00] 0dafd2b156dd: Waiting\n"
            ],
            "text/html": [
              "<pre style=\"white-space:pre;overflow-x:auto;line-height:normal;font-family:Menlo,'DejaVu Sans Mono',consolas,'Courier New',monospace\">[2023-02-07T09:03:53.585137+00:00] 0dafd2b156dd: Waiting\n",
              "</pre>\n"
            ]
          },
          "metadata": {}
        },
        {
          "output_type": "display_data",
          "data": {
            "text/plain": [
              "[2023-02-07T09:03:53.585140+00:00] 152e2eadff76: Waiting\n"
            ],
            "text/html": [
              "<pre style=\"white-space:pre;overflow-x:auto;line-height:normal;font-family:Menlo,'DejaVu Sans Mono',consolas,'Courier New',monospace\">[2023-02-07T09:03:53.585140+00:00] 152e2eadff76: Waiting\n",
              "</pre>\n"
            ]
          },
          "metadata": {}
        },
        {
          "output_type": "display_data",
          "data": {
            "text/plain": [
              "[2023-02-07T09:03:53.585142+00:00] 738226f36892: Waiting\n"
            ],
            "text/html": [
              "<pre style=\"white-space:pre;overflow-x:auto;line-height:normal;font-family:Menlo,'DejaVu Sans Mono',consolas,'Courier New',monospace\">[2023-02-07T09:03:53.585142+00:00] 738226f36892: Waiting\n",
              "</pre>\n"
            ]
          },
          "metadata": {}
        },
        {
          "output_type": "display_data",
          "data": {
            "text/plain": [
              "[2023-02-07T09:03:53.585144+00:00] 8fcfc59d80ac: Waiting\n"
            ],
            "text/html": [
              "<pre style=\"white-space:pre;overflow-x:auto;line-height:normal;font-family:Menlo,'DejaVu Sans Mono',consolas,'Courier New',monospace\">[2023-02-07T09:03:53.585144+00:00] 8fcfc59d80ac: Waiting\n",
              "</pre>\n"
            ]
          },
          "metadata": {}
        },
        {
          "output_type": "display_data",
          "data": {
            "text/plain": [
              "[2023-02-07T09:03:53.585146+00:00] cfd7eb89544b: Waiting\n"
            ],
            "text/html": [
              "<pre style=\"white-space:pre;overflow-x:auto;line-height:normal;font-family:Menlo,'DejaVu Sans Mono',consolas,'Courier New',monospace\">[2023-02-07T09:03:53.585146+00:00] cfd7eb89544b: Waiting\n",
              "</pre>\n"
            ]
          },
          "metadata": {}
        },
        {
          "output_type": "display_data",
          "data": {
            "text/plain": [
              "[2023-02-07T09:03:53.945983+00:00] b050aa9ae650: Pushed\n"
            ],
            "text/html": [
              "<pre style=\"white-space:pre;overflow-x:auto;line-height:normal;font-family:Menlo,'DejaVu Sans Mono',consolas,'Courier New',monospace\">[2023-02-07T09:03:53.945983+00:00] b050aa9ae650: Pushed\n",
              "</pre>\n"
            ]
          },
          "metadata": {}
        },
        {
          "output_type": "display_data",
          "data": {
            "text/plain": [
              "[2023-02-07T09:03:53.947114+00:00] 905b5fefc2ec: Pushed\n"
            ],
            "text/html": [
              "<pre style=\"white-space:pre;overflow-x:auto;line-height:normal;font-family:Menlo,'DejaVu Sans Mono',consolas,'Courier New',monospace\">[2023-02-07T09:03:53.947114+00:00] 905b5fefc2ec: Pushed\n",
              "</pre>\n"
            ]
          },
          "metadata": {}
        },
        {
          "output_type": "display_data",
          "data": {
            "text/plain": [
              "[2023-02-07T09:03:53.990903+00:00] 7e124cd2f81d: Pushed\n"
            ],
            "text/html": [
              "<pre style=\"white-space:pre;overflow-x:auto;line-height:normal;font-family:Menlo,'DejaVu Sans Mono',consolas,'Courier New',monospace\">[2023-02-07T09:03:53.990903+00:00] 7e124cd2f81d: Pushed\n",
              "</pre>\n"
            ]
          },
          "metadata": {}
        },
        {
          "output_type": "display_data",
          "data": {
            "text/plain": [
              "[2023-02-07T09:03:54.609363+00:00] 8cc77bf589bb: Pushed\n"
            ],
            "text/html": [
              "<pre style=\"white-space:pre;overflow-x:auto;line-height:normal;font-family:Menlo,'DejaVu Sans Mono',consolas,'Courier New',monospace\">[2023-02-07T09:03:54.609363+00:00] 8cc77bf589bb: Pushed\n",
              "</pre>\n"
            ]
          },
          "metadata": {}
        },
        {
          "output_type": "display_data",
          "data": {
            "text/plain": [
              "[2023-02-07T09:03:55.433061+00:00] e4c97b13f26a: Pushed\n"
            ],
            "text/html": [
              "<pre style=\"white-space:pre;overflow-x:auto;line-height:normal;font-family:Menlo,'DejaVu Sans Mono',consolas,'Courier New',monospace\">[2023-02-07T09:03:55.433061+00:00] e4c97b13f26a: Pushed\n",
              "</pre>\n"
            ]
          },
          "metadata": {}
        },
        {
          "output_type": "display_data",
          "data": {
            "text/plain": [
              "[2023-02-07T09:03:56.807130+00:00] cfd7eb89544b: Pushed\n"
            ],
            "text/html": [
              "<pre style=\"white-space:pre;overflow-x:auto;line-height:normal;font-family:Menlo,'DejaVu Sans Mono',consolas,'Courier New',monospace\">[2023-02-07T09:03:56.807130+00:00] cfd7eb89544b: Pushed\n",
              "</pre>\n"
            ]
          },
          "metadata": {}
        },
        {
          "output_type": "display_data",
          "data": {
            "text/plain": [
              "[2023-02-07T09:03:57.089693+00:00] 152e2eadff76: Pushed\n"
            ],
            "text/html": [
              "<pre style=\"white-space:pre;overflow-x:auto;line-height:normal;font-family:Menlo,'DejaVu Sans Mono',consolas,'Courier New',monospace\">[2023-02-07T09:03:57.089693+00:00] 152e2eadff76: Pushed\n",
              "</pre>\n"
            ]
          },
          "metadata": {}
        },
        {
          "output_type": "display_data",
          "data": {
            "text/plain": [
              "[2023-02-07T09:03:57.879827+00:00] 738226f36892: Pushed\n"
            ],
            "text/html": [
              "<pre style=\"white-space:pre;overflow-x:auto;line-height:normal;font-family:Menlo,'DejaVu Sans Mono',consolas,'Courier New',monospace\">[2023-02-07T09:03:57.879827+00:00] 738226f36892: Pushed\n",
              "</pre>\n"
            ]
          },
          "metadata": {}
        },
        {
          "output_type": "display_data",
          "data": {
            "text/plain": [
              "[2023-02-07T09:04:02.474469+00:00] 0dafd2b156dd: Pushed\n"
            ],
            "text/html": [
              "<pre style=\"white-space:pre;overflow-x:auto;line-height:normal;font-family:Menlo,'DejaVu Sans Mono',consolas,'Courier New',monospace\">[2023-02-07T09:04:02.474469+00:00] 0dafd2b156dd: Pushed\n",
              "</pre>\n"
            ]
          },
          "metadata": {}
        },
        {
          "output_type": "display_data",
          "data": {
            "text/plain": [
              "[2023-02-07T09:04:03.385597+00:00] 8fcfc59d80ac: Pushed\n"
            ],
            "text/html": [
              "<pre style=\"white-space:pre;overflow-x:auto;line-height:normal;font-family:Menlo,'DejaVu Sans Mono',consolas,'Courier New',monospace\">[2023-02-07T09:04:03.385597+00:00] 8fcfc59d80ac: Pushed\n",
              "</pre>\n"
            ]
          },
          "metadata": {}
        },
        {
          "output_type": "display_data",
          "data": {
            "text/plain": [
              "[2023-02-07T09:04:09.770291+00:00] bfbeb59861c4: Pushed\n"
            ],
            "text/html": [
              "<pre style=\"white-space:pre;overflow-x:auto;line-height:normal;font-family:Menlo,'DejaVu Sans Mono',consolas,'Courier New',monospace\">[2023-02-07T09:04:09.770291+00:00] bfbeb59861c4: Pushed\n",
              "</pre>\n"
            ]
          },
          "metadata": {}
        },
        {
          "output_type": "display_data",
          "data": {
            "text/plain": [
              "[2023-02-07T09:04:16.371034+00:00] 52fb12b3f764: Pushed\n"
            ],
            "text/html": [
              "<pre style=\"white-space:pre;overflow-x:auto;line-height:normal;font-family:Menlo,'DejaVu Sans Mono',consolas,'Courier New',monospace\">[2023-02-07T09:04:16.371034+00:00] 52fb12b3f764: Pushed\n",
              "</pre>\n"
            ]
          },
          "metadata": {}
        },
        {
          "output_type": "display_data",
          "data": {
            "text/plain": [
              "[2023-02-07T09:04:16.958544+00:00] 1: digest: \n",
              "sha256:694a171a60e47cbbeb9795fed649b1ef31ffb308fe8c71cbd722c679fc77941f size: 2846\n"
            ],
            "text/html": [
              "<pre style=\"white-space:pre;overflow-x:auto;line-height:normal;font-family:Menlo,'DejaVu Sans Mono',consolas,'Courier New',monospace\">[2023-02-07T09:04:16.958544+00:00] 1: digest: \n",
              "sha256:694a171a60e47cbbeb9795fed649b1ef31ffb308fe8c71cbd722c679fc77941f size: 2846\n",
              "</pre>\n"
            ]
          },
          "metadata": {}
        },
        {
          "output_type": "display_data",
          "data": {
            "text/plain": [
              "[2023-02-07T09:04:16.993641+00:00] The push refers to repository \n",
              "[416964291864.dkr.ecr.eu-west-1.amazonaws.com/hardik-ws-red-wine-demo-89er3]\n"
            ],
            "text/html": [
              "<pre style=\"white-space:pre;overflow-x:auto;line-height:normal;font-family:Menlo,'DejaVu Sans Mono',consolas,'Courier New',monospace\">[2023-02-07T09:04:16.993641+00:00] The push refers to repository \n",
              "[416964291864.dkr.ecr.eu-west-1.amazonaws.com/hardik-ws-red-wine-demo-89er3]\n",
              "</pre>\n"
            ]
          },
          "metadata": {}
        },
        {
          "output_type": "display_data",
          "data": {
            "text/plain": [
              "[2023-02-07T09:04:17.001799+00:00] b050aa9ae650: Preparing\n"
            ],
            "text/html": [
              "<pre style=\"white-space:pre;overflow-x:auto;line-height:normal;font-family:Menlo,'DejaVu Sans Mono',consolas,'Courier New',monospace\">[2023-02-07T09:04:17.001799+00:00] b050aa9ae650: Preparing\n",
              "</pre>\n"
            ]
          },
          "metadata": {}
        },
        {
          "output_type": "display_data",
          "data": {
            "text/plain": [
              "[2023-02-07T09:04:17.001838+00:00] bfbeb59861c4: Preparing\n"
            ],
            "text/html": [
              "<pre style=\"white-space:pre;overflow-x:auto;line-height:normal;font-family:Menlo,'DejaVu Sans Mono',consolas,'Courier New',monospace\">[2023-02-07T09:04:17.001838+00:00] bfbeb59861c4: Preparing\n",
              "</pre>\n"
            ]
          },
          "metadata": {}
        },
        {
          "output_type": "display_data",
          "data": {
            "text/plain": [
              "[2023-02-07T09:04:17.001843+00:00] 905b5fefc2ec: Preparing\n"
            ],
            "text/html": [
              "<pre style=\"white-space:pre;overflow-x:auto;line-height:normal;font-family:Menlo,'DejaVu Sans Mono',consolas,'Courier New',monospace\">[2023-02-07T09:04:17.001843+00:00] 905b5fefc2ec: Preparing\n",
              "</pre>\n"
            ]
          },
          "metadata": {}
        },
        {
          "output_type": "display_data",
          "data": {
            "text/plain": [
              "[2023-02-07T09:04:17.001847+00:00] 8cc77bf589bb: Preparing\n"
            ],
            "text/html": [
              "<pre style=\"white-space:pre;overflow-x:auto;line-height:normal;font-family:Menlo,'DejaVu Sans Mono',consolas,'Courier New',monospace\">[2023-02-07T09:04:17.001847+00:00] 8cc77bf589bb: Preparing\n",
              "</pre>\n"
            ]
          },
          "metadata": {}
        },
        {
          "output_type": "display_data",
          "data": {
            "text/plain": [
              "[2023-02-07T09:04:17.001849+00:00] 7e124cd2f81d: Preparing\n"
            ],
            "text/html": [
              "<pre style=\"white-space:pre;overflow-x:auto;line-height:normal;font-family:Menlo,'DejaVu Sans Mono',consolas,'Courier New',monospace\">[2023-02-07T09:04:17.001849+00:00] 7e124cd2f81d: Preparing\n",
              "</pre>\n"
            ]
          },
          "metadata": {}
        },
        {
          "output_type": "display_data",
          "data": {
            "text/plain": [
              "[2023-02-07T09:04:17.001852+00:00] cfd7eb89544b: Preparing\n"
            ],
            "text/html": [
              "<pre style=\"white-space:pre;overflow-x:auto;line-height:normal;font-family:Menlo,'DejaVu Sans Mono',consolas,'Courier New',monospace\">[2023-02-07T09:04:17.001852+00:00] cfd7eb89544b: Preparing\n",
              "</pre>\n"
            ]
          },
          "metadata": {}
        },
        {
          "output_type": "display_data",
          "data": {
            "text/plain": [
              "[2023-02-07T09:04:17.001854+00:00] e4c97b13f26a: Preparing\n"
            ],
            "text/html": [
              "<pre style=\"white-space:pre;overflow-x:auto;line-height:normal;font-family:Menlo,'DejaVu Sans Mono',consolas,'Courier New',monospace\">[2023-02-07T09:04:17.001854+00:00] e4c97b13f26a: Preparing\n",
              "</pre>\n"
            ]
          },
          "metadata": {}
        },
        {
          "output_type": "display_data",
          "data": {
            "text/plain": [
              "[2023-02-07T09:04:17.001856+00:00] 52fb12b3f764: Preparing\n"
            ],
            "text/html": [
              "<pre style=\"white-space:pre;overflow-x:auto;line-height:normal;font-family:Menlo,'DejaVu Sans Mono',consolas,'Courier New',monospace\">[2023-02-07T09:04:17.001856+00:00] 52fb12b3f764: Preparing\n",
              "</pre>\n"
            ]
          },
          "metadata": {}
        },
        {
          "output_type": "display_data",
          "data": {
            "text/plain": [
              "[2023-02-07T09:04:17.001886+00:00] 152e2eadff76: Preparing\n"
            ],
            "text/html": [
              "<pre style=\"white-space:pre;overflow-x:auto;line-height:normal;font-family:Menlo,'DejaVu Sans Mono',consolas,'Courier New',monospace\">[2023-02-07T09:04:17.001886+00:00] 152e2eadff76: Preparing\n",
              "</pre>\n"
            ]
          },
          "metadata": {}
        },
        {
          "output_type": "display_data",
          "data": {
            "text/plain": [
              "[2023-02-07T09:04:17.001858+00:00] 0dafd2b156dd: Preparing\n"
            ],
            "text/html": [
              "<pre style=\"white-space:pre;overflow-x:auto;line-height:normal;font-family:Menlo,'DejaVu Sans Mono',consolas,'Courier New',monospace\">[2023-02-07T09:04:17.001858+00:00] 0dafd2b156dd: Preparing\n",
              "</pre>\n"
            ]
          },
          "metadata": {}
        },
        {
          "output_type": "display_data",
          "data": {
            "text/plain": [
              "[2023-02-07T09:04:17.001893+00:00] 738226f36892: Preparing\n"
            ],
            "text/html": [
              "<pre style=\"white-space:pre;overflow-x:auto;line-height:normal;font-family:Menlo,'DejaVu Sans Mono',consolas,'Courier New',monospace\">[2023-02-07T09:04:17.001893+00:00] 738226f36892: Preparing\n",
              "</pre>\n"
            ]
          },
          "metadata": {}
        },
        {
          "output_type": "display_data",
          "data": {
            "text/plain": [
              "[2023-02-07T09:04:17.001895+00:00] 8fcfc59d80ac: Preparing\n"
            ],
            "text/html": [
              "<pre style=\"white-space:pre;overflow-x:auto;line-height:normal;font-family:Menlo,'DejaVu Sans Mono',consolas,'Courier New',monospace\">[2023-02-07T09:04:17.001895+00:00] 8fcfc59d80ac: Preparing\n",
              "</pre>\n"
            ]
          },
          "metadata": {}
        },
        {
          "output_type": "display_data",
          "data": {
            "text/plain": [
              "[2023-02-07T09:04:17.001912+00:00] e4c97b13f26a: Waiting\n"
            ],
            "text/html": [
              "<pre style=\"white-space:pre;overflow-x:auto;line-height:normal;font-family:Menlo,'DejaVu Sans Mono',consolas,'Courier New',monospace\">[2023-02-07T09:04:17.001912+00:00] e4c97b13f26a: Waiting\n",
              "</pre>\n"
            ]
          },
          "metadata": {}
        },
        {
          "output_type": "display_data",
          "data": {
            "text/plain": [
              "[2023-02-07T09:04:17.001914+00:00] 52fb12b3f764: Waiting\n"
            ],
            "text/html": [
              "<pre style=\"white-space:pre;overflow-x:auto;line-height:normal;font-family:Menlo,'DejaVu Sans Mono',consolas,'Courier New',monospace\">[2023-02-07T09:04:17.001914+00:00] 52fb12b3f764: Waiting\n",
              "</pre>\n"
            ]
          },
          "metadata": {}
        },
        {
          "output_type": "display_data",
          "data": {
            "text/plain": [
              "[2023-02-07T09:04:17.001915+00:00] 0dafd2b156dd: Waiting\n"
            ],
            "text/html": [
              "<pre style=\"white-space:pre;overflow-x:auto;line-height:normal;font-family:Menlo,'DejaVu Sans Mono',consolas,'Courier New',monospace\">[2023-02-07T09:04:17.001915+00:00] 0dafd2b156dd: Waiting\n",
              "</pre>\n"
            ]
          },
          "metadata": {}
        },
        {
          "output_type": "display_data",
          "data": {
            "text/plain": [
              "[2023-02-07T09:04:17.001918+00:00] 738226f36892: Waiting\n"
            ],
            "text/html": [
              "<pre style=\"white-space:pre;overflow-x:auto;line-height:normal;font-family:Menlo,'DejaVu Sans Mono',consolas,'Courier New',monospace\">[2023-02-07T09:04:17.001918+00:00] 738226f36892: Waiting\n",
              "</pre>\n"
            ]
          },
          "metadata": {}
        },
        {
          "output_type": "display_data",
          "data": {
            "text/plain": [
              "[2023-02-07T09:04:17.001922+00:00] 8fcfc59d80ac: Waiting\n"
            ],
            "text/html": [
              "<pre style=\"white-space:pre;overflow-x:auto;line-height:normal;font-family:Menlo,'DejaVu Sans Mono',consolas,'Courier New',monospace\">[2023-02-07T09:04:17.001922+00:00] 8fcfc59d80ac: Waiting\n",
              "</pre>\n"
            ]
          },
          "metadata": {}
        },
        {
          "output_type": "display_data",
          "data": {
            "text/plain": [
              "[2023-02-07T09:04:17.031118+00:00] bfbeb59861c4: Layer already exists\n"
            ],
            "text/html": [
              "<pre style=\"white-space:pre;overflow-x:auto;line-height:normal;font-family:Menlo,'DejaVu Sans Mono',consolas,'Courier New',monospace\">[2023-02-07T09:04:17.031118+00:00] bfbeb59861c4: Layer already exists\n",
              "</pre>\n"
            ]
          },
          "metadata": {}
        },
        {
          "output_type": "display_data",
          "data": {
            "text/plain": [
              "[2023-02-07T09:04:17.036796+00:00] 905b5fefc2ec: Layer already exists\n"
            ],
            "text/html": [
              "<pre style=\"white-space:pre;overflow-x:auto;line-height:normal;font-family:Menlo,'DejaVu Sans Mono',consolas,'Courier New',monospace\">[2023-02-07T09:04:17.036796+00:00] 905b5fefc2ec: Layer already exists\n",
              "</pre>\n"
            ]
          },
          "metadata": {}
        },
        {
          "output_type": "display_data",
          "data": {
            "text/plain": [
              "[2023-02-07T09:04:17.036526+00:00] 7e124cd2f81d: Layer already exists\n"
            ],
            "text/html": [
              "<pre style=\"white-space:pre;overflow-x:auto;line-height:normal;font-family:Menlo,'DejaVu Sans Mono',consolas,'Courier New',monospace\">[2023-02-07T09:04:17.036526+00:00] 7e124cd2f81d: Layer already exists\n",
              "</pre>\n"
            ]
          },
          "metadata": {}
        },
        {
          "output_type": "display_data",
          "data": {
            "text/plain": [
              "[2023-02-07T09:04:17.040059+00:00] 8cc77bf589bb: Layer already exists\n"
            ],
            "text/html": [
              "<pre style=\"white-space:pre;overflow-x:auto;line-height:normal;font-family:Menlo,'DejaVu Sans Mono',consolas,'Courier New',monospace\">[2023-02-07T09:04:17.040059+00:00] 8cc77bf589bb: Layer already exists\n",
              "</pre>\n"
            ]
          },
          "metadata": {}
        },
        {
          "output_type": "display_data",
          "data": {
            "text/plain": [
              "[2023-02-07T09:04:17.043227+00:00] b050aa9ae650: Layer already exists\n"
            ],
            "text/html": [
              "<pre style=\"white-space:pre;overflow-x:auto;line-height:normal;font-family:Menlo,'DejaVu Sans Mono',consolas,'Courier New',monospace\">[2023-02-07T09:04:17.043227+00:00] b050aa9ae650: Layer already exists\n",
              "</pre>\n"
            ]
          },
          "metadata": {}
        },
        {
          "output_type": "display_data",
          "data": {
            "text/plain": [
              "[2023-02-07T09:04:17.059601+00:00] 52fb12b3f764: Layer already exists\n"
            ],
            "text/html": [
              "<pre style=\"white-space:pre;overflow-x:auto;line-height:normal;font-family:Menlo,'DejaVu Sans Mono',consolas,'Courier New',monospace\">[2023-02-07T09:04:17.059601+00:00] 52fb12b3f764: Layer already exists\n",
              "</pre>\n"
            ]
          },
          "metadata": {}
        },
        {
          "output_type": "display_data",
          "data": {
            "text/plain": [
              "[2023-02-07T09:04:17.065153+00:00] cfd7eb89544b: Layer already exists\n"
            ],
            "text/html": [
              "<pre style=\"white-space:pre;overflow-x:auto;line-height:normal;font-family:Menlo,'DejaVu Sans Mono',consolas,'Courier New',monospace\">[2023-02-07T09:04:17.065153+00:00] cfd7eb89544b: Layer already exists\n",
              "</pre>\n"
            ]
          },
          "metadata": {}
        },
        {
          "output_type": "display_data",
          "data": {
            "text/plain": [
              "[2023-02-07T09:04:17.069571+00:00] e4c97b13f26a: Layer already exists\n"
            ],
            "text/html": [
              "<pre style=\"white-space:pre;overflow-x:auto;line-height:normal;font-family:Menlo,'DejaVu Sans Mono',consolas,'Courier New',monospace\">[2023-02-07T09:04:17.069571+00:00] e4c97b13f26a: Layer already exists\n",
              "</pre>\n"
            ]
          },
          "metadata": {}
        },
        {
          "output_type": "display_data",
          "data": {
            "text/plain": [
              "[2023-02-07T09:04:17.078942+00:00] 152e2eadff76: Layer already exists\n"
            ],
            "text/html": [
              "<pre style=\"white-space:pre;overflow-x:auto;line-height:normal;font-family:Menlo,'DejaVu Sans Mono',consolas,'Courier New',monospace\">[2023-02-07T09:04:17.078942+00:00] 152e2eadff76: Layer already exists\n",
              "</pre>\n"
            ]
          },
          "metadata": {}
        },
        {
          "output_type": "display_data",
          "data": {
            "text/plain": [
              "[2023-02-07T09:04:17.081797+00:00] 0dafd2b156dd: Layer already exists\n"
            ],
            "text/html": [
              "<pre style=\"white-space:pre;overflow-x:auto;line-height:normal;font-family:Menlo,'DejaVu Sans Mono',consolas,'Courier New',monospace\">[2023-02-07T09:04:17.081797+00:00] 0dafd2b156dd: Layer already exists\n",
              "</pre>\n"
            ]
          },
          "metadata": {}
        },
        {
          "output_type": "display_data",
          "data": {
            "text/plain": [
              "[2023-02-07T09:04:17.097547+00:00] 738226f36892: Layer already exists\n"
            ],
            "text/html": [
              "<pre style=\"white-space:pre;overflow-x:auto;line-height:normal;font-family:Menlo,'DejaVu Sans Mono',consolas,'Courier New',monospace\">[2023-02-07T09:04:17.097547+00:00] 738226f36892: Layer already exists\n",
              "</pre>\n"
            ]
          },
          "metadata": {}
        },
        {
          "output_type": "display_data",
          "data": {
            "text/plain": [
              "[2023-02-07T09:04:17.104272+00:00] 8fcfc59d80ac: Layer already exists\n"
            ],
            "text/html": [
              "<pre style=\"white-space:pre;overflow-x:auto;line-height:normal;font-family:Menlo,'DejaVu Sans Mono',consolas,'Courier New',monospace\">[2023-02-07T09:04:17.104272+00:00] 8fcfc59d80ac: Layer already exists\n",
              "</pre>\n"
            ]
          },
          "metadata": {}
        },
        {
          "output_type": "display_data",
          "data": {
            "text/plain": [
              "[2023-02-07T09:04:17.216509+00:00] latest: digest: \n",
              "sha256:694a171a60e47cbbeb9795fed649b1ef31ffb308fe8c71cbd722c679fc77941f size: 2846\n"
            ],
            "text/html": [
              "<pre style=\"white-space:pre;overflow-x:auto;line-height:normal;font-family:Menlo,'DejaVu Sans Mono',consolas,'Courier New',monospace\">[2023-02-07T09:04:17.216509+00:00] latest: digest: \n",
              "sha256:694a171a60e47cbbeb9795fed649b1ef31ffb308fe8c71cbd722c679fc77941f size: 2846\n",
              "</pre>\n"
            ]
          },
          "metadata": {}
        },
        {
          "output_type": "display_data",
          "data": {
            "text/plain": [
              "[2023-02-07T09:04:17.217860+00:00] \u001b[36m[==== Docker logs end ====]\u001b[0m\n"
            ],
            "text/html": [
              "<pre style=\"white-space:pre;overflow-x:auto;line-height:normal;font-family:Menlo,'DejaVu Sans Mono',consolas,'Courier New',monospace\">[2023-02-07T09:04:17.217860+00:00] <span style=\"color: #008080; text-decoration-color: #008080\">[==== Docker logs end ====]</span>\n",
              "</pre>\n"
            ]
          },
          "metadata": {}
        },
        {
          "output_type": "display_data",
          "data": {
            "text/plain": [
              "[2023-02-07T09:04:17.233257+00:00] \u001b[33m[==== Docker Image Size:- 1.27GB ====]\u001b[0m\n"
            ],
            "text/html": [
              "<pre style=\"white-space:pre;overflow-x:auto;line-height:normal;font-family:Menlo,'DejaVu Sans Mono',consolas,'Courier New',monospace\">[2023-02-07T09:04:17.233257+00:00] <span style=\"color: #808000; text-decoration-color: #808000\">[==== Docker Image Size:- 1.27GB ====]</span>\n",
              "</pre>\n"
            ]
          },
          "metadata": {}
        },
        {
          "output_type": "display_data",
          "data": {
            "text/plain": [
              "[2023-02-07T09:04:17.233281+00:00] \u001b[32m[Done]\u001b[0m Docker image built and pushed\n"
            ],
            "text/html": [
              "<pre style=\"white-space:pre;overflow-x:auto;line-height:normal;font-family:Menlo,'DejaVu Sans Mono',consolas,'Courier New',monospace\">[2023-02-07T09:04:17.233281+00:00] <span style=\"color: #008000; text-decoration-color: #008000\">[Done]</span> Docker image built and pushed\n",
              "</pre>\n"
            ]
          },
          "metadata": {}
        },
        {
          "output_type": "display_data",
          "data": {
            "text/plain": [
              "[2023-02-07T09:04:47.287269+00:00] \u001b[36m[Start]\u001b[0m Sending request to url: \n",
              "http://truefoundry-servicefoundry-server.truefoundry.svc.cluster.local:3000/v1/x/builds/cldu0kq350dmf1hqvbflc9jmf \n",
              "with json {\"status\": \"SUCCEEDED\", \"imageUri\": \n",
              "\"416964291864.dkr.ecr.eu-west-1.amazonaws.com/hardik-ws-red-wine-demo-89er3:1\"}\n"
            ],
            "text/html": [
              "<pre style=\"white-space:pre;overflow-x:auto;line-height:normal;font-family:Menlo,'DejaVu Sans Mono',consolas,'Courier New',monospace\">[2023-02-07T09:04:47.287269+00:00] <span style=\"color: #008080; text-decoration-color: #008080\">[Start]</span> Sending request to url: \n",
              "http://truefoundry-servicefoundry-server.truefoundry.svc.cluster.local:3000/v1/x/builds/cldu0kq350dmf1hqvbflc9jmf \n",
              "with json {\"status\": \"SUCCEEDED\", \"imageUri\": \n",
              "\"416964291864.dkr.ecr.eu-west-1.amazonaws.com/hardik-ws-red-wine-demo-89er3:1\"}\n",
              "</pre>\n"
            ]
          },
          "metadata": {}
        },
        {
          "output_type": "display_data",
          "data": {
            "text/plain": [
              "[2023-02-07T09:04:58.159332+00:00] \u001b[32m[Done]\u001b[0m Image Built Successfully.\n"
            ],
            "text/html": [
              "<pre style=\"white-space:pre;overflow-x:auto;line-height:normal;font-family:Menlo,'DejaVu Sans Mono',consolas,'Courier New',monospace\">[2023-02-07T09:04:58.159332+00:00] <span style=\"color: #008000; text-decoration-color: #008000\">[Done]</span> Image Built Successfully.\n",
              "</pre>\n"
            ]
          },
          "metadata": {}
        },
        {
          "output_type": "display_data",
          "data": {
            "text/plain": [
              "[2023-02-07T09:04:58.159362+00:00] \u001b[32m[Done]\u001b[0m Kubernetes deployment triggered. It may take 5-10s for the application to\n",
              "be live.\n"
            ],
            "text/html": [
              "<pre style=\"white-space:pre;overflow-x:auto;line-height:normal;font-family:Menlo,'DejaVu Sans Mono',consolas,'Courier New',monospace\">[2023-02-07T09:04:58.159362+00:00] <span style=\"color: #008000; text-decoration-color: #008000\">[Done]</span> Kubernetes deployment triggered. It may take 5-10s for the application to\n",
              "be live.\n",
              "</pre>\n"
            ]
          },
          "metadata": {}
        },
        {
          "output_type": "stream",
          "name": "stderr",
          "text": [
            "2023-02-07 09:05:13,437 [servicefoundry] INFO     State: 'DEPLOY_SUCCESS'\n"
          ]
        },
        {
          "output_type": "display_data",
          "data": {
            "text/plain": [],
            "text/html": [
              "<pre style=\"white-space:pre;overflow-x:auto;line-height:normal;font-family:Menlo,'DejaVu Sans Mono',consolas,'Courier New',monospace\"></pre>\n"
            ]
          },
          "metadata": {}
        },
        {
          "output_type": "stream",
          "name": "stderr",
          "text": [
            "2023-02-07 09:05:14,484 [servicefoundry] INFO     You can find the application on the dashboard:- 'https://app.truefoundry.com/applications/cldu0kn850djy1hqv1ax89er3?tab=deployments'\n"
          ]
        },
        {
          "output_type": "execute_result",
          "data": {
            "text/plain": [
              "Deployment(id='cldu0kn950djz1hqvcp0k7heg', fqn='tfy-cluster-euwe1:hardik-ws:red-wine-demo:1', version=1, manifest={'env': {'TFY_HOST': 'https://app.truefoundry.com', 'TFY_API_KEY': 'djE6dHJ1ZWZvdW5kcnk6dXNlci10cnVlZm91bmRyeTphZTJkYmE=', 'INFERENCE_SERVER_URL': 'https://red-wine-infer-hardik-ws.tfy-ctl-euwe1-production.production.truefoundry.com/'}, 'name': 'red-wine-demo', 'type': 'service', 'image': {'type': 'build', 'build_spec': {'type': 'tfy-python-buildpack', 'command': 'streamlit run demo.py', 'python_version': '3.9', 'build_context_path': './'}, 'build_source': {'type': 'remote', 'remote_uri': 's3://tfy-ctl-euwe1-production-mlfoundry-server/tfy-cluster-euwe1:hardik-ws/red-wine-demo/cldu0klpl7s4h1ht85j7jatnb/package.tar.gz'}}, 'ports': [{'port': 8501, 'expose': True, 'protocol': 'TCP'}], 'replicas': 1, 'resources': {'cpu_limit': 0.5, 'cpu_request': 0.5, 'memory_limit': 2500, 'memory_request': 1500, 'ephemeral_storage_limit': 2000, 'ephemeral_storage_request': 1000}}, createdBy='user-truefoundry', applicationId='cldu0kn850djy1hqv1ax89er3', failureReason=None, createdAt=datetime.datetime(2023, 2, 7, 9, 2, 44, 921000, tzinfo=datetime.timezone.utc), updatedAt=datetime.datetime(2023, 2, 7, 9, 2, 44, 927000, tzinfo=datetime.timezone.utc), metadata=[{'name': 'red-wine-demo', 'ports': []}], currentStatusId='cldu0kn980dk01hqv3gunanp4')"
            ]
          },
          "metadata": {},
          "execution_count": 39
        }
      ]
    },
    {
      "cell_type": "markdown",
      "source": [
        "Click on the dashboard link in the terminal. Click on the \"Endpoint\" link on the dashboard to open the streamlit demo"
      ],
      "metadata": {
        "id": "zmj4SOI-0oCw"
      }
    }
  ],
  "metadata": {
    "colab": {
      "collapsed_sections": [
        "2c6nhZIxSvl2",
        "EXQVmwcESbjg",
        "Pk4fgjByGgrr",
        "s9RX9iM5g1UJ",
        "u75vYyd1wxWC",
        "qd_QjjTSz03p"
      ],
      "provenance": []
    },
    "kernelspec": {
      "display_name": "Python 3",
      "name": "python3"
    },
    "language_info": {
      "name": "python"
    },
    "widgets": {
      "application/vnd.jupyter.widget-state+json": {
        "9bdc60762a7d43c6b7c88a8acd904098": {
          "model_module": "@jupyter-widgets/output",
          "model_name": "OutputModel",
          "model_module_version": "1.0.0",
          "state": {
            "_dom_classes": [],
            "_model_module": "@jupyter-widgets/output",
            "_model_module_version": "1.0.0",
            "_model_name": "OutputModel",
            "_view_count": null,
            "_view_module": "@jupyter-widgets/output",
            "_view_module_version": "1.0.0",
            "_view_name": "OutputView",
            "layout": "IPY_MODEL_d40790075b7e47bdaac0b357606780b1",
            "msg_id": "",
            "outputs": [
              {
                "output_type": "display_data",
                "data": {
                  "text/plain": "\u001b[32m⠙\u001b[0m Current state: DEPLOY_SUCCESS\n",
                  "text/html": "<pre style=\"white-space:pre;overflow-x:auto;line-height:normal;font-family:Menlo,'DejaVu Sans Mono',consolas,'Courier New',monospace\"><span style=\"color: #008000; text-decoration-color: #008000\">⠙</span> Current state: DEPLOY_SUCCESS\n</pre>\n"
                },
                "metadata": {}
              }
            ]
          }
        },
        "d40790075b7e47bdaac0b357606780b1": {
          "model_module": "@jupyter-widgets/base",
          "model_name": "LayoutModel",
          "model_module_version": "1.2.0",
          "state": {
            "_model_module": "@jupyter-widgets/base",
            "_model_module_version": "1.2.0",
            "_model_name": "LayoutModel",
            "_view_count": null,
            "_view_module": "@jupyter-widgets/base",
            "_view_module_version": "1.2.0",
            "_view_name": "LayoutView",
            "align_content": null,
            "align_items": null,
            "align_self": null,
            "border": null,
            "bottom": null,
            "display": null,
            "flex": null,
            "flex_flow": null,
            "grid_area": null,
            "grid_auto_columns": null,
            "grid_auto_flow": null,
            "grid_auto_rows": null,
            "grid_column": null,
            "grid_gap": null,
            "grid_row": null,
            "grid_template_areas": null,
            "grid_template_columns": null,
            "grid_template_rows": null,
            "height": null,
            "justify_content": null,
            "justify_items": null,
            "left": null,
            "margin": null,
            "max_height": null,
            "max_width": null,
            "min_height": null,
            "min_width": null,
            "object_fit": null,
            "object_position": null,
            "order": null,
            "overflow": null,
            "overflow_x": null,
            "overflow_y": null,
            "padding": null,
            "right": null,
            "top": null,
            "visibility": null,
            "width": null
          }
        },
        "f548c8593c61498996564d5b18f4695e": {
          "model_module": "@jupyter-widgets/output",
          "model_name": "OutputModel",
          "model_module_version": "1.0.0",
          "state": {
            "_dom_classes": [],
            "_model_module": "@jupyter-widgets/output",
            "_model_module_version": "1.0.0",
            "_model_name": "OutputModel",
            "_view_count": null,
            "_view_module": "@jupyter-widgets/output",
            "_view_module_version": "1.0.0",
            "_view_name": "OutputView",
            "layout": "IPY_MODEL_e2120de563dc4aa7aa837f80c6e651a7",
            "msg_id": "",
            "outputs": [
              {
                "output_type": "display_data",
                "data": {
                  "text/plain": "\u001b[32m⠹\u001b[0m Current state: DEPLOY_SUCCESS\n",
                  "text/html": "<pre style=\"white-space:pre;overflow-x:auto;line-height:normal;font-family:Menlo,'DejaVu Sans Mono',consolas,'Courier New',monospace\"><span style=\"color: #008000; text-decoration-color: #008000\">⠹</span> Current state: DEPLOY_SUCCESS\n</pre>\n"
                },
                "metadata": {}
              }
            ]
          }
        },
        "e2120de563dc4aa7aa837f80c6e651a7": {
          "model_module": "@jupyter-widgets/base",
          "model_name": "LayoutModel",
          "model_module_version": "1.2.0",
          "state": {
            "_model_module": "@jupyter-widgets/base",
            "_model_module_version": "1.2.0",
            "_model_name": "LayoutModel",
            "_view_count": null,
            "_view_module": "@jupyter-widgets/base",
            "_view_module_version": "1.2.0",
            "_view_name": "LayoutView",
            "align_content": null,
            "align_items": null,
            "align_self": null,
            "border": null,
            "bottom": null,
            "display": null,
            "flex": null,
            "flex_flow": null,
            "grid_area": null,
            "grid_auto_columns": null,
            "grid_auto_flow": null,
            "grid_auto_rows": null,
            "grid_column": null,
            "grid_gap": null,
            "grid_row": null,
            "grid_template_areas": null,
            "grid_template_columns": null,
            "grid_template_rows": null,
            "height": null,
            "justify_content": null,
            "justify_items": null,
            "left": null,
            "margin": null,
            "max_height": null,
            "max_width": null,
            "min_height": null,
            "min_width": null,
            "object_fit": null,
            "object_position": null,
            "order": null,
            "overflow": null,
            "overflow_x": null,
            "overflow_y": null,
            "padding": null,
            "right": null,
            "top": null,
            "visibility": null,
            "width": null
          }
        },
        "b4f94e9db77842adb33a6c7582a907d9": {
          "model_module": "@jupyter-widgets/output",
          "model_name": "OutputModel",
          "model_module_version": "1.0.0",
          "state": {
            "_dom_classes": [],
            "_model_module": "@jupyter-widgets/output",
            "_model_module_version": "1.0.0",
            "_model_name": "OutputModel",
            "_view_count": null,
            "_view_module": "@jupyter-widgets/output",
            "_view_module_version": "1.0.0",
            "_view_name": "OutputView",
            "layout": "IPY_MODEL_6a80497b7856464694991cc1dab6b70a",
            "msg_id": "",
            "outputs": [
              {
                "output_type": "display_data",
                "data": {
                  "text/plain": "\u001b[32m⠹\u001b[0m Current state: BUILDING\n",
                  "text/html": "<pre style=\"white-space:pre;overflow-x:auto;line-height:normal;font-family:Menlo,'DejaVu Sans Mono',consolas,'Courier New',monospace\"><span style=\"color: #008000; text-decoration-color: #008000\">⠹</span> Current state: BUILDING\n</pre>\n"
                },
                "metadata": {}
              }
            ]
          }
        },
        "6a80497b7856464694991cc1dab6b70a": {
          "model_module": "@jupyter-widgets/base",
          "model_name": "LayoutModel",
          "model_module_version": "1.2.0",
          "state": {
            "_model_module": "@jupyter-widgets/base",
            "_model_module_version": "1.2.0",
            "_model_name": "LayoutModel",
            "_view_count": null,
            "_view_module": "@jupyter-widgets/base",
            "_view_module_version": "1.2.0",
            "_view_name": "LayoutView",
            "align_content": null,
            "align_items": null,
            "align_self": null,
            "border": null,
            "bottom": null,
            "display": null,
            "flex": null,
            "flex_flow": null,
            "grid_area": null,
            "grid_auto_columns": null,
            "grid_auto_flow": null,
            "grid_auto_rows": null,
            "grid_column": null,
            "grid_gap": null,
            "grid_row": null,
            "grid_template_areas": null,
            "grid_template_columns": null,
            "grid_template_rows": null,
            "height": null,
            "justify_content": null,
            "justify_items": null,
            "left": null,
            "margin": null,
            "max_height": null,
            "max_width": null,
            "min_height": null,
            "min_width": null,
            "object_fit": null,
            "object_position": null,
            "order": null,
            "overflow": null,
            "overflow_x": null,
            "overflow_y": null,
            "padding": null,
            "right": null,
            "top": null,
            "visibility": null,
            "width": null
          }
        }
      }
    }
  },
  "nbformat": 4,
  "nbformat_minor": 0
}