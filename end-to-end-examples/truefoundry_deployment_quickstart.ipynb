{
  "nbformat": 4,
  "nbformat_minor": 0,
  "metadata": {
    "colab": {
      "provenance": [],
      "collapsed_sections": [
        "etyus4gpQXlJ"
      ]
    },
    "kernelspec": {
      "name": "python3",
      "display_name": "Python 3"
    },
    "language_info": {
      "name": "python"
    }
  },
  "cells": [
    {
      "cell_type": "markdown",
      "source": [
        "# 🛠 Setup"
      ],
      "metadata": {
        "id": "2c6nhZIxSvl2"
      }
    },
    {
      "cell_type": "code",
      "source": [
        "pip install -U \"servicefoundry==0.6.6\" \"mlfoundry==0.6.1\""
      ],
      "metadata": {
        "id": "rnalU7uLTgmr"
      },
      "execution_count": null,
      "outputs": []
    },
    {
      "cell_type": "code",
      "source": [
        "import logging\n",
        "[logging.root.removeHandler(h) for h in logging.root.handlers]\n",
        "logging.basicConfig(level=logging.INFO, format='%(asctime)s [%(name)s] %(levelname)-8s %(message)s')"
      ],
      "metadata": {
        "id": "NN133xapzkt7"
      },
      "execution_count": null,
      "outputs": []
    },
    {
      "cell_type": "code",
      "source": [
        "!sfy login"
      ],
      "metadata": {
        "id": "FmmB5HHfXvES"
      },
      "execution_count": null,
      "outputs": []
    },
    {
      "cell_type": "code",
      "source": [
        "# Copy workspace FQN from https://app.truefoundry.com/workspaces\n",
        "from getpass import getpass\n",
        "\n",
        "WORKSPACE=\"tfy-cluster-euwe1:kotak-demo\"\n",
        "TFY_API_KEY = getpass(\"Please enter your API Key,( https://app.truefoundry.com/settings ):-\")"
      ],
      "metadata": {
        "id": "YyzamMrzNqkS"
      },
      "execution_count": null,
      "outputs": []
    },
    {
      "cell_type": "markdown",
      "source": [
        "# ⚡ Jobs - Quick Start\n",
        "Here we will create a simple job that counts to 30 sleeping for 1 second every iteration."
      ],
      "metadata": {
        "id": "5SC-s8sCY-QN"
      }
    },
    {
      "cell_type": "code",
      "source": [
        "!mkdir -p /content/demo/simple/job\n",
        "%cd /content/demo/simple/job"
      ],
      "metadata": {
        "id": "elFpXLl2ZS0g"
      },
      "execution_count": null,
      "outputs": []
    },
    {
      "cell_type": "code",
      "source": [
        "%%writefile run.py\n",
        "\n",
        "import argparse\n",
        "import time\n",
        "\n",
        "\n",
        "def main(limit: int):\n",
        "    for i in range(limit):\n",
        "        print(f\"Running Job: {i + 1}\")\n",
        "        time.sleep(1)\n",
        "\n",
        "if __name__ == '__main__':\n",
        "    parser = argparse.ArgumentParser()\n",
        "    parser.add_argument(\"--limit\", default=10, type=int)\n",
        "    args = parser.parse_args()\n",
        "    main(args.limit)"
      ],
      "metadata": {
        "id": "-i2cZHBJZl2P"
      },
      "execution_count": null,
      "outputs": []
    },
    {
      "cell_type": "code",
      "source": [
        "import logging\n",
        "\n",
        "from servicefoundry import Build, Job, PythonBuild, Resources\n",
        "\n",
        "logging.basicConfig(level=logging.INFO, format='%(asctime)s %(name)-12s %(levelname)-8s %(message)s', force=True)\n",
        "\n",
        "job = Job(\n",
        "    name=\"counter-job\",\n",
        "    image=Build(build_spec=PythonBuild(command=\"python run.py\")),\n",
        "    resources=Resources(cpu_request=0.5, cpu_limit=1.0)\n",
        ")\n",
        "job.deploy(workspace_fqn=WORKSPACE)"
      ],
      "metadata": {
        "id": "ZxqxKsvaaf8e"
      },
      "execution_count": null,
      "outputs": []
    },
    {
      "cell_type": "markdown",
      "source": [
        "# ☁ Service - Quick Start\n",
        "Here we will take two python functions that use numpy and register them as routes in a deployed web service"
      ],
      "metadata": {
        "id": "QNKTerWxZClv"
      }
    },
    {
      "cell_type": "code",
      "source": [
        "! mkdir -p /content/demo/simple/service\n",
        "%cd /content/demo/simple/service"
      ],
      "metadata": {
        "id": "B04Ag0uNYh1w"
      },
      "execution_count": null,
      "outputs": []
    },
    {
      "cell_type": "code",
      "source": [
        "%%writefile service.py\n",
        "from fastapi import FastAPI\n",
        "\n",
        "app = FastAPI()\n",
        "\n",
        "\n",
        "@app.get(\"/\")\n",
        "async def root():\n",
        "    return {\"message\": \"Hello World\"}"
      ],
      "metadata": {
        "id": "xeQ3oqdwbmc9"
      },
      "execution_count": null,
      "outputs": []
    },
    {
      "cell_type": "code",
      "source": [
        "%%writefile requirements.txt\n",
        "fastapi==0.89.1\n",
        "uvicorn==0.20.0"
      ],
      "metadata": {
        "id": "PWAF1-s3b51l"
      },
      "execution_count": null,
      "outputs": []
    },
    {
      "cell_type": "code",
      "source": [
        "import logging\n",
        "\n",
        "from servicefoundry import Build, Service, PythonBuild, Resources\n",
        "\n",
        "logging.basicConfig(level=logging.INFO, format='%(asctime)s %(name)-12s %(levelname)-8s %(message)s', force=True)\n",
        "\n",
        "service = Service(\n",
        "    name=\"fastapi-service\",\n",
        "    image=Build(build_spec=PythonBuild(command=\"uvicorn service:app --host 0.0.0.0 --port 8080\")),\n",
        "    resources=Resources(cpu_request=0.5, cpu_limit=1.0),\n",
        "    ports=[{\"port\": 8080}]\n",
        ")\n",
        "service.deploy(workspace_fqn=WORKSPACE)"
      ],
      "metadata": {
        "id": "uOklrgu2bvSU"
      },
      "execution_count": null,
      "outputs": []
    },
    {
      "cell_type": "markdown",
      "source": [
        "# ☁ Function as Service - Quick Start\n",
        "Here we will take two python functions that use numpy and register them as routes in a deployed web service"
      ],
      "metadata": {
        "id": "etyus4gpQXlJ"
      }
    },
    {
      "cell_type": "code",
      "source": [
        "! mkdir -p /content/demo/simple/function-service\n",
        "%cd /content/demo/simple/function-service"
      ],
      "metadata": {
        "id": "4hXhrrbIQXlW"
      },
      "execution_count": null,
      "outputs": []
    },
    {
      "cell_type": "code",
      "source": [
        "%%writefile functions.py\n",
        "from typing import List\n",
        "import numpy as np\n",
        "\n",
        "def multiply(a: float, b: float):\n",
        "  return a * b \n",
        "\n",
        "def normal(loc: float, scale: float, size: List[int]):\n",
        "    return np.random.normal(loc=loc, scale=scale, size=size).tolist()\n",
        "\n",
        "def uniform(low: float, high: float, size: List[int]):\n",
        "    return np.random.uniform(low=low, high=high, size=size).tolist()"
      ],
      "metadata": {
        "id": "-e-d9vR5QXlW"
      },
      "execution_count": null,
      "outputs": []
    },
    {
      "cell_type": "code",
      "source": [
        "%%writefile requirements.txt\n",
        "numpy==1.21.6"
      ],
      "metadata": {
        "id": "hWXkaUqsQXlW"
      },
      "execution_count": null,
      "outputs": []
    },
    {
      "cell_type": "code",
      "source": [
        "import logging\n",
        "logging.basicConfig(level=logging.INFO, format='%(asctime)s %(name)-12s %(levelname)-8s %(message)s', force=True)\n",
        "\n",
        "from functions import normal, uniform, multiply\n",
        "from servicefoundry.function_service import FunctionService\n",
        "\n",
        "service = FunctionService(name=\"fn-service\")\n",
        "service.register_function(normal)\n",
        "service.register_function(uniform)\n",
        "service.register_function(multiply)\n",
        "deployment = service.deploy(workspace_fqn=WORKSPACE)"
      ],
      "metadata": {
        "id": "zZZLxXVAQXlX"
      },
      "execution_count": null,
      "outputs": []
    },
    {
      "cell_type": "code",
      "source": [
        "! mkdir -p /content/demo/regression/\n",
        "%cd /content/demo/regression/"
      ],
      "metadata": {
        "id": "6W3ZGvOCl_wF"
      },
      "execution_count": null,
      "outputs": []
    },
    {
      "cell_type": "code",
      "source": [
        "%%writefile train.py\n",
        "import argparse\n",
        "\n",
        "import matplotlib.pyplot as plt\n",
        "import mlfoundry\n",
        "from sklearn.datasets import load_diabetes\n",
        "from sklearn.model_selection import train_test_split\n",
        "from sklearn.compose import TransformedTargetRegressor\n",
        "from sklearn.preprocessing import QuantileTransformer\n",
        "from sklearn.svm import SVC\n",
        "from sklearn.svm import SVR\n",
        "from sklearn.metrics import PredictionErrorDisplay\n",
        "\n",
        "\n",
        "def train(kernel: str):\n",
        "    X, y = load_diabetes(as_frame=True, return_X_y=True)\n",
        "    X_train, X_test, y_train, y_test = train_test_split(\n",
        "        X, y, test_size=0.2, random_state=42\n",
        "    )\n",
        "\n",
        "    regressor = SVR(kernel=kernel)\n",
        "    model = TransformedTargetRegressor(\n",
        "        regressor=regressor,\n",
        "        transformer=QuantileTransformer(n_quantiles=100, output_distribution=\"normal\"),\n",
        "    ).fit(X_train, y_train)\n",
        "    model.fit(X_train, y_train)\n",
        "\n",
        "    y_pred = model.predict(X_test)\n",
        "\n",
        "    PredictionErrorDisplay.from_predictions(\n",
        "        y_test,\n",
        "        y_pred,\n",
        "        kind=\"actual_vs_predicted\",\n",
        "        scatter_kwargs={\"alpha\": 0.5},\n",
        "    )\n",
        "\n",
        "    run = mlfoundry.get_client().create_run(\n",
        "        project_name=\"diabetes-regression\", run_name=\"SVR-with-QT\"\n",
        "    )\n",
        "\n",
        "    run.log_params(regressor.get_params())\n",
        "    run.log_metrics({\"score\": model.score(X_test, y_test)})\n",
        "    run.log_plots({\"actual_vs_predicted\": plt})\n",
        "\n",
        "    model_version = run.log_model(\n",
        "        name=\"diabetes-regression\",\n",
        "        model=model,\n",
        "        framework=\"sklearn\",\n",
        "        description=\"SVC model trained on initial data\",\n",
        "        model_schema={\n",
        "          \"features\": [\n",
        "            {\"name\": c, \"type\": \"float\"} for c in X.columns\n",
        "          ],\n",
        "          \"prediction\": \"numeric\",\n",
        "        },\n",
        "        custom_metrics=[{\"name\": \"mean_square_error\", \"type\": \"metric\", \"value_type\": \"float\"}]\n",
        "    )\n",
        "    print(f\"Logged model: {model_version.fqn}\")\n",
        "    run.end()\n",
        "\n",
        "\n",
        "if __name__ == \"__main__\":\n",
        "    parser = argparse.ArgumentParser()\n",
        "    parser.add_argument(\"--kernel\", default=\"linear\", type=str)\n",
        "    args = parser.parse_args()\n",
        "\n",
        "    train(kernel=args.kernel)"
      ],
      "metadata": {
        "id": "wkFzcKDAsADd"
      },
      "execution_count": null,
      "outputs": []
    },
    {
      "cell_type": "code",
      "source": [
        "%%writefile requirements.txt\n",
        "pandas==1.3.5\n",
        "scikit-learn==1.2.1\n",
        "mlfoundry==0.6.1\n",
        "matplotlib==3.2.2"
      ],
      "metadata": {
        "id": "tP1zwU-Opc2w"
      },
      "execution_count": null,
      "outputs": []
    },
    {
      "cell_type": "code",
      "source": [
        "import logging\n",
        "from getpass import getpass\n",
        "\n",
        "from servicefoundry import Build, Job, PythonBuild\n",
        "\n",
        "logging.basicConfig(level=logging.INFO, format='%(asctime)s %(name)-12s %(levelname)-8s %(message)s', force=True)\n",
        "\n",
        "job = Job(\n",
        "    name=\"train\",\n",
        "    image=Build(\n",
        "        build_spec=PythonBuild(\n",
        "            command=\"python train.py\",\n",
        "            requirements_path=\"requirements.txt\",\n",
        "        )\n",
        "    ),\n",
        "    env={\n",
        "        \"TFY_API_KEY\": TFY_API_KEY\n",
        "    }\n",
        ")\n",
        "deployment = job.deploy(workspace_fqn=WORKSPACE)"
      ],
      "metadata": {
        "id": "-QD4LaylreUG"
      },
      "execution_count": null,
      "outputs": []
    }
  ]
}