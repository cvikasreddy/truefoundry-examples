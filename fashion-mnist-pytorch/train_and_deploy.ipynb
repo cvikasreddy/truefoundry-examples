{
 "cells": [
  {
   "cell_type": "markdown",
   "metadata": {
    "id": "yT0FBE3PPRLz"
   },
   "source": [
    "# Experimentation ⚛ 🧪"
   ]
  },
  {
   "cell_type": "code",
   "execution_count": null,
   "metadata": {
    "id": "0BI2N-o-XKJH"
   },
   "outputs": [],
   "source": [
    "! pip install --quiet \"torch>=1.2.0,<2.0.0\" \n",
    "! pip install --quiet -U matplotlib==3.1.3 pyyaml==5.4.1 \"plotly>=5.9.0,<6.0.0\" \"seaborn>=0.11.2,<1.0.0\"\n",
    "! pip install --quiet -U \"mlfoundry>=0.3.32,<0.4.0\""
   ]
  },
  {
   "cell_type": "markdown",
   "metadata": {
    "id": "Tdt8gVseYCy3"
   },
   "source": [
    "## Login and initialize MlFoundry client"
   ]
  },
  {
   "cell_type": "code",
   "execution_count": null,
   "metadata": {
    "id": "fG1rfFxUX-36"
   },
   "outputs": [],
   "source": [
    "import mlfoundry as mlf\n",
    "client = mlf.get_client()"
   ]
  },
  {
   "cell_type": "markdown",
   "metadata": {
    "id": "upbdntWEYu3J"
   },
   "source": [
    "## Fashion MNIST Classification"
   ]
  },
  {
   "cell_type": "code",
   "execution_count": null,
   "metadata": {
    "id": "f-1fzLe5W5F2"
   },
   "outputs": [],
   "source": [
    "import json\n",
    "import random\n",
    "from types import SimpleNamespace\n",
    "from timeit import default_timer as timer\n",
    "\n",
    "import numpy as np\n",
    "import pandas as pd\n",
    "import matplotlib.pyplot as plt\n",
    "import seaborn as sns\n",
    "import plotly.express as px\n",
    "from sklearn.metrics import accuracy_score, f1_score, classification_report, confusion_matrix\n",
    "from sklearn.metrics import ConfusionMatrixDisplay\n",
    "from sklearn.model_selection import train_test_split\n",
    "from tqdm.notebook import tqdm\n",
    "\n",
    "import torch\n",
    "import torch.nn as nn\n",
    "import torch.nn.functional as F\n",
    "import torch.optim as optim\n",
    "from torchvision import datasets, transforms\n",
    "from torch.optim.lr_scheduler import StepLR\n",
    "from torch.utils.data import DataLoader, RandomSampler, Subset"
   ]
  },
  {
   "cell_type": "markdown",
   "metadata": {
    "id": "qaCuLytLNkoR"
   },
   "source": [
    "## Start a run"
   ]
  },
  {
   "cell_type": "code",
   "execution_count": null,
   "metadata": {
    "colab": {
     "base_uri": "https://localhost:8080/"
    },
    "id": "TEc96M5EVItB",
    "outputId": "266e6143-6513-4173-e338-764351d393ce"
   },
   "outputs": [],
   "source": [
    "run = client.create_run(project_name=\"fashion-mnist-demo-trial\", run_name=\"pytorch-cnn\")\n",
    "run.set_tags({\"framework\": \"pytorch\", \"model-type\": \"cnn\"})"
   ]
  },
  {
   "cell_type": "markdown",
   "metadata": {
    "id": "ulThWq05cPOf"
   },
   "source": [
    "## Load the dataset"
   ]
  },
  {
   "cell_type": "code",
   "execution_count": null,
   "metadata": {
    "colab": {
     "base_uri": "https://localhost:8080/",
     "height": 451,
     "referenced_widgets": [
      "6ced02568e484ad0b40a1d91c6770c50",
      "307cbae8b1ee43458e1edc5ab7ccba5d",
      "d73431583b0d4bf18bd2a37a4f7ede59",
      "579486b8d6c54886a08a798985835449",
      "2c18a70b3ce34039ad4ab8394a9ac71a",
      "8069d96973af4f54b291611fa9d732ea",
      "cb76deca18234bb58fefa3e623eca12f",
      "f8cf52efa8f24393bc57bbc38b9dca62",
      "3c11a7749237467cb83f0d892cf66c55",
      "c9f7274f97ab4d1ab6140e087f9924f6",
      "467810e0599a4de4921c0d44d1a4afe3",
      "36aeab8706a34da08219983334fedc05",
      "7b08bafc29304603b23f89fafaf88745",
      "891d445a1ed2450580ae5a8122910aad",
      "f7a78bc4679a4a21b763e19bd9a28092",
      "1c49468015aa4eb8939411f864d8fabf",
      "6ed55e2d213a413b9e7027cf705b1c1e",
      "bd2df976a23a440984a5846bb8c29649",
      "ce6566be809c4227b25d01ecf2b628f9",
      "07395673b7544d54a921dbe6613c3bfc",
      "780867e061114c159ec8a5ebb1c48afd",
      "cbc9e457957c48d084df11361be8d0e4",
      "80902d94792e44de8b79649e25eaa590",
      "e4a7dcedec7f417db703ae89feeb7564",
      "eaab9b0b38a04122bfa8c65be462a648",
      "6dcd9ded7cf644aca73161df6eff7fef",
      "7ab6a8c7cdc947a6aa71e0ec82af9e5e",
      "42b80a589fee4c3b821732c632d73adb",
      "a4f0724716cc4e23a0684c9ef50b8c2e",
      "ae22024e7f1a4fe88ae593eb3fbe5710",
      "ee825bb404364da6a037a05bb6c400f8",
      "8a1350ba697941e18b1fbbfc50800764",
      "445582f4ec5043c7bd9133e55820f74d",
      "269286fc1ef54b27aa43d6c9ccd1d5f8",
      "7ab4b90e818545299c687ae625350126",
      "bc220b51f3ba40d8a782e038acf21bee",
      "c3060e28c56f4950aff154e70f263da2",
      "dea3a124bb624d1b87b32f5a4e00f2a4",
      "b45eb963f10e4a3db2700fe0f88918b9",
      "394dff955fb64042ac7da441c65466d3",
      "c9e32f741a2d4b63a35822b6199909ca",
      "b3a047719749493399ad111327eb351c",
      "a90c221fce0e49c08be00922f0caf51a",
      "9fad2b3b433f4ecda5ea9ee83906feb1"
     ]
    },
    "id": "jGYJbA42cF03",
    "outputId": "156cff78-6513-4d67-d983-ac9f01390100"
   },
   "outputs": [],
   "source": [
    "transform = transforms.Compose([transforms.ToTensor()])\n",
    "train_dataset = datasets.FashionMNIST('../fashion-mnist-data', train=True, download=True, transform=transform)\n",
    "test_dataset = datasets.FashionMNIST('../fashion-mnist-data', train=False, transform=transform)"
   ]
  },
  {
   "cell_type": "code",
   "execution_count": null,
   "metadata": {
    "id": "bXIN1wztajsO"
   },
   "outputs": [],
   "source": [
    "! mkdir -p ../fashion-mnist-data/FashionMNIST/gz/\n",
    "! cp ../fashion-mnist-data/FashionMNIST/raw/*.gz ../fashion-mnist-data/FashionMNIST/gz/"
   ]
  },
  {
   "cell_type": "markdown",
   "metadata": {
    "id": "wbk8AGP5NwJO"
   },
   "source": [
    "## Log the raw dataset as an artifact"
   ]
  },
  {
   "cell_type": "code",
   "execution_count": null,
   "metadata": {
    "colab": {
     "base_uri": "https://localhost:8080/"
    },
    "id": "HmsEgN9YVHyc",
    "outputId": "aee65ca7-90c0-416b-d1a6-6e2eccac6dab"
   },
   "outputs": [],
   "source": [
    "# Log dataset folder as artifact\n",
    "run.log_artifact(\"../fashion-mnist-data/FashionMNIST/gz/\", artifact_path=\"fashion-mnist-data\")"
   ]
  },
  {
   "cell_type": "code",
   "execution_count": null,
   "metadata": {
    "id": "eihhuKchcTyM"
   },
   "outputs": [],
   "source": [
    "idx2label = [\n",
    "  \"T-shirt/Top\",\n",
    "  \"Trouser\",\n",
    "  \"Pullover\",\n",
    "  \"Dress\",\n",
    "  \"Coat\", \n",
    "  \"Sandal\", \n",
    "  \"Shirt\",\n",
    "  \"Sneaker\",\n",
    "  \"Bag\",\n",
    "  \"Ankle Boot\"\n",
    "]"
   ]
  },
  {
   "cell_type": "markdown",
   "metadata": {
    "id": "XU_BreptN3Ol"
   },
   "source": [
    "## Log the label map as a json file"
   ]
  },
  {
   "cell_type": "code",
   "execution_count": null,
   "metadata": {
    "colab": {
     "base_uri": "https://localhost:8080/"
    },
    "id": "OKw-WBNYVkLE",
    "outputId": "ba6081da-4944-4cb1-b9fa-9e46937c55ca"
   },
   "outputs": [],
   "source": [
    "# Log labels as artifact\n",
    "with open(\"config.json\", \"w\") as f:\n",
    "    json.dump({\"idx2label\": idx2label}, f)\n",
    "run.log_artifact(\"config.json\", artifact_path=\"\")"
   ]
  },
  {
   "cell_type": "markdown",
   "metadata": {
    "id": "WZPQjY8AN972"
   },
   "source": [
    "## A look at a sample of data"
   ]
  },
  {
   "cell_type": "code",
   "execution_count": null,
   "metadata": {
    "id": "W0id33Xzn4ZK"
   },
   "outputs": [],
   "source": [
    "y_train = pd.DataFrame([y for _, y in train_dataset], columns=[\"y\"])\n",
    "y_test = pd.DataFrame([y for _, y in test_dataset], columns=[\"y\"])\n",
    "train_sample = y_train.groupby('y').sample(n=3, random_state=42).index\n",
    "test_sample = y_test.groupby('y').sample(n=3, random_state=42).index"
   ]
  },
  {
   "cell_type": "code",
   "execution_count": null,
   "metadata": {
    "colab": {
     "base_uri": "https://localhost:8080/",
     "height": 425
    },
    "id": "OjKuM_HlhZZG",
    "outputId": "f2a9a6ab-9819-4855-fbd7-4568669361f6"
   },
   "outputs": [],
   "source": [
    "fig = plt.figure(figsize=(30, 10))\n",
    "for i, idx in enumerate(train_sample):\n",
    "    image_t, label_idx = train_dataset[idx]\n",
    "    ax = fig.add_subplot(5, 50 // 5, i + 1, xticks=[], yticks=[])\n",
    "    ax.imshow(np.squeeze(image_t), cmap='gray')\n",
    "    ax.set_title(idx2label[label_idx])\n",
    "    fig.tight_layout()"
   ]
  },
  {
   "cell_type": "markdown",
   "metadata": {
    "id": "tAY3f7HQcQP_"
   },
   "source": [
    "## Define the CNN Model and training utils"
   ]
  },
  {
   "cell_type": "code",
   "execution_count": null,
   "metadata": {
    "id": "TApZ1lwRZyOa"
   },
   "outputs": [],
   "source": [
    "class Net(nn.Module):\n",
    "    def __init__(self, num_classes):\n",
    "        super(Net, self).__init__()\n",
    "        self.conv1 = nn.Conv2d(1, 32, 3, 1)\n",
    "        self.conv2 = nn.Conv2d(32, 64, 3, 1)\n",
    "        self.dropout1 = nn.Dropout(0.25)\n",
    "        self.dropout2 = nn.Dropout(0.5)\n",
    "        self.fc1 = nn.Linear(9216, 128)\n",
    "        self.fc2 = nn.Linear(128, num_classes)\n",
    "\n",
    "    def forward(self, x):\n",
    "        x = self.conv1(x)\n",
    "        x = F.relu(x)\n",
    "        x = self.conv2(x)\n",
    "        x = F.relu(x)\n",
    "        x = F.max_pool2d(x, 2)\n",
    "        x = self.dropout1(x)\n",
    "        x = torch.flatten(x, 1)\n",
    "        x = self.fc1(x)\n",
    "        x = F.relu(x)\n",
    "        x = self.dropout2(x)\n",
    "        x = self.fc2(x)\n",
    "        output = F.log_softmax(x, dim=1)\n",
    "        return output\n"
   ]
  },
  {
   "cell_type": "code",
   "execution_count": null,
   "metadata": {
    "id": "O3FJLGAsZ4WL"
   },
   "outputs": [],
   "source": [
    "def set_random_seed(seed_value: int):\n",
    "    np.random.seed(seed_value)\n",
    "    torch.manual_seed(seed_value)\n",
    "    random.seed(seed_value)\n",
    "    if torch.cuda.is_available():\n",
    "        torch.cuda.manual_seed(seed_value)\n",
    "        torch.cuda.manual_seed_all(seed_value)\n",
    "        torch.backends.cudnn.deterministic = True\n",
    "        torch.backends.cudnn.benchmark = False\n",
    "\n",
    "\n",
    "def make_dataloader(dataset, batch_size, pin_memory=False, shuffle=False):\n",
    "    dataloader = DataLoader(\n",
    "        dataset=dataset,\n",
    "        batch_size=batch_size,\n",
    "        shuffle=shuffle,\n",
    "        num_workers=1,\n",
    "        pin_memory=pin_memory,\n",
    "        drop_last=False,\n",
    "    )\n",
    "    return dataloader\n",
    "\n",
    "\n",
    "def get_y(model, device, dataloader):\n",
    "    model.eval()\n",
    "    y_true = []\n",
    "    y_pred = []\n",
    "    loss = 0\n",
    "    for (batch_input, batch_target) in tqdm(dataloader, total=len(dataloader), desc=\"get_y\", disable=True):\n",
    "        batch_input = batch_input.to(device)\n",
    "        batch_target = batch_target.to(device)\n",
    "        predicted = model(batch_input)\n",
    "        loss += F.nll_loss(predicted, batch_target, reduction='sum').item()  # sum up batch loss\n",
    "        # get the index of the max log-probability\n",
    "        _y_true = batch_target.cpu().numpy()\n",
    "        _y_pred = predicted.argmax(dim=1).detach().cpu().numpy()\n",
    "        y_true.append(_y_true)\n",
    "        y_pred.append(_y_pred)\n",
    "    y_true = np.concatenate(y_true, axis=0)\n",
    "    y_pred = np.concatenate(y_pred, axis=0)\n",
    "    return loss, y_true, y_pred\n",
    "\n",
    "\n",
    "def get_eval_metrics(y_true, y_pred):\n",
    "    return {\n",
    "      'accuracy': accuracy_score(y_true=y_true, y_pred=y_pred),\n",
    "      'f1': f1_score(y_true=y_true, y_pred=y_pred, average='weighted'),\n",
    "    }\n",
    "\n",
    "\n",
    "def get_metrics(y_true, y_pred, prefix, loss=None):\n",
    "    metrics_to_log = {}\n",
    "    if loss is not None:\n",
    "        metrics_to_log[f\"{prefix}/loss\"] = loss\n",
    "    metrics = get_eval_metrics(y_true=y_true, y_pred=y_pred)\n",
    "    for k, v in metrics.items():\n",
    "        metrics_to_log[f'{prefix}/{k}'] = v\n",
    "    return metrics_to_log\n",
    "\n",
    "\n",
    "def get_plots(y_true, y_pred, labels=None):\n",
    "    plt.clf()\n",
    "    report = classification_report(y_true, y_pred, target_names=labels, output_dict=True)\n",
    "    ax = sns.heatmap(pd.DataFrame(report).iloc[:-1, :].T, annot=True)\n",
    "    ax.figure.tight_layout()\n",
    "    report_fig = plt.gcf()\n",
    "    plt.show()\n",
    "    z = confusion_matrix(y_true=y_true, y_pred=y_pred)\n",
    "    cm_fig = px.imshow(\n",
    "        z,\n",
    "        text_auto=True,\n",
    "        aspect=\"auto\",\n",
    "        labels=dict(x=\"Predicted Label\", y=\"True Label\", color=\"Productivity\"),\n",
    "        x=labels,\n",
    "        y=labels,\n",
    "        width=600,\n",
    "        height=600\n",
    "    )\n",
    "    cm_fig.show()\n",
    "    return report_fig, cm_fig\n",
    "\n",
    "\n",
    "  \n",
    "def get_images(dataset, sample, model, device, prefix):\n",
    "    images = {}\n",
    "    dataset = Subset(dataset, sample)\n",
    "    _, y_true, y_pred = get_y(model=model, device=device, dataloader=make_dataloader(dataset, batch_size=1000))\n",
    "    for sample_no, (image_t, _), actual_idx, prediction_idx  in zip(sample, dataset, y_true, y_pred):\n",
    "        images[f\"{prefix}_{sample_no}\"] = mlf.Image(\n",
    "            data_or_path=image_t.squeeze().numpy(),\n",
    "            caption=f\"{prefix}_{sample_no}\",\n",
    "            class_groups={\"actuals\": idx2label[actual_idx], \"predictions\": idx2label[prediction_idx]}\n",
    "        )\n",
    "    return images"
   ]
  },
  {
   "cell_type": "markdown",
   "metadata": {
    "id": "YnfRg5u7ONeh"
   },
   "source": [
    "## Log training hyperparameters"
   ]
  },
  {
   "cell_type": "code",
   "execution_count": null,
   "metadata": {
    "colab": {
     "base_uri": "https://localhost:8080/"
    },
    "id": "LiOfHT0za6rL",
    "outputId": "a70dd40d-d06b-4a78-b963-5dc5d0fe2f9e"
   },
   "outputs": [],
   "source": [
    "args = SimpleNamespace(\n",
    "    batch_size=64,\n",
    "    test_batch_size=1000,\n",
    "    epochs=1,\n",
    "    lr=1.0,\n",
    "    gamma=0.7,\n",
    "    no_cuda=False,\n",
    "    seed=1,\n",
    "    log_interval=100,\n",
    "    save_model=True\n",
    ")\n",
    "\n",
    "run.log_params(vars(args))"
   ]
  },
  {
   "cell_type": "markdown",
   "metadata": {
    "id": "5z0xtrR3OTk4"
   },
   "source": [
    "## Initialize Model, DataLoaders, Loss, Optimizer"
   ]
  },
  {
   "cell_type": "code",
   "execution_count": null,
   "metadata": {
    "id": "SzKFGpoWpRTJ"
   },
   "outputs": [],
   "source": [
    "use_cuda = not args.no_cuda and torch.cuda.is_available()\n",
    "device = torch.device(\"cuda\" if use_cuda else \"cpu\")\n",
    "num_classes = len(idx2label)\n",
    "set_random_seed(args.seed)"
   ]
  },
  {
   "cell_type": "code",
   "execution_count": null,
   "metadata": {
    "id": "5c5QtELh5Fox"
   },
   "outputs": [],
   "source": [
    "# Make train and test dataloaders\n",
    "train_dataloader = make_dataloader(\n",
    "      train_dataset,\n",
    "      batch_size=args.batch_size, \n",
    "      pin_memory=use_cuda, \n",
    "      shuffle=True\n",
    ")\n",
    "train_dataloader_for_eval = make_dataloader(\n",
    "      train_dataset,\n",
    "      batch_size=args.test_batch_size, \n",
    "      pin_memory=use_cuda, \n",
    "      shuffle=False\n",
    ")\n",
    "test_dataloader = make_dataloader(\n",
    "      test_dataset,\n",
    "      batch_size=args.test_batch_size, \n",
    "      pin_memory=use_cuda, \n",
    "      shuffle=False\n",
    ")"
   ]
  },
  {
   "cell_type": "code",
   "execution_count": null,
   "metadata": {
    "id": "kPFIt0QY5HNt"
   },
   "outputs": [],
   "source": [
    "# Initialize model and loss\n",
    "model = Net(num_classes=num_classes)\n",
    "criterion = torch.nn.NLLLoss()"
   ]
  },
  {
   "cell_type": "code",
   "execution_count": null,
   "metadata": {
    "id": "7TyFmJLL5KVH"
   },
   "outputs": [],
   "source": [
    "total_steps = args.epochs * len(train_dataloader)\n",
    "optimizer = optim.Adadelta(model.parameters(), lr=args.lr)\n",
    "scheduler = StepLR(optimizer, step_size=1, gamma=args.gamma)\n",
    "model = model.to(device)\n",
    "global_step = 0"
   ]
  },
  {
   "cell_type": "markdown",
   "metadata": {
    "id": "0glXr8-QOevu"
   },
   "source": [
    "## The Training loop\n",
    "## Here we will log metrics, plots and sample images"
   ]
  },
  {
   "cell_type": "code",
   "execution_count": null,
   "metadata": {
    "id": "mFscP9dS5NYu"
   },
   "outputs": [],
   "source": [
    "for epoch in tqdm(range(1, args.epochs + 1), desc=\"epochs\"):\n",
    "    epoch_start_time = timer()\n",
    "    epoch_loss = torch.tensor(0.0).to(device)\n",
    "    for _step, (batch_input, batch_target) in tqdm(enumerate(train_dataloader), total=len(train_dataloader), desc=\"steps\"):\n",
    "        model.train()\n",
    "        batch_input = batch_input.to(device)\n",
    "        batch_target = batch_target.to(device)\n",
    "        batch_predicted = model(batch_input)\n",
    "        loss = criterion(batch_predicted, batch_target)        \n",
    "        \n",
    "        loss.backward()\n",
    "        epoch_loss += loss.item()\n",
    "        torch.nn.utils.clip_grad_norm_(model.parameters(), 1.0)\n",
    "\n",
    "        optimizer.step()\n",
    "        model.zero_grad()\n",
    "\n",
    "        global_step += 1\n",
    "        \n",
    "        if global_step % args.log_interval == 0:\n",
    "            #################### Logging Metrics ###############################\n",
    "            step_metrics = {\n",
    "                'step/lr': scheduler.get_last_lr()[0],\n",
    "                'train/step/loss': loss.item(),\n",
    "            }\n",
    "            _, y_true_train, y_pred_train = get_y(model, device, train_dataloader_for_eval)\n",
    "            step_metrics.update(get_metrics(y_true_train, y_pred_train, prefix=\"train/step\"))\n",
    "            test_loss, y_true_test, y_pred_test = get_y(model, device, test_dataloader)\n",
    "            step_metrics.update(get_metrics(y_true_test, y_pred_test, prefix=\"test/step\", loss=test_loss))\n",
    "\n",
    "            print(f'epoch={epoch} step={global_step}', step_metrics)\n",
    "            run.log_metrics(step_metrics, step=global_step)\n",
    "    \n",
    "    scheduler.step()\n",
    "\n",
    "\n",
    "    ###################### Logging Metrics #####################################\n",
    "    epoch_loss = epoch_loss.item() / len(train_dataloader)\n",
    "    epoch_time = timer() - epoch_start_time\n",
    "    epoch_metrics = {\n",
    "        'epoch/epoch': epoch,\n",
    "        'epoch/lr': scheduler.get_last_lr()[0],\n",
    "        'train/epoch/loss': epoch_loss,\n",
    "        'epoch/time': epoch_time\n",
    "    }\n",
    "    _, y_true_train, y_pred_train = get_y(model, device, train_dataloader_for_eval)\n",
    "    epoch_metrics.update(get_metrics(y_true_train, y_pred_train, prefix=\"train/epoch\"))\n",
    "    test_loss, y_true_test, y_pred_test = get_y(model, device, test_dataloader)\n",
    "    epoch_metrics.update(get_metrics(y_true_test, y_pred_test, prefix=\"test/epoch\", loss=test_loss))\n",
    "    print(f'epoch={epoch} step={global_step}', epoch_metrics)\n",
    "\n",
    "    run.log_metrics(epoch_metrics, step=global_step)\n",
    "\n",
    "\n",
    "    ###################### Logging Plots #######################################\n",
    "    train_report_plt, train_cm_plt = get_plots(y_true=y_true_train, y_pred=y_pred_train, labels=idx2label)\n",
    "    test_report_plt, test_cm_plt = get_plots(y_true=y_true_test, y_pred=y_pred_test, labels=idx2label)\n",
    "    plots = {\n",
    "        'train_report': train_report_plt,\n",
    "        'train_confusion_matrix': train_cm_plt,\n",
    "        'test_report': test_report_plt,\n",
    "        'test_confusion_matrix': test_cm_plt,\n",
    "    }\n",
    "\n",
    "    run.log_plots(plots, step=global_step)\n",
    "    \n",
    "\n",
    "    ###################### Logging Images ######################################\n",
    "    train_images = get_images(dataset=train_dataset, sample=train_sample, model=model, device=device, prefix=\"train\")\n",
    "    test_images = get_images(dataset=train_dataset, sample=test_sample, model=model, device=device, prefix=\"test\")\n",
    "    images = {**train_images, **test_images}\n",
    "\n",
    "    run.log_images(images, step=global_step)"
   ]
  },
  {
   "cell_type": "markdown",
   "metadata": {
    "id": "mOpe0pf6QS8o"
   },
   "source": [
    "## Log the Model"
   ]
  },
  {
   "cell_type": "code",
   "execution_count": null,
   "metadata": {
    "id": "qX7IQ1kvQT29"
   },
   "outputs": [],
   "source": [
    "if args.save_model:\n",
    "    model = model.to(torch.device(\"cpu\"))\n",
    "    run.log_model(model, framework=\"pytorch\", step=global_step)\n",
    "    model = model.to(device)"
   ]
  },
  {
   "cell_type": "markdown",
   "metadata": {
    "id": "29dLGTCnO4Tq"
   },
   "source": [
    "## Log dataset stats with predictions"
   ]
  },
  {
   "cell_type": "code",
   "execution_count": null,
   "metadata": {
    "id": "d44yh7sP8MgZ"
   },
   "outputs": [],
   "source": [
    "columns = [f\"pix_{i}_{j}\" for i in range(28) for j in range(28)]\n",
    "train_dataloader = make_dataloader(train_dataset, batch_size=len(train_dataset))\n",
    "test_dataloader = make_dataloader(test_dataset, batch_size=len(test_dataset))\n",
    "X_train, _ = next(iter(train_dataloader))\n",
    "X_test, _ = next(iter(test_dataloader))\n",
    "X_train = pd.DataFrame(X_train.reshape(len(X_train), -1).numpy(), columns=columns)\n",
    "X_test = pd.DataFrame(X_test.reshape(len(X_test), -1).numpy(), columns=columns)\n",
    "\n",
    "X_train.head()"
   ]
  },
  {
   "cell_type": "code",
   "execution_count": null,
   "metadata": {
    "id": "X3mY8_lK_Nnn"
   },
   "outputs": [],
   "source": [
    "run.log_dataset(\n",
    "    dataset_name='train',\n",
    "    features=X_train[:500],\n",
    "    predictions=y_pred_train[:500],\n",
    "    actuals=y_true_train[:500],\n",
    "    only_stats=True,\n",
    ")\n",
    "\n",
    "run.log_dataset(\n",
    "    dataset_name='test',\n",
    "    features=X_test[:500],\n",
    "    predictions=y_pred_test[:500],\n",
    "    actuals=y_true_test[:500],\n",
    "    only_stats=True\n",
    ")"
   ]
  },
  {
   "cell_type": "markdown",
   "metadata": {
    "id": "kekmdY2HPCrt"
   },
   "source": [
    "## End the run"
   ]
  },
  {
   "cell_type": "code",
   "execution_count": null,
   "metadata": {
    "id": "rZRWEjOmCcnV"
   },
   "outputs": [],
   "source": [
    "run.end()"
   ]
  },
  {
   "cell_type": "markdown",
   "metadata": {
    "id": "7KXuzT7KPFso"
   },
   "source": [
    "# Deployment 🚀"
   ]
  },
  {
   "cell_type": "code",
   "execution_count": null,
   "metadata": {
    "id": "gk4u1cYTNKTC"
   },
   "outputs": [],
   "source": [
    "! pip install --quiet \"torch>=1.2.0,<2.0.0\" fastapi==0.78.0 python-multipart==0.0.5 scikit-image==0.19.3\n",
    "! pip install --quiet -U \"servicefoundry>=0.1.69,<0.2.0\" \"mlfoundry>=0.3.32,<0.4.0\" "
   ]
  },
  {
   "cell_type": "code",
   "execution_count": null,
   "metadata": {
    "colab": {
     "base_uri": "https://localhost:8080/"
    },
    "id": "__kaenIggx3c",
    "outputId": "c9baab03-c477-47d3-8470-26da2603edf2"
   },
   "outputs": [],
   "source": [
    "import servicefoundry.core as sfy\n",
    "sfy.login()"
   ]
  },
  {
   "cell_type": "code",
   "execution_count": null,
   "metadata": {
    "id": "R5VhmnQmtqSX"
   },
   "outputs": [],
   "source": [
    "WORKSPACE = 'v1:local:chirag-1'"
   ]
  },
  {
   "cell_type": "markdown",
   "metadata": {
    "id": "hJrY7uez8alR"
   },
   "source": [
    "## Automatic web service from predict function"
   ]
  },
  {
   "cell_type": "code",
   "execution_count": null,
   "metadata": {
    "colab": {
     "base_uri": "https://localhost:8080/"
    },
    "id": "h6aP_mSvsg1X",
    "outputId": "12a73573-70d3-4b0f-b1f1-d85bba7efce8"
   },
   "outputs": [],
   "source": [
    "%%writefile predict.py\n",
    "\n",
    "import os\n",
    "import json\n",
    "import base64\n",
    "import io\n",
    "import numpy as np\n",
    "from PIL import Image\n",
    "import torch\n",
    "import mlfoundry as mlf\n",
    "\n",
    "client = mlf.get_client(api_key=os.environ.get('TFY_API_KEY'))\n",
    "run = client.get_run(\"chiragjn/fashion-mnist-demo-trial/pytorch-cnn-2\")\n",
    "model = run.get_model(map_location=torch.device('cpu'))\n",
    "\n",
    "config_path = run.download_artifact(\"config.json\")\n",
    "with open(config_path) as f:\n",
    "    config = json.load(f)\n",
    "\n",
    "\n",
    "def predict(image: str):\n",
    "    data = base64.b64decode(image)\n",
    "    image = np.array(Image.open(io.BytesIO(data)))\n",
    "    image = image.reshape(1, 1, 28, 28)\n",
    "\n",
    "    labels = config['idx2label']\n",
    "    model.eval()\n",
    "    with torch.no_grad():\n",
    "        log_probs = model(torch.Tensor(image))[0]\n",
    "    scores = np.exp(log_probs.detach().numpy()).tolist()\n",
    "    return dict(zip(labels, scores))"
   ]
  },
  {
   "cell_type": "code",
   "execution_count": null,
   "metadata": {
    "colab": {
     "base_uri": "https://localhost:8080/"
    },
    "id": "mdYNdKIypfxk",
    "outputId": "7606d948-f3ac-41d9-b7ae-b540a24a524e"
   },
   "outputs": [],
   "source": [
    "requirements = sfy.gather_requirements(\"predict.py\")\n",
    "print(requirements)"
   ]
  },
  {
   "cell_type": "code",
   "execution_count": null,
   "metadata": {
    "id": "RSH1jt9qxuyA"
   },
   "outputs": [],
   "source": [
    "auto_service = sfy.Service(\"predict.py\", requirements, sfy.Parameters(\n",
    "    name=\"fashion-mnist-service\",\n",
    "    workspace=WORKSPACE,\n",
    "))"
   ]
  },
  {
   "cell_type": "code",
   "execution_count": null,
   "metadata": {
    "colab": {
     "base_uri": "https://localhost:8080/"
    },
    "id": "3Ig7OfBDxuvH",
    "outputId": "48706608-5fbc-46f4-8b72-10516cd32d7b"
   },
   "outputs": [],
   "source": [
    "auto_service.deploy()"
   ]
  },
  {
   "cell_type": "code",
   "execution_count": null,
   "metadata": {
    "id": "BuOEe1HoxusS"
   },
   "outputs": [],
   "source": []
  },
  {
   "cell_type": "markdown",
   "metadata": {
    "id": "lTigA6ZR8WRw"
   },
   "source": [
    "## Deploy predict function"
   ]
  },
  {
   "cell_type": "code",
   "execution_count": null,
   "metadata": {
    "colab": {
     "base_uri": "https://localhost:8080/"
    },
    "id": "165RVxSvxtzS",
    "outputId": "224bd77c-6375-4c0e-c7a0-18abda42d736"
   },
   "outputs": [],
   "source": [
    "%%writefile predict.py\n",
    "\n",
    "import os\n",
    "import json\n",
    "import torch\n",
    "import numpy as np\n",
    "import mlfoundry as mlf\n",
    "from PIL import Image\n",
    "from io import BytesIO\n",
    "from fastapi import File, UploadFile\n",
    "from skimage.transform import resize\n",
    "\n",
    "client = mlf.get_client(api_key=os.environ.get('TFY_API_KEY'))\n",
    "run = client.get_run(\"chiragjn/fashion-mnist-demo-trial/pytorch-cnn-2\")\n",
    "model = run.get_model(map_location=torch.device('cpu'))\n",
    "\n",
    "config_path = run.download_artifact(\"config.json\")\n",
    "with open(config_path) as f:\n",
    "    config = json.load(f)\n",
    "\n",
    "def predict(image: UploadFile = File(...)):\n",
    "    data = image.read()\n",
    "    np_image = np.array(Image.open(BytesIO(data)))\n",
    "    image = resize(np_image, (1, 28, 28))\n",
    "    image = image.reshape(1, 1, 28, 28)  # add a batch dimension\n",
    "    labels = config['idx2label']\n",
    "    model.eval()\n",
    "    with torch.no_grad():\n",
    "        log_probs = model(torch.Tensor(image))[0]\n",
    "    scores = np.exp(log_probs.detach().numpy()).tolist()\n",
    "    return {'predictions': dict(zip(labels, scores))}"
   ]
  },
  {
   "cell_type": "code",
   "execution_count": null,
   "metadata": {
    "colab": {
     "base_uri": "https://localhost:8080/"
    },
    "id": "78ikiFOSy9NT",
    "outputId": "08fe27e9-ef43-4f09-946d-50757d9f7d24"
   },
   "outputs": [],
   "source": [
    "requirements = sfy.gather_requirements(\"predict.py\")\n",
    "requirements[\"scikit-image\"] = \"0.19.3\"\n",
    "requirements[\"python-multipart\"] = \"0.0.5\"\n",
    "print(requirements)"
   ]
  },
  {
   "cell_type": "code",
   "execution_count": null,
   "metadata": {
    "id": "TSiVsxOI0gPM"
   },
   "outputs": [],
   "source": [
    "fastapi_service = sfy.Service(\"predict.py\", requirements, sfy.Parameters(\n",
    "    name=\"fashion-mnist-fastapi-service\",\n",
    "    workspace=WORKSPACE,\n",
    "))"
   ]
  },
  {
   "cell_type": "code",
   "execution_count": null,
   "metadata": {
    "colab": {
     "base_uri": "https://localhost:8080/"
    },
    "id": "MFSd5EGV1E7X",
    "outputId": "d493d24b-fc11-479c-cac9-1586e5b7f58f"
   },
   "outputs": [],
   "source": [
    "fastapi_service.deploy()"
   ]
  },
  {
   "cell_type": "code",
   "execution_count": null,
   "metadata": {
    "id": "KIM9Y9TJ2GK1"
   },
   "outputs": [],
   "source": []
  },
  {
   "cell_type": "markdown",
   "metadata": {
    "id": "aRdcq87t8QXm"
   },
   "source": [
    "# Stratchpad"
   ]
  },
  {
   "cell_type": "code",
   "execution_count": null,
   "metadata": {
    "colab": {
     "base_uri": "https://localhost:8080/"
    },
    "id": "QY3UZlITuLFB",
    "outputId": "da34f425-987e-4a4d-9dbb-d1d6b5117da7"
   },
   "outputs": [],
   "source": [
    "from torchvision import datasets, transforms\n",
    "\n",
    "transform = transforms.Compose([transforms.ToTensor()])\n",
    "test_dataset = datasets.FashionMNIST('../fashion-mnist-data', train=False, transform=transform)\n",
    "\n",
    "image = transforms.ToPILImage()(test_dataset[0][0])\n",
    "buffered = io.BytesIO()\n",
    "image.save(buffered, format=\"PNG\")\n",
    "img_str = base64.b64encode(buffered.getvalue())\n",
    "print(img_str.decode('ascii'))"
   ]
  },
  {
   "cell_type": "code",
   "execution_count": null,
   "metadata": {
    "id": "iyziGC7RywUm"
   },
   "outputs": [],
   "source": [
    "data = base64.b64decode(b'iVBORw0KGgoAAAANSUhEUgAAABwAAAAcCAAAAABXZoBIAAABUUlEQVR4nN2RPUvDUBiFz3tzm/QmaayE2lrBj6EUFXESxeImuouLg4td/AH+L8HByV/g6CS4KCq2RVPbJLVt7odDQdBZHHzG83DOcoB/jUWAgxrAvsXEMHfoKQOMcPBTQmOn0QSAmeMY4N8H5cZyu3YeiYcwePrRZNI7pHyBGK1mXf4lCYxgaZy2WyLfVjod24E3kQQDbSyFo0orKb51Mp4D82oTacA4QeFk/TEsin5BDzIy2AcHGAxpDVQPxJ3vhGPjQo1UqhvgltKAQWmxPjvuF4Ocoxdy75lmH1a8yhXKC54nltwsYVNCuoOR/TLldv3ptBJy7FZlyVIy9ivkdJlvpUlvBuhq4Ui+17x9idnYotjWBRI6Vymv2AypO0w6/HprrQEZR1HPprDuBmb95n7XMZDP/QIB8Dfr26XAI6Oj26vLIXAx/xrHcnT2i0//AZ9ign3/9ZgRIQAAAABJRU5ErkJggg==')\n",
    "arr = np.array(Image.open(io.BytesIO(data)))"
   ]
  },
  {
   "cell_type": "code",
   "execution_count": null,
   "metadata": {
    "colab": {
     "base_uri": "https://localhost:8080/",
     "height": 169
    },
    "id": "aUmCzkSc5FZQ",
    "outputId": "659d68bd-d9dd-4dbd-c134-90506f6e29cd"
   },
   "outputs": [],
   "source": [
    "requirements[\"python-multipart\"]"
   ]
  },
  {
   "cell_type": "code",
   "execution_count": null,
   "metadata": {
    "id": "ysknsuUM7qCr"
   },
   "outputs": [],
   "source": []
  }
 ],
 "metadata": {
  "accelerator": "GPU",
  "colab": {
   "collapsed_sections": [
    "hJrY7uez8alR",
    "lTigA6ZR8WRw",
    "aRdcq87t8QXm"
   ],
   "name": "train_and_deploy.ipynb",
   "provenance": []
  },
  "gpuClass": "standard",
  "kernelspec": {
   "display_name": "Python 3 (ipykernel)",
   "language": "python",
   "name": "python3"
  },
  "language_info": {
   "codemirror_mode": {
    "name": "ipython",
    "version": 3
   },
   "file_extension": ".py",
   "mimetype": "text/x-python",
   "name": "python",
   "nbconvert_exporter": "python",
   "pygments_lexer": "ipython3",
   "version": "3.9.2"
  },
  "widgets": {
   "application/vnd.jupyter.widget-state+json": {
    "07395673b7544d54a921dbe6613c3bfc": {
     "model_module": "@jupyter-widgets/controls",
     "model_module_version": "1.5.0",
     "model_name": "ProgressStyleModel",
     "state": {
      "_model_module": "@jupyter-widgets/controls",
      "_model_module_version": "1.5.0",
      "_model_name": "ProgressStyleModel",
      "_view_count": null,
      "_view_module": "@jupyter-widgets/base",
      "_view_module_version": "1.2.0",
      "_view_name": "StyleView",
      "bar_color": null,
      "description_width": ""
     }
    },
    "1c49468015aa4eb8939411f864d8fabf": {
     "model_module": "@jupyter-widgets/base",
     "model_module_version": "1.2.0",
     "model_name": "LayoutModel",
     "state": {
      "_model_module": "@jupyter-widgets/base",
      "_model_module_version": "1.2.0",
      "_model_name": "LayoutModel",
      "_view_count": null,
      "_view_module": "@jupyter-widgets/base",
      "_view_module_version": "1.2.0",
      "_view_name": "LayoutView",
      "align_content": null,
      "align_items": null,
      "align_self": null,
      "border": null,
      "bottom": null,
      "display": null,
      "flex": null,
      "flex_flow": null,
      "grid_area": null,
      "grid_auto_columns": null,
      "grid_auto_flow": null,
      "grid_auto_rows": null,
      "grid_column": null,
      "grid_gap": null,
      "grid_row": null,
      "grid_template_areas": null,
      "grid_template_columns": null,
      "grid_template_rows": null,
      "height": null,
      "justify_content": null,
      "justify_items": null,
      "left": null,
      "margin": null,
      "max_height": null,
      "max_width": null,
      "min_height": null,
      "min_width": null,
      "object_fit": null,
      "object_position": null,
      "order": null,
      "overflow": null,
      "overflow_x": null,
      "overflow_y": null,
      "padding": null,
      "right": null,
      "top": null,
      "visibility": null,
      "width": null
     }
    },
    "269286fc1ef54b27aa43d6c9ccd1d5f8": {
     "model_module": "@jupyter-widgets/controls",
     "model_module_version": "1.5.0",
     "model_name": "HBoxModel",
     "state": {
      "_dom_classes": [],
      "_model_module": "@jupyter-widgets/controls",
      "_model_module_version": "1.5.0",
      "_model_name": "HBoxModel",
      "_view_count": null,
      "_view_module": "@jupyter-widgets/controls",
      "_view_module_version": "1.5.0",
      "_view_name": "HBoxView",
      "box_style": "",
      "children": [
       "IPY_MODEL_7ab4b90e818545299c687ae625350126",
       "IPY_MODEL_bc220b51f3ba40d8a782e038acf21bee",
       "IPY_MODEL_c3060e28c56f4950aff154e70f263da2"
      ],
      "layout": "IPY_MODEL_dea3a124bb624d1b87b32f5a4e00f2a4"
     }
    },
    "2c18a70b3ce34039ad4ab8394a9ac71a": {
     "model_module": "@jupyter-widgets/base",
     "model_module_version": "1.2.0",
     "model_name": "LayoutModel",
     "state": {
      "_model_module": "@jupyter-widgets/base",
      "_model_module_version": "1.2.0",
      "_model_name": "LayoutModel",
      "_view_count": null,
      "_view_module": "@jupyter-widgets/base",
      "_view_module_version": "1.2.0",
      "_view_name": "LayoutView",
      "align_content": null,
      "align_items": null,
      "align_self": null,
      "border": null,
      "bottom": null,
      "display": null,
      "flex": null,
      "flex_flow": null,
      "grid_area": null,
      "grid_auto_columns": null,
      "grid_auto_flow": null,
      "grid_auto_rows": null,
      "grid_column": null,
      "grid_gap": null,
      "grid_row": null,
      "grid_template_areas": null,
      "grid_template_columns": null,
      "grid_template_rows": null,
      "height": null,
      "justify_content": null,
      "justify_items": null,
      "left": null,
      "margin": null,
      "max_height": null,
      "max_width": null,
      "min_height": null,
      "min_width": null,
      "object_fit": null,
      "object_position": null,
      "order": null,
      "overflow": null,
      "overflow_x": null,
      "overflow_y": null,
      "padding": null,
      "right": null,
      "top": null,
      "visibility": null,
      "width": null
     }
    },
    "307cbae8b1ee43458e1edc5ab7ccba5d": {
     "model_module": "@jupyter-widgets/controls",
     "model_module_version": "1.5.0",
     "model_name": "HTMLModel",
     "state": {
      "_dom_classes": [],
      "_model_module": "@jupyter-widgets/controls",
      "_model_module_version": "1.5.0",
      "_model_name": "HTMLModel",
      "_view_count": null,
      "_view_module": "@jupyter-widgets/controls",
      "_view_module_version": "1.5.0",
      "_view_name": "HTMLView",
      "description": "",
      "description_tooltip": null,
      "layout": "IPY_MODEL_8069d96973af4f54b291611fa9d732ea",
      "placeholder": "​",
      "style": "IPY_MODEL_cb76deca18234bb58fefa3e623eca12f",
      "value": "100%"
     }
    },
    "36aeab8706a34da08219983334fedc05": {
     "model_module": "@jupyter-widgets/controls",
     "model_module_version": "1.5.0",
     "model_name": "HBoxModel",
     "state": {
      "_dom_classes": [],
      "_model_module": "@jupyter-widgets/controls",
      "_model_module_version": "1.5.0",
      "_model_name": "HBoxModel",
      "_view_count": null,
      "_view_module": "@jupyter-widgets/controls",
      "_view_module_version": "1.5.0",
      "_view_name": "HBoxView",
      "box_style": "",
      "children": [
       "IPY_MODEL_7b08bafc29304603b23f89fafaf88745",
       "IPY_MODEL_891d445a1ed2450580ae5a8122910aad",
       "IPY_MODEL_f7a78bc4679a4a21b763e19bd9a28092"
      ],
      "layout": "IPY_MODEL_1c49468015aa4eb8939411f864d8fabf"
     }
    },
    "394dff955fb64042ac7da441c65466d3": {
     "model_module": "@jupyter-widgets/controls",
     "model_module_version": "1.5.0",
     "model_name": "DescriptionStyleModel",
     "state": {
      "_model_module": "@jupyter-widgets/controls",
      "_model_module_version": "1.5.0",
      "_model_name": "DescriptionStyleModel",
      "_view_count": null,
      "_view_module": "@jupyter-widgets/base",
      "_view_module_version": "1.2.0",
      "_view_name": "StyleView",
      "description_width": ""
     }
    },
    "3c11a7749237467cb83f0d892cf66c55": {
     "model_module": "@jupyter-widgets/controls",
     "model_module_version": "1.5.0",
     "model_name": "ProgressStyleModel",
     "state": {
      "_model_module": "@jupyter-widgets/controls",
      "_model_module_version": "1.5.0",
      "_model_name": "ProgressStyleModel",
      "_view_count": null,
      "_view_module": "@jupyter-widgets/base",
      "_view_module_version": "1.2.0",
      "_view_name": "StyleView",
      "bar_color": null,
      "description_width": ""
     }
    },
    "42b80a589fee4c3b821732c632d73adb": {
     "model_module": "@jupyter-widgets/base",
     "model_module_version": "1.2.0",
     "model_name": "LayoutModel",
     "state": {
      "_model_module": "@jupyter-widgets/base",
      "_model_module_version": "1.2.0",
      "_model_name": "LayoutModel",
      "_view_count": null,
      "_view_module": "@jupyter-widgets/base",
      "_view_module_version": "1.2.0",
      "_view_name": "LayoutView",
      "align_content": null,
      "align_items": null,
      "align_self": null,
      "border": null,
      "bottom": null,
      "display": null,
      "flex": null,
      "flex_flow": null,
      "grid_area": null,
      "grid_auto_columns": null,
      "grid_auto_flow": null,
      "grid_auto_rows": null,
      "grid_column": null,
      "grid_gap": null,
      "grid_row": null,
      "grid_template_areas": null,
      "grid_template_columns": null,
      "grid_template_rows": null,
      "height": null,
      "justify_content": null,
      "justify_items": null,
      "left": null,
      "margin": null,
      "max_height": null,
      "max_width": null,
      "min_height": null,
      "min_width": null,
      "object_fit": null,
      "object_position": null,
      "order": null,
      "overflow": null,
      "overflow_x": null,
      "overflow_y": null,
      "padding": null,
      "right": null,
      "top": null,
      "visibility": null,
      "width": null
     }
    },
    "445582f4ec5043c7bd9133e55820f74d": {
     "model_module": "@jupyter-widgets/controls",
     "model_module_version": "1.5.0",
     "model_name": "DescriptionStyleModel",
     "state": {
      "_model_module": "@jupyter-widgets/controls",
      "_model_module_version": "1.5.0",
      "_model_name": "DescriptionStyleModel",
      "_view_count": null,
      "_view_module": "@jupyter-widgets/base",
      "_view_module_version": "1.2.0",
      "_view_name": "StyleView",
      "description_width": ""
     }
    },
    "467810e0599a4de4921c0d44d1a4afe3": {
     "model_module": "@jupyter-widgets/controls",
     "model_module_version": "1.5.0",
     "model_name": "DescriptionStyleModel",
     "state": {
      "_model_module": "@jupyter-widgets/controls",
      "_model_module_version": "1.5.0",
      "_model_name": "DescriptionStyleModel",
      "_view_count": null,
      "_view_module": "@jupyter-widgets/base",
      "_view_module_version": "1.2.0",
      "_view_name": "StyleView",
      "description_width": ""
     }
    },
    "579486b8d6c54886a08a798985835449": {
     "model_module": "@jupyter-widgets/controls",
     "model_module_version": "1.5.0",
     "model_name": "HTMLModel",
     "state": {
      "_dom_classes": [],
      "_model_module": "@jupyter-widgets/controls",
      "_model_module_version": "1.5.0",
      "_model_name": "HTMLModel",
      "_view_count": null,
      "_view_module": "@jupyter-widgets/controls",
      "_view_module_version": "1.5.0",
      "_view_name": "HTMLView",
      "description": "",
      "description_tooltip": null,
      "layout": "IPY_MODEL_c9f7274f97ab4d1ab6140e087f9924f6",
      "placeholder": "​",
      "style": "IPY_MODEL_467810e0599a4de4921c0d44d1a4afe3",
      "value": " 26421880/26421880 [00:01&lt;00:00, 27137082.47it/s]"
     }
    },
    "6ced02568e484ad0b40a1d91c6770c50": {
     "model_module": "@jupyter-widgets/controls",
     "model_module_version": "1.5.0",
     "model_name": "HBoxModel",
     "state": {
      "_dom_classes": [],
      "_model_module": "@jupyter-widgets/controls",
      "_model_module_version": "1.5.0",
      "_model_name": "HBoxModel",
      "_view_count": null,
      "_view_module": "@jupyter-widgets/controls",
      "_view_module_version": "1.5.0",
      "_view_name": "HBoxView",
      "box_style": "",
      "children": [
       "IPY_MODEL_307cbae8b1ee43458e1edc5ab7ccba5d",
       "IPY_MODEL_d73431583b0d4bf18bd2a37a4f7ede59",
       "IPY_MODEL_579486b8d6c54886a08a798985835449"
      ],
      "layout": "IPY_MODEL_2c18a70b3ce34039ad4ab8394a9ac71a"
     }
    },
    "6dcd9ded7cf644aca73161df6eff7fef": {
     "model_module": "@jupyter-widgets/controls",
     "model_module_version": "1.5.0",
     "model_name": "HTMLModel",
     "state": {
      "_dom_classes": [],
      "_model_module": "@jupyter-widgets/controls",
      "_model_module_version": "1.5.0",
      "_model_name": "HTMLModel",
      "_view_count": null,
      "_view_module": "@jupyter-widgets/controls",
      "_view_module_version": "1.5.0",
      "_view_name": "HTMLView",
      "description": "",
      "description_tooltip": null,
      "layout": "IPY_MODEL_8a1350ba697941e18b1fbbfc50800764",
      "placeholder": "​",
      "style": "IPY_MODEL_445582f4ec5043c7bd9133e55820f74d",
      "value": " 4422102/4422102 [00:00&lt;00:00, 8941468.49it/s]"
     }
    },
    "6ed55e2d213a413b9e7027cf705b1c1e": {
     "model_module": "@jupyter-widgets/base",
     "model_module_version": "1.2.0",
     "model_name": "LayoutModel",
     "state": {
      "_model_module": "@jupyter-widgets/base",
      "_model_module_version": "1.2.0",
      "_model_name": "LayoutModel",
      "_view_count": null,
      "_view_module": "@jupyter-widgets/base",
      "_view_module_version": "1.2.0",
      "_view_name": "LayoutView",
      "align_content": null,
      "align_items": null,
      "align_self": null,
      "border": null,
      "bottom": null,
      "display": null,
      "flex": null,
      "flex_flow": null,
      "grid_area": null,
      "grid_auto_columns": null,
      "grid_auto_flow": null,
      "grid_auto_rows": null,
      "grid_column": null,
      "grid_gap": null,
      "grid_row": null,
      "grid_template_areas": null,
      "grid_template_columns": null,
      "grid_template_rows": null,
      "height": null,
      "justify_content": null,
      "justify_items": null,
      "left": null,
      "margin": null,
      "max_height": null,
      "max_width": null,
      "min_height": null,
      "min_width": null,
      "object_fit": null,
      "object_position": null,
      "order": null,
      "overflow": null,
      "overflow_x": null,
      "overflow_y": null,
      "padding": null,
      "right": null,
      "top": null,
      "visibility": null,
      "width": null
     }
    },
    "780867e061114c159ec8a5ebb1c48afd": {
     "model_module": "@jupyter-widgets/base",
     "model_module_version": "1.2.0",
     "model_name": "LayoutModel",
     "state": {
      "_model_module": "@jupyter-widgets/base",
      "_model_module_version": "1.2.0",
      "_model_name": "LayoutModel",
      "_view_count": null,
      "_view_module": "@jupyter-widgets/base",
      "_view_module_version": "1.2.0",
      "_view_name": "LayoutView",
      "align_content": null,
      "align_items": null,
      "align_self": null,
      "border": null,
      "bottom": null,
      "display": null,
      "flex": null,
      "flex_flow": null,
      "grid_area": null,
      "grid_auto_columns": null,
      "grid_auto_flow": null,
      "grid_auto_rows": null,
      "grid_column": null,
      "grid_gap": null,
      "grid_row": null,
      "grid_template_areas": null,
      "grid_template_columns": null,
      "grid_template_rows": null,
      "height": null,
      "justify_content": null,
      "justify_items": null,
      "left": null,
      "margin": null,
      "max_height": null,
      "max_width": null,
      "min_height": null,
      "min_width": null,
      "object_fit": null,
      "object_position": null,
      "order": null,
      "overflow": null,
      "overflow_x": null,
      "overflow_y": null,
      "padding": null,
      "right": null,
      "top": null,
      "visibility": null,
      "width": null
     }
    },
    "7ab4b90e818545299c687ae625350126": {
     "model_module": "@jupyter-widgets/controls",
     "model_module_version": "1.5.0",
     "model_name": "HTMLModel",
     "state": {
      "_dom_classes": [],
      "_model_module": "@jupyter-widgets/controls",
      "_model_module_version": "1.5.0",
      "_model_name": "HTMLModel",
      "_view_count": null,
      "_view_module": "@jupyter-widgets/controls",
      "_view_module_version": "1.5.0",
      "_view_name": "HTMLView",
      "description": "",
      "description_tooltip": null,
      "layout": "IPY_MODEL_b45eb963f10e4a3db2700fe0f88918b9",
      "placeholder": "​",
      "style": "IPY_MODEL_394dff955fb64042ac7da441c65466d3",
      "value": "100%"
     }
    },
    "7ab6a8c7cdc947a6aa71e0ec82af9e5e": {
     "model_module": "@jupyter-widgets/base",
     "model_module_version": "1.2.0",
     "model_name": "LayoutModel",
     "state": {
      "_model_module": "@jupyter-widgets/base",
      "_model_module_version": "1.2.0",
      "_model_name": "LayoutModel",
      "_view_count": null,
      "_view_module": "@jupyter-widgets/base",
      "_view_module_version": "1.2.0",
      "_view_name": "LayoutView",
      "align_content": null,
      "align_items": null,
      "align_self": null,
      "border": null,
      "bottom": null,
      "display": null,
      "flex": null,
      "flex_flow": null,
      "grid_area": null,
      "grid_auto_columns": null,
      "grid_auto_flow": null,
      "grid_auto_rows": null,
      "grid_column": null,
      "grid_gap": null,
      "grid_row": null,
      "grid_template_areas": null,
      "grid_template_columns": null,
      "grid_template_rows": null,
      "height": null,
      "justify_content": null,
      "justify_items": null,
      "left": null,
      "margin": null,
      "max_height": null,
      "max_width": null,
      "min_height": null,
      "min_width": null,
      "object_fit": null,
      "object_position": null,
      "order": null,
      "overflow": null,
      "overflow_x": null,
      "overflow_y": null,
      "padding": null,
      "right": null,
      "top": null,
      "visibility": null,
      "width": null
     }
    },
    "7b08bafc29304603b23f89fafaf88745": {
     "model_module": "@jupyter-widgets/controls",
     "model_module_version": "1.5.0",
     "model_name": "HTMLModel",
     "state": {
      "_dom_classes": [],
      "_model_module": "@jupyter-widgets/controls",
      "_model_module_version": "1.5.0",
      "_model_name": "HTMLModel",
      "_view_count": null,
      "_view_module": "@jupyter-widgets/controls",
      "_view_module_version": "1.5.0",
      "_view_name": "HTMLView",
      "description": "",
      "description_tooltip": null,
      "layout": "IPY_MODEL_6ed55e2d213a413b9e7027cf705b1c1e",
      "placeholder": "​",
      "style": "IPY_MODEL_bd2df976a23a440984a5846bb8c29649",
      "value": "100%"
     }
    },
    "8069d96973af4f54b291611fa9d732ea": {
     "model_module": "@jupyter-widgets/base",
     "model_module_version": "1.2.0",
     "model_name": "LayoutModel",
     "state": {
      "_model_module": "@jupyter-widgets/base",
      "_model_module_version": "1.2.0",
      "_model_name": "LayoutModel",
      "_view_count": null,
      "_view_module": "@jupyter-widgets/base",
      "_view_module_version": "1.2.0",
      "_view_name": "LayoutView",
      "align_content": null,
      "align_items": null,
      "align_self": null,
      "border": null,
      "bottom": null,
      "display": null,
      "flex": null,
      "flex_flow": null,
      "grid_area": null,
      "grid_auto_columns": null,
      "grid_auto_flow": null,
      "grid_auto_rows": null,
      "grid_column": null,
      "grid_gap": null,
      "grid_row": null,
      "grid_template_areas": null,
      "grid_template_columns": null,
      "grid_template_rows": null,
      "height": null,
      "justify_content": null,
      "justify_items": null,
      "left": null,
      "margin": null,
      "max_height": null,
      "max_width": null,
      "min_height": null,
      "min_width": null,
      "object_fit": null,
      "object_position": null,
      "order": null,
      "overflow": null,
      "overflow_x": null,
      "overflow_y": null,
      "padding": null,
      "right": null,
      "top": null,
      "visibility": null,
      "width": null
     }
    },
    "80902d94792e44de8b79649e25eaa590": {
     "model_module": "@jupyter-widgets/controls",
     "model_module_version": "1.5.0",
     "model_name": "HBoxModel",
     "state": {
      "_dom_classes": [],
      "_model_module": "@jupyter-widgets/controls",
      "_model_module_version": "1.5.0",
      "_model_name": "HBoxModel",
      "_view_count": null,
      "_view_module": "@jupyter-widgets/controls",
      "_view_module_version": "1.5.0",
      "_view_name": "HBoxView",
      "box_style": "",
      "children": [
       "IPY_MODEL_e4a7dcedec7f417db703ae89feeb7564",
       "IPY_MODEL_eaab9b0b38a04122bfa8c65be462a648",
       "IPY_MODEL_6dcd9ded7cf644aca73161df6eff7fef"
      ],
      "layout": "IPY_MODEL_7ab6a8c7cdc947a6aa71e0ec82af9e5e"
     }
    },
    "891d445a1ed2450580ae5a8122910aad": {
     "model_module": "@jupyter-widgets/controls",
     "model_module_version": "1.5.0",
     "model_name": "FloatProgressModel",
     "state": {
      "_dom_classes": [],
      "_model_module": "@jupyter-widgets/controls",
      "_model_module_version": "1.5.0",
      "_model_name": "FloatProgressModel",
      "_view_count": null,
      "_view_module": "@jupyter-widgets/controls",
      "_view_module_version": "1.5.0",
      "_view_name": "ProgressView",
      "bar_style": "success",
      "description": "",
      "description_tooltip": null,
      "layout": "IPY_MODEL_ce6566be809c4227b25d01ecf2b628f9",
      "max": 29515,
      "min": 0,
      "orientation": "horizontal",
      "style": "IPY_MODEL_07395673b7544d54a921dbe6613c3bfc",
      "value": 29515
     }
    },
    "8a1350ba697941e18b1fbbfc50800764": {
     "model_module": "@jupyter-widgets/base",
     "model_module_version": "1.2.0",
     "model_name": "LayoutModel",
     "state": {
      "_model_module": "@jupyter-widgets/base",
      "_model_module_version": "1.2.0",
      "_model_name": "LayoutModel",
      "_view_count": null,
      "_view_module": "@jupyter-widgets/base",
      "_view_module_version": "1.2.0",
      "_view_name": "LayoutView",
      "align_content": null,
      "align_items": null,
      "align_self": null,
      "border": null,
      "bottom": null,
      "display": null,
      "flex": null,
      "flex_flow": null,
      "grid_area": null,
      "grid_auto_columns": null,
      "grid_auto_flow": null,
      "grid_auto_rows": null,
      "grid_column": null,
      "grid_gap": null,
      "grid_row": null,
      "grid_template_areas": null,
      "grid_template_columns": null,
      "grid_template_rows": null,
      "height": null,
      "justify_content": null,
      "justify_items": null,
      "left": null,
      "margin": null,
      "max_height": null,
      "max_width": null,
      "min_height": null,
      "min_width": null,
      "object_fit": null,
      "object_position": null,
      "order": null,
      "overflow": null,
      "overflow_x": null,
      "overflow_y": null,
      "padding": null,
      "right": null,
      "top": null,
      "visibility": null,
      "width": null
     }
    },
    "9fad2b3b433f4ecda5ea9ee83906feb1": {
     "model_module": "@jupyter-widgets/controls",
     "model_module_version": "1.5.0",
     "model_name": "DescriptionStyleModel",
     "state": {
      "_model_module": "@jupyter-widgets/controls",
      "_model_module_version": "1.5.0",
      "_model_name": "DescriptionStyleModel",
      "_view_count": null,
      "_view_module": "@jupyter-widgets/base",
      "_view_module_version": "1.2.0",
      "_view_name": "StyleView",
      "description_width": ""
     }
    },
    "a4f0724716cc4e23a0684c9ef50b8c2e": {
     "model_module": "@jupyter-widgets/controls",
     "model_module_version": "1.5.0",
     "model_name": "DescriptionStyleModel",
     "state": {
      "_model_module": "@jupyter-widgets/controls",
      "_model_module_version": "1.5.0",
      "_model_name": "DescriptionStyleModel",
      "_view_count": null,
      "_view_module": "@jupyter-widgets/base",
      "_view_module_version": "1.2.0",
      "_view_name": "StyleView",
      "description_width": ""
     }
    },
    "a90c221fce0e49c08be00922f0caf51a": {
     "model_module": "@jupyter-widgets/base",
     "model_module_version": "1.2.0",
     "model_name": "LayoutModel",
     "state": {
      "_model_module": "@jupyter-widgets/base",
      "_model_module_version": "1.2.0",
      "_model_name": "LayoutModel",
      "_view_count": null,
      "_view_module": "@jupyter-widgets/base",
      "_view_module_version": "1.2.0",
      "_view_name": "LayoutView",
      "align_content": null,
      "align_items": null,
      "align_self": null,
      "border": null,
      "bottom": null,
      "display": null,
      "flex": null,
      "flex_flow": null,
      "grid_area": null,
      "grid_auto_columns": null,
      "grid_auto_flow": null,
      "grid_auto_rows": null,
      "grid_column": null,
      "grid_gap": null,
      "grid_row": null,
      "grid_template_areas": null,
      "grid_template_columns": null,
      "grid_template_rows": null,
      "height": null,
      "justify_content": null,
      "justify_items": null,
      "left": null,
      "margin": null,
      "max_height": null,
      "max_width": null,
      "min_height": null,
      "min_width": null,
      "object_fit": null,
      "object_position": null,
      "order": null,
      "overflow": null,
      "overflow_x": null,
      "overflow_y": null,
      "padding": null,
      "right": null,
      "top": null,
      "visibility": null,
      "width": null
     }
    },
    "ae22024e7f1a4fe88ae593eb3fbe5710": {
     "model_module": "@jupyter-widgets/base",
     "model_module_version": "1.2.0",
     "model_name": "LayoutModel",
     "state": {
      "_model_module": "@jupyter-widgets/base",
      "_model_module_version": "1.2.0",
      "_model_name": "LayoutModel",
      "_view_count": null,
      "_view_module": "@jupyter-widgets/base",
      "_view_module_version": "1.2.0",
      "_view_name": "LayoutView",
      "align_content": null,
      "align_items": null,
      "align_self": null,
      "border": null,
      "bottom": null,
      "display": null,
      "flex": null,
      "flex_flow": null,
      "grid_area": null,
      "grid_auto_columns": null,
      "grid_auto_flow": null,
      "grid_auto_rows": null,
      "grid_column": null,
      "grid_gap": null,
      "grid_row": null,
      "grid_template_areas": null,
      "grid_template_columns": null,
      "grid_template_rows": null,
      "height": null,
      "justify_content": null,
      "justify_items": null,
      "left": null,
      "margin": null,
      "max_height": null,
      "max_width": null,
      "min_height": null,
      "min_width": null,
      "object_fit": null,
      "object_position": null,
      "order": null,
      "overflow": null,
      "overflow_x": null,
      "overflow_y": null,
      "padding": null,
      "right": null,
      "top": null,
      "visibility": null,
      "width": null
     }
    },
    "b3a047719749493399ad111327eb351c": {
     "model_module": "@jupyter-widgets/controls",
     "model_module_version": "1.5.0",
     "model_name": "ProgressStyleModel",
     "state": {
      "_model_module": "@jupyter-widgets/controls",
      "_model_module_version": "1.5.0",
      "_model_name": "ProgressStyleModel",
      "_view_count": null,
      "_view_module": "@jupyter-widgets/base",
      "_view_module_version": "1.2.0",
      "_view_name": "StyleView",
      "bar_color": null,
      "description_width": ""
     }
    },
    "b45eb963f10e4a3db2700fe0f88918b9": {
     "model_module": "@jupyter-widgets/base",
     "model_module_version": "1.2.0",
     "model_name": "LayoutModel",
     "state": {
      "_model_module": "@jupyter-widgets/base",
      "_model_module_version": "1.2.0",
      "_model_name": "LayoutModel",
      "_view_count": null,
      "_view_module": "@jupyter-widgets/base",
      "_view_module_version": "1.2.0",
      "_view_name": "LayoutView",
      "align_content": null,
      "align_items": null,
      "align_self": null,
      "border": null,
      "bottom": null,
      "display": null,
      "flex": null,
      "flex_flow": null,
      "grid_area": null,
      "grid_auto_columns": null,
      "grid_auto_flow": null,
      "grid_auto_rows": null,
      "grid_column": null,
      "grid_gap": null,
      "grid_row": null,
      "grid_template_areas": null,
      "grid_template_columns": null,
      "grid_template_rows": null,
      "height": null,
      "justify_content": null,
      "justify_items": null,
      "left": null,
      "margin": null,
      "max_height": null,
      "max_width": null,
      "min_height": null,
      "min_width": null,
      "object_fit": null,
      "object_position": null,
      "order": null,
      "overflow": null,
      "overflow_x": null,
      "overflow_y": null,
      "padding": null,
      "right": null,
      "top": null,
      "visibility": null,
      "width": null
     }
    },
    "bc220b51f3ba40d8a782e038acf21bee": {
     "model_module": "@jupyter-widgets/controls",
     "model_module_version": "1.5.0",
     "model_name": "FloatProgressModel",
     "state": {
      "_dom_classes": [],
      "_model_module": "@jupyter-widgets/controls",
      "_model_module_version": "1.5.0",
      "_model_name": "FloatProgressModel",
      "_view_count": null,
      "_view_module": "@jupyter-widgets/controls",
      "_view_module_version": "1.5.0",
      "_view_name": "ProgressView",
      "bar_style": "success",
      "description": "",
      "description_tooltip": null,
      "layout": "IPY_MODEL_c9e32f741a2d4b63a35822b6199909ca",
      "max": 5148,
      "min": 0,
      "orientation": "horizontal",
      "style": "IPY_MODEL_b3a047719749493399ad111327eb351c",
      "value": 5148
     }
    },
    "bd2df976a23a440984a5846bb8c29649": {
     "model_module": "@jupyter-widgets/controls",
     "model_module_version": "1.5.0",
     "model_name": "DescriptionStyleModel",
     "state": {
      "_model_module": "@jupyter-widgets/controls",
      "_model_module_version": "1.5.0",
      "_model_name": "DescriptionStyleModel",
      "_view_count": null,
      "_view_module": "@jupyter-widgets/base",
      "_view_module_version": "1.2.0",
      "_view_name": "StyleView",
      "description_width": ""
     }
    },
    "c3060e28c56f4950aff154e70f263da2": {
     "model_module": "@jupyter-widgets/controls",
     "model_module_version": "1.5.0",
     "model_name": "HTMLModel",
     "state": {
      "_dom_classes": [],
      "_model_module": "@jupyter-widgets/controls",
      "_model_module_version": "1.5.0",
      "_model_name": "HTMLModel",
      "_view_count": null,
      "_view_module": "@jupyter-widgets/controls",
      "_view_module_version": "1.5.0",
      "_view_name": "HTMLView",
      "description": "",
      "description_tooltip": null,
      "layout": "IPY_MODEL_a90c221fce0e49c08be00922f0caf51a",
      "placeholder": "​",
      "style": "IPY_MODEL_9fad2b3b433f4ecda5ea9ee83906feb1",
      "value": " 5148/5148 [00:00&lt;00:00, 65632.02it/s]"
     }
    },
    "c9e32f741a2d4b63a35822b6199909ca": {
     "model_module": "@jupyter-widgets/base",
     "model_module_version": "1.2.0",
     "model_name": "LayoutModel",
     "state": {
      "_model_module": "@jupyter-widgets/base",
      "_model_module_version": "1.2.0",
      "_model_name": "LayoutModel",
      "_view_count": null,
      "_view_module": "@jupyter-widgets/base",
      "_view_module_version": "1.2.0",
      "_view_name": "LayoutView",
      "align_content": null,
      "align_items": null,
      "align_self": null,
      "border": null,
      "bottom": null,
      "display": null,
      "flex": null,
      "flex_flow": null,
      "grid_area": null,
      "grid_auto_columns": null,
      "grid_auto_flow": null,
      "grid_auto_rows": null,
      "grid_column": null,
      "grid_gap": null,
      "grid_row": null,
      "grid_template_areas": null,
      "grid_template_columns": null,
      "grid_template_rows": null,
      "height": null,
      "justify_content": null,
      "justify_items": null,
      "left": null,
      "margin": null,
      "max_height": null,
      "max_width": null,
      "min_height": null,
      "min_width": null,
      "object_fit": null,
      "object_position": null,
      "order": null,
      "overflow": null,
      "overflow_x": null,
      "overflow_y": null,
      "padding": null,
      "right": null,
      "top": null,
      "visibility": null,
      "width": null
     }
    },
    "c9f7274f97ab4d1ab6140e087f9924f6": {
     "model_module": "@jupyter-widgets/base",
     "model_module_version": "1.2.0",
     "model_name": "LayoutModel",
     "state": {
      "_model_module": "@jupyter-widgets/base",
      "_model_module_version": "1.2.0",
      "_model_name": "LayoutModel",
      "_view_count": null,
      "_view_module": "@jupyter-widgets/base",
      "_view_module_version": "1.2.0",
      "_view_name": "LayoutView",
      "align_content": null,
      "align_items": null,
      "align_self": null,
      "border": null,
      "bottom": null,
      "display": null,
      "flex": null,
      "flex_flow": null,
      "grid_area": null,
      "grid_auto_columns": null,
      "grid_auto_flow": null,
      "grid_auto_rows": null,
      "grid_column": null,
      "grid_gap": null,
      "grid_row": null,
      "grid_template_areas": null,
      "grid_template_columns": null,
      "grid_template_rows": null,
      "height": null,
      "justify_content": null,
      "justify_items": null,
      "left": null,
      "margin": null,
      "max_height": null,
      "max_width": null,
      "min_height": null,
      "min_width": null,
      "object_fit": null,
      "object_position": null,
      "order": null,
      "overflow": null,
      "overflow_x": null,
      "overflow_y": null,
      "padding": null,
      "right": null,
      "top": null,
      "visibility": null,
      "width": null
     }
    },
    "cb76deca18234bb58fefa3e623eca12f": {
     "model_module": "@jupyter-widgets/controls",
     "model_module_version": "1.5.0",
     "model_name": "DescriptionStyleModel",
     "state": {
      "_model_module": "@jupyter-widgets/controls",
      "_model_module_version": "1.5.0",
      "_model_name": "DescriptionStyleModel",
      "_view_count": null,
      "_view_module": "@jupyter-widgets/base",
      "_view_module_version": "1.2.0",
      "_view_name": "StyleView",
      "description_width": ""
     }
    },
    "cbc9e457957c48d084df11361be8d0e4": {
     "model_module": "@jupyter-widgets/controls",
     "model_module_version": "1.5.0",
     "model_name": "DescriptionStyleModel",
     "state": {
      "_model_module": "@jupyter-widgets/controls",
      "_model_module_version": "1.5.0",
      "_model_name": "DescriptionStyleModel",
      "_view_count": null,
      "_view_module": "@jupyter-widgets/base",
      "_view_module_version": "1.2.0",
      "_view_name": "StyleView",
      "description_width": ""
     }
    },
    "ce6566be809c4227b25d01ecf2b628f9": {
     "model_module": "@jupyter-widgets/base",
     "model_module_version": "1.2.0",
     "model_name": "LayoutModel",
     "state": {
      "_model_module": "@jupyter-widgets/base",
      "_model_module_version": "1.2.0",
      "_model_name": "LayoutModel",
      "_view_count": null,
      "_view_module": "@jupyter-widgets/base",
      "_view_module_version": "1.2.0",
      "_view_name": "LayoutView",
      "align_content": null,
      "align_items": null,
      "align_self": null,
      "border": null,
      "bottom": null,
      "display": null,
      "flex": null,
      "flex_flow": null,
      "grid_area": null,
      "grid_auto_columns": null,
      "grid_auto_flow": null,
      "grid_auto_rows": null,
      "grid_column": null,
      "grid_gap": null,
      "grid_row": null,
      "grid_template_areas": null,
      "grid_template_columns": null,
      "grid_template_rows": null,
      "height": null,
      "justify_content": null,
      "justify_items": null,
      "left": null,
      "margin": null,
      "max_height": null,
      "max_width": null,
      "min_height": null,
      "min_width": null,
      "object_fit": null,
      "object_position": null,
      "order": null,
      "overflow": null,
      "overflow_x": null,
      "overflow_y": null,
      "padding": null,
      "right": null,
      "top": null,
      "visibility": null,
      "width": null
     }
    },
    "d73431583b0d4bf18bd2a37a4f7ede59": {
     "model_module": "@jupyter-widgets/controls",
     "model_module_version": "1.5.0",
     "model_name": "FloatProgressModel",
     "state": {
      "_dom_classes": [],
      "_model_module": "@jupyter-widgets/controls",
      "_model_module_version": "1.5.0",
      "_model_name": "FloatProgressModel",
      "_view_count": null,
      "_view_module": "@jupyter-widgets/controls",
      "_view_module_version": "1.5.0",
      "_view_name": "ProgressView",
      "bar_style": "success",
      "description": "",
      "description_tooltip": null,
      "layout": "IPY_MODEL_f8cf52efa8f24393bc57bbc38b9dca62",
      "max": 26421880,
      "min": 0,
      "orientation": "horizontal",
      "style": "IPY_MODEL_3c11a7749237467cb83f0d892cf66c55",
      "value": 26421880
     }
    },
    "dea3a124bb624d1b87b32f5a4e00f2a4": {
     "model_module": "@jupyter-widgets/base",
     "model_module_version": "1.2.0",
     "model_name": "LayoutModel",
     "state": {
      "_model_module": "@jupyter-widgets/base",
      "_model_module_version": "1.2.0",
      "_model_name": "LayoutModel",
      "_view_count": null,
      "_view_module": "@jupyter-widgets/base",
      "_view_module_version": "1.2.0",
      "_view_name": "LayoutView",
      "align_content": null,
      "align_items": null,
      "align_self": null,
      "border": null,
      "bottom": null,
      "display": null,
      "flex": null,
      "flex_flow": null,
      "grid_area": null,
      "grid_auto_columns": null,
      "grid_auto_flow": null,
      "grid_auto_rows": null,
      "grid_column": null,
      "grid_gap": null,
      "grid_row": null,
      "grid_template_areas": null,
      "grid_template_columns": null,
      "grid_template_rows": null,
      "height": null,
      "justify_content": null,
      "justify_items": null,
      "left": null,
      "margin": null,
      "max_height": null,
      "max_width": null,
      "min_height": null,
      "min_width": null,
      "object_fit": null,
      "object_position": null,
      "order": null,
      "overflow": null,
      "overflow_x": null,
      "overflow_y": null,
      "padding": null,
      "right": null,
      "top": null,
      "visibility": null,
      "width": null
     }
    },
    "e4a7dcedec7f417db703ae89feeb7564": {
     "model_module": "@jupyter-widgets/controls",
     "model_module_version": "1.5.0",
     "model_name": "HTMLModel",
     "state": {
      "_dom_classes": [],
      "_model_module": "@jupyter-widgets/controls",
      "_model_module_version": "1.5.0",
      "_model_name": "HTMLModel",
      "_view_count": null,
      "_view_module": "@jupyter-widgets/controls",
      "_view_module_version": "1.5.0",
      "_view_name": "HTMLView",
      "description": "",
      "description_tooltip": null,
      "layout": "IPY_MODEL_42b80a589fee4c3b821732c632d73adb",
      "placeholder": "​",
      "style": "IPY_MODEL_a4f0724716cc4e23a0684c9ef50b8c2e",
      "value": "100%"
     }
    },
    "eaab9b0b38a04122bfa8c65be462a648": {
     "model_module": "@jupyter-widgets/controls",
     "model_module_version": "1.5.0",
     "model_name": "FloatProgressModel",
     "state": {
      "_dom_classes": [],
      "_model_module": "@jupyter-widgets/controls",
      "_model_module_version": "1.5.0",
      "_model_name": "FloatProgressModel",
      "_view_count": null,
      "_view_module": "@jupyter-widgets/controls",
      "_view_module_version": "1.5.0",
      "_view_name": "ProgressView",
      "bar_style": "success",
      "description": "",
      "description_tooltip": null,
      "layout": "IPY_MODEL_ae22024e7f1a4fe88ae593eb3fbe5710",
      "max": 4422102,
      "min": 0,
      "orientation": "horizontal",
      "style": "IPY_MODEL_ee825bb404364da6a037a05bb6c400f8",
      "value": 4422102
     }
    },
    "ee825bb404364da6a037a05bb6c400f8": {
     "model_module": "@jupyter-widgets/controls",
     "model_module_version": "1.5.0",
     "model_name": "ProgressStyleModel",
     "state": {
      "_model_module": "@jupyter-widgets/controls",
      "_model_module_version": "1.5.0",
      "_model_name": "ProgressStyleModel",
      "_view_count": null,
      "_view_module": "@jupyter-widgets/base",
      "_view_module_version": "1.2.0",
      "_view_name": "StyleView",
      "bar_color": null,
      "description_width": ""
     }
    },
    "f7a78bc4679a4a21b763e19bd9a28092": {
     "model_module": "@jupyter-widgets/controls",
     "model_module_version": "1.5.0",
     "model_name": "HTMLModel",
     "state": {
      "_dom_classes": [],
      "_model_module": "@jupyter-widgets/controls",
      "_model_module_version": "1.5.0",
      "_model_name": "HTMLModel",
      "_view_count": null,
      "_view_module": "@jupyter-widgets/controls",
      "_view_module_version": "1.5.0",
      "_view_name": "HTMLView",
      "description": "",
      "description_tooltip": null,
      "layout": "IPY_MODEL_780867e061114c159ec8a5ebb1c48afd",
      "placeholder": "​",
      "style": "IPY_MODEL_cbc9e457957c48d084df11361be8d0e4",
      "value": " 29515/29515 [00:00&lt;00:00, 278332.10it/s]"
     }
    },
    "f8cf52efa8f24393bc57bbc38b9dca62": {
     "model_module": "@jupyter-widgets/base",
     "model_module_version": "1.2.0",
     "model_name": "LayoutModel",
     "state": {
      "_model_module": "@jupyter-widgets/base",
      "_model_module_version": "1.2.0",
      "_model_name": "LayoutModel",
      "_view_count": null,
      "_view_module": "@jupyter-widgets/base",
      "_view_module_version": "1.2.0",
      "_view_name": "LayoutView",
      "align_content": null,
      "align_items": null,
      "align_self": null,
      "border": null,
      "bottom": null,
      "display": null,
      "flex": null,
      "flex_flow": null,
      "grid_area": null,
      "grid_auto_columns": null,
      "grid_auto_flow": null,
      "grid_auto_rows": null,
      "grid_column": null,
      "grid_gap": null,
      "grid_row": null,
      "grid_template_areas": null,
      "grid_template_columns": null,
      "grid_template_rows": null,
      "height": null,
      "justify_content": null,
      "justify_items": null,
      "left": null,
      "margin": null,
      "max_height": null,
      "max_width": null,
      "min_height": null,
      "min_width": null,
      "object_fit": null,
      "object_position": null,
      "order": null,
      "overflow": null,
      "overflow_x": null,
      "overflow_y": null,
      "padding": null,
      "right": null,
      "top": null,
      "visibility": null,
      "width": null
     }
    }
   }
  }
 },
 "nbformat": 4,
 "nbformat_minor": 4
}
