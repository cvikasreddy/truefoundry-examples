{
 "cells": [
  {
   "cell_type": "markdown",
   "metadata": {
    "tags": []
   },
   "source": [
    "## Try this Notebook in Google Colab\n",
    "\n",
    "[![Open In Colab](https://colab.research.google.com/assets/colab-badge.svg)](https://colab.research.google.com/github/truefoundry/mlfoundry-examples/blob/main/examples/sklearn/iris_classification.ipynb)"
   ]
  },
  {
   "cell_type": "markdown",
   "metadata": {
    "tags": []
   },
   "source": [
    "## Install dependencies"
   ]
  },
  {
   "cell_type": "code",
   "execution_count": 35,
   "metadata": {
    "tags": []
   },
   "outputs": [
    {
     "name": "stdout",
     "output_type": "stream",
     "text": [
      "Collecting mlfoundry<0.5.0,>=0.4.6\n",
      "  Downloading mlfoundry-0.4.6-py3-none-any.whl (127 kB)\n",
      "\u001b[2K     \u001b[38;2;114;156;31m━━━━━━━━━━━━━━━━━━━━━━━━━━━━━━━━━━━━━━━\u001b[0m \u001b[32m127.3/127.3 kB\u001b[0m \u001b[31m3.4 MB/s\u001b[0m eta \u001b[36m0:00:00\u001b[0m\n",
      "\u001b[?25hRequirement already satisfied: pyarrow<9.0.0,>=5.0.0 in /Users/nikp18/opt/anaconda3/envs/p38/lib/python3.8/site-packages (from mlfoundry<0.5.0,>=0.4.6) (8.0.0)\n",
      "Requirement already satisfied: fastparquet<0.8.0,>=0.7.2 in /Users/nikp18/opt/anaconda3/envs/p38/lib/python3.8/site-packages (from mlfoundry<0.5.0,>=0.4.6) (0.7.2)\n",
      "Requirement already satisfied: amplitude-tracker<0.0.8,>=0.0.7 in /Users/nikp18/opt/anaconda3/envs/p38/lib/python3.8/site-packages (from mlfoundry<0.5.0,>=0.4.6) (0.0.7)\n",
      "Requirement already satisfied: pandas<2.0.0,>=1.0.0 in /Users/nikp18/opt/anaconda3/envs/p38/lib/python3.8/site-packages (from mlfoundry<0.5.0,>=0.4.6) (1.5.0)\n",
      "Requirement already satisfied: packaging<22.0,>=21.3 in /Users/nikp18/opt/anaconda3/envs/p38/lib/python3.8/site-packages (from mlfoundry<0.5.0,>=0.4.6) (21.3)\n",
      "Requirement already satisfied: GitPython<4.0.0,>=3.1.26 in /Users/nikp18/opt/anaconda3/envs/p38/lib/python3.8/site-packages (from mlfoundry<0.5.0,>=0.4.6) (3.1.27)\n",
      "Requirement already satisfied: psutil<6.0.0,>=5.9.0 in /Users/nikp18/opt/anaconda3/envs/p38/lib/python3.8/site-packages (from mlfoundry<0.5.0,>=0.4.6) (5.9.2)\n",
      "Requirement already satisfied: importlib-metadata<5.0.0,>=4.11.3 in /Users/nikp18/opt/anaconda3/envs/p38/lib/python3.8/site-packages (from mlfoundry<0.5.0,>=0.4.6) (4.11.4)\n",
      "Requirement already satisfied: scikit-learn<2.0.0,>=0.24.2 in /Users/nikp18/opt/anaconda3/envs/p38/lib/python3.8/site-packages (from mlfoundry<0.5.0,>=0.4.6) (1.1.2)\n",
      "Requirement already satisfied: numpy<2.0.0,>=1.17.0 in /Users/nikp18/opt/anaconda3/envs/p38/lib/python3.8/site-packages (from mlfoundry<0.5.0,>=0.4.6) (1.23.3)\n",
      "Requirement already satisfied: scipy<2.0.0,>=1.5.4 in /Users/nikp18/opt/anaconda3/envs/p38/lib/python3.8/site-packages (from mlfoundry<0.5.0,>=0.4.6) (1.9.1)\n",
      "Requirement already satisfied: pydantic<2.0.0,>=1.8.2 in /Users/nikp18/opt/anaconda3/envs/p38/lib/python3.8/site-packages (from mlfoundry<0.5.0,>=0.4.6) (1.10.2)\n",
      "Requirement already satisfied: boto3<2.0.0,>=1.14.1 in /Users/nikp18/opt/anaconda3/envs/p38/lib/python3.8/site-packages (from mlfoundry<0.5.0,>=0.4.6) (1.24.76)\n",
      "Requirement already satisfied: tfy-mlflow-client==0.0.16 in /Users/nikp18/opt/anaconda3/envs/p38/lib/python3.8/site-packages (from mlfoundry<0.5.0,>=0.4.6) (0.0.16)\n",
      "Requirement already satisfied: coolname<2.0.0,>=1.1.0 in /Users/nikp18/opt/anaconda3/envs/p38/lib/python3.8/site-packages (from mlfoundry<0.5.0,>=0.4.6) (1.1.0)\n",
      "Requirement already satisfied: tinynetrc<2.0.0,>=1.3.1 in /Users/nikp18/opt/anaconda3/envs/p38/lib/python3.8/site-packages (from mlfoundry<0.5.0,>=0.4.6) (1.3.1)\n",
      "Requirement already satisfied: whylogs<0.7.0,>=0.6.15 in /Users/nikp18/opt/anaconda3/envs/p38/lib/python3.8/site-packages (from mlfoundry<0.5.0,>=0.4.6) (0.6.30)\n",
      "Requirement already satisfied: requests>=2.17.3 in /Users/nikp18/opt/anaconda3/envs/p38/lib/python3.8/site-packages (from tfy-mlflow-client==0.0.16->mlfoundry<0.5.0,>=0.4.6) (2.28.1)\n",
      "Requirement already satisfied: sqlparse>=0.3.1 in /Users/nikp18/opt/anaconda3/envs/p38/lib/python3.8/site-packages (from tfy-mlflow-client==0.0.16->mlfoundry<0.5.0,>=0.4.6) (0.4.2)\n",
      "Requirement already satisfied: click>=7.0 in /Users/nikp18/opt/anaconda3/envs/p38/lib/python3.8/site-packages (from tfy-mlflow-client==0.0.16->mlfoundry<0.5.0,>=0.4.6) (8.1.3)\n",
      "Requirement already satisfied: protobuf<5.0,>=3.12 in /Users/nikp18/opt/anaconda3/envs/p38/lib/python3.8/site-packages (from tfy-mlflow-client==0.0.16->mlfoundry<0.5.0,>=0.4.6) (3.20.1)\n",
      "Requirement already satisfied: pyyaml>=5.1 in /Users/nikp18/opt/anaconda3/envs/p38/lib/python3.8/site-packages (from tfy-mlflow-client==0.0.16->mlfoundry<0.5.0,>=0.4.6) (6.0)\n",
      "Requirement already satisfied: entrypoints in /Users/nikp18/opt/anaconda3/envs/p38/lib/python3.8/site-packages (from tfy-mlflow-client==0.0.16->mlfoundry<0.5.0,>=0.4.6) (0.4)\n",
      "Requirement already satisfied: databricks-cli>=0.8.7 in /Users/nikp18/opt/anaconda3/envs/p38/lib/python3.8/site-packages (from tfy-mlflow-client==0.0.16->mlfoundry<0.5.0,>=0.4.6) (0.17.3)\n",
      "Requirement already satisfied: cloudpickle in /Users/nikp18/opt/anaconda3/envs/p38/lib/python3.8/site-packages (from tfy-mlflow-client==0.0.16->mlfoundry<0.5.0,>=0.4.6) (2.2.0)\n",
      "Requirement already satisfied: pytz in /Users/nikp18/opt/anaconda3/envs/p38/lib/python3.8/site-packages (from tfy-mlflow-client==0.0.16->mlfoundry<0.5.0,>=0.4.6) (2022.2.1)\n",
      "Requirement already satisfied: python-dateutil>2.1 in /Users/nikp18/opt/anaconda3/envs/p38/lib/python3.8/site-packages (from amplitude-tracker<0.0.8,>=0.0.7->mlfoundry<0.5.0,>=0.4.6) (2.8.2)\n",
      "Requirement already satisfied: six>=1.5 in /Users/nikp18/opt/anaconda3/envs/p38/lib/python3.8/site-packages (from amplitude-tracker<0.0.8,>=0.0.7->mlfoundry<0.5.0,>=0.4.6) (1.16.0)\n",
      "Requirement already satisfied: backoff==1.10.0 in /Users/nikp18/opt/anaconda3/envs/p38/lib/python3.8/site-packages (from amplitude-tracker<0.0.8,>=0.0.7->mlfoundry<0.5.0,>=0.4.6) (1.10.0)\n",
      "Requirement already satisfied: monotonic>=1.5 in /Users/nikp18/opt/anaconda3/envs/p38/lib/python3.8/site-packages (from amplitude-tracker<0.0.8,>=0.0.7->mlfoundry<0.5.0,>=0.4.6) (1.6)\n",
      "Requirement already satisfied: s3transfer<0.7.0,>=0.6.0 in /Users/nikp18/opt/anaconda3/envs/p38/lib/python3.8/site-packages (from boto3<2.0.0,>=1.14.1->mlfoundry<0.5.0,>=0.4.6) (0.6.0)\n",
      "Requirement already satisfied: jmespath<2.0.0,>=0.7.1 in /Users/nikp18/opt/anaconda3/envs/p38/lib/python3.8/site-packages (from boto3<2.0.0,>=1.14.1->mlfoundry<0.5.0,>=0.4.6) (1.0.1)\n",
      "Requirement already satisfied: botocore<1.28.0,>=1.27.76 in /Users/nikp18/opt/anaconda3/envs/p38/lib/python3.8/site-packages (from boto3<2.0.0,>=1.14.1->mlfoundry<0.5.0,>=0.4.6) (1.27.76)\n",
      "Requirement already satisfied: thrift>=0.11.0 in /Users/nikp18/opt/anaconda3/envs/p38/lib/python3.8/site-packages (from fastparquet<0.8.0,>=0.7.2->mlfoundry<0.5.0,>=0.4.6) (0.16.0)\n",
      "Requirement already satisfied: fsspec in /Users/nikp18/opt/anaconda3/envs/p38/lib/python3.8/site-packages (from fastparquet<0.8.0,>=0.7.2->mlfoundry<0.5.0,>=0.4.6) (2022.8.2)\n",
      "Requirement already satisfied: cramjam>=2.3.0 in /Users/nikp18/opt/anaconda3/envs/p38/lib/python3.8/site-packages (from fastparquet<0.8.0,>=0.7.2->mlfoundry<0.5.0,>=0.4.6) (2.5.0)\n",
      "Requirement already satisfied: gitdb<5,>=4.0.1 in /Users/nikp18/opt/anaconda3/envs/p38/lib/python3.8/site-packages (from GitPython<4.0.0,>=3.1.26->mlfoundry<0.5.0,>=0.4.6) (4.0.9)\n",
      "Requirement already satisfied: zipp>=0.5 in /Users/nikp18/opt/anaconda3/envs/p38/lib/python3.8/site-packages (from importlib-metadata<5.0.0,>=4.11.3->mlfoundry<0.5.0,>=0.4.6) (3.8.1)\n",
      "Requirement already satisfied: pyparsing!=3.0.5,>=2.0.2 in /Users/nikp18/opt/anaconda3/envs/p38/lib/python3.8/site-packages (from packaging<22.0,>=21.3->mlfoundry<0.5.0,>=0.4.6) (3.0.9)\n",
      "Requirement already satisfied: typing-extensions>=4.1.0 in /Users/nikp18/opt/anaconda3/envs/p38/lib/python3.8/site-packages (from pydantic<2.0.0,>=1.8.2->mlfoundry<0.5.0,>=0.4.6) (4.3.0)\n",
      "Requirement already satisfied: joblib>=1.0.0 in /Users/nikp18/opt/anaconda3/envs/p38/lib/python3.8/site-packages (from scikit-learn<2.0.0,>=0.24.2->mlfoundry<0.5.0,>=0.4.6) (1.2.0)\n",
      "Requirement already satisfied: threadpoolctl>=2.0.0 in /Users/nikp18/opt/anaconda3/envs/p38/lib/python3.8/site-packages (from scikit-learn<2.0.0,>=0.24.2->mlfoundry<0.5.0,>=0.4.6) (3.1.0)\n",
      "Requirement already satisfied: jsonschema>=3.2.0 in /Users/nikp18/opt/anaconda3/envs/p38/lib/python3.8/site-packages (from whylogs<0.7.0,>=0.6.15->mlfoundry<0.5.0,>=0.4.6) (3.2.0)\n",
      "Requirement already satisfied: tqdm<5.0.0,>=4.60.0 in /Users/nikp18/opt/anaconda3/envs/p38/lib/python3.8/site-packages (from whylogs<0.7.0,>=0.6.15->mlfoundry<0.5.0,>=0.4.6) (4.64.1)\n",
      "Requirement already satisfied: matplotlib<4.0.0,>=3.0.3 in /Users/nikp18/opt/anaconda3/envs/p38/lib/python3.8/site-packages (from whylogs<0.7.0,>=0.6.15->mlfoundry<0.5.0,>=0.4.6) (3.5.3)\n",
      "Requirement already satisfied: smart-open>=4.1.2 in /Users/nikp18/opt/anaconda3/envs/p38/lib/python3.8/site-packages (from whylogs<0.7.0,>=0.6.15->mlfoundry<0.5.0,>=0.4.6) (6.2.0)\n",
      "Requirement already satisfied: whylabs-datasketches>=2.2.0b1 in /Users/nikp18/opt/anaconda3/envs/p38/lib/python3.8/site-packages (from whylogs<0.7.0,>=0.6.15->mlfoundry<0.5.0,>=0.4.6) (2.2.0b1)\n",
      "Requirement already satisfied: whylabs-client<0.4.0,>=0.3.0 in /Users/nikp18/opt/anaconda3/envs/p38/lib/python3.8/site-packages (from whylogs<0.7.0,>=0.6.15->mlfoundry<0.5.0,>=0.4.6) (0.3.0)\n"
     ]
    },
    {
     "name": "stdout",
     "output_type": "stream",
     "text": [
      "Requirement already satisfied: marshmallow>=3.7.1 in /Users/nikp18/opt/anaconda3/envs/p38/lib/python3.8/site-packages (from whylogs<0.7.0,>=0.6.15->mlfoundry<0.5.0,>=0.4.6) (3.18.0)\n",
      "Requirement already satisfied: puremagic<2.0,>=1.10 in /Users/nikp18/opt/anaconda3/envs/p38/lib/python3.8/site-packages (from whylogs<0.7.0,>=0.6.15->mlfoundry<0.5.0,>=0.4.6) (1.14)\n",
      "Requirement already satisfied: urllib3<1.27,>=1.25.4 in /Users/nikp18/opt/anaconda3/envs/p38/lib/python3.8/site-packages (from botocore<1.28.0,>=1.27.76->boto3<2.0.0,>=1.14.1->mlfoundry<0.5.0,>=0.4.6) (1.26.11)\n",
      "Requirement already satisfied: pyjwt>=1.7.0 in /Users/nikp18/opt/anaconda3/envs/p38/lib/python3.8/site-packages (from databricks-cli>=0.8.7->tfy-mlflow-client==0.0.16->mlfoundry<0.5.0,>=0.4.6) (2.5.0)\n",
      "Requirement already satisfied: oauthlib>=3.1.0 in /Users/nikp18/opt/anaconda3/envs/p38/lib/python3.8/site-packages (from databricks-cli>=0.8.7->tfy-mlflow-client==0.0.16->mlfoundry<0.5.0,>=0.4.6) (3.2.1)\n",
      "Requirement already satisfied: tabulate>=0.7.7 in /Users/nikp18/opt/anaconda3/envs/p38/lib/python3.8/site-packages (from databricks-cli>=0.8.7->tfy-mlflow-client==0.0.16->mlfoundry<0.5.0,>=0.4.6) (0.8.10)\n",
      "Requirement already satisfied: smmap<6,>=3.0.1 in /Users/nikp18/opt/anaconda3/envs/p38/lib/python3.8/site-packages (from gitdb<5,>=4.0.1->GitPython<4.0.0,>=3.1.26->mlfoundry<0.5.0,>=0.4.6) (5.0.0)\n",
      "Requirement already satisfied: pyrsistent>=0.14.0 in /Users/nikp18/opt/anaconda3/envs/p38/lib/python3.8/site-packages (from jsonschema>=3.2.0->whylogs<0.7.0,>=0.6.15->mlfoundry<0.5.0,>=0.4.6) (0.18.1)\n",
      "Requirement already satisfied: setuptools in /Users/nikp18/opt/anaconda3/envs/p38/lib/python3.8/site-packages (from jsonschema>=3.2.0->whylogs<0.7.0,>=0.6.15->mlfoundry<0.5.0,>=0.4.6) (59.8.0)\n",
      "Requirement already satisfied: attrs>=17.4.0 in /Users/nikp18/opt/anaconda3/envs/p38/lib/python3.8/site-packages (from jsonschema>=3.2.0->whylogs<0.7.0,>=0.6.15->mlfoundry<0.5.0,>=0.4.6) (22.1.0)\n",
      "Requirement already satisfied: fonttools>=4.22.0 in /Users/nikp18/opt/anaconda3/envs/p38/lib/python3.8/site-packages (from matplotlib<4.0.0,>=3.0.3->whylogs<0.7.0,>=0.6.15->mlfoundry<0.5.0,>=0.4.6) (4.37.2)\n",
      "Requirement already satisfied: kiwisolver>=1.0.1 in /Users/nikp18/opt/anaconda3/envs/p38/lib/python3.8/site-packages (from matplotlib<4.0.0,>=3.0.3->whylogs<0.7.0,>=0.6.15->mlfoundry<0.5.0,>=0.4.6) (1.4.4)\n",
      "Requirement already satisfied: pillow>=6.2.0 in /Users/nikp18/opt/anaconda3/envs/p38/lib/python3.8/site-packages (from matplotlib<4.0.0,>=3.0.3->whylogs<0.7.0,>=0.6.15->mlfoundry<0.5.0,>=0.4.6) (9.2.0)\n",
      "Requirement already satisfied: cycler>=0.10 in /Users/nikp18/opt/anaconda3/envs/p38/lib/python3.8/site-packages (from matplotlib<4.0.0,>=3.0.3->whylogs<0.7.0,>=0.6.15->mlfoundry<0.5.0,>=0.4.6) (0.11.0)\n",
      "Requirement already satisfied: charset-normalizer<3,>=2 in /Users/nikp18/opt/anaconda3/envs/p38/lib/python3.8/site-packages (from requests>=2.17.3->tfy-mlflow-client==0.0.16->mlfoundry<0.5.0,>=0.4.6) (2.1.1)\n",
      "Requirement already satisfied: idna<4,>=2.5 in /Users/nikp18/opt/anaconda3/envs/p38/lib/python3.8/site-packages (from requests>=2.17.3->tfy-mlflow-client==0.0.16->mlfoundry<0.5.0,>=0.4.6) (3.3)\n",
      "Requirement already satisfied: certifi>=2017.4.17 in /Users/nikp18/opt/anaconda3/envs/p38/lib/python3.8/site-packages (from requests>=2.17.3->tfy-mlflow-client==0.0.16->mlfoundry<0.5.0,>=0.4.6) (2022.9.14)\n",
      "Installing collected packages: mlfoundry\n",
      "  Attempting uninstall: mlfoundry\n",
      "    Found existing installation: mlfoundry 0.4.5\n",
      "    Uninstalling mlfoundry-0.4.5:\n",
      "      Successfully uninstalled mlfoundry-0.4.5\n",
      "Successfully installed mlfoundry-0.4.6\n"
     ]
    }
   ],
   "source": [
    "! pip install --quiet \"numpy>=1.0.0,<2.0.0\" \"pandas>=1.0.0,<2.0.0\" \"matplotlib>=3.5.2,<3.6.0\" scikit-learn shap==0.40.0\n",
    "! pip install -U \"mlfoundry>=0.4.6,<0.5.0\""
   ]
  },
  {
   "cell_type": "markdown",
   "metadata": {},
   "source": [
    "## Initialize MLFoundry Client"
   ]
  },
  {
   "cell_type": "code",
   "execution_count": 36,
   "metadata": {},
   "outputs": [],
   "source": [
    "import os\n",
    "import getpass\n",
    "import urllib.parse\n",
    "import mlfoundry as mlf"
   ]
  },
  {
   "cell_type": "code",
   "execution_count": 38,
   "metadata": {},
   "outputs": [],
   "source": [
    "client = mlf.get_client()"
   ]
  },
  {
   "cell_type": "markdown",
   "metadata": {},
   "source": [
    "---"
   ]
  },
  {
   "cell_type": "markdown",
   "metadata": {
    "tags": []
   },
   "source": [
    "## Iris plants detection as a Classification problem"
   ]
  },
  {
   "cell_type": "code",
   "execution_count": 39,
   "metadata": {},
   "outputs": [],
   "source": [
    "import urllib.parse\n",
    "\n",
    "import shap\n",
    "import pandas as pd\n",
    "from sklearn import datasets\n",
    "from sklearn.model_selection import train_test_split\n",
    "from sklearn.svm import SVC\n",
    "from sklearn.metrics import accuracy_score, f1_score\n",
    "\n",
    "import mlfoundry as mlf"
   ]
  },
  {
   "cell_type": "markdown",
   "metadata": {
    "tags": []
   },
   "source": [
    "### Loading data and preprocessing"
   ]
  },
  {
   "cell_type": "code",
   "execution_count": 40,
   "metadata": {},
   "outputs": [
    {
     "name": "stdout",
     "output_type": "stream",
     "text": [
      "dict_keys(['data', 'target', 'frame', 'target_names', 'DESCR', 'feature_names', 'filename', 'data_module'])\n"
     ]
    }
   ],
   "source": [
    "data = datasets.load_iris()\n",
    "print(data.keys())"
   ]
  },
  {
   "cell_type": "code",
   "execution_count": 41,
   "metadata": {},
   "outputs": [
    {
     "name": "stdout",
     "output_type": "stream",
     "text": [
      ".. _iris_dataset:\n",
      "\n",
      "Iris plants dataset\n",
      "--------------------\n",
      "\n",
      "**Data Set Characteristics:**\n",
      "\n",
      "    :Number of Instances: 150 (50 in each of three classes)\n",
      "    :Number of Attributes: 4 numeric, predictive attributes and the class\n",
      "    :Attribute Information:\n",
      "        - sepal length in cm\n",
      "        - sepal width in cm\n",
      "        - petal length in cm\n",
      "        - petal width in cm\n",
      "        - class:\n",
      "                - Iris-Setosa\n",
      "                - Iris-Versicolour\n",
      "                - Iris-Virginica\n",
      "                \n",
      "    :Summary Statistics:\n",
      "\n",
      "    ============== ==== ==== ======= ===== ====================\n",
      "                    Min  Max   Mean    SD   Class Correlation\n",
      "    ============== ==== ==== ======= ===== ====================\n",
      "    sepal length:   4.3  7.9   5.84   0.83    0.7826\n",
      "    sepal width:    2.0  4.4   3.05   0.43   -0.4194\n",
      "    petal length:   1.0  6.9   3.76   1.76    0.9490  (high!)\n",
      "    petal width:    0.1  2.5   1.20   0.76    0.9565  (high!)\n",
      "    ============== ==== ==== ======= ===== ====================\n",
      "\n",
      "    :Missing Attribute Values: None\n",
      "    :Class Distribution: 33.3% for each of 3 classes.\n",
      "    :Creator: R.A. Fisher\n",
      "    :Donor: Michael Marshall (MARSHALL%PLU@io.arc.nasa.gov)\n",
      "    :Date: July, 1988\n",
      "\n",
      "The famous Iris database, first used by Sir R.A. Fisher. The dataset is taken\n",
      "from Fisher's paper. Note that it's the same as in R, but not as in the UCI\n",
      "Machine Learning Repository, which has two wrong data points.\n",
      "\n",
      "This is perhaps the best known database to be found in the\n",
      "pattern recognition literature.  Fisher's paper is a classic in the field and\n",
      "is referenced frequently to this day.  (See Duda & Hart, for example.)  The\n",
      "data set contains 3 classes of 50 instances each, where each class refers to a\n",
      "type of iris plant.  One class is linearly separable from the other 2; the\n",
      "latter are NOT linearly separable from each other.\n",
      "\n",
      ".. topic:: References\n",
      "\n",
      "   - Fisher, R.A. \"The use of multiple measurements in taxonomic problems\"\n",
      "     Annual Eugenics, 7, Part II, 179-188 (1936); also in \"Contributions to\n",
      "     Mathematical Statistics\" (John Wiley, NY, 1950).\n",
      "   - Duda, R.O., & Hart, P.E. (1973) Pattern Classification and Scene Analysis.\n",
      "     (Q327.D83) John Wiley & Sons.  ISBN 0-471-22361-1.  See page 218.\n",
      "   - Dasarathy, B.V. (1980) \"Nosing Around the Neighborhood: A New System\n",
      "     Structure and Classification Rule for Recognition in Partially Exposed\n",
      "     Environments\".  IEEE Transactions on Pattern Analysis and Machine\n",
      "     Intelligence, Vol. PAMI-2, No. 1, 67-71.\n",
      "   - Gates, G.W. (1972) \"The Reduced Nearest Neighbor Rule\".  IEEE Transactions\n",
      "     on Information Theory, May 1972, 431-433.\n",
      "   - See also: 1988 MLC Proceedings, 54-64.  Cheeseman et al\"s AUTOCLASS II\n",
      "     conceptual clustering system finds 3 classes in the data.\n",
      "   - Many, many more ...\n"
     ]
    }
   ],
   "source": [
    "print(data.DESCR) "
   ]
  },
  {
   "cell_type": "code",
   "execution_count": 42,
   "metadata": {},
   "outputs": [
    {
     "data": {
      "text/html": [
       "<div>\n",
       "<style scoped>\n",
       "    .dataframe tbody tr th:only-of-type {\n",
       "        vertical-align: middle;\n",
       "    }\n",
       "\n",
       "    .dataframe tbody tr th {\n",
       "        vertical-align: top;\n",
       "    }\n",
       "\n",
       "    .dataframe thead th {\n",
       "        text-align: right;\n",
       "    }\n",
       "</style>\n",
       "<table border=\"1\" class=\"dataframe\">\n",
       "  <thead>\n",
       "    <tr style=\"text-align: right;\">\n",
       "      <th></th>\n",
       "      <th>sepal length (cm)</th>\n",
       "      <th>sepal width (cm)</th>\n",
       "      <th>petal length (cm)</th>\n",
       "      <th>petal width (cm)</th>\n",
       "      <th>target</th>\n",
       "    </tr>\n",
       "  </thead>\n",
       "  <tbody>\n",
       "    <tr>\n",
       "      <th>0</th>\n",
       "      <td>5.1</td>\n",
       "      <td>3.5</td>\n",
       "      <td>1.4</td>\n",
       "      <td>0.2</td>\n",
       "      <td>0</td>\n",
       "    </tr>\n",
       "    <tr>\n",
       "      <th>1</th>\n",
       "      <td>4.9</td>\n",
       "      <td>3.0</td>\n",
       "      <td>1.4</td>\n",
       "      <td>0.2</td>\n",
       "      <td>0</td>\n",
       "    </tr>\n",
       "    <tr>\n",
       "      <th>2</th>\n",
       "      <td>4.7</td>\n",
       "      <td>3.2</td>\n",
       "      <td>1.3</td>\n",
       "      <td>0.2</td>\n",
       "      <td>0</td>\n",
       "    </tr>\n",
       "    <tr>\n",
       "      <th>3</th>\n",
       "      <td>4.6</td>\n",
       "      <td>3.1</td>\n",
       "      <td>1.5</td>\n",
       "      <td>0.2</td>\n",
       "      <td>0</td>\n",
       "    </tr>\n",
       "    <tr>\n",
       "      <th>4</th>\n",
       "      <td>5.0</td>\n",
       "      <td>3.6</td>\n",
       "      <td>1.4</td>\n",
       "      <td>0.2</td>\n",
       "      <td>0</td>\n",
       "    </tr>\n",
       "  </tbody>\n",
       "</table>\n",
       "</div>"
      ],
      "text/plain": [
       "   sepal length (cm)  sepal width (cm)  petal length (cm)  petal width (cm)  \\\n",
       "0                5.1               3.5                1.4               0.2   \n",
       "1                4.9               3.0                1.4               0.2   \n",
       "2                4.7               3.2                1.3               0.2   \n",
       "3                4.6               3.1                1.5               0.2   \n",
       "4                5.0               3.6                1.4               0.2   \n",
       "\n",
       "   target  \n",
       "0       0  \n",
       "1       0  \n",
       "2       0  \n",
       "3       0  \n",
       "4       0  "
      ]
     },
     "execution_count": 42,
     "metadata": {},
     "output_type": "execute_result"
    }
   ],
   "source": [
    "# Read the DataFrame, first using the feature data\n",
    "df = pd.DataFrame(data.data, columns=data.feature_names)\n",
    "# Add a target column, and fill it with the target data\n",
    "df['target'] = data.target\n",
    "# Show the first five rows\n",
    "df.head()"
   ]
  },
  {
   "cell_type": "markdown",
   "metadata": {
    "tags": []
   },
   "source": [
    "### Split Dataset into Training and Validation"
   ]
  },
  {
   "cell_type": "code",
   "execution_count": 43,
   "metadata": {},
   "outputs": [],
   "source": [
    "# Store the feature data\n",
    "X = pd.DataFrame(data.data, columns=data.feature_names)\n",
    "# store the target data\n",
    "y = data.target"
   ]
  },
  {
   "cell_type": "code",
   "execution_count": 44,
   "metadata": {},
   "outputs": [
    {
     "name": "stdout",
     "output_type": "stream",
     "text": [
      "Train samples: 120\n",
      "Test samples: 30\n"
     ]
    }
   ],
   "source": [
    "# split the data using scikit-learn's train_test_split\n",
    "X_train, X_test, y_train, y_test = train_test_split(X, y, train_size=0.8, stratify=y, random_state=42)\n",
    "print('Train samples:', len(X_train))\n",
    "print('Test samples:', len(X_test))"
   ]
  },
  {
   "cell_type": "markdown",
   "metadata": {
    "tags": []
   },
   "source": [
    "### Start MLFoundry Run"
   ]
  },
  {
   "cell_type": "code",
   "execution_count": 45,
   "metadata": {},
   "outputs": [
    {
     "name": "stdout",
     "output_type": "stream",
     "text": [
      "Link to the dashboard for the run: https://app.truefoundry.com/mlfoundry/331/e6d5c80fab17497eb3366ac62f985fca/\n",
      "[mlfoundry] 2022-10-03T18:34:47+0530 INFO Run 'truefoundry/Nikhil/iris-clf-demo/svm-model-2' has started.\n"
     ]
    },
    {
     "name": "stderr",
     "output_type": "stream",
     "text": [
      "Exception ignored in: <function MlFoundryRun.__del__ at 0x7fd27930b5e0>\n",
      "Traceback (most recent call last):\n",
      "  File \"/Users/nikp18/opt/anaconda3/envs/p38/lib/python3.8/site-packages/mlfoundry/mlfoundry_run.py\", line 232, in __del__\n",
      "    self._terminate_run_if_running(RunStatus.FINISHED)\n",
      "  File \"/Users/nikp18/opt/anaconda3/envs/p38/lib/python3.8/site-packages/mlfoundry/mlfoundry_run.py\", line 212, in _terminate_run_if_running\n",
      "    current_status = self.status\n",
      "  File \"/Users/nikp18/opt/anaconda3/envs/p38/lib/python3.8/site-packages/mlfoundry/mlfoundry_run.py\", line 149, in status\n",
      "    return self.mlflow_client.get_run(self.run_id).info.status\n",
      "  File \"/Users/nikp18/opt/anaconda3/envs/p38/lib/python3.8/site-packages/mlflow/tracking/client.py\", line 114, in get_run\n",
      "    return self._tracking_client.get_run(run_id)\n",
      "  File \"/Users/nikp18/opt/anaconda3/envs/p38/lib/python3.8/site-packages/mlflow/tracking/_tracking_service/client.py\", line 94, in get_run\n",
      "    return self.store.get_run(run_id)\n",
      "  File \"/Users/nikp18/opt/anaconda3/envs/p38/lib/python3.8/site-packages/mlflow/store/tracking/rest_store.py\", line 185, in get_run\n",
      "    response_proto = self._call_endpoint(GetRun, req_body)\n",
      "  File \"/Users/nikp18/opt/anaconda3/envs/p38/lib/python3.8/site-packages/mlflow/store/tracking/rest_store.py\", line 89, in _call_endpoint\n",
      "    return call_endpoint(self.get_host_creds(), endpoint, method, json_body, response_proto)\n",
      "  File \"/Users/nikp18/opt/anaconda3/envs/p38/lib/python3.8/site-packages/mlflow/utils/rest_utils.py\", line 245, in call_endpoint\n",
      "    response = verify_rest_response(response, endpoint)\n",
      "  File \"/Users/nikp18/opt/anaconda3/envs/p38/lib/python3.8/site-packages/mlflow/utils/rest_utils.py\", line 174, in verify_rest_response\n",
      "    raise RestException(json.loads(response.text))\n",
      "mlflow.exceptions.RestException: UNAUTHORIZED: failed to get user info\n"
     ]
    },
    {
     "name": "stdout",
     "output_type": "stream",
     "text": [
      "RUN ID: e6d5c80fab17497eb3366ac62f985fca\n"
     ]
    }
   ],
   "source": [
    "run = client.create_run(project_name='iris-clf-demo', run_name='svm-model')\n",
    "print('RUN ID:', run.run_id)"
   ]
  },
  {
   "cell_type": "markdown",
   "metadata": {
    "tags": []
   },
   "source": [
    "### Setting tags"
   ]
  },
  {
   "cell_type": "code",
   "execution_count": 46,
   "metadata": {},
   "outputs": [
    {
     "name": "stdout",
     "output_type": "stream",
     "text": [
      "[mlfoundry] 2022-10-03T18:34:49+0530 INFO Tags set successfully\n"
     ]
    }
   ],
   "source": [
    "clf = SVC(gamma='scale', kernel='rbf', probability=True, C=1.2)\n",
    "run.set_tags({'framework': 'sklearn', 'task': 'classification'})"
   ]
  },
  {
   "cell_type": "markdown",
   "metadata": {
    "tags": []
   },
   "source": [
    "### Training model, logging parameters and logging model"
   ]
  },
  {
   "cell_type": "code",
   "execution_count": 47,
   "metadata": {},
   "outputs": [
    {
     "name": "stdout",
     "output_type": "stream",
     "text": [
      "{'C': 1.2, 'break_ties': False, 'cache_size': 200, 'class_weight': None, 'coef0': 0.0, 'decision_function_shape': 'ovr', 'degree': 3, 'gamma': 'scale', 'kernel': 'rbf', 'max_iter': -1, 'probability': True, 'random_state': None, 'shrinking': True, 'tol': 0.001, 'verbose': False}\n",
      "[mlfoundry] 2022-10-03T18:34:49+0530 INFO Parameters logged successfully\n",
      "[mlfoundry] 2022-10-03T18:34:50+0530 INFO Parameters logged successfully\n",
      "[mlfoundry] 2022-10-03T18:34:50+0530 INFO Logging model and additional files, this might take a while ...\n",
      "[mlfoundry] 2022-10-03T18:34:50+0530 INFO Serializing model files to model version contents\n",
      "[mlfoundry] 2022-10-03T18:34:51+0530 WARNING pid=96743 thread=MLFSenderThread:6a6db3d611af403899aeb16b78c46b7d Encountered an internal error while trying to consume: UNAUTHORIZED: failed to get user info\n",
      "[mlfoundry] 2022-10-03T18:34:52+0530 INFO Packaging and uploading files to remote ...\n",
      "[mlfoundry] 2022-10-03T18:35:00+0530 INFO Logged model successfully with fqn 'model:truefoundry/Nikhil/iris-clf-demo/iris-model-demo:2'\n",
      "model:truefoundry/Nikhil/iris-clf-demo/iris-model-demo:2\n",
      "[mlfoundry] 2022-10-03T18:35:52+0530 WARNING pid=96743 thread=MLFSenderThread:6a6db3d611af403899aeb16b78c46b7d Encountered an internal error while trying to consume: UNAUTHORIZED: failed to get user info\n"
     ]
    }
   ],
   "source": [
    "clf.fit(X_train, y_train)\n",
    "print(clf.get_params())\n",
    "run.log_params(clf.get_params())\n",
    "run.log_params({'classes': clf.classes_, 'features': clf.n_features_in_})\n",
    "model_version=run.log_model(\n",
    "    name=\"iris-model-demo\",\n",
    "    model=clf,\n",
    "    framework=mlf.ModelFramework.SKLEARN,\n",
    "    description=\"sklearn framework used\"\n",
    ")\n",
    "print(model_version.fqn)"
   ]
  },
  {
   "cell_type": "markdown",
   "metadata": {
    "tags": []
   },
   "source": [
    "### Computing predictions"
   ]
  },
  {
   "cell_type": "code",
   "execution_count": null,
   "metadata": {},
   "outputs": [],
   "source": [
    "# logging predictions\n",
    "y_pred_train = clf.predict(X_train)\n",
    "y_pred_test = clf.predict(X_test)"
   ]
  },
  {
   "cell_type": "markdown",
   "metadata": {
    "tags": []
   },
   "source": [
    "### Logging metrics"
   ]
  },
  {
   "cell_type": "code",
   "execution_count": null,
   "metadata": {},
   "outputs": [],
   "source": [
    "metrics = {\n",
    "    'train/accuracy_score': accuracy_score(y_train, y_pred_train),\n",
    "    'train/f1_weighted': f1_score(y_train, y_pred_train, average='weighted'),\n",
    "    'train/f1_mirco': f1_score(y_train, y_pred_train, average='micro'),\n",
    "    'train/f1_macro': f1_score(y_train, y_pred_train, average='macro'),\n",
    "    'test/accuracy_score': accuracy_score(y_test, y_pred_test),\n",
    "    'test/f1_weighted': f1_score(y_test, y_pred_test, average='weighted'),\n",
    "    'test/f1_mirco': f1_score(y_test, y_pred_test, average='micro'),\n",
    "    'test/f1_macro': f1_score(y_test, y_pred_test, average='macro'),\n",
    "}\n",
    "print('Metrics', metrics)\n",
    "run.log_metrics(metrics)"
   ]
  },
  {
   "cell_type": "markdown",
   "metadata": {
    "tags": []
   },
   "source": [
    "### Log the dataset"
   ]
  },
  {
   "cell_type": "code",
   "execution_count": null,
   "metadata": {},
   "outputs": [],
   "source": [
    "run.log_dataset(\n",
    "    dataset_name='train',\n",
    "    features=X_train,\n",
    "    predictions=y_pred_train,\n",
    "    actuals=y_train,\n",
    ")"
   ]
  },
  {
   "cell_type": "code",
   "execution_count": null,
   "metadata": {},
   "outputs": [],
   "source": [
    "run.log_dataset(\n",
    "    dataset_name='test',\n",
    "    features=X_test,\n",
    "    predictions=y_pred_test,\n",
    "    actuals=y_test,\n",
    ")"
   ]
  },
  {
   "cell_type": "code",
   "execution_count": null,
   "metadata": {},
   "outputs": [],
   "source": [
    "run.end()"
   ]
  },
  {
   "cell_type": "code",
   "execution_count": null,
   "metadata": {},
   "outputs": [],
   "source": []
  }
 ],
 "metadata": {
  "interpreter": {
   "hash": "32eca55f60ca0a4eb05caeb15f62cadd2ce358ded6aecd1922b0adda9a0225d5"
  },
  "kernelspec": {
   "display_name": "Python 3 (ipykernel)",
   "language": "python",
   "name": "python3"
  },
  "language_info": {
   "codemirror_mode": {
    "name": "ipython",
    "version": 3
   },
   "file_extension": ".py",
   "mimetype": "text/x-python",
   "name": "python",
   "nbconvert_exporter": "python",
   "pygments_lexer": "ipython3",
   "version": "3.8.13"
  }
 },
 "nbformat": 4,
 "nbformat_minor": 4
}
